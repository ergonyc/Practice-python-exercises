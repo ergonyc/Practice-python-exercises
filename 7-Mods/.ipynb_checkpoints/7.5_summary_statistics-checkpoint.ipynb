{
 "cells": [
  {
   "cell_type": "markdown",
   "metadata": {},
   "source": [
    "## Assignments\n",
    "\n",
    "Now that we have introduced some tools for describing populations, let's try them out. First do these drills by hand, then use the Python code we've provided in the previous assignments to check your work. Keep track of your work in a Google document or markdown file that you can submit below and share with your mentor.\n",
    "\n",
    " 1. Greg was 14, Marcia was 12, Peter was 11, Jan was 10, Bobby was 8, and Cindy was 6 when they started playing the Brady kids on The Brady Bunch.  Cousin Oliver was 8 years old when he joined the show. What are the mean, median, and mode of the kids' ages when they first appeared on the show? What are the variance, standard deviation, and standard error?\n",
    " 2. Using these estimates, if you had to choose only one estimate of central tendency and one estimate of variance to describe the data, which would you pick and why?\n",
    " 3. Next, Cindy has a birthday. Update your estimates- what changed, and what didn't?\n",
    " 4. Nobody likes Cousin Oliver. Maybe the network should have used an even younger actor. Replace Cousin Oliver with 1-year-old Jessica, then recalculate again.  Does this change your choice of central tendency or variance estimation methods?\n",
    " 5. On the 50th anniversary of The Brady Bunch, four different magazines asked their readers whether they were fans of the show.  The answers were:\n",
    "    TV Guide            20% fans\n",
    "    Entertainment Weekly    23% fans\n",
    "    Pop Culture Today       17% fans\n",
    "    SciPhi Phanatic     5% fans\n",
    "\n",
    " Based on these numbers, what percentage of adult American\n"
   ]
  },
  {
   "cell_type": "code",
   "execution_count": null,
   "metadata": {},
   "outputs": [],
   "source": []
  },
  {
   "cell_type": "code",
   "execution_count": 2,
   "metadata": {},
   "outputs": [
    {
     "name": "stdout",
     "output_type": "stream",
     "text": [
      "0    8\n",
      "dtype: int64\n",
      "mean:  9.857142857142858\n",
      "median:  10.0\n",
      "variance:  7.476190476190475\n",
      "standard deviation:  2.734262327610589\n",
      "standard error:  1.0334540197243192\n",
      "mode:  <bound method Series.mode of 0    14\n",
      "1    12\n",
      "     ..\n",
      "5     6\n",
      "6     8\n",
      "Name: age, Length: 7, dtype: int64>\n",
      "size: \\(is wierd\\) 7\n",
      "count:  7\n"
     ]
    }
   ],
   "source": [
    "import pandas as pd\n",
    "#import matplotlib.pyplot as plt\n",
    "\n",
    "pd.set_option(\"display.max_rows\", 5)\n",
    "\n",
    "\n",
    "# Make a blank data frame.\n",
    "df = pd.DataFrame()\n",
    "# Populate it with data.\n",
    "df['age'] = [14,12,11,10,8,6,8]\n",
    "df['name'] = ['Greg', 'Marcia', 'Peter', 'Jan', 'Bobby','Cindy','Oliver'] \n",
    "\n",
    "df.age.mode().describe()\n",
    "df.age.count()\n",
    "#df.age.len()\n",
    "print(df['age'].mode())\n",
    "\n",
    "print(\"mean: \",df.age.mean())\n",
    "print(\"median: \",df.age.median())\n",
    "print(\"variance: \",df.age.var())\n",
    "print(\"standard deviation: \",df.age.std())\n",
    "print(\"standard error: \",df.age.sem())\n",
    "print(\"mode: \",df.age.mode)\n",
    "print(\"size: \\(is wierd\\)\", df.age.size)\n",
    "print(\"count: \", df.age.count())\n"
   ]
  },
  {
   "cell_type": "markdown",
   "metadata": {},
   "source": [
    "## question 2\n",
    "\n",
    "I would use median and standard deviation as the most useful central tendency and variance to describe the data.  Median because ages are intuitive as whole numbers, and standard devation because it gives a good sense of the distribution of ages under a Normal hypothesis."
   ]
  },
  {
   "cell_type": "code",
   "execution_count": 4,
   "metadata": {},
   "outputs": [
    {
     "name": "stdout",
     "output_type": "stream",
     "text": [
      "0    8\n",
      "dtype: int64\n",
      "mean:  10.0\n",
      "median:  10.0\n",
      "variance:  6.333333333333333\n",
      "standard deviation:  2.516611478423583\n",
      "standard error:  0.9511897312113418\n",
      "mode:  <bound method Series.mode of 0    14\n",
      "1    12\n",
      "     ..\n",
      "5     7\n",
      "6     8\n",
      "Name: new_age, Length: 7, dtype: int64>\n",
      "size: \\(is wierd\\) 7\n",
      "count:  7\n"
     ]
    }
   ],
   "source": [
    "df['new_age'] = [14,12,11,10,8,7,8]\n",
    "\n",
    "df.new_age.mode().describe()\n",
    "df.new_age.count()\n",
    "#df.age.len()\n",
    "print(df['new_age'].mode())\n",
    "\n",
    "print(\"mean: \",df.new_age.mean())\n",
    "print(\"median: \",df.new_age.median())\n",
    "print(\"variance: \",df.new_age.var())\n",
    "print(\"standard deviation: \",df.new_age.std())\n",
    "print(\"standard error: \",df.new_age.sem())\n",
    "print(\"mode: \",df.new_age.mode)\n",
    "print(\"size: \\(is wierd\\)\", df.new_age.size)\n",
    "print(\"count: \", df.new_age.count())\n"
   ]
  },
  {
   "cell_type": "markdown",
   "metadata": {},
   "source": [
    "I still like to use the median as the central tendancy and standard deviation as the measure of spread, despite the changes."
   ]
  },
  {
   "cell_type": "code",
   "execution_count": 5,
   "metadata": {},
   "outputs": [
    {
     "name": "stdout",
     "output_type": "stream",
     "text": [
      "0     1\n",
      "1     7\n",
      "     ..\n",
      "5    12\n",
      "6    14\n",
      "Length: 7, dtype: int64\n",
      "mean:  9.0\n",
      "median:  10.0\n",
      "variance:  18.0\n",
      "standard deviation:  4.242640687119285\n",
      "standard error:  1.6035674514745462\n",
      "mode:  <bound method Series.mode of 0    14\n",
      "1    12\n",
      "     ..\n",
      "5     7\n",
      "6     1\n",
      "Name: new_age2, Length: 7, dtype: int64>\n",
      "size: \\(is wierd\\) 7\n",
      "count:  7\n"
     ]
    }
   ],
   "source": [
    "df['new_age2'] = [14,12,11,10,8,7,1]\n",
    "df['name'] = ['Greg', 'Marcia', 'Peter', 'Jan', 'Bobby','Cindy','Jessica'] \n",
    "\n",
    "\n",
    "df.new_age2.mode().describe()\n",
    "df.new_age2.count()\n",
    "#df.age.len()\n",
    "print(df['new_age2'].mode())\n",
    "\n",
    "print(\"mean: \",df.new_age2.mean())\n",
    "print(\"median: \",df.new_age2.median())\n",
    "print(\"variance: \",df.new_age2.var())\n",
    "print(\"standard deviation: \",df.new_age2.std())\n",
    "print(\"standard error: \",df.new_age2.sem())\n",
    "print(\"mode: \",df.new_age2.mode)\n",
    "print(\"size: \\(is wierd\\)\", df.new_age2.size)\n",
    "print(\"count: \", df.new_age2.count())"
   ]
  },
  {
   "cell_type": "code",
   "execution_count": null,
   "metadata": {},
   "outputs": [],
   "source": []
  },
  {
   "cell_type": "code",
   "execution_count": null,
   "metadata": {},
   "outputs": [],
   "source": []
  }
 ],
 "metadata": {
  "kernelspec": {
   "display_name": "Python 3",
   "language": "python",
   "name": "python3"
  },
  "language_info": {
   "codemirror_mode": {
    "name": "ipython",
    "version": 3
   },
   "file_extension": ".py",
   "mimetype": "text/x-python",
   "name": "python",
   "nbconvert_exporter": "python",
   "pygments_lexer": "ipython3",
   "version": "3.7.3"
  }
 },
 "nbformat": 4,
 "nbformat_minor": 2
}
