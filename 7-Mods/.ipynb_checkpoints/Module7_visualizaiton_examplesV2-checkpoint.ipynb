{
 "cells": [
  {
   "cell_type": "markdown",
   "metadata": {},
   "source": [
    "Summary\n",
    "This dataset (ml-20m) describes 5-star rating and free-text tagging activity from MovieLens, a movie recommendation service. It contains 20000263 ratings and 465564 tag applications across 27278 movies. These data were created by 138493 users between January 09, 1995 and March 31, 2015. This dataset was generated on October 17, 2016.\n",
    "\n",
    "Users were selected at random for inclusion. All selected users had rated at least 20 movies. No demographic information is included. Each user is represented by an id, and no other information is provided.\n",
    "\n",
    "The data are contained in six files, genome-scores.csv, genome-tags.csv, links.csv, movies.csv, ratings.csv and tags.csv. More details about the contents and use of all these files follows.\n",
    "\n",
    "This and other GroupLens data sets are publicly available for download at http://grouplens.org/datasets/.\n",
    "\n",
    "\n",
    "THis is where I start to explore the data.\n",
    "\n",
    "I will be using the MovieLens Dataset.\n",
    "\n",
    "CITATION:\n",
    "F. Maxwell Harper and Joseph A. Konstan. 2015. The MovieLens Datasets: History and Context. ACM Transactions on Interactive Intelligent Systems (TiiS) 5, 4, Article 19 (December 2015), 19 pages. DOI=http://dx.doi.org/10.1145/2827872\n",
    "\n",
    "Also see the MovieLens 20M YouTube Trailers Dataset for links between MovieLens movies and movie trailers hosted on YouTube.\n",
    "\n"
   ]
  },
  {
   "cell_type": "markdown",
   "metadata": {},
   "source": [
    "\n",
    "<h4>MovieLens 20M Dataset</h4>\n",
    "<!-- see https://developers.google.com/search/docs/data-types/dataset -->\n",
    "<article typeof=\"dcat:Dataset\">\n",
    "  <p>\n",
    "    <span property=\"dc:title\">MovieLens 20M</span> \n",
    "    <span rel=\"dc:subject\">movie ratings</span>.\n",
    "    <span property=\"dc:description\">Stable benchmark dataset. 20 million ratings and 465,000 tag applications applied to 27,000 movies by 138,000 users. Includes tag genome data with 12 million relevance scores across 1,100 tags. Released 4/2015; updated 10/2016 to update links.csv and add tag genome data.</span>\n",
    "  </p>\n",
    "  \n",
    "  <ul>\n",
    "    <li>\n",
    "      <a href=\"http://files.grouplens.org/datasets/movielens/ml-20m-README.html\">README.txt</a>\n",
    "    </li>\n",
    "    <li>\n",
    "      <a rel=\"dcat:distribution\" href=\"http://files.grouplens.org/datasets/movielens/ml-20m.zip\"><span property=\"dcat:mediaType\" content=\"application/zip\">ml-20m.zip</span></a> (size: 190 MB, <a href=\"http://files.grouplens.org/datasets/movielens/ml-20m.zip.md5\">checksum</a>)\n",
    "    </li>\n",
    "  </ul>\n",
    "  <p>\n",
    "  Also see the <a href=\"https://grouplens.org/datasets/movielens/20m-youtube/\">MovieLens 20M YouTube Trailers Dataset</a> for links between MovieLens movies and movie trailers hosted on YouTube.\n",
    "  </p>\n",
    "  <p>\n",
    "    Permalink:\n",
    "    <a href=\"https://grouplens.org/datasets/movielens/20m/\">https://grouplens.org/datasets/movielens/20m/</a>\n",
    "  </p>\n",
    "</article>\n"
   ]
  },
  {
   "cell_type": "code",
   "execution_count": null,
   "metadata": {},
   "outputs": [],
   "source": [
    "import os.path\n",
    "import matplotlib.pyplot as plt\n",
    "import numpy as np\n",
    "import pandas as pd\n",
    "\n",
    "DATAPATH = '/Users/ergonyc/Projects/Insight/Data'\n",
    "DATA_DIR = DATAPATH + '/ml-20m'\n",
    "MOVIE_CSV_FILE = os.path.join(DATA_DIR, 'movies.csv')\n",
    "RATINGS_CSV_FILE = os.path.join(DATA_DIR, 'ratings.csv')\n",
    "TAGS_CSV_FILE = os.path.join(DATA_DIR, 'tags.csv')\n",
    "LINKS_CSV_FILE = os.path.join(DATA_DIR, 'links.csv')\n",
    "\n",
    "pd.set_option(\"display.max_rows\", 5)\n",
    "\n",
    "\n"
   ]
  },
  {
   "cell_type": "code",
   "execution_count": null,
   "metadata": {},
   "outputs": [],
   "source": [
    "# Load movies data.\n",
    "movies = pd.read_csv(MOVIE_CSV_FILE, sep=',')\n",
    "\n",
    "# Clear the field genres\n",
    "movies['genres'] = np.where(movies['genres'] == '(no genres listed)', '', movies['genres'])\n",
    "movies.head()\n",
    "\n"
   ]
  },
  {
   "cell_type": "code",
   "execution_count": null,
   "metadata": {
    "collapsed": false,
    "editable": true
   },
   "outputs": [],
   "source": [
    "# Get genres list\n",
    "def get_genres(s):\n",
    "    if len(s) == 0:\n",
    "        return np.NaN\n",
    "    return s.split('|')\n",
    "\n",
    "genres_list = movies['genres'].apply(get_genres).dropna()\n",
    "genres = list(set().union(*list(genres_list)))\n",
    "print(genres)"
   ]
  },
  {
   "cell_type": "code",
   "execution_count": null,
   "metadata": {
    "collapsed": false,
    "editable": true
   },
   "outputs": [],
   "source": [
    "import re\n",
    "def get_year(s):\n",
    "    pattern = re.compile('^(.*) \\\\(([0-9\\-]*)\\\\)$')\n",
    "    result = pattern.match(s)\n",
    "    if result:\n",
    "        return int(result.group(2).split('-')[0])\n",
    "    else:\n",
    "        return np.NaN\n",
    "\n",
    "movies['year'] = movies['title'].apply(get_year)\n",
    "movies.head()"
   ]
  },
  {
   "cell_type": "code",
   "execution_count": null,
   "metadata": {
    "collapsed": false,
    "editable": true
   },
   "outputs": [],
   "source": [
    "tags = pd.read_csv(TAGS_CSV_FILE, sep=',')\n",
    "tags['datetime'] = tags['timestamp'].apply(pd.to_datetime, unit='s')\n",
    "tags.head()"
   ]
  },
  {
   "cell_type": "code",
   "execution_count": 6,
   "metadata": {
    "collapsed": false,
    "editable": true
   },
   "outputs": [
    {
     "data": {
      "text/html": [
       "<div>\n",
       "<style scoped>\n",
       "    .dataframe tbody tr th:only-of-type {\n",
       "        vertical-align: middle;\n",
       "    }\n",
       "\n",
       "    .dataframe tbody tr th {\n",
       "        vertical-align: top;\n",
       "    }\n",
       "\n",
       "    .dataframe thead th {\n",
       "        text-align: right;\n",
       "    }\n",
       "</style>\n",
       "<table border=\"1\" class=\"dataframe\">\n",
       "  <thead>\n",
       "    <tr style=\"text-align: right;\">\n",
       "      <th></th>\n",
       "      <th>movieId</th>\n",
       "      <th>imdbId</th>\n",
       "      <th>tmdbId</th>\n",
       "    </tr>\n",
       "  </thead>\n",
       "  <tbody>\n",
       "    <tr>\n",
       "      <th>0</th>\n",
       "      <td>1</td>\n",
       "      <td>114709</td>\n",
       "      <td>862.0</td>\n",
       "    </tr>\n",
       "    <tr>\n",
       "      <th>1</th>\n",
       "      <td>2</td>\n",
       "      <td>113497</td>\n",
       "      <td>8844.0</td>\n",
       "    </tr>\n",
       "    <tr>\n",
       "      <th>2</th>\n",
       "      <td>3</td>\n",
       "      <td>113228</td>\n",
       "      <td>15602.0</td>\n",
       "    </tr>\n",
       "    <tr>\n",
       "      <th>3</th>\n",
       "      <td>4</td>\n",
       "      <td>114885</td>\n",
       "      <td>31357.0</td>\n",
       "    </tr>\n",
       "    <tr>\n",
       "      <th>4</th>\n",
       "      <td>5</td>\n",
       "      <td>113041</td>\n",
       "      <td>11862.0</td>\n",
       "    </tr>\n",
       "  </tbody>\n",
       "</table>\n",
       "</div>"
      ],
      "text/plain": [
       "   movieId  imdbId   tmdbId\n",
       "0        1  114709    862.0\n",
       "1        2  113497   8844.0\n",
       "2        3  113228  15602.0\n",
       "3        4  114885  31357.0\n",
       "4        5  113041  11862.0"
      ]
     },
     "execution_count": 6,
     "metadata": {},
     "output_type": "execute_result"
    }
   ],
   "source": [
    "links = pd.read_csv(LINKS_CSV_FILE, sep=',')\n",
    "links.head()"
   ]
  },
  {
   "cell_type": "code",
   "execution_count": null,
   "metadata": {
    "collapsed": false,
    "editable": true
   },
   "outputs": [],
   "source": [
    "ratings = pd.read_csv(RATINGS_CSV_FILE, sep=',')\n",
    "ratings['datetime'] = ratings['timestamp'].apply(pd.to_datetime, unit='s')\n",
    "ratings.head()"
   ]
  },
  {
   "cell_type": "code",
   "execution_count": null,
   "metadata": {},
   "outputs": [],
   "source": []
  },
  {
   "cell_type": "code",
   "execution_count": null,
   "metadata": {},
   "outputs": [],
   "source": []
  },
  {
   "cell_type": "code",
   "execution_count": null,
   "metadata": {},
   "outputs": [],
   "source": []
  },
  {
   "cell_type": "markdown",
   "metadata": {},
   "source": [
    "# stub for world happiness report... (SUICIDED DATA SET)\n",
    "\n",
    "DATAPATH = '/Users/ergonyc/Projects/Insight/Data'\n",
    "DATA_DIR = DATAPATH + '/world-happiness-report'\n",
    "\n",
    "YEAR015_FILE = os.path.join(DATA_DIR, '2015.csv')\n",
    "YEAR016_FILE = os.path.join(DATA_DIR, '2016.csv')\n",
    "YEAR017_FILE = os.path.join(DATA_DIR, '2017.csv')\n"
   ]
  },
  {
   "cell_type": "code",
   "execution_count": null,
   "metadata": {},
   "outputs": [],
   "source": [
    "# Load suicide data.\n",
    "year15 = pd.read_csv(YEAR015_FILE, sep=',')\n",
    "year16 = pd.read_csv(YEAR016_FILE, sep=',')\n",
    "year17 = pd.read_csv(YEAR017_FILE, sep=',')\n"
   ]
  }
 ],
 "metadata": {
  "kernelspec": {
   "display_name": "Python 3",
   "language": "python",
   "name": "python3"
  },
  "language_info": {
   "codemirror_mode": {
    "name": "ipython",
    "version": 3
   },
   "file_extension": ".py",
   "mimetype": "text/x-python",
   "name": "python",
   "nbconvert_exporter": "python",
   "pygments_lexer": "ipython3",
   "version": "3.7.3"
  }
 },
 "nbformat": 4,
 "nbformat_minor": 2
}
