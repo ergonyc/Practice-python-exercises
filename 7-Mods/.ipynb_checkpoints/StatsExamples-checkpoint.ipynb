{
 "cells": [
  {
   "cell_type": "raw",
   "metadata": {},
   "source": [
    "\n"
   ]
  },
  {
   "cell_type": "raw",
   "metadata": {},
   "source": []
  },
  {
   "cell_type": "code",
   "execution_count": 5,
   "metadata": {},
   "outputs": [
    {
     "data": {
      "text/plain": [
       "80.9375"
      ]
     },
     "execution_count": 5,
     "metadata": {},
     "output_type": "execute_result"
    }
   ],
   "source": [
    "\n",
    "import pandas as pd\n",
    "import matplotlib.pyplot as plt\n",
    "\n",
    "# Make a blank data frame.\n",
    "df = pd.DataFrame()\n",
    "\n",
    "# Populate it with data.\n",
    "df['age'] = [28, 42, 27, 24, 35, 54, 35, 37]\n",
    "\n",
    "\n",
    "# Vanilla Python, using the built-in statistics module.\n",
    "import statistics\n",
    "\n",
    "\n",
    "# Using NumPy.\n",
    "import numpy as np\n",
    "\n",
    "np.median(df['age'])\n",
    "\n",
    "\n",
    "\n",
    "\n",
    "\n",
    "df['age'].var()\n",
    "np.var(df.age)\n",
    "\n"
   ]
  },
  {
   "cell_type": "markdown",
   "metadata": {},
   "source": [
    "\n",
    "### Mode\n",
    "\n",
    "The *mode* represents the value in a variable that occurs the most frequently.\n",
    "\n",
    "# Return the mode using the statistics module.\n",
    "import statistics\n",
    "statistics.mode(df['age'])\n",
    "\n",
    "If two or more values in a variable occur with equal frequency, there will be multiple modes. Note the code above will raise a `StatisticsError` if you run it on data containing multiple modes. Receiving this error, or generating and inspecting a list of counts beforehand, will show whether there is more than one mode to look for.\n",
    "\n",
    "# Generate a list of unique elements along with how often they occur.\n",
    "(values, counts) = np.unique(df['age'], return_counts=True)\n",
    "\n",
    "# The location in the values list of the most-frequently-occurring element.\n",
    "ind = np.argmax(counts)\n",
    "\n",
    "# The most frequent element.\n",
    "values[ind]\n"
   ]
  },
  {
   "cell_type": "code",
   "execution_count": 6,
   "metadata": {},
   "outputs": [
    {
     "data": {
      "image/png": "[encoded data removed]",
      "text/plain": [
       "<Figure size 432x288 with 2 Axes>"
      ]
     },
     "metadata": {
      "needs_background": "light"
     },
     "output_type": "display_data"
    },
    {
     "name": "stdout",
     "output_type": "stream",
     "text": [
      "low_var     101.514986\n",
      "high_var    416.782454\n",
      "dtype: float64\n",
      "low_var      23.819274\n",
      "high_var   -365.193004\n",
      "dtype: float64\n"
     ]
    },
    {
     "data": {
      "image/png": "[encoded data removed]",
      "text/plain": [
       "<Figure size 432x288 with 2 Axes>"
      ]
     },
     "metadata": {
      "needs_background": "light"
     },
     "output_type": "display_data"
    },
    {
     "data": {
      "text/plain": [
       "low_var       8.787769\n",
       "high_var    101.025572\n",
       "dtype: float64"
      ]
     },
     "execution_count": 6,
     "metadata": {},
     "output_type": "execute_result"
    }
   ],
   "source": [
    "\n",
    "# First, create an empty dataframe to store your variables-to-be.\n",
    "pop=pd.DataFrame()\n",
    "\n",
    "# Then create two variables with mean = 60, one with a low standard\n",
    "# deviation (sd=10) and one with a high standard deviation (sd=100).\n",
    "pop['low_var']=np.random.normal(60, 10, 10000)\n",
    "pop['high_var']=np.random.normal(60, 100, 10000)\n",
    "\n",
    "# Finally, create histograms of the two variables.\n",
    "pop.hist(layout=(2, 1), sharex=True)\n",
    "plt.show()\n",
    "\n",
    "# Calculate and print the maximum and minimum values for each variable.\n",
    "print(pop.max())\n",
    "print(pop.min())\n",
    "\n",
    "\n",
    "\n",
    "# Take a random sample of 100 observations from each variable\n",
    "# and store it in a new dataframe.\n",
    "sample=pd.DataFrame()\n",
    "sample['low_var'] = np.random.choice(pop['low_var'], 100)\n",
    "sample['high_var']=np.random.choice(pop['high_var'], 100)\n",
    "\n",
    "# Again, visualize the data. Note that here we're using a pandas method to \n",
    "# create the histogram.\n",
    "sample.hist()\n",
    "plt.show()\n",
    "\n",
    "# Check how well the sample replicates the population.\n",
    "sample.mean()\n",
    "sample.std(ddof=1)\n",
    "\n",
    "\n",
    "\n",
    "\n"
   ]
  },
  {
   "cell_type": "code",
   "execution_count": 7,
   "metadata": {},
   "outputs": [
    {
     "data": {
      "text/plain": [
       "female    100\n",
       "male      100\n",
       "Name: gender, dtype: int64"
      ]
     },
     "execution_count": 7,
     "metadata": {},
     "output_type": "execute_result"
    }
   ],
   "source": [
    "\n",
    "import numpy as np\n",
    "import pandas as pd\n",
    "%matplotlib inline\n",
    "\n",
    "\n",
    "# Set up the data\n",
    "data = pd.DataFrame()\n",
    "data['gender'] = ['male'] * 100 + ['female'] * 100\n",
    "data['height'] = np.append(np.random.normal(69, 8, 100), np.random.normal(64, 5, 100))\n",
    "data['weight'] = np.append(np.random.normal(195, 25, 100), np.random.normal(166, 15, 100))\n",
    "\n",
    "data.head()\n",
    "\n",
    "\n",
    "\n",
    "data.height.mean()\n",
    "\n",
    "data.height.std()\n",
    "\n",
    "\n",
    "data.describe()\n",
    "\n",
    "\n",
    "data.groupby('gender').describe()\n",
    "\n",
    "\n",
    "data.gender.value_counts()"
   ]
  },
  {
   "cell_type": "code",
   "execution_count": 8,
   "metadata": {},
   "outputs": [
    {
     "data": {
      "text/plain": [
       "146.595808    1\n",
       "159.493284    1\n",
       "212.763388    1\n",
       "170.508295    1\n",
       "170.544368    1\n",
       "Name: weight, dtype: int64"
      ]
     },
     "execution_count": 8,
     "metadata": {},
     "output_type": "execute_result"
    }
   ],
   "source": [
    "\n",
    "data.weight.value_counts().head()\n",
    "\n"
   ]
  },
  {
   "cell_type": "markdown",
   "metadata": {},
   "source": [
    "\n",
    "As you can see, it's not useful because we're dealing with truly continuous random data, so no value is exactly repeated. We simply get a list of all the values with a count of 1 for each.\n",
    "\n",
    "However, these two methods, `.describe()` and `.value_counts()`, do often provide incredibly easy and valuable insights into your dataset. You'll want to use them throughout the course as one of the ways to get a first, quick sense of the data before digging in more specifically on points of interest.\n"
   ]
  },
  {
   "cell_type": "code",
   "execution_count": 9,
   "metadata": {},
   "outputs": [
    {
     "data": {
      "text/html": [
       "<div>\n",
       "<style scoped>\n",
       "    .dataframe tbody tr th:only-of-type {\n",
       "        vertical-align: middle;\n",
       "    }\n",
       "\n",
       "    .dataframe tbody tr th {\n",
       "        vertical-align: top;\n",
       "    }\n",
       "\n",
       "    .dataframe thead th {\n",
       "        text-align: right;\n",
       "    }\n",
       "</style>\n",
       "<table border=\"1\" class=\"dataframe\">\n",
       "  <thead>\n",
       "    <tr style=\"text-align: right;\">\n",
       "      <th></th>\n",
       "      <th>gender</th>\n",
       "      <th>height</th>\n",
       "      <th>weight</th>\n",
       "    </tr>\n",
       "  </thead>\n",
       "  <tbody>\n",
       "    <tr>\n",
       "      <th>0</th>\n",
       "      <td>male</td>\n",
       "      <td>73.583361</td>\n",
       "      <td>263.252331</td>\n",
       "    </tr>\n",
       "    <tr>\n",
       "      <th>1</th>\n",
       "      <td>male</td>\n",
       "      <td>49.332888</td>\n",
       "      <td>236.589039</td>\n",
       "    </tr>\n",
       "    <tr>\n",
       "      <th>2</th>\n",
       "      <td>male</td>\n",
       "      <td>79.401059</td>\n",
       "      <td>149.594413</td>\n",
       "    </tr>\n",
       "    <tr>\n",
       "      <th>3</th>\n",
       "      <td>male</td>\n",
       "      <td>61.427126</td>\n",
       "      <td>213.522909</td>\n",
       "    </tr>\n",
       "    <tr>\n",
       "      <th>4</th>\n",
       "      <td>male</td>\n",
       "      <td>70.647197</td>\n",
       "      <td>202.425241</td>\n",
       "    </tr>\n",
       "  </tbody>\n",
       "</table>\n",
       "</div>"
      ],
      "text/plain": [
       "  gender     height      weight\n",
       "0   male  73.583361  263.252331\n",
       "1   male  49.332888  236.589039\n",
       "2   male  79.401059  149.594413\n",
       "3   male  61.427126  213.522909\n",
       "4   male  70.647197  202.425241"
      ]
     },
     "execution_count": 9,
     "metadata": {},
     "output_type": "execute_result"
    }
   ],
   "source": [
    "\n",
    "import numpy as np\n",
    "import pandas as pd\n",
    "%matplotlib inline\n",
    "\n",
    "# Set up the data\n",
    "data = pd.DataFrame()\n",
    "data['gender'] = ['male'] * 100 + ['female'] * 100\n",
    "data['height'] = np.append(np.random.normal(69, 8, 100), np.random.normal(64, 5, 100))\n",
    "data['weight'] = np.append(np.random.normal(195, 25, 100), np.random.normal(166, 15, 100))\n",
    "\n",
    "data.head()"
   ]
  },
  {
   "cell_type": "markdown",
   "metadata": {},
   "source": [
    "## Assignments\n",
    "\n",
    "Now that we have introduced some tools for describing populations, let's try them out. First do these drills by hand, then use the Python code we've provided in the previous assignments to check your work. Keep track of your work in a Google document or markdown file that you can submit below and share with your mentor.\n",
    "\n",
    " 1. Greg was 14, Marcia was 12, Peter was 11, Jan was 10, Bobby was 8, and Cindy was 6 when they started playing the Brady kids on The Brady Bunch.  Cousin Oliver was 8 years old when he joined the show. What are the mean, median, and mode of the kids' ages when they first appeared on the show? What are the variance, standard deviation, and standard error?\n",
    " 2. Using these estimates, if you had to choose only one estimate of central tendency and one estimate of variance to describe the data, which would you pick and why?\n",
    " 3. Next, Cindy has a birthday. Update your estimates- what changed, and what didn't?\n",
    " 4. Nobody likes Cousin Oliver. Maybe the network should have used an even younger actor. Replace Cousin Oliver with 1-year-old Jessica, then recalculate again.  Does this change your choice of central tendency or variance estimation methods?\n",
    " 5. On the 50th anniversary of The Brady Bunch, four different magazines asked their readers whether they were fans of the show.  The answers were:\n",
    "    TV Guide            20% fans\n",
    "    Entertainment Weekly    23% fans\n",
    "    Pop Culture Today       17% fans\n",
    "    SciPhi Phanatic     5% fans\n",
    "\n",
    " Based on these numbers, what percentage of adult Americans would you estimate were Brady Bunch fans on the 50th anniversary of the show?\n",
    "\n",
    "Discuss your answer to each of these questions, along with your code, with your mentor."
   ]
  },
  {
   "cell_type": "code",
   "execution_count": null,
   "metadata": {},
   "outputs": [],
   "source": []
  }
 ],
 "metadata": {
  "kernelspec": {
   "display_name": "Python 3",
   "language": "python",
   "name": "python3"
  },
  "language_info": {
   "codemirror_mode": {
    "name": "ipython",
    "version": 3
   },
   "file_extension": ".py",
   "mimetype": "text/x-python",
   "name": "python",
   "nbconvert_exporter": "python",
   "pygments_lexer": "ipython3",
   "version": "3.7.3"
  }
 },
 "nbformat": 4,
 "nbformat_minor": 2
}
