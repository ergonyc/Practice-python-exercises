{
 "cells": [
  {
   "cell_type": "markdown",
   "metadata": {},
   "source": [
    "# Coal Mining \n",
    "Coal mining data from eia.gov\n",
    "\n",
    "Combining and cleaning the raw csv files into a cleaned data set and coherent database.\n",
    "\n",
    "Generally a good idea to have a separate data folder with the raw data.\n",
    "\n",
    "When you clean the raw data, leave the raw in place, and create cleaned version with the steps included (ideal situation for Notebook). "
   ]
  },
  {
   "cell_type": "code",
   "execution_count": 1,
   "metadata": {
    "collapsed": false
   },
   "outputs": [],
   "source": [
    "%matplotlib inline\n",
    "import matplotlib.pyplot as plt\n",
    "import seaborn as sns\n",
    "sns.set()\n",
    "\n",
    "import numpy as np\n",
    "import pandas as pd"
   ]
  },
  {
   "cell_type": "code",
   "execution_count": 2,
   "metadata": {
    "collapsed": false
   },
   "outputs": [],
   "source": [
    "df = pd.DataFrame.from_csv(\"../data/coal_prod_cleaned.csv\")"
   ]
  },
  {
   "cell_type": "code",
   "execution_count": 3,
   "metadata": {
    "collapsed": false
   },
   "outputs": [
    {
     "data": {
      "text/html": [
       "<div>\n",
       "<table border=\"1\" class=\"dataframe\">\n",
       "  <thead>\n",
       "    <tr style=\"text-align: right;\">\n",
       "      <th></th>\n",
       "      <th>Average_Employees</th>\n",
       "      <th>Company_Type</th>\n",
       "      <th>Labor_Hours</th>\n",
       "      <th>Mine_Basin</th>\n",
       "      <th>Mine_County</th>\n",
       "      <th>Mine_Name</th>\n",
       "      <th>Mine_State</th>\n",
       "      <th>Mine_Status</th>\n",
       "      <th>Mine_Type</th>\n",
       "      <th>Operating_Company</th>\n",
       "      <th>Operating_Company_Address</th>\n",
       "      <th>Operation_Type</th>\n",
       "      <th>Production_short_tons</th>\n",
       "      <th>Union_Code</th>\n",
       "      <th>Year</th>\n",
       "    </tr>\n",
       "    <tr>\n",
       "      <th>MSHA_ID</th>\n",
       "      <th></th>\n",
       "      <th></th>\n",
       "      <th></th>\n",
       "      <th></th>\n",
       "      <th></th>\n",
       "      <th></th>\n",
       "      <th></th>\n",
       "      <th></th>\n",
       "      <th></th>\n",
       "      <th></th>\n",
       "      <th></th>\n",
       "      <th></th>\n",
       "      <th></th>\n",
       "      <th></th>\n",
       "      <th></th>\n",
       "    </tr>\n",
       "  </thead>\n",
       "  <tbody>\n",
       "    <tr>\n",
       "      <th>102838</th>\n",
       "      <td>4</td>\n",
       "      <td>Independent Producer Operator</td>\n",
       "      <td>2712</td>\n",
       "      <td>Appalachia Southern</td>\n",
       "      <td>Bibb</td>\n",
       "      <td>Hebron Mine</td>\n",
       "      <td>Alabama</td>\n",
       "      <td>Permanently abandoned</td>\n",
       "      <td>Surface</td>\n",
       "      <td>Birmingham Coal &amp; Coke Company</td>\n",
       "      <td>2477 Valleydale Rd. S. B3, Birmingham, AL 35244</td>\n",
       "      <td>Mine only</td>\n",
       "      <td>10572</td>\n",
       "      <td>NaN</td>\n",
       "      <td>2002</td>\n",
       "    </tr>\n",
       "    <tr>\n",
       "      <th>103184</th>\n",
       "      <td>5</td>\n",
       "      <td>Independent Producer Operator</td>\n",
       "      <td>2480</td>\n",
       "      <td>Appalachia Southern</td>\n",
       "      <td>Fayette</td>\n",
       "      <td>Berry Mine</td>\n",
       "      <td>Alabama</td>\n",
       "      <td>Temporarily closed</td>\n",
       "      <td>Surface</td>\n",
       "      <td>Midas Coal Company Incorporate</td>\n",
       "      <td>401 10th Avenue, S. E, Cullman, AL 35055</td>\n",
       "      <td>Mine only</td>\n",
       "      <td>9725</td>\n",
       "      <td>NaN</td>\n",
       "      <td>2002</td>\n",
       "    </tr>\n",
       "    <tr>\n",
       "      <th>100329</th>\n",
       "      <td>55</td>\n",
       "      <td>Operating Subsidiary</td>\n",
       "      <td>123618</td>\n",
       "      <td>Appalachia Southern</td>\n",
       "      <td>Jefferson</td>\n",
       "      <td>Concord Mine</td>\n",
       "      <td>Alabama</td>\n",
       "      <td>Active</td>\n",
       "      <td>Underground</td>\n",
       "      <td>U S Steel Mining Company Llc</td>\n",
       "      <td>8800 Oak Grove Mine Road, Adger, AL 35006</td>\n",
       "      <td>Preparation Plant</td>\n",
       "      <td>0</td>\n",
       "      <td>United Mine Workers of America</td>\n",
       "      <td>2002</td>\n",
       "    </tr>\n",
       "    <tr>\n",
       "      <th>100851</th>\n",
       "      <td>331</td>\n",
       "      <td>Operating Subsidiary</td>\n",
       "      <td>748182</td>\n",
       "      <td>Appalachia Southern</td>\n",
       "      <td>Jefferson</td>\n",
       "      <td>Oak Grove Mine</td>\n",
       "      <td>Alabama</td>\n",
       "      <td>Active</td>\n",
       "      <td>Underground</td>\n",
       "      <td>U S Steel Mining Company Llc</td>\n",
       "      <td>8800 Oak Grove Mine Rd, Adger, AL 35006</td>\n",
       "      <td>Mine only</td>\n",
       "      <td>1942153</td>\n",
       "      <td>United Mine Workers of America</td>\n",
       "      <td>2002</td>\n",
       "    </tr>\n",
       "    <tr>\n",
       "      <th>102354</th>\n",
       "      <td>28</td>\n",
       "      <td>Independent Producer Operator</td>\n",
       "      <td>55306</td>\n",
       "      <td>Appalachia Southern</td>\n",
       "      <td>Jefferson</td>\n",
       "      <td>Lindbergh</td>\n",
       "      <td>Alabama</td>\n",
       "      <td>Active</td>\n",
       "      <td>Surface</td>\n",
       "      <td>C &amp; H Mining Company Inc</td>\n",
       "      <td>P.O. Box 70250, Tuscaloosa, AL 35407</td>\n",
       "      <td>Mine only</td>\n",
       "      <td>168446</td>\n",
       "      <td>NaN</td>\n",
       "      <td>2002</td>\n",
       "    </tr>\n",
       "  </tbody>\n",
       "</table>\n",
       "</div>"
      ],
      "text/plain": [
       "         Average_Employees                   Company_Type  Labor_Hours  \\\n",
       "MSHA_ID                                                                  \n",
       "102838                   4  Independent Producer Operator         2712   \n",
       "103184                   5  Independent Producer Operator         2480   \n",
       "100329                  55           Operating Subsidiary       123618   \n",
       "100851                 331           Operating Subsidiary       748182   \n",
       "102354                  28  Independent Producer Operator        55306   \n",
       "\n",
       "                  Mine_Basin Mine_County       Mine_Name Mine_State  \\\n",
       "MSHA_ID                                                               \n",
       "102838   Appalachia Southern        Bibb     Hebron Mine    Alabama   \n",
       "103184   Appalachia Southern     Fayette      Berry Mine    Alabama   \n",
       "100329   Appalachia Southern   Jefferson    Concord Mine    Alabama   \n",
       "100851   Appalachia Southern   Jefferson  Oak Grove Mine    Alabama   \n",
       "102354   Appalachia Southern   Jefferson       Lindbergh    Alabama   \n",
       "\n",
       "                   Mine_Status    Mine_Type               Operating_Company  \\\n",
       "MSHA_ID                                                                       \n",
       "102838   Permanently abandoned      Surface  Birmingham Coal & Coke Company   \n",
       "103184      Temporarily closed      Surface  Midas Coal Company Incorporate   \n",
       "100329                  Active  Underground    U S Steel Mining Company Llc   \n",
       "100851                  Active  Underground    U S Steel Mining Company Llc   \n",
       "102354                  Active      Surface        C & H Mining Company Inc   \n",
       "\n",
       "                               Operating_Company_Address     Operation_Type  \\\n",
       "MSHA_ID                                                                       \n",
       "102838   2477 Valleydale Rd. S. B3, Birmingham, AL 35244          Mine only   \n",
       "103184          401 10th Avenue, S. E, Cullman, AL 35055          Mine only   \n",
       "100329         8800 Oak Grove Mine Road, Adger, AL 35006  Preparation Plant   \n",
       "100851           8800 Oak Grove Mine Rd, Adger, AL 35006          Mine only   \n",
       "102354              P.O. Box 70250, Tuscaloosa, AL 35407          Mine only   \n",
       "\n",
       "         Production_short_tons                      Union_Code  Year  \n",
       "MSHA_ID                                                               \n",
       "102838                   10572                             NaN  2002  \n",
       "103184                    9725                             NaN  2002  \n",
       "100329                       0  United Mine Workers of America  2002  \n",
       "100851                 1942153  United Mine Workers of America  2002  \n",
       "102354                  168446                             NaN  2002  "
      ]
     },
     "execution_count": 3,
     "metadata": {},
     "output_type": "execute_result"
    }
   ],
   "source": [
    "df.head()"
   ]
  },
  {
   "cell_type": "code",
   "execution_count": null,
   "metadata": {
    "collapsed": true
   },
   "outputs": [],
   "source": []
  },
  {
   "cell_type": "code",
   "execution_count": null,
   "metadata": {
    "collapsed": true
   },
   "outputs": [],
   "source": []
  },
  {
   "cell_type": "code",
   "execution_count": null,
   "metadata": {
    "collapsed": true
   },
   "outputs": [],
   "source": []
  },
  {
   "cell_type": "code",
   "execution_count": null,
   "metadata": {
    "collapsed": true
   },
   "outputs": [],
   "source": []
  }
 ],
 "metadata": {
  "kernelspec": {
   "display_name": "Python 2",
   "language": "python",
   "name": "python2"
  },
  "language_info": {
   "codemirror_mode": {
    "name": "ipython",
    "version": 2
   },
   "file_extension": ".py",
   "mimetype": "text/x-python",
   "name": "python",
   "nbconvert_exporter": "python",
   "pygments_lexer": "ipython2",
   "version": "2.7.10"
  }
 },
 "nbformat": 4,
 "nbformat_minor": 0
}
