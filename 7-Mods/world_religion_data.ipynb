{
 "cells": [
  {
   "cell_type": "markdown",
   "metadata": {},
   "source": [
    "## World Religion Data (v1.1)\n",
    "# Overview\n",
    "The World Religion Project (WRP) aims to provide detailed information about religious adherence worldwide from 1945 to 2010. It contains data about the number of adherents by religion in each of the states in the international system. These numbers are given for every half-decade period (1945, 1950,..., 2010). The data record percentages of the state's population that practice a given religion. Some of the religions (as detailed in the Codebook) are divided into religious families. To the extent data are available, the breakdown of adherents within a given religion into religious families is also specified in the Codebook.\n",
    "\n",
    "The project was developed in three stages. The first stage consisted of the formation of a religions tree. A religion tree is a systematic classification of major religions and of religious families within those major religions. The second stage consisted of the identification of major data sources of religious adherence and the collection of data from these sources according to the religion tree classification. The third stage consisted of cleaning the data, reconciling discrepancies of information from different sources, and imputing data for the missing cases.\n",
    " \n",
    "\n",
    "# Citation\n",
    "In any papers or publications that utilize this data set, users are asked to give the version number and cite the documentation for the data set, as follows:\n",
    " Zeev Maoz and Errol A. Henderson. 2013. “The World Religion Dataset, 1945-2010: Logic, Estimates, and Trends.” International Interactions, 39: 265-291. \n",
    "\n",
    "# Data Set\n",
    "The WRP contains three datasets: the national religion dataset, the regional religion dataset, and the global religion dataset.\n",
    " \n",
    "\n",
    "The National Religion Dataset. The unit of analysis in this dataset is the individual state, observed at five-year intervals. This dataset provides information regarding the number of adherents by religion, as well as the percent of the state's population practicing a given religion.\n",
    " \n",
    "\n",
    "The Regional Religion Dataset. The unit of analysis in this dataset is the region, observed at five-year intervals. This dataset utilizes the COW regional designations with one modification: the Oceania category for COW country code numbers 900 and above.\n",
    " \n",
    "\n",
    "The Global Religion Dataset. The unit of analysis in this dataset is the global system, observed at five-year intervals. This dataset aggregates the number of adherents of a given religion and religious group for all states, globally.\n",
    " \n",
    "\n"
   ]
  },
  {
   "cell_type": "code",
   "execution_count": null,
   "metadata": {},
   "outputs": [],
   "source": []
  }
 ],
 "metadata": {
  "kernelspec": {
   "display_name": "Python 3",
   "language": "python",
   "name": "python3"
  },
  "language_info": {
   "codemirror_mode": {
    "name": "ipython",
    "version": 3
   },
   "file_extension": ".py",
   "mimetype": "text/x-python",
   "name": "python",
   "nbconvert_exporter": "python",
   "pygments_lexer": "ipython3",
   "version": "3.7.3"
  }
 },
 "nbformat": 4,
 "nbformat_minor": 2
}
