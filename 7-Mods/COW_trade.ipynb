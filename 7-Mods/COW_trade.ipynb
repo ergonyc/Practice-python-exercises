{
 "cells": [
  {
   "cell_type": "markdown",
   "metadata": {},
   "source": [
    "##  (v4.0)\n",
    "This data set tracks total national trade and bilateral trade flows between states from 1870-2014. This data set is hosted by Katherine Barbieri, University of South Carolina, and Omar Keshk, Ohio State University.\n",
    "International Trade, 1870-2014 (v4.0)\n",
    "Overview \n",
    "The trade dataset is the result of the effort to code trade flows between states (as defined by the Correlates of War project) for the period 1870-2014. The data include information on both bilateral trade flows and total national imports and exports. The dyadic trade dataset describes import and export data in current U.S. dollars for pairs of sovereign states. The National (Monadic) Trade dataset contains information on individual states import and export levels in current U.S. dollars. \n",
    "\n",
    "\n",
    "# Citation \n",
    "In any papers or publications that utilize this data set, users are asked to give the version number and cite data set, as follows:\n",
    "\n",
    "Barbieri, Katherine and Omar M. G. Omar Keshk. 2016. Correlates of War Project Trade Data Set Codebook, Version 4.0. Online: http://correlatesofwar.org. \n",
    "\n",
    "Barbieri, Katherine, Omar M. G. Keshk, and Brian Pollins. 2009. “TRADING DATA: Evaluating our Assumptions and Coding Rules.” Conflict Management and Peace Science. 26(5): 471-491.\n",
    "\n",
    "# Data Set\n",
    "Version 4.0 of the trade is available in one zip file, which includes the national and dyadic data and the codebook. \n",
    "1. Dyadic Trade: Bilateral trade flow data\n",
    "\n",
    "2. National Trade: National import and export data\n",
    "\n",
    "3. Trade Codebook 4.0: Codebook discussing file format, procedures, descriptive statistics, and references\n",
    "\n",
    "COW_Trade_4.0\n",
    "This file was downloaded 12502 times.\n",
    " Zip archive icon COW_Trade_4.0.zip — Zip archive, 12093 kB (12383657 bytes)"
   ]
  },
  {
   "cell_type": "code",
   "execution_count": null,
   "metadata": {},
   "outputs": [],
   "source": []
  }
 ],
 "metadata": {
  "kernelspec": {
   "display_name": "Python 3",
   "language": "python",
   "name": "python3"
  },
  "language_info": {
   "codemirror_mode": {
    "name": "ipython",
    "version": 3
   },
   "file_extension": ".py",
   "mimetype": "text/x-python",
   "name": "python",
   "nbconvert_exporter": "python",
   "pygments_lexer": "ipython3",
   "version": "3.7.3"
  }
 },
 "nbformat": 4,
 "nbformat_minor": 2
}
