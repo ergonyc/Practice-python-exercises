{
 "cells": [
  {
   "cell_type": "markdown",
   "metadata": {},
   "source": [
    "## SIMPLIFIED StackOverFlow Developer Survey Analysis"
   ]
  },
  {
   "cell_type": "code",
   "execution_count": 2,
   "metadata": {
    "slideshow": {
     "slide_type": "slide"
    }
   },
   "outputs": [],
   "source": [
    "import pandas as pd\n",
    "from pathlib import Path\n",
    "from datetime import datetime\n",
    "import requests\n",
    "import zipfile\n",
    "import shutil\n",
    "import os\n",
    "\n",
    "import numpy as np\n",
    "import matplotlib.pyplot as plt"
   ]
  },
  {
   "cell_type": "code",
   "execution_count": 3,
   "metadata": {},
   "outputs": [],
   "source": [
    "# filter the warning for now on\n",
    "#import warnings\n",
    "#warnings.simplefilter(\"ignore\", DeprecationWarning)\n",
    "\n",
    "# new way to create an ordered category\n",
    "from pandas.api.types import CategoricalDtype"
   ]
  },
  {
   "cell_type": "markdown",
   "metadata": {},
   "source": [
    "## OVERVIEW"
   ]
  },
  {
   "cell_type": "markdown",
   "metadata": {},
   "source": [
    "As the business world adapts to the massive disrutption of internet and the consumer epxectations driven by unleashed by the first movers and innovators in Tech, DATA SCIENTISTS have become hightly sought after.  This has made it a very attractive career building on the customs and tools pioneered by individuals in Academic Science and Computer Programming disciplines. \n",
    "\n",
    "QUESTION: Data Science is a hot field, however, are the people doing \"the best job in America\" different from other developers?  Are the people doing it different?  That is, are their attitudes and aproaches of Data Scientists different from other coders and tech geeks?\n"
   ]
  },
  {
   "cell_type": "markdown",
   "metadata": {},
   "source": [
    "---\n",
    "## DATASET Description:\n",
    "\n",
    "The data set is the full, cleaned results of the 2019 Stack Overflow Developer Survey. The data can be downloaded from: <https://insights.stackoverflow.com/survey>.  are in the external subdirectory. Free response submissions and personally identifying information have been removed from the results to protect the privacy of respondents. \n",
    "\n",
    "The survey was fielded from January 23 to February 14, 2019. The median time spent on the survey for qualified responses was 23.3 minutes.\n",
    "\n",
    "Respondents were recruited primarily through channels owned by Stack Overflow. The top 5 sources of respondents were onsite messaging, blog posts, email lists, Meta posts, banner ads, and social media posts. Since respondents were recruited in this way, highly engaged users on Stack Overflow were more likely to notice the links for the survey and click to begin it.\n"
   ]
  },
  {
   "cell_type": "markdown",
   "metadata": {},
   "source": [
    "---\n",
    "### Data Files"
   ]
  },
  {
   "cell_type": "markdown",
   "metadata": {},
   "source": [
    "There are two main files of interest --\n",
    "1. survey_results_public.csv - CSV file with main survey results, one respondent per row and one column per answer\n",
    "2. survey_results_schema.csv - CSV file with survey schema, i.e., the questions that correspond to each column name\n",
    "\n",
    "which we will download and prepare for analysis."
   ]
  },
  {
   "cell_type": "code",
   "execution_count": 4,
   "metadata": {},
   "outputs": [],
   "source": [
    "today = datetime.today()\n",
    "survey_year = 2019\n",
    "# in case we want to reuse code for other years\n",
    "in_file = Path.cwd() / 'data' / 'raw' / f'survey{survey_year}.csv'\n",
    "# this is where our cleaned up file will put put\n",
    "summary_file = Path.cwd() / 'data' / 'processed' / \\\n",
    "    f'summary_{today:%b-%d-%Y}.pkl'"
   ]
  },
  {
   "cell_type": "code",
   "execution_count": 5,
   "metadata": {},
   "outputs": [],
   "source": [
    "# download the data if its not in the local directory\n",
    "\n",
    "if not os.path.exists(in_file):\n",
    "    # put these here in case we want to look at any other years...\n",
    "    url = 'https://drive.google.com/uc?export=download&id=1QOmVDpd8hcVYqqUXDXf68UMDWQZP0wQV'\n",
    "    survey_filename = 'survey_results_public.csv'\n",
    "    questions_filename = 'survey_results_schema.csv'\n",
    "    print('Downloading {} survey'.format(survey_year))\n",
    "\n",
    "    request = requests.get(url)\n",
    "    with open('survey.zip', 'wb') as file:\n",
    "        file.write(request.content)\n",
    "\n",
    "    print('Unzipping {} survey'.format(survey_year))\n",
    "    with zipfile.ZipFile(\"survey.zip\", \"r\") as file:\n",
    "        file.extractall(\"data/external/\")\n",
    "\n",
    "    print('Moving {} survey'.format(year))\n",
    "    shutil.copytree('data/external', 'data/raw')\n",
    "    shutil.copy('data/external/' + survey_filename,\n",
    "                'data/raw/survey{}.csv'.format(survey_year))\n",
    "    shutil.copy('data/external/' + questions_filename,\n",
    "                'data/raw/schema{}.csv'.format(survey_year))\n",
    "\n",
    "    print('cleaning up')\n",
    "    os.remove('survey.zip')"
   ]
  },
  {
   "cell_type": "markdown",
   "metadata": {},
   "source": [
    "---\n",
    "##  EXPLORE 1: Clean and Simplify Data\n",
    "\n",
    "- \n",
    "- Remove all leading and trailing spaces (not nescessary)\n",
    "- Rename the columns for consistency (not nescessary)\n",
    "- Convert objects to category"
   ]
  },
  {
   "cell_type": "markdown",
   "metadata": {},
   "source": [
    "# EXPLORE: Describe the Data (and clean/simplify) \n",
    "1. Describe your dataset. Describe and explore your dataset in the initial section of your Report. What does your data contain and what is its background? Where does it come from? Why is it interesting or significant? Conduct summary statistics and produce visualizations for the particular variables from the dataset that you will use.    \n",
    "    "
   ]
  },
  {
   "cell_type": "code",
   "execution_count": 6,
   "metadata": {},
   "outputs": [],
   "source": [
    "# beware that the Respondent ids start at 1\n",
    "df = pd.read_csv(in_file, index_col='Respondent')"
   ]
  },
  {
   "cell_type": "code",
   "execution_count": 7,
   "metadata": {},
   "outputs": [
    {
     "data": {
      "text/plain": [
       "Index(['MainBranch', 'Hobbyist', 'OpenSourcer', 'OpenSource', 'Employment',\n",
       "       'Country', 'Student', 'EdLevel', 'UndergradMajor', 'EduOther',\n",
       "       'OrgSize', 'DevType', 'YearsCode', 'Age1stCode', 'YearsCodePro',\n",
       "       'CareerSat', 'JobSat', 'MgrIdiot', 'MgrMoney', 'MgrWant', 'JobSeek',\n",
       "       'LastHireDate', 'LastInt', 'FizzBuzz', 'JobFactors', 'ResumeUpdate',\n",
       "       'CurrencySymbol', 'CurrencyDesc', 'CompTotal', 'CompFreq',\n",
       "       'ConvertedComp', 'WorkWeekHrs', 'WorkPlan', 'WorkChallenge',\n",
       "       'WorkRemote', 'WorkLoc', 'ImpSyn', 'CodeRev', 'CodeRevHrs', 'UnitTests',\n",
       "       'PurchaseHow', 'PurchaseWhat', 'LanguageWorkedWith',\n",
       "       'LanguageDesireNextYear', 'DatabaseWorkedWith',\n",
       "       'DatabaseDesireNextYear', 'PlatformWorkedWith',\n",
       "       'PlatformDesireNextYear', 'WebFrameWorkedWith',\n",
       "       'WebFrameDesireNextYear', 'MiscTechWorkedWith',\n",
       "       'MiscTechDesireNextYear', 'DevEnviron', 'OpSys', 'Containers',\n",
       "       'BlockchainOrg', 'BlockchainIs', 'BetterLife', 'ITperson', 'OffOn',\n",
       "       'SocialMedia', 'Extraversion', 'ScreenName', 'SOVisit1st',\n",
       "       'SOVisitFreq', 'SOVisitTo', 'SOFindAnswer', 'SOTimeSaved',\n",
       "       'SOHowMuchTime', 'SOAccount', 'SOPartFreq', 'SOJobs', 'EntTeams',\n",
       "       'SOComm', 'WelcomeChange', 'SONewContent', 'Age', 'Gender', 'Trans',\n",
       "       'Sexuality', 'Ethnicity', 'Dependents', 'SurveyLength', 'SurveyEase'],\n",
       "      dtype='object')"
      ]
     },
     "execution_count": 7,
     "metadata": {},
     "output_type": "execute_result"
    }
   ],
   "source": [
    "# Print column name\n",
    "df.columns"
   ]
  },
  {
   "cell_type": "markdown",
   "metadata": {},
   "source": [
    "### zero order sanity checks\n",
    "First lets see what features are in here, and see how complete it is... empty (`NaN`) entries...  complete columns... and columns with lots of missing data. "
   ]
  },
  {
   "cell_type": "code",
   "execution_count": 8,
   "metadata": {},
   "outputs": [
    {
     "data": {
      "text/plain": [
       "count    84.000000\n",
       "mean     13.780154\n",
       "std      12.171536\n",
       "min       0.000000\n",
       "25%       2.128078\n",
       "50%      10.792277\n",
       "75%      22.270007\n",
       "max      45.799534\n",
       "dtype: float64"
      ]
     },
     "execution_count": 8,
     "metadata": {},
     "output_type": "execute_result"
    }
   ],
   "source": [
    "# what pct of of empty entries..\n",
    "(100 * df.isna().sum() / df.shape[0]).describe()"
   ]
  },
  {
   "cell_type": "code",
   "execution_count": 9,
   "metadata": {},
   "outputs": [
    {
     "data": {
      "text/plain": [
       "{'Hobbyist', 'OpenSourcer'}"
      ]
     },
     "execution_count": 9,
     "metadata": {},
     "output_type": "execute_result"
    }
   ],
   "source": [
    "# check columns with no missing values\n",
    "set(df.isna().sum()[df.isna().sum() == 0].keys())"
   ]
  },
  {
   "cell_type": "code",
   "execution_count": 10,
   "metadata": {},
   "outputs": [
    {
     "data": {
      "text/plain": [
       "0"
      ]
     },
     "execution_count": 10,
     "metadata": {},
     "output_type": "execute_result"
    }
   ],
   "source": [
    "# check which columns have over 50% missing values\n",
    "sum(df.columns[100*df.isna().sum()/df.shape[0] > 50])"
   ]
  },
  {
   "cell_type": "markdown",
   "metadata": {},
   "source": [
    "### Almost all of the features are categorical\n",
    "\n",
    "We can lump the variables into a few rough categories -- _DEMOGRAPHIC_, _WORK_ , _CODING_, _ATTITUDINAL_ (personal), _STACKOVERFLOW_, and _MISC_.  We'll focus in on DEMOGRAPHICS, CODING, and ATTITUDINAL features.  Features of most interest are `tagged` below.\n",
    "\n",
    "> _DEMOGRAPHIC_ - `MainBranch`, `Age`, `Gender`, `Trans','Sexuality', 'Ethnicity', 'Dependents', 'Country', 'Student', 'EdLevel', 'UndergradMajor`, 'EduOther, \n",
    "\n",
    "> _ATTITUDINAL_ (personal) -  `ImpSyn'(personal competence), 'CareerSat', 'JobSat', 'MgrIdiot', 'MgrMoney', 'MgrWant', 'JobFactors', 'BlockchainIs', 'BetterLife', 'ITperson', 'OffOn',  'SocialMedia', 'Extraversion', 'ScreenName', 'OpenSource`  \n",
    "\n",
    "> _WORK_ related - `ConvertedComp',  'WorkWeekHrs' 'Employment', 'OrgSize`, (also:  'JobSeek', 'LastHireDate', 'LastInt',  'ResumeUpdate',   'CompTotal',    'CurrencySymbol', 'CurrencyDesc', 'CompTotal', 'CompFreq',, 'WorkPlan', 'WorkChallenge', 'WorkRemote', 'WorkLoc', 'CodeRev', 'CodeRevHrs', 'UnitTests','PurchaseHow', 'PurchaseWhat', \n",
    "       \n",
    "> _CODING_ related -  `YearsCode', 'Age1stCode`, `YearsCodePro`,`OpenSourcer', 'DevType',  'LanguageWorkedWith', 'LanguageDesireNextYear','DevEnviron', 'OpSys', 'Containers', 'DatabaseWorkedWith', 'DatabaseDesireNextYear', 'PlatformWorkedWith',   'PlatformDesireNextYear',  MiscTechWorkedWith', 'MiscTechDesireNextYear', 'BlockchainOrg`, ( \n",
    "       'WebFrameWorkedWith',     'WebFrameDesireNextYear', ', , 'FizzBuzz', )\n",
    "    \n",
    "> *MISC* - `Hobbyist', 'SurveyLength', 'SurveyEase`\n",
    "      \n",
    "> _STACKOVERFLOW_ specific -  Ignore all these ('SOVisit1st','SOVisitFreq', 'SOVisitTo', 'SOFindAnswer', 'SOTimeSaved',       'SOHowMuchTime', 'SOAccount', 'SOPartFreq', 'SOJobs', 'EntTeams',       'SOComm', 'WelcomeChange', 'SONewContent')\n",
    "    \n",
    "Keep DEMOGRAPHIC, some WORK related, CODING, and MISC for further analysis.\n",
    "\n",
    "Convert the \"object\" columns to 'category' columns for efficiency and to analyze.  Because our featurs are categorical instead of numbers we won't really be using vanilla Gaussian statistical summaries and stats.  one-hotting and logistic regression will be tried. \n",
    "       \n",
    "        "
   ]
  },
  {
   "cell_type": "code",
   "execution_count": 11,
   "metadata": {},
   "outputs": [],
   "source": [
    "# only convert categories we want to analyze...\n",
    "convert_to_cat = ['MainBranch', 'Gender', 'Trans', 'Sexuality', 'Ethnicity', 'Dependents', 'Student', 'UndergradMajor',\n",
    "                  'Employment',  'OrgSize',\n",
    "                  'CareerSat', 'BlockchainOrg', 'OpSys', 'OpenSourcer',\n",
    "                  'MgrIdiot', 'MgrMoney', 'MgrWant', 'BlockchainIs', 'BetterLife', 'ITperson', 'OffOn', 'ScreenName', 'SocialMedia', 'Extraversion',\n",
    "                  'SurveyLength', 'SurveyEase', 'Hobbyist']\n",
    "# 'EdLevel','OpenSource','JobSat','ImpSyn',\n",
    "# convert to categories\n",
    "for col_name in convert_to_cat:\n",
    "    if(df[col_name].dtype == 'object'):\n",
    "        df[col_name] = df[col_name].astype('category')\n",
    "        # df2.loc[:,col_name] = df[col_name].cat.codes  # could do this"
   ]
  },
  {
   "cell_type": "code",
   "execution_count": 12,
   "metadata": {},
   "outputs": [],
   "source": [
    "# Convert these to ordered categories\n",
    "# Education\n",
    "edlevel_cat = CategoricalDtype(['I never completed any formal education',\n",
    "                                'Primary/elementary school',\n",
    "                                'Secondary school (e.g. American high school, German Realschule or Gymnasium, etc.)',\n",
    "                                'Some college/university study without earning a degree',\n",
    "                                'Associate degree',\n",
    "                                'Bachelor’s degree (BA, BS, B.Eng., etc.)',\n",
    "                                'Master’s degree (MA, MS, M.Eng., MBA, etc.)',\n",
    "                                'Professional degree (JD, MD, etc.)',\n",
    "                                'Other doctoral degree (Ph.D, Ed.D., etc.)'], ordered=True)\n",
    "\n",
    "df['EdLevel'] = df.EdLevel.astype(edlevel_cat)"
   ]
  },
  {
   "cell_type": "code",
   "execution_count": 13,
   "metadata": {},
   "outputs": [
    {
     "data": {
      "text/plain": [
       "I am a developer by profession                                                   65679\n",
       "I am a student who is learning to code                                           10189\n",
       "I am not primarily a developer, but I write code sometimes as part of my work     7539\n",
       "I code primarily as a hobby                                                       3340\n",
       "I used to be a developer by profession, but no longer am                          1584\n",
       "Name: MainBranch, dtype: int64"
      ]
     },
     "execution_count": 13,
     "metadata": {},
     "output_type": "execute_result"
    }
   ],
   "source": [
    "df['MainBranch'].value_counts()"
   ]
  },
  {
   "cell_type": "code",
   "execution_count": 14,
   "metadata": {},
   "outputs": [
    {
     "data": {
      "text/plain": [
       "Bachelor’s degree (BA, BS, B.Eng., etc.)                                              39134\n",
       "Master’s degree (MA, MS, M.Eng., MBA, etc.)                                           19569\n",
       "Some college/university study without earning a degree                                10502\n",
       "Secondary school (e.g. American high school, German Realschule or Gymnasium, etc.)     8642\n",
       "Associate degree                                                                       2938\n",
       "Other doctoral degree (Ph.D, Ed.D., etc.)                                              2432\n",
       "Primary/elementary school                                                              1422\n",
       "Professional degree (JD, MD, etc.)                                                     1198\n",
       "I never completed any formal education                                                  553\n",
       "Name: EdLevel, dtype: int64"
      ]
     },
     "execution_count": 14,
     "metadata": {},
     "output_type": "execute_result"
    }
   ],
   "source": [
    "df['EdLevel'].value_counts()"
   ]
  },
  {
   "cell_type": "code",
   "execution_count": 15,
   "metadata": {},
   "outputs": [
    {
     "data": {
      "text/plain": [
       "Straight / Heterosexual                            78.929604\n",
       "Bisexual                                            3.870256\n",
       "Gay or Lesbian                                      2.022884\n",
       "Bisexual;Straight / Heterosexual                    0.555787\n",
       "Bisexual;Gay or Lesbian                             0.128258\n",
       "Bisexual;Gay or Lesbian;Straight / Heterosexual     0.121508\n",
       "Gay or Lesbian;Straight / Heterosexual              0.042753\n",
       "Name: Sexuality, dtype: float64"
      ]
     },
     "execution_count": 15,
     "metadata": {},
     "output_type": "execute_result"
    }
   ],
   "source": [
    "# seems like the incidence seems pretty gen-pop representative.. maybe higher bi than gay..\n",
    "# might want to loook deeper at respondents who chose BOTH straight and Gay / Bi\n",
    "\n",
    "100*df['Sexuality'].value_counts() / df.shape[0]"
   ]
  },
  {
   "cell_type": "code",
   "execution_count": 16,
   "metadata": {},
   "outputs": [
    {
     "data": {
      "text/plain": [
       "United States     23.569186\n",
       "India             10.194300\n",
       "Germany            6.599687\n",
       "United Kingdom     6.454553\n",
       "Canada             3.819628\n",
       "France             2.690053\n",
       "Brazil             2.191645\n",
       "Poland             2.162393\n",
       "Australia          2.141017\n",
       "Netherlands        2.083638\n",
       "Name: Country, dtype: float64"
      ]
     },
     "execution_count": 16,
     "metadata": {},
     "output_type": "execute_result"
    }
   ],
   "source": [
    "# pretty decent ammount of diversity\n",
    "(100*df['Country'].value_counts()/df.shape[0]).head(10)"
   ]
  },
  {
   "cell_type": "code",
   "execution_count": null,
   "metadata": {},
   "outputs": [],
   "source": []
  },
  {
   "cell_type": "code",
   "execution_count": 17,
   "metadata": {},
   "outputs": [],
   "source": [
    "# OpenSource . Higher, same lower\n",
    "opensource_cat = CategoricalDtype(['OSS is, on average, of HIGHER quality than proprietary / closed source software',\n",
    "                                   'The quality of OSS and closed source software is about the same',\n",
    "                                   'OSS is, on average, of LOWER quality than proprietary / closed source software', ], ordered=True)\n",
    "df['OpenSource'] = df.OpenSource.astype(opensource_cat)"
   ]
  },
  {
   "cell_type": "code",
   "execution_count": 18,
   "metadata": {},
   "outputs": [],
   "source": [
    "# career satisfaction / job satisfaction\\\n",
    "careersat_cat = CategoricalDtype(['Very dissatisfied',\n",
    "                                  'Slightly dissatisfied',\n",
    "                                  'Neither satisfied nor dissatisfied',\n",
    "                                  'Slightly satisfied',\n",
    "                                  'Very satisfied'], ordered=True)\n",
    "df['CareerSat'] = df.CareerSat.astype(careersat_cat)\n",
    "\n",
    "jobsat_cat = CategoricalDtype(['Very dissatisfied',\n",
    "                               'Slightly dissatisfied',\n",
    "                               'Neither satisfied nor dissatisfied',\n",
    "                               'Slightly satisfied',\n",
    "                               'Very satisfied'], ordered=True)\n",
    "df['JobSat'] = df.JobSat.astype(jobsat_cat)"
   ]
  },
  {
   "cell_type": "code",
   "execution_count": 19,
   "metadata": {},
   "outputs": [],
   "source": [
    "# competence\n",
    "impsyn_cat = CategoricalDtype(['Far below average',\n",
    "                               'A little below average',\n",
    "                               'Average',\n",
    "                               'A little above average',\n",
    "                               'Far above average'], ordered=True)\n",
    "df['ImpSyn'] = df.ImpSyn.astype(impsyn_cat)"
   ]
  },
  {
   "cell_type": "code",
   "execution_count": 20,
   "metadata": {},
   "outputs": [
    {
     "name": "stdout",
     "output_type": "stream",
     "text": [
      "The dataset contains 88883 rows and 84 columns.\n"
     ]
    }
   ],
   "source": [
    "print('The dataset contains', df.shape[0], 'rows and', df.shape[1], 'columns.')"
   ]
  },
  {
   "cell_type": "markdown",
   "metadata": {},
   "source": [
    "### categorical variables\n",
    "# Research Questions\n",
    "\n",
    "2. Ask and answer analytic questions. Ask three analytic questions and answer each one with a combination of statistics and visualizations. These analytic questions can focus on individuals behaviors or comparisons of the population.\n",
    "\n"
   ]
  },
  {
   "cell_type": "code",
   "execution_count": null,
   "metadata": {},
   "outputs": [],
   "source": []
  },
  {
   "cell_type": "markdown",
   "metadata": {},
   "source": [
    "----\n",
    "## Time to zero in on our questoin... \n",
    "\n",
    "The motivation behind this analysis is to explore how data scientists compare with non-data scientist developers (\"non-data scientists\"). Consequently, we set out to answer the following questions:\n",
    "\n",
    "1. are there demographic differences.  hypothesis is higher educated and more likely from math/science than computer/tech.  also younger/less experienced.\n",
    "2. are their attitudes different? \n",
    "3. are their work situations different?\n",
    "3. can we predict if a developer professional developer is a Data Scientist?\n",
    "\n",
    "### Respondent Cleanup\n",
    "\n",
    "- KEEP PROFESSIONALS ONLY.  Dropped students and \"other\"\n",
    "- Create our categories of respondents (aux columns)\n",
    "    - DataScientist\n",
    "    - Non-DataScientists (everybody else, including un-engaged, jokers, and students)\n",
    "    - Developers (other \"professionals\")\n"
   ]
  },
  {
   "cell_type": "code",
   "execution_count": 21,
   "metadata": {
    "scrolled": false
   },
   "outputs": [
    {
     "data": {
      "text/plain": [
       "<matplotlib.axes._subplots.AxesSubplot at 0x7fef78a71ac8>"
      ]
     },
     "execution_count": 21,
     "metadata": {},
     "output_type": "execute_result"
    },
    {
     "data": {
      "image/png": "[encoded data removed]",
      "text/plain": [
       "<Figure size 432x288 with 1 Axes>"
      ]
     },
     "metadata": {
      "needs_background": "light"
     },
     "output_type": "display_data"
    }
   ],
   "source": [
    "df['MainBranch'].value_counts().plot('barh')"
   ]
  },
  {
   "cell_type": "markdown",
   "metadata": {},
   "source": [
    "As we are interested in comparing data scientists to non-data scientists, we need to be able to differentiate between the two. This is done using the `DevType` field. As a result, we should drop any rows where this field is missing, since we can't determine which subset these rows fit into.\n"
   ]
  },
  {
   "cell_type": "code",
   "execution_count": 22,
   "metadata": {},
   "outputs": [],
   "source": [
    "# make some of the categories ordered\n",
    "# df['MainBranch'].cat.categories[0]\n",
    "developers = df['MainBranch'] == 'I am a developer by profession'\n",
    "# limit our scope to professional developers\n",
    "df = df[developers]"
   ]
  },
  {
   "cell_type": "code",
   "execution_count": 23,
   "metadata": {},
   "outputs": [
    {
     "name": "stdout",
     "output_type": "stream",
     "text": [
      "The dataset contains 65679 rows and 84 columns.\n"
     ]
    }
   ],
   "source": [
    "print('The dataset contains', df.shape[0], 'rows and', df.shape[1], 'columns.')"
   ]
  },
  {
   "cell_type": "code",
   "execution_count": 24,
   "metadata": {},
   "outputs": [
    {
     "name": "stdout",
     "output_type": "stream",
     "text": [
      "we have 8057 DataScientists and 61987 traditional Developers in our professional Developers database\n"
     ]
    }
   ],
   "source": [
    "# Create data scientist and non-data scientist subsets.\n",
    "# data scientists are defined as \"Data or business analyst\",Engineer, Data\",\n",
    "#       \"Data scientist or machine learning specialist\"\n",
    "# Database administrator or Scientist\n",
    "\n",
    "# developer is \"Developer, {fullstack, game or graphics, mobile, QA or test}\"\n",
    "data_scientist = df['DevType'].str.contains('|'.join(\n",
    "    ['data ', 'scientist']), case=False, na=False, regex=True).copy()  # data scientists / analists / Data engineers\n",
    "# maybe exclude database administrator...\n",
    "# how to deal with peopl who are _BOTH_\n",
    "\n",
    "# data = df['DevType'].str.contains('data', case=False, na=False, regex=True).copy() #data scientists / analists / Data engineers\n",
    "developer = df['DevType'].str.contains(\n",
    "    'developer', case=False, na=False, regex=True).copy()  # all types of developers\n",
    "\n",
    "\n",
    "print('we have {} DataScientists and {} traditional Developers in our professional Developers database'.format(\n",
    "      data_scientist.sum(), developer.sum()))"
   ]
  },
  {
   "cell_type": "code",
   "execution_count": 25,
   "metadata": {},
   "outputs": [
    {
     "data": {
      "text/plain": [
       "Data scientist or machine learning specialist                                              333\n",
       "Data scientist or machine learning specialist;Developer, back-end                          175\n",
       "Data or business analyst;Data scientist or machine learning specialist                     106\n",
       "Data scientist or machine learning specialist;Developer, full-stack                        100\n",
       "Data scientist or machine learning specialist;Developer, back-end;Engineer, data            89\n",
       "Data or business analyst                                                                    76\n",
       "Data or business analyst;Developer, back-end                                                74\n",
       "Data or business analyst;Developer, full-stack                                              73\n",
       "Data scientist or machine learning specialist;Engineer, data                                66\n",
       "Data scientist or machine learning specialist;Developer, back-end;Developer, full-stack     43\n",
       "Data or business analyst;Data scientist or machine learning specialist;Engineer, data       43\n",
       "Data or business analyst;Developer, back-end;Engineer, data                                 37\n",
       "Data or business analyst;Developer, back-end;Developer, full-stack                          37\n",
       "Academic researcher;Data scientist or machine learning specialist                           36\n",
       "Scientist                                                                                   34\n",
       "Name: DevType, dtype: int64"
      ]
     },
     "execution_count": 25,
     "metadata": {},
     "output_type": "execute_result"
    }
   ],
   "source": [
    "# its way too messy to parse through the multi-selects...\n",
    "df.DevType[data_scientist].value_counts().head(15)  # .plot('barh')"
   ]
  },
  {
   "cell_type": "code",
   "execution_count": 27,
   "metadata": {},
   "outputs": [
    {
     "data": {
      "text/plain": [
       "Developer, full-stack                                                                                           8077\n",
       "Developer, back-end                                                                                             4703\n",
       "Developer, back-end;Developer, front-end;Developer, full-stack                                                  2329\n",
       "Developer, mobile                                                                                               2061\n",
       "Developer, front-end                                                                                            2035\n",
       "Developer, back-end;Developer, full-stack                                                                       1994\n",
       "Developer, front-end;Developer, full-stack                                                                       989\n",
       "Developer, desktop or enterprise applications                                                                    907\n",
       "Developer, back-end;Developer, desktop or enterprise applications;Developer, front-end;Developer, full-stack     872\n",
       "Developer, back-end;Developer, desktop or enterprise applications                                                815\n",
       "Developer, embedded applications or devices                                                                      603\n",
       "Developer, back-end;Developer, desktop or enterprise applications;Developer, full-stack                          582\n",
       "Developer, back-end;Developer, front-end;Developer, full-stack;Developer, mobile                                 559\n",
       "Developer, full-stack;Developer, mobile                                                                          503\n",
       "Developer, back-end;Developer, front-end                                                                         456\n",
       "Name: DevType, dtype: int64"
      ]
     },
     "execution_count": 27,
     "metadata": {},
     "output_type": "execute_result"
    }
   ],
   "source": [
    "df.DevType[developer].value_counts().head(15)\n"
   ]
  },
  {
   "cell_type": "code",
   "execution_count": 29,
   "metadata": {},
   "outputs": [
    {
     "data": {
      "text/plain": [
       "Developer         61987\n",
       "Data Scientist     1301\n",
       "Name: DSorDV, dtype: int64"
      ]
     },
     "execution_count": 29,
     "metadata": {},
     "output_type": "execute_result"
    }
   ],
   "source": [
    "# make some expository columns\n",
    "df.loc[:, 'DSorDV'] = np.nan\n",
    "\n",
    "df.loc[data_scientist, 'DSorDV'] = 'Data Scientist'\n",
    "df.loc[developer, 'DSorDV'] = 'Developer'\n",
    "\n",
    "df.loc[:, 'isDS'] = data_scientist\n",
    "df.loc[:, 'isDev'] = developer\n",
    "df.loc[:, 'notDS'] = ~data_scientist\n",
    "df['DSorDV'].value_counts()"
   ]
  },
  {
   "cell_type": "code",
   "execution_count": 30,
   "metadata": {},
   "outputs": [
    {
     "data": {
      "text/plain": [
       "United States     27.119275\n",
       "India              8.911506\n",
       "Germany            6.578131\n",
       "United Kingdom     5.647263\n",
       "Canada             3.711059\n",
       "Brazil             2.594018\n",
       "France             2.432667\n",
       "Australia          2.345786\n",
       "Netherlands        2.184436\n",
       "Poland             1.911381\n",
       "Name: Country, dtype: float64"
      ]
     },
     "execution_count": 30,
     "metadata": {},
     "output_type": "execute_result"
    }
   ],
   "source": [
    "# where are resespondents from?\n",
    "(100*df.loc[data_scientist, 'Country'].value_counts()/data_scientist.sum()).head(10)\n"
   ]
  },
  {
   "cell_type": "code",
   "execution_count": 31,
   "metadata": {},
   "outputs": [
    {
     "data": {
      "text/plain": [
       "United States     24.217981\n",
       "India             10.076306\n",
       "United Kingdom     6.741736\n",
       "Germany            6.501363\n",
       "Canada             3.805637\n",
       "France             2.640876\n",
       "Brazil             2.363399\n",
       "Poland             2.332747\n",
       "Australia          2.158517\n",
       "Netherlands        2.082695\n",
       "Name: Country, dtype: float64"
      ]
     },
     "execution_count": 31,
     "metadata": {},
     "output_type": "execute_result"
    }
   ],
   "source": [
    "(100*df.loc[developer, 'Country'].value_counts()/developer.sum()).head(10)"
   ]
  },
  {
   "cell_type": "markdown",
   "metadata": {},
   "source": [
    "RESULTS:       \n",
    "       \n",
    "1.0.1.\n",
    "\n",
    "1. How does the demographic profile of data scientists differ from that of non-data scientists?\n",
    "> - male/female ratio\n",
    "> - incident of out \"other\"/trans\n",
    "> - dependents\n",
    "> - US vs other\n",
    ">\n",
    "\n",
    "2. What programming languages do data scientists favour and how do they differ from those used by non-data scientists?\n",
    "> - histograms\n",
    "\n",
    "3. How much coding experience do data scientists have compared to non-data scientists?\n",
    "> - years experience\n",
    "> - age first code\n",
    "4. Are data scientists more satisfied with their jobs/careers than non-data scientists?\n",
    "> - salary\n",
    "> - feelings of managers\n",
    "\n",
    "5. Life shit\n",
    "> - dependents\n",
    "> -impsyn\n",
    "> -fizzbuzz"
   ]
  },
  {
   "cell_type": "markdown",
   "metadata": {},
   "source": [
    "### Create derived data columns\n",
    "\n",
    "- Simplify some categories\n",
    "    - Education: Advanced, College, Grade\n",
    "    - Major: Computer/Tech, Math/Science, Other\n",
    "        \n",
    "- generation (from Age)\n",
    "   - Age->Gen: GenZ,Milennial,GenX,Boomer,Silent\n",
    "           "
   ]
  },
  {
   "cell_type": "code",
   "execution_count": 190,
   "metadata": {},
   "outputs": [
    {
     "name": "stdout",
     "output_type": "stream",
     "text": [
      "The dataset contains 65679 rows and 65 columns.\n"
     ]
    }
   ],
   "source": [
    "print('The dataset contains', df.shape[0], 'rows and', df.shape[1], 'columns.')"
   ]
  },
  {
   "cell_type": "code",
   "execution_count": 191,
   "metadata": {},
   "outputs": [],
   "source": [
    "#df['EdLevel'].cat.categories"
   ]
  },
  {
   "cell_type": "code",
   "execution_count": 215,
   "metadata": {},
   "outputs": [
    {
     "name": "stdout",
     "output_type": "stream",
     "text": [
      "The dataset contains 18295 respondents with advanced degrees, (n= 42115 college; n= 4016 grade)  65679 og~ 65679 null-> 1253\n"
     ]
    }
   ],
   "source": [
    "# simple method comparing strings... could also use ordering...\n",
    "advanced = df['EdLevel'].isin(['Other doctoral degree (Ph.D, Ed.D., etc.)',\n",
    "                               'Master’s degree (MA, MS, M.Eng., MBA, etc.)',\n",
    "                               'Professional degree (JD, MD, etc.)'])\n",
    "\n",
    "college = df['EdLevel'].isin(['Associate degree',\n",
    "                              'Bachelor’s degree (BA, BS, B.Eng., etc.)',\n",
    "                              'Some college/university study without earning a degree'])\n",
    "\n",
    "grade = df['EdLevel'].isin(['Secondary school (e.g. American high school, German Realschule or Gymnasium, etc.)',\n",
    "                            'Primary/elementary school',\n",
    "                            'I never completed any formal education'])\n",
    "no_answer = df['EdLevel'].isnull()\n",
    "\n",
    "print('The dataset contains',  advanced.sum(),\n",
    "      'respondents with advanced degrees, (n=', college.sum(),\n",
    "      'college; n=', grade.sum(), 'grade) ', (advanced.sum()+college.sum()+grade.sum()+no_answer.sum()),\n",
    "      'og~', df.shape[0],\n",
    "      'null->', no_answer.sum())"
   ]
  },
  {
   "cell_type": "code",
   "execution_count": 216,
   "metadata": {},
   "outputs": [
    {
     "data": {
      "text/plain": [
       "Bachelor’s degree (BA, BS, B.Eng., etc.)                                              32582\n",
       "Master’s degree (MA, MS, M.Eng., MBA, etc.)                                           15936\n",
       "Some college/university study without earning a degree                                 7376\n",
       "Secondary school (e.g. American high school, German Realschule or Gymnasium, etc.)     3373\n",
       "Associate degree                                                                       2157\n",
       "Other doctoral degree (Ph.D, Ed.D., etc.)                                              1468\n",
       "Professional degree (JD, MD, etc.)                                                      891\n",
       "Primary/elementary school                                                               331\n",
       "I never completed any formal education                                                  312\n",
       "Name: EdLevel, dtype: int64"
      ]
     },
     "execution_count": 216,
     "metadata": {},
     "output_type": "execute_result"
    }
   ],
   "source": [
    "# create ordered category\n",
    "edlevel_simple_cat = CategoricalDtype(['Grade',\n",
    "                                       'College',  # 'N/A'\n",
    "                                       'Advanced'], ordered=True)\n",
    "df.loc[:, 'Education'] = np.nan\n",
    "\n",
    "df.loc[advanced, 'Education'] = 'Advanced'\n",
    "df.loc[college, 'Education'] = 'College'\n",
    "df.loc[grade, 'Education'] = 'Grade'\n",
    "#df.loc[no_answer,'Education'] = 'N/A'\n",
    "#df.loc[:,'Education'] = np.nan\n",
    "# now make it an ordered category\n",
    "df.loc[:, 'Education'] = df.Education.astype(edlevel_simple_cat)\n",
    "\n",
    "df['EdLevel'].value_counts()\n"
   ]
  },
  {
   "cell_type": "code",
   "execution_count": 217,
   "metadata": {},
   "outputs": [
    {
     "data": {
      "text/plain": [
       "Computer/Tech    46509\n",
       "Math/Science      8697\n",
       "Other             4244\n",
       "Name: Major, dtype: int64"
      ]
     },
     "execution_count": 217,
     "metadata": {},
     "output_type": "execute_result"
    }
   ],
   "source": [
    "df.loc[:, 'Major'] = np.nan\n",
    "\n",
    "computer_tech = df['UndergradMajor'].isin(['Computer science, computer engineering, or software engineering',\n",
    "                                           'Web development or web design',\n",
    "                                           'Information systems, information technology, or system administration'])\n",
    "\n",
    "\n",
    "math_sci = df['UndergradMajor'].isin(['Mathematics or statistics',\n",
    "                                      'Another engineering discipline (ex. civil, electrical, mechanical)',\n",
    "                                      'A natural science (ex. biology, chemistry, physics)'])\n",
    "\n",
    "other = df['UndergradMajor'].isin(['A health science (ex. nursing, pharmacy, radiology)',\n",
    "                                   'A business discipline (ex. accounting, finance, marketing)',\n",
    "                                   'A humanities discipline (ex. literature, history, philosophy)',\n",
    "                                   'A social science (ex. anthropology, psychology, political science)',\n",
    "                                   'Fine arts or performing arts (ex. graphic design, music, studio art)'])\n",
    "\n",
    "\n",
    "df.loc[computer_tech, 'Major'] = 'Computer/Tech'\n",
    "df.loc[math_sci, 'Major'] = 'Math/Science'\n",
    "df.loc[other, 'Major'] = 'Other'\n",
    "#df.loc[no_answer,'EdLevel_simple'] = 'N/A'\n",
    "\n",
    "df.loc[:, 'Major'] = df.Major.astype('category')\n",
    "df['Major'].value_counts()\n",
    "# survey.UndergradMajor.cat.categories"
   ]
  },
  {
   "cell_type": "markdown",
   "metadata": {},
   "source": [
    "### fix some of the numbers\n",
    "\n",
    "---\n",
    "- Age: `Age`-> `nAge`  change < 13, or > 80 to `NaN`\n",
    "- 1st Code: `Age1stCode` -> `nAgeCode` , change \"Younger than 5 years\" to 4.5 and \"Older than 85\" to 85.\n",
    "- years coding, years experience: `YearsCode` -> `nYearsCode`, change \"Less than 1 year\" to 1/10000 and \"More than 50\" to 55.\n",
    "- years pro:`YearsCodePro` -> `nYearsPro`\n",
    "- workweek: `WorkWeekHrs` to require 4 hours off per day\n",
    "---\n",
    "Test that `ConvertedComp` is sensible?"
   ]
  },
  {
   "cell_type": "code",
   "execution_count": 218,
   "metadata": {},
   "outputs": [
    {
     "ename": "AttributeError",
     "evalue": "'DataFrame' object has no attribute 'YearsCode'",
     "output_type": "error",
     "traceback": [
      "\u001b[0;31m---------------------------------------------------------------------------\u001b[0m",
      "\u001b[0;31mAttributeError\u001b[0m                            Traceback (most recent call last)",
      "\u001b[0;32m<ipython-input-218-f5edb5ebf647>\u001b[0m in \u001b[0;36m<module>\u001b[0;34m\u001b[0m\n\u001b[1;32m      9\u001b[0m \u001b[0;34m\u001b[0m\u001b[0m\n\u001b[1;32m     10\u001b[0m \u001b[0;34m\u001b[0m\u001b[0m\n\u001b[0;32m---> 11\u001b[0;31m \u001b[0mdf\u001b[0m\u001b[0;34m.\u001b[0m\u001b[0mloc\u001b[0m\u001b[0;34m[\u001b[0m\u001b[0;34m:\u001b[0m\u001b[0;34m,\u001b[0m \u001b[0;34m'nYearsCode'\u001b[0m\u001b[0;34m]\u001b[0m \u001b[0;34m=\u001b[0m \u001b[0mpd\u001b[0m\u001b[0;34m.\u001b[0m\u001b[0mto_numeric\u001b[0m\u001b[0;34m(\u001b[0m\u001b[0mdf\u001b[0m\u001b[0;34m.\u001b[0m\u001b[0mYearsCode\u001b[0m\u001b[0;34m.\u001b[0m\u001b[0mapply\u001b[0m\u001b[0;34m(\u001b[0m\u001b[0mfix_years_coding\u001b[0m\u001b[0;34m)\u001b[0m\u001b[0;34m)\u001b[0m\u001b[0;34m\u001b[0m\u001b[0;34m\u001b[0m\u001b[0m\n\u001b[0m\u001b[1;32m     12\u001b[0m \u001b[0mdf\u001b[0m\u001b[0;34m.\u001b[0m\u001b[0mloc\u001b[0m\u001b[0;34m[\u001b[0m\u001b[0;34m:\u001b[0m\u001b[0;34m,\u001b[0m \u001b[0;34m'nYearsPro'\u001b[0m\u001b[0;34m]\u001b[0m \u001b[0;34m=\u001b[0m \u001b[0mpd\u001b[0m\u001b[0;34m.\u001b[0m\u001b[0mto_numeric\u001b[0m\u001b[0;34m(\u001b[0m\u001b[0mdf\u001b[0m\u001b[0;34m.\u001b[0m\u001b[0mYearsCodePro\u001b[0m\u001b[0;34m.\u001b[0m\u001b[0mapply\u001b[0m\u001b[0;34m(\u001b[0m\u001b[0mfix_years_coding\u001b[0m\u001b[0;34m)\u001b[0m\u001b[0;34m)\u001b[0m\u001b[0;34m\u001b[0m\u001b[0;34m\u001b[0m\u001b[0m\n",
      "\u001b[0;32m~/anaconda3/lib/python3.7/site-packages/pandas/core/generic.py\u001b[0m in \u001b[0;36m__getattr__\u001b[0;34m(self, name)\u001b[0m\n\u001b[1;32m   5065\u001b[0m             \u001b[0;32mif\u001b[0m \u001b[0mself\u001b[0m\u001b[0;34m.\u001b[0m\u001b[0m_info_axis\u001b[0m\u001b[0;34m.\u001b[0m\u001b[0m_can_hold_identifiers_and_holds_name\u001b[0m\u001b[0;34m(\u001b[0m\u001b[0mname\u001b[0m\u001b[0;34m)\u001b[0m\u001b[0;34m:\u001b[0m\u001b[0;34m\u001b[0m\u001b[0;34m\u001b[0m\u001b[0m\n\u001b[1;32m   5066\u001b[0m                 \u001b[0;32mreturn\u001b[0m \u001b[0mself\u001b[0m\u001b[0;34m[\u001b[0m\u001b[0mname\u001b[0m\u001b[0;34m]\u001b[0m\u001b[0;34m\u001b[0m\u001b[0;34m\u001b[0m\u001b[0m\n\u001b[0;32m-> 5067\u001b[0;31m             \u001b[0;32mreturn\u001b[0m \u001b[0mobject\u001b[0m\u001b[0;34m.\u001b[0m\u001b[0m__getattribute__\u001b[0m\u001b[0;34m(\u001b[0m\u001b[0mself\u001b[0m\u001b[0;34m,\u001b[0m \u001b[0mname\u001b[0m\u001b[0;34m)\u001b[0m\u001b[0;34m\u001b[0m\u001b[0;34m\u001b[0m\u001b[0m\n\u001b[0m\u001b[1;32m   5068\u001b[0m \u001b[0;34m\u001b[0m\u001b[0m\n\u001b[1;32m   5069\u001b[0m     \u001b[0;32mdef\u001b[0m \u001b[0m__setattr__\u001b[0m\u001b[0;34m(\u001b[0m\u001b[0mself\u001b[0m\u001b[0;34m,\u001b[0m \u001b[0mname\u001b[0m\u001b[0;34m,\u001b[0m \u001b[0mvalue\u001b[0m\u001b[0;34m)\u001b[0m\u001b[0;34m:\u001b[0m\u001b[0;34m\u001b[0m\u001b[0;34m\u001b[0m\u001b[0m\n",
      "\u001b[0;31mAttributeError\u001b[0m: 'DataFrame' object has no attribute 'YearsCode'"
     ]
    }
   ],
   "source": [
    "def fix_years_coding(years_):\n",
    "    # make these numeric in a sensible way\n",
    "    if years_ == 'Less than 1 year':\n",
    "        return 0.0001\n",
    "    elif years_ == 'More than 50 years':\n",
    "        return 55.\n",
    "    else:\n",
    "        return years_\n",
    "\n",
    "\n",
    "df.loc[:, 'nYearsCode'] = pd.to_numeric(df.YearsCode.apply(fix_years_coding))\n",
    "df.loc[:, 'nYearsPro'] = pd.to_numeric(df.YearsCodePro.apply(fix_years_coding))"
   ]
  },
  {
   "cell_type": "code",
   "execution_count": 212,
   "metadata": {},
   "outputs": [
    {
     "ename": "AttributeError",
     "evalue": "'DataFrame' object has no attribute 'WorkWeekHrs'",
     "output_type": "error",
     "traceback": [
      "\u001b[0;31m---------------------------------------------------------------------------\u001b[0m",
      "\u001b[0;31mAttributeError\u001b[0m                            Traceback (most recent call last)",
      "\u001b[0;32m<ipython-input-212-0dbb5b4baa36>\u001b[0m in \u001b[0;36m<module>\u001b[0;34m\u001b[0m\n\u001b[1;32m     11\u001b[0m \u001b[0;34m\u001b[0m\u001b[0m\n\u001b[1;32m     12\u001b[0m \u001b[0;34m\u001b[0m\u001b[0m\n\u001b[0;32m---> 13\u001b[0;31m \u001b[0mdf\u001b[0m\u001b[0;34m.\u001b[0m\u001b[0mloc\u001b[0m\u001b[0;34m[\u001b[0m\u001b[0;34m:\u001b[0m\u001b[0;34m,\u001b[0m \u001b[0;34m'WorkWeekH'\u001b[0m\u001b[0;34m]\u001b[0m \u001b[0;34m=\u001b[0m \u001b[0mdf\u001b[0m\u001b[0;34m.\u001b[0m\u001b[0mWorkWeekHrs\u001b[0m\u001b[0;34m.\u001b[0m\u001b[0mapply\u001b[0m\u001b[0;34m(\u001b[0m\u001b[0mfix_workweekhours\u001b[0m\u001b[0;34m)\u001b[0m\u001b[0;34m\u001b[0m\u001b[0;34m\u001b[0m\u001b[0m\n\u001b[0m",
      "\u001b[0;32m~/anaconda3/lib/python3.7/site-packages/pandas/core/generic.py\u001b[0m in \u001b[0;36m__getattr__\u001b[0;34m(self, name)\u001b[0m\n\u001b[1;32m   5065\u001b[0m             \u001b[0;32mif\u001b[0m \u001b[0mself\u001b[0m\u001b[0;34m.\u001b[0m\u001b[0m_info_axis\u001b[0m\u001b[0;34m.\u001b[0m\u001b[0m_can_hold_identifiers_and_holds_name\u001b[0m\u001b[0;34m(\u001b[0m\u001b[0mname\u001b[0m\u001b[0;34m)\u001b[0m\u001b[0;34m:\u001b[0m\u001b[0;34m\u001b[0m\u001b[0;34m\u001b[0m\u001b[0m\n\u001b[1;32m   5066\u001b[0m                 \u001b[0;32mreturn\u001b[0m \u001b[0mself\u001b[0m\u001b[0;34m[\u001b[0m\u001b[0mname\u001b[0m\u001b[0;34m]\u001b[0m\u001b[0;34m\u001b[0m\u001b[0;34m\u001b[0m\u001b[0m\n\u001b[0;32m-> 5067\u001b[0;31m             \u001b[0;32mreturn\u001b[0m \u001b[0mobject\u001b[0m\u001b[0;34m.\u001b[0m\u001b[0m__getattribute__\u001b[0m\u001b[0;34m(\u001b[0m\u001b[0mself\u001b[0m\u001b[0;34m,\u001b[0m \u001b[0mname\u001b[0m\u001b[0;34m)\u001b[0m\u001b[0;34m\u001b[0m\u001b[0;34m\u001b[0m\u001b[0m\n\u001b[0m\u001b[1;32m   5068\u001b[0m \u001b[0;34m\u001b[0m\u001b[0m\n\u001b[1;32m   5069\u001b[0m     \u001b[0;32mdef\u001b[0m \u001b[0m__setattr__\u001b[0m\u001b[0;34m(\u001b[0m\u001b[0mself\u001b[0m\u001b[0;34m,\u001b[0m \u001b[0mname\u001b[0m\u001b[0;34m,\u001b[0m \u001b[0mvalue\u001b[0m\u001b[0;34m)\u001b[0m\u001b[0;34m:\u001b[0m\u001b[0;34m\u001b[0m\u001b[0;34m\u001b[0m\u001b[0m\n",
      "\u001b[0;31mAttributeError\u001b[0m: 'DataFrame' object has no attribute 'WorkWeekHrs'"
     ]
    }
   ],
   "source": [
    "def fix_workweekhours(hours_):\n",
    "    # if hours_ == np.NaN:\n",
    "    #    return hours_\n",
    "    # hard ceiling on hours in a week (24*7)  lets throw out the ridiculous no sleep 24/7 scenarios\n",
    "    if hours_ > 20*7:\n",
    "        return np.NaN\n",
    "    elif hours_ < 4:  # arbitrary minimum work time\n",
    "        return np.NaN\n",
    "    else:\n",
    "        return hours_\n",
    "\n",
    "\n",
    "df.loc[:, 'WorkWeekH'] = df.WorkWeekHrs.apply(fix_workweekhours)"
   ]
  },
  {
   "cell_type": "code",
   "execution_count": 213,
   "metadata": {},
   "outputs": [
    {
     "ename": "AttributeError",
     "evalue": "'DataFrame' object has no attribute 'Age'",
     "output_type": "error",
     "traceback": [
      "\u001b[0;31m---------------------------------------------------------------------------\u001b[0m",
      "\u001b[0;31mAttributeError\u001b[0m                            Traceback (most recent call last)",
      "\u001b[0;32m<ipython-input-213-619ff6b86cf7>\u001b[0m in \u001b[0;36m<module>\u001b[0;34m\u001b[0m\n\u001b[1;32m      9\u001b[0m \u001b[0;34m\u001b[0m\u001b[0m\n\u001b[1;32m     10\u001b[0m \u001b[0;34m\u001b[0m\u001b[0m\n\u001b[0;32m---> 11\u001b[0;31m \u001b[0mdf\u001b[0m\u001b[0;34m.\u001b[0m\u001b[0mloc\u001b[0m\u001b[0;34m[\u001b[0m\u001b[0;34m:\u001b[0m\u001b[0;34m,\u001b[0m \u001b[0;34m'nAge'\u001b[0m\u001b[0;34m]\u001b[0m \u001b[0;34m=\u001b[0m \u001b[0mpd\u001b[0m\u001b[0;34m.\u001b[0m\u001b[0mto_numeric\u001b[0m\u001b[0;34m(\u001b[0m\u001b[0mdf\u001b[0m\u001b[0;34m.\u001b[0m\u001b[0mAge\u001b[0m\u001b[0;34m.\u001b[0m\u001b[0mapply\u001b[0m\u001b[0;34m(\u001b[0m\u001b[0mfix_age\u001b[0m\u001b[0;34m)\u001b[0m\u001b[0;34m)\u001b[0m\u001b[0;34m\u001b[0m\u001b[0;34m\u001b[0m\u001b[0m\n\u001b[0m",
      "\u001b[0;32m~/anaconda3/lib/python3.7/site-packages/pandas/core/generic.py\u001b[0m in \u001b[0;36m__getattr__\u001b[0;34m(self, name)\u001b[0m\n\u001b[1;32m   5065\u001b[0m             \u001b[0;32mif\u001b[0m \u001b[0mself\u001b[0m\u001b[0;34m.\u001b[0m\u001b[0m_info_axis\u001b[0m\u001b[0;34m.\u001b[0m\u001b[0m_can_hold_identifiers_and_holds_name\u001b[0m\u001b[0;34m(\u001b[0m\u001b[0mname\u001b[0m\u001b[0;34m)\u001b[0m\u001b[0;34m:\u001b[0m\u001b[0;34m\u001b[0m\u001b[0;34m\u001b[0m\u001b[0m\n\u001b[1;32m   5066\u001b[0m                 \u001b[0;32mreturn\u001b[0m \u001b[0mself\u001b[0m\u001b[0;34m[\u001b[0m\u001b[0mname\u001b[0m\u001b[0;34m]\u001b[0m\u001b[0;34m\u001b[0m\u001b[0;34m\u001b[0m\u001b[0m\n\u001b[0;32m-> 5067\u001b[0;31m             \u001b[0;32mreturn\u001b[0m \u001b[0mobject\u001b[0m\u001b[0;34m.\u001b[0m\u001b[0m__getattribute__\u001b[0m\u001b[0;34m(\u001b[0m\u001b[0mself\u001b[0m\u001b[0;34m,\u001b[0m \u001b[0mname\u001b[0m\u001b[0;34m)\u001b[0m\u001b[0;34m\u001b[0m\u001b[0;34m\u001b[0m\u001b[0m\n\u001b[0m\u001b[1;32m   5068\u001b[0m \u001b[0;34m\u001b[0m\u001b[0m\n\u001b[1;32m   5069\u001b[0m     \u001b[0;32mdef\u001b[0m \u001b[0m__setattr__\u001b[0m\u001b[0;34m(\u001b[0m\u001b[0mself\u001b[0m\u001b[0;34m,\u001b[0m \u001b[0mname\u001b[0m\u001b[0;34m,\u001b[0m \u001b[0mvalue\u001b[0m\u001b[0;34m)\u001b[0m\u001b[0;34m:\u001b[0m\u001b[0;34m\u001b[0m\u001b[0;34m\u001b[0m\u001b[0m\n",
      "\u001b[0;31mAttributeError\u001b[0m: 'DataFrame' object has no attribute 'Age'"
     ]
    }
   ],
   "source": [
    "def fix_age(years_):\n",
    "    # make these numeric in a sensible way  exclude pre-teens and aged >84\n",
    "    if years_ < 13:\n",
    "        return np.NaN\n",
    "    elif years_ > 84:\n",
    "        return np.NaN\n",
    "    else:\n",
    "        return years_\n",
    "\n",
    "\n",
    "df.loc[:, 'nAge'] = pd.to_numeric(df.Age.apply(fix_age))"
   ]
  },
  {
   "cell_type": "code",
   "execution_count": 214,
   "metadata": {},
   "outputs": [
    {
     "ename": "AttributeError",
     "evalue": "'DataFrame' object has no attribute 'Age1stCode'",
     "output_type": "error",
     "traceback": [
      "\u001b[0;31m---------------------------------------------------------------------------\u001b[0m",
      "\u001b[0;31mAttributeError\u001b[0m                            Traceback (most recent call last)",
      "\u001b[0;32m<ipython-input-214-315460943c2c>\u001b[0m in \u001b[0;36m<module>\u001b[0;34m\u001b[0m\n\u001b[1;32m      8\u001b[0m \u001b[0;34m\u001b[0m\u001b[0m\n\u001b[1;32m      9\u001b[0m \u001b[0;34m\u001b[0m\u001b[0m\n\u001b[0;32m---> 10\u001b[0;31m \u001b[0mdf\u001b[0m\u001b[0;34m.\u001b[0m\u001b[0mloc\u001b[0m\u001b[0;34m[\u001b[0m\u001b[0;34m:\u001b[0m\u001b[0;34m,\u001b[0m \u001b[0;34m'nAgeCode'\u001b[0m\u001b[0;34m]\u001b[0m \u001b[0;34m=\u001b[0m \u001b[0mpd\u001b[0m\u001b[0;34m.\u001b[0m\u001b[0mto_numeric\u001b[0m\u001b[0;34m(\u001b[0m\u001b[0mdf\u001b[0m\u001b[0;34m.\u001b[0m\u001b[0mAge1stCode\u001b[0m\u001b[0;34m.\u001b[0m\u001b[0mapply\u001b[0m\u001b[0;34m(\u001b[0m\u001b[0mfix_age1stcode\u001b[0m\u001b[0;34m)\u001b[0m\u001b[0;34m)\u001b[0m\u001b[0;34m\u001b[0m\u001b[0;34m\u001b[0m\u001b[0m\n\u001b[0m",
      "\u001b[0;32m~/anaconda3/lib/python3.7/site-packages/pandas/core/generic.py\u001b[0m in \u001b[0;36m__getattr__\u001b[0;34m(self, name)\u001b[0m\n\u001b[1;32m   5065\u001b[0m             \u001b[0;32mif\u001b[0m \u001b[0mself\u001b[0m\u001b[0;34m.\u001b[0m\u001b[0m_info_axis\u001b[0m\u001b[0;34m.\u001b[0m\u001b[0m_can_hold_identifiers_and_holds_name\u001b[0m\u001b[0;34m(\u001b[0m\u001b[0mname\u001b[0m\u001b[0;34m)\u001b[0m\u001b[0;34m:\u001b[0m\u001b[0;34m\u001b[0m\u001b[0;34m\u001b[0m\u001b[0m\n\u001b[1;32m   5066\u001b[0m                 \u001b[0;32mreturn\u001b[0m \u001b[0mself\u001b[0m\u001b[0;34m[\u001b[0m\u001b[0mname\u001b[0m\u001b[0;34m]\u001b[0m\u001b[0;34m\u001b[0m\u001b[0;34m\u001b[0m\u001b[0m\n\u001b[0;32m-> 5067\u001b[0;31m             \u001b[0;32mreturn\u001b[0m \u001b[0mobject\u001b[0m\u001b[0;34m.\u001b[0m\u001b[0m__getattribute__\u001b[0m\u001b[0;34m(\u001b[0m\u001b[0mself\u001b[0m\u001b[0;34m,\u001b[0m \u001b[0mname\u001b[0m\u001b[0;34m)\u001b[0m\u001b[0;34m\u001b[0m\u001b[0;34m\u001b[0m\u001b[0m\n\u001b[0m\u001b[1;32m   5068\u001b[0m \u001b[0;34m\u001b[0m\u001b[0m\n\u001b[1;32m   5069\u001b[0m     \u001b[0;32mdef\u001b[0m \u001b[0m__setattr__\u001b[0m\u001b[0;34m(\u001b[0m\u001b[0mself\u001b[0m\u001b[0;34m,\u001b[0m \u001b[0mname\u001b[0m\u001b[0;34m,\u001b[0m \u001b[0mvalue\u001b[0m\u001b[0;34m)\u001b[0m\u001b[0;34m:\u001b[0m\u001b[0;34m\u001b[0m\u001b[0;34m\u001b[0m\u001b[0m\n",
      "\u001b[0;31mAttributeError\u001b[0m: 'DataFrame' object has no attribute 'Age1stCode'"
     ]
    }
   ],
   "source": [
    "def fix_age1stcode(years_):\n",
    "    if years_ == 'Younger than 5 years':\n",
    "        return 4.5\n",
    "    elif years_ == 'Older than 85':\n",
    "        return 85.\n",
    "    else:\n",
    "        return years_\n",
    "\n",
    "\n",
    "df.loc[:, 'nAgeCode'] = pd.to_numeric(df.Age1stCode.apply(fix_age1stcode))"
   ]
  },
  {
   "cell_type": "code",
   "execution_count": 219,
   "metadata": {},
   "outputs": [
    {
     "ename": "AttributeError",
     "evalue": "'DataFrame' object has no attribute 'Age'",
     "output_type": "error",
     "traceback": [
      "\u001b[0;31m---------------------------------------------------------------------------\u001b[0m",
      "\u001b[0;31mAttributeError\u001b[0m                            Traceback (most recent call last)",
      "\u001b[0;32m<ipython-input-219-cdd820d95612>\u001b[0m in \u001b[0;36m<module>\u001b[0;34m\u001b[0m\n\u001b[0;32m----> 1\u001b[0;31m \u001b[0mdf\u001b[0m\u001b[0;34m.\u001b[0m\u001b[0mAge\u001b[0m\u001b[0;34m.\u001b[0m\u001b[0mdescribe\u001b[0m\u001b[0;34m(\u001b[0m\u001b[0;34m)\u001b[0m\u001b[0;34m\u001b[0m\u001b[0;34m\u001b[0m\u001b[0m\n\u001b[0m",
      "\u001b[0;32m~/anaconda3/lib/python3.7/site-packages/pandas/core/generic.py\u001b[0m in \u001b[0;36m__getattr__\u001b[0;34m(self, name)\u001b[0m\n\u001b[1;32m   5065\u001b[0m             \u001b[0;32mif\u001b[0m \u001b[0mself\u001b[0m\u001b[0;34m.\u001b[0m\u001b[0m_info_axis\u001b[0m\u001b[0;34m.\u001b[0m\u001b[0m_can_hold_identifiers_and_holds_name\u001b[0m\u001b[0;34m(\u001b[0m\u001b[0mname\u001b[0m\u001b[0;34m)\u001b[0m\u001b[0;34m:\u001b[0m\u001b[0;34m\u001b[0m\u001b[0;34m\u001b[0m\u001b[0m\n\u001b[1;32m   5066\u001b[0m                 \u001b[0;32mreturn\u001b[0m \u001b[0mself\u001b[0m\u001b[0;34m[\u001b[0m\u001b[0mname\u001b[0m\u001b[0;34m]\u001b[0m\u001b[0;34m\u001b[0m\u001b[0;34m\u001b[0m\u001b[0m\n\u001b[0;32m-> 5067\u001b[0;31m             \u001b[0;32mreturn\u001b[0m \u001b[0mobject\u001b[0m\u001b[0;34m.\u001b[0m\u001b[0m__getattribute__\u001b[0m\u001b[0;34m(\u001b[0m\u001b[0mself\u001b[0m\u001b[0;34m,\u001b[0m \u001b[0mname\u001b[0m\u001b[0;34m)\u001b[0m\u001b[0;34m\u001b[0m\u001b[0;34m\u001b[0m\u001b[0m\n\u001b[0m\u001b[1;32m   5068\u001b[0m \u001b[0;34m\u001b[0m\u001b[0m\n\u001b[1;32m   5069\u001b[0m     \u001b[0;32mdef\u001b[0m \u001b[0m__setattr__\u001b[0m\u001b[0;34m(\u001b[0m\u001b[0mself\u001b[0m\u001b[0;34m,\u001b[0m \u001b[0mname\u001b[0m\u001b[0;34m,\u001b[0m \u001b[0mvalue\u001b[0m\u001b[0;34m)\u001b[0m\u001b[0;34m:\u001b[0m\u001b[0;34m\u001b[0m\u001b[0;34m\u001b[0m\u001b[0m\n",
      "\u001b[0;31mAttributeError\u001b[0m: 'DataFrame' object has no attribute 'Age'"
     ]
    }
   ],
   "source": [
    "df.Age.describe()"
   ]
  },
  {
   "cell_type": "code",
   "execution_count": 220,
   "metadata": {},
   "outputs": [
    {
     "data": {
      "text/plain": [
       "count    57721.000000\n",
       "mean        40.299745\n",
       "std          9.952120\n",
       "min          4.000000\n",
       "25%         40.000000\n",
       "50%         40.000000\n",
       "75%         43.000000\n",
       "max        140.000000\n",
       "Name: WorkWeekH, dtype: float64"
      ]
     },
     "execution_count": 220,
     "metadata": {},
     "output_type": "execute_result"
    }
   ],
   "source": [
    "df['WorkWeekH'].dropna().describe()\n",
    "# looks good"
   ]
  },
  {
   "cell_type": "code",
   "execution_count": 232,
   "metadata": {},
   "outputs": [
    {
     "data": {
      "text/html": [
       "<div>\n",
       "<style scoped>\n",
       "    .dataframe tbody tr th:only-of-type {\n",
       "        vertical-align: middle;\n",
       "    }\n",
       "\n",
       "    .dataframe tbody tr th {\n",
       "        vertical-align: top;\n",
       "    }\n",
       "\n",
       "    .dataframe thead th {\n",
       "        text-align: right;\n",
       "    }\n",
       "</style>\n",
       "<table border=\"1\" class=\"dataframe\">\n",
       "  <thead>\n",
       "    <tr style=\"text-align: right;\">\n",
       "      <th></th>\n",
       "      <th>count</th>\n",
       "      <th>mean</th>\n",
       "      <th>median</th>\n",
       "    </tr>\n",
       "    <tr>\n",
       "      <th>Country</th>\n",
       "      <th></th>\n",
       "      <th></th>\n",
       "      <th></th>\n",
       "    </tr>\n",
       "  </thead>\n",
       "  <tbody>\n",
       "    <tr>\n",
       "      <th>United States</th>\n",
       "      <td>2701</td>\n",
       "      <td>251445.277675</td>\n",
       "      <td>110000.0</td>\n",
       "    </tr>\n",
       "    <tr>\n",
       "      <th>Switzerland</th>\n",
       "      <td>112</td>\n",
       "      <td>148413.687500</td>\n",
       "      <td>95440.0</td>\n",
       "    </tr>\n",
       "    <tr>\n",
       "      <th>Israel</th>\n",
       "      <td>59</td>\n",
       "      <td>92595.338983</td>\n",
       "      <td>92376.0</td>\n",
       "    </tr>\n",
       "    <tr>\n",
       "      <th>Denmark</th>\n",
       "      <td>71</td>\n",
       "      <td>120801.718310</td>\n",
       "      <td>89004.0</td>\n",
       "    </tr>\n",
       "    <tr>\n",
       "      <th>Norway</th>\n",
       "      <td>77</td>\n",
       "      <td>183260.480519</td>\n",
       "      <td>82946.0</td>\n",
       "    </tr>\n",
       "    <tr>\n",
       "      <th>Australia</th>\n",
       "      <td>248</td>\n",
       "      <td>187824.987903</td>\n",
       "      <td>79783.0</td>\n",
       "    </tr>\n",
       "    <tr>\n",
       "      <th>Ireland</th>\n",
       "      <td>57</td>\n",
       "      <td>264499.614035</td>\n",
       "      <td>77911.0</td>\n",
       "    </tr>\n",
       "    <tr>\n",
       "      <th>Iceland</th>\n",
       "      <td>4</td>\n",
       "      <td>77163.000000</td>\n",
       "      <td>76662.0</td>\n",
       "    </tr>\n",
       "    <tr>\n",
       "      <th>Canada</th>\n",
       "      <td>378</td>\n",
       "      <td>148604.470899</td>\n",
       "      <td>70231.0</td>\n",
       "    </tr>\n",
       "    <tr>\n",
       "      <th>United Kingdom</th>\n",
       "      <td>701</td>\n",
       "      <td>164869.318117</td>\n",
       "      <td>68041.0</td>\n",
       "    </tr>\n",
       "  </tbody>\n",
       "</table>\n",
       "</div>"
      ],
      "text/plain": [
       "                count           mean    median\n",
       "Country                                       \n",
       "United States    2701  251445.277675  110000.0\n",
       "Switzerland       112  148413.687500   95440.0\n",
       "Israel             59   92595.338983   92376.0\n",
       "Denmark            71  120801.718310   89004.0\n",
       "Norway             77  183260.480519   82946.0\n",
       "Australia         248  187824.987903   79783.0\n",
       "Ireland            57  264499.614035   77911.0\n",
       "Iceland             4   77163.000000   76662.0\n",
       "Canada            378  148604.470899   70231.0\n",
       "United Kingdom    701  164869.318117   68041.0"
      ]
     },
     "execution_count": 232,
     "metadata": {},
     "output_type": "execute_result"
    }
   ],
   "source": [
    "compStats = df.dropna().groupby('Country').ConvertedComp.agg(\n",
    "    ['count', 'mean', 'median']).sort_values('median', ascending=False)\n",
    "compStats = compStats[compStats['count']>3] \n",
    "compStats.head(10)\n",
    "\n",
    "# looks like the US has lots of \"outliers\" but is still the highes paid \n",
    "# note that ConvertedComp seems to have some errors (e.g. Uganada and Korean pay is too high)"
   ]
  },
  {
   "cell_type": "code",
   "execution_count": 233,
   "metadata": {},
   "outputs": [
    {
     "data": {
      "text/html": [
       "<div>\n",
       "<style scoped>\n",
       "    .dataframe tbody tr th:only-of-type {\n",
       "        vertical-align: middle;\n",
       "    }\n",
       "\n",
       "    .dataframe tbody tr th {\n",
       "        vertical-align: top;\n",
       "    }\n",
       "\n",
       "    .dataframe thead th {\n",
       "        text-align: right;\n",
       "    }\n",
       "</style>\n",
       "<table border=\"1\" class=\"dataframe\">\n",
       "  <thead>\n",
       "    <tr style=\"text-align: right;\">\n",
       "      <th></th>\n",
       "      <th>count</th>\n",
       "      <th>mean</th>\n",
       "      <th>median</th>\n",
       "    </tr>\n",
       "    <tr>\n",
       "      <th>Country</th>\n",
       "      <th></th>\n",
       "      <th></th>\n",
       "      <th></th>\n",
       "    </tr>\n",
       "  </thead>\n",
       "  <tbody>\n",
       "    <tr>\n",
       "      <th>Albania</th>\n",
       "      <td>6</td>\n",
       "      <td>23402.333333</td>\n",
       "      <td>9162.0</td>\n",
       "    </tr>\n",
       "    <tr>\n",
       "      <th>Ghana</th>\n",
       "      <td>7</td>\n",
       "      <td>12664.285714</td>\n",
       "      <td>9018.0</td>\n",
       "    </tr>\n",
       "    <tr>\n",
       "      <th>Bangladesh</th>\n",
       "      <td>22</td>\n",
       "      <td>11217.409091</td>\n",
       "      <td>8598.0</td>\n",
       "    </tr>\n",
       "    <tr>\n",
       "      <th>Indonesia</th>\n",
       "      <td>22</td>\n",
       "      <td>11084.090909</td>\n",
       "      <td>8172.0</td>\n",
       "    </tr>\n",
       "    <tr>\n",
       "      <th>Sri Lanka</th>\n",
       "      <td>21</td>\n",
       "      <td>28990.857143</td>\n",
       "      <td>8148.0</td>\n",
       "    </tr>\n",
       "    <tr>\n",
       "      <th>Nigeria</th>\n",
       "      <td>28</td>\n",
       "      <td>27508.392857</td>\n",
       "      <td>8044.0</td>\n",
       "    </tr>\n",
       "    <tr>\n",
       "      <th>Philippines</th>\n",
       "      <td>32</td>\n",
       "      <td>11704.218750</td>\n",
       "      <td>7572.0</td>\n",
       "    </tr>\n",
       "    <tr>\n",
       "      <th>Pakistan</th>\n",
       "      <td>52</td>\n",
       "      <td>10346.288462</td>\n",
       "      <td>7368.0</td>\n",
       "    </tr>\n",
       "    <tr>\n",
       "      <th>Nepal</th>\n",
       "      <td>9</td>\n",
       "      <td>6709.333333</td>\n",
       "      <td>5268.0</td>\n",
       "    </tr>\n",
       "    <tr>\n",
       "      <th>Venezuela, Bolivarian Republic of...</th>\n",
       "      <td>8</td>\n",
       "      <td>7151.750000</td>\n",
       "      <td>4992.0</td>\n",
       "    </tr>\n",
       "  </tbody>\n",
       "</table>\n",
       "</div>"
      ],
      "text/plain": [
       "                                      count          mean  median\n",
       "Country                                                          \n",
       "Albania                                   6  23402.333333  9162.0\n",
       "Ghana                                     7  12664.285714  9018.0\n",
       "Bangladesh                               22  11217.409091  8598.0\n",
       "Indonesia                                22  11084.090909  8172.0\n",
       "Sri Lanka                                21  28990.857143  8148.0\n",
       "Nigeria                                  28  27508.392857  8044.0\n",
       "Philippines                              32  11704.218750  7572.0\n",
       "Pakistan                                 52  10346.288462  7368.0\n",
       "Nepal                                     9   6709.333333  5268.0\n",
       "Venezuela, Bolivarian Republic of...      8   7151.750000  4992.0"
      ]
     },
     "execution_count": 233,
     "metadata": {},
     "output_type": "execute_result"
    }
   ],
   "source": [
    "compStats.tail(10)"
   ]
  },
  {
   "cell_type": "markdown",
   "metadata": {},
   "source": [
    "###  Categorize according to standard \"generations\"\n",
    "\n",
    "- Gen Z\n",
    "- Millenial\n",
    "- Gen X\n",
    "- Boomers\n",
    "- Silent\n",
    "\n",
    "![alt text][logo]\n",
    "\n",
    "[logo]:\n",
    "https://www.pewresearch.org/wp-content/uploads/2019/01/FT_19.01.17_generations_2019.png\n"
   ]
  },
  {
   "cell_type": "code",
   "execution_count": 247,
   "metadata": {},
   "outputs": [
    {
     "ename": "AttributeError",
     "evalue": "'DataFrame' object has no attribute 'Age'",
     "output_type": "error",
     "traceback": [
      "\u001b[0;31m---------------------------------------------------------------------------\u001b[0m",
      "\u001b[0;31mAttributeError\u001b[0m                            Traceback (most recent call last)",
      "\u001b[0;32m<ipython-input-247-bd1e26fed433>\u001b[0m in \u001b[0;36m<module>\u001b[0;34m\u001b[0m\n\u001b[1;32m     26\u001b[0m \u001b[0;31m# Apply function to subsets\u001b[0m\u001b[0;34m\u001b[0m\u001b[0;34m\u001b[0m\u001b[0;34m\u001b[0m\u001b[0m\n\u001b[1;32m     27\u001b[0m \u001b[0mdf\u001b[0m\u001b[0;34m.\u001b[0m\u001b[0mloc\u001b[0m\u001b[0;34m[\u001b[0m\u001b[0;34m:\u001b[0m\u001b[0;34m,\u001b[0m \u001b[0;34m'Gen'\u001b[0m\u001b[0;34m]\u001b[0m \u001b[0;34m=\u001b[0m \u001b[0mnp\u001b[0m\u001b[0;34m.\u001b[0m\u001b[0mnan\u001b[0m\u001b[0;34m\u001b[0m\u001b[0;34m\u001b[0m\u001b[0m\n\u001b[0;32m---> 28\u001b[0;31m \u001b[0mdf\u001b[0m\u001b[0;34m.\u001b[0m\u001b[0mloc\u001b[0m\u001b[0;34m[\u001b[0m\u001b[0;34m:\u001b[0m\u001b[0;34m,\u001b[0m \u001b[0;34m'Gen'\u001b[0m\u001b[0;34m]\u001b[0m \u001b[0;34m=\u001b[0m \u001b[0mdf\u001b[0m\u001b[0;34m.\u001b[0m\u001b[0mAge\u001b[0m\u001b[0;34m.\u001b[0m\u001b[0mapply\u001b[0m\u001b[0;34m(\u001b[0m\u001b[0mfind_gen\u001b[0m\u001b[0;34m)\u001b[0m\u001b[0;34m.\u001b[0m\u001b[0mcopy\u001b[0m\u001b[0;34m(\u001b[0m\u001b[0;34m)\u001b[0m\u001b[0;34m\u001b[0m\u001b[0;34m\u001b[0m\u001b[0m\n\u001b[0m\u001b[1;32m     29\u001b[0m \u001b[0mdf\u001b[0m\u001b[0;34m.\u001b[0m\u001b[0mloc\u001b[0m\u001b[0;34m[\u001b[0m\u001b[0;34m:\u001b[0m\u001b[0;34m,\u001b[0m \u001b[0;34m'Gen'\u001b[0m\u001b[0;34m]\u001b[0m \u001b[0;34m=\u001b[0m \u001b[0mdf\u001b[0m\u001b[0;34m.\u001b[0m\u001b[0mGen\u001b[0m\u001b[0;34m.\u001b[0m\u001b[0mastype\u001b[0m\u001b[0;34m(\u001b[0m\u001b[0mgeneration_cat\u001b[0m\u001b[0;34m)\u001b[0m\u001b[0;34m\u001b[0m\u001b[0;34m\u001b[0m\u001b[0m\n\u001b[1;32m     30\u001b[0m \u001b[0;34m\u001b[0m\u001b[0m\n",
      "\u001b[0;32m~/anaconda3/lib/python3.7/site-packages/pandas/core/generic.py\u001b[0m in \u001b[0;36m__getattr__\u001b[0;34m(self, name)\u001b[0m\n\u001b[1;32m   5065\u001b[0m             \u001b[0;32mif\u001b[0m \u001b[0mself\u001b[0m\u001b[0;34m.\u001b[0m\u001b[0m_info_axis\u001b[0m\u001b[0;34m.\u001b[0m\u001b[0m_can_hold_identifiers_and_holds_name\u001b[0m\u001b[0;34m(\u001b[0m\u001b[0mname\u001b[0m\u001b[0;34m)\u001b[0m\u001b[0;34m:\u001b[0m\u001b[0;34m\u001b[0m\u001b[0;34m\u001b[0m\u001b[0m\n\u001b[1;32m   5066\u001b[0m                 \u001b[0;32mreturn\u001b[0m \u001b[0mself\u001b[0m\u001b[0;34m[\u001b[0m\u001b[0mname\u001b[0m\u001b[0;34m]\u001b[0m\u001b[0;34m\u001b[0m\u001b[0;34m\u001b[0m\u001b[0m\n\u001b[0;32m-> 5067\u001b[0;31m             \u001b[0;32mreturn\u001b[0m \u001b[0mobject\u001b[0m\u001b[0;34m.\u001b[0m\u001b[0m__getattribute__\u001b[0m\u001b[0;34m(\u001b[0m\u001b[0mself\u001b[0m\u001b[0;34m,\u001b[0m \u001b[0mname\u001b[0m\u001b[0;34m)\u001b[0m\u001b[0;34m\u001b[0m\u001b[0;34m\u001b[0m\u001b[0m\n\u001b[0m\u001b[1;32m   5068\u001b[0m \u001b[0;34m\u001b[0m\u001b[0m\n\u001b[1;32m   5069\u001b[0m     \u001b[0;32mdef\u001b[0m \u001b[0m__setattr__\u001b[0m\u001b[0;34m(\u001b[0m\u001b[0mself\u001b[0m\u001b[0;34m,\u001b[0m \u001b[0mname\u001b[0m\u001b[0;34m,\u001b[0m \u001b[0mvalue\u001b[0m\u001b[0;34m)\u001b[0m\u001b[0;34m:\u001b[0m\u001b[0;34m\u001b[0m\u001b[0;34m\u001b[0m\u001b[0m\n",
      "\u001b[0;31mAttributeError\u001b[0m: 'DataFrame' object has no attribute 'Age'"
     ]
    }
   ],
   "source": [
    "# Convert Age to generation with 2019 as current time reference\n",
    "def find_gen(age):\n",
    "    \"\"\"\n",
    "    \"\"\"\n",
    "    if age <= 22:\n",
    "        gen = 'GenZ'\n",
    "        return gen\n",
    "    elif age <= 38:\n",
    "        gen = 'Millenial'\n",
    "    elif age <= 54:\n",
    "        gen = 'GenX'\n",
    "    elif age <= 73:\n",
    "        gen = 'Boomer'\n",
    "    else:\n",
    "        gen = 'Silent'\n",
    "    return gen\n",
    "\n",
    "\n",
    "generation_cat = CategoricalDtype(['GenZ',\n",
    "                                   'Millenial',\n",
    "                                   'GenX',\n",
    "                                   'Boomer',\n",
    "                                   'Silent',  # 'N/A'\n",
    "                                   ], ordered=True)\n",
    "\n",
    "# Apply function to subsets\n",
    "df.loc[:, 'Gen'] = np.nan\n",
    "df.loc[:, 'Gen'] = df.Age.apply(find_gen).copy()\n",
    "df.loc[:, 'Gen'] = df.Gen.astype(generation_cat)\n",
    "\n"
   ]
  },
  {
   "cell_type": "code",
   "execution_count": 45,
   "metadata": {},
   "outputs": [],
   "source": [
    "# CREATE A FIGURE WITH HISTOGRAMS OF SALARY for each generation"
   ]
  },
  {
   "cell_type": "code",
   "execution_count": 246,
   "metadata": {},
   "outputs": [
    {
     "data": {
      "text/html": [
       "<div>\n",
       "<style scoped>\n",
       "    .dataframe tbody tr th:only-of-type {\n",
       "        vertical-align: middle;\n",
       "    }\n",
       "\n",
       "    .dataframe tbody tr th {\n",
       "        vertical-align: top;\n",
       "    }\n",
       "\n",
       "    .dataframe thead th {\n",
       "        text-align: right;\n",
       "    }\n",
       "</style>\n",
       "<table border=\"1\" class=\"dataframe\">\n",
       "  <thead>\n",
       "    <tr style=\"text-align: right;\">\n",
       "      <th></th>\n",
       "      <th>count</th>\n",
       "      <th>mean</th>\n",
       "      <th>median</th>\n",
       "      <th>sem</th>\n",
       "      <th>max</th>\n",
       "      <th>min</th>\n",
       "    </tr>\n",
       "    <tr>\n",
       "      <th>Gen</th>\n",
       "      <th></th>\n",
       "      <th></th>\n",
       "      <th></th>\n",
       "      <th></th>\n",
       "      <th></th>\n",
       "      <th></th>\n",
       "    </tr>\n",
       "  </thead>\n",
       "  <tbody>\n",
       "    <tr>\n",
       "      <th>GenZ</th>\n",
       "      <td>3574</td>\n",
       "      <td>67505.028819</td>\n",
       "      <td>19236.0</td>\n",
       "      <td>3701.555070</td>\n",
       "      <td>2000000.0</td>\n",
       "      <td>0.0</td>\n",
       "    </tr>\n",
       "    <tr>\n",
       "      <th>Millenial</th>\n",
       "      <td>37425</td>\n",
       "      <td>121506.230969</td>\n",
       "      <td>53850.0</td>\n",
       "      <td>1448.691504</td>\n",
       "      <td>2000000.0</td>\n",
       "      <td>0.0</td>\n",
       "    </tr>\n",
       "    <tr>\n",
       "      <th>GenX</th>\n",
       "      <td>6654</td>\n",
       "      <td>176570.177638</td>\n",
       "      <td>93492.0</td>\n",
       "      <td>3793.224584</td>\n",
       "      <td>2000000.0</td>\n",
       "      <td>0.0</td>\n",
       "    </tr>\n",
       "    <tr>\n",
       "      <th>Boomer</th>\n",
       "      <td>796</td>\n",
       "      <td>209459.015075</td>\n",
       "      <td>110000.0</td>\n",
       "      <td>13164.119463</td>\n",
       "      <td>2000000.0</td>\n",
       "      <td>0.0</td>\n",
       "    </tr>\n",
       "    <tr>\n",
       "      <th>Silent</th>\n",
       "      <td>2053</td>\n",
       "      <td>138289.154408</td>\n",
       "      <td>60000.0</td>\n",
       "      <td>6762.615024</td>\n",
       "      <td>2000000.0</td>\n",
       "      <td>0.0</td>\n",
       "    </tr>\n",
       "  </tbody>\n",
       "</table>\n",
       "</div>"
      ],
      "text/plain": [
       "           count           mean    median           sem        max  min\n",
       "Gen                                                                    \n",
       "GenZ        3574   67505.028819   19236.0   3701.555070  2000000.0  0.0\n",
       "Millenial  37425  121506.230969   53850.0   1448.691504  2000000.0  0.0\n",
       "GenX        6654  176570.177638   93492.0   3793.224584  2000000.0  0.0\n",
       "Boomer       796  209459.015075  110000.0  13164.119463  2000000.0  0.0\n",
       "Silent      2053  138289.154408   60000.0   6762.615024  2000000.0  0.0"
      ]
     },
     "execution_count": 246,
     "metadata": {},
     "output_type": "execute_result"
    }
   ],
   "source": [
    "df.groupby('Gen').ConvertedComp.agg(['count', 'mean', 'median','sem','max','min'])"
   ]
  },
  {
   "cell_type": "markdown",
   "metadata": {},
   "source": [
    "### Column Cleanup\n",
    "- Drop columns which we don't want to anlayze\n",
    "- re-order/group columns (in case we want to select with slices?)\n",
    "- Remove all leading and trailing spaces (not nescessary)\n",
    "- Rename the columns for consistency (not nescessary)"
   ]
  },
  {
   "cell_type": "code",
   "execution_count": 47,
   "metadata": {},
   "outputs": [],
   "source": [
    "#df.columns\n",
    "# Drop unnecessary columns\n",
    "keep_columns = [\n",
    "    'MainBranch',  # should be only Developers so could drop\n",
    "    #\n",
    "    'Employment',\n",
    "    'Country',\n",
    "    'Student',\n",
    "    #\n",
    "    'EdLevel',\n",
    "    'UndergradMajor',\n",
    "    'Major',\n",
    "    'Education',\n",
    "    #\n",
    "    'OrgSize',\n",
    "    'DevType',\n",
    "    'isDS', 'isDev', 'notDS', 'DSorDV',\n",
    "    # Years  -treat as numbers\n",
    "    'nYearsCode',  # 'YearsCode',\n",
    "    'nYearsPro',  # 'YearsCodePro',\n",
    "    'nAgeCode',  # 'Age1stCide'\n",
    "    'WorkWeekH',  # 'WorkWeekHrs'\n",
    "    #\n",
    "    'ImpSyn',  # PRIMARY  # Self - competence !!!\n",
    "    'CareerSat',\n",
    "    'JobSat',\n",
    "    'MgrIdiot',  # MGR competence\n",
    "    'MgrMoney',  # do you need to be a manager to make $$\n",
    "    'MgrWant',  # do you want to be a manager\n",
    "    # 'JobFactors', # what drives values - grouped with other list types below\n",
    "    'ConvertedComp',  # PRIMARY\n",
    "    #\n",
    "    'OpenSourcer',\n",
    "    'OpenSource',\n",
    "    #\n",
    "    'OpSys',\n",
    "    'BlockchainOrg', 'BlockchainIs',\n",
    "    # personality\n",
    "    'BetterLife',\n",
    "    'ITperson', 'OffOn',\n",
    "    #  social / demographic\n",
    "    'SocialMedia',\n",
    "    'Extraversion',\n",
    "    'ScreenName',\n",
    "    'nAge', 'Gen',\n",
    "    'Gender', 'Trans',\n",
    "    'Sexuality', 'Ethnicity', 'Dependents',\n",
    "    # do these pairs  helps is understand how they see the future? (maybe drop)\n",
    "    'JobFactors', 'DevEnviron',\n",
    "    'Containers', 'WorkChallenge',\n",
    "    'LanguageWorkedWith', 'LanguageDesireNextYear',\n",
    "    'DatabaseWorkedWith', 'DatabaseDesireNextYear',\n",
    "    'MiscTechWorkedWith', 'MiscTechDesireNextYear',\n",
    "    'PlatformWorkedWith', 'PlatformDesireNextYear',\n",
    "    'EduOther',\n",
    "    # might want to look at these later.\n",
    "    'Hobbyist',\n",
    "    'FizzBuzz',\n",
    "    'ResumeUpdate',\n",
    "    'CurrencySymbol', 'CurrencyDesc',\n",
    "    'CompTotal', 'CompFreq',\n",
    "    'SurveyLength', 'SurveyEase']\n",
    "\n",
    "\n",
    "df = df[keep_columns]"
   ]
  },
  {
   "cell_type": "code",
   "execution_count": 48,
   "metadata": {},
   "outputs": [],
   "source": [
    "new_columns = ['Education', 'Major', 'nYearsCode', 'nAgeCode', 'nAge'\n",
    "               'nYearsPro', 'WorkWeekH', 'Gen', 'isDS', 'isDev', 'notDS']"
   ]
  },
  {
   "cell_type": "code",
   "execution_count": 49,
   "metadata": {},
   "outputs": [
    {
     "name": "stdout",
     "output_type": "stream",
     "text": [
      "The dataset now contains 65679 rows and 65 columns.\n"
     ]
    }
   ],
   "source": [
    "# SKIP ALL STACKOVERFLOW PARTICULARS\n",
    "#'JobSeek','LastHireDate', 'LastInt',\n",
    "#'WorkPlan', 'WorkChallenge',\n",
    "#' WorkRemote', 'WorkLoc',\n",
    "#'CodeRev', 'CodeRevHrs', 'UnitTests',\n",
    "#'PurchaseHow', 'PurchaseWhat',\n",
    "# Skip these\n",
    "# 'WebFrameWorkedWith','WebFrameDesireNextYear',\n",
    "# Print shape of dataset\n",
    "print('The dataset now contains',\n",
    "      df.shape[0], 'rows and', df.shape[1], 'columns.')"
   ]
  },
  {
   "cell_type": "code",
   "execution_count": 250,
   "metadata": {},
   "outputs": [],
   "source": [
    "isDS = df['isDS']\n",
    "isDev = df['isDev']"
   ]
  },
  {
   "cell_type": "markdown",
   "metadata": {},
   "source": [
    "---\n",
    "## Split Multi-Selection Fields \n",
    "\n",
    "For the fields where multiple selections were possible (e.g.  `JobFactors`,`DevEnviron`, and `LanguageWorkedWith`), split the strings containing the multiple selections into a list of selections and then concatenate these lists into a single list (dropping any missing values in the process). \n",
    "\n",
    "We may also want to simplify these fields to reduce the length of category labels and to group similar categories into a single category apon further analysis.\n",
    "This splitting will be the basis for Language, DB, Tech \"FEELINGS\" analysis as well.\n"
   ]
  },
  {
   "cell_type": "code",
   "execution_count": 50,
   "metadata": {},
   "outputs": [],
   "source": [
    "# We have to split the LanguageWorkedWith to get a proper picture\n",
    "#languages = survey[survey['LanguageWorkedWith'].notnull()]\n",
    "\n",
    "\n",
    "def split_multiselect(df, col):\n",
    "    \"\"\"Create a new dataframe that splits the values of multi-selection column col into individual selections and \n",
    "    places each selection into a boolean column. This new dataframe can be merged into the original dataframe by \n",
    "    Respondent (index)value.\n",
    "\n",
    "    Args:\n",
    "    df: dataframe. Dataframe containing the multi-selection field col.\n",
    "    col:  column name\n",
    "\n",
    "    Returns:\n",
    "    out_df: dataframe. New dataframe giving split values of col.\n",
    "        \"\"\"\n",
    "\n",
    "    unique_selects = {}\n",
    "\n",
    "    select_na = df[col].isnull()\n",
    "    # split the languages on ;\n",
    "    # for language_set in survey['LanguageWorkedWith'].dropna().apply(lambda row: str(row).split(';')) :\n",
    "    for select_set in df[col].apply(lambda row: str(row).split(';')):\n",
    "        for select in select_set:\n",
    "            if select not in unique_selects.keys():\n",
    "                unique_selects[select] = 1\n",
    "            else:\n",
    "                unique_selects[select] += 1\n",
    "\n",
    "    un_sel = pd.Series(unique_selects).sort_values(ascending=False).copy()\n",
    "    #un_sel.index == 'nan'\n",
    "    out_df = pd.DataFrame()  # columns = unique_selects)\n",
    "    new_cols = []\n",
    "    for sel in un_sel.index:\n",
    "        col_name = col[:25] + '_' + sel.replace(' ', '_')\n",
    "        new_cols.append(col_name)\n",
    "        if (sel == 'nan'):\n",
    "            out_df.loc[:, col_name] = select_na\n",
    "        else:\n",
    "            out_df.loc[:, col_name] = ~ select_na  # df[col]\n",
    "            selected = df[col].dropna().str.split(';').copy()  # .tolist()\n",
    "            # need to strip the nulls\n",
    "            out_df.loc[~select_na, col_name] = selected.apply(\n",
    "                lambda x: sel in x)\n",
    "            out_df.loc[select_na, col_name] = np.nan\n",
    "\n",
    "    return out_df, new_cols"
   ]
  },
  {
   "cell_type": "code",
   "execution_count": 173,
   "metadata": {},
   "outputs": [],
   "source": [
    "def plot_dev_vs_df(df_dev,df_ds,title_text,xlimit,ylabel_text):\n",
    "    \n",
    "    fig = plt.figure(figsize = (15,12))\n",
    "    grid_size = (10,10)  # lets space stuff out...\n",
    "    SOURCE_TEXT = 'Source: StackOverFlow Dev survey, 2019'\n",
    "\n",
    "    #title_text = 'language LOVE (use now AND want to use it next year'\n",
    "    #xlimit = {0,95} # \n",
    "\n",
    "    xlabel_text = 'Incidence (pct)'\n",
    "    \n",
    "    # Place A Title On The Figure\n",
    "    fig.text(x=0.995, y=0.02, s=SOURCE_TEXT, verticalalignment='bottom',rotation='vertical',color='#524939')\n",
    "    # Overlay multiple plots onto the same axis, which spans 1 entire column of the figure\n",
    "    tall_left_ax = plt.subplot2grid(grid_size, (1,1), colspan=3, rowspan=9)\n",
    "    tall_right_ax = plt.subplot2grid(grid_size, (1,6), colspan=3, rowspan=9)\n",
    "\n",
    "    #ax1 = lang_pct.plot.barh(ax=tall_left_ax,legend=False, title='All Respondents',label='xxx',x='string',y='lang')\n",
    "    ax1 = df_dev.plot.barh(ax=tall_left_ax, legend=False, title='Developers').set(xlabel=xlabel_text,ylabel=ylabel_text,xlim=xlimit)\n",
    "    ax2 = df_ds.plot.barh(ax=tall_right_ax, legend=False, title='Data Scientists').set(xlabel=xlabel_text,xlim=xlimit)\n",
    "    #plt.tight_layout()\n",
    "    plt.suptitle(title_text,fontsize=22)\n",
    "    # should also move the ylabels to the right side for the second plot...\n",
    "\n"
   ]
  },
  {
   "cell_type": "markdown",
   "metadata": {},
   "source": [
    "### JobFactor & WorkChallenges \n",
    "\n",
    "`JobFactors`,`WorkChallenge`\n"
   ]
  },
  {
   "cell_type": "code",
   "execution_count": 251,
   "metadata": {},
   "outputs": [],
   "source": [
    "jobfact, jobfact_cols = split_multiselect(df, 'JobFactors')\n",
    "jobchal, jobchal_cols = split_multiselect(df, 'WorkChallenge')"
   ]
  },
  {
   "cell_type": "code",
   "execution_count": 271,
   "metadata": {},
   "outputs": [],
   "source": [
    "jobf_dev = (100*jobfact[isDev].mean()).sort_values(ascending=False)\n",
    "sorted_index = jobf_dev.index\n",
    "jobf_ds = (100*jobfact[isDS].mean())\n",
    "jobf_ds = jobf_ds[sorted_index]\n",
    "jobf_ = pd.DataFrame(jobf_dev - jobf_ds)"
   ]
  },
  {
   "cell_type": "code",
   "execution_count": 274,
   "metadata": {},
   "outputs": [
    {
     "data": {
      "text/html": [
       "<div>\n",
       "<style scoped>\n",
       "    .dataframe tbody tr th:only-of-type {\n",
       "        vertical-align: middle;\n",
       "    }\n",
       "\n",
       "    .dataframe tbody tr th {\n",
       "        vertical-align: top;\n",
       "    }\n",
       "\n",
       "    .dataframe thead th {\n",
       "        text-align: right;\n",
       "    }\n",
       "</style>\n",
       "<table border=\"1\" class=\"dataframe\">\n",
       "  <thead>\n",
       "    <tr style=\"text-align: right;\">\n",
       "      <th></th>\n",
       "      <th>0</th>\n",
       "      <th>dev</th>\n",
       "      <th>DS</th>\n",
       "    </tr>\n",
       "  </thead>\n",
       "  <tbody>\n",
       "    <tr>\n",
       "      <th>JobFactors_Languages,_frameworks,_and_other_technologies_I'd_be_working_with</th>\n",
       "      <td>8.037089</td>\n",
       "      <td>57.461945</td>\n",
       "      <td>49.424856</td>\n",
       "    </tr>\n",
       "    <tr>\n",
       "      <th>JobFactors_Office_environment_or_company_culture</th>\n",
       "      <td>3.906225</td>\n",
       "      <td>48.704925</td>\n",
       "      <td>44.798700</td>\n",
       "    </tr>\n",
       "    <tr>\n",
       "      <th>JobFactors_Flex_time_or_a_flexible_schedule</th>\n",
       "      <td>1.954643</td>\n",
       "      <td>46.528287</td>\n",
       "      <td>44.573643</td>\n",
       "    </tr>\n",
       "    <tr>\n",
       "      <th>JobFactors_Opportunities_for_professional_development</th>\n",
       "      <td>-0.177313</td>\n",
       "      <td>42.733415</td>\n",
       "      <td>42.910728</td>\n",
       "    </tr>\n",
       "    <tr>\n",
       "      <th>JobFactors_Remote_work_options</th>\n",
       "      <td>1.003637</td>\n",
       "      <td>33.261701</td>\n",
       "      <td>32.258065</td>\n",
       "    </tr>\n",
       "    <tr>\n",
       "      <th>JobFactors_How_widely_used_or_impactful_my_work_output_would_be</th>\n",
       "      <td>-6.311606</td>\n",
       "      <td>22.570615</td>\n",
       "      <td>28.882221</td>\n",
       "    </tr>\n",
       "    <tr>\n",
       "      <th>JobFactors_Financial_performance_or_funding_status_of_the_company_or_organization</th>\n",
       "      <td>-0.939378</td>\n",
       "      <td>13.714286</td>\n",
       "      <td>14.653663</td>\n",
       "    </tr>\n",
       "    <tr>\n",
       "      <th>JobFactors_Industry_that_I'd_be_working_in</th>\n",
       "      <td>-3.422224</td>\n",
       "      <td>13.494505</td>\n",
       "      <td>16.916729</td>\n",
       "    </tr>\n",
       "    <tr>\n",
       "      <th>JobFactors_Specific_department_or_team_I'd_be_working_on</th>\n",
       "      <td>-3.568473</td>\n",
       "      <td>11.635328</td>\n",
       "      <td>15.203801</td>\n",
       "    </tr>\n",
       "    <tr>\n",
       "      <th>JobFactors_Diversity_of_the_company_or_organization</th>\n",
       "      <td>-0.380341</td>\n",
       "      <td>6.433862</td>\n",
       "      <td>6.814204</td>\n",
       "    </tr>\n",
       "    <tr>\n",
       "      <th>JobFactors_nan</th>\n",
       "      <td>0.174359</td>\n",
       "      <td>0.906642</td>\n",
       "      <td>0.732282</td>\n",
       "    </tr>\n",
       "  </tbody>\n",
       "</table>\n",
       "</div>"
      ],
      "text/plain": [
       "                                                           0        dev  \\\n",
       "JobFactors_Languages,_frameworks,_and_other_tec...  8.037089  57.461945   \n",
       "JobFactors_Office_environment_or_company_culture    3.906225  48.704925   \n",
       "JobFactors_Flex_time_or_a_flexible_schedule         1.954643  46.528287   \n",
       "JobFactors_Opportunities_for_professional_devel... -0.177313  42.733415   \n",
       "JobFactors_Remote_work_options                      1.003637  33.261701   \n",
       "JobFactors_How_widely_used_or_impactful_my_work... -6.311606  22.570615   \n",
       "JobFactors_Financial_performance_or_funding_sta... -0.939378  13.714286   \n",
       "JobFactors_Industry_that_I'd_be_working_in         -3.422224  13.494505   \n",
       "JobFactors_Specific_department_or_team_I'd_be_w... -3.568473  11.635328   \n",
       "JobFactors_Diversity_of_the_company_or_organiza... -0.380341   6.433862   \n",
       "JobFactors_nan                                      0.174359   0.906642   \n",
       "\n",
       "                                                           DS  \n",
       "JobFactors_Languages,_frameworks,_and_other_tec...  49.424856  \n",
       "JobFactors_Office_environment_or_company_culture    44.798700  \n",
       "JobFactors_Flex_time_or_a_flexible_schedule         44.573643  \n",
       "JobFactors_Opportunities_for_professional_devel...  42.910728  \n",
       "JobFactors_Remote_work_options                      32.258065  \n",
       "JobFactors_How_widely_used_or_impactful_my_work...  28.882221  \n",
       "JobFactors_Financial_performance_or_funding_sta...  14.653663  \n",
       "JobFactors_Industry_that_I'd_be_working_in          16.916729  \n",
       "JobFactors_Specific_department_or_team_I'd_be_w...  15.203801  \n",
       "JobFactors_Diversity_of_the_company_or_organiza...   6.814204  \n",
       "JobFactors_nan                                       0.732282  "
      ]
     },
     "execution_count": 274,
     "metadata": {},
     "output_type": "execute_result"
    }
   ],
   "source": [
    "jobf_['dev'] = (jobf_dev)\n",
    "jobf_['DS'] = (jobf_ds)\n",
    "jobf_"
   ]
  },
  {
   "cell_type": "code",
   "execution_count": 269,
   "metadata": {},
   "outputs": [
    {
     "data": {
      "text/plain": [
       "<matplotlib.axes._subplots.AxesSubplot at 0x7feeb8b6b9b0>"
      ]
     },
     "execution_count": 269,
     "metadata": {},
     "output_type": "execute_result"
    },
    {
     "data": {
      "image/png": "[encoded data removed]",
      "text/plain": [
       "<Figure size 432x288 with 1 Axes>"
      ]
     },
     "metadata": {},
     "output_type": "display_data"
    }
   ],
   "source": [
    "title_text = 'Job Factors'\n",
    "xlimit = {0,75} # \n",
    "ylabel_text = 'Language'\n",
    "pd.DataFrame(jobf_dev - jobf_ds).plot.barh()\n"
   ]
  },
  {
   "cell_type": "code",
   "execution_count": 260,
   "metadata": {},
   "outputs": [
    {
     "data": {
      "image/png": "[encoded data removed]",
      "text/plain": [
       "<Figure size 1080x864 with 2 Axes>"
      ]
     },
     "metadata": {},
     "output_type": "display_data"
    }
   ],
   "source": [
    "plot_dev_vs_df(jobf_dev,jobf_ds,title_text,xlimit,ylabel_text)"
   ]
  },
  {
   "cell_type": "markdown",
   "metadata": {},
   "source": [
    "### Development Environment \n",
    "\n",
    "`DevEnviron`"
   ]
  },
  {
   "cell_type": "code",
   "execution_count": 52,
   "metadata": {},
   "outputs": [],
   "source": [
    "devenv, devenv_cols = split_multiselect(df, 'DevEnviron')"
   ]
  },
  {
   "cell_type": "code",
   "execution_count": 53,
   "metadata": {},
   "outputs": [
    {
     "data": {
      "text/plain": [
       "count    65679.000000\n",
       "mean         2.826946\n",
       "std          1.599255\n",
       "min          1.000000\n",
       "25%          2.000000\n",
       "50%          3.000000\n",
       "75%          4.000000\n",
       "max         22.000000\n",
       "dtype: float64"
      ]
     },
     "execution_count": 53,
     "metadata": {},
     "output_type": "execute_result"
    }
   ],
   "source": [
    "# how many environs do each respondent claim :  almost 3!!!\n",
    "devenv.sum(axis=1).describe()"
   ]
  },
  {
   "cell_type": "markdown",
   "metadata": {},
   "source": [
    "### Containers\n",
    "\n",
    "`Containers`"
   ]
  },
  {
   "cell_type": "code",
   "execution_count": 54,
   "metadata": {},
   "outputs": [],
   "source": [
    "containers, containers_cols = split_multiselect(df, 'Containers')\n",
    "\n"
   ]
  },
  {
   "cell_type": "markdown",
   "metadata": {},
   "source": [
    "## and convert Now+Future into _FEELINGS_\n",
    "\n",
    "- Love - use and want to continue next year\n",
    "- Hate - use and want to stop next year\n",
    "- Desire - don't use but want to next year\n",
    "\n",
    "\n",
    "For the fields where multiple selections were possible (e.g.  `JobFactors`,`DevEnviron`, and `LanguageWorkedWith`), split the strings containing the multiple selections into a list of selections and then concatenate these lists into a single list (dropping any missing values in the process). \n",
    "\n",
    "We may also want to simplify these fields to reduce the length of category labels and to group similar categories into a single category apon further analysis.\n",
    "\n",
    "Full list of the multi-select variables we will be addressing:\n",
    " `JobFactors`,`DevEnviron`,`Containers`,`WorkChallenge`, as well as the current/future pairs:\n",
    "     `LanguageWorkedWith`, `LanguageDesireNextYear`, \n",
    "     `DatabaseWorkedWith`,`DatabaseDesireNextYear`, \n",
    "     `MiscTechWorkedWith`,`MiscTechDesireNextYear`, \n",
    "     `PlatformWorkedWith`, `PlatformDesireNextYear`,\n"
   ]
  },
  {
   "cell_type": "code",
   "execution_count": 55,
   "metadata": {},
   "outputs": [],
   "source": [
    "def split_multiselect_love_hate(df, col, col_next, prefix):\n",
    "    \"\"\"Create a new dataframe that splits the values of multi-selection column col into individual selections and\n",
    "    places each selection into a boolean column. This new dataframe can be merged into the original dataframe by\n",
    "    Respondent (index)value.\n",
    "\n",
    "    Args:\n",
    "    df: dataframe. Dataframe containing the multi-selection field col.\n",
    "    col:  column name\n",
    "    col_next:  column name for \"next year\" multi-select\n",
    "    prefix: how to name the new columns e.g. 'Lang' (&'LangNext') for 'LanguageWorkedWith'&'LanguageDesiredNextYear'\n",
    "\n",
    "    Returns:\n",
    "    out_df: dataframe. New dataframe giving split values of col.\n",
    "        \"\"\"\n",
    "\n",
    "    unique_selects = {}\n",
    "    # split the languages on ;\n",
    "    # for language_set in survey['LanguageWorkedWith'].dropna().apply(lambda row: str(row).split(';')) :\n",
    "    for select_set in df[col].apply(lambda row: str(row).split(';')):\n",
    "        for select in select_set:\n",
    "            if select not in unique_selects.keys():\n",
    "                unique_selects[select] = 1\n",
    "            else:\n",
    "                unique_selects[select] += 1\n",
    "\n",
    "    #     unique_selects_next = {}\n",
    "    #     # split the languages on ;\n",
    "    #     # for language_set in survey['LanguageWorkedWith'].dropna().apply(lambda row: str(row).split(';')) :\n",
    "    #     for select_set in df[col_next].apply(lambda row: str(row).split(';')):\n",
    "    #         for select in select_set:\n",
    "    #             if select not in unique_selects_next.keys():\n",
    "    #                 unique_selects_next[select] = 1\n",
    "    #             else:\n",
    "    #                 unique_selects_next[select] += 1\n",
    "\n",
    "    # unique_selects.keys() == unique_selects_next.keys()\n",
    "    un_sel = pd.Series(unique_selects).sort_values(ascending=False).copy()\n",
    "    #un_sel_next = pd.Series(unique_selects_next).sort_values(ascending=False).copy()\n",
    "\n",
    "    # out_df = pd.DataFrame()  # columns = unique_selects)\n",
    "    out_df = df.loc[:, [col, col_next]]  # columns = unique_selects)\n",
    "\n",
    "    select_na = df[col].isnull()\n",
    "    select_na_next = df[col_next].isnull()\n",
    "\n",
    "    new_cols = []\n",
    "    # new_cols_next = []\n",
    "\n",
    "    for sel in un_sel.index:\n",
    "        # first lets\n",
    "        # col_name = col[:25] + '_' + sel.replace(' ', '_')\n",
    "        col_name = prefix + '_' + sel.replace(' ', '_')\n",
    "        col_name_next = prefix + 'Next_' + sel.replace(' ', '_')\n",
    "        col_name_love = prefix + 'Love_' + sel.replace(' ', '_')\n",
    "        col_name_hate = prefix + 'Hate_' + sel.replace(' ', '_')\n",
    "        col_name_desire = prefix + 'Desire_' + sel.replace(' ', '_')\n",
    "\n",
    "        new_cols.append(col_name)\n",
    "        new_cols.append(col_name_next)\n",
    "        new_cols.append(col_name_love)\n",
    "        new_cols.append(col_name_hate)\n",
    "        new_cols.append(col_name_desire)\n",
    "\n",
    "        if (sel == 'nan'):\n",
    "            # this is a holding tally for how many non-selctions we have...\n",
    "            # so should be true for respondents who have nans in other entries\n",
    "            new_col = select_na\n",
    "            new_col_next = select_na_next\n",
    "            # these are pretty non-sensicle for nan\n",
    "            # this is defensive... not nescessary?\n",
    "            love = (~select_na)\n",
    "            # this is defensive... not nescessary?\n",
    "            hate = (~select_na)\n",
    "            # any non-nan entries are \"desired\" but dangerous\n",
    "            desire = (~select_na_next)\n",
    "\n",
    "        else:\n",
    "            new_col = ~select_na  # this is defensive... not nescessary?\n",
    "            love = ~select_na  # this is defensive... not nescessary?\n",
    "            hate = ~select_na  # this is defensive... not nescessary?\n",
    "\n",
    "            selected = df[col].dropna().str.split(';').copy()\n",
    "            # need to strip the nulls\n",
    "            new_col[~select_na] = selected.apply(lambda x: sel in x)\n",
    "\n",
    "            new_col_next = ~select_na_next  # this is defensive... not nescessary?\n",
    "            desire = ~select_na_next\n",
    "            selected_next = df[col_next].dropna().str.split(';').copy()\n",
    "            # need to strip the nulls\n",
    "            new_col_next[~select_na_next] = selected_next.apply(\n",
    "                lambda x: sel in x)\n",
    "\n",
    "            love = ((new_col == True) & (new_col_next == True))\n",
    "            hate = ((new_col == True) & (new_col_next == False))\n",
    "            desire = ((new_col == False) & (new_col_next == True))\n",
    "            \n",
    "            love[(new_col == False)]=np.nan # can only \"love/hate\" it if you alread do it..\n",
    "            hate[(new_col == False)]=np.nan\n",
    "            desire[(new_col == True)]=np.nan # can only \"desire\" it if you don't alread do it..\n",
    "            \n",
    "            # put the nonentries back in place\n",
    "            new_col[select_na] = np.nan\n",
    "            new_col_next[select_na_next] = np.nan\n",
    "\n",
    "            love[select_na] = np.nan\n",
    "            love[select_na_next] = np.nan\n",
    "            hate[select_na] = np.nan\n",
    "            desire[select_na_next] = np.nan\n",
    "\n",
    "        out_df.loc[:, col_name] = new_col.astype('float64')\n",
    "        out_df.loc[:, col_name_next] = new_col_next.astype('float64')\n",
    "\n",
    "        out_df.loc[:, col_name_love] = love.astype('float64')\n",
    "        out_df.loc[:, col_name_hate] = hate.astype('float64')\n",
    "        out_df.loc[:, col_name_desire] = desire.astype('float64')\n",
    "\n",
    "    return out_df, new_cols"
   ]
  },
  {
   "cell_type": "markdown",
   "metadata": {},
   "source": [
    "### Languages \n",
    "\n",
    "`LanguageWorkedWith`, `LanguageDesireNextYear`, \n"
   ]
  },
  {
   "cell_type": "code",
   "execution_count": 56,
   "metadata": {},
   "outputs": [],
   "source": [
    "col = 'LanguageWorkedWith'\n",
    "col_next = 'LanguageDesireNextYear'\n",
    "prefix = 'Lang'\n",
    "langs_df, Lang_cols = split_multiselect_love_hate(df, col, col_next, prefix)"
   ]
  },
  {
   "cell_type": "code",
   "execution_count": 57,
   "metadata": {},
   "outputs": [
    {
     "data": {
      "text/html": [
       "<div>\n",
       "<style scoped>\n",
       "    .dataframe tbody tr th:only-of-type {\n",
       "        vertical-align: middle;\n",
       "    }\n",
       "\n",
       "    .dataframe tbody tr th {\n",
       "        vertical-align: top;\n",
       "    }\n",
       "\n",
       "    .dataframe thead th {\n",
       "        text-align: right;\n",
       "    }\n",
       "</style>\n",
       "<table border=\"1\" class=\"dataframe\">\n",
       "  <thead>\n",
       "    <tr style=\"text-align: right;\">\n",
       "      <th></th>\n",
       "      <th>LanguageWorkedWith</th>\n",
       "      <th>LanguageDesireNextYear</th>\n",
       "      <th>Lang_JavaScript</th>\n",
       "      <th>LangNext_JavaScript</th>\n",
       "      <th>LangLove_JavaScript</th>\n",
       "      <th>LangHate_JavaScript</th>\n",
       "      <th>LangDesire_JavaScript</th>\n",
       "      <th>Lang_HTML/CSS</th>\n",
       "      <th>LangNext_HTML/CSS</th>\n",
       "      <th>LangLove_HTML/CSS</th>\n",
       "      <th>LangHate_HTML/CSS</th>\n",
       "      <th>LangDesire_HTML/CSS</th>\n",
       "      <th>Lang_SQL</th>\n",
       "      <th>LangNext_SQL</th>\n",
       "      <th>LangLove_SQL</th>\n",
       "    </tr>\n",
       "    <tr>\n",
       "      <th>Respondent</th>\n",
       "      <th></th>\n",
       "      <th></th>\n",
       "      <th></th>\n",
       "      <th></th>\n",
       "      <th></th>\n",
       "      <th></th>\n",
       "      <th></th>\n",
       "      <th></th>\n",
       "      <th></th>\n",
       "      <th></th>\n",
       "      <th></th>\n",
       "      <th></th>\n",
       "      <th></th>\n",
       "      <th></th>\n",
       "      <th></th>\n",
       "    </tr>\n",
       "  </thead>\n",
       "  <tbody>\n",
       "    <tr>\n",
       "      <th>4</th>\n",
       "      <td>C;C++;C#;Python;SQL</td>\n",
       "      <td>C;C#;JavaScript;SQL</td>\n",
       "      <td>0.0</td>\n",
       "      <td>1.0</td>\n",
       "      <td>NaN</td>\n",
       "      <td>NaN</td>\n",
       "      <td>1.0</td>\n",
       "      <td>0.0</td>\n",
       "      <td>0.0</td>\n",
       "      <td>NaN</td>\n",
       "      <td>NaN</td>\n",
       "      <td>0.0</td>\n",
       "      <td>1.0</td>\n",
       "      <td>1.0</td>\n",
       "      <td>1.0</td>\n",
       "    </tr>\n",
       "    <tr>\n",
       "      <th>5</th>\n",
       "      <td>C++;HTML/CSS;Java;JavaScript;Python;SQL;VBA</td>\n",
       "      <td>HTML/CSS;Java;JavaScript;SQL;WebAssembly</td>\n",
       "      <td>1.0</td>\n",
       "      <td>1.0</td>\n",
       "      <td>1.0</td>\n",
       "      <td>0.0</td>\n",
       "      <td>NaN</td>\n",
       "      <td>1.0</td>\n",
       "      <td>1.0</td>\n",
       "      <td>1.0</td>\n",
       "      <td>0.0</td>\n",
       "      <td>NaN</td>\n",
       "      <td>1.0</td>\n",
       "      <td>1.0</td>\n",
       "      <td>1.0</td>\n",
       "    </tr>\n",
       "    <tr>\n",
       "      <th>7</th>\n",
       "      <td>HTML/CSS;JavaScript</td>\n",
       "      <td>HTML/CSS;JavaScript</td>\n",
       "      <td>1.0</td>\n",
       "      <td>1.0</td>\n",
       "      <td>1.0</td>\n",
       "      <td>0.0</td>\n",
       "      <td>NaN</td>\n",
       "      <td>1.0</td>\n",
       "      <td>1.0</td>\n",
       "      <td>1.0</td>\n",
       "      <td>0.0</td>\n",
       "      <td>NaN</td>\n",
       "      <td>0.0</td>\n",
       "      <td>0.0</td>\n",
       "      <td>NaN</td>\n",
       "    </tr>\n",
       "    <tr>\n",
       "      <th>9</th>\n",
       "      <td>Bash/Shell/PowerShell;C#;HTML/CSS;JavaScript;P...</td>\n",
       "      <td>Bash/Shell/PowerShell;C;HTML/CSS;JavaScript;Ru...</td>\n",
       "      <td>1.0</td>\n",
       "      <td>1.0</td>\n",
       "      <td>1.0</td>\n",
       "      <td>0.0</td>\n",
       "      <td>NaN</td>\n",
       "      <td>1.0</td>\n",
       "      <td>1.0</td>\n",
       "      <td>1.0</td>\n",
       "      <td>0.0</td>\n",
       "      <td>NaN</td>\n",
       "      <td>1.0</td>\n",
       "      <td>1.0</td>\n",
       "      <td>1.0</td>\n",
       "    </tr>\n",
       "    <tr>\n",
       "      <th>10</th>\n",
       "      <td>C#;Go;JavaScript;Python;R;SQL</td>\n",
       "      <td>C#;Go;JavaScript;Kotlin;Python;R;SQL</td>\n",
       "      <td>1.0</td>\n",
       "      <td>1.0</td>\n",
       "      <td>1.0</td>\n",
       "      <td>0.0</td>\n",
       "      <td>NaN</td>\n",
       "      <td>0.0</td>\n",
       "      <td>0.0</td>\n",
       "      <td>NaN</td>\n",
       "      <td>NaN</td>\n",
       "      <td>0.0</td>\n",
       "      <td>1.0</td>\n",
       "      <td>1.0</td>\n",
       "      <td>1.0</td>\n",
       "    </tr>\n",
       "    <tr>\n",
       "      <th>13</th>\n",
       "      <td>Bash/Shell/PowerShell;HTML/CSS;JavaScript;PHP;...</td>\n",
       "      <td>Bash/Shell/PowerShell;HTML/CSS;JavaScript;Rust...</td>\n",
       "      <td>1.0</td>\n",
       "      <td>1.0</td>\n",
       "      <td>1.0</td>\n",
       "      <td>0.0</td>\n",
       "      <td>NaN</td>\n",
       "      <td>1.0</td>\n",
       "      <td>1.0</td>\n",
       "      <td>1.0</td>\n",
       "      <td>0.0</td>\n",
       "      <td>NaN</td>\n",
       "      <td>1.0</td>\n",
       "      <td>1.0</td>\n",
       "      <td>1.0</td>\n",
       "    </tr>\n",
       "    <tr>\n",
       "      <th>14</th>\n",
       "      <td>C++</td>\n",
       "      <td>C++</td>\n",
       "      <td>0.0</td>\n",
       "      <td>0.0</td>\n",
       "      <td>NaN</td>\n",
       "      <td>NaN</td>\n",
       "      <td>0.0</td>\n",
       "      <td>0.0</td>\n",
       "      <td>0.0</td>\n",
       "      <td>NaN</td>\n",
       "      <td>NaN</td>\n",
       "      <td>0.0</td>\n",
       "      <td>0.0</td>\n",
       "      <td>0.0</td>\n",
       "      <td>NaN</td>\n",
       "    </tr>\n",
       "    <tr>\n",
       "      <th>16</th>\n",
       "      <td>Bash/Shell/PowerShell;C#;HTML/CSS;JavaScript;T...</td>\n",
       "      <td>C#;HTML/CSS;JavaScript;TypeScript;WebAssembly;...</td>\n",
       "      <td>1.0</td>\n",
       "      <td>1.0</td>\n",
       "      <td>1.0</td>\n",
       "      <td>0.0</td>\n",
       "      <td>NaN</td>\n",
       "      <td>1.0</td>\n",
       "      <td>1.0</td>\n",
       "      <td>1.0</td>\n",
       "      <td>0.0</td>\n",
       "      <td>NaN</td>\n",
       "      <td>0.0</td>\n",
       "      <td>0.0</td>\n",
       "      <td>NaN</td>\n",
       "    </tr>\n",
       "    <tr>\n",
       "      <th>17</th>\n",
       "      <td>Bash/Shell/PowerShell;HTML/CSS;JavaScript;Type...</td>\n",
       "      <td>Bash/Shell/PowerShell;HTML/CSS;Java;JavaScript...</td>\n",
       "      <td>1.0</td>\n",
       "      <td>1.0</td>\n",
       "      <td>1.0</td>\n",
       "      <td>0.0</td>\n",
       "      <td>NaN</td>\n",
       "      <td>1.0</td>\n",
       "      <td>1.0</td>\n",
       "      <td>1.0</td>\n",
       "      <td>0.0</td>\n",
       "      <td>NaN</td>\n",
       "      <td>0.0</td>\n",
       "      <td>0.0</td>\n",
       "      <td>NaN</td>\n",
       "    </tr>\n",
       "    <tr>\n",
       "      <th>19</th>\n",
       "      <td>C#;HTML/CSS;Java;JavaScript;SQL;TypeScript</td>\n",
       "      <td>HTML/CSS;JavaScript</td>\n",
       "      <td>1.0</td>\n",
       "      <td>1.0</td>\n",
       "      <td>1.0</td>\n",
       "      <td>0.0</td>\n",
       "      <td>NaN</td>\n",
       "      <td>1.0</td>\n",
       "      <td>1.0</td>\n",
       "      <td>1.0</td>\n",
       "      <td>0.0</td>\n",
       "      <td>NaN</td>\n",
       "      <td>1.0</td>\n",
       "      <td>0.0</td>\n",
       "      <td>0.0</td>\n",
       "    </tr>\n",
       "    <tr>\n",
       "      <th>22</th>\n",
       "      <td>Bash/Shell/PowerShell;C++;HTML/CSS;JavaScript;...</td>\n",
       "      <td>Bash/Shell/PowerShell;C++;HTML/CSS;JavaScript;...</td>\n",
       "      <td>1.0</td>\n",
       "      <td>1.0</td>\n",
       "      <td>1.0</td>\n",
       "      <td>0.0</td>\n",
       "      <td>NaN</td>\n",
       "      <td>1.0</td>\n",
       "      <td>1.0</td>\n",
       "      <td>1.0</td>\n",
       "      <td>0.0</td>\n",
       "      <td>NaN</td>\n",
       "      <td>1.0</td>\n",
       "      <td>1.0</td>\n",
       "      <td>1.0</td>\n",
       "    </tr>\n",
       "    <tr>\n",
       "      <th>23</th>\n",
       "      <td>Bash/Shell/PowerShell;HTML/CSS;JavaScript;Pyth...</td>\n",
       "      <td>Bash/Shell/PowerShell;Go;HTML/CSS;Java;JavaScr...</td>\n",
       "      <td>1.0</td>\n",
       "      <td>1.0</td>\n",
       "      <td>1.0</td>\n",
       "      <td>0.0</td>\n",
       "      <td>NaN</td>\n",
       "      <td>1.0</td>\n",
       "      <td>1.0</td>\n",
       "      <td>1.0</td>\n",
       "      <td>0.0</td>\n",
       "      <td>NaN</td>\n",
       "      <td>1.0</td>\n",
       "      <td>1.0</td>\n",
       "      <td>1.0</td>\n",
       "    </tr>\n",
       "    <tr>\n",
       "      <th>24</th>\n",
       "      <td>HTML/CSS;JavaScript;PHP;TypeScript</td>\n",
       "      <td>Go</td>\n",
       "      <td>1.0</td>\n",
       "      <td>0.0</td>\n",
       "      <td>0.0</td>\n",
       "      <td>1.0</td>\n",
       "      <td>NaN</td>\n",
       "      <td>1.0</td>\n",
       "      <td>0.0</td>\n",
       "      <td>0.0</td>\n",
       "      <td>1.0</td>\n",
       "      <td>NaN</td>\n",
       "      <td>0.0</td>\n",
       "      <td>0.0</td>\n",
       "      <td>NaN</td>\n",
       "    </tr>\n",
       "    <tr>\n",
       "      <th>25</th>\n",
       "      <td>HTML/CSS;JavaScript;PHP;SQL;TypeScript</td>\n",
       "      <td>HTML/CSS;JavaScript;PHP;SQL;TypeScript</td>\n",
       "      <td>1.0</td>\n",
       "      <td>1.0</td>\n",
       "      <td>1.0</td>\n",
       "      <td>0.0</td>\n",
       "      <td>NaN</td>\n",
       "      <td>1.0</td>\n",
       "      <td>1.0</td>\n",
       "      <td>1.0</td>\n",
       "      <td>0.0</td>\n",
       "      <td>NaN</td>\n",
       "      <td>1.0</td>\n",
       "      <td>1.0</td>\n",
       "      <td>1.0</td>\n",
       "    </tr>\n",
       "    <tr>\n",
       "      <th>26</th>\n",
       "      <td>Bash/Shell/PowerShell;C++;C#;HTML/CSS;JavaScri...</td>\n",
       "      <td>C#;HTML/CSS;JavaScript;Objective-C;Ruby;SQL;Sw...</td>\n",
       "      <td>1.0</td>\n",
       "      <td>1.0</td>\n",
       "      <td>1.0</td>\n",
       "      <td>0.0</td>\n",
       "      <td>NaN</td>\n",
       "      <td>1.0</td>\n",
       "      <td>1.0</td>\n",
       "      <td>1.0</td>\n",
       "      <td>0.0</td>\n",
       "      <td>NaN</td>\n",
       "      <td>1.0</td>\n",
       "      <td>1.0</td>\n",
       "      <td>1.0</td>\n",
       "    </tr>\n",
       "    <tr>\n",
       "      <th>28</th>\n",
       "      <td>JavaScript;TypeScript</td>\n",
       "      <td>JavaScript</td>\n",
       "      <td>1.0</td>\n",
       "      <td>1.0</td>\n",
       "      <td>1.0</td>\n",
       "      <td>0.0</td>\n",
       "      <td>NaN</td>\n",
       "      <td>0.0</td>\n",
       "      <td>0.0</td>\n",
       "      <td>NaN</td>\n",
       "      <td>NaN</td>\n",
       "      <td>0.0</td>\n",
       "      <td>0.0</td>\n",
       "      <td>0.0</td>\n",
       "      <td>NaN</td>\n",
       "    </tr>\n",
       "    <tr>\n",
       "      <th>29</th>\n",
       "      <td>Bash/Shell/PowerShell;JavaScript;SQL</td>\n",
       "      <td>Bash/Shell/PowerShell;Clojure;JavaScript;Pytho...</td>\n",
       "      <td>1.0</td>\n",
       "      <td>1.0</td>\n",
       "      <td>1.0</td>\n",
       "      <td>0.0</td>\n",
       "      <td>NaN</td>\n",
       "      <td>0.0</td>\n",
       "      <td>0.0</td>\n",
       "      <td>NaN</td>\n",
       "      <td>NaN</td>\n",
       "      <td>0.0</td>\n",
       "      <td>1.0</td>\n",
       "      <td>0.0</td>\n",
       "      <td>0.0</td>\n",
       "    </tr>\n",
       "    <tr>\n",
       "      <th>30</th>\n",
       "      <td>NaN</td>\n",
       "      <td>NaN</td>\n",
       "      <td>NaN</td>\n",
       "      <td>NaN</td>\n",
       "      <td>NaN</td>\n",
       "      <td>NaN</td>\n",
       "      <td>NaN</td>\n",
       "      <td>NaN</td>\n",
       "      <td>NaN</td>\n",
       "      <td>NaN</td>\n",
       "      <td>NaN</td>\n",
       "      <td>NaN</td>\n",
       "      <td>NaN</td>\n",
       "      <td>NaN</td>\n",
       "      <td>NaN</td>\n",
       "    </tr>\n",
       "    <tr>\n",
       "      <th>32</th>\n",
       "      <td>Bash/Shell/PowerShell;HTML/CSS;JavaScript;PHP;...</td>\n",
       "      <td>Bash/Shell/PowerShell;HTML/CSS;JavaScript;Pyth...</td>\n",
       "      <td>1.0</td>\n",
       "      <td>1.0</td>\n",
       "      <td>1.0</td>\n",
       "      <td>0.0</td>\n",
       "      <td>NaN</td>\n",
       "      <td>1.0</td>\n",
       "      <td>1.0</td>\n",
       "      <td>1.0</td>\n",
       "      <td>0.0</td>\n",
       "      <td>NaN</td>\n",
       "      <td>0.0</td>\n",
       "      <td>0.0</td>\n",
       "      <td>NaN</td>\n",
       "    </tr>\n",
       "    <tr>\n",
       "      <th>33</th>\n",
       "      <td>C++;Python;R</td>\n",
       "      <td>R</td>\n",
       "      <td>0.0</td>\n",
       "      <td>0.0</td>\n",
       "      <td>NaN</td>\n",
       "      <td>NaN</td>\n",
       "      <td>0.0</td>\n",
       "      <td>0.0</td>\n",
       "      <td>0.0</td>\n",
       "      <td>NaN</td>\n",
       "      <td>NaN</td>\n",
       "      <td>0.0</td>\n",
       "      <td>0.0</td>\n",
       "      <td>0.0</td>\n",
       "      <td>NaN</td>\n",
       "    </tr>\n",
       "    <tr>\n",
       "      <th>35</th>\n",
       "      <td>HTML/CSS;JavaScript</td>\n",
       "      <td>NaN</td>\n",
       "      <td>1.0</td>\n",
       "      <td>NaN</td>\n",
       "      <td>NaN</td>\n",
       "      <td>1.0</td>\n",
       "      <td>NaN</td>\n",
       "      <td>1.0</td>\n",
       "      <td>NaN</td>\n",
       "      <td>NaN</td>\n",
       "      <td>1.0</td>\n",
       "      <td>NaN</td>\n",
       "      <td>0.0</td>\n",
       "      <td>NaN</td>\n",
       "      <td>NaN</td>\n",
       "    </tr>\n",
       "    <tr>\n",
       "      <th>36</th>\n",
       "      <td>Java;Kotlin;Python</td>\n",
       "      <td>Kotlin;Python</td>\n",
       "      <td>0.0</td>\n",
       "      <td>0.0</td>\n",
       "      <td>NaN</td>\n",
       "      <td>NaN</td>\n",
       "      <td>0.0</td>\n",
       "      <td>0.0</td>\n",
       "      <td>0.0</td>\n",
       "      <td>NaN</td>\n",
       "      <td>NaN</td>\n",
       "      <td>0.0</td>\n",
       "      <td>0.0</td>\n",
       "      <td>0.0</td>\n",
       "      <td>NaN</td>\n",
       "    </tr>\n",
       "    <tr>\n",
       "      <th>38</th>\n",
       "      <td>C#;HTML/CSS;JavaScript;SQL</td>\n",
       "      <td>C#;HTML/CSS;JavaScript;SQL</td>\n",
       "      <td>1.0</td>\n",
       "      <td>1.0</td>\n",
       "      <td>1.0</td>\n",
       "      <td>0.0</td>\n",
       "      <td>NaN</td>\n",
       "      <td>1.0</td>\n",
       "      <td>1.0</td>\n",
       "      <td>1.0</td>\n",
       "      <td>0.0</td>\n",
       "      <td>NaN</td>\n",
       "      <td>1.0</td>\n",
       "      <td>1.0</td>\n",
       "      <td>1.0</td>\n",
       "    </tr>\n",
       "    <tr>\n",
       "      <th>39</th>\n",
       "      <td>C#;JavaScript;SQL;TypeScript</td>\n",
       "      <td>C#;F#;SQL;TypeScript</td>\n",
       "      <td>1.0</td>\n",
       "      <td>0.0</td>\n",
       "      <td>0.0</td>\n",
       "      <td>1.0</td>\n",
       "      <td>NaN</td>\n",
       "      <td>0.0</td>\n",
       "      <td>0.0</td>\n",
       "      <td>NaN</td>\n",
       "      <td>NaN</td>\n",
       "      <td>0.0</td>\n",
       "      <td>1.0</td>\n",
       "      <td>1.0</td>\n",
       "      <td>1.0</td>\n",
       "    </tr>\n",
       "    <tr>\n",
       "      <th>41</th>\n",
       "      <td>Bash/Shell/PowerShell;C;C++;HTML/CSS;Java;Java...</td>\n",
       "      <td>Bash/Shell/PowerShell;HTML/CSS;JavaScript;SQL</td>\n",
       "      <td>1.0</td>\n",
       "      <td>1.0</td>\n",
       "      <td>1.0</td>\n",
       "      <td>0.0</td>\n",
       "      <td>NaN</td>\n",
       "      <td>1.0</td>\n",
       "      <td>1.0</td>\n",
       "      <td>1.0</td>\n",
       "      <td>0.0</td>\n",
       "      <td>NaN</td>\n",
       "      <td>1.0</td>\n",
       "      <td>1.0</td>\n",
       "      <td>1.0</td>\n",
       "    </tr>\n",
       "    <tr>\n",
       "      <th>42</th>\n",
       "      <td>HTML/CSS;JavaScript;PHP;TypeScript</td>\n",
       "      <td>JavaScript;PHP;TypeScript</td>\n",
       "      <td>1.0</td>\n",
       "      <td>1.0</td>\n",
       "      <td>1.0</td>\n",
       "      <td>0.0</td>\n",
       "      <td>NaN</td>\n",
       "      <td>1.0</td>\n",
       "      <td>0.0</td>\n",
       "      <td>0.0</td>\n",
       "      <td>1.0</td>\n",
       "      <td>NaN</td>\n",
       "      <td>0.0</td>\n",
       "      <td>0.0</td>\n",
       "      <td>NaN</td>\n",
       "    </tr>\n",
       "    <tr>\n",
       "      <th>43</th>\n",
       "      <td>C++;C#;HTML/CSS;Java;JavaScript;Objective-C;SQL</td>\n",
       "      <td>C#;HTML/CSS;Objective-C</td>\n",
       "      <td>1.0</td>\n",
       "      <td>0.0</td>\n",
       "      <td>0.0</td>\n",
       "      <td>1.0</td>\n",
       "      <td>NaN</td>\n",
       "      <td>1.0</td>\n",
       "      <td>1.0</td>\n",
       "      <td>1.0</td>\n",
       "      <td>0.0</td>\n",
       "      <td>NaN</td>\n",
       "      <td>1.0</td>\n",
       "      <td>0.0</td>\n",
       "      <td>0.0</td>\n",
       "    </tr>\n",
       "    <tr>\n",
       "      <th>44</th>\n",
       "      <td>Bash/Shell/PowerShell;C#;HTML/CSS;Java;JavaScr...</td>\n",
       "      <td>C#</td>\n",
       "      <td>1.0</td>\n",
       "      <td>0.0</td>\n",
       "      <td>0.0</td>\n",
       "      <td>1.0</td>\n",
       "      <td>NaN</td>\n",
       "      <td>1.0</td>\n",
       "      <td>0.0</td>\n",
       "      <td>0.0</td>\n",
       "      <td>1.0</td>\n",
       "      <td>NaN</td>\n",
       "      <td>1.0</td>\n",
       "      <td>0.0</td>\n",
       "      <td>0.0</td>\n",
       "    </tr>\n",
       "    <tr>\n",
       "      <th>46</th>\n",
       "      <td>Bash/Shell/PowerShell;C;C#;HTML/CSS;JavaScript...</td>\n",
       "      <td>Erlang;Go;Scala;TypeScript</td>\n",
       "      <td>1.0</td>\n",
       "      <td>0.0</td>\n",
       "      <td>0.0</td>\n",
       "      <td>1.0</td>\n",
       "      <td>NaN</td>\n",
       "      <td>1.0</td>\n",
       "      <td>0.0</td>\n",
       "      <td>0.0</td>\n",
       "      <td>1.0</td>\n",
       "      <td>NaN</td>\n",
       "      <td>1.0</td>\n",
       "      <td>0.0</td>\n",
       "      <td>0.0</td>\n",
       "    </tr>\n",
       "    <tr>\n",
       "      <th>47</th>\n",
       "      <td>Java;PHP;Ruby</td>\n",
       "      <td>NaN</td>\n",
       "      <td>0.0</td>\n",
       "      <td>NaN</td>\n",
       "      <td>NaN</td>\n",
       "      <td>NaN</td>\n",
       "      <td>NaN</td>\n",
       "      <td>0.0</td>\n",
       "      <td>NaN</td>\n",
       "      <td>NaN</td>\n",
       "      <td>NaN</td>\n",
       "      <td>NaN</td>\n",
       "      <td>0.0</td>\n",
       "      <td>NaN</td>\n",
       "      <td>NaN</td>\n",
       "    </tr>\n",
       "    <tr>\n",
       "      <th>49</th>\n",
       "      <td>Bash/Shell/PowerShell;HTML/CSS;Java;JavaScript...</td>\n",
       "      <td>Bash/Shell/PowerShell;HTML/CSS;Java;JavaScript...</td>\n",
       "      <td>1.0</td>\n",
       "      <td>1.0</td>\n",
       "      <td>1.0</td>\n",
       "      <td>0.0</td>\n",
       "      <td>NaN</td>\n",
       "      <td>1.0</td>\n",
       "      <td>1.0</td>\n",
       "      <td>1.0</td>\n",
       "      <td>0.0</td>\n",
       "      <td>NaN</td>\n",
       "      <td>1.0</td>\n",
       "      <td>1.0</td>\n",
       "      <td>1.0</td>\n",
       "    </tr>\n",
       "    <tr>\n",
       "      <th>50</th>\n",
       "      <td>Bash/Shell/PowerShell;C;C++;HTML/CSS;Java;Java...</td>\n",
       "      <td>HTML/CSS;JavaScript;Python</td>\n",
       "      <td>1.0</td>\n",
       "      <td>1.0</td>\n",
       "      <td>1.0</td>\n",
       "      <td>0.0</td>\n",
       "      <td>NaN</td>\n",
       "      <td>1.0</td>\n",
       "      <td>1.0</td>\n",
       "      <td>1.0</td>\n",
       "      <td>0.0</td>\n",
       "      <td>NaN</td>\n",
       "      <td>1.0</td>\n",
       "      <td>0.0</td>\n",
       "      <td>0.0</td>\n",
       "    </tr>\n",
       "    <tr>\n",
       "      <th>52</th>\n",
       "      <td>Bash/Shell/PowerShell;C;C++;Elixir;Erlang;Go;H...</td>\n",
       "      <td>Rust</td>\n",
       "      <td>1.0</td>\n",
       "      <td>0.0</td>\n",
       "      <td>0.0</td>\n",
       "      <td>1.0</td>\n",
       "      <td>NaN</td>\n",
       "      <td>1.0</td>\n",
       "      <td>0.0</td>\n",
       "      <td>0.0</td>\n",
       "      <td>1.0</td>\n",
       "      <td>NaN</td>\n",
       "      <td>1.0</td>\n",
       "      <td>0.0</td>\n",
       "      <td>0.0</td>\n",
       "    </tr>\n",
       "    <tr>\n",
       "      <th>54</th>\n",
       "      <td>Bash/Shell/PowerShell;HTML/CSS;JavaScript;Python</td>\n",
       "      <td>Bash/Shell/PowerShell;HTML/CSS;JavaScript;Python</td>\n",
       "      <td>1.0</td>\n",
       "      <td>1.0</td>\n",
       "      <td>1.0</td>\n",
       "      <td>0.0</td>\n",
       "      <td>NaN</td>\n",
       "      <td>1.0</td>\n",
       "      <td>1.0</td>\n",
       "      <td>1.0</td>\n",
       "      <td>0.0</td>\n",
       "      <td>NaN</td>\n",
       "      <td>0.0</td>\n",
       "      <td>0.0</td>\n",
       "      <td>NaN</td>\n",
       "    </tr>\n",
       "    <tr>\n",
       "      <th>56</th>\n",
       "      <td>Bash/Shell/PowerShell;HTML/CSS;Java;SQL</td>\n",
       "      <td>Java;JavaScript;Kotlin;Python;Scala;TypeScript</td>\n",
       "      <td>0.0</td>\n",
       "      <td>1.0</td>\n",
       "      <td>NaN</td>\n",
       "      <td>NaN</td>\n",
       "      <td>1.0</td>\n",
       "      <td>1.0</td>\n",
       "      <td>0.0</td>\n",
       "      <td>0.0</td>\n",
       "      <td>1.0</td>\n",
       "      <td>NaN</td>\n",
       "      <td>1.0</td>\n",
       "      <td>0.0</td>\n",
       "      <td>0.0</td>\n",
       "    </tr>\n",
       "  </tbody>\n",
       "</table>\n",
       "</div>"
      ],
      "text/plain": [
       "                                           LanguageWorkedWith  \\\n",
       "Respondent                                                      \n",
       "4                                         C;C++;C#;Python;SQL   \n",
       "5                 C++;HTML/CSS;Java;JavaScript;Python;SQL;VBA   \n",
       "7                                         HTML/CSS;JavaScript   \n",
       "9           Bash/Shell/PowerShell;C#;HTML/CSS;JavaScript;P...   \n",
       "10                              C#;Go;JavaScript;Python;R;SQL   \n",
       "13          Bash/Shell/PowerShell;HTML/CSS;JavaScript;PHP;...   \n",
       "14                                                        C++   \n",
       "16          Bash/Shell/PowerShell;C#;HTML/CSS;JavaScript;T...   \n",
       "17          Bash/Shell/PowerShell;HTML/CSS;JavaScript;Type...   \n",
       "19                 C#;HTML/CSS;Java;JavaScript;SQL;TypeScript   \n",
       "22          Bash/Shell/PowerShell;C++;HTML/CSS;JavaScript;...   \n",
       "23          Bash/Shell/PowerShell;HTML/CSS;JavaScript;Pyth...   \n",
       "24                         HTML/CSS;JavaScript;PHP;TypeScript   \n",
       "25                     HTML/CSS;JavaScript;PHP;SQL;TypeScript   \n",
       "26          Bash/Shell/PowerShell;C++;C#;HTML/CSS;JavaScri...   \n",
       "28                                      JavaScript;TypeScript   \n",
       "29                       Bash/Shell/PowerShell;JavaScript;SQL   \n",
       "30                                                        NaN   \n",
       "32          Bash/Shell/PowerShell;HTML/CSS;JavaScript;PHP;...   \n",
       "33                                               C++;Python;R   \n",
       "35                                        HTML/CSS;JavaScript   \n",
       "36                                         Java;Kotlin;Python   \n",
       "38                                 C#;HTML/CSS;JavaScript;SQL   \n",
       "39                               C#;JavaScript;SQL;TypeScript   \n",
       "41          Bash/Shell/PowerShell;C;C++;HTML/CSS;Java;Java...   \n",
       "42                         HTML/CSS;JavaScript;PHP;TypeScript   \n",
       "43            C++;C#;HTML/CSS;Java;JavaScript;Objective-C;SQL   \n",
       "44          Bash/Shell/PowerShell;C#;HTML/CSS;Java;JavaScr...   \n",
       "46          Bash/Shell/PowerShell;C;C#;HTML/CSS;JavaScript...   \n",
       "47                                              Java;PHP;Ruby   \n",
       "49          Bash/Shell/PowerShell;HTML/CSS;Java;JavaScript...   \n",
       "50          Bash/Shell/PowerShell;C;C++;HTML/CSS;Java;Java...   \n",
       "52          Bash/Shell/PowerShell;C;C++;Elixir;Erlang;Go;H...   \n",
       "54           Bash/Shell/PowerShell;HTML/CSS;JavaScript;Python   \n",
       "56                    Bash/Shell/PowerShell;HTML/CSS;Java;SQL   \n",
       "\n",
       "                                       LanguageDesireNextYear  \\\n",
       "Respondent                                                      \n",
       "4                                         C;C#;JavaScript;SQL   \n",
       "5                    HTML/CSS;Java;JavaScript;SQL;WebAssembly   \n",
       "7                                         HTML/CSS;JavaScript   \n",
       "9           Bash/Shell/PowerShell;C;HTML/CSS;JavaScript;Ru...   \n",
       "10                       C#;Go;JavaScript;Kotlin;Python;R;SQL   \n",
       "13          Bash/Shell/PowerShell;HTML/CSS;JavaScript;Rust...   \n",
       "14                                                        C++   \n",
       "16          C#;HTML/CSS;JavaScript;TypeScript;WebAssembly;...   \n",
       "17          Bash/Shell/PowerShell;HTML/CSS;Java;JavaScript...   \n",
       "19                                        HTML/CSS;JavaScript   \n",
       "22          Bash/Shell/PowerShell;C++;HTML/CSS;JavaScript;...   \n",
       "23          Bash/Shell/PowerShell;Go;HTML/CSS;Java;JavaScr...   \n",
       "24                                                         Go   \n",
       "25                     HTML/CSS;JavaScript;PHP;SQL;TypeScript   \n",
       "26          C#;HTML/CSS;JavaScript;Objective-C;Ruby;SQL;Sw...   \n",
       "28                                                 JavaScript   \n",
       "29          Bash/Shell/PowerShell;Clojure;JavaScript;Pytho...   \n",
       "30                                                        NaN   \n",
       "32          Bash/Shell/PowerShell;HTML/CSS;JavaScript;Pyth...   \n",
       "33                                                          R   \n",
       "35                                                        NaN   \n",
       "36                                              Kotlin;Python   \n",
       "38                                 C#;HTML/CSS;JavaScript;SQL   \n",
       "39                                       C#;F#;SQL;TypeScript   \n",
       "41              Bash/Shell/PowerShell;HTML/CSS;JavaScript;SQL   \n",
       "42                                  JavaScript;PHP;TypeScript   \n",
       "43                                    C#;HTML/CSS;Objective-C   \n",
       "44                                                         C#   \n",
       "46                                 Erlang;Go;Scala;TypeScript   \n",
       "47                                                        NaN   \n",
       "49          Bash/Shell/PowerShell;HTML/CSS;Java;JavaScript...   \n",
       "50                                 HTML/CSS;JavaScript;Python   \n",
       "52                                                       Rust   \n",
       "54           Bash/Shell/PowerShell;HTML/CSS;JavaScript;Python   \n",
       "56             Java;JavaScript;Kotlin;Python;Scala;TypeScript   \n",
       "\n",
       "            Lang_JavaScript  LangNext_JavaScript  LangLove_JavaScript  \\\n",
       "Respondent                                                              \n",
       "4                       0.0                  1.0                  NaN   \n",
       "5                       1.0                  1.0                  1.0   \n",
       "7                       1.0                  1.0                  1.0   \n",
       "9                       1.0                  1.0                  1.0   \n",
       "10                      1.0                  1.0                  1.0   \n",
       "13                      1.0                  1.0                  1.0   \n",
       "14                      0.0                  0.0                  NaN   \n",
       "16                      1.0                  1.0                  1.0   \n",
       "17                      1.0                  1.0                  1.0   \n",
       "19                      1.0                  1.0                  1.0   \n",
       "22                      1.0                  1.0                  1.0   \n",
       "23                      1.0                  1.0                  1.0   \n",
       "24                      1.0                  0.0                  0.0   \n",
       "25                      1.0                  1.0                  1.0   \n",
       "26                      1.0                  1.0                  1.0   \n",
       "28                      1.0                  1.0                  1.0   \n",
       "29                      1.0                  1.0                  1.0   \n",
       "30                      NaN                  NaN                  NaN   \n",
       "32                      1.0                  1.0                  1.0   \n",
       "33                      0.0                  0.0                  NaN   \n",
       "35                      1.0                  NaN                  NaN   \n",
       "36                      0.0                  0.0                  NaN   \n",
       "38                      1.0                  1.0                  1.0   \n",
       "39                      1.0                  0.0                  0.0   \n",
       "41                      1.0                  1.0                  1.0   \n",
       "42                      1.0                  1.0                  1.0   \n",
       "43                      1.0                  0.0                  0.0   \n",
       "44                      1.0                  0.0                  0.0   \n",
       "46                      1.0                  0.0                  0.0   \n",
       "47                      0.0                  NaN                  NaN   \n",
       "49                      1.0                  1.0                  1.0   \n",
       "50                      1.0                  1.0                  1.0   \n",
       "52                      1.0                  0.0                  0.0   \n",
       "54                      1.0                  1.0                  1.0   \n",
       "56                      0.0                  1.0                  NaN   \n",
       "\n",
       "            LangHate_JavaScript  LangDesire_JavaScript  Lang_HTML/CSS  \\\n",
       "Respondent                                                              \n",
       "4                           NaN                    1.0            0.0   \n",
       "5                           0.0                    NaN            1.0   \n",
       "7                           0.0                    NaN            1.0   \n",
       "9                           0.0                    NaN            1.0   \n",
       "10                          0.0                    NaN            0.0   \n",
       "13                          0.0                    NaN            1.0   \n",
       "14                          NaN                    0.0            0.0   \n",
       "16                          0.0                    NaN            1.0   \n",
       "17                          0.0                    NaN            1.0   \n",
       "19                          0.0                    NaN            1.0   \n",
       "22                          0.0                    NaN            1.0   \n",
       "23                          0.0                    NaN            1.0   \n",
       "24                          1.0                    NaN            1.0   \n",
       "25                          0.0                    NaN            1.0   \n",
       "26                          0.0                    NaN            1.0   \n",
       "28                          0.0                    NaN            0.0   \n",
       "29                          0.0                    NaN            0.0   \n",
       "30                          NaN                    NaN            NaN   \n",
       "32                          0.0                    NaN            1.0   \n",
       "33                          NaN                    0.0            0.0   \n",
       "35                          1.0                    NaN            1.0   \n",
       "36                          NaN                    0.0            0.0   \n",
       "38                          0.0                    NaN            1.0   \n",
       "39                          1.0                    NaN            0.0   \n",
       "41                          0.0                    NaN            1.0   \n",
       "42                          0.0                    NaN            1.0   \n",
       "43                          1.0                    NaN            1.0   \n",
       "44                          1.0                    NaN            1.0   \n",
       "46                          1.0                    NaN            1.0   \n",
       "47                          NaN                    NaN            0.0   \n",
       "49                          0.0                    NaN            1.0   \n",
       "50                          0.0                    NaN            1.0   \n",
       "52                          1.0                    NaN            1.0   \n",
       "54                          0.0                    NaN            1.0   \n",
       "56                          NaN                    1.0            1.0   \n",
       "\n",
       "            LangNext_HTML/CSS  LangLove_HTML/CSS  LangHate_HTML/CSS  \\\n",
       "Respondent                                                            \n",
       "4                         0.0                NaN                NaN   \n",
       "5                         1.0                1.0                0.0   \n",
       "7                         1.0                1.0                0.0   \n",
       "9                         1.0                1.0                0.0   \n",
       "10                        0.0                NaN                NaN   \n",
       "13                        1.0                1.0                0.0   \n",
       "14                        0.0                NaN                NaN   \n",
       "16                        1.0                1.0                0.0   \n",
       "17                        1.0                1.0                0.0   \n",
       "19                        1.0                1.0                0.0   \n",
       "22                        1.0                1.0                0.0   \n",
       "23                        1.0                1.0                0.0   \n",
       "24                        0.0                0.0                1.0   \n",
       "25                        1.0                1.0                0.0   \n",
       "26                        1.0                1.0                0.0   \n",
       "28                        0.0                NaN                NaN   \n",
       "29                        0.0                NaN                NaN   \n",
       "30                        NaN                NaN                NaN   \n",
       "32                        1.0                1.0                0.0   \n",
       "33                        0.0                NaN                NaN   \n",
       "35                        NaN                NaN                1.0   \n",
       "36                        0.0                NaN                NaN   \n",
       "38                        1.0                1.0                0.0   \n",
       "39                        0.0                NaN                NaN   \n",
       "41                        1.0                1.0                0.0   \n",
       "42                        0.0                0.0                1.0   \n",
       "43                        1.0                1.0                0.0   \n",
       "44                        0.0                0.0                1.0   \n",
       "46                        0.0                0.0                1.0   \n",
       "47                        NaN                NaN                NaN   \n",
       "49                        1.0                1.0                0.0   \n",
       "50                        1.0                1.0                0.0   \n",
       "52                        0.0                0.0                1.0   \n",
       "54                        1.0                1.0                0.0   \n",
       "56                        0.0                0.0                1.0   \n",
       "\n",
       "            LangDesire_HTML/CSS  Lang_SQL  LangNext_SQL  LangLove_SQL  \n",
       "Respondent                                                             \n",
       "4                           0.0       1.0           1.0           1.0  \n",
       "5                           NaN       1.0           1.0           1.0  \n",
       "7                           NaN       0.0           0.0           NaN  \n",
       "9                           NaN       1.0           1.0           1.0  \n",
       "10                          0.0       1.0           1.0           1.0  \n",
       "13                          NaN       1.0           1.0           1.0  \n",
       "14                          0.0       0.0           0.0           NaN  \n",
       "16                          NaN       0.0           0.0           NaN  \n",
       "17                          NaN       0.0           0.0           NaN  \n",
       "19                          NaN       1.0           0.0           0.0  \n",
       "22                          NaN       1.0           1.0           1.0  \n",
       "23                          NaN       1.0           1.0           1.0  \n",
       "24                          NaN       0.0           0.0           NaN  \n",
       "25                          NaN       1.0           1.0           1.0  \n",
       "26                          NaN       1.0           1.0           1.0  \n",
       "28                          0.0       0.0           0.0           NaN  \n",
       "29                          0.0       1.0           0.0           0.0  \n",
       "30                          NaN       NaN           NaN           NaN  \n",
       "32                          NaN       0.0           0.0           NaN  \n",
       "33                          0.0       0.0           0.0           NaN  \n",
       "35                          NaN       0.0           NaN           NaN  \n",
       "36                          0.0       0.0           0.0           NaN  \n",
       "38                          NaN       1.0           1.0           1.0  \n",
       "39                          0.0       1.0           1.0           1.0  \n",
       "41                          NaN       1.0           1.0           1.0  \n",
       "42                          NaN       0.0           0.0           NaN  \n",
       "43                          NaN       1.0           0.0           0.0  \n",
       "44                          NaN       1.0           0.0           0.0  \n",
       "46                          NaN       1.0           0.0           0.0  \n",
       "47                          NaN       0.0           NaN           NaN  \n",
       "49                          NaN       1.0           1.0           1.0  \n",
       "50                          NaN       1.0           0.0           0.0  \n",
       "52                          NaN       1.0           0.0           0.0  \n",
       "54                          NaN       0.0           0.0           NaN  \n",
       "56                          NaN       1.0           0.0           0.0  "
      ]
     },
     "execution_count": 57,
     "metadata": {},
     "output_type": "execute_result"
    }
   ],
   "source": [
    "langs_df.iloc[:, 0:15].head(35)"
   ]
  },
  {
   "cell_type": "code",
   "execution_count": 58,
   "metadata": {},
   "outputs": [],
   "source": [
    "# We have to split the LanguageWorkedWith to get a proper picture\n",
    "#languages = survey[survey['LanguageWorkedWith'].notnull()]\n",
    "\n",
    "col = 'LanguageWorkedWith'\n",
    "col_next = 'LanguageDesireNextYear'\n",
    "prefix = 'Lang'\n",
    "\n",
    "unique_selects = {}\n",
    "# split the languages on ;\n",
    "# for language_set in survey['LanguageWorkedWith'].dropna().apply(lambda row: str(row).split(';')) :\n",
    "for select_set in df[col].apply(lambda row: str(row).split(';')):\n",
    "    for select in select_set:\n",
    "        if select not in unique_selects.keys():\n",
    "            unique_selects[select] = 1\n",
    "        else:\n",
    "            unique_selects[select] += 1\n",
    "\n",
    "\n",
    "unique_selects_next = {}\n",
    "# split the languages on ;\n",
    "# for language_set in survey['LanguageWorkedWith'].dropna().apply(lambda row: str(row).split(';')) :\n",
    "for select_set in df[col_next].apply(lambda row: str(row).split(';')):\n",
    "    for select in select_set:\n",
    "        if select not in unique_selects_next.keys():\n",
    "            unique_selects_next[select] = 1\n",
    "        else:\n",
    "            unique_selects_next[select] += 1\n",
    "\n",
    "#unique_selects.keys() == unique_selects_next.keys()\n",
    "un_sel = pd.Series(unique_selects).sort_values(ascending=False).copy()\n",
    "un_sel_next = pd.Series(unique_selects_next).sort_values(ascending=False).copy()"
   ]
  },
  {
   "cell_type": "markdown",
   "metadata": {},
   "source": [
    "Incidence of language mentions for now and last year indicate that Javascript is the top dawg but losing steam (though the TypeScript and WebAssembly flavors are up and coming), and traditional HTML/CSS also seems to be on the decline.   Go and Python seem to be steadily growing in interest, with Go, Kotlin, Clojure, Rust and Dart seeming to have emerging interest.  "
   ]
  },
  {
   "cell_type": "code",
   "execution_count": 59,
   "metadata": {},
   "outputs": [],
   "source": [
    "# #pd.DataFrame([un_sel,un_sel_next])  # columns = unique_selects)\n",
    "langs = pd.concat([un_sel, un_sel_next], axis=1, sort=False)\n",
    "# langs.sum(axis=1)\n",
    "langs.columns = [col, col_next]\n",
    "langs['NowVsNextYear'] =(langs[col_next]-langs[col])\n",
    "langs['pctInterestNext'] = (100*(langs[col_next]-langs[col])/langs[col])\n"
   ]
  },
  {
   "cell_type": "code",
   "execution_count": 60,
   "metadata": {},
   "outputs": [
    {
     "data": {
      "text/html": [
       "<div>\n",
       "<style scoped>\n",
       "    .dataframe tbody tr th:only-of-type {\n",
       "        vertical-align: middle;\n",
       "    }\n",
       "\n",
       "    .dataframe tbody tr th {\n",
       "        vertical-align: top;\n",
       "    }\n",
       "\n",
       "    .dataframe thead th {\n",
       "        text-align: right;\n",
       "    }\n",
       "</style>\n",
       "<table border=\"1\" class=\"dataframe\">\n",
       "  <thead>\n",
       "    <tr style=\"text-align: right;\">\n",
       "      <th></th>\n",
       "      <th>LanguageWorkedWith</th>\n",
       "      <th>LanguageDesireNextYear</th>\n",
       "      <th>NowVsNextYear</th>\n",
       "      <th>pctInterestNext</th>\n",
       "    </tr>\n",
       "  </thead>\n",
       "  <tbody>\n",
       "    <tr>\n",
       "      <th>HTML/CSS</th>\n",
       "      <td>41911</td>\n",
       "      <td>27420</td>\n",
       "      <td>-14491</td>\n",
       "      <td>-34.575648</td>\n",
       "    </tr>\n",
       "    <tr>\n",
       "      <th>JavaScript</th>\n",
       "      <td>46945</td>\n",
       "      <td>34194</td>\n",
       "      <td>-12751</td>\n",
       "      <td>-27.161572</td>\n",
       "    </tr>\n",
       "    <tr>\n",
       "      <th>SQL</th>\n",
       "      <td>37235</td>\n",
       "      <td>25290</td>\n",
       "      <td>-11945</td>\n",
       "      <td>-32.080032</td>\n",
       "    </tr>\n",
       "    <tr>\n",
       "      <th>Java</th>\n",
       "      <td>26348</td>\n",
       "      <td>16583</td>\n",
       "      <td>-9765</td>\n",
       "      <td>-37.061637</td>\n",
       "    </tr>\n",
       "    <tr>\n",
       "      <th>Bash/Shell/PowerShell</th>\n",
       "      <td>24195</td>\n",
       "      <td>15428</td>\n",
       "      <td>-8767</td>\n",
       "      <td>-36.234759</td>\n",
       "    </tr>\n",
       "    <tr>\n",
       "      <th>PHP</th>\n",
       "      <td>17042</td>\n",
       "      <td>8636</td>\n",
       "      <td>-8406</td>\n",
       "      <td>-49.325197</td>\n",
       "    </tr>\n",
       "    <tr>\n",
       "      <th>C</th>\n",
       "      <td>11130</td>\n",
       "      <td>6694</td>\n",
       "      <td>-4436</td>\n",
       "      <td>-39.856244</td>\n",
       "    </tr>\n",
       "    <tr>\n",
       "      <th>C#</th>\n",
       "      <td>21657</td>\n",
       "      <td>17300</td>\n",
       "      <td>-4357</td>\n",
       "      <td>-20.118207</td>\n",
       "    </tr>\n",
       "    <tr>\n",
       "      <th>C++</th>\n",
       "      <td>13296</td>\n",
       "      <td>10434</td>\n",
       "      <td>-2862</td>\n",
       "      <td>-21.525271</td>\n",
       "    </tr>\n",
       "    <tr>\n",
       "      <th>VBA</th>\n",
       "      <td>2987</td>\n",
       "      <td>762</td>\n",
       "      <td>-2225</td>\n",
       "      <td>-74.489454</td>\n",
       "    </tr>\n",
       "    <tr>\n",
       "      <th>Objective-C</th>\n",
       "      <td>3615</td>\n",
       "      <td>2095</td>\n",
       "      <td>-1520</td>\n",
       "      <td>-42.047026</td>\n",
       "    </tr>\n",
       "    <tr>\n",
       "      <th>Assembly</th>\n",
       "      <td>3173</td>\n",
       "      <td>2346</td>\n",
       "      <td>-827</td>\n",
       "      <td>-26.063662</td>\n",
       "    </tr>\n",
       "    <tr>\n",
       "      <th>Ruby</th>\n",
       "      <td>5923</td>\n",
       "      <td>5272</td>\n",
       "      <td>-651</td>\n",
       "      <td>-10.991052</td>\n",
       "    </tr>\n",
       "    <tr>\n",
       "      <th>Other(s):</th>\n",
       "      <td>5596</td>\n",
       "      <td>5559</td>\n",
       "      <td>-37</td>\n",
       "      <td>-0.661187</td>\n",
       "    </tr>\n",
       "    <tr>\n",
       "      <th>Erlang</th>\n",
       "      <td>622</td>\n",
       "      <td>1650</td>\n",
       "      <td>1028</td>\n",
       "      <td>165.273312</td>\n",
       "    </tr>\n",
       "    <tr>\n",
       "      <th>Clojure</th>\n",
       "      <td>1029</td>\n",
       "      <td>2194</td>\n",
       "      <td>1165</td>\n",
       "      <td>113.216715</td>\n",
       "    </tr>\n",
       "    <tr>\n",
       "      <th>R</th>\n",
       "      <td>2731</td>\n",
       "      <td>3924</td>\n",
       "      <td>1193</td>\n",
       "      <td>43.683632</td>\n",
       "    </tr>\n",
       "    <tr>\n",
       "      <th>Scala</th>\n",
       "      <td>2805</td>\n",
       "      <td>4532</td>\n",
       "      <td>1727</td>\n",
       "      <td>61.568627</td>\n",
       "    </tr>\n",
       "    <tr>\n",
       "      <th>Swift</th>\n",
       "      <td>4652</td>\n",
       "      <td>6697</td>\n",
       "      <td>2045</td>\n",
       "      <td>43.959587</td>\n",
       "    </tr>\n",
       "    <tr>\n",
       "      <th>Elixir</th>\n",
       "      <td>1064</td>\n",
       "      <td>3149</td>\n",
       "      <td>2085</td>\n",
       "      <td>195.958647</td>\n",
       "    </tr>\n",
       "    <tr>\n",
       "      <th>Dart</th>\n",
       "      <td>1244</td>\n",
       "      <td>3341</td>\n",
       "      <td>2097</td>\n",
       "      <td>168.569132</td>\n",
       "    </tr>\n",
       "    <tr>\n",
       "      <th>F#</th>\n",
       "      <td>757</td>\n",
       "      <td>2897</td>\n",
       "      <td>2140</td>\n",
       "      <td>282.694848</td>\n",
       "    </tr>\n",
       "    <tr>\n",
       "      <th>nan</th>\n",
       "      <td>405</td>\n",
       "      <td>3091</td>\n",
       "      <td>2686</td>\n",
       "      <td>663.209877</td>\n",
       "    </tr>\n",
       "    <tr>\n",
       "      <th>Python</th>\n",
       "      <td>24285</td>\n",
       "      <td>27007</td>\n",
       "      <td>2722</td>\n",
       "      <td>11.208565</td>\n",
       "    </tr>\n",
       "    <tr>\n",
       "      <th>TypeScript</th>\n",
       "      <td>16535</td>\n",
       "      <td>20492</td>\n",
       "      <td>3957</td>\n",
       "      <td>23.931055</td>\n",
       "    </tr>\n",
       "    <tr>\n",
       "      <th>Kotlin</th>\n",
       "      <td>4590</td>\n",
       "      <td>10453</td>\n",
       "      <td>5863</td>\n",
       "      <td>127.734205</td>\n",
       "    </tr>\n",
       "    <tr>\n",
       "      <th>WebAssembly</th>\n",
       "      <td>745</td>\n",
       "      <td>6928</td>\n",
       "      <td>6183</td>\n",
       "      <td>829.932886</td>\n",
       "    </tr>\n",
       "    <tr>\n",
       "      <th>Rust</th>\n",
       "      <td>1981</td>\n",
       "      <td>8205</td>\n",
       "      <td>6224</td>\n",
       "      <td>314.184755</td>\n",
       "    </tr>\n",
       "    <tr>\n",
       "      <th>Go</th>\n",
       "      <td>5852</td>\n",
       "      <td>13566</td>\n",
       "      <td>7714</td>\n",
       "      <td>131.818182</td>\n",
       "    </tr>\n",
       "  </tbody>\n",
       "</table>\n",
       "</div>"
      ],
      "text/plain": [
       "                       LanguageWorkedWith  LanguageDesireNextYear  \\\n",
       "HTML/CSS                            41911                   27420   \n",
       "JavaScript                          46945                   34194   \n",
       "SQL                                 37235                   25290   \n",
       "Java                                26348                   16583   \n",
       "Bash/Shell/PowerShell               24195                   15428   \n",
       "PHP                                 17042                    8636   \n",
       "C                                   11130                    6694   \n",
       "C#                                  21657                   17300   \n",
       "C++                                 13296                   10434   \n",
       "VBA                                  2987                     762   \n",
       "Objective-C                          3615                    2095   \n",
       "Assembly                             3173                    2346   \n",
       "Ruby                                 5923                    5272   \n",
       "Other(s):                            5596                    5559   \n",
       "Erlang                                622                    1650   \n",
       "Clojure                              1029                    2194   \n",
       "R                                    2731                    3924   \n",
       "Scala                                2805                    4532   \n",
       "Swift                                4652                    6697   \n",
       "Elixir                               1064                    3149   \n",
       "Dart                                 1244                    3341   \n",
       "F#                                    757                    2897   \n",
       "nan                                   405                    3091   \n",
       "Python                              24285                   27007   \n",
       "TypeScript                          16535                   20492   \n",
       "Kotlin                               4590                   10453   \n",
       "WebAssembly                           745                    6928   \n",
       "Rust                                 1981                    8205   \n",
       "Go                                   5852                   13566   \n",
       "\n",
       "                       NowVsNextYear  pctInterestNext  \n",
       "HTML/CSS                      -14491       -34.575648  \n",
       "JavaScript                    -12751       -27.161572  \n",
       "SQL                           -11945       -32.080032  \n",
       "Java                           -9765       -37.061637  \n",
       "Bash/Shell/PowerShell          -8767       -36.234759  \n",
       "PHP                            -8406       -49.325197  \n",
       "C                              -4436       -39.856244  \n",
       "C#                             -4357       -20.118207  \n",
       "C++                            -2862       -21.525271  \n",
       "VBA                            -2225       -74.489454  \n",
       "Objective-C                    -1520       -42.047026  \n",
       "Assembly                        -827       -26.063662  \n",
       "Ruby                            -651       -10.991052  \n",
       "Other(s):                        -37        -0.661187  \n",
       "Erlang                          1028       165.273312  \n",
       "Clojure                         1165       113.216715  \n",
       "R                               1193        43.683632  \n",
       "Scala                           1727        61.568627  \n",
       "Swift                           2045        43.959587  \n",
       "Elixir                          2085       195.958647  \n",
       "Dart                            2097       168.569132  \n",
       "F#                              2140       282.694848  \n",
       "nan                             2686       663.209877  \n",
       "Python                          2722        11.208565  \n",
       "TypeScript                      3957        23.931055  \n",
       "Kotlin                          5863       127.734205  \n",
       "WebAssembly                     6183       829.932886  \n",
       "Rust                            6224       314.184755  \n",
       "Go                              7714       131.818182  "
      ]
     },
     "execution_count": 60,
     "metadata": {},
     "output_type": "execute_result"
    }
   ],
   "source": [
    "# raw difference in mentions\n",
    "langs.sort_values('NowVsNextYear',ascending=True)\n"
   ]
  },
  {
   "cell_type": "code",
   "execution_count": 61,
   "metadata": {},
   "outputs": [],
   "source": [
    "## This is how to merge the \"splits\" back into the main DF (for regressions...)\n",
    "#df_ = df.merge(langs, how='outer', left_index=True, right_index=True)\n",
    "#df_.shape"
   ]
  },
  {
   "cell_type": "markdown",
   "metadata": {},
   "source": [
    "Now we need to look at what percentage of each language users LOVE, or HATE that language.  And what the raw percentage of non-users are interested in the language.\n",
    "\n",
    "Lets plot as some horizontal bar graphs next to the raw incidence of language use for all Professionals and then with Developers and DataScientists broken out.\n",
    "\n"
   ]
  },
  {
   "cell_type": "code",
   "execution_count": 174,
   "metadata": {},
   "outputs": [
    {
     "data": {
      "image/png": "[encoded data removed]",
      "text/plain": [
       "<Figure size 1080x864 with 2 Axes>"
      ]
     },
     "metadata": {
      "needs_background": "light"
     },
     "output_type": "display_data"
    }
   ],
   "source": [
    "title_text = 'Incidence of Language used'\n",
    "xlimit = {0,75} # \n",
    "ylabel_text = 'Language'\n",
    "\n",
    "plot_dev_vs_df(lang_dev,lang_ds,title_text,xlimit,ylabel_text)"
   ]
  },
  {
   "cell_type": "code",
   "execution_count": 100,
   "metadata": {},
   "outputs": [],
   "source": [
    "# DataFrame.hist(data, column=None, by=None, grid=True, \n",
    "#  xlabelsize=None, xrot=None, ylabelsize=None, \n",
    "#  yrot=None, ax=None, sharex=False, sharey=False, \n",
    "#  figsize=None, layout=None, bins=10,\n",
    "               \n",
    "               "
   ]
  },
  {
   "cell_type": "code",
   "execution_count": 68,
   "metadata": {},
   "outputs": [],
   "source": [
    "langs = langs_df.filter(regex='Lang_')\n",
    "#langs = langs.merge(df['DSorDV'], how='outer', left_index=True, right_index=True)\n",
    "#langs.groupby('DSorDV').mean()\n",
    "\n",
    "\n"
   ]
  },
  {
   "cell_type": "code",
   "execution_count": 159,
   "metadata": {},
   "outputs": [
    {
     "data": {
      "text/plain": [
       "Lang_nan                       0.558521\n",
       "Lang_Erlang                    1.335497\n",
       "Lang_WebAssembly               1.635047\n",
       "Lang_F#                        1.560160\n",
       "Lang_Clojure                   2.034448\n",
       "Lang_Elixir                    1.485272\n",
       "Lang_Dart                      1.784823\n",
       "Lang_Rust                      3.332501\n",
       "Lang_R                        18.147778\n",
       "Lang_Scala                     7.850724\n",
       "Lang_VBA                       9.573140\n",
       "Lang_Assembly                  7.638542\n",
       "Lang_Objective-C               4.742886\n",
       "Lang_Kotlin                    4.880180\n",
       "Lang_Swift                     5.516725\n",
       "Lang_Other(s):                12.306540\n",
       "Lang_Go                        8.974039\n",
       "Lang_Ruby                      7.014478\n",
       "Lang_C                        23.115327\n",
       "Lang_C++                      29.031453\n",
       "Lang_TypeScript               18.397404\n",
       "Lang_PHP                      23.801797\n",
       "Lang_C#                       32.663505\n",
       "Lang_Python                   62.893160\n",
       "Lang_Bash/Shell/PowerShell    45.356965\n",
       "Lang_Java                     39.278582\n",
       "Lang_SQL                      66.263105\n",
       "Lang_HTML/CSS                 59.073889\n",
       "Lang_JavaScript               62.581128\n",
       "dtype: float64"
      ]
     },
     "execution_count": 159,
     "metadata": {},
     "output_type": "execute_result"
    }
   ],
   "source": [
    "lang_dev = (100*langs[isDev].mean()).sort_values(ascending=True)\n",
    "sorted_index = lang_dev.index\n",
    "lang_ds = (100*langs[isDS].mean())\n",
    "lang_ds = lang_ds[sorted_index]\n",
    "lang_pct = (100*langs[isDev].mean()).sort_values(ascending=True)\n",
    "lang_pct = lang_pct[sorted_index]\n"
   ]
  },
  {
   "cell_type": "code",
   "execution_count": 175,
   "metadata": {},
   "outputs": [
    {
     "data": {
      "image/png": "[encoded data removed]",
      "text/plain": [
       "<Figure size 1080x864 with 2 Axes>"
      ]
     },
     "metadata": {
      "needs_background": "light"
     },
     "output_type": "display_data"
    }
   ],
   "source": [
    "filt = langs_df.filter(regex='LangLove_')\n",
    "love = filt.drop(columns='LangLove_nan')\n",
    "\n",
    "love_dev = (100*love[isDev].mean()).sort_values(ascending=True)\n",
    "love_ds = (100*love[isDS].mean()).sort_values(ascending=True)\n",
    "#love_ds = love_ds[love_dev.index]\n",
    "title_text = 'language LOVE (of current users, percent who WANT to use next year)'\n",
    "\n",
    "xlimit = {0,95} # \n",
    "ylabel_text = 'Language'\n",
    "\n",
    "plot_dev_vs_df(love_dev,love_ds,title_text,xlimit,ylabel_text)"
   ]
  },
  {
   "cell_type": "code",
   "execution_count": 176,
   "metadata": {},
   "outputs": [
    {
     "data": {
      "image/png": "[encoded data removed]",
      "text/plain": [
       "<Figure size 1080x864 with 2 Axes>"
      ]
     },
     "metadata": {
      "needs_background": "light"
     },
     "output_type": "display_data"
    }
   ],
   "source": [
    "filt = langs_df.filter(regex='LangHate')\n",
    "hate = filt.drop(columns='LangHate_nan')\n",
    "\n",
    "\n",
    "hate_dev = (100*hate[isDev].mean()).sort_values(ascending=True)\n",
    "hate_ds = (100*hate[isDS].mean()).sort_values(ascending=True)\n",
    "\n",
    "title_text = 'language HATE (of current users, percent who DO NOT want to use it next year)'\n",
    "\n",
    "xlimit = {0,85} # \n",
    "ylabel_text = 'Language'\n",
    "\n",
    "plot_dev_vs_df(hate_dev,hate_ds,title_text,xlimit,ylabel_text)"
   ]
  },
  {
   "cell_type": "code",
   "execution_count": 177,
   "metadata": {},
   "outputs": [
    {
     "data": {
      "image/png": "[encoded data removed]",
      "text/plain": [
       "<Figure size 1080x864 with 2 Axes>"
      ]
     },
     "metadata": {
      "needs_background": "light"
     },
     "output_type": "display_data"
    }
   ],
   "source": [
    "filt = langs_df.filter(regex='LangDesire')\n",
    "desire = filt.drop(columns='LangDesire_nan')\n",
    "\n",
    "des_dev = (100*desire[isDev].mean()).sort_values(ascending=True)\n",
    "des_ds = (100*desire[isDS].mean()).sort_values(ascending=True)\n",
    "\n",
    "title_text = 'language DESIRE (of non-users, percent who WANT to use it next year)'\n",
    "\n",
    "xlimit = {0,35} # \n",
    "ylabel_text = 'Language'\n",
    "\n",
    "plot_dev_vs_df(des_dev,des_ds,title_text,xlimit,ylabel_text)"
   ]
  },
  {
   "cell_type": "code",
   "execution_count": 178,
   "metadata": {},
   "outputs": [],
   "source": [
    "col = 'PlatformWorkedWith'\n",
    "col_next = 'PlatformDesireNextYear'\n",
    "prefix = 'Platform'\n",
    "platform_df, Platform_cols = split_multiselect_love_hate(df, col, col_next, prefix)"
   ]
  },
  {
   "cell_type": "code",
   "execution_count": null,
   "metadata": {},
   "outputs": [],
   "source": []
  },
  {
   "cell_type": "code",
   "execution_count": 180,
   "metadata": {},
   "outputs": [
    {
     "data": {
      "image/png": "[encoded data removed]",
      "text/plain": [
       "<Figure size 1080x864 with 2 Axes>"
      ]
     },
     "metadata": {
      "needs_background": "light"
     },
     "output_type": "display_data"
    }
   ],
   "source": [
    "plats = platform_df.filter(regex='Platform_')\n",
    "plats = plats.drop(columns='Platform_nan')\n",
    "\n",
    "plats_dev = (100*plats[isDev].mean()).sort_values(ascending=True)\n",
    "plats_ds = (100*plats[isDS].mean()).sort_values(ascending=True)\n",
    "\n",
    "title_text = 'incidence of platforms used'\n",
    "xlimit = {0,75} # \n",
    "ylabel_text = 'Platform'\n",
    "plot_dev_vs_df(plats_dev,plats_ds,title_text,xlimit,ylabel_text)"
   ]
  },
  {
   "cell_type": "code",
   "execution_count": 172,
   "metadata": {},
   "outputs": [],
   "source": [
    "# plats = platform_df.filter(regex='PlatformDesire_')\n",
    "# plats = plats.drop(columns='PlatformDesire_nan')\n",
    "\n",
    "# platsd_dev = (100*plats[isDev].mean()).sort_values(ascending=True)\n",
    "# platsd_ds = (100*plats[isDS].mean()).sort_values(ascending=True)\n",
    "\n",
    "# platsd_dev.plot.barh(figsize=(10, 10))\n",
    "\n",
    "# platsd_ds.plot.barh(figsize=(10, 10))"
   ]
  },
  {
   "cell_type": "code",
   "execution_count": 182,
   "metadata": {},
   "outputs": [],
   "source": [
    "col = 'DatabaseWorkedWith'\n",
    "col_next = 'DatabaseDesireNextYear'\n",
    "prefix = 'DB'\n",
    "db_df, DB_cols = split_multiselect_love_hate(df, col, col_next, prefix)"
   ]
  },
  {
   "cell_type": "code",
   "execution_count": 184,
   "metadata": {},
   "outputs": [
    {
     "data": {
      "image/png": "[encoded data removed]",
      "text/plain": [
       "<Figure size 1080x864 with 2 Axes>"
      ]
     },
     "metadata": {
      "needs_background": "light"
     },
     "output_type": "display_data"
    }
   ],
   "source": [
    "dbs = db_df.filter(regex='DB_')\n",
    "dbs = dbs.drop(columns='DB_nan')\n",
    "\n",
    "dbs_dev = (100*dbs[isDev].mean()).sort_values(ascending=True)\n",
    "dbs_ds = (100*dbs[isDS].mean()).sort_values(ascending=True)\n",
    "\n",
    "title_text = 'incidence of database used'\n",
    "xlimit = {0,60} # \n",
    "ylabel_text = 'Database'\n",
    "plot_dev_vs_df(dbs_dev,dbs_ds,title_text,xlimit,ylabel_text)"
   ]
  },
  {
   "cell_type": "code",
   "execution_count": 185,
   "metadata": {},
   "outputs": [],
   "source": [
    "col = 'MiscTechWorkedWith'\n",
    "col_next = 'MiscTechDesireNextYear'\n",
    "prefix = 'Tech'\n",
    "tech_df, Tech_cols = split_multiselect_love_hate(df, col, col_next, prefix)"
   ]
  },
  {
   "cell_type": "code",
   "execution_count": 186,
   "metadata": {},
   "outputs": [
    {
     "data": {
      "image/png": "[encoded data removed]",
      "text/plain": [
       "<Figure size 1080x864 with 2 Axes>"
      ]
     },
     "metadata": {
      "needs_background": "light"
     },
     "output_type": "display_data"
    }
   ],
   "source": [
    "techs = tech_df.filter(regex='Tech_')\n",
    "techs = techs.drop(columns='Tech_nan')\n",
    "\n",
    "techs_dev = (100*techs[isDev].mean()).sort_values(ascending=True)\n",
    "techs_ds = (100*techs[isDS].mean()).sort_values(ascending=True)\n",
    "\n",
    "title_text = 'incidence of technology used'\n",
    "xlimit = {0,60} # \n",
    "ylabel_text = 'Tech'\n",
    "plot_dev_vs_df(dbs_dev,dbs_ds,title_text,xlimit,ylabel_text)"
   ]
  },
  {
   "cell_type": "markdown",
   "metadata": {},
   "source": [
    "---\n",
    "\n",
    "dont \n",
    "\n",
    "---\n",
    "\n",
    "go \n",
    "\n",
    "---\n",
    "\n",
    "below\n",
    "\n",
    "---\n",
    "\n",
    "here\n",
    "\n",
    "---"
   ]
  },
  {
   "cell_type": "markdown",
   "metadata": {},
   "source": [
    "throw out everything except a simple df"
   ]
  },
  {
   "cell_type": "code",
   "execution_count": null,
   "metadata": {},
   "outputs": [],
   "source": [
    "import sklearn\n",
    "from sklearn import svm, preprocessing\n",
    "\n",
    "df = sklearn.utils.shuffle(df) # always shuffle your data to avoid any biases that may emerge b/c of some order.\n",
    "\n",
    "X = df.drop(\"price\", axis=1).values\n",
    "X = preprocessing.scale(X)\n",
    "y = df[\"price\"].values\n",
    "\n",
    "test_size = 200\n",
    "\n",
    "X_train = X[:-test_size]\n",
    "y_train = y[:-test_size]\n",
    "\n",
    "X_test = X[-test_size:]\n",
    "y_test = y[-test_size:]\n",
    "\n",
    "clf = svm.SVR(kernel = 'linear')\n",
    "#clf = svm.SVR(kernel = 'rbf')\n",
    "\n",
    "clf.fit(X_train, y_train)\n",
    "print(clf.score(X_test, y_test))\n",
    "\n",
    "for X,y in list(zip(X_test, y_test))[:10]:\n",
    "    print(f\"model predicts {clf.predict([X])[0]}, real value: {y}\")"
   ]
  },
  {
   "cell_type": "code",
   "execution_count": 189,
   "metadata": {},
   "outputs": [
    {
     "ename": "TypeError",
     "evalue": "Must pass values for either `x` or `y`",
     "output_type": "error",
     "traceback": [
      "\u001b[0;31m---------------------------------------------------------------------------\u001b[0m",
      "\u001b[0;31mTypeError\u001b[0m                                 Traceback (most recent call last)",
      "\u001b[0;32m<ipython-input-189-bc653c7a7112>\u001b[0m in \u001b[0;36m<module>\u001b[0;34m\u001b[0m\n\u001b[1;32m      7\u001b[0m \u001b[0;34m\u001b[0m\u001b[0m\n\u001b[1;32m      8\u001b[0m \u001b[0msns\u001b[0m\u001b[0;34m.\u001b[0m\u001b[0mset_color_codes\u001b[0m\u001b[0;34m(\u001b[0m\u001b[0;34m\"pastel\"\u001b[0m\u001b[0;34m)\u001b[0m\u001b[0;34m\u001b[0m\u001b[0;34m\u001b[0m\u001b[0m\n\u001b[0;32m----> 9\u001b[0;31m \u001b[0mp\u001b[0m \u001b[0;34m=\u001b[0m \u001b[0msns\u001b[0m\u001b[0;34m.\u001b[0m\u001b[0mcountplot\u001b[0m\u001b[0;34m(\u001b[0m\u001b[0mdata\u001b[0m\u001b[0;34m=\u001b[0m\u001b[0mtechs\u001b[0m\u001b[0;34m)\u001b[0m\u001b[0;34m\u001b[0m\u001b[0;34m\u001b[0m\u001b[0m\n\u001b[0m\u001b[1;32m     10\u001b[0m \u001b[0;34m\u001b[0m\u001b[0m\n\u001b[1;32m     11\u001b[0m \u001b[0;31m#sns.barplot(x=\"MainBranch\", y=\"abbrev\", data=df, label=\"Count\", color=\"b\")\u001b[0m\u001b[0;34m\u001b[0m\u001b[0;34m\u001b[0m\u001b[0;34m\u001b[0m\u001b[0m\n",
      "\u001b[0;32m~/anaconda3/lib/python3.7/site-packages/seaborn/categorical.py\u001b[0m in \u001b[0;36mcountplot\u001b[0;34m(x, y, hue, data, order, hue_order, orient, color, palette, saturation, dodge, ax, **kwargs)\u001b[0m\n\u001b[1;32m   3546\u001b[0m         \u001b[0;32mraise\u001b[0m \u001b[0mTypeError\u001b[0m\u001b[0;34m(\u001b[0m\u001b[0;34m\"Cannot pass values for both `x` and `y`\"\u001b[0m\u001b[0;34m)\u001b[0m\u001b[0;34m\u001b[0m\u001b[0;34m\u001b[0m\u001b[0m\n\u001b[1;32m   3547\u001b[0m     \u001b[0;32melse\u001b[0m\u001b[0;34m:\u001b[0m\u001b[0;34m\u001b[0m\u001b[0;34m\u001b[0m\u001b[0m\n\u001b[0;32m-> 3548\u001b[0;31m         \u001b[0;32mraise\u001b[0m \u001b[0mTypeError\u001b[0m\u001b[0;34m(\u001b[0m\u001b[0;34m\"Must pass values for either `x` or `y`\"\u001b[0m\u001b[0;34m)\u001b[0m\u001b[0;34m\u001b[0m\u001b[0;34m\u001b[0m\u001b[0m\n\u001b[0m\u001b[1;32m   3549\u001b[0m \u001b[0;34m\u001b[0m\u001b[0m\n\u001b[1;32m   3550\u001b[0m     plotter = _BarPlotter(x, y, hue, data, order, hue_order,\n",
      "\u001b[0;31mTypeError\u001b[0m: Must pass values for either `x` or `y`"
     ]
    },
    {
     "data": {
      "image/png": "[encoded data removed]",
      "text/plain": [
       "<Figure size 432x1080 with 1 Axes>"
      ]
     },
     "metadata": {},
     "output_type": "display_data"
    }
   ],
   "source": [
    "#import seaborn as sns\n",
    "import matplotlib.pyplot as plt\n",
    "sns.set(style=\"whitegrid\")\n",
    "\n",
    "# Initialize the matplotlib figure\n",
    "f, ax = plt.subplots(figsize=(6, 15))\n",
    "\n",
    "sns.set_color_codes(\"pastel\")\n",
    "p = sns.countplot(data=techs)\n",
    "\n",
    "#sns.barplot(x=\"MainBranch\", y=\"abbrev\", data=df, label=\"Count\", color=\"b\")\n",
    "\n",
    "\n",
    "# Plot the crashes where alcohol was involved\n",
    "# sns.set_color_codes(\"muted\")\n",
    "# sns.barplot(x=\"alcohol\", y=\"abbrev\", data=crashes,\n",
    "#            label=\"Alcohol-involved\", color=\"b\")\n",
    "\n",
    "# Add a legend and informative axis label\n",
    "#ax.legend(ncol=2, loc=\"lower right\", frameon=True)\n",
    "# ax.set(xlim=(0, 24), ylabel=\"\",\n",
    "#       xlabel=\"Automobile collisions per billion miles\")\n",
    "#sns.despine(left=True, bottom=True)"
   ]
  },
  {
   "cell_type": "code",
   "execution_count": null,
   "metadata": {},
   "outputs": [],
   "source": [
    " \n",
    "# Generate 1000 random values.\n",
    "x = np.random.normal(10, 5, 1000)\n",
    "y = np.random.normal(11,10,1000)\n",
    "# Plot them as a histogram.\n",
    "plt.hist(x) \n",
    "plt.show()# Same data, this time normed, using density.\n",
    "plt.hist(x, density=True, color='blue', bins=np.arange(-10, 40), alpha=.5) \n",
    "plt.hist(y, density=True, color='red', bins=np.arange(-10, 40), alpha=.5)\n",
    "plt.title('Normed histograms')\n",
    "plt.xlabel('Random Values')\n",
    "\n",
    "plt.show()\n",
    "\n",
    "\n",
    "print(set(df['region'].values.tolist()))\n",
    "    \n",
    "    region_df = df.copy()[df['region']==region]\n",
    "\n",
    "\n",
    "\n",
    "\n",
    "graph_df = pd.DataFrame()\n",
    "\n",
    "for region in df['region'].unique():\n",
    "    region_df = df.copy()[df['region']==region]\n",
    "    region_df.set_index('Date', inplace=True)\n",
    "    region_df.sort_index(inplace=True)\n",
    "    region_df[f\"{region}_price25ma\"] = region_df[\"AveragePrice\"].rolling(25).mean()\n",
    "\n",
    "    if graph_df.empty:\n",
    "        graph_df = region_df[[f\"{region}_price25ma\"]]  # note the double square brackets! (so df rather than series)\n",
    "    else:\n",
    "        graph_df = graph_df.join(region_df[f\"{region}_price25ma\"])\n",
    "\n",
    "graph_df.tail()\n",
    "\n"
   ]
  },
  {
   "cell_type": "code",
   "execution_count": 115,
   "metadata": {},
   "outputs": [
    {
     "ename": "NameError",
     "evalue": "name 'now' is not defined",
     "output_type": "error",
     "traceback": [
      "\u001b[0;31m---------------------------------------------------------------------------\u001b[0m",
      "\u001b[0;31mNameError\u001b[0m                                 Traceback (most recent call last)",
      "\u001b[0;32m<ipython-input-115-ff43899d451f>\u001b[0m in \u001b[0;36m<module>\u001b[0;34m\u001b[0m\n\u001b[0;32m----> 1\u001b[0;31m \u001b[0mnow\u001b[0m\u001b[0;34m\u001b[0m\u001b[0;34m\u001b[0m\u001b[0m\n\u001b[0m\u001b[1;32m      2\u001b[0m \u001b[0mnext_year\u001b[0m\u001b[0;34m\u001b[0m\u001b[0;34m\u001b[0m\u001b[0m\n\u001b[1;32m      3\u001b[0m \u001b[0;34m\u001b[0m\u001b[0m\n\u001b[1;32m      4\u001b[0m \u001b[0mlove\u001b[0m\u001b[0;34m\u001b[0m\u001b[0;34m\u001b[0m\u001b[0m\n\u001b[1;32m      5\u001b[0m \u001b[0mhate\u001b[0m\u001b[0;34m\u001b[0m\u001b[0;34m\u001b[0m\u001b[0m\n",
      "\u001b[0;31mNameError\u001b[0m: name 'now' is not defined"
     ]
    }
   ],
   "source": [
    "# create figure and axis\n",
    "fig, ax = plt.subplots()\n",
    "# plot histogram\n",
    "\n",
    "\n",
    "ax.hist(desireDS,bins=30, alpha=0.3, density=True, range={0,1000000.}, color='r')\n",
    "# set title and labels\n",
    "ax.set_title('df')\n",
    "ax.set_xlabel('muney')\n",
    "ax.set_ylabel('Frequency')\n",
    "ax.hist(desireDev,bins=30, alpha=0.3, density=True, range={0,1000000.},color='b' )\n",
    "\n",
    "\n",
    "# Initialize the matplotlib figure\n",
    "f, ax = plt.subplots(figsize=(6, 15))\n",
    "\n",
    "sns.set_color_codes(\"pastel\")\n",
    "p = sns.countplot(data=df, x='MainBranch')\n",
    "\n",
    "p = sns.countplot(data=df,\n",
    "                  y = 'Category',\n",
    "                  hue = 'DSorDV')\n",
    "\n",
    "\n",
    "# Plot the total crashes\n",
    "#sns.barplot(x=\"MainBranch\", y=\"abbrev\", data=df, label=\"Count\", color=\"b\")\n",
    "\n",
    "# Plot the crashes where alcohol was involved\n",
    "# sns.set_color_codes(\"muted\")\n",
    "# sns.barplot(x=\"alcohol\", y=\"abbrev\", data=crashes,\n",
    "#            label=\"Alcohol-involved\", color=\"b\")\n",
    "\n",
    "# Add a legend and informative axis label\n",
    "#ax.legend(ncol=2, loc=\"lower right\", frameon=True)\n",
    "# ax.set(xlim=(0, 24), ylabel=\"\",\n",
    "#       xlabel=\"Automobile collisions per billion miles\")\n",
    "sns.despine(left=True, bottom=True)\n",
    "\n",
    "###  Databases, Platforms, and Misc Tech\n",
    "\n",
    "      `DatabaseWorkedWith`,`DatabaseDesireNextYear`, \n",
    "     `MiscTechWorkedWith`,`MiscTechDesireNextYear`, \n",
    "     `PlatformWorkedWith`, `PlatformDesireNextYear`,"
   ]
  },
  {
   "cell_type": "code",
   "execution_count": null,
   "metadata": {},
   "outputs": [],
   "source": [
    "df.pivot_table(['Total day calls', 'Total eve calls', 'Total night calls'],\n",
    "               ['Area code'], aggfunc='mean')\n",
    "\n",
    "pd.crosstab(df['Churn'], df['Voice mail plan'], normalize=True)\n",
    "\n",
    "\n",
    "# Plotting a bar graph of the number of stores in each city, for the first ten cities listed\n",
    "# in the column 'City'\n",
    "city_count = df['City'].value_counts()\n",
    "city_count = city_count[:10, ]\n",
    "plt.figure(figsize=(10, 5))\n",
    "sns.barplot(city_count.index, city_count.values, alpha=0.8)\n",
    "plt.title('Starbucks in top 10 cities in the World')\n",
    "plt.ylabel('Number of Occurrences', fontsize=12)\n",
    "plt.xlabel('city', fontsize=12)\n",
    "plt.show()"
   ]
  }
 ],
 "metadata": {
  "kernelspec": {
   "display_name": "Python 3",
   "language": "python",
   "name": "python3"
  },
  "language_info": {
   "codemirror_mode": {
    "name": "ipython",
    "version": 3
   },
   "file_extension": ".py",
   "mimetype": "text/x-python",
   "name": "python",
   "nbconvert_exporter": "python",
   "pygments_lexer": "ipython3",
   "version": "3.7.3"
  },
  "toc": {
   "base_numbering": 1,
   "nav_menu": {},
   "number_sections": true,
   "sideBar": true,
   "skip_h1_title": false,
   "title_cell": "Table of Contents",
   "title_sidebar": "Contents",
   "toc_cell": false,
   "toc_position": {},
   "toc_section_display": true,
   "toc_window_display": true
  },
  "varInspector": {
   "cols": {
    "lenName": 16,
    "lenType": 16,
    "lenVar": 40
   },
   "kernels_config": {
    "python": {
     "delete_cmd_postfix": "",
     "delete_cmd_prefix": "del ",
     "library": "var_list.py",
     "varRefreshCmd": "print(var_dic_list())"
    },
    "r": {
     "delete_cmd_postfix": ") ",
     "delete_cmd_prefix": "rm(",
     "library": "var_list.r",
     "varRefreshCmd": "cat(var_dic_list()) "
    }
   },
   "position": {
    "height": "840.99px",
    "left": "528.149px",
    "right": "20px",
    "top": "21.8854px",
    "width": "800px"
   },
   "types_to_exclude": [
    "module",
    "function",
    "builtin_function_or_method",
    "instance",
    "_Feature"
   ],
   "window_display": false
  }
 },
 "nbformat": 4,
 "nbformat_minor": 2
}
