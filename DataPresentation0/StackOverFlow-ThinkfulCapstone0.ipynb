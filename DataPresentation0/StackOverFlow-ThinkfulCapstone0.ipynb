{
 "cells": [
  {
   "cell_type": "markdown",
   "metadata": {},
   "source": [
    "## StackOverFlow Developer Survey Analysis [Simplified version]"
   ]
  },
  {
   "cell_type": "code",
   "execution_count": 1,
   "metadata": {
    "ExecuteTime": {
     "end_time": "2019-09-12T02:24:15.892964Z",
     "start_time": "2019-09-12T02:24:15.189682Z"
    },
    "slideshow": {
     "slide_type": "slide"
    }
   },
   "outputs": [],
   "source": [
    "import pandas as pd\n",
    "from pathlib import Path\n",
    "from datetime import datetime\n",
    "import requests\n",
    "import zipfile\n",
    "import shutil\n",
    "import os\n",
    "\n",
    "import numpy as np\n",
    "import matplotlib.pyplot as plt"
   ]
  },
  {
   "cell_type": "code",
   "execution_count": 2,
   "metadata": {
    "ExecuteTime": {
     "end_time": "2019-09-12T02:24:15.911698Z",
     "start_time": "2019-09-12T02:24:15.909246Z"
    }
   },
   "outputs": [],
   "source": [
    "# filter the warning for now on\n",
    "#import warnings\n",
    "#warnings.simplefilter(\"ignore\", DeprecationWarning)\n",
    "\n",
    "# new way to create an ordered category\n",
    "from pandas.api.types import CategoricalDtype"
   ]
  },
  {
   "cell_type": "markdown",
   "metadata": {},
   "source": [
    "## OVERVIEW"
   ]
  },
  {
   "cell_type": "markdown",
   "metadata": {},
   "source": [
    "As the business world adapts to the massive disrutption of internet and the consumer epxectations driven by unleashed by the first movers and innovators in Tech, DATA SCIENTISTS have become hightly sought after.  This has made it a very attractive career building on the customs and tools pioneered by individuals in Academic Science and Computer Programming disciplines. \n",
    "\n",
    "Data Science is a hot field; however, are the people doing \"the best job in America\" really any different from other developers?  Lets use the annual Stack Overflow Developers Survey to try and find out.\n"
   ]
  },
  {
   "cell_type": "markdown",
   "metadata": {},
   "source": [
    "---\n",
    "## DATASET Description:\n",
    "\n",
    "The data set is the full, cleaned results of the 2019 Stack Overflow Developer Survey, downloaded from: <https://insights.stackoverflow.com/survey>.   The survey was fielded from January 23 to February 14, 2019. The median time spent on the survey for qualified responses was 23.3 minutes.  Unfortunately, free response submissions and personally identifying information have been removed from the pubicly available data in order to protect the privacy of respondents. \n",
    "\n",
    "Respondents were recruited primarily through channels owned by Stack Overflow. The top 5 sources of respondents were onsite messaging, blog posts, email lists, Meta posts, banner ads, and social media posts. Since respondents were recruited in this way, highly engaged users on Stack Overflow were more likely to notice the links for the survey and click to begin it. This community is _highly_ biased compared with the general population.  Heavy on white males from the US.\n"
   ]
  },
  {
   "cell_type": "markdown",
   "metadata": {},
   "source": [
    "\n",
    "### Data Files\n",
    "\n",
    "There two files of interest are a CSV table of results, and a schema table containing the questions.   For theis analysis we'll just need the survey.csv which we will download and save to a local file re-coded by the year in case we want to look at additional years of data in the future."
   ]
  },
  {
   "cell_type": "code",
   "execution_count": 9,
   "metadata": {
    "ExecuteTime": {
     "end_time": "2019-09-12T02:27:14.982942Z",
     "start_time": "2019-09-12T02:27:14.978602Z"
    }
   },
   "outputs": [],
   "source": [
    "today = datetime.today()\n",
    "survey_year = 2019\n",
    "# in case we want to reuse code for other years\n",
    "in_file = Path.cwd() / 'data' / 'raw' / f'survey{survey_year}.csv'\n",
    "# this is where our cleaned up file will put put\n",
    "summary_file = Path.cwd() / 'data' / 'processed' / \\\n",
    "    'summary_{today:%b-%d-%Y}.pkl'"
   ]
  },
  {
   "cell_type": "code",
   "execution_count": 10,
   "metadata": {
    "ExecuteTime": {
     "end_time": "2019-09-12T02:27:15.636371Z",
     "start_time": "2019-09-12T02:27:15.630206Z"
    }
   },
   "outputs": [],
   "source": [
    "# download the data if its not in the local directory\n",
    "if not os.path.exists(in_file):\n",
    "    # put these here in case we want to look at any other years...\n",
    "    url = 'https://drive.google.com/uc?export=download&id=1QOmVDpd8hcVYqqUXDXf68UMDWQZP0wQV'\n",
    "    survey_filename = 'survey_results_public.csv'\n",
    "    questions_filename = 'survey_results_schema.csv'\n",
    "    print('Downloading {} survey'.format(survey_year))\n",
    "\n",
    "    request = requests.get(url)\n",
    "    with open('survey.zip', 'wb') as file:\n",
    "        file.write(request.content)\n",
    "\n",
    "    print('Unzipping {} survey'.format(survey_year))\n",
    "    with zipfile.ZipFile(\"survey.zip\", \"r\") as file:\n",
    "        file.extractall(\"data/external/\")\n",
    "\n",
    "    print('Moving {} survey'.format(year))\n",
    "    shutil.copytree('data/external', 'data/raw')\n",
    "    shutil.copy('data/external/' + survey_filename,\n",
    "                'data/raw/survey{}.csv'.format(survey_year))\n",
    "    shutil.copy('data/external/' + questions_filename,\n",
    "                'data/raw/schema{}.csv'.format(survey_year))\n",
    "\n",
    "    print('cleaning up')\n",
    "    os.remove('survey.zip')"
   ]
  },
  {
   "cell_type": "markdown",
   "metadata": {},
   "source": [
    "---\n",
    "##  OUTLINE\n",
    "\n",
    "0. OVERVIEW\n",
    "    * Context\n",
    "    * Dataset & files\n",
    "    * Outline (.\\__self__)\n",
    "1. EXPLORE & FRAME  \n",
    "    * Describe the data\n",
    "        * summarry stats & plots  \n",
    "    * Clean and simplify data\n",
    "    * Derive new features \n",
    "2. RESEARCH QUESTIONS\n",
    "    * Are Data Scientists a different breed of developer? \n",
    "3. SUMMARRY AND NEXT STEPS\n",
    "    * So what?\n"
   ]
  },
  {
   "cell_type": "markdown",
   "metadata": {},
   "source": [
    "---\n",
    "---\n",
    "\n",
    "# EXPLORE \n",
    "\n",
    "## The StackOverflow Developers Survey.\n",
    "\n",
    "Lets have a look at what we are working with and how we can start to probe which features to look at."
   ]
  },
  {
   "cell_type": "code",
   "execution_count": 14,
   "metadata": {
    "ExecuteTime": {
     "end_time": "2019-09-12T02:28:35.726478Z",
     "start_time": "2019-09-12T02:28:33.465392Z"
    }
   },
   "outputs": [
    {
     "data": {
      "text/plain": [
       "(88883, 84)"
      ]
     },
     "execution_count": 14,
     "metadata": {},
     "output_type": "execute_result"
    }
   ],
   "source": [
    "# beware that the Respondent ids start at 1\n",
    "df = pd.read_csv(in_file, index_col='Respondent')\n",
    "# Print column name\n",
    "df.shape"
   ]
  },
  {
   "cell_type": "code",
   "execution_count": 15,
   "metadata": {
    "ExecuteTime": {
     "end_time": "2019-09-12T02:28:35.953272Z",
     "start_time": "2019-09-12T02:28:35.948408Z"
    }
   },
   "outputs": [
    {
     "data": {
      "text/plain": [
       "Index(['MainBranch', 'Hobbyist', 'OpenSourcer', 'OpenSource', 'Employment',\n",
       "       'Country', 'Student', 'EdLevel', 'UndergradMajor', 'EduOther',\n",
       "       'OrgSize', 'DevType', 'YearsCode', 'Age1stCode', 'YearsCodePro',\n",
       "       'CareerSat', 'JobSat', 'MgrIdiot', 'MgrMoney', 'MgrWant', 'JobSeek',\n",
       "       'LastHireDate', 'LastInt', 'FizzBuzz', 'JobFactors', 'ResumeUpdate',\n",
       "       'CurrencySymbol', 'CurrencyDesc', 'CompTotal', 'CompFreq',\n",
       "       'ConvertedComp', 'WorkWeekHrs', 'WorkPlan', 'WorkChallenge',\n",
       "       'WorkRemote', 'WorkLoc', 'ImpSyn', 'CodeRev', 'CodeRevHrs', 'UnitTests',\n",
       "       'PurchaseHow', 'PurchaseWhat', 'LanguageWorkedWith',\n",
       "       'LanguageDesireNextYear', 'DatabaseWorkedWith',\n",
       "       'DatabaseDesireNextYear', 'PlatformWorkedWith',\n",
       "       'PlatformDesireNextYear', 'WebFrameWorkedWith',\n",
       "       'WebFrameDesireNextYear', 'MiscTechWorkedWith',\n",
       "       'MiscTechDesireNextYear', 'DevEnviron', 'OpSys', 'Containers',\n",
       "       'BlockchainOrg', 'BlockchainIs', 'BetterLife', 'ITperson', 'OffOn',\n",
       "       'SocialMedia', 'Extraversion', 'ScreenName', 'SOVisit1st',\n",
       "       'SOVisitFreq', 'SOVisitTo', 'SOFindAnswer', 'SOTimeSaved',\n",
       "       'SOHowMuchTime', 'SOAccount', 'SOPartFreq', 'SOJobs', 'EntTeams',\n",
       "       'SOComm', 'WelcomeChange', 'SONewContent', 'Age', 'Gender', 'Trans',\n",
       "       'Sexuality', 'Ethnicity', 'Dependents', 'SurveyLength', 'SurveyEase'],\n",
       "      dtype='object')"
      ]
     },
     "execution_count": 15,
     "metadata": {},
     "output_type": "execute_result"
    }
   ],
   "source": [
    "df.columns"
   ]
  },
  {
   "cell_type": "markdown",
   "metadata": {},
   "source": [
    "The dataframe is nice and tidy:  no empty columns, mostly self-explanatory column names, etc. Only the columns resulting from multi-selections will be tricky.  These contain strings with semicolon separated values specifying the selections.\n",
    "\n",
    "---\n",
    "As we can see almost  3 of every 4 respondents are Professional developers (from the column `MainBranch` which corresponds to the surveys first question).  The remaining 26% represent Students, Occational coders, Hobbiests, and retired Developers. After filtering down to include only to Professinals we will stil lhave over 65k respondents to analyze."
   ]
  },
  {
   "cell_type": "code",
   "execution_count": 16,
   "metadata": {
    "ExecuteTime": {
     "end_time": "2019-09-12T02:28:46.873151Z",
     "start_time": "2019-09-12T02:28:46.680988Z"
    }
   },
   "outputs": [
    {
     "data": {
      "text/plain": [
       "<matplotlib.axes._subplots.AxesSubplot at 0x7fa73a04c470>"
      ]
     },
     "execution_count": 16,
     "metadata": {},
     "output_type": "execute_result"
    },
    {
     "data": {
      "image/png": "[encoded data removed]",
      "text/plain": [
       "<Figure size 432x288 with 1 Axes>"
      ]
     },
     "metadata": {
      "needs_background": "light"
     },
     "output_type": "display_data"
    }
   ],
   "source": [
    "(100.0*df['MainBranch'].value_counts()/df.shape[0]).sort_values().plot('barh')\n",
    "#df['MainBranch'].value_counts().sort_values().plot('barh')"
   ]
  },
  {
   "cell_type": "code",
   "execution_count": 17,
   "metadata": {
    "ExecuteTime": {
     "end_time": "2019-09-12T02:32:24.870448Z",
     "start_time": "2019-09-12T02:32:24.817859Z"
    }
   },
   "outputs": [],
   "source": [
    "# filter our respondents to be Professionals\n",
    "df = df[df['MainBranch'] == 'I am a developer by profession']"
   ]
  },
  {
   "cell_type": "code",
   "execution_count": 18,
   "metadata": {
    "ExecuteTime": {
     "end_time": "2019-09-12T02:32:25.495221Z",
     "start_time": "2019-09-12T02:32:25.491081Z"
    },
    "scrolled": true
   },
   "outputs": [
    {
     "name": "stdout",
     "output_type": "stream",
     "text": [
      "The dataset contains 65679 rows and 84 columns.\n"
     ]
    }
   ],
   "source": [
    "print('The dataset contains', df.shape[0], 'rows and', df.shape[1], 'columns.')"
   ]
  },
  {
   "cell_type": "code",
   "execution_count": 19,
   "metadata": {
    "ExecuteTime": {
     "end_time": "2019-09-12T02:32:29.100229Z",
     "start_time": "2019-09-12T02:32:26.770084Z"
    }
   },
   "outputs": [],
   "source": [
    "# convert dtypes to categories for the features we want to analyze...\n",
    "convert_to_cat = ['MainBranch', 'Gender', 'Trans', 'Sexuality', 'Ethnicity', 'Dependents', 'Student', 'UndergradMajor',\n",
    "                  'Employment',  'OrgSize',\n",
    "                  'CareerSat', 'BlockchainOrg', 'OpSys', 'OpenSourcer',\n",
    "                  'MgrIdiot', 'MgrMoney', 'MgrWant', 'BlockchainIs', 'BetterLife', 'ITperson', 'OffOn', 'ScreenName', 'SocialMedia', 'Extraversion',\n",
    "                  'SurveyLength', 'SurveyEase', 'Hobbyist']\n",
    "\n",
    "for col_name in convert_to_cat:\n",
    "    if(df[col_name].dtype == 'object'):\n",
    "        df[col_name] = df[col_name].astype('category')\n",
    "        # df.loc[:,col_name] = df[col_name].cat.codes  # could do this to make everything ready for ML"
   ]
  },
  {
   "cell_type": "code",
   "execution_count": 22,
   "metadata": {
    "ExecuteTime": {
     "end_time": "2019-09-12T02:35:14.950140Z",
     "start_time": "2019-09-12T02:35:14.944989Z"
    }
   },
   "outputs": [
    {
     "data": {
      "text/plain": [
       "Respondent\n",
       "4                                 Developer, full-stack\n",
       "5     Academic researcher;Developer, desktop or ente...\n",
       "7                         Designer;Developer, front-end\n",
       "9     Database administrator;Developer, back-end;Dev...\n",
       "10    Data or business analyst;Data scientist or mac...\n",
       "13    Data or business analyst;Database administrato...\n",
       "14        Developer, desktop or enterprise applications\n",
       "16                                Developer, full-stack\n",
       "17    Developer, back-end;Developer, front-end;Devel...\n",
       "19                                Developer, full-stack\n",
       "22    Data or business analyst;Designer;Developer, b...\n",
       "23                                Developer, full-stack\n",
       "24                                 Developer, front-end\n",
       "25    Designer;Developer, back-end;Developer, front-...\n",
       "26    Designer;Developer, back-end;Developer, deskto...\n",
       "28    Designer;Developer, front-end;Developer, full-...\n",
       "29                        Developer, front-end;Educator\n",
       "30         DevOps specialist;Engineer, site reliability\n",
       "32                                Developer, full-stack\n",
       "33    Academic researcher;Data scientist or machine ...\n",
       "35                                 Developer, front-end\n",
       "36                            Developer, mobile;Student\n",
       "38                 Developer, full-stack;Engineer, data\n",
       "39    Database administrator;Developer, back-end;Dev...\n",
       "41                         Developer, front-end;Student\n",
       "Name: DevType, dtype: object"
      ]
     },
     "execution_count": 22,
     "metadata": {},
     "output_type": "execute_result"
    }
   ],
   "source": [
    "df['DevType'].head(25)"
   ]
  },
  {
   "cell_type": "markdown",
   "metadata": {},
   "source": [
    "### Developer types\n",
    "Beyond keeping professionals only, by dropping students, hobbyists, and other respondents, we want to find Data Scientists (DSs) as well as some other groups for comparing them against.   We'll define somewhat arbitrarily DSs as any respondent as the union of Data scientists, data analysits\" machine learning specialists and academic scientists, (but not data engineers).  Non-DSs are everyone else!   We also define Developers (DEVs) as all traditional developer types (i.e. front-end, back-end, full stacke, etc.).  DSs and DEVs are not mutually exclusive so we also fill out the venn diagriam between DS, DEVs and other for occational sanity checks.\n"
   ]
  },
  {
   "cell_type": "code",
   "execution_count": 25,
   "metadata": {
    "ExecuteTime": {
     "end_time": "2019-09-12T02:55:21.283934Z",
     "start_time": "2019-09-12T02:55:21.062696Z"
    }
   },
   "outputs": [
    {
     "name": "stdout",
     "output_type": "stream",
     "text": [
      "we have 8057 DataScientists and 61987 traditional Developers in our professional Developers database\n"
     ]
    }
   ],
   "source": [
    "# Create data scientist and non-data scientist subsets.\n",
    "# data scientists are defined as \"Data or business analyst\",Engineer, Data\",\n",
    "#       \"Data scientist or machine learning specialist\"\n",
    "# Database administrator or Scientist\n",
    "\n",
    "# developer is \"Developer, {fullstack, game or graphics, mobile, QA or test}\"\n",
    "# exclude database administrator by having space after data\n",
    "data_scientist = df['DevType'].str.contains(\n",
    "    '|'.join(['data ', 'scientist']), case=False, na=False, regex=True).copy()  # data scientists / analists / Data engineers\n",
    "\n",
    "# data = df['DevType'].str.contains('data', case=False, na=False, regex=True).copy() #data scientists / analists / Data engineers\n",
    "developer = df['DevType'].str.contains(\n",
    "    'developer', case=False, na=False, regex=True).copy()  # all types of developers\n",
    "\n",
    "\n",
    "print('we have {} DataScientists and {} traditional Developers in our professional Developers database'.format(\n",
    "    data_scientist.sum(), developer.sum()))"
   ]
  },
  {
   "cell_type": "code",
   "execution_count": 26,
   "metadata": {
    "ExecuteTime": {
     "end_time": "2019-09-12T02:55:21.802972Z",
     "start_time": "2019-09-12T02:55:21.736641Z"
    }
   },
   "outputs": [
    {
     "data": {
      "text/html": [
       "<div>\n",
       "<style scoped>\n",
       "    .dataframe tbody tr th:only-of-type {\n",
       "        vertical-align: middle;\n",
       "    }\n",
       "\n",
       "    .dataframe tbody tr th {\n",
       "        vertical-align: top;\n",
       "    }\n",
       "\n",
       "    .dataframe thead th {\n",
       "        text-align: right;\n",
       "    }\n",
       "</style>\n",
       "<table border=\"1\" class=\"dataframe\">\n",
       "  <thead>\n",
       "    <tr style=\"text-align: right;\">\n",
       "      <th></th>\n",
       "      <th>isDS</th>\n",
       "      <th>notDS</th>\n",
       "      <th>isDev</th>\n",
       "      <th>DSonly</th>\n",
       "      <th>DSandDev</th>\n",
       "      <th>otherDev</th>\n",
       "      <th>DSorNOT</th>\n",
       "    </tr>\n",
       "  </thead>\n",
       "  <tbody>\n",
       "    <tr>\n",
       "      <th>mean</th>\n",
       "      <td>0.122672</td>\n",
       "      <td>0.877328</td>\n",
       "      <td>0.943787</td>\n",
       "      <td>0.019808</td>\n",
       "      <td>0.102864</td>\n",
       "      <td>0.036404</td>\n",
       "      <td>0.122672</td>\n",
       "    </tr>\n",
       "    <tr>\n",
       "      <th>sum</th>\n",
       "      <td>8057.000000</td>\n",
       "      <td>57622.000000</td>\n",
       "      <td>61987.000000</td>\n",
       "      <td>1301.000000</td>\n",
       "      <td>6756.000000</td>\n",
       "      <td>2391.000000</td>\n",
       "      <td>8057.000000</td>\n",
       "    </tr>\n",
       "  </tbody>\n",
       "</table>\n",
       "</div>"
      ],
      "text/plain": [
       "             isDS         notDS         isDev       DSonly     DSandDev  \\\n",
       "mean     0.122672      0.877328      0.943787     0.019808     0.102864   \n",
       "sum   8057.000000  57622.000000  61987.000000  1301.000000  6756.000000   \n",
       "\n",
       "         otherDev      DSorNOT  \n",
       "mean     0.036404     0.122672  \n",
       "sum   2391.000000  8057.000000  "
      ]
     },
     "execution_count": 26,
     "metadata": {},
     "output_type": "execute_result"
    }
   ],
   "source": [
    "# make some expository columns\n",
    "df.loc[:, 'isDS'] = data_scientist\n",
    "df.loc[:, 'isDev'] = developer\n",
    "df.loc[:, 'notDS'] = ~data_scientist\n",
    "df.loc[:, 'DSonly'] = data_scientist & ~developer\n",
    "df.loc[:, 'DSandDev'] = data_scientist & developer\n",
    "df.loc[:, 'otherDev'] = ~data_scientist & ~ developer\n",
    "df.loc[:, 'DSorNOT'] = np.nan\n",
    "df.loc[data_scientist,'DSorNOT'] = 1.0\n",
    "df.loc[~data_scientist,'DSorNOT'] = 0.0\n",
    "\n",
    "df[['isDS','notDS','isDev','DSonly','DSandDev','otherDev','DSorNOT']].agg(['mean','sum'])\n"
   ]
  },
  {
   "cell_type": "markdown",
   "metadata": {},
   "source": [
    "### categorical variables"
   ]
  },
  {
   "cell_type": "markdown",
   "metadata": {},
   "source": [
    "Most of our columns are derived from choosing among a limited number of choices.  Hence, they are categorical.  We'll want to keep the ordering of naturally heirarchal features, such as education."
   ]
  },
  {
   "cell_type": "code",
   "execution_count": 92,
   "metadata": {
    "ExecuteTime": {
     "end_time": "2019-09-12T04:17:33.815004Z",
     "start_time": "2019-09-12T04:17:33.660293Z"
    }
   },
   "outputs": [
    {
     "name": "stdout",
     "output_type": "stream",
     "text": [
      "The dataset contains 65679 rows and 68 columns.\n"
     ]
    }
   ],
   "source": [
    "# Convert these to ordered categories\n",
    "# Education\n",
    "edlevel_cat = CategoricalDtype(['I never completed any formal education',\n",
    "                                'Primary/elementary school',\n",
    "                                'Secondary school (e.g. American high school, German Realschule or Gymnasium, etc.)',\n",
    "                                'Some college/university study without earning a degree',\n",
    "                                'Associate degree',\n",
    "                                'Bachelor’s degree (BA, BS, B.Eng., etc.)',\n",
    "                                'Master’s degree (MA, MS, M.Eng., MBA, etc.)',\n",
    "                                'Professional degree (JD, MD, etc.)',\n",
    "                                'Other doctoral degree (Ph.D, Ed.D., etc.)'], ordered=True)\n",
    "\n",
    "df['EdLevel'] = df.EdLevel.astype(edlevel_cat)\n",
    "\n",
    "# OpenSource . Higher, same lower\n",
    "opensource_cat = CategoricalDtype(['OSS is, on average, of HIGHER quality than proprietary / closed source software',\n",
    "                                   'The quality of OSS and closed source software is about the same',\n",
    "                                   'OSS is, on average, of LOWER quality than proprietary / closed source software', ], ordered=True)\n",
    "df['OpenSource'] = df.OpenSource.astype(opensource_cat)\n",
    "\n",
    "# career satisfaction / job satisfaction\\\n",
    "careersat_cat = CategoricalDtype(['Very dissatisfied',\n",
    "                                  'Slightly dissatisfied',\n",
    "                                  'Neither satisfied nor dissatisfied',\n",
    "                                  'Slightly satisfied',\n",
    "                                  'Very satisfied'], ordered=True)\n",
    "df['CareerSat'] = df.CareerSat.astype(careersat_cat)\n",
    "\n",
    "jobsat_cat = CategoricalDtype(['Very dissatisfied',\n",
    "                               'Slightly dissatisfied',\n",
    "                               'Neither satisfied nor dissatisfied',\n",
    "                               'Slightly satisfied',\n",
    "                               'Very satisfied'], ordered=True)\n",
    "df['JobSat'] = df.JobSat.astype(jobsat_cat)\n",
    "\n",
    "# competence\n",
    "impsyn_cat = CategoricalDtype(['Far below average',\n",
    "                               'A little below average',\n",
    "                               'Average',\n",
    "                               'A little above average',\n",
    "                               'Far above average'], ordered=True)\n",
    "df['ImpSyn'] = df.ImpSyn.astype(impsyn_cat)\n",
    "\n",
    "print('The dataset contains', df.shape[0], 'rows and', df.shape[1], 'columns.')"
   ]
  },
  {
   "cell_type": "markdown",
   "metadata": {},
   "source": [
    "# Research Questions\n",
    "\n",
    "In order to explore whether the cohort of Data Scientists are different from traditional Developers lets explore their DEMOGRAPHICS, their SKILLS&TOOLS, and some ATTITUDES/CULTURAL probes. "
   ]
  },
  {
   "cell_type": "markdown",
   "metadata": {},
   "source": [
    "We will focus on the the DEMOGRAPHIC, ATTITUDANAL, as well as some WORK and CODING relate for further analysis.\n",
    "\n",
    "The motivation behind this analysis is to explore how data scientists compare with non-data scientist developers (\"non-data scientists\"). Consequently, we set out to answer the following questions:\n",
    "\n",
    "1. **Are there demographic differences?**  Hypothesis:  higher educated and more likely from math/science than computer/tech.  Intuition also dictates that DS are younger and less experienced.\n",
    "2. **Are their attitudes different?** \n",
    "3. **Are their skills, tools, and work situations different?**\n",
    "4. **Can we predict if a developer professional developer is a Data Scientist?**        "
   ]
  },
  {
   "cell_type": "markdown",
   "metadata": {},
   "source": [
    "We'll enumerate some lists of our columns of interest for reference, and for filtering.  We'll also define a few functions to simplify plotting and processing."
   ]
  },
  {
   "cell_type": "code",
   "execution_count": 27,
   "metadata": {
    "ExecuteTime": {
     "end_time": "2019-09-12T03:12:00.836730Z",
     "start_time": "2019-09-12T03:12:00.814360Z"
    }
   },
   "outputs": [],
   "source": [
    "# df.columns\n",
    "# Drop unnecessary columns\n",
    "demographic_cols = ['MainBranch', 'Age', 'Gender', 'Trans', 'Sexuality', 'Ethnicity',\n",
    "                    'Dependents', 'Country', 'Student', 'EdLevel', 'UndergradMajor']  # , 'EduOther']\n",
    "\n",
    "attitude_cols = ['ImpSyn', 'CareerSat', 'JobSat', 'MgrIdiot', 'MgrMoney', 'MgrWant', 'JobFactors',\n",
    "                 'BlockchainIs', 'BetterLife', 'ITperson', 'OffOn',  'SocialMedia', 'Extraversion',\n",
    "                 'ScreenName', 'OpenSource']\n",
    "\n",
    "work_cols = ['ConvertedComp',  'WorkWeekHrs' 'Employment', 'OrgSize']  # ,\n",
    "#'JobSeek', 'LastHireDate', 'LastInt', 'ResumeUpdate',\n",
    "#'CompTotal', 'CurrencySymbol','CurrencyDesc', 'CompTotal', 'CompFreq',\n",
    "#'WorkPlan', 'WorkChallenge', 'WorkRemote', 'WorkLoc', 'CodeRev', 'CodeRevHrs', 'UnitTests',\n",
    "# 'PurchaseHow', 'PurchaseWhat']\n",
    "\n",
    "# keep all of these\n",
    "skills_cols = ['YearsCode', 'Age1stCode', 'YearsCodePro', 'OpenSourcer', 'DevType',  'LanguageWorkedWith',\n",
    "               'LanguageDesireNextYear', 'DevEnviron', 'OpSys', 'Containers', 'BlockchainOrg', 'FizzBuzz',\n",
    "               'DatabaseWorkedWith', 'DatabaseDesireNextYear', 'PlatformWorkedWith',   'PlatformDesireNextYear',\n",
    "               'MiscTechWorkedWith', 'MiscTechDesireNextYear', 'WebFrameWorkedWith', 'WebFrameDesireNextYear']\n",
    "\n",
    "misc_cols = ['Hobbyist', 'SurveyLength', 'SurveyEase']\n",
    "\n",
    "# drop all of these\n",
    "stackoverflow_cols = ['SOVisit1st', 'SOVisitFreq', 'SOVisitTo', 'SOFindAnswer', 'SOTimeSaved', 'SOHowMuchTime',\n",
    "                      'SOAccount', 'SOPartFreq', 'SOJobs', 'EntTeams', 'SOComm', 'WelcomeChange', 'SONewContent']\n",
    "\n",
    "# added columns\n",
    "types_cols = ['isDS', 'notDS', 'isDev', 'DSonly', 'DSandDev', 'otherDev']\n",
    "\n",
    "drop_cols = ['JobSeek', 'LastHireDate', 'LastInt', 'ResumeUpdate',\n",
    "             'CompTotal', 'CurrencySymbol', 'CurrencyDesc', 'CompTotal', 'CompFreq',\n",
    "             'WorkPlan', 'WorkChallenge', 'WorkRemote', 'WorkLoc', 'CodeRev', 'CodeRevHrs', 'UnitTests',\n",
    "             'PurchaseHow', 'PurchaseWhat',\n",
    "             'EduOther', 'SOVisit1st', 'SOVisitFreq', 'SOVisitTo', 'SOFindAnswer', 'SOTimeSaved', 'SOHowMuchTime',\n",
    "             'SOAccount', 'SOPartFreq', 'SOJobs', 'EntTeams', 'SOComm', 'WelcomeChange', 'SONewContent']\n",
    "\n",
    "df = df.drop(drop_cols, axis=1)\n",
    "\n",
    "#df = df[keep_columns]"
   ]
  },
  {
   "cell_type": "code",
   "execution_count": 28,
   "metadata": {
    "ExecuteTime": {
     "end_time": "2019-09-12T03:12:01.732151Z",
     "start_time": "2019-09-12T03:12:01.725555Z"
    }
   },
   "outputs": [],
   "source": [
    "def plot_dev_vs_df(df_dev, df_ds, title_text, xlimit, ylabel_text):\n",
    "\n",
    "    fig = plt.figure(figsize=(15, 12))\n",
    "    grid_size = (10, 10)  # lets space stuff out...\n",
    "    SOURCE_TEXT = 'Source: StackOverFlow Dev survey, 2019'\n",
    "\n",
    "    #title_text = 'language LOVE (use now AND want to use it next year'\n",
    "    #xlimit = {0,95} #\n",
    "\n",
    "    xlabel_text = 'Incidence (pct)'\n",
    "\n",
    "    # Place A Title On The Figure\n",
    "    fig.text(x=0.995, y=0.02, s=SOURCE_TEXT, verticalalignment='bottom',\n",
    "             rotation='vertical', color='#524939')\n",
    "    # Overlay multiple plots onto the same axis, which spans 1 entire column of the figure\n",
    "    tall_left_ax = plt.subplot2grid(grid_size, (1, 1), colspan=3, rowspan=9)\n",
    "    tall_right_ax = plt.subplot2grid(grid_size, (1, 6), colspan=3, rowspan=9)\n",
    "    #ax1 = lang_pct.plot.barh(ax=tall_left_ax,legend=False, title='All Respondents',label='xxx',x='string',y='lang')\n",
    "    ax1 = df_dev.plot.barh(ax=tall_left_ax,\n",
    "                           legend=False,\n",
    "                           title='Developers').set(xlabel=xlabel_text, ylabel=ylabel_text, xlim=xlimit)\n",
    "    ax2 = df_ds.plot.barh(ax=tall_right_ax,\n",
    "                          legend=False,\n",
    "                          title='Data Scientists').set(xlabel=xlabel_text, xlim=xlimit)\n",
    "    # plt.tight_layout()\n",
    "    plt.suptitle(title_text, fontsize=22)\n",
    "    # should also move the ylabels to the right side for the second plot..."
   ]
  },
  {
   "cell_type": "code",
   "execution_count": 29,
   "metadata": {
    "ExecuteTime": {
     "end_time": "2019-09-12T03:12:02.513459Z",
     "start_time": "2019-09-12T03:12:02.503368Z"
    }
   },
   "outputs": [],
   "source": [
    "def plot_2col(df_dev, df_ds, title_text, xlimit, xlabel_text, ylabel_text, ptype):\n",
    "\n",
    "    fig = plt.figure(figsize=(15, 12))\n",
    "    grid_size = (10, 10)  # lets space stuff out...\n",
    "    SOURCE_TEXT = 'Source: StackOverFlow Dev survey, 2019'\n",
    "\n",
    "    # Place A Title On The Figure\n",
    "    fig.text(x=0.995, y=0.02, s=SOURCE_TEXT, verticalalignment='bottom',\n",
    "             rotation='vertical', color='#524939')\n",
    "    # Overlay multiple plots onto the same axis, which spans 1 entire column of the figure\n",
    "    tall_left_ax = plt.subplot2grid(grid_size, (1, 1), colspan=3, rowspan=9)\n",
    "    tall_right_ax = plt.subplot2grid(grid_size, (1, 6), colspan=3, rowspan=9)\n",
    "\n",
    "    if ptype == 'barh':\n",
    "        #ax1 = lang_pct.plot.barh(ax=tall_left_ax,legend=False, title='All Respondents',label='xxx',x='string',y='lang')\n",
    "        ax1 = df_dev.plot.barh(ax=tall_left_ax,\n",
    "                               legend=False, title='Developers').set(xlabel=xlabel_text,\n",
    "                                                                     ylabel=ylabel_text,\n",
    "                                                                     xlim=xlimit)\n",
    "        ax2 = df_ds.plot.barh(ax=tall_right_ax,\n",
    "                              legend=False,\n",
    "                              title='Data Scientists').set(xlabel=xlabel_text,\n",
    "                                                           xlim=xlimit)\n",
    "    elif ptype == 'pie':\n",
    "\n",
    "        #ax1 = lang_pct.plot.barh(ax=tall_left_ax,legend=False, title='All Respondents',label='xxx',x='string',y='lang')\n",
    "        ax1 = df_dev.plot.pie(\n",
    "            ax=tall_left_ax, legend=False, title='Developers')\n",
    "        ax2 = df_ds.plot.pie(ax=tall_right_ax, legend=False,\n",
    "                             title='Data Scientists')\n",
    "\n",
    "    else:\n",
    "        ax1 = lang_pct.plot.bar(ax=tall_left_ax, legend=False,\n",
    "                                title='All Respondents', label='xxx', x='string', y='lang')\n",
    "        ax1 = df_dev.plot.bar(ax=tall_left_ax,\n",
    "                              legend=False, title='Developers').set(xlabel=xlabel_text,\n",
    "                                                                    ylabel=ylabel_text,\n",
    "                                                                    xlim=xlimit)\n",
    "        ax2 = df_ds.plot.bar(ax=tall_right_ax,\n",
    "                             legend=False,\n",
    "                             title='Data Scientists').set(xlabel=xlabel_text,\n",
    "                                                          xlim=xlimit)\n",
    "\n",
    "    tall_right_ax.yaxis.tick_right()\n",
    "    # plt.tight_layout()\n",
    "    plt.suptitle(title_text, fontsize=22)\n",
    "    # should also move the ylabels to the right side for the second plot..."
   ]
  },
  {
   "cell_type": "code",
   "execution_count": 30,
   "metadata": {
    "ExecuteTime": {
     "end_time": "2019-09-12T03:12:22.055200Z",
     "start_time": "2019-09-12T03:12:22.052372Z"
    }
   },
   "outputs": [],
   "source": [
    "# def plot_axis(ax, series, title):\n",
    "#     labels = [shorten(s, width=30, placeholder='...') for s in series.index]\n",
    "#     y_pos = np.arange(len(series))\n",
    "#     ax.barh(y_pos, series)\n",
    "#     ax.set_yticks(y_pos)\n",
    "#     ax.set_yticklabels(labels, minor=False)\n",
    "#     ax.set_title(title)\n",
    "#     ax.xaxis.set_major_formatter(FuncFormatter(lambda y, _: '{:.0%}'.format(y)))\n",
    "\n",
    "\n",
    "# def plot_ranking(dataframe, tech, figsize=(18, 12), min_worked_with=1000):\n",
    "#     columns = [f'{tech}_{col}' for col in ['worked_with', 'liked', 'new']]\n",
    "\n",
    "#     annotation = '''Graphs 1 & 2 show the percentage of respondents who named the {} relative to how many respondents answered the corresponding question. The 3rd graph shows how many of those who worked\n",
    "# with the {} want to continue to do so. Data: kaggle.com/stackoverflow/stack-overflow-2018-developer-survey • Author: Ramiro Gómez - ramiro.org'''.format(tech, tech, tech)\n",
    "\n",
    "#     # Only count responses with at least one answer to the questions related to this technology\n",
    "#     response_count = len(dataframe[columns].replace(to_replace=set(), value=np.nan).dropna(how='all'))\n",
    "\n",
    "#     counters = [Counter(chain.from_iterable(dataframe[col].apply(list))) for col in columns]\n",
    "#     df = pd.DataFrame(counters, index=columns).T.sort_values(f'{tech}_worked_with')\n",
    "#     # Limit to technologies worked with by at least min_worked_with respondents\n",
    "#     df = df[df[f'{tech}_worked_with'] >= min_worked_with]\n",
    "\n",
    "#     worked_with = (df[f'{tech}_worked_with'] / response_count).sort_values()\n",
    "#     liked = (df[f'{tech}_liked'] / df[f'{tech}_worked_with']).sort_values()\n",
    "#     new = (df[f'{tech}_new'] / response_count).sort_values()\n",
    "\n",
    "#     fig, axes = plt.subplots(nrows=1, ncols=3, figsize=figsize)\n",
    "#     fig.suptitle('Stack Overflow Survey 2018: {} Preferences'.format(tech.title()), y=0.94, size=25)\n",
    "#     fig.subplots_adjust(wspace=0.5)\n",
    "\n",
    "#     plot_axis(axes[0], worked_with, 'Worked with')\n",
    "#     plot_axis(axes[1], new, 'Not worked with but desired')\n",
    "#     plot_axis(axes[2], liked, 'Worked with and desired')\n",
    "\n",
    "#     plt.annotate(annotation, xy=(5, 30), xycoords='figure pixels', size=12)\n",
    "\n",
    "\n",
    "# plot_ranking(df_tech, 'language')"
   ]
  },
  {
   "cell_type": "markdown",
   "metadata": {},
   "source": [
    "----\n",
    "## QUESTION #1: Are there demographic differences that set Data Scientists apart?  \n",
    "\n",
    "**Hypothesis:**  *DS are higher educated and more likely from math/science than computer/tech.*  Intuition also dictates that DS are younger and less experienced.\n",
    "\n",
    "### Demographic 1 - simplified Education and categories"
   ]
  },
  {
   "cell_type": "code",
   "execution_count": 33,
   "metadata": {
    "ExecuteTime": {
     "end_time": "2019-09-12T03:20:39.802985Z",
     "start_time": "2019-09-12T03:20:39.615388Z"
    }
   },
   "outputs": [
    {
     "data": {
      "text/plain": [
       "Grade        4016\n",
       "College     42115\n",
       "Advanced    18295\n",
       "Name: Education, dtype: int64"
      ]
     },
     "execution_count": 33,
     "metadata": {},
     "output_type": "execute_result"
    }
   ],
   "source": [
    "# simple method comparing strings... could also use ordering...\n",
    "advanced = df['EdLevel'].isin(['Other doctoral degree (Ph.D, Ed.D., etc.)',\n",
    "                               'Master’s degree (MA, MS, M.Eng., MBA, etc.)',\n",
    "                               'Professional degree (JD, MD, etc.)'])\n",
    "\n",
    "college = df['EdLevel'].isin(['Associate degree',\n",
    "                              'Bachelor’s degree (BA, BS, B.Eng., etc.)',\n",
    "                              'Some college/university study without earning a degree'])\n",
    "\n",
    "grade = df['EdLevel'].isin(['Secondary school (e.g. American high school, German Realschule or Gymnasium, etc.)',\n",
    "                            'Primary/elementary school',\n",
    "                            'I never completed any formal education'])\n",
    "no_answer = df['EdLevel'].isnull()\n",
    "# create ordered category\n",
    "edlevel_simple_cat = CategoricalDtype(['Grade',\n",
    "                                       'College',  # 'N/A'\n",
    "                                       'Advanced'], ordered=True)\n",
    "df.loc[:, 'Education'] = np.nan\n",
    "df.loc[advanced, 'Education'] = 'Advanced'\n",
    "df.loc[college, 'Education'] = 'College'\n",
    "df.loc[grade, 'Education'] = 'Grade'\n",
    "# now make it an ordered category\n",
    "df.loc[:, 'Education'] = df.Education.astype(edlevel_simple_cat)\n",
    "\n",
    "df['Education'].value_counts(sort=False)"
   ]
  },
  {
   "cell_type": "markdown",
   "metadata": {},
   "source": [
    "ANSWER:  Data Scientists are more are more likely to have advanced degrees than non-Data Scientists, notably PhDs.  But things are a little complicated. So lets aggregate the categories a bit."
   ]
  },
  {
   "cell_type": "code",
   "execution_count": 31,
   "metadata": {
    "ExecuteTime": {
     "end_time": "2019-09-12T03:15:50.040256Z",
     "start_time": "2019-09-12T03:15:49.708639Z"
    }
   },
   "outputs": [
    {
     "data": {
      "image/png": "[encoded data removed]",
      "text/plain": [
       "<Figure size 1080x864 with 2 Axes>"
      ]
     },
     "metadata": {},
     "output_type": "display_data"
    }
   ],
   "source": [
    "# plot EdLevel and Education summaries for DS and non-DS\n",
    "\n",
    "title_text = 'Education Level Incidence (pct)'\n",
    "xlimit = {0, 55}\n",
    "xlabel_text = 'percent'\n",
    "ylabel_text = 'educatation'\n",
    "df_plot1 = 100*df.EdLevel[df['notDS']].value_counts('mean', sort=False)\n",
    "df_plot2 = 100*df.EdLevel[df['isDS']].value_counts('mean', sort=False)\n",
    "df_plot2 = df_plot2[df_plot1.index]\n",
    "plot_2col(df_plot1, df_plot2, title_text, xlimit,\n",
    "          xlabel_text, ylabel_text, 'pie')\n",
    "# df_plot1.unstack(-1).plot.barh()\n",
    "# df_plot1"
   ]
  },
  {
   "cell_type": "markdown",
   "metadata": {},
   "source": [
    "The incidence of Data Scientist with advanced degrees is 17 percentage points higher than non Data Scientists."
   ]
  },
  {
   "cell_type": "code",
   "execution_count": 34,
   "metadata": {
    "ExecuteTime": {
     "end_time": "2019-09-12T03:20:44.876002Z",
     "start_time": "2019-09-12T03:20:44.666108Z"
    }
   },
   "outputs": [
    {
     "data": {
      "text/plain": [
       "College    -15.796559\n",
       "Grade       -1.647514\n",
       "Advanced    17.444073\n",
       "Name: Education, dtype: float64"
      ]
     },
     "execution_count": 34,
     "metadata": {},
     "output_type": "execute_result"
    },
    {
     "data": {
      "image/png": "[encoded data removed]",
      "text/plain": [
       "<Figure size 1080x864 with 2 Axes>"
      ]
     },
     "metadata": {},
     "output_type": "display_data"
    }
   ],
   "source": [
    "# plot EdLevel and Education summaries for DS and non-DS\n",
    "\n",
    "title_text = 'Simplified Education Level Incidence (pct)'\n",
    "xlimit = {0, 70}\n",
    "xlabel_text = 'percent'\n",
    "ylabel_text = 'educatation'\n",
    "df_plot1 = 100*df.Education[df['notDS']].value_counts('mean', sort=False)\n",
    "df_plot2 = 100*df.Education[df['isDS']].value_counts('mean', sort=False)\n",
    "df_plot2 = df_plot2[df_plot1.index]\n",
    "plot_2col(df_plot1, df_plot2, title_text, xlimit,\n",
    "          xlabel_text, ylabel_text, 'pie')\n",
    "# df_plot1.unstack(-1).plot.barh()\n",
    "# df_plot1\n",
    "(df_plot2-df_plot1).sort_values()"
   ]
  },
  {
   "cell_type": "code",
   "execution_count": 35,
   "metadata": {
    "ExecuteTime": {
     "end_time": "2019-09-12T03:23:40.998083Z",
     "start_time": "2019-09-12T03:23:40.819849Z"
    }
   },
   "outputs": [
    {
     "data": {
      "text/plain": [
       "Computer/Tech    46509\n",
       "Math/Science      8697\n",
       "Other             4244\n",
       "Name: Major, dtype: int64"
      ]
     },
     "execution_count": 35,
     "metadata": {},
     "output_type": "execute_result"
    }
   ],
   "source": [
    "# plot UndergradMajor and Major summaries for DS and non-DS\n",
    "df.loc[:, 'Major'] = np.nan\n",
    "\n",
    "computer_tech = df['UndergradMajor'].isin(['Computer science, computer engineering, or software engineering',\n",
    "                                           'Web development or web design',\n",
    "                                           'Information systems, information technology, or system administration'])\n",
    "\n",
    "math_sci = df['UndergradMajor'].isin(['Mathematics or statistics',\n",
    "                                      'Another engineering discipline (ex. civil, electrical, mechanical)',\n",
    "                                      'A natural science (ex. biology, chemistry, physics)'])\n",
    "\n",
    "other = df['UndergradMajor'].isin(['A health science (ex. nursing, pharmacy, radiology)',\n",
    "                                   'A business discipline (ex. accounting, finance, marketing)',\n",
    "                                   'A humanities discipline (ex. literature, history, philosophy)',\n",
    "                                   'A social science (ex. anthropology, psychology, political science)',\n",
    "                                   'Fine arts or performing arts (ex. graphic design, music, studio art)'])\n",
    "\n",
    "\n",
    "df.loc[computer_tech, 'Major'] = 'Computer/Tech'\n",
    "df.loc[math_sci, 'Major'] = 'Math/Science'\n",
    "df.loc[other, 'Major'] = 'Other'\n",
    "#df.loc[no_answer,'EdLevel_simple'] = 'N/A'\n",
    "\n",
    "df.loc[:, 'Major'] = df.Major.astype('category')\n",
    "df['Major'].value_counts()\n",
    "# survey.UndergradMajor.cat.categories"
   ]
  },
  {
   "cell_type": "markdown",
   "metadata": {},
   "source": [
    "Data Scientists with Math/Science degres are +12pp higher than non-Data Scientists, but the vast majority (almost 3/4) have computer / tech degrees."
   ]
  },
  {
   "cell_type": "code",
   "execution_count": 36,
   "metadata": {
    "ExecuteTime": {
     "end_time": "2019-09-12T03:24:39.871483Z",
     "start_time": "2019-09-12T03:24:39.661149Z"
    }
   },
   "outputs": [
    {
     "data": {
      "text/plain": [
       "Computer/Tech   -11.931466\n",
       "Other            -0.443680\n",
       "Math/Science     12.375146\n",
       "Name: Major, dtype: float64"
      ]
     },
     "execution_count": 36,
     "metadata": {},
     "output_type": "execute_result"
    },
    {
     "data": {
      "image/png": "[encoded data removed]",
      "text/plain": [
       "<Figure size 1080x864 with 2 Axes>"
      ]
     },
     "metadata": {},
     "output_type": "display_data"
    }
   ],
   "source": [
    "# plot Major summaries for DS and non-DS\n",
    "title_text = 'Simplified Major Level Incidence (pct)'\n",
    "xlimit = {0, 70}\n",
    "xlabel_text = 'percent'\n",
    "ylabel_text = 'educatation'\n",
    "df_plot1 = 100*df.Major[df['notDS']].value_counts('mean', sort=False)\n",
    "df_plot2 = 100*df.Major[df['isDS']].value_counts('mean', sort=False)\n",
    "df_plot2 = df_plot2[df_plot1.index]\n",
    "plot_2col(df_plot1, df_plot2, title_text, xlimit,\n",
    "          xlabel_text, ylabel_text, 'pie')\n",
    "(df_plot2-df_plot1).sort_values()\n"
   ]
  },
  {
   "cell_type": "markdown",
   "metadata": {},
   "source": [
    "----\n",
    "**Hypothesis:**  *DS started coding early*\n",
    "\n",
    "### Demographic 2 - coding experience, age, Generation, and compensation\n",
    "\n",
    "How long have they been coding?  When did they first start?  "
   ]
  },
  {
   "cell_type": "code",
   "execution_count": 41,
   "metadata": {
    "ExecuteTime": {
     "end_time": "2019-09-12T03:46:08.119722Z",
     "start_time": "2019-09-12T03:46:08.025563Z"
    }
   },
   "outputs": [
    {
     "data": {
      "text/html": [
       "<div>\n",
       "<style scoped>\n",
       "    .dataframe tbody tr th:only-of-type {\n",
       "        vertical-align: middle;\n",
       "    }\n",
       "\n",
       "    .dataframe tbody tr th {\n",
       "        vertical-align: top;\n",
       "    }\n",
       "\n",
       "    .dataframe thead th {\n",
       "        text-align: right;\n",
       "    }\n",
       "</style>\n",
       "<table border=\"1\" class=\"dataframe\">\n",
       "  <thead>\n",
       "    <tr style=\"text-align: right;\">\n",
       "      <th></th>\n",
       "      <th>count</th>\n",
       "      <th>mean</th>\n",
       "      <th>median</th>\n",
       "      <th>sem</th>\n",
       "      <th>max</th>\n",
       "      <th>min</th>\n",
       "    </tr>\n",
       "    <tr>\n",
       "      <th>isDS</th>\n",
       "      <th></th>\n",
       "      <th></th>\n",
       "      <th></th>\n",
       "      <th></th>\n",
       "      <th></th>\n",
       "      <th></th>\n",
       "    </tr>\n",
       "  </thead>\n",
       "  <tbody>\n",
       "    <tr>\n",
       "      <th>False</th>\n",
       "      <td>57205</td>\n",
       "      <td>12.505760</td>\n",
       "      <td>10.0</td>\n",
       "      <td>0.036295</td>\n",
       "      <td>55.0</td>\n",
       "      <td>0.0001</td>\n",
       "    </tr>\n",
       "    <tr>\n",
       "      <th>True</th>\n",
       "      <td>8028</td>\n",
       "      <td>14.205157</td>\n",
       "      <td>11.0</td>\n",
       "      <td>0.109687</td>\n",
       "      <td>55.0</td>\n",
       "      <td>0.0001</td>\n",
       "    </tr>\n",
       "  </tbody>\n",
       "</table>\n",
       "</div>"
      ],
      "text/plain": [
       "       count       mean  median       sem   max     min\n",
       "isDS                                                   \n",
       "False  57205  12.505760    10.0  0.036295  55.0  0.0001\n",
       "True    8028  14.205157    11.0  0.109687  55.0  0.0001"
      ]
     },
     "execution_count": 41,
     "metadata": {},
     "output_type": "execute_result"
    }
   ],
   "source": [
    "def fix_years_coding(years_):\n",
    "    # - years coding, years experience: `YearsCode` -> `nYearsCode`, change \"Less than 1 year\" to 1/10000 and \"More than 50\" to 55.\n",
    "    # - years pro:`YearsCodePro` -> `nYearsPro`\n",
    "    # make these numeric in a sensible way\n",
    "    if years_ == 'Less than 1 year':\n",
    "        return 0.0001\n",
    "    elif years_ == 'More than 50 years':\n",
    "        return 55.\n",
    "    else:\n",
    "        return years_\n",
    "\n",
    "\n",
    "df.loc[:, 'nYearsCode'] = pd.to_numeric(df.YearsCode.apply(fix_years_coding))\n",
    "df.loc[:, 'nYearsPro'] = pd.to_numeric(df.YearsCodePro.apply(fix_years_coding))\n",
    "\n",
    "df.groupby('isDS').nYearsCode.agg(['count', 'mean', 'median', 'sem', 'max', 'min'])"
   ]
  },
  {
   "cell_type": "markdown",
   "metadata": {},
   "source": [
    "Data Scientists tend to have been coding for a long time, and have some people in the cohort who have been in professionals for a long time.  Althouth the median years professional is the same, there average years Pro is one year higher for Data Scientists at 9 years."
   ]
  },
  {
   "cell_type": "code",
   "execution_count": 42,
   "metadata": {
    "ExecuteTime": {
     "end_time": "2019-09-12T03:46:08.710782Z",
     "start_time": "2019-09-12T03:46:08.693048Z"
    }
   },
   "outputs": [
    {
     "data": {
      "text/html": [
       "<div>\n",
       "<style scoped>\n",
       "    .dataframe tbody tr th:only-of-type {\n",
       "        vertical-align: middle;\n",
       "    }\n",
       "\n",
       "    .dataframe tbody tr th {\n",
       "        vertical-align: top;\n",
       "    }\n",
       "\n",
       "    .dataframe thead th {\n",
       "        text-align: right;\n",
       "    }\n",
       "</style>\n",
       "<table border=\"1\" class=\"dataframe\">\n",
       "  <thead>\n",
       "    <tr style=\"text-align: right;\">\n",
       "      <th></th>\n",
       "      <th>count</th>\n",
       "      <th>mean</th>\n",
       "      <th>median</th>\n",
       "      <th>sem</th>\n",
       "      <th>max</th>\n",
       "      <th>min</th>\n",
       "    </tr>\n",
       "    <tr>\n",
       "      <th>isDS</th>\n",
       "      <th></th>\n",
       "      <th></th>\n",
       "      <th></th>\n",
       "      <th></th>\n",
       "      <th></th>\n",
       "      <th></th>\n",
       "    </tr>\n",
       "  </thead>\n",
       "  <tbody>\n",
       "    <tr>\n",
       "      <th>False</th>\n",
       "      <td>57100</td>\n",
       "      <td>7.934979</td>\n",
       "      <td>6.0</td>\n",
       "      <td>0.030514</td>\n",
       "      <td>55.0</td>\n",
       "      <td>0.0001</td>\n",
       "    </tr>\n",
       "    <tr>\n",
       "      <th>True</th>\n",
       "      <td>8009</td>\n",
       "      <td>9.152582</td>\n",
       "      <td>6.0</td>\n",
       "      <td>0.094180</td>\n",
       "      <td>55.0</td>\n",
       "      <td>0.0001</td>\n",
       "    </tr>\n",
       "  </tbody>\n",
       "</table>\n",
       "</div>"
      ],
      "text/plain": [
       "       count      mean  median       sem   max     min\n",
       "isDS                                                  \n",
       "False  57100  7.934979     6.0  0.030514  55.0  0.0001\n",
       "True    8009  9.152582     6.0  0.094180  55.0  0.0001"
      ]
     },
     "execution_count": 42,
     "metadata": {},
     "output_type": "execute_result"
    }
   ],
   "source": [
    "df.groupby('isDS').nYearsPro.agg(['count', 'mean', 'median', 'sem', 'max', 'min'])"
   ]
  },
  {
   "cell_type": "code",
   "execution_count": 39,
   "metadata": {
    "ExecuteTime": {
     "end_time": "2019-09-12T03:44:09.551360Z",
     "start_time": "2019-09-12T03:44:09.492736Z"
    }
   },
   "outputs": [
    {
     "data": {
      "text/html": [
       "<div>\n",
       "<style scoped>\n",
       "    .dataframe tbody tr th:only-of-type {\n",
       "        vertical-align: middle;\n",
       "    }\n",
       "\n",
       "    .dataframe tbody tr th {\n",
       "        vertical-align: top;\n",
       "    }\n",
       "\n",
       "    .dataframe thead th {\n",
       "        text-align: right;\n",
       "    }\n",
       "</style>\n",
       "<table border=\"1\" class=\"dataframe\">\n",
       "  <thead>\n",
       "    <tr style=\"text-align: right;\">\n",
       "      <th></th>\n",
       "      <th>count</th>\n",
       "      <th>mean</th>\n",
       "      <th>median</th>\n",
       "      <th>sem</th>\n",
       "      <th>max</th>\n",
       "      <th>min</th>\n",
       "    </tr>\n",
       "    <tr>\n",
       "      <th>isDS</th>\n",
       "      <th></th>\n",
       "      <th></th>\n",
       "      <th></th>\n",
       "      <th></th>\n",
       "      <th></th>\n",
       "      <th></th>\n",
       "    </tr>\n",
       "  </thead>\n",
       "  <tbody>\n",
       "    <tr>\n",
       "      <th>False</th>\n",
       "      <td>57041</td>\n",
       "      <td>15.369033</td>\n",
       "      <td>15.0</td>\n",
       "      <td>0.019425</td>\n",
       "      <td>85.0</td>\n",
       "      <td>4.5</td>\n",
       "    </tr>\n",
       "    <tr>\n",
       "      <th>True</th>\n",
       "      <td>8002</td>\n",
       "      <td>14.901337</td>\n",
       "      <td>15.0</td>\n",
       "      <td>0.053720</td>\n",
       "      <td>85.0</td>\n",
       "      <td>4.5</td>\n",
       "    </tr>\n",
       "  </tbody>\n",
       "</table>\n",
       "</div>"
      ],
      "text/plain": [
       "       count       mean  median       sem   max  min\n",
       "isDS                                                \n",
       "False  57041  15.369033    15.0  0.019425  85.0  4.5\n",
       "True    8002  14.901337    15.0  0.053720  85.0  4.5"
      ]
     },
     "execution_count": 39,
     "metadata": {},
     "output_type": "execute_result"
    }
   ],
   "source": [
    "def fix_age1stcode(years_):\n",
    "    # - Age: `Age`-> `nAge`  change < 13, or > 80 to `NaN`\n",
    "    if years_ == 'Younger than 5 years':\n",
    "        return 4.5\n",
    "    elif years_ == 'Older than 85':\n",
    "        return 85.\n",
    "    else:\n",
    "        return years_\n",
    "\n",
    "\n",
    "df.loc[:, 'nAgeCode'] = pd.to_numeric(df.Age1stCode.apply(fix_age1stcode))\n",
    "\n",
    "df.groupby('isDS').nAgeCode.agg(\n",
    "    ['count', 'mean', 'median', 'sem', 'max', 'min'])\n"
   ]
  },
  {
   "cell_type": "markdown",
   "metadata": {},
   "source": [
    "So its not surprising that there might be more individuals who started coding at very young ages among Data Scientists. The mean is lower than the median, which is identical between Data Scientists and non-Data Scientis at 15 years young!"
   ]
  },
  {
   "cell_type": "code",
   "execution_count": 43,
   "metadata": {
    "ExecuteTime": {
     "end_time": "2019-09-12T03:53:35.058012Z",
     "start_time": "2019-09-12T03:53:35.054153Z"
    }
   },
   "outputs": [
    {
     "name": "stdout",
     "output_type": "stream",
     "text": [
      "The dataset contains 65679 rows and 65 columns.\n"
     ]
    }
   ],
   "source": [
    "print('The dataset contains', df.shape[0], 'rows and', df.shape[1], 'columns.')"
   ]
  },
  {
   "cell_type": "markdown",
   "metadata": {},
   "source": [
    " ----\n",
    "**Hypothesis:**  *DS follow some generational trends*\n",
    "![alt text][logo]\n",
    "\n",
    "[logo]:\n",
    "https://www.pewresearch.org/wp-content/uploads/2019/01/FT_19.01.17_generations_2019.png\n"
   ]
  },
  {
   "cell_type": "code",
   "execution_count": 44,
   "metadata": {
    "ExecuteTime": {
     "end_time": "2019-09-12T03:55:38.515424Z",
     "start_time": "2019-09-12T03:55:38.489633Z"
    }
   },
   "outputs": [],
   "source": [
    "def fix_age(years_):\n",
    "    # - 1st Code: `Age1stCode` -> `nAgeCode` , change \"Younger than 5 years\" to 4.5 and \"Older than 85\" to 85.\n",
    "    # make these numeric in a sensible way  exclude pre-teens and aged >84\n",
    "    if years_ < 13:\n",
    "        return np.NaN\n",
    "    elif years_ > 84:\n",
    "        return np.NaN\n",
    "    else:\n",
    "        return years_\n",
    "\n",
    "\n",
    "df.loc[:, 'nAge'] = pd.to_numeric(df.Age.apply(fix_age))"
   ]
  },
  {
   "cell_type": "code",
   "execution_count": 45,
   "metadata": {
    "ExecuteTime": {
     "end_time": "2019-09-12T03:55:39.354003Z",
     "start_time": "2019-09-12T03:55:39.205751Z"
    }
   },
   "outputs": [],
   "source": [
    "# Convert Age to generation with 2019 as current time reference\n",
    "def find_gen(age):\n",
    "    \"\"\"\n",
    "    \"\"\"\n",
    "    if age <= 22:\n",
    "        gen = 'GenZ'\n",
    "        return gen\n",
    "    elif age <= 38:\n",
    "        gen = 'Millenial'\n",
    "    elif age <= 54:\n",
    "        gen = 'GenX'\n",
    "    elif age <= 73:\n",
    "        gen = 'Boomer'\n",
    "    else:\n",
    "        gen = 'Silent'\n",
    "    return gen\n",
    "\n",
    "\n",
    "generation_cat = CategoricalDtype(['GenZ',\n",
    "                                   'Millenial',\n",
    "                                   'GenX',\n",
    "                                   'Boomer',\n",
    "                                   'Silent',  # 'N/A'\n",
    "                                   ], ordered=True)\n",
    "\n",
    "# Apply function to subsets\n",
    "df.loc[:, 'Gen'] = np.nan\n",
    "df.loc[:, 'Gen'] = df.Age.apply(find_gen).copy()\n",
    "df.loc[:, 'Gen'] = df.Gen.astype(generation_cat)"
   ]
  },
  {
   "cell_type": "code",
   "execution_count": 48,
   "metadata": {
    "ExecuteTime": {
     "end_time": "2019-09-12T03:57:13.876468Z",
     "start_time": "2019-09-12T03:57:13.656567Z"
    }
   },
   "outputs": [
    {
     "data": {
      "text/plain": [
       "Millenial   -3.666389\n",
       "GenZ        -1.530008\n",
       "Boomer       0.957908\n",
       "Silent       1.442091\n",
       "GenX         2.796397\n",
       "Name: Gen, dtype: float64"
      ]
     },
     "execution_count": 48,
     "metadata": {},
     "output_type": "execute_result"
    },
    {
     "data": {
      "image/png": "[encoded data removed]",
      "text/plain": [
       "<Figure size 1080x864 with 2 Axes>"
      ]
     },
     "metadata": {},
     "output_type": "display_data"
    }
   ],
   "source": [
    "# plot Major summaries for DS and non-DS\n",
    "title_text = 'Simplified Generation Level Incidence (pct)'\n",
    "xlimit = {0, 70}\n",
    "xlabel_text = 'percent'\n",
    "ylabel_text = 'educatation'\n",
    "df_plot1 = 100*df.Gen[df['notDS']].value_counts('mean', sort=False)\n",
    "df_plot2 = 100*df.Gen[df['isDS']].value_counts('mean', sort=False)\n",
    "df_plot2 = df_plot2[df_plot1.index]\n",
    "plot_2col(df_plot1, df_plot2, title_text, xlimit,\n",
    "          xlabel_text, ylabel_text, 'pie')\n",
    "(df_plot2-df_plot1).sort_values()\n"
   ]
  },
  {
   "cell_type": "markdown",
   "metadata": {},
   "source": [
    "Although most of the respondents are Millenials, it is very interesting that our Data Scientists tend to have an older component of GenX, Boomers, and even Silent generation members.\n"
   ]
  },
  {
   "cell_type": "markdown",
   "metadata": {},
   "source": [
    " ### Demographic 4 - Misc, sexuality, country of origin, gender, workweek, and compensation\n",
    "    - [note: should recategorize the multi-selects as \"other\" ]\n",
    "----\n",
    "**Hypothesis:**  The data set will be heavily skewed to coders -- white dudes -- and very US-centric, but Data Scientists will draw in a slightly more balanced group.\n",
    "\n",
    "### Demographic 4 -  Misc: sexuality, country of origin, gender, workweek, and compensation\n",
    "\n",
    "How long have they been coding?  When did they first start?   "
   ]
  },
  {
   "cell_type": "code",
   "execution_count": 94,
   "metadata": {
    "ExecuteTime": {
     "end_time": "2019-09-12T04:18:19.452672Z",
     "start_time": "2019-09-12T04:18:19.428918Z"
    }
   },
   "outputs": [
    {
     "data": {
      "text/plain": [
       "140.0"
      ]
     },
     "execution_count": 94,
     "metadata": {},
     "output_type": "execute_result"
    }
   ],
   "source": [
    "def fix_workweekhours(hours_):\n",
    "    # - workweek: `WorkWeekHrs` to require 4 hours off per day\n",
    "    # hard ceiling on hours in a week (24*7)  lets throw out the ridiculous no sleep 24/7 scenarios\n",
    "    if hours_ > 20*7:\n",
    "        return np.NaN\n",
    "    elif hours_ < 4:  # arbitrary minimum work time\n",
    "        return np.NaN\n",
    "    else:\n",
    "        return hours_\n",
    "\n",
    "\n",
    "df.loc[:, 'WorkWeekH'] = df.WorkWeekHrs.copy().apply(fix_workweekhours)\n",
    "df['WorkWeekH'].max()"
   ]
  },
  {
   "cell_type": "code",
   "execution_count": 95,
   "metadata": {
    "ExecuteTime": {
     "end_time": "2019-09-12T04:18:20.308906Z",
     "start_time": "2019-09-12T04:18:20.306332Z"
    }
   },
   "outputs": [],
   "source": [
    "# def new_sex(sex_):\n",
    "#     #         ['Bisexual', 'Bisexual;Gay or Lesbian',\n",
    "#     #                   'Bisexual;Gay or Lesbian;Straight / Heterosexual',\n",
    "#     #                   'Bisexual;Straight / Heterosexual', 'Gay or Lesbian',\n",
    "#     #                   'Gay or Lesbian;Straight / Heterosexual',\n",
    "#     #                   'Straight / Heterosexual'],\n",
    "\n",
    "#     if sex_=='Bisexual':\n",
    "#         pass\n",
    "#     if sex_=='Gay or Lesbian':\n",
    "#         pass\n",
    "#     if sex_=='Straight / Heterosexual':\n",
    "#         pass\n",
    "#     else:\n",
    "#         return 'Other'\n",
    "\n",
    "# s = df.Sexuality\n",
    "# s2 = df.Sexuality.copy()\n",
    "\n",
    "# s2.cat.set_categories(['Bisexual',\n",
    "#        'Gay or Lesbian',\n",
    "#        'Straight / Heterosexual' ])\n",
    "\n",
    "# df.loc[:, 'Sexuality2'] = s2\n",
    "# df['Sexuality'].dtypes\n",
    "# df['Sexuality2'].describe()\n",
    "\n",
    "# s = df.Sexuality\n",
    "# s2 = df.Sexuality.copy()\n",
    "\n",
    "# s2.cat.set_categories(['Bisexual',\n",
    "#        'Gay or Lesbian',\n",
    "#        'Straight / Heterosexual'])\n",
    "\n",
    "# s2.cat.remove_categories([ 'Bisexual;Gay or Lesbian',\n",
    "#        'Bisexual;Gay or Lesbian;Straight / Heterosexual',\n",
    "#        'Bisexual;Straight / Heterosexual',\n",
    "#        'Gay or Lesbian;Straight / Heterosexual'])\n",
    "# s2.cat.categories"
   ]
  },
  {
   "cell_type": "code",
   "execution_count": 96,
   "metadata": {
    "ExecuteTime": {
     "end_time": "2019-09-12T04:18:21.491284Z",
     "start_time": "2019-09-12T04:18:20.940737Z"
    }
   },
   "outputs": [
    {
     "data": {
      "image/png": "[encoded data removed]",
      "text/plain": [
       "<Figure size 1080x864 with 3 Axes>"
      ]
     },
     "metadata": {
      "needs_background": "light"
     },
     "output_type": "display_data"
    }
   ],
   "source": [
    "fig = plt.figure(figsize=(15, 12))\n",
    "ylimit = {0, .07}\n",
    "xlabel_text = 'age'\n",
    "ylabel_text = 'density'\n",
    "df_plot1 = df.Age[df['notDS']]\n",
    "df_plot2 = df.Age[df['isDS']]\n",
    "\n",
    "# Plot them as a histogram.\n",
    "title_text = 'All Developers distribution'\n",
    "plt.subplot(2, 1, 1)\n",
    "plt.hist(df_plot1, density=True, color='blue',\n",
    "         bins=np.arange(0, 100, 5), alpha=.3)\n",
    "# Plot them as a histogram.\n",
    "plt.hist(df_plot2, density=True, color='red',\n",
    "         bins=np.arange(0, 100, 5), alpha=.3)\n",
    "plt.title(title_text)\n",
    "plt.xlabel(xlabel_text)\n",
    "plt.ylabel(ylabel_text)\n",
    "\n",
    "title_text = 'non-DS distribution'\n",
    "plt.subplot(2, 2, 3)\n",
    "plt.hist(df_plot1, density=True, color='blue',\n",
    "         bins=np.arange(0, 100, 5), alpha=.3)\n",
    "plt.title(title_text)\n",
    "plt.xlabel(xlabel_text)\n",
    "\n",
    "title_text = 'DS distribution'\n",
    "plt.subplot(2, 2, 4)\n",
    "plt.hist(df_plot2, density=True, color='red',\n",
    "         bins=np.arange(0, 100, 5), alpha=.3)\n",
    "plt.title(title_text)\n",
    "plt.xlabel(xlabel_text)\n",
    "\n",
    "\n",
    "plt.show()"
   ]
  },
  {
   "cell_type": "markdown",
   "metadata": {},
   "source": [
    "There's clearly more older respondents in the DS group.  This can be seen as the points abouve the unity line in Q-Q plot for non-DS vs DS."
   ]
  },
  {
   "cell_type": "code",
   "execution_count": 97,
   "metadata": {
    "ExecuteTime": {
     "end_time": "2019-09-12T04:18:22.697790Z",
     "start_time": "2019-09-12T04:18:22.429904Z"
    }
   },
   "outputs": [
    {
     "data": {
      "image/png": "[encoded data removed]",
      "text/plain": [
       "<Figure size 432x288 with 1 Axes>"
      ]
     },
     "metadata": {
      "needs_background": "light"
     },
     "output_type": "display_data"
    }
   ],
   "source": [
    "# percentile list\n",
    "perc = [.10, .25, .50, .75, .90]\n",
    "\n",
    "plt.scatter(x=df_plot1.quantile(np.linspace(0, 1, 100, 0)),\n",
    "            y=df_plot2.quantile(np.linspace(0, 1, 100, 0)))\n",
    "plt.plot([0, 60], [0, 60], color='r')\n",
    "plt.gca().set_aspect('equal', adjustable='box')\n",
    "fig.tight_layout()"
   ]
  },
  {
   "cell_type": "code",
   "execution_count": 98,
   "metadata": {
    "ExecuteTime": {
     "end_time": "2019-09-12T04:18:23.174422Z",
     "start_time": "2019-09-12T04:18:23.171745Z"
    }
   },
   "outputs": [],
   "source": [
    "# CREATE A FIGURE WITH HISTOGRAMS OF SALARY for each generation"
   ]
  },
  {
   "cell_type": "code",
   "execution_count": 99,
   "metadata": {
    "ExecuteTime": {
     "end_time": "2019-09-12T04:18:24.485770Z",
     "start_time": "2019-09-12T04:18:24.466442Z"
    },
    "scrolled": true
   },
   "outputs": [
    {
     "data": {
      "text/html": [
       "<div>\n",
       "<style scoped>\n",
       "    .dataframe tbody tr th:only-of-type {\n",
       "        vertical-align: middle;\n",
       "    }\n",
       "\n",
       "    .dataframe tbody tr th {\n",
       "        vertical-align: top;\n",
       "    }\n",
       "\n",
       "    .dataframe thead th {\n",
       "        text-align: right;\n",
       "    }\n",
       "</style>\n",
       "<table border=\"1\" class=\"dataframe\">\n",
       "  <thead>\n",
       "    <tr style=\"text-align: right;\">\n",
       "      <th></th>\n",
       "      <th>count</th>\n",
       "      <th>mean</th>\n",
       "      <th>median</th>\n",
       "      <th>sem</th>\n",
       "      <th>max</th>\n",
       "      <th>min</th>\n",
       "    </tr>\n",
       "    <tr>\n",
       "      <th>Gen</th>\n",
       "      <th></th>\n",
       "      <th></th>\n",
       "      <th></th>\n",
       "      <th></th>\n",
       "      <th></th>\n",
       "      <th></th>\n",
       "    </tr>\n",
       "  </thead>\n",
       "  <tbody>\n",
       "    <tr>\n",
       "      <th>GenZ</th>\n",
       "      <td>3574</td>\n",
       "      <td>67505.028819</td>\n",
       "      <td>19236.0</td>\n",
       "      <td>3701.555070</td>\n",
       "      <td>2000000.0</td>\n",
       "      <td>0.0</td>\n",
       "    </tr>\n",
       "    <tr>\n",
       "      <th>Millenial</th>\n",
       "      <td>37425</td>\n",
       "      <td>121506.230969</td>\n",
       "      <td>53850.0</td>\n",
       "      <td>1448.691504</td>\n",
       "      <td>2000000.0</td>\n",
       "      <td>0.0</td>\n",
       "    </tr>\n",
       "    <tr>\n",
       "      <th>GenX</th>\n",
       "      <td>6654</td>\n",
       "      <td>176570.177638</td>\n",
       "      <td>93492.0</td>\n",
       "      <td>3793.224584</td>\n",
       "      <td>2000000.0</td>\n",
       "      <td>0.0</td>\n",
       "    </tr>\n",
       "    <tr>\n",
       "      <th>Boomer</th>\n",
       "      <td>796</td>\n",
       "      <td>209459.015075</td>\n",
       "      <td>110000.0</td>\n",
       "      <td>13164.119463</td>\n",
       "      <td>2000000.0</td>\n",
       "      <td>0.0</td>\n",
       "    </tr>\n",
       "    <tr>\n",
       "      <th>Silent</th>\n",
       "      <td>2053</td>\n",
       "      <td>138289.154408</td>\n",
       "      <td>60000.0</td>\n",
       "      <td>6762.615024</td>\n",
       "      <td>2000000.0</td>\n",
       "      <td>0.0</td>\n",
       "    </tr>\n",
       "  </tbody>\n",
       "</table>\n",
       "</div>"
      ],
      "text/plain": [
       "           count           mean    median           sem        max  min\n",
       "Gen                                                                    \n",
       "GenZ        3574   67505.028819   19236.0   3701.555070  2000000.0  0.0\n",
       "Millenial  37425  121506.230969   53850.0   1448.691504  2000000.0  0.0\n",
       "GenX        6654  176570.177638   93492.0   3793.224584  2000000.0  0.0\n",
       "Boomer       796  209459.015075  110000.0  13164.119463  2000000.0  0.0\n",
       "Silent      2053  138289.154408   60000.0   6762.615024  2000000.0  0.0"
      ]
     },
     "execution_count": 99,
     "metadata": {},
     "output_type": "execute_result"
    }
   ],
   "source": [
    "df.groupby('Gen').ConvertedComp.agg(\n",
    "    ['count', 'mean', 'median', 'sem', 'max', 'min'])"
   ]
  },
  {
   "cell_type": "markdown",
   "metadata": {},
   "source": [
    "Data Scientists actually look to be slightly older than non-DS developers. And their experience and tenure help them generate higher salaries."
   ]
  },
  {
   "cell_type": "code",
   "execution_count": 58,
   "metadata": {
    "ExecuteTime": {
     "end_time": "2019-09-12T04:09:09.929973Z",
     "start_time": "2019-09-12T04:09:09.911456Z"
    }
   },
   "outputs": [
    {
     "data": {
      "text/html": [
       "<div>\n",
       "<style scoped>\n",
       "    .dataframe tbody tr th:only-of-type {\n",
       "        vertical-align: middle;\n",
       "    }\n",
       "\n",
       "    .dataframe tbody tr th {\n",
       "        vertical-align: top;\n",
       "    }\n",
       "\n",
       "    .dataframe thead th {\n",
       "        text-align: right;\n",
       "    }\n",
       "</style>\n",
       "<table border=\"1\" class=\"dataframe\">\n",
       "  <thead>\n",
       "    <tr style=\"text-align: right;\">\n",
       "      <th></th>\n",
       "      <th>Hours_NotDS</th>\n",
       "      <th>Hours_DS</th>\n",
       "    </tr>\n",
       "  </thead>\n",
       "  <tbody>\n",
       "    <tr>\n",
       "      <th>count</th>\n",
       "      <td>50671.000000</td>\n",
       "      <td>7050.000000</td>\n",
       "    </tr>\n",
       "    <tr>\n",
       "      <th>mean</th>\n",
       "      <td>40.148769</td>\n",
       "      <td>41.384865</td>\n",
       "    </tr>\n",
       "    <tr>\n",
       "      <th>std</th>\n",
       "      <td>9.725670</td>\n",
       "      <td>11.390711</td>\n",
       "    </tr>\n",
       "    <tr>\n",
       "      <th>min</th>\n",
       "      <td>4.000000</td>\n",
       "      <td>4.000000</td>\n",
       "    </tr>\n",
       "    <tr>\n",
       "      <th>10%</th>\n",
       "      <td>35.000000</td>\n",
       "      <td>30.000000</td>\n",
       "    </tr>\n",
       "    <tr>\n",
       "      <th>25%</th>\n",
       "      <td>40.000000</td>\n",
       "      <td>40.000000</td>\n",
       "    </tr>\n",
       "    <tr>\n",
       "      <th>50%</th>\n",
       "      <td>40.000000</td>\n",
       "      <td>40.000000</td>\n",
       "    </tr>\n",
       "    <tr>\n",
       "      <th>75%</th>\n",
       "      <td>42.000000</td>\n",
       "      <td>45.000000</td>\n",
       "    </tr>\n",
       "    <tr>\n",
       "      <th>90%</th>\n",
       "      <td>50.000000</td>\n",
       "      <td>50.000000</td>\n",
       "    </tr>\n",
       "    <tr>\n",
       "      <th>max</th>\n",
       "      <td>140.000000</td>\n",
       "      <td>120.000000</td>\n",
       "    </tr>\n",
       "  </tbody>\n",
       "</table>\n",
       "</div>"
      ],
      "text/plain": [
       "        Hours_NotDS     Hours_DS\n",
       "count  50671.000000  7050.000000\n",
       "mean      40.148769    41.384865\n",
       "std        9.725670    11.390711\n",
       "min        4.000000     4.000000\n",
       "10%       35.000000    30.000000\n",
       "25%       40.000000    40.000000\n",
       "50%       40.000000    40.000000\n",
       "75%       42.000000    45.000000\n",
       "90%       50.000000    50.000000\n",
       "max      140.000000   120.000000"
      ]
     },
     "execution_count": 58,
     "metadata": {},
     "output_type": "execute_result"
    }
   ],
   "source": [
    "# Looks like the middle 50% of people mostly work 40 hours weeks, but some extreme outliers exist...\n",
    "pd.concat([df.WorkWeekH[df['notDS']].dropna().describe(percentiles=perc).rename('Hours_NotDS'),\n",
    "           (df.WorkWeekH[df['isDS']].dropna().describe(percentiles=perc)).rename('Hours_DS')],\n",
    "          axis=1)"
   ]
  },
  {
   "cell_type": "code",
   "execution_count": 59,
   "metadata": {
    "ExecuteTime": {
     "end_time": "2019-09-12T04:09:11.092909Z",
     "start_time": "2019-09-12T04:09:10.955474Z"
    }
   },
   "outputs": [
    {
     "data": {
      "text/html": [
       "<div>\n",
       "<style scoped>\n",
       "    .dataframe tbody tr th:only-of-type {\n",
       "        vertical-align: middle;\n",
       "    }\n",
       "\n",
       "    .dataframe tbody tr th {\n",
       "        vertical-align: top;\n",
       "    }\n",
       "\n",
       "    .dataframe thead th {\n",
       "        text-align: right;\n",
       "    }\n",
       "</style>\n",
       "<table border=\"1\" class=\"dataframe\">\n",
       "  <thead>\n",
       "    <tr style=\"text-align: right;\">\n",
       "      <th></th>\n",
       "      <th>count</th>\n",
       "      <th>mean</th>\n",
       "      <th>median</th>\n",
       "    </tr>\n",
       "    <tr>\n",
       "      <th>Country</th>\n",
       "      <th></th>\n",
       "      <th></th>\n",
       "      <th></th>\n",
       "    </tr>\n",
       "  </thead>\n",
       "  <tbody>\n",
       "    <tr>\n",
       "      <th>United States</th>\n",
       "      <td>2380</td>\n",
       "      <td>248564.467227</td>\n",
       "      <td>110000.0</td>\n",
       "    </tr>\n",
       "    <tr>\n",
       "      <th>Switzerland</th>\n",
       "      <td>101</td>\n",
       "      <td>153918.851485</td>\n",
       "      <td>96646.0</td>\n",
       "    </tr>\n",
       "    <tr>\n",
       "      <th>Israel</th>\n",
       "      <td>51</td>\n",
       "      <td>95456.000000</td>\n",
       "      <td>95664.0</td>\n",
       "    </tr>\n",
       "    <tr>\n",
       "      <th>Denmark</th>\n",
       "      <td>57</td>\n",
       "      <td>113883.473684</td>\n",
       "      <td>87468.0</td>\n",
       "    </tr>\n",
       "    <tr>\n",
       "      <th>Norway</th>\n",
       "      <td>67</td>\n",
       "      <td>186391.835821</td>\n",
       "      <td>82946.0</td>\n",
       "    </tr>\n",
       "    <tr>\n",
       "      <th>Australia</th>\n",
       "      <td>228</td>\n",
       "      <td>191039.061404</td>\n",
       "      <td>79057.5</td>\n",
       "    </tr>\n",
       "    <tr>\n",
       "      <th>Ireland</th>\n",
       "      <td>54</td>\n",
       "      <td>215333.629630</td>\n",
       "      <td>73328.0</td>\n",
       "    </tr>\n",
       "    <tr>\n",
       "      <th>Iceland</th>\n",
       "      <td>5</td>\n",
       "      <td>71750.400000</td>\n",
       "      <td>70152.0</td>\n",
       "    </tr>\n",
       "    <tr>\n",
       "      <th>Canada</th>\n",
       "      <td>335</td>\n",
       "      <td>136660.026866</td>\n",
       "      <td>68705.0</td>\n",
       "    </tr>\n",
       "    <tr>\n",
       "      <th>United Kingdom</th>\n",
       "      <td>622</td>\n",
       "      <td>161914.355305</td>\n",
       "      <td>65424.0</td>\n",
       "    </tr>\n",
       "  </tbody>\n",
       "</table>\n",
       "</div>"
      ],
      "text/plain": [
       "                count           mean    median\n",
       "Country                                       \n",
       "United States    2380  248564.467227  110000.0\n",
       "Switzerland       101  153918.851485   96646.0\n",
       "Israel             51   95456.000000   95664.0\n",
       "Denmark            57  113883.473684   87468.0\n",
       "Norway             67  186391.835821   82946.0\n",
       "Australia         228  191039.061404   79057.5\n",
       "Ireland            54  215333.629630   73328.0\n",
       "Iceland             5   71750.400000   70152.0\n",
       "Canada            335  136660.026866   68705.0\n",
       "United Kingdom    622  161914.355305   65424.0"
      ]
     },
     "execution_count": 59,
     "metadata": {},
     "output_type": "execute_result"
    }
   ],
   "source": [
    "compStats = df.dropna().groupby('Country').ConvertedComp.agg(\n",
    "    ['count', 'mean', 'median']).sort_values('median', ascending=False)\n",
    "compStats = compStats[compStats['count'] > 4]\n",
    "compStats.head(10)\n",
    "\n",
    "# looks like the US has lots of \"outliers\" but is still the highes paid"
   ]
  },
  {
   "cell_type": "markdown",
   "metadata": {},
   "source": [
    "Strangely, ther rare women in our dataset seem to be slighlty better paid. 1.02 cents on the doller median wage.  However, some the mean pay is slightly higer for men. For DataScientists the median wage is slightly smaller (94.46 cents on the dollar), but the average is higher!!  On _AVERAGE_ women are paid 19% more."
   ]
  },
  {
   "cell_type": "code",
   "execution_count": 60,
   "metadata": {
    "ExecuteTime": {
     "end_time": "2019-09-12T04:09:12.738659Z",
     "start_time": "2019-09-12T04:09:12.603206Z"
    }
   },
   "outputs": [
    {
     "data": {
      "text/html": [
       "<div>\n",
       "<style scoped>\n",
       "    .dataframe tbody tr th:only-of-type {\n",
       "        vertical-align: middle;\n",
       "    }\n",
       "\n",
       "    .dataframe tbody tr th {\n",
       "        vertical-align: top;\n",
       "    }\n",
       "\n",
       "    .dataframe thead th {\n",
       "        text-align: right;\n",
       "    }\n",
       "</style>\n",
       "<table border=\"1\" class=\"dataframe\">\n",
       "  <thead>\n",
       "    <tr style=\"text-align: right;\">\n",
       "      <th></th>\n",
       "      <th>count</th>\n",
       "      <th>mean</th>\n",
       "      <th>median</th>\n",
       "    </tr>\n",
       "    <tr>\n",
       "      <th>Gender</th>\n",
       "      <th></th>\n",
       "      <th></th>\n",
       "      <th></th>\n",
       "    </tr>\n",
       "  </thead>\n",
       "  <tbody>\n",
       "    <tr>\n",
       "      <th>Non-binary, genderqueer, or gender non-conforming</th>\n",
       "      <td>21</td>\n",
       "      <td>234388.857143</td>\n",
       "      <td>78207.0</td>\n",
       "    </tr>\n",
       "    <tr>\n",
       "      <th>Man;Non-binary, genderqueer, or gender non-conforming</th>\n",
       "      <td>12</td>\n",
       "      <td>79897.416667</td>\n",
       "      <td>68665.0</td>\n",
       "    </tr>\n",
       "    <tr>\n",
       "      <th>Woman</th>\n",
       "      <td>296</td>\n",
       "      <td>134814.422297</td>\n",
       "      <td>65154.0</td>\n",
       "    </tr>\n",
       "    <tr>\n",
       "      <th>Man</th>\n",
       "      <td>7203</td>\n",
       "      <td>139614.393308</td>\n",
       "      <td>64115.0</td>\n",
       "    </tr>\n",
       "    <tr>\n",
       "      <th>Woman;Non-binary, genderqueer, or gender non-conforming</th>\n",
       "      <td>9</td>\n",
       "      <td>55470.666667</td>\n",
       "      <td>32064.0</td>\n",
       "    </tr>\n",
       "    <tr>\n",
       "      <th>Woman;Man</th>\n",
       "      <td>3</td>\n",
       "      <td>12224.000000</td>\n",
       "      <td>6276.0</td>\n",
       "    </tr>\n",
       "    <tr>\n",
       "      <th>Woman;Man;Non-binary, genderqueer, or gender non-conforming</th>\n",
       "      <td>0</td>\n",
       "      <td>NaN</td>\n",
       "      <td>NaN</td>\n",
       "    </tr>\n",
       "  </tbody>\n",
       "</table>\n",
       "</div>"
      ],
      "text/plain": [
       "                                                    count           mean  \\\n",
       "Gender                                                                     \n",
       "Non-binary, genderqueer, or gender non-conforming      21  234388.857143   \n",
       "Man;Non-binary, genderqueer, or gender non-conf...     12   79897.416667   \n",
       "Woman                                                 296  134814.422297   \n",
       "Man                                                  7203  139614.393308   \n",
       "Woman;Non-binary, genderqueer, or gender non-co...      9   55470.666667   \n",
       "Woman;Man                                               3   12224.000000   \n",
       "Woman;Man;Non-binary, genderqueer, or gender no...      0            NaN   \n",
       "\n",
       "                                                     median  \n",
       "Gender                                                       \n",
       "Non-binary, genderqueer, or gender non-conforming   78207.0  \n",
       "Man;Non-binary, genderqueer, or gender non-conf...  68665.0  \n",
       "Woman                                               65154.0  \n",
       "Man                                                 64115.0  \n",
       "Woman;Non-binary, genderqueer, or gender non-co...  32064.0  \n",
       "Woman;Man                                            6276.0  \n",
       "Woman;Man;Non-binary, genderqueer, or gender no...      NaN  "
      ]
     },
     "execution_count": 60,
     "metadata": {},
     "output_type": "execute_result"
    }
   ],
   "source": [
    "df.dropna().groupby('Gender').ConvertedComp.agg(\n",
    "    ['count', 'mean', 'median']).sort_values('median', ascending=False)"
   ]
  },
  {
   "cell_type": "code",
   "execution_count": 61,
   "metadata": {
    "ExecuteTime": {
     "end_time": "2019-09-12T04:09:13.213856Z",
     "start_time": "2019-09-12T04:09:13.057706Z"
    }
   },
   "outputs": [
    {
     "data": {
      "text/html": [
       "<div>\n",
       "<style scoped>\n",
       "    .dataframe tbody tr th:only-of-type {\n",
       "        vertical-align: middle;\n",
       "    }\n",
       "\n",
       "    .dataframe tbody tr th {\n",
       "        vertical-align: top;\n",
       "    }\n",
       "\n",
       "    .dataframe thead th {\n",
       "        text-align: right;\n",
       "    }\n",
       "</style>\n",
       "<table border=\"1\" class=\"dataframe\">\n",
       "  <thead>\n",
       "    <tr style=\"text-align: right;\">\n",
       "      <th></th>\n",
       "      <th>count</th>\n",
       "      <th>mean</th>\n",
       "      <th>median</th>\n",
       "    </tr>\n",
       "    <tr>\n",
       "      <th>Gender</th>\n",
       "      <th></th>\n",
       "      <th></th>\n",
       "      <th></th>\n",
       "    </tr>\n",
       "  </thead>\n",
       "  <tbody>\n",
       "    <tr>\n",
       "      <th>Non-binary, genderqueer, or gender non-conforming</th>\n",
       "      <td>15</td>\n",
       "      <td>256132.200000</td>\n",
       "      <td>70000.0</td>\n",
       "    </tr>\n",
       "    <tr>\n",
       "      <th>Man;Non-binary, genderqueer, or gender non-conforming</th>\n",
       "      <td>9</td>\n",
       "      <td>70502.777778</td>\n",
       "      <td>65330.0</td>\n",
       "    </tr>\n",
       "    <tr>\n",
       "      <th>Woman</th>\n",
       "      <td>265</td>\n",
       "      <td>130247.328302</td>\n",
       "      <td>65308.0</td>\n",
       "    </tr>\n",
       "    <tr>\n",
       "      <th>Man</th>\n",
       "      <td>6304</td>\n",
       "      <td>138765.574397</td>\n",
       "      <td>64152.0</td>\n",
       "    </tr>\n",
       "    <tr>\n",
       "      <th>Woman;Non-binary, genderqueer, or gender non-conforming</th>\n",
       "      <td>8</td>\n",
       "      <td>58396.500000</td>\n",
       "      <td>40452.0</td>\n",
       "    </tr>\n",
       "    <tr>\n",
       "      <th>Woman;Man</th>\n",
       "      <td>2</td>\n",
       "      <td>16764.000000</td>\n",
       "      <td>16764.0</td>\n",
       "    </tr>\n",
       "    <tr>\n",
       "      <th>Woman;Man;Non-binary, genderqueer, or gender non-conforming</th>\n",
       "      <td>0</td>\n",
       "      <td>NaN</td>\n",
       "      <td>NaN</td>\n",
       "    </tr>\n",
       "  </tbody>\n",
       "</table>\n",
       "</div>"
      ],
      "text/plain": [
       "                                                    count           mean  \\\n",
       "Gender                                                                     \n",
       "Non-binary, genderqueer, or gender non-conforming      15  256132.200000   \n",
       "Man;Non-binary, genderqueer, or gender non-conf...      9   70502.777778   \n",
       "Woman                                                 265  130247.328302   \n",
       "Man                                                  6304  138765.574397   \n",
       "Woman;Non-binary, genderqueer, or gender non-co...      8   58396.500000   \n",
       "Woman;Man                                               2   16764.000000   \n",
       "Woman;Man;Non-binary, genderqueer, or gender no...      0            NaN   \n",
       "\n",
       "                                                     median  \n",
       "Gender                                                       \n",
       "Non-binary, genderqueer, or gender non-conforming   70000.0  \n",
       "Man;Non-binary, genderqueer, or gender non-conf...  65330.0  \n",
       "Woman                                               65308.0  \n",
       "Man                                                 64152.0  \n",
       "Woman;Non-binary, genderqueer, or gender non-co...  40452.0  \n",
       "Woman;Man                                           16764.0  \n",
       "Woman;Man;Non-binary, genderqueer, or gender no...      NaN  "
      ]
     },
     "execution_count": 61,
     "metadata": {},
     "output_type": "execute_result"
    }
   ],
   "source": [
    "df[df['notDS']].dropna().groupby('Gender').ConvertedComp.agg(\n",
    "    ['count', 'mean', 'median']).sort_values('median', ascending=False)"
   ]
  },
  {
   "cell_type": "code",
   "execution_count": 62,
   "metadata": {
    "ExecuteTime": {
     "end_time": "2019-09-12T04:09:13.623304Z",
     "start_time": "2019-09-12T04:09:13.575949Z"
    }
   },
   "outputs": [
    {
     "data": {
      "text/html": [
       "<div>\n",
       "<style scoped>\n",
       "    .dataframe tbody tr th:only-of-type {\n",
       "        vertical-align: middle;\n",
       "    }\n",
       "\n",
       "    .dataframe tbody tr th {\n",
       "        vertical-align: top;\n",
       "    }\n",
       "\n",
       "    .dataframe thead th {\n",
       "        text-align: right;\n",
       "    }\n",
       "</style>\n",
       "<table border=\"1\" class=\"dataframe\">\n",
       "  <thead>\n",
       "    <tr style=\"text-align: right;\">\n",
       "      <th></th>\n",
       "      <th>count</th>\n",
       "      <th>mean</th>\n",
       "      <th>median</th>\n",
       "    </tr>\n",
       "    <tr>\n",
       "      <th>Gender</th>\n",
       "      <th></th>\n",
       "      <th></th>\n",
       "      <th></th>\n",
       "    </tr>\n",
       "  </thead>\n",
       "  <tbody>\n",
       "    <tr>\n",
       "      <th>Man;Non-binary, genderqueer, or gender non-conforming</th>\n",
       "      <td>3</td>\n",
       "      <td>108081.333333</td>\n",
       "      <td>140000.0</td>\n",
       "    </tr>\n",
       "    <tr>\n",
       "      <th>Non-binary, genderqueer, or gender non-conforming</th>\n",
       "      <td>6</td>\n",
       "      <td>180030.500000</td>\n",
       "      <td>116500.0</td>\n",
       "    </tr>\n",
       "    <tr>\n",
       "      <th>Man</th>\n",
       "      <td>899</td>\n",
       "      <td>145566.511680</td>\n",
       "      <td>63514.0</td>\n",
       "    </tr>\n",
       "    <tr>\n",
       "      <th>Woman</th>\n",
       "      <td>31</td>\n",
       "      <td>173855.709677</td>\n",
       "      <td>60000.0</td>\n",
       "    </tr>\n",
       "    <tr>\n",
       "      <th>Woman;Non-binary, genderqueer, or gender non-conforming</th>\n",
       "      <td>1</td>\n",
       "      <td>32064.000000</td>\n",
       "      <td>32064.0</td>\n",
       "    </tr>\n",
       "    <tr>\n",
       "      <th>Woman;Man</th>\n",
       "      <td>1</td>\n",
       "      <td>3144.000000</td>\n",
       "      <td>3144.0</td>\n",
       "    </tr>\n",
       "    <tr>\n",
       "      <th>Woman;Man;Non-binary, genderqueer, or gender non-conforming</th>\n",
       "      <td>0</td>\n",
       "      <td>NaN</td>\n",
       "      <td>NaN</td>\n",
       "    </tr>\n",
       "  </tbody>\n",
       "</table>\n",
       "</div>"
      ],
      "text/plain": [
       "                                                    count           mean  \\\n",
       "Gender                                                                     \n",
       "Man;Non-binary, genderqueer, or gender non-conf...      3  108081.333333   \n",
       "Non-binary, genderqueer, or gender non-conforming       6  180030.500000   \n",
       "Man                                                   899  145566.511680   \n",
       "Woman                                                  31  173855.709677   \n",
       "Woman;Non-binary, genderqueer, or gender non-co...      1   32064.000000   \n",
       "Woman;Man                                               1    3144.000000   \n",
       "Woman;Man;Non-binary, genderqueer, or gender no...      0            NaN   \n",
       "\n",
       "                                                      median  \n",
       "Gender                                                        \n",
       "Man;Non-binary, genderqueer, or gender non-conf...  140000.0  \n",
       "Non-binary, genderqueer, or gender non-conforming   116500.0  \n",
       "Man                                                  63514.0  \n",
       "Woman                                                60000.0  \n",
       "Woman;Non-binary, genderqueer, or gender non-co...   32064.0  \n",
       "Woman;Man                                             3144.0  \n",
       "Woman;Man;Non-binary, genderqueer, or gender no...       NaN  "
      ]
     },
     "execution_count": 62,
     "metadata": {},
     "output_type": "execute_result"
    }
   ],
   "source": [
    "df[df['isDS']].dropna().groupby('Gender').ConvertedComp.agg(\n",
    "    ['count', 'mean', 'median']).sort_values('median', ascending=False)"
   ]
  },
  {
   "cell_type": "code",
   "execution_count": 63,
   "metadata": {
    "ExecuteTime": {
     "end_time": "2019-09-12T04:09:23.408631Z",
     "start_time": "2019-09-12T04:09:23.365068Z"
    }
   },
   "outputs": [],
   "source": [
    "df_plot1 = df[df['Gender'] == 'Man'].ConvertedComp\n",
    "df_plot2 = df[df['Gender'] == 'Woman'].ConvertedComp\n",
    "qs = np.linspace(0, 1, 100, 0)\n",
    "qx = df_plot1.quantile(qs)\n",
    "qy = df_plot2.quantile(qs)"
   ]
  },
  {
   "cell_type": "code",
   "execution_count": 64,
   "metadata": {
    "ExecuteTime": {
     "end_time": "2019-09-12T04:09:36.772414Z",
     "start_time": "2019-09-12T04:09:35.932217Z"
    }
   },
   "outputs": [
    {
     "data": {
      "image/png": "[encoded data removed]",
      "text/plain": [
       "<Figure size 1080x864 with 4 Axes>"
      ]
     },
     "metadata": {
      "needs_background": "light"
     },
     "output_type": "display_data"
    }
   ],
   "source": [
    "fig = plt.figure(figsize=(15, 12))\n",
    "ylimit = {0, .07}\n",
    "xlabel_text = 'compensation'\n",
    "ylabel_text = 'density'\n",
    "# df_plot1 = df.ConvertedComp[df['Gender']=='Man']\n",
    "# df_plot2 = df.ConvertedComp[df['Gender']=='Woman']\n",
    "\n",
    "df_plot1 = df[df['Gender'] == 'Man'].ConvertedComp\n",
    "df_plot2 = df[df['Gender'] == 'Woman'].ConvertedComp\n",
    "qs = np.linspace(0, 1, 100, 0)\n",
    "qx = df_plot1.quantile(qs)\n",
    "qy = df_plot2.quantile(qs)\n",
    "\n",
    "\n",
    "plt.subplot(1, 4, 1)\n",
    "plt.plot(qx, qy, 'b.')\n",
    "rangex = [0, qx.max()]\n",
    "plt.plot(rangex, rangex, color='r')\n",
    "plt.gca().set(xlim={rangex[0], rangex[1]}, ylim={rangex[0], rangex[1]})\n",
    "plt.gca().set_aspect('equal', adjustable='box')\n",
    "\n",
    "rangex = [0, 500000]\n",
    "plt.subplot(1, 4, 2)\n",
    "plt.scatter(x=df_plot1.quantile(np.linspace(0, 1, 100, 0)),\n",
    "            y=df_plot2.quantile(np.linspace(0, 1, 100, 0)))\n",
    "plt.plot(rangex, rangex, color='r')\n",
    "plt.gca().set(xlim={rangex[0], rangex[1]}, ylim={rangex[0], rangex[1]})\n",
    "plt.gca().set_aspect('equal', adjustable='box')\n",
    "fig.tight_layout()\n",
    "\n",
    "rangex = [50000, 120000]\n",
    "xhi = 100000.\n",
    "plt.subplot(1, 4, 3)\n",
    "plt.scatter(x=df_plot1.quantile(np.linspace(0, 1, 100, 0)),\n",
    "            y=df_plot2.quantile(np.linspace(0, 1, 100, 0)))\n",
    "plt.plot(rangex, rangex, color='r')\n",
    "plt.gca().set(xlim={rangex[0], rangex[1]}, ylim={rangex[0], rangex[1]})\n",
    "plt.gca().set_aspect('equal', adjustable='box')\n",
    "fig.tight_layout()\n",
    "\n",
    "rangex = [0, 80000]\n",
    "plt.subplot(1, 4, 4)\n",
    "plt.scatter(x=df_plot1.quantile(np.linspace(0, 1, 100, 0)),\n",
    "            y=df_plot2.quantile(np.linspace(0, 1, 100, 0)))\n",
    "plt.plot(rangex, rangex, color='r')\n",
    "plt.gca().set(xlim={rangex[0], rangex[1]}, ylim={rangex[0], rangex[1]})\n",
    "plt.gca().set_aspect('equal', adjustable='box')\n",
    "fig.tight_layout()"
   ]
  },
  {
   "cell_type": "code",
   "execution_count": 65,
   "metadata": {
    "ExecuteTime": {
     "end_time": "2019-09-12T04:09:37.381640Z",
     "start_time": "2019-09-12T04:09:37.035772Z"
    }
   },
   "outputs": [
    {
     "data": {
      "text/plain": [
       "Text(0, 0.5, 'density')"
      ]
     },
     "execution_count": 65,
     "metadata": {},
     "output_type": "execute_result"
    },
    {
     "data": {
      "image/png": "[encoded data removed]",
      "text/plain": [
       "<Figure size 1080x864 with 1 Axes>"
      ]
     },
     "metadata": {
      "needs_background": "light"
     },
     "output_type": "display_data"
    }
   ],
   "source": [
    "fig = plt.figure(figsize=(15, 12))\n",
    "ylimit = {0, .07}\n",
    "xlabel_text = 'age'\n",
    "ylabel_text = 'density'\n",
    "# df_plot1 = df.ConvertedComp[df['Gender']=='Man']\n",
    "# df_plot2 = df.ConvertedComp[df['Gender']=='Woman']\n",
    "\n",
    "df_plot1 = df[df['Gender'] == 'Man'].ConvertedComp\n",
    "df_plot2 = df[df['Gender'] == 'Woman'].ConvertedComp\n",
    "qs = np.linspace(0, 1, 100, 0)\n",
    "qx = df_plot1.quantile(qs)\n",
    "qy = df_plot2.quantile(qs)\n",
    "\n",
    "# Plot them as a histogram.\n",
    "title_text = 'gender compensation'\n",
    "plt.subplot(2, 1, 1)\n",
    "histM = plt.hist(df_plot1, density=True, color='blue',\n",
    "                 bins=np.arange(0, 500000, 25000), alpha=.3)\n",
    "# Plot them as a histogram.\n",
    "histF = plt.hist(df_plot2, density=True, color='red',\n",
    "                 bins=np.arange(0, 500000, 25000), alpha=.3)\n",
    "plt.title(title_text)\n",
    "plt.xlabel(xlabel_text)\n",
    "plt.ylabel(ylabel_text)\n",
    "\n",
    "# title_text = 'non-DS distribution'\n",
    "# plt.subplot(2,2,3)\n",
    "# plt.hist(df_plot1, density=True, color='blue', bins=np.arange(0, 500000, 25000), alpha=.3)\n",
    "# plt.title(title_text)\n",
    "# plt.xlabel(xlabel_text)\n",
    "\n",
    "# title_text = 'DS distribution'\n",
    "# plt.subplot(2,2,4)\n",
    "# plt.hist(df_plot2, density=True, color='red', bins=np.arange(0, 500000, 25000), alpha=.3)\n",
    "# plt.title(title_text)\n",
    "# plt.xlabel(xlabel_text)\n",
    "\n",
    "\n",
    "# title_text = 'ds/nonDS'\n",
    "# plt.subplot(2,1,2)\n",
    "# plt.hist(histF/histM, density=True, color='blue', bins=np.arange(0, 500000, 25000), alpha=.3)\n",
    "# plt.title(title_text)\n",
    "# plt.xlabel(xlabel_text)\n",
    "\n",
    "\n",
    "# (df['a']\n",
    "#  .pipe(lambda s: pd.Series(np.histogram(s, range=(0, 100), bins=20)))\n",
    "#  .pipe(lambda s: pd.Series(s[0], index=s[1][:-1]))\n",
    "# )\n",
    "# You can then pipe on more things at the end, like:\n",
    "\n",
    "# .pipe(lambda s: s/s.sum())"
   ]
  },
  {
   "cell_type": "code",
   "execution_count": 66,
   "metadata": {
    "ExecuteTime": {
     "end_time": "2019-09-12T04:09:38.148914Z",
     "start_time": "2019-09-12T04:09:38.141486Z"
    }
   },
   "outputs": [
    {
     "data": {
      "text/plain": [
       "Straight / Heterosexual                            80.993925\n",
       "Bisexual                                            3.553647\n",
       "Gay or Lesbian                                      1.959530\n",
       "Bisexual;Straight / Heterosexual                    0.516147\n",
       "Bisexual;Gay or Lesbian                             0.115714\n",
       "Bisexual;Gay or Lesbian;Straight / Heterosexual     0.089831\n",
       "Gay or Lesbian;Straight / Heterosexual              0.036541\n",
       "Name: Sexuality, dtype: float64"
      ]
     },
     "execution_count": 66,
     "metadata": {},
     "output_type": "execute_result"
    }
   ],
   "source": [
    "# seems like the incidence seems pretty gen-pop representative.. maybe higher bi than gay..\n",
    "# might want to loook deeper at respondents who chose BOTH straight and Gay / Bi\n",
    "\n",
    "100*df['Sexuality'].value_counts() / df.shape[0]"
   ]
  },
  {
   "cell_type": "code",
   "execution_count": 73,
   "metadata": {
    "ExecuteTime": {
     "end_time": "2019-09-12T04:10:04.527347Z",
     "start_time": "2019-09-12T04:10:04.521170Z"
    }
   },
   "outputs": [
    {
     "data": {
      "text/plain": [
       "No     61714\n",
       "Yes      598\n",
       "Name: Trans, dtype: int64"
      ]
     },
     "execution_count": 73,
     "metadata": {},
     "output_type": "execute_result"
    }
   ],
   "source": [
    "# almost 1% trans...\n",
    "df['Trans'].value_counts()"
   ]
  },
  {
   "cell_type": "code",
   "execution_count": 74,
   "metadata": {
    "ExecuteTime": {
     "end_time": "2019-09-12T04:10:08.013687Z",
     "start_time": "2019-09-12T04:10:08.004739Z"
    }
   },
   "outputs": [
    {
     "data": {
      "text/plain": [
       "Bisexual                                           181\n",
       "Gay or Lesbian                                     111\n",
       "Straight / Heterosexual                             75\n",
       "Bisexual;Gay or Lesbian;Straight / Heterosexual     20\n",
       "Bisexual;Gay or Lesbian                             19\n",
       "Gay or Lesbian;Straight / Heterosexual               6\n",
       "Bisexual;Straight / Heterosexual                     6\n",
       "Name: Sexuality, dtype: int64"
      ]
     },
     "execution_count": 74,
     "metadata": {},
     "output_type": "execute_result"
    }
   ],
   "source": [
    "# Looks like the middle 50% of people mostly work 40 hours weeks, but some extreme outliers exist...\n",
    "df.Sexuality[df['Trans'] == 'Yes'].value_counts()"
   ]
  },
  {
   "cell_type": "code",
   "execution_count": 70,
   "metadata": {
    "ExecuteTime": {
     "end_time": "2019-09-12T04:09:42.090828Z",
     "start_time": "2019-09-12T04:09:42.074857Z"
    }
   },
   "outputs": [
    {
     "data": {
      "text/plain": [
       "Bisexual                                            7.754927\n",
       "Bisexual;Gay or Lesbian                            25.000000\n",
       "Bisexual;Gay or Lesbian;Straight / Heterosexual    33.898305\n",
       "Bisexual;Straight / Heterosexual                    1.769912\n",
       "Gay or Lesbian                                      8.624709\n",
       "Gay or Lesbian;Straight / Heterosexual             25.000000\n",
       "Straight / Heterosexual                             0.140988\n",
       "Name: Sexuality, dtype: float64"
      ]
     },
     "execution_count": 70,
     "metadata": {},
     "output_type": "execute_result"
    }
   ],
   "source": [
    "100*df.Sexuality[df['Trans'] == 'Yes'].value_counts() / \\\n",
    "    df.Sexuality.value_counts()"
   ]
  },
  {
   "cell_type": "code",
   "execution_count": 75,
   "metadata": {
    "ExecuteTime": {
     "end_time": "2019-09-12T04:10:48.242547Z",
     "start_time": "2019-09-12T04:10:48.207798Z"
    }
   },
   "outputs": [
    {
     "data": {
      "text/html": [
       "<div>\n",
       "<style scoped>\n",
       "    .dataframe tbody tr th:only-of-type {\n",
       "        vertical-align: middle;\n",
       "    }\n",
       "\n",
       "    .dataframe tbody tr th {\n",
       "        vertical-align: top;\n",
       "    }\n",
       "\n",
       "    .dataframe thead th {\n",
       "        text-align: right;\n",
       "    }\n",
       "</style>\n",
       "<table border=\"1\" class=\"dataframe\">\n",
       "  <thead>\n",
       "    <tr style=\"text-align: right;\">\n",
       "      <th></th>\n",
       "      <th>Trans</th>\n",
       "      <th>notTrans</th>\n",
       "      <th>pctTrans</th>\n",
       "    </tr>\n",
       "  </thead>\n",
       "  <tbody>\n",
       "    <tr>\n",
       "      <th>Straight / Heterosexual</th>\n",
       "      <td>75</td>\n",
       "      <td>52388</td>\n",
       "      <td>0.140988</td>\n",
       "    </tr>\n",
       "    <tr>\n",
       "      <th>Bisexual</th>\n",
       "      <td>181</td>\n",
       "      <td>2060</td>\n",
       "      <td>7.754927</td>\n",
       "    </tr>\n",
       "    <tr>\n",
       "      <th>Gay or Lesbian</th>\n",
       "      <td>111</td>\n",
       "      <td>1154</td>\n",
       "      <td>8.624709</td>\n",
       "    </tr>\n",
       "    <tr>\n",
       "      <th>Bisexual;Straight / Heterosexual</th>\n",
       "      <td>6</td>\n",
       "      <td>324</td>\n",
       "      <td>1.769912</td>\n",
       "    </tr>\n",
       "    <tr>\n",
       "      <th>Bisexual;Gay or Lesbian</th>\n",
       "      <td>19</td>\n",
       "      <td>54</td>\n",
       "      <td>25.000000</td>\n",
       "    </tr>\n",
       "    <tr>\n",
       "      <th>Bisexual;Gay or Lesbian;Straight / Heterosexual</th>\n",
       "      <td>20</td>\n",
       "      <td>26</td>\n",
       "      <td>33.898305</td>\n",
       "    </tr>\n",
       "    <tr>\n",
       "      <th>Gay or Lesbian;Straight / Heterosexual</th>\n",
       "      <td>6</td>\n",
       "      <td>17</td>\n",
       "      <td>25.000000</td>\n",
       "    </tr>\n",
       "  </tbody>\n",
       "</table>\n",
       "</div>"
      ],
      "text/plain": [
       "                                                 Trans  notTrans   pctTrans\n",
       "Straight / Heterosexual                             75     52388   0.140988\n",
       "Bisexual                                           181      2060   7.754927\n",
       "Gay or Lesbian                                     111      1154   8.624709\n",
       "Bisexual;Straight / Heterosexual                     6       324   1.769912\n",
       "Bisexual;Gay or Lesbian                             19        54  25.000000\n",
       "Bisexual;Gay or Lesbian;Straight / Heterosexual     20        26  33.898305\n",
       "Gay or Lesbian;Straight / Heterosexual               6        17  25.000000"
      ]
     },
     "execution_count": 75,
     "metadata": {},
     "output_type": "execute_result"
    }
   ],
   "source": [
    "# Looks like some of the multi-select sexuality identification are also \"trans\"\n",
    "pd.concat([df.Sexuality[df['Trans'] == 'Yes'].value_counts().rename('Trans'),\n",
    "           df.Sexuality[df['Trans'] == 'No'].value_counts().rename('notTrans'),\n",
    "           (100*df.Sexuality[df['Trans'] == 'Yes'].value_counts()/df.Sexuality.value_counts()).rename('pctTrans')],\n",
    "          axis=1).sort_values('notTrans', ascending=False)"
   ]
  },
  {
   "cell_type": "code",
   "execution_count": 76,
   "metadata": {
    "ExecuteTime": {
     "end_time": "2019-09-12T04:10:48.882013Z",
     "start_time": "2019-09-12T04:10:48.856172Z"
    },
    "scrolled": true
   },
   "outputs": [
    {
     "data": {
      "text/html": [
       "<div>\n",
       "<style scoped>\n",
       "    .dataframe tbody tr th:only-of-type {\n",
       "        vertical-align: middle;\n",
       "    }\n",
       "\n",
       "    .dataframe tbody tr th {\n",
       "        vertical-align: top;\n",
       "    }\n",
       "\n",
       "    .dataframe thead th {\n",
       "        text-align: right;\n",
       "    }\n",
       "</style>\n",
       "<table border=\"1\" class=\"dataframe\">\n",
       "  <thead>\n",
       "    <tr style=\"text-align: right;\">\n",
       "      <th></th>\n",
       "      <th>all</th>\n",
       "      <th>DS</th>\n",
       "    </tr>\n",
       "  </thead>\n",
       "  <tbody>\n",
       "    <tr>\n",
       "      <th>United States</th>\n",
       "      <td>24.513163</td>\n",
       "      <td>27.119275</td>\n",
       "    </tr>\n",
       "    <tr>\n",
       "      <th>India</th>\n",
       "      <td>10.135660</td>\n",
       "      <td>8.911506</td>\n",
       "    </tr>\n",
       "    <tr>\n",
       "      <th>Germany</th>\n",
       "      <td>6.461731</td>\n",
       "      <td>6.578131</td>\n",
       "    </tr>\n",
       "    <tr>\n",
       "      <th>United Kingdom</th>\n",
       "      <td>6.784513</td>\n",
       "      <td>5.647263</td>\n",
       "    </tr>\n",
       "    <tr>\n",
       "      <th>Canada</th>\n",
       "      <td>3.812482</td>\n",
       "      <td>3.711059</td>\n",
       "    </tr>\n",
       "    <tr>\n",
       "      <th>Brazil</th>\n",
       "      <td>2.303628</td>\n",
       "      <td>2.594018</td>\n",
       "    </tr>\n",
       "    <tr>\n",
       "      <th>France</th>\n",
       "      <td>2.678177</td>\n",
       "      <td>2.432667</td>\n",
       "    </tr>\n",
       "    <tr>\n",
       "      <th>Australia</th>\n",
       "      <td>2.181824</td>\n",
       "      <td>2.345786</td>\n",
       "    </tr>\n",
       "    <tr>\n",
       "      <th>Netherlands</th>\n",
       "      <td>2.073722</td>\n",
       "      <td>2.184436</td>\n",
       "    </tr>\n",
       "    <tr>\n",
       "      <th>Poland</th>\n",
       "      <td>2.260997</td>\n",
       "      <td>1.911381</td>\n",
       "    </tr>\n",
       "    <tr>\n",
       "      <th>Spain</th>\n",
       "      <td>1.941260</td>\n",
       "      <td>1.861735</td>\n",
       "    </tr>\n",
       "    <tr>\n",
       "      <th>Russian Federation</th>\n",
       "      <td>1.983891</td>\n",
       "      <td>1.836912</td>\n",
       "    </tr>\n",
       "    <tr>\n",
       "      <th>Italy</th>\n",
       "      <td>1.656542</td>\n",
       "      <td>1.601092</td>\n",
       "    </tr>\n",
       "    <tr>\n",
       "      <th>Switzerland</th>\n",
       "      <td>1.064267</td>\n",
       "      <td>1.452153</td>\n",
       "    </tr>\n",
       "    <tr>\n",
       "      <th>Iran</th>\n",
       "      <td>0.867857</td>\n",
       "      <td>1.253568</td>\n",
       "    </tr>\n",
       "    <tr>\n",
       "      <th>Pakistan</th>\n",
       "      <td>0.951598</td>\n",
       "      <td>1.154276</td>\n",
       "    </tr>\n",
       "    <tr>\n",
       "      <th>South Africa</th>\n",
       "      <td>0.732350</td>\n",
       "      <td>1.042572</td>\n",
       "    </tr>\n",
       "    <tr>\n",
       "      <th>Turkey</th>\n",
       "      <td>1.000320</td>\n",
       "      <td>1.042572</td>\n",
       "    </tr>\n",
       "    <tr>\n",
       "      <th>Sweden</th>\n",
       "      <td>1.461654</td>\n",
       "      <td>1.005337</td>\n",
       "    </tr>\n",
       "    <tr>\n",
       "      <th>Mexico</th>\n",
       "      <td>0.752143</td>\n",
       "      <td>0.992925</td>\n",
       "    </tr>\n",
       "    <tr>\n",
       "      <th>Israel</th>\n",
       "      <td>1.172369</td>\n",
       "      <td>0.968102</td>\n",
       "    </tr>\n",
       "    <tr>\n",
       "      <th>Greece</th>\n",
       "      <td>0.546598</td>\n",
       "      <td>0.843987</td>\n",
       "    </tr>\n",
       "    <tr>\n",
       "      <th>Belgium</th>\n",
       "      <td>0.799342</td>\n",
       "      <td>0.831575</td>\n",
       "    </tr>\n",
       "    <tr>\n",
       "      <th>Denmark</th>\n",
       "      <td>0.683628</td>\n",
       "      <td>0.806752</td>\n",
       "    </tr>\n",
       "    <tr>\n",
       "      <th>Ukraine</th>\n",
       "      <td>1.045996</td>\n",
       "      <td>0.769517</td>\n",
       "    </tr>\n",
       "    <tr>\n",
       "      <th>Argentina</th>\n",
       "      <td>0.668402</td>\n",
       "      <td>0.757106</td>\n",
       "    </tr>\n",
       "    <tr>\n",
       "      <th>Austria</th>\n",
       "      <td>0.884605</td>\n",
       "      <td>0.757106</td>\n",
       "    </tr>\n",
       "    <tr>\n",
       "      <th>Czech Republic</th>\n",
       "      <td>0.832839</td>\n",
       "      <td>0.657813</td>\n",
       "    </tr>\n",
       "    <tr>\n",
       "      <th>Bangladesh</th>\n",
       "      <td>0.601410</td>\n",
       "      <td>0.632990</td>\n",
       "    </tr>\n",
       "    <tr>\n",
       "      <th>Bulgaria</th>\n",
       "      <td>0.762801</td>\n",
       "      <td>0.583344</td>\n",
       "    </tr>\n",
       "  </tbody>\n",
       "</table>\n",
       "</div>"
      ],
      "text/plain": [
       "                          all         DS\n",
       "United States       24.513163  27.119275\n",
       "India               10.135660   8.911506\n",
       "Germany              6.461731   6.578131\n",
       "United Kingdom       6.784513   5.647263\n",
       "Canada               3.812482   3.711059\n",
       "Brazil               2.303628   2.594018\n",
       "France               2.678177   2.432667\n",
       "Australia            2.181824   2.345786\n",
       "Netherlands          2.073722   2.184436\n",
       "Poland               2.260997   1.911381\n",
       "Spain                1.941260   1.861735\n",
       "Russian Federation   1.983891   1.836912\n",
       "Italy                1.656542   1.601092\n",
       "Switzerland          1.064267   1.452153\n",
       "Iran                 0.867857   1.253568\n",
       "Pakistan             0.951598   1.154276\n",
       "South Africa         0.732350   1.042572\n",
       "Turkey               1.000320   1.042572\n",
       "Sweden               1.461654   1.005337\n",
       "Mexico               0.752143   0.992925\n",
       "Israel               1.172369   0.968102\n",
       "Greece               0.546598   0.843987\n",
       "Belgium              0.799342   0.831575\n",
       "Denmark              0.683628   0.806752\n",
       "Ukraine              1.045996   0.769517\n",
       "Argentina            0.668402   0.757106\n",
       "Austria              0.884605   0.757106\n",
       "Czech Republic       0.832839   0.657813\n",
       "Bangladesh           0.601410   0.632990\n",
       "Bulgaria             0.762801   0.583344"
      ]
     },
     "execution_count": 76,
     "metadata": {},
     "output_type": "execute_result"
    }
   ],
   "source": [
    "# Looks like some of the multi-select sexuality identification are also \"trans\"\n",
    "pd.concat([(100*df['Country'].value_counts()/df.shape[0]).rename('all'),\n",
    "           (100*df.loc[data_scientist, 'Country'].value_counts()/data_scientist.sum()).rename('DS')],\n",
    "          axis=1, sort=True).sort_values('DS', ascending=False).head(30)"
   ]
  },
  {
   "cell_type": "markdown",
   "metadata": {},
   "source": [
    "----\n",
    "## QUESTION #2:  Are Data Scientist's attitudes different?  \n",
    "\n",
    "**Hypothesis:** More likely to be susceptible to the Dunning-Kruger Effect of overestimating you.  (But lets face it, the entier cohort of developers shows this in spades).\n",
    "\n",
    "                 "
   ]
  },
  {
   "cell_type": "code",
   "execution_count": 102,
   "metadata": {
    "ExecuteTime": {
     "end_time": "2019-09-12T04:21:45.837367Z",
     "start_time": "2019-09-12T04:21:45.462138Z"
    }
   },
   "outputs": [
    {
     "data": {
      "text/html": [
       "<div>\n",
       "<style scoped>\n",
       "    .dataframe tbody tr th:only-of-type {\n",
       "        vertical-align: middle;\n",
       "    }\n",
       "\n",
       "    .dataframe tbody tr th {\n",
       "        vertical-align: top;\n",
       "    }\n",
       "\n",
       "    .dataframe thead th {\n",
       "        text-align: right;\n",
       "    }\n",
       "</style>\n",
       "<table border=\"1\" class=\"dataframe\">\n",
       "  <thead>\n",
       "    <tr style=\"text-align: right;\">\n",
       "      <th></th>\n",
       "      <th>ImpSyn_NotDS</th>\n",
       "      <th>ImpSyn_DS</th>\n",
       "      <th>difference (~DS-DS)</th>\n",
       "    </tr>\n",
       "  </thead>\n",
       "  <tbody>\n",
       "    <tr>\n",
       "      <th>Far below average</th>\n",
       "      <td>1.975046</td>\n",
       "      <td>2.332873</td>\n",
       "      <td>-0.357827</td>\n",
       "    </tr>\n",
       "    <tr>\n",
       "      <th>A little below average</th>\n",
       "      <td>7.224139</td>\n",
       "      <td>5.719303</td>\n",
       "      <td>1.504837</td>\n",
       "    </tr>\n",
       "    <tr>\n",
       "      <th>Average</th>\n",
       "      <td>24.291656</td>\n",
       "      <td>19.402985</td>\n",
       "      <td>4.888671</td>\n",
       "    </tr>\n",
       "    <tr>\n",
       "      <th>A little above average</th>\n",
       "      <td>45.896823</td>\n",
       "      <td>42.430704</td>\n",
       "      <td>3.466120</td>\n",
       "    </tr>\n",
       "    <tr>\n",
       "      <th>Far above average</th>\n",
       "      <td>20.612335</td>\n",
       "      <td>30.114135</td>\n",
       "      <td>-9.501800</td>\n",
       "    </tr>\n",
       "  </tbody>\n",
       "</table>\n",
       "</div>"
      ],
      "text/plain": [
       "                        ImpSyn_NotDS  ImpSyn_DS  difference (~DS-DS)\n",
       "Far below average           1.975046   2.332873            -0.357827\n",
       "A little below average      7.224139   5.719303             1.504837\n",
       "Average                    24.291656  19.402985             4.888671\n",
       "A little above average     45.896823  42.430704             3.466120\n",
       "Far above average          20.612335  30.114135            -9.501800"
      ]
     },
     "execution_count": 102,
     "metadata": {},
     "output_type": "execute_result"
    },
    {
     "data": {
      "image/png": "[encoded data removed]",
      "text/plain": [
       "<Figure size 1080x864 with 2 Axes>"
      ]
     },
     "metadata": {
      "needs_background": "light"
     },
     "output_type": "display_data"
    }
   ],
   "source": [
    "# plot ImpSyn ..\n",
    "title_text = '(ImpSyn) Personal Compentency (pct)'\n",
    "xlimit = {0, 55}\n",
    "xlabel_text = 'percent'\n",
    "ylabel_text = 'ImpSyn'\n",
    "df_plot1 = 100*df.ImpSyn[df['notDS']].value_counts('mean', sort=False)\n",
    "df_plot2 = 100*df.ImpSyn[df['isDS']].value_counts('mean', sort=False)\n",
    "#df_plot2 = df_plot2[df_plot1.index]\n",
    "plot_2col(df_plot1, df_plot2, title_text, xlimit,\n",
    "          xlabel_text, ylabel_text, 'barh')\n",
    "# df_plot1.unstack(-1).plot.barh()\n",
    "# df_plot1\n",
    "pd.concat([df_plot1.rename('ImpSyn_NotDS'),\n",
    "           df_plot2.rename('ImpSyn_DS'),\n",
    "           (df_plot1-df_plot2).rename('difference (~DS-DS)')],\n",
    "          axis=1)"
   ]
  },
  {
   "cell_type": "markdown",
   "metadata": {
    "ExecuteTime": {
     "end_time": "2019-09-12T04:20:57.817524Z",
     "start_time": "2019-09-12T04:20:57.805266Z"
    }
   },
   "source": [
    "Only 20% of data scientists consider themselves to be of \"average\" ability..."
   ]
  },
  {
   "cell_type": "code",
   "execution_count": 103,
   "metadata": {
    "ExecuteTime": {
     "end_time": "2019-09-12T04:22:38.290969Z",
     "start_time": "2019-09-12T04:22:38.288260Z"
    }
   },
   "outputs": [],
   "source": [
    "attitude_cols = ['ImpSyn', 'CareerSat', 'JobSat', 'MgrIdiot', 'MgrMoney', 'MgrWant', 'JobFactors',\n",
    "                 'BlockchainIs', 'BetterLife', 'ITperson', 'OffOn',  'SocialMedia', 'Extraversion',\n",
    "                 'ScreenName', 'OpenSource']"
   ]
  },
  {
   "cell_type": "code",
   "execution_count": 104,
   "metadata": {
    "ExecuteTime": {
     "end_time": "2019-09-12T04:22:38.898192Z",
     "start_time": "2019-09-12T04:22:38.878421Z"
    }
   },
   "outputs": [
    {
     "data": {
      "text/html": [
       "<div>\n",
       "<style scoped>\n",
       "    .dataframe tbody tr th:only-of-type {\n",
       "        vertical-align: middle;\n",
       "    }\n",
       "\n",
       "    .dataframe tbody tr th {\n",
       "        vertical-align: top;\n",
       "    }\n",
       "\n",
       "    .dataframe thead th {\n",
       "        text-align: right;\n",
       "    }\n",
       "</style>\n",
       "<table border=\"1\" class=\"dataframe\">\n",
       "  <thead>\n",
       "    <tr style=\"text-align: right;\">\n",
       "      <th></th>\n",
       "      <th>Extraversion_NotDS</th>\n",
       "      <th>Extraversion_DS</th>\n",
       "      <th>difference (~DS-DS)</th>\n",
       "    </tr>\n",
       "  </thead>\n",
       "  <tbody>\n",
       "    <tr>\n",
       "      <th>In real life (in person)</th>\n",
       "      <td>60.971048</td>\n",
       "      <td>63.022993</td>\n",
       "      <td>-2.051944</td>\n",
       "    </tr>\n",
       "    <tr>\n",
       "      <th>Neither</th>\n",
       "      <td>10.666714</td>\n",
       "      <td>10.566654</td>\n",
       "      <td>0.100060</td>\n",
       "    </tr>\n",
       "    <tr>\n",
       "      <th>Online</th>\n",
       "      <td>28.362238</td>\n",
       "      <td>26.410353</td>\n",
       "      <td>1.951885</td>\n",
       "    </tr>\n",
       "  </tbody>\n",
       "</table>\n",
       "</div>"
      ],
      "text/plain": [
       "                          Extraversion_NotDS  Extraversion_DS  \\\n",
       "In real life (in person)           60.971048        63.022993   \n",
       "Neither                            10.666714        10.566654   \n",
       "Online                             28.362238        26.410353   \n",
       "\n",
       "                          difference (~DS-DS)  \n",
       "In real life (in person)            -2.051944  \n",
       "Neither                              0.100060  \n",
       "Online                               1.951885  "
      ]
     },
     "execution_count": 104,
     "metadata": {},
     "output_type": "execute_result"
    }
   ],
   "source": [
    "# extraversion . better life\n",
    "title_text = '(Extraversion) ---'\n",
    "xlimit = {0, 80}\n",
    "xlabel_text = 'percent'\n",
    "ylabel_text = 'Extraversion'\n",
    "df_plot1 = 100*df.Extraversion[df['notDS']].value_counts('mean', sort=False)\n",
    "df_plot2 = 100*df.Extraversion[df['isDS']].value_counts('mean', sort=False)\n",
    "#df_plot2 = df_plot2[df_plot1.index]\n",
    "#plot_2col(df_plot1, df_plot2, title_text, xlimit, xlabel_text, ylabel_text,'barh')\n",
    "# df_plot1.unstack(-1).plot.barh()\n",
    "# df_plot1\n",
    "\n",
    "pd.concat([df_plot1.rename('Extraversion_NotDS'),\n",
    "           df_plot2.rename('Extraversion_DS'),\n",
    "           (df_plot1-df_plot2).rename('difference (~DS-DS)')],\n",
    "          axis=1)"
   ]
  },
  {
   "cell_type": "code",
   "execution_count": 105,
   "metadata": {
    "ExecuteTime": {
     "end_time": "2019-09-12T04:22:39.843041Z",
     "start_time": "2019-09-12T04:22:39.837192Z"
    }
   },
   "outputs": [
    {
     "ename": "SyntaxError",
     "evalue": "invalid syntax (<ipython-input-105-b0017bd9646f>, line 15)",
     "output_type": "error",
     "traceback": [
      "\u001b[0;36m  File \u001b[0;32m\"<ipython-input-105-b0017bd9646f>\"\u001b[0;36m, line \u001b[0;32m15\u001b[0m\n\u001b[0;31m    (df_plot1-df_plot2).rename('difference (~DS-DS)'],\u001b[0m\n\u001b[0m                                                    ^\u001b[0m\n\u001b[0;31mSyntaxError\u001b[0m\u001b[0;31m:\u001b[0m invalid syntax\n"
     ]
    }
   ],
   "source": [
    "# plot\n",
    "title_text = '(MgrWant ---'\n",
    "xlimit = {0, 55}\n",
    "xlabel_text = 'percent'\n",
    "ylabel_text = 'MgrWant'\n",
    "df_plot1 = 100*df.MgrWant[df['notDS']].value_counts('mean', sort=False)\n",
    "df_plot2 = 100*df.MgrWant[df['isDS']].value_counts('mean', sort=False)\n",
    "# df_plot2 = df_plot2[df_plot1.index]\n",
    "# plot_2col(df_plot1, df_plot2, title_text, xlimit, xlabel_text, ylabel_text,'barh')\n",
    "# df_plot1.unstack(-1).plot.barh()\n",
    "# df_plot1\n",
    "\n",
    "pd.concat([df_plot1.rename('MgrWant_NotDS'),\n",
    "           df_plot2.rename('MgrWant_DS'),\n",
    "          (df_plot1-df_plot2).rename('difference (~DS-DS)'],\n",
    "                 axis=1)"
   ]
  },
  {
   "cell_type": "code",
   "execution_count": 106,
   "metadata": {
    "ExecuteTime": {
     "end_time": "2019-09-12T04:22:40.745152Z",
     "start_time": "2019-09-12T04:22:40.714345Z"
    }
   },
   "outputs": [
    {
     "data": {
      "text/html": [
       "<div>\n",
       "<style scoped>\n",
       "    .dataframe tbody tr th:only-of-type {\n",
       "        vertical-align: middle;\n",
       "    }\n",
       "\n",
       "    .dataframe tbody tr th {\n",
       "        vertical-align: top;\n",
       "    }\n",
       "\n",
       "    .dataframe thead th {\n",
       "        text-align: right;\n",
       "    }\n",
       "</style>\n",
       "<table border=\"1\" class=\"dataframe\">\n",
       "  <thead>\n",
       "    <tr style=\"text-align: right;\">\n",
       "      <th></th>\n",
       "      <th>BlockchainIs_NotDS</th>\n",
       "      <th>BlockchainIs_DS</th>\n",
       "      <th>difference (~DS-DS)</th>\n",
       "    </tr>\n",
       "  </thead>\n",
       "  <tbody>\n",
       "    <tr>\n",
       "      <th>A passing fad</th>\n",
       "      <td>17.727226</td>\n",
       "      <td>15.296880</td>\n",
       "      <td>2.430346</td>\n",
       "    </tr>\n",
       "    <tr>\n",
       "      <th>An irresponsible use of resources</th>\n",
       "      <td>16.180966</td>\n",
       "      <td>15.850386</td>\n",
       "      <td>0.330580</td>\n",
       "    </tr>\n",
       "    <tr>\n",
       "      <th>Useful across many domains and could change many aspects of our lives</th>\n",
       "      <td>27.830141</td>\n",
       "      <td>30.526669</td>\n",
       "      <td>-2.696528</td>\n",
       "    </tr>\n",
       "    <tr>\n",
       "      <th>Useful for decentralized currency (i.e., Bitcoin)</th>\n",
       "      <td>10.813634</td>\n",
       "      <td>10.130829</td>\n",
       "      <td>0.682805</td>\n",
       "    </tr>\n",
       "    <tr>\n",
       "      <th>Useful for immutable record keeping outside of currency</th>\n",
       "      <td>27.448033</td>\n",
       "      <td>28.195236</td>\n",
       "      <td>-0.747203</td>\n",
       "    </tr>\n",
       "  </tbody>\n",
       "</table>\n",
       "</div>"
      ],
      "text/plain": [
       "                                                    BlockchainIs_NotDS  \\\n",
       "A passing fad                                                17.727226   \n",
       "An irresponsible use of resources                            16.180966   \n",
       "Useful across many domains and could change man...           27.830141   \n",
       "Useful for decentralized currency (i.e., Bitcoin)            10.813634   \n",
       "Useful for immutable record keeping outside of ...           27.448033   \n",
       "\n",
       "                                                    BlockchainIs_DS  \\\n",
       "A passing fad                                             15.296880   \n",
       "An irresponsible use of resources                         15.850386   \n",
       "Useful across many domains and could change man...        30.526669   \n",
       "Useful for decentralized currency (i.e., Bitcoin)         10.130829   \n",
       "Useful for immutable record keeping outside of ...        28.195236   \n",
       "\n",
       "                                                    difference (~DS-DS)  \n",
       "A passing fad                                                  2.430346  \n",
       "An irresponsible use of resources                              0.330580  \n",
       "Useful across many domains and could change man...            -2.696528  \n",
       "Useful for decentralized currency (i.e., Bitcoin)              0.682805  \n",
       "Useful for immutable record keeping outside of ...            -0.747203  "
      ]
     },
     "execution_count": 106,
     "metadata": {},
     "output_type": "execute_result"
    }
   ],
   "source": [
    "# plot blockchain versus salary or years experience..?\n",
    "# 'BlockchainIs',\n",
    "\n",
    "title_text = '(BlockchainIs) ---'\n",
    "xlimit = {0, 55}\n",
    "xlabel_text = 'percent'\n",
    "ylabel_text = 'BlockchainIs'\n",
    "df_plot1 = 100*df.BlockchainIs[df['notDS']].value_counts('mean', sort=True)\n",
    "df_plot2 = 100*df.BlockchainIs[df['isDS']].value_counts('mean', sort=True)\n",
    "#df_plot2 = df_plot2[df_plot1.index]\n",
    "#plot_2col(df_plot1, df_plot2, title_text, xlimit, xlabel_text, ylabel_text,'barh')\n",
    "# df_plot1.unstack(-1).plot.barh()\n",
    "# df_plot1\n",
    "\n",
    "pd.concat([df_plot1.rename('BlockchainIs_NotDS'),\n",
    "           df_plot2.rename('BlockchainIs_DS'),\n",
    "           (df_plot1-df_plot2).rename('difference (~DS-DS)')],\n",
    "          axis=1)"
   ]
  },
  {
   "cell_type": "code",
   "execution_count": 107,
   "metadata": {
    "ExecuteTime": {
     "end_time": "2019-09-12T04:22:41.535770Z",
     "start_time": "2019-09-12T04:22:41.516399Z"
    }
   },
   "outputs": [
    {
     "data": {
      "text/html": [
       "<div>\n",
       "<style scoped>\n",
       "    .dataframe tbody tr th:only-of-type {\n",
       "        vertical-align: middle;\n",
       "    }\n",
       "\n",
       "    .dataframe tbody tr th {\n",
       "        vertical-align: top;\n",
       "    }\n",
       "\n",
       "    .dataframe thead th {\n",
       "        text-align: right;\n",
       "    }\n",
       "</style>\n",
       "<table border=\"1\" class=\"dataframe\">\n",
       "  <thead>\n",
       "    <tr style=\"text-align: right;\">\n",
       "      <th></th>\n",
       "      <th>BetterLife_NotDS</th>\n",
       "      <th>BetterLife_DS</th>\n",
       "      <th>difference (~DS-DS)</th>\n",
       "    </tr>\n",
       "  </thead>\n",
       "  <tbody>\n",
       "    <tr>\n",
       "      <th>No</th>\n",
       "      <td>37.268221</td>\n",
       "      <td>36.86085</td>\n",
       "      <td>0.407372</td>\n",
       "    </tr>\n",
       "    <tr>\n",
       "      <th>Yes</th>\n",
       "      <td>62.731779</td>\n",
       "      <td>63.13915</td>\n",
       "      <td>-0.407372</td>\n",
       "    </tr>\n",
       "  </tbody>\n",
       "</table>\n",
       "</div>"
      ],
      "text/plain": [
       "     BetterLife_NotDS  BetterLife_DS  difference (~DS-DS)\n",
       "No          37.268221       36.86085             0.407372\n",
       "Yes         62.731779       63.13915            -0.407372"
      ]
     },
     "execution_count": 107,
     "metadata": {},
     "output_type": "execute_result"
    }
   ],
   "source": [
    "#'BlockchainIs', 'BetterLife',   'ITperson', 'SocialMedia',  'ScreenName',  'OpenSource'\n",
    "\n",
    "title_text = '(BetterLife) ---'\n",
    "xlimit = {0, 55}\n",
    "xlabel_text = 'percent'\n",
    "ylabel_text = 'BetterLife'\n",
    "df_plot1 = 100*df.BetterLife[df['notDS']].value_counts('mean', sort=False)\n",
    "df_plot2 = 100*df.BetterLife[df['isDS']].value_counts('mean', sort=False)\n",
    "#df_plot2 = df_plot2[df_plot1.index]\n",
    "#plot_2col(df_plot1, df_plot2, title_text, xlimit, xlabel_text, ylabel_text,'barh')\n",
    "# df_plot1.unstack(-1).plot.barh()\n",
    "# df_plot1\n",
    "\n",
    "pd.concat([df_plot1.rename('BetterLife_NotDS'),\n",
    "           df_plot2.rename('BetterLife_DS'),\n",
    "           (df_plot1-df_plot2).rename('difference (~DS-DS)')],\n",
    "          axis=1)"
   ]
  },
  {
   "cell_type": "code",
   "execution_count": 108,
   "metadata": {
    "ExecuteTime": {
     "end_time": "2019-09-12T04:22:42.819010Z",
     "start_time": "2019-09-12T04:22:42.311679Z"
    }
   },
   "outputs": [
    {
     "data": {
      "text/html": [
       "<div>\n",
       "<style scoped>\n",
       "    .dataframe tbody tr th:only-of-type {\n",
       "        vertical-align: middle;\n",
       "    }\n",
       "\n",
       "    .dataframe tbody tr th {\n",
       "        vertical-align: top;\n",
       "    }\n",
       "\n",
       "    .dataframe thead th {\n",
       "        text-align: right;\n",
       "    }\n",
       "</style>\n",
       "<table border=\"1\" class=\"dataframe\">\n",
       "  <thead>\n",
       "    <tr style=\"text-align: right;\">\n",
       "      <th></th>\n",
       "      <th>SocialMedia_NotDS</th>\n",
       "      <th>SocialMedia_DS</th>\n",
       "      <th>difference (~DS-DS)</th>\n",
       "    </tr>\n",
       "  </thead>\n",
       "  <tbody>\n",
       "    <tr>\n",
       "      <th>Hello</th>\n",
       "      <td>0.012700</td>\n",
       "      <td>0.013029</td>\n",
       "      <td>-0.000329</td>\n",
       "    </tr>\n",
       "    <tr>\n",
       "      <th>Youku Tudou 优酷</th>\n",
       "      <td>0.021771</td>\n",
       "      <td>0.013029</td>\n",
       "      <td>0.008742</td>\n",
       "    </tr>\n",
       "    <tr>\n",
       "      <th>Weibo 新浪微博</th>\n",
       "      <td>0.059872</td>\n",
       "      <td>0.052117</td>\n",
       "      <td>0.007754</td>\n",
       "    </tr>\n",
       "    <tr>\n",
       "      <th>Snapchat</th>\n",
       "      <td>0.502558</td>\n",
       "      <td>0.599349</td>\n",
       "      <td>-0.096790</td>\n",
       "    </tr>\n",
       "    <tr>\n",
       "      <th>VK ВКонта́кте</th>\n",
       "      <td>0.691244</td>\n",
       "      <td>0.599349</td>\n",
       "      <td>0.091896</td>\n",
       "    </tr>\n",
       "    <tr>\n",
       "      <th>WeChat 微信</th>\n",
       "      <td>0.776516</td>\n",
       "      <td>0.521173</td>\n",
       "      <td>0.255343</td>\n",
       "    </tr>\n",
       "    <tr>\n",
       "      <th>LinkedIn</th>\n",
       "      <td>5.172539</td>\n",
       "      <td>7.843648</td>\n",
       "      <td>-2.671109</td>\n",
       "    </tr>\n",
       "    <tr>\n",
       "      <th>I don't use social media</th>\n",
       "      <td>6.248412</td>\n",
       "      <td>8.000000</td>\n",
       "      <td>-1.751588</td>\n",
       "    </tr>\n",
       "    <tr>\n",
       "      <th>Instagram</th>\n",
       "      <td>7.581915</td>\n",
       "      <td>6.384365</td>\n",
       "      <td>1.197550</td>\n",
       "    </tr>\n",
       "    <tr>\n",
       "      <th>Twitter</th>\n",
       "      <td>14.614101</td>\n",
       "      <td>13.667752</td>\n",
       "      <td>0.946348</td>\n",
       "    </tr>\n",
       "    <tr>\n",
       "      <th>YouTube</th>\n",
       "      <td>14.761058</td>\n",
       "      <td>14.162866</td>\n",
       "      <td>0.598192</td>\n",
       "    </tr>\n",
       "    <tr>\n",
       "      <th>WhatsApp</th>\n",
       "      <td>15.653688</td>\n",
       "      <td>16.690554</td>\n",
       "      <td>-1.036865</td>\n",
       "    </tr>\n",
       "    <tr>\n",
       "      <th>Facebook</th>\n",
       "      <td>16.032875</td>\n",
       "      <td>16.026059</td>\n",
       "      <td>0.006816</td>\n",
       "    </tr>\n",
       "    <tr>\n",
       "      <th>Reddit</th>\n",
       "      <td>17.870750</td>\n",
       "      <td>15.426710</td>\n",
       "      <td>2.444040</td>\n",
       "    </tr>\n",
       "  </tbody>\n",
       "</table>\n",
       "</div>"
      ],
      "text/plain": [
       "                          SocialMedia_NotDS  SocialMedia_DS  \\\n",
       "Hello                              0.012700        0.013029   \n",
       "Youku Tudou 优酷                     0.021771        0.013029   \n",
       "Weibo 新浪微博                         0.059872        0.052117   \n",
       "Snapchat                           0.502558        0.599349   \n",
       "VK ВКонта́кте                      0.691244        0.599349   \n",
       "WeChat 微信                          0.776516        0.521173   \n",
       "LinkedIn                           5.172539        7.843648   \n",
       "I don't use social media           6.248412        8.000000   \n",
       "Instagram                          7.581915        6.384365   \n",
       "Twitter                           14.614101       13.667752   \n",
       "YouTube                           14.761058       14.162866   \n",
       "WhatsApp                          15.653688       16.690554   \n",
       "Facebook                          16.032875       16.026059   \n",
       "Reddit                            17.870750       15.426710   \n",
       "\n",
       "                          difference (~DS-DS)  \n",
       "Hello                               -0.000329  \n",
       "Youku Tudou 优酷                       0.008742  \n",
       "Weibo 新浪微博                           0.007754  \n",
       "Snapchat                            -0.096790  \n",
       "VK ВКонта́кте                        0.091896  \n",
       "WeChat 微信                            0.255343  \n",
       "LinkedIn                            -2.671109  \n",
       "I don't use social media            -1.751588  \n",
       "Instagram                            1.197550  \n",
       "Twitter                              0.946348  \n",
       "YouTube                              0.598192  \n",
       "WhatsApp                            -1.036865  \n",
       "Facebook                             0.006816  \n",
       "Reddit                               2.444040  "
      ]
     },
     "execution_count": 108,
     "metadata": {},
     "output_type": "execute_result"
    },
    {
     "name": "stderr",
     "output_type": "stream",
     "text": [
      "/Users/ergonyc/anaconda3/lib/python3.7/site-packages/matplotlib/backends/backend_agg.py:211: RuntimeWarning: Glyph 20248 missing from current font.\n",
      "  font.set_text(s, 0.0, flags=flags)\n",
      "/Users/ergonyc/anaconda3/lib/python3.7/site-packages/matplotlib/backends/backend_agg.py:211: RuntimeWarning: Glyph 37239 missing from current font.\n",
      "  font.set_text(s, 0.0, flags=flags)\n",
      "/Users/ergonyc/anaconda3/lib/python3.7/site-packages/matplotlib/backends/backend_agg.py:211: RuntimeWarning: Glyph 26032 missing from current font.\n",
      "  font.set_text(s, 0.0, flags=flags)\n",
      "/Users/ergonyc/anaconda3/lib/python3.7/site-packages/matplotlib/backends/backend_agg.py:211: RuntimeWarning: Glyph 28010 missing from current font.\n",
      "  font.set_text(s, 0.0, flags=flags)\n",
      "/Users/ergonyc/anaconda3/lib/python3.7/site-packages/matplotlib/backends/backend_agg.py:211: RuntimeWarning: Glyph 24494 missing from current font.\n",
      "  font.set_text(s, 0.0, flags=flags)\n",
      "/Users/ergonyc/anaconda3/lib/python3.7/site-packages/matplotlib/backends/backend_agg.py:211: RuntimeWarning: Glyph 21338 missing from current font.\n",
      "  font.set_text(s, 0.0, flags=flags)\n",
      "/Users/ergonyc/anaconda3/lib/python3.7/site-packages/matplotlib/backends/backend_agg.py:211: RuntimeWarning: Glyph 20449 missing from current font.\n",
      "  font.set_text(s, 0.0, flags=flags)\n",
      "/Users/ergonyc/anaconda3/lib/python3.7/site-packages/matplotlib/backends/backend_agg.py:180: RuntimeWarning: Glyph 20248 missing from current font.\n",
      "  font.set_text(s, 0, flags=flags)\n",
      "/Users/ergonyc/anaconda3/lib/python3.7/site-packages/matplotlib/backends/backend_agg.py:180: RuntimeWarning: Glyph 37239 missing from current font.\n",
      "  font.set_text(s, 0, flags=flags)\n",
      "/Users/ergonyc/anaconda3/lib/python3.7/site-packages/matplotlib/backends/backend_agg.py:180: RuntimeWarning: Glyph 26032 missing from current font.\n",
      "  font.set_text(s, 0, flags=flags)\n",
      "/Users/ergonyc/anaconda3/lib/python3.7/site-packages/matplotlib/backends/backend_agg.py:180: RuntimeWarning: Glyph 28010 missing from current font.\n",
      "  font.set_text(s, 0, flags=flags)\n",
      "/Users/ergonyc/anaconda3/lib/python3.7/site-packages/matplotlib/backends/backend_agg.py:180: RuntimeWarning: Glyph 24494 missing from current font.\n",
      "  font.set_text(s, 0, flags=flags)\n",
      "/Users/ergonyc/anaconda3/lib/python3.7/site-packages/matplotlib/backends/backend_agg.py:180: RuntimeWarning: Glyph 21338 missing from current font.\n",
      "  font.set_text(s, 0, flags=flags)\n",
      "/Users/ergonyc/anaconda3/lib/python3.7/site-packages/matplotlib/backends/backend_agg.py:180: RuntimeWarning: Glyph 20449 missing from current font.\n",
      "  font.set_text(s, 0, flags=flags)\n"
     ]
    },
    {
     "data": {
      "image/png": "[encoded data removed]",
      "text/plain": [
       "<Figure size 1080x864 with 2 Axes>"
      ]
     },
     "metadata": {
      "needs_background": "light"
     },
     "output_type": "display_data"
    }
   ],
   "source": [
    "#'ITperson', 'SocialMedia',  'ScreenName',  'OpenSource'\n",
    "# more likely to be on LinkedIN . correlats with \"MANAGER?\"\n",
    "\n",
    "title_text = '(SocialMedia) ---'\n",
    "xlimit = {0, 25}\n",
    "xlabel_text = 'percent'\n",
    "ylabel_text = 'SocialMedia'\n",
    "df_plot1 = 100*df.SocialMedia[df['notDS']\n",
    "                              ].value_counts('mean').sort_values(ascending=True)\n",
    "df_plot2 = 100*df.SocialMedia[df['isDS']].value_counts('mean')\n",
    "df_plot2 = df_plot2[df_plot1.index]\n",
    "plot_2col(df_plot1, df_plot2, title_text, xlimit,\n",
    "          xlabel_text, ylabel_text, 'barh')\n",
    "# df_plot1.unstack(-1).plot.barh()\n",
    "# df_plot1\n",
    "\n",
    "pd.concat([df_plot1.rename('SocialMedia_NotDS'),\n",
    "           df_plot2.rename('SocialMedia_DS'),\n",
    "           (df_plot1-df_plot2).rename('difference (~DS-DS)')],\n",
    "          axis=1)"
   ]
  },
  {
   "cell_type": "code",
   "execution_count": 109,
   "metadata": {
    "ExecuteTime": {
     "end_time": "2019-09-12T04:22:43.087371Z",
     "start_time": "2019-09-12T04:22:43.067137Z"
    }
   },
   "outputs": [
    {
     "data": {
      "text/html": [
       "<div>\n",
       "<style scoped>\n",
       "    .dataframe tbody tr th:only-of-type {\n",
       "        vertical-align: middle;\n",
       "    }\n",
       "\n",
       "    .dataframe tbody tr th {\n",
       "        vertical-align: top;\n",
       "    }\n",
       "\n",
       "    .dataframe thead th {\n",
       "        text-align: right;\n",
       "    }\n",
       "</style>\n",
       "<table border=\"1\" class=\"dataframe\">\n",
       "  <thead>\n",
       "    <tr style=\"text-align: right;\">\n",
       "      <th></th>\n",
       "      <th>ScreenName_NotDS</th>\n",
       "      <th>ScreenName_DS</th>\n",
       "      <th>difference (~DS-DS)</th>\n",
       "    </tr>\n",
       "  </thead>\n",
       "  <tbody>\n",
       "    <tr>\n",
       "      <th>Handle</th>\n",
       "      <td>4.977341</td>\n",
       "      <td>5.121918</td>\n",
       "      <td>-0.144577</td>\n",
       "    </tr>\n",
       "    <tr>\n",
       "      <th>Login</th>\n",
       "      <td>10.834381</td>\n",
       "      <td>11.156518</td>\n",
       "      <td>-0.322138</td>\n",
       "    </tr>\n",
       "    <tr>\n",
       "      <th>Screen Name</th>\n",
       "      <td>2.422027</td>\n",
       "      <td>2.506471</td>\n",
       "      <td>-0.084444</td>\n",
       "    </tr>\n",
       "    <tr>\n",
       "      <th>UserID</th>\n",
       "      <td>7.665943</td>\n",
       "      <td>10.025882</td>\n",
       "      <td>-2.359939</td>\n",
       "    </tr>\n",
       "    <tr>\n",
       "      <th>Username</th>\n",
       "      <td>74.100308</td>\n",
       "      <td>71.189211</td>\n",
       "      <td>2.911097</td>\n",
       "    </tr>\n",
       "  </tbody>\n",
       "</table>\n",
       "</div>"
      ],
      "text/plain": [
       "             ScreenName_NotDS  ScreenName_DS  difference (~DS-DS)\n",
       "Handle               4.977341       5.121918            -0.144577\n",
       "Login               10.834381      11.156518            -0.322138\n",
       "Screen Name          2.422027       2.506471            -0.084444\n",
       "UserID               7.665943      10.025882            -2.359939\n",
       "Username            74.100308      71.189211             2.911097"
      ]
     },
     "execution_count": 109,
     "metadata": {},
     "output_type": "execute_result"
    }
   ],
   "source": [
    "# ''ScreenName',  'OpenSource'\n",
    "\n",
    "title_text = '(ScreenName) ---'\n",
    "xlimit = {0, 55}\n",
    "xlabel_text = 'percent'\n",
    "ylabel_text = 'ScreenName'\n",
    "df_plot1 = 100*df.ScreenName[df['notDS']].value_counts('mean', sort=False)\n",
    "df_plot2 = 100*df.ScreenName[df['isDS']].value_counts('mean', sort=False)\n",
    "#df_plot2 = df_plot2[df_plot1.index]\n",
    "#plot_2col(df_plot1, df_plot2, title_text, xlimit, xlabel_text, ylabel_text,'barh')\n",
    "# df_plot1.unstack(-1).plot.barh()\n",
    "# df_plot1\n",
    "\n",
    "pd.concat([df_plot1.rename('ScreenName_NotDS'),\n",
    "           df_plot2.rename('ScreenName_DS'),\n",
    "           (df_plot1-df_plot2).rename('difference (~DS-DS)')],\n",
    "          axis=1)"
   ]
  },
  {
   "cell_type": "code",
   "execution_count": 110,
   "metadata": {
    "ExecuteTime": {
     "end_time": "2019-09-12T04:22:57.166704Z",
     "start_time": "2019-09-12T04:22:57.145778Z"
    }
   },
   "outputs": [
    {
     "data": {
      "text/html": [
       "<div>\n",
       "<style scoped>\n",
       "    .dataframe tbody tr th:only-of-type {\n",
       "        vertical-align: middle;\n",
       "    }\n",
       "\n",
       "    .dataframe tbody tr th {\n",
       "        vertical-align: top;\n",
       "    }\n",
       "\n",
       "    .dataframe thead th {\n",
       "        text-align: right;\n",
       "    }\n",
       "</style>\n",
       "<table border=\"1\" class=\"dataframe\">\n",
       "  <thead>\n",
       "    <tr style=\"text-align: right;\">\n",
       "      <th></th>\n",
       "      <th>OpenSource_NotDS</th>\n",
       "      <th>OpenSource_DS</th>\n",
       "      <th>difference (~DS-DS)</th>\n",
       "    </tr>\n",
       "  </thead>\n",
       "  <tbody>\n",
       "    <tr>\n",
       "      <th>OSS is, on average, of HIGHER quality than proprietary / closed source software</th>\n",
       "      <td>42.048489</td>\n",
       "      <td>43.780657</td>\n",
       "      <td>-1.732168</td>\n",
       "    </tr>\n",
       "    <tr>\n",
       "      <th>The quality of OSS and closed source software is about the same</th>\n",
       "      <td>48.517215</td>\n",
       "      <td>45.918752</td>\n",
       "      <td>2.598463</td>\n",
       "    </tr>\n",
       "    <tr>\n",
       "      <th>OSS is, on average, of LOWER quality than proprietary / closed source software</th>\n",
       "      <td>9.434296</td>\n",
       "      <td>10.300591</td>\n",
       "      <td>-0.866295</td>\n",
       "    </tr>\n",
       "  </tbody>\n",
       "</table>\n",
       "</div>"
      ],
      "text/plain": [
       "                                                    OpenSource_NotDS  \\\n",
       "OSS is, on average, of HIGHER quality than prop...         42.048489   \n",
       "The quality of OSS and closed source software i...         48.517215   \n",
       "OSS is, on average, of LOWER quality than propr...          9.434296   \n",
       "\n",
       "                                                    OpenSource_DS  \\\n",
       "OSS is, on average, of HIGHER quality than prop...      43.780657   \n",
       "The quality of OSS and closed source software i...      45.918752   \n",
       "OSS is, on average, of LOWER quality than propr...      10.300591   \n",
       "\n",
       "                                                    difference (~DS-DS)  \n",
       "OSS is, on average, of HIGHER quality than prop...            -1.732168  \n",
       "The quality of OSS and closed source software i...             2.598463  \n",
       "OSS is, on average, of LOWER quality than propr...            -0.866295  "
      ]
     },
     "execution_count": 110,
     "metadata": {},
     "output_type": "execute_result"
    }
   ],
   "source": [
    "# ''ScreenName',  'OpenSource'\n",
    "\n",
    "title_text = '(OpenSource) ---'\n",
    "xlimit = {0, 55}\n",
    "xlabel_text = 'percent'\n",
    "ylabel_text = 'OpenSource'\n",
    "df_plot1 = 100*df.OpenSource[df['notDS']].value_counts('mean', sort=False)\n",
    "df_plot2 = 100*df.OpenSource[df['isDS']].value_counts('mean', sort=False)\n",
    "#df_plot2 = df_plot2[df_plot1.index]\n",
    "#plot_2col(df_plot1, df_plot2, title_text, xlimit, xlabel_text, ylabel_text,'barh')\n",
    "# df_plot1.unstack(-1).plot.barh()\n",
    "# df_plot1\n",
    "\n",
    "pd.concat([df_plot1.rename('OpenSource_NotDS'),\n",
    "           df_plot2.rename('OpenSource_DS'),\n",
    "           (df_plot1-df_plot2).rename('difference (~DS-DS)')],\n",
    "          axis=1)"
   ]
  },
  {
   "cell_type": "code",
   "execution_count": null,
   "metadata": {},
   "outputs": [],
   "source": []
  },
  {
   "cell_type": "markdown",
   "metadata": {},
   "source": [
    "RESULTS:       \n",
    "1.0.1.\n",
    "3. How much coding experience do data scientists have compared to non-data scientists?\n",
    "HISTOGRAMS\n",
    "> - years experience\n",
    "> - age first code"
   ]
  },
  {
   "cell_type": "markdown",
   "metadata": {},
   "source": [
    "barh\n",
    "\n",
    "5. Life shit.  attitudes\n",
    "> - impsyn\n",
    "> manager competence (?)"
   ]
  },
  {
   "cell_type": "markdown",
   "metadata": {},
   "source": [
    "----\n",
    "## QUESTION #3:  Are Data Scientist's skills & work situations different?  \n",
    "\n",
    "**Hypothesis:** More likely to be ...\n"
   ]
  },
  {
   "cell_type": "markdown",
   "metadata": {},
   "source": [
    "RESULTS:       \n",
    "1.0.1.\n",
    "\n",
    "1. How does the demographic profile of data scientists differ from that of non-data scientists?\n",
    "> - male/female ratio\n",
    "> - incident of out \"other\"/trans\n",
    "\n",
    "> - dependents\n",
    "> - US vs other\n",
    ">"
   ]
  },
  {
   "cell_type": "markdown",
   "metadata": {},
   "source": [
    "RESULTS:       \n",
    "1.0.1.\n",
    "\n",
    "2. What programming languages do data scientists favour and how do they differ from those used by non-data scientists?\n",
    "> - histograms"
   ]
  },
  {
   "cell_type": "markdown",
   "metadata": {},
   "source": [
    "RESULTS:       \n",
    "1.0.1.\n",
    "4. Are data scientists more satisfied with their jobs/careers than non-data scientists?\n",
    "> - salary\n",
    "> - feelings of managers"
   ]
  },
  {
   "cell_type": "code",
   "execution_count": null,
   "metadata": {},
   "outputs": [],
   "source": [
    "work_cols = ['ConvertedComp',  'WorkWeekHrs' 'Employment', 'OrgSize']  # ,\n",
    "             # 'JobSeek', 'LastHireDate', 'LastInt', 'ResumeUpdate',\n",
    "             # 'CompTotal', 'CurrencySymbol','CurrencyDesc', 'CompTotal', 'CompFreq',\n",
    "             # 'WorkPlan', 'WorkChallenge', 'WorkRemote', 'WorkLoc', 'CodeRev', 'CodeRevHrs', 'UnitTests',\n",
    "             # 'PurchaseHow', 'PurchaseWhat']\n",
    "\n",
    "# keep all of these\n",
    "skills_cols = ['YearsCode', 'Age1stCode', 'YearsCodePro', 'OpenSourcer', 'DevType',  'LanguageWorkedWith',\n",
    "               'LanguageDesireNextYear', 'DevEnviron', 'OpSys', 'Containers', 'BlockchainOrg', 'FizzBuzz',\n",
    "               'DatabaseWorkedWith', 'DatabaseDesireNextYear', 'PlatformWorkedWith',   'PlatformDesireNextYear',"
   ]
  },
  {
   "cell_type": "code",
   "execution_count": null,
   "metadata": {},
   "outputs": [],
   "source": []
  },
  {
   "cell_type": "markdown",
   "metadata": {},
   "source": [
    "----\n",
    "## QUESTION #3:  Can we predict if a developer professional developer is a Data Scientist?\n",
    "\n",
    "**Hypothesis:** Encoded in the responses is a graph which tells us if a coder is a data scientist. \n",
    "\n",
    "Hopefully the signature will be strong enough to be predictive in valuable and useful situations.\n",
    "\n",
    "\n"
   ]
  },
  {
   "cell_type": "markdown",
   "metadata": {},
   "source": [
    "### Column Cleanup\n",
    "- Drop columns which we don't want to anlayze\n",
    "- re-order/group columns (in case we want to select with slices?)\n",
    "- Remove all leading and trailing spaces (not nescessary)\n",
    "- Rename the columns for consistency (not nescessary)"
   ]
  },
  {
   "cell_type": "code",
   "execution_count": 111,
   "metadata": {
    "ExecuteTime": {
     "end_time": "2019-09-12T04:23:26.659351Z",
     "start_time": "2019-09-12T04:23:26.656479Z"
    }
   },
   "outputs": [],
   "source": [
    "new_columns = ['Education', 'Major', 'nYearsCode', 'nAgeCode', 'nAge'\n",
    "               'nYearsPro', 'WorkWeekH', 'Gen',\n",
    "               'isDS', 'notDS', 'isDev', 'DSonly', 'DSandDev', 'otherDev']"
   ]
  },
  {
   "cell_type": "code",
   "execution_count": 112,
   "metadata": {
    "ExecuteTime": {
     "end_time": "2019-09-12T04:23:27.051149Z",
     "start_time": "2019-09-12T04:23:27.047510Z"
    }
   },
   "outputs": [
    {
     "name": "stdout",
     "output_type": "stream",
     "text": [
      "The dataset now contains 65679 rows and 68 columns.\n"
     ]
    }
   ],
   "source": [
    "# SKIP ALL STACKOVERFLOW PARTICULARS\n",
    "#'JobSeek','LastHireDate', 'LastInt',\n",
    "#'WorkPlan', 'WorkChallenge',\n",
    "#' WorkRemote', 'WorkLoc',\n",
    "#'CodeRev', 'CodeRevHrs', 'UnitTests',\n",
    "#'PurchaseHow', 'PurchaseWhat',\n",
    "# Skip these\n",
    "# 'WebFrameWorkedWith','WebFrameDesireNextYear',\n",
    "# Print shape of dataset\n",
    "print(\n",
    "    f'The dataset now contains {df.shape[0]} rows and {df.shape[1]} columns.')"
   ]
  },
  {
   "cell_type": "code",
   "execution_count": 113,
   "metadata": {
    "ExecuteTime": {
     "end_time": "2019-09-12T04:23:27.486219Z",
     "start_time": "2019-09-12T04:23:27.483563Z"
    }
   },
   "outputs": [],
   "source": [
    "isDS = df['isDS']\n",
    "isDev = df['notDS']"
   ]
  },
  {
   "cell_type": "markdown",
   "metadata": {},
   "source": [
    "---\n",
    "## Split Multi-Selection Fields \n",
    "\n",
    "For the fields where multiple selections were possible (e.g.  `JobFactors`,`DevEnviron`, and `LanguageWorkedWith`), split the strings containing the multiple selections into a list of selections and then concatenate these lists into a single list (dropping any missing values in the process). \n",
    "\n",
    "We may also want to simplify these fields to reduce the length of category labels and to group similar categories into a single category apon further analysis.\n",
    "This splitting will be the basis for Language, DB, Tech \"FEELINGS\" analysis as well.\n"
   ]
  },
  {
   "cell_type": "code",
   "execution_count": 114,
   "metadata": {
    "ExecuteTime": {
     "end_time": "2019-09-12T04:23:28.440584Z",
     "start_time": "2019-09-12T04:23:28.431777Z"
    }
   },
   "outputs": [],
   "source": [
    "# We have to split the LanguageWorkedWith to get a proper picture\n",
    "#languages = survey[survey['LanguageWorkedWith'].notnull()]\n",
    "\n",
    "\n",
    "def split_multiselect(df, col):\n",
    "    \"\"\"Create a new dataframe that splits the values of multi-selection column col into individual selections and \n",
    "    places each selection into a boolean column. This new dataframe can be merged into the original dataframe by \n",
    "    Respondent (index)value.\n",
    "\n",
    "    Args:\n",
    "    df: dataframe. Dataframe containing the multi-selection field col.\n",
    "    col:  column name\n",
    "\n",
    "    Returns:\n",
    "    out_df: dataframe. New dataframe giving split values of col.\n",
    "        \"\"\"\n",
    "\n",
    "    unique_selects = {}\n",
    "\n",
    "    select_na = df[col].isnull()\n",
    "    # split the languages on ;\n",
    "    # for language_set in survey['LanguageWorkedWith'].dropna().apply(lambda row: str(row).split(';')) :\n",
    "    for select_set in df[col].apply(lambda row: str(row).split(';')):\n",
    "        for select in select_set:\n",
    "            if select not in unique_selects.keys():\n",
    "                unique_selects[select] = 1\n",
    "            else:\n",
    "                unique_selects[select] += 1\n",
    "\n",
    "    un_sel = pd.Series(unique_selects).sort_values(ascending=False).copy()\n",
    "    #un_sel.index == 'nan'\n",
    "    out_df = pd.DataFrame()  # columns = unique_selects)\n",
    "    new_cols = []\n",
    "    for sel in un_sel.index:\n",
    "        col_name = col[:25] + '_' + sel.replace(' ', '_')\n",
    "        new_cols.append(col_name)\n",
    "        if (sel == 'nan'):\n",
    "            out_df.loc[:, col_name] = select_na\n",
    "        else:\n",
    "            out_df.loc[:, col_name] = ~ select_na  # df[col]\n",
    "            selected = df[col].dropna().str.split(';').copy()  # .tolist()\n",
    "            # need to strip the nulls\n",
    "            out_df.loc[~select_na, col_name] = selected.apply(\n",
    "                lambda x: sel in x)\n",
    "            out_df.loc[select_na, col_name] = np.nan\n",
    "\n",
    "    return out_df, new_cols"
   ]
  },
  {
   "cell_type": "markdown",
   "metadata": {},
   "source": [
    "### JobFactor & WorkChallenges \n",
    "\n",
    "`JobFactors`,`WorkChallenge`\n"
   ]
  },
  {
   "cell_type": "code",
   "execution_count": 115,
   "metadata": {
    "ExecuteTime": {
     "end_time": "2019-09-12T04:23:31.339236Z",
     "start_time": "2019-09-12T04:23:29.355156Z"
    }
   },
   "outputs": [
    {
     "ename": "KeyError",
     "evalue": "'WorkChallenge'",
     "output_type": "error",
     "traceback": [
      "\u001b[0;31m---------------------------------------------------------------------------\u001b[0m",
      "\u001b[0;31mKeyError\u001b[0m                                  Traceback (most recent call last)",
      "\u001b[0;32m~/anaconda3/lib/python3.7/site-packages/pandas/core/indexes/base.py\u001b[0m in \u001b[0;36mget_loc\u001b[0;34m(self, key, method, tolerance)\u001b[0m\n\u001b[1;32m   2656\u001b[0m             \u001b[0;32mtry\u001b[0m\u001b[0;34m:\u001b[0m\u001b[0;34m\u001b[0m\u001b[0;34m\u001b[0m\u001b[0m\n\u001b[0;32m-> 2657\u001b[0;31m                 \u001b[0;32mreturn\u001b[0m \u001b[0mself\u001b[0m\u001b[0;34m.\u001b[0m\u001b[0m_engine\u001b[0m\u001b[0;34m.\u001b[0m\u001b[0mget_loc\u001b[0m\u001b[0;34m(\u001b[0m\u001b[0mkey\u001b[0m\u001b[0;34m)\u001b[0m\u001b[0;34m\u001b[0m\u001b[0;34m\u001b[0m\u001b[0m\n\u001b[0m\u001b[1;32m   2658\u001b[0m             \u001b[0;32mexcept\u001b[0m \u001b[0mKeyError\u001b[0m\u001b[0;34m:\u001b[0m\u001b[0;34m\u001b[0m\u001b[0;34m\u001b[0m\u001b[0m\n",
      "\u001b[0;32mpandas/_libs/index.pyx\u001b[0m in \u001b[0;36mpandas._libs.index.IndexEngine.get_loc\u001b[0;34m()\u001b[0m\n",
      "\u001b[0;32mpandas/_libs/index.pyx\u001b[0m in \u001b[0;36mpandas._libs.index.IndexEngine.get_loc\u001b[0;34m()\u001b[0m\n",
      "\u001b[0;32mpandas/_libs/hashtable_class_helper.pxi\u001b[0m in \u001b[0;36mpandas._libs.hashtable.PyObjectHashTable.get_item\u001b[0;34m()\u001b[0m\n",
      "\u001b[0;32mpandas/_libs/hashtable_class_helper.pxi\u001b[0m in \u001b[0;36mpandas._libs.hashtable.PyObjectHashTable.get_item\u001b[0;34m()\u001b[0m\n",
      "\u001b[0;31mKeyError\u001b[0m: 'WorkChallenge'",
      "\nDuring handling of the above exception, another exception occurred:\n",
      "\u001b[0;31mKeyError\u001b[0m                                  Traceback (most recent call last)",
      "\u001b[0;32m<ipython-input-115-cee3a489c20f>\u001b[0m in \u001b[0;36m<module>\u001b[0;34m\u001b[0m\n\u001b[1;32m      1\u001b[0m \u001b[0mjobfact\u001b[0m\u001b[0;34m,\u001b[0m \u001b[0mjobfact_cols\u001b[0m \u001b[0;34m=\u001b[0m \u001b[0msplit_multiselect\u001b[0m\u001b[0;34m(\u001b[0m\u001b[0mdf\u001b[0m\u001b[0;34m,\u001b[0m \u001b[0;34m'JobFactors'\u001b[0m\u001b[0;34m)\u001b[0m\u001b[0;34m\u001b[0m\u001b[0;34m\u001b[0m\u001b[0m\n\u001b[0;32m----> 2\u001b[0;31m \u001b[0mjobchal\u001b[0m\u001b[0;34m,\u001b[0m \u001b[0mjobchal_cols\u001b[0m \u001b[0;34m=\u001b[0m \u001b[0msplit_multiselect\u001b[0m\u001b[0;34m(\u001b[0m\u001b[0mdf\u001b[0m\u001b[0;34m,\u001b[0m \u001b[0;34m'WorkChallenge'\u001b[0m\u001b[0;34m)\u001b[0m\u001b[0;34m\u001b[0m\u001b[0;34m\u001b[0m\u001b[0m\n\u001b[0m",
      "\u001b[0;32m<ipython-input-114-80dbb82c0d48>\u001b[0m in \u001b[0;36msplit_multiselect\u001b[0;34m(df, col)\u001b[0m\n\u001b[1;32m     18\u001b[0m     \u001b[0munique_selects\u001b[0m \u001b[0;34m=\u001b[0m \u001b[0;34m{\u001b[0m\u001b[0;34m}\u001b[0m\u001b[0;34m\u001b[0m\u001b[0;34m\u001b[0m\u001b[0m\n\u001b[1;32m     19\u001b[0m \u001b[0;34m\u001b[0m\u001b[0m\n\u001b[0;32m---> 20\u001b[0;31m     \u001b[0mselect_na\u001b[0m \u001b[0;34m=\u001b[0m \u001b[0mdf\u001b[0m\u001b[0;34m[\u001b[0m\u001b[0mcol\u001b[0m\u001b[0;34m]\u001b[0m\u001b[0;34m.\u001b[0m\u001b[0misnull\u001b[0m\u001b[0;34m(\u001b[0m\u001b[0;34m)\u001b[0m\u001b[0;34m\u001b[0m\u001b[0;34m\u001b[0m\u001b[0m\n\u001b[0m\u001b[1;32m     21\u001b[0m     \u001b[0;31m# split the languages on ;\u001b[0m\u001b[0;34m\u001b[0m\u001b[0;34m\u001b[0m\u001b[0;34m\u001b[0m\u001b[0m\n\u001b[1;32m     22\u001b[0m     \u001b[0;31m# for language_set in survey['LanguageWorkedWith'].dropna().apply(lambda row: str(row).split(';')) :\u001b[0m\u001b[0;34m\u001b[0m\u001b[0;34m\u001b[0m\u001b[0;34m\u001b[0m\u001b[0m\n",
      "\u001b[0;32m~/anaconda3/lib/python3.7/site-packages/pandas/core/frame.py\u001b[0m in \u001b[0;36m__getitem__\u001b[0;34m(self, key)\u001b[0m\n\u001b[1;32m   2925\u001b[0m             \u001b[0;32mif\u001b[0m \u001b[0mself\u001b[0m\u001b[0;34m.\u001b[0m\u001b[0mcolumns\u001b[0m\u001b[0;34m.\u001b[0m\u001b[0mnlevels\u001b[0m \u001b[0;34m>\u001b[0m \u001b[0;36m1\u001b[0m\u001b[0;34m:\u001b[0m\u001b[0;34m\u001b[0m\u001b[0;34m\u001b[0m\u001b[0m\n\u001b[1;32m   2926\u001b[0m                 \u001b[0;32mreturn\u001b[0m \u001b[0mself\u001b[0m\u001b[0;34m.\u001b[0m\u001b[0m_getitem_multilevel\u001b[0m\u001b[0;34m(\u001b[0m\u001b[0mkey\u001b[0m\u001b[0;34m)\u001b[0m\u001b[0;34m\u001b[0m\u001b[0;34m\u001b[0m\u001b[0m\n\u001b[0;32m-> 2927\u001b[0;31m             \u001b[0mindexer\u001b[0m \u001b[0;34m=\u001b[0m \u001b[0mself\u001b[0m\u001b[0;34m.\u001b[0m\u001b[0mcolumns\u001b[0m\u001b[0;34m.\u001b[0m\u001b[0mget_loc\u001b[0m\u001b[0;34m(\u001b[0m\u001b[0mkey\u001b[0m\u001b[0;34m)\u001b[0m\u001b[0;34m\u001b[0m\u001b[0;34m\u001b[0m\u001b[0m\n\u001b[0m\u001b[1;32m   2928\u001b[0m             \u001b[0;32mif\u001b[0m \u001b[0mis_integer\u001b[0m\u001b[0;34m(\u001b[0m\u001b[0mindexer\u001b[0m\u001b[0;34m)\u001b[0m\u001b[0;34m:\u001b[0m\u001b[0;34m\u001b[0m\u001b[0;34m\u001b[0m\u001b[0m\n\u001b[1;32m   2929\u001b[0m                 \u001b[0mindexer\u001b[0m \u001b[0;34m=\u001b[0m \u001b[0;34m[\u001b[0m\u001b[0mindexer\u001b[0m\u001b[0;34m]\u001b[0m\u001b[0;34m\u001b[0m\u001b[0;34m\u001b[0m\u001b[0m\n",
      "\u001b[0;32m~/anaconda3/lib/python3.7/site-packages/pandas/core/indexes/base.py\u001b[0m in \u001b[0;36mget_loc\u001b[0;34m(self, key, method, tolerance)\u001b[0m\n\u001b[1;32m   2657\u001b[0m                 \u001b[0;32mreturn\u001b[0m \u001b[0mself\u001b[0m\u001b[0;34m.\u001b[0m\u001b[0m_engine\u001b[0m\u001b[0;34m.\u001b[0m\u001b[0mget_loc\u001b[0m\u001b[0;34m(\u001b[0m\u001b[0mkey\u001b[0m\u001b[0;34m)\u001b[0m\u001b[0;34m\u001b[0m\u001b[0;34m\u001b[0m\u001b[0m\n\u001b[1;32m   2658\u001b[0m             \u001b[0;32mexcept\u001b[0m \u001b[0mKeyError\u001b[0m\u001b[0;34m:\u001b[0m\u001b[0;34m\u001b[0m\u001b[0;34m\u001b[0m\u001b[0m\n\u001b[0;32m-> 2659\u001b[0;31m                 \u001b[0;32mreturn\u001b[0m \u001b[0mself\u001b[0m\u001b[0;34m.\u001b[0m\u001b[0m_engine\u001b[0m\u001b[0;34m.\u001b[0m\u001b[0mget_loc\u001b[0m\u001b[0;34m(\u001b[0m\u001b[0mself\u001b[0m\u001b[0;34m.\u001b[0m\u001b[0m_maybe_cast_indexer\u001b[0m\u001b[0;34m(\u001b[0m\u001b[0mkey\u001b[0m\u001b[0;34m)\u001b[0m\u001b[0;34m)\u001b[0m\u001b[0;34m\u001b[0m\u001b[0;34m\u001b[0m\u001b[0m\n\u001b[0m\u001b[1;32m   2660\u001b[0m         \u001b[0mindexer\u001b[0m \u001b[0;34m=\u001b[0m \u001b[0mself\u001b[0m\u001b[0;34m.\u001b[0m\u001b[0mget_indexer\u001b[0m\u001b[0;34m(\u001b[0m\u001b[0;34m[\u001b[0m\u001b[0mkey\u001b[0m\u001b[0;34m]\u001b[0m\u001b[0;34m,\u001b[0m \u001b[0mmethod\u001b[0m\u001b[0;34m=\u001b[0m\u001b[0mmethod\u001b[0m\u001b[0;34m,\u001b[0m \u001b[0mtolerance\u001b[0m\u001b[0;34m=\u001b[0m\u001b[0mtolerance\u001b[0m\u001b[0;34m)\u001b[0m\u001b[0;34m\u001b[0m\u001b[0;34m\u001b[0m\u001b[0m\n\u001b[1;32m   2661\u001b[0m         \u001b[0;32mif\u001b[0m \u001b[0mindexer\u001b[0m\u001b[0;34m.\u001b[0m\u001b[0mndim\u001b[0m \u001b[0;34m>\u001b[0m \u001b[0;36m1\u001b[0m \u001b[0;32mor\u001b[0m \u001b[0mindexer\u001b[0m\u001b[0;34m.\u001b[0m\u001b[0msize\u001b[0m \u001b[0;34m>\u001b[0m \u001b[0;36m1\u001b[0m\u001b[0;34m:\u001b[0m\u001b[0;34m\u001b[0m\u001b[0;34m\u001b[0m\u001b[0m\n",
      "\u001b[0;32mpandas/_libs/index.pyx\u001b[0m in \u001b[0;36mpandas._libs.index.IndexEngine.get_loc\u001b[0;34m()\u001b[0m\n",
      "\u001b[0;32mpandas/_libs/index.pyx\u001b[0m in \u001b[0;36mpandas._libs.index.IndexEngine.get_loc\u001b[0;34m()\u001b[0m\n",
      "\u001b[0;32mpandas/_libs/hashtable_class_helper.pxi\u001b[0m in \u001b[0;36mpandas._libs.hashtable.PyObjectHashTable.get_item\u001b[0;34m()\u001b[0m\n",
      "\u001b[0;32mpandas/_libs/hashtable_class_helper.pxi\u001b[0m in \u001b[0;36mpandas._libs.hashtable.PyObjectHashTable.get_item\u001b[0;34m()\u001b[0m\n",
      "\u001b[0;31mKeyError\u001b[0m: 'WorkChallenge'"
     ]
    }
   ],
   "source": [
    "jobfact, jobfact_cols = split_multiselect(df, 'JobFactors')\n",
    "jobchal, jobchal_cols = split_multiselect(df, 'WorkChallenge')"
   ]
  },
  {
   "cell_type": "code",
   "execution_count": null,
   "metadata": {
    "ExecuteTime": {
     "end_time": "2019-09-12T04:23:31.347946Z",
     "start_time": "2019-09-12T04:23:29.760Z"
    }
   },
   "outputs": [],
   "source": [
    "jobf_dev = (100*jobfact[isDev].mean()).sort_values(ascending=False)\n",
    "sorted_index = jobf_dev.index\n",
    "jobf_ds = (100*jobfact[isDS].mean())\n",
    "jobf_ds = jobf_ds[sorted_index]\n",
    "jobf_ = pd.DataFrame(jobf_dev - jobf_ds)"
   ]
  },
  {
   "cell_type": "code",
   "execution_count": null,
   "metadata": {
    "ExecuteTime": {
     "end_time": "2019-09-12T04:23:31.354034Z",
     "start_time": "2019-09-12T04:23:30.194Z"
    }
   },
   "outputs": [],
   "source": [
    "jobf_['dev'] = (jobf_dev)\n",
    "jobf_['DS'] = (jobf_ds)\n",
    "jobf_"
   ]
  },
  {
   "cell_type": "code",
   "execution_count": null,
   "metadata": {
    "ExecuteTime": {
     "end_time": "2019-09-12T04:23:31.360300Z",
     "start_time": "2019-09-12T04:23:30.656Z"
    }
   },
   "outputs": [],
   "source": [
    "title_text = 'Job Factors'\n",
    "xlimit = {0, 75}\n",
    "ylabel_text = 'Language'\n",
    "pd.DataFrame(jobf_dev - jobf_ds).plot.barh()"
   ]
  },
  {
   "cell_type": "code",
   "execution_count": null,
   "metadata": {
    "ExecuteTime": {
     "end_time": "2019-09-12T04:23:31.366494Z",
     "start_time": "2019-09-12T04:23:31.141Z"
    }
   },
   "outputs": [],
   "source": [
    "plot_dev_vs_df(jobf_dev, jobf_ds, title_text, xlimit, ylabel_text)"
   ]
  },
  {
   "cell_type": "markdown",
   "metadata": {},
   "source": [
    "### Development Environment \n",
    "\n",
    "`DevEnviron`"
   ]
  },
  {
   "cell_type": "code",
   "execution_count": 116,
   "metadata": {
    "ExecuteTime": {
     "end_time": "2019-09-12T04:23:35.898985Z",
     "start_time": "2019-09-12T04:23:32.044602Z"
    }
   },
   "outputs": [],
   "source": [
    "devenv, devenv_cols = split_multiselect(df, 'DevEnviron')"
   ]
  },
  {
   "cell_type": "code",
   "execution_count": 117,
   "metadata": {
    "ExecuteTime": {
     "end_time": "2019-09-12T04:23:36.583989Z",
     "start_time": "2019-09-12T04:23:36.344111Z"
    }
   },
   "outputs": [
    {
     "data": {
      "text/plain": [
       "count    65679.000000\n",
       "mean         2.826946\n",
       "std          1.599255\n",
       "min          1.000000\n",
       "25%          2.000000\n",
       "50%          3.000000\n",
       "75%          4.000000\n",
       "max         22.000000\n",
       "dtype: float64"
      ]
     },
     "execution_count": 117,
     "metadata": {},
     "output_type": "execute_result"
    }
   ],
   "source": [
    "# how many environs do each respondent claim :  almost 3!!!\n",
    "devenv.sum(axis=1).describe()"
   ]
  },
  {
   "cell_type": "markdown",
   "metadata": {},
   "source": [
    "### Containers\n",
    "\n",
    "`Containers`"
   ]
  },
  {
   "cell_type": "code",
   "execution_count": 118,
   "metadata": {
    "ExecuteTime": {
     "end_time": "2019-09-12T04:23:38.134799Z",
     "start_time": "2019-09-12T04:23:37.010409Z"
    }
   },
   "outputs": [],
   "source": [
    "containers, containers_cols = split_multiselect(df, 'Containers')"
   ]
  },
  {
   "cell_type": "markdown",
   "metadata": {},
   "source": [
    "## and convert Now+Future into _FEELINGS_\n",
    "\n",
    "- Love - use and want to continue next year\n",
    "- Hate - use and want to stop next year\n",
    "- Desire - don't use but want to next year\n",
    "\n",
    "\n",
    "For the fields where multiple selections were possible (e.g.  `JobFactors`,`DevEnviron`, and `LanguageWorkedWith`), split the strings containing the multiple selections into a list of selections and then concatenate these lists into a single list (dropping any missing values in the process). \n",
    "\n",
    "We may also want to simplify these fields to reduce the length of category labels and to group similar categories into a single category apon further analysis.\n",
    "\n",
    "Full list of the multi-select variables we will be addressing:\n",
    " `JobFactors`,`DevEnviron`,`Containers`,`WorkChallenge`, as well as the current/future pairs:\n",
    "     `LanguageWorkedWith`, `LanguageDesireNextYear`, \n",
    "     `DatabaseWorkedWith`,`DatabaseDesireNextYear`, \n",
    "     `MiscTechWorkedWith`,`MiscTechDesireNextYear`, \n",
    "     `PlatformWorkedWith`, `PlatformDesireNextYear`,\n"
   ]
  },
  {
   "cell_type": "code",
   "execution_count": 119,
   "metadata": {
    "ExecuteTime": {
     "end_time": "2019-09-12T04:23:38.615087Z",
     "start_time": "2019-09-12T04:23:38.597909Z"
    }
   },
   "outputs": [],
   "source": [
    "def split_multiselect_love_hate(df, col, col_next, prefix):\n",
    "    \"\"\"Create a new dataframe that splits the values of multi-selection column col into individual selections and\n",
    "    places each selection into a boolean column. This new dataframe can be merged into the original dataframe by\n",
    "    Respondent (index)value.\n",
    "\n",
    "    Args:\n",
    "    df: dataframe. Dataframe containing the multi-selection field col.\n",
    "    col:  column name\n",
    "    col_next:  column name for \"next year\" multi-select\n",
    "    prefix: how to name the new columns e.g. 'Lang' (&'LangNext') for 'LanguageWorkedWith'&'LanguageDesiredNextYear'\n",
    "\n",
    "    Returns:\n",
    "    out_df: dataframe. New dataframe giving split values of col.\n",
    "        \"\"\"\n",
    "\n",
    "    unique_selects = {}\n",
    "    # split the languages on ;\n",
    "    # for language_set in survey['LanguageWorkedWith'].dropna().apply(lambda row: str(row).split(';')) :\n",
    "    for select_set in df[col].apply(lambda row: str(row).split(';')):\n",
    "        for select in select_set:\n",
    "            if select not in unique_selects.keys():\n",
    "                unique_selects[select] = 1\n",
    "            else:\n",
    "                unique_selects[select] += 1\n",
    "\n",
    "    #     unique_selects_next = {}\n",
    "    #     # split the languages on ;\n",
    "    #     # for language_set in survey['LanguageWorkedWith'].dropna().apply(lambda row: str(row).split(';')) :\n",
    "    #     for select_set in df[col_next].apply(lambda row: str(row).split(';')):\n",
    "    #         for select in select_set:\n",
    "    #             if select not in unique_selects_next.keys():\n",
    "    #                 unique_selects_next[select] = 1\n",
    "    #             else:\n",
    "    #                 unique_selects_next[select] += 1\n",
    "\n",
    "    # unique_selects.keys() == unique_selects_next.keys()\n",
    "    un_sel = pd.Series(unique_selects).sort_values(ascending=False).copy()\n",
    "    #un_sel_next = pd.Series(unique_selects_next).sort_values(ascending=False).copy()\n",
    "\n",
    "    # out_df = pd.DataFrame()  # columns = unique_selects)\n",
    "    out_df = df.loc[:, [col, col_next]]  # columns = unique_selects)\n",
    "\n",
    "    select_na = df[col].isnull()\n",
    "    select_na_next = df[col_next].isnull()\n",
    "\n",
    "    new_cols = []\n",
    "    # new_cols_next = []\n",
    "\n",
    "    for sel in un_sel.index:\n",
    "        # first lets\n",
    "        # col_name = col[:25] + '_' + sel.replace(' ', '_')\n",
    "        col_name = prefix + '_' + sel.replace(' ', '_')\n",
    "        col_name_next = prefix + 'Next_' + sel.replace(' ', '_')\n",
    "        col_name_love = prefix + 'Love_' + sel.replace(' ', '_')\n",
    "        col_name_hate = prefix + 'Hate_' + sel.replace(' ', '_')\n",
    "        col_name_desire = prefix + 'Desire_' + sel.replace(' ', '_')\n",
    "\n",
    "        new_cols.append(col_name)\n",
    "        new_cols.append(col_name_next)\n",
    "        new_cols.append(col_name_love)\n",
    "        new_cols.append(col_name_hate)\n",
    "        new_cols.append(col_name_desire)\n",
    "\n",
    "        if (sel == 'nan'):\n",
    "            # this is a holding tally for how many non-selctions we have...\n",
    "            # so should be true for respondents who have nans in other entries\n",
    "            new_col = select_na\n",
    "            new_col_next = select_na_next\n",
    "            # these are pretty non-sensicle for nan\n",
    "            # this is defensive... not nescessary?\n",
    "            love = (~select_na)\n",
    "            # this is defensive... not nescessary?\n",
    "            hate = (~select_na)\n",
    "            # any non-nan entries are \"desired\" but dangerous\n",
    "            desire = (~select_na_next)\n",
    "\n",
    "        else:\n",
    "            new_col = ~select_na  # this is defensive... not nescessary?\n",
    "            love = ~select_na  # this is defensive... not nescessary?\n",
    "            hate = ~select_na  # this is defensive... not nescessary?\n",
    "\n",
    "            selected = df[col].dropna().str.split(';').copy()\n",
    "            # need to strip the nulls\n",
    "            new_col[~select_na] = selected.apply(lambda x: sel in x)\n",
    "\n",
    "            new_col_next = ~select_na_next  # this is defensive... not nescessary?\n",
    "            desire = ~select_na_next\n",
    "            selected_next = df[col_next].dropna().str.split(';').copy()\n",
    "            # need to strip the nulls\n",
    "            new_col_next[~select_na_next] = selected_next.apply(\n",
    "                lambda x: sel in x)\n",
    "\n",
    "            love = ((new_col == True) & (new_col_next == True))\n",
    "            hate = ((new_col == True) & (new_col_next == False))\n",
    "            desire = ((new_col == False) & (new_col_next == True))\n",
    "\n",
    "            # can only \"love/hate\" it if you alread do it..\n",
    "            love[(new_col == False)] = np.nan\n",
    "            hate[(new_col == False)] = np.nan\n",
    "            # can only \"desire\" it if you don't alread do it..\n",
    "            desire[(new_col == True)] = np.nan\n",
    "\n",
    "            # put the nonentries back in place\n",
    "            new_col[select_na] = np.nan\n",
    "            new_col_next[select_na_next] = np.nan\n",
    "\n",
    "            love[select_na] = np.nan\n",
    "            love[select_na_next] = np.nan\n",
    "            hate[select_na] = np.nan\n",
    "            desire[select_na_next] = np.nan\n",
    "\n",
    "        out_df.loc[:, col_name] = new_col.astype('float64')\n",
    "        out_df.loc[:, col_name_next] = new_col_next.astype('float64')\n",
    "\n",
    "        out_df.loc[:, col_name_love] = love.astype('float64')\n",
    "        out_df.loc[:, col_name_hate] = hate.astype('float64')\n",
    "        out_df.loc[:, col_name_desire] = desire.astype('float64')\n",
    "\n",
    "    return out_df, new_cols"
   ]
  },
  {
   "cell_type": "markdown",
   "metadata": {},
   "source": [
    "### Languages \n",
    "\n",
    "`LanguageWorkedWith`, `LanguageDesireNextYear`, \n"
   ]
  },
  {
   "cell_type": "code",
   "execution_count": 120,
   "metadata": {
    "ExecuteTime": {
     "end_time": "2019-09-12T04:23:54.413767Z",
     "start_time": "2019-09-12T04:23:39.075350Z"
    }
   },
   "outputs": [],
   "source": [
    "col = 'LanguageWorkedWith'\n",
    "col_next = 'LanguageDesireNextYear'\n",
    "prefix = 'Lang'\n",
    "langs_df, Lang_cols = split_multiselect_love_hate(df, col, col_next, prefix)"
   ]
  },
  {
   "cell_type": "code",
   "execution_count": 121,
   "metadata": {
    "ExecuteTime": {
     "end_time": "2019-09-12T04:23:54.999169Z",
     "start_time": "2019-09-12T04:23:54.964873Z"
    }
   },
   "outputs": [
    {
     "data": {
      "text/html": [
       "<div>\n",
       "<style scoped>\n",
       "    .dataframe tbody tr th:only-of-type {\n",
       "        vertical-align: middle;\n",
       "    }\n",
       "\n",
       "    .dataframe tbody tr th {\n",
       "        vertical-align: top;\n",
       "    }\n",
       "\n",
       "    .dataframe thead th {\n",
       "        text-align: right;\n",
       "    }\n",
       "</style>\n",
       "<table border=\"1\" class=\"dataframe\">\n",
       "  <thead>\n",
       "    <tr style=\"text-align: right;\">\n",
       "      <th></th>\n",
       "      <th>LanguageWorkedWith</th>\n",
       "      <th>LanguageDesireNextYear</th>\n",
       "      <th>Lang_JavaScript</th>\n",
       "      <th>LangNext_JavaScript</th>\n",
       "      <th>LangLove_JavaScript</th>\n",
       "      <th>LangHate_JavaScript</th>\n",
       "      <th>LangDesire_JavaScript</th>\n",
       "      <th>Lang_HTML/CSS</th>\n",
       "      <th>LangNext_HTML/CSS</th>\n",
       "      <th>LangLove_HTML/CSS</th>\n",
       "      <th>LangHate_HTML/CSS</th>\n",
       "      <th>LangDesire_HTML/CSS</th>\n",
       "      <th>Lang_SQL</th>\n",
       "      <th>LangNext_SQL</th>\n",
       "      <th>LangLove_SQL</th>\n",
       "    </tr>\n",
       "    <tr>\n",
       "      <th>Respondent</th>\n",
       "      <th></th>\n",
       "      <th></th>\n",
       "      <th></th>\n",
       "      <th></th>\n",
       "      <th></th>\n",
       "      <th></th>\n",
       "      <th></th>\n",
       "      <th></th>\n",
       "      <th></th>\n",
       "      <th></th>\n",
       "      <th></th>\n",
       "      <th></th>\n",
       "      <th></th>\n",
       "      <th></th>\n",
       "      <th></th>\n",
       "    </tr>\n",
       "  </thead>\n",
       "  <tbody>\n",
       "    <tr>\n",
       "      <th>4</th>\n",
       "      <td>C;C++;C#;Python;SQL</td>\n",
       "      <td>C;C#;JavaScript;SQL</td>\n",
       "      <td>0.0</td>\n",
       "      <td>1.0</td>\n",
       "      <td>NaN</td>\n",
       "      <td>NaN</td>\n",
       "      <td>1.0</td>\n",
       "      <td>0.0</td>\n",
       "      <td>0.0</td>\n",
       "      <td>NaN</td>\n",
       "      <td>NaN</td>\n",
       "      <td>0.0</td>\n",
       "      <td>1.0</td>\n",
       "      <td>1.0</td>\n",
       "      <td>1.0</td>\n",
       "    </tr>\n",
       "    <tr>\n",
       "      <th>5</th>\n",
       "      <td>C++;HTML/CSS;Java;JavaScript;Python;SQL;VBA</td>\n",
       "      <td>HTML/CSS;Java;JavaScript;SQL;WebAssembly</td>\n",
       "      <td>1.0</td>\n",
       "      <td>1.0</td>\n",
       "      <td>1.0</td>\n",
       "      <td>0.0</td>\n",
       "      <td>NaN</td>\n",
       "      <td>1.0</td>\n",
       "      <td>1.0</td>\n",
       "      <td>1.0</td>\n",
       "      <td>0.0</td>\n",
       "      <td>NaN</td>\n",
       "      <td>1.0</td>\n",
       "      <td>1.0</td>\n",
       "      <td>1.0</td>\n",
       "    </tr>\n",
       "    <tr>\n",
       "      <th>7</th>\n",
       "      <td>HTML/CSS;JavaScript</td>\n",
       "      <td>HTML/CSS;JavaScript</td>\n",
       "      <td>1.0</td>\n",
       "      <td>1.0</td>\n",
       "      <td>1.0</td>\n",
       "      <td>0.0</td>\n",
       "      <td>NaN</td>\n",
       "      <td>1.0</td>\n",
       "      <td>1.0</td>\n",
       "      <td>1.0</td>\n",
       "      <td>0.0</td>\n",
       "      <td>NaN</td>\n",
       "      <td>0.0</td>\n",
       "      <td>0.0</td>\n",
       "      <td>NaN</td>\n",
       "    </tr>\n",
       "    <tr>\n",
       "      <th>9</th>\n",
       "      <td>Bash/Shell/PowerShell;C#;HTML/CSS;JavaScript;P...</td>\n",
       "      <td>Bash/Shell/PowerShell;C;HTML/CSS;JavaScript;Ru...</td>\n",
       "      <td>1.0</td>\n",
       "      <td>1.0</td>\n",
       "      <td>1.0</td>\n",
       "      <td>0.0</td>\n",
       "      <td>NaN</td>\n",
       "      <td>1.0</td>\n",
       "      <td>1.0</td>\n",
       "      <td>1.0</td>\n",
       "      <td>0.0</td>\n",
       "      <td>NaN</td>\n",
       "      <td>1.0</td>\n",
       "      <td>1.0</td>\n",
       "      <td>1.0</td>\n",
       "    </tr>\n",
       "    <tr>\n",
       "      <th>10</th>\n",
       "      <td>C#;Go;JavaScript;Python;R;SQL</td>\n",
       "      <td>C#;Go;JavaScript;Kotlin;Python;R;SQL</td>\n",
       "      <td>1.0</td>\n",
       "      <td>1.0</td>\n",
       "      <td>1.0</td>\n",
       "      <td>0.0</td>\n",
       "      <td>NaN</td>\n",
       "      <td>0.0</td>\n",
       "      <td>0.0</td>\n",
       "      <td>NaN</td>\n",
       "      <td>NaN</td>\n",
       "      <td>0.0</td>\n",
       "      <td>1.0</td>\n",
       "      <td>1.0</td>\n",
       "      <td>1.0</td>\n",
       "    </tr>\n",
       "    <tr>\n",
       "      <th>13</th>\n",
       "      <td>Bash/Shell/PowerShell;HTML/CSS;JavaScript;PHP;...</td>\n",
       "      <td>Bash/Shell/PowerShell;HTML/CSS;JavaScript;Rust...</td>\n",
       "      <td>1.0</td>\n",
       "      <td>1.0</td>\n",
       "      <td>1.0</td>\n",
       "      <td>0.0</td>\n",
       "      <td>NaN</td>\n",
       "      <td>1.0</td>\n",
       "      <td>1.0</td>\n",
       "      <td>1.0</td>\n",
       "      <td>0.0</td>\n",
       "      <td>NaN</td>\n",
       "      <td>1.0</td>\n",
       "      <td>1.0</td>\n",
       "      <td>1.0</td>\n",
       "    </tr>\n",
       "    <tr>\n",
       "      <th>14</th>\n",
       "      <td>C++</td>\n",
       "      <td>C++</td>\n",
       "      <td>0.0</td>\n",
       "      <td>0.0</td>\n",
       "      <td>NaN</td>\n",
       "      <td>NaN</td>\n",
       "      <td>0.0</td>\n",
       "      <td>0.0</td>\n",
       "      <td>0.0</td>\n",
       "      <td>NaN</td>\n",
       "      <td>NaN</td>\n",
       "      <td>0.0</td>\n",
       "      <td>0.0</td>\n",
       "      <td>0.0</td>\n",
       "      <td>NaN</td>\n",
       "    </tr>\n",
       "    <tr>\n",
       "      <th>16</th>\n",
       "      <td>Bash/Shell/PowerShell;C#;HTML/CSS;JavaScript;T...</td>\n",
       "      <td>C#;HTML/CSS;JavaScript;TypeScript;WebAssembly;...</td>\n",
       "      <td>1.0</td>\n",
       "      <td>1.0</td>\n",
       "      <td>1.0</td>\n",
       "      <td>0.0</td>\n",
       "      <td>NaN</td>\n",
       "      <td>1.0</td>\n",
       "      <td>1.0</td>\n",
       "      <td>1.0</td>\n",
       "      <td>0.0</td>\n",
       "      <td>NaN</td>\n",
       "      <td>0.0</td>\n",
       "      <td>0.0</td>\n",
       "      <td>NaN</td>\n",
       "    </tr>\n",
       "    <tr>\n",
       "      <th>17</th>\n",
       "      <td>Bash/Shell/PowerShell;HTML/CSS;JavaScript;Type...</td>\n",
       "      <td>Bash/Shell/PowerShell;HTML/CSS;Java;JavaScript...</td>\n",
       "      <td>1.0</td>\n",
       "      <td>1.0</td>\n",
       "      <td>1.0</td>\n",
       "      <td>0.0</td>\n",
       "      <td>NaN</td>\n",
       "      <td>1.0</td>\n",
       "      <td>1.0</td>\n",
       "      <td>1.0</td>\n",
       "      <td>0.0</td>\n",
       "      <td>NaN</td>\n",
       "      <td>0.0</td>\n",
       "      <td>0.0</td>\n",
       "      <td>NaN</td>\n",
       "    </tr>\n",
       "    <tr>\n",
       "      <th>19</th>\n",
       "      <td>C#;HTML/CSS;Java;JavaScript;SQL;TypeScript</td>\n",
       "      <td>HTML/CSS;JavaScript</td>\n",
       "      <td>1.0</td>\n",
       "      <td>1.0</td>\n",
       "      <td>1.0</td>\n",
       "      <td>0.0</td>\n",
       "      <td>NaN</td>\n",
       "      <td>1.0</td>\n",
       "      <td>1.0</td>\n",
       "      <td>1.0</td>\n",
       "      <td>0.0</td>\n",
       "      <td>NaN</td>\n",
       "      <td>1.0</td>\n",
       "      <td>0.0</td>\n",
       "      <td>0.0</td>\n",
       "    </tr>\n",
       "    <tr>\n",
       "      <th>22</th>\n",
       "      <td>Bash/Shell/PowerShell;C++;HTML/CSS;JavaScript;...</td>\n",
       "      <td>Bash/Shell/PowerShell;C++;HTML/CSS;JavaScript;...</td>\n",
       "      <td>1.0</td>\n",
       "      <td>1.0</td>\n",
       "      <td>1.0</td>\n",
       "      <td>0.0</td>\n",
       "      <td>NaN</td>\n",
       "      <td>1.0</td>\n",
       "      <td>1.0</td>\n",
       "      <td>1.0</td>\n",
       "      <td>0.0</td>\n",
       "      <td>NaN</td>\n",
       "      <td>1.0</td>\n",
       "      <td>1.0</td>\n",
       "      <td>1.0</td>\n",
       "    </tr>\n",
       "    <tr>\n",
       "      <th>23</th>\n",
       "      <td>Bash/Shell/PowerShell;HTML/CSS;JavaScript;Pyth...</td>\n",
       "      <td>Bash/Shell/PowerShell;Go;HTML/CSS;Java;JavaScr...</td>\n",
       "      <td>1.0</td>\n",
       "      <td>1.0</td>\n",
       "      <td>1.0</td>\n",
       "      <td>0.0</td>\n",
       "      <td>NaN</td>\n",
       "      <td>1.0</td>\n",
       "      <td>1.0</td>\n",
       "      <td>1.0</td>\n",
       "      <td>0.0</td>\n",
       "      <td>NaN</td>\n",
       "      <td>1.0</td>\n",
       "      <td>1.0</td>\n",
       "      <td>1.0</td>\n",
       "    </tr>\n",
       "    <tr>\n",
       "      <th>24</th>\n",
       "      <td>HTML/CSS;JavaScript;PHP;TypeScript</td>\n",
       "      <td>Go</td>\n",
       "      <td>1.0</td>\n",
       "      <td>0.0</td>\n",
       "      <td>0.0</td>\n",
       "      <td>1.0</td>\n",
       "      <td>NaN</td>\n",
       "      <td>1.0</td>\n",
       "      <td>0.0</td>\n",
       "      <td>0.0</td>\n",
       "      <td>1.0</td>\n",
       "      <td>NaN</td>\n",
       "      <td>0.0</td>\n",
       "      <td>0.0</td>\n",
       "      <td>NaN</td>\n",
       "    </tr>\n",
       "    <tr>\n",
       "      <th>25</th>\n",
       "      <td>HTML/CSS;JavaScript;PHP;SQL;TypeScript</td>\n",
       "      <td>HTML/CSS;JavaScript;PHP;SQL;TypeScript</td>\n",
       "      <td>1.0</td>\n",
       "      <td>1.0</td>\n",
       "      <td>1.0</td>\n",
       "      <td>0.0</td>\n",
       "      <td>NaN</td>\n",
       "      <td>1.0</td>\n",
       "      <td>1.0</td>\n",
       "      <td>1.0</td>\n",
       "      <td>0.0</td>\n",
       "      <td>NaN</td>\n",
       "      <td>1.0</td>\n",
       "      <td>1.0</td>\n",
       "      <td>1.0</td>\n",
       "    </tr>\n",
       "    <tr>\n",
       "      <th>26</th>\n",
       "      <td>Bash/Shell/PowerShell;C++;C#;HTML/CSS;JavaScri...</td>\n",
       "      <td>C#;HTML/CSS;JavaScript;Objective-C;Ruby;SQL;Sw...</td>\n",
       "      <td>1.0</td>\n",
       "      <td>1.0</td>\n",
       "      <td>1.0</td>\n",
       "      <td>0.0</td>\n",
       "      <td>NaN</td>\n",
       "      <td>1.0</td>\n",
       "      <td>1.0</td>\n",
       "      <td>1.0</td>\n",
       "      <td>0.0</td>\n",
       "      <td>NaN</td>\n",
       "      <td>1.0</td>\n",
       "      <td>1.0</td>\n",
       "      <td>1.0</td>\n",
       "    </tr>\n",
       "    <tr>\n",
       "      <th>28</th>\n",
       "      <td>JavaScript;TypeScript</td>\n",
       "      <td>JavaScript</td>\n",
       "      <td>1.0</td>\n",
       "      <td>1.0</td>\n",
       "      <td>1.0</td>\n",
       "      <td>0.0</td>\n",
       "      <td>NaN</td>\n",
       "      <td>0.0</td>\n",
       "      <td>0.0</td>\n",
       "      <td>NaN</td>\n",
       "      <td>NaN</td>\n",
       "      <td>0.0</td>\n",
       "      <td>0.0</td>\n",
       "      <td>0.0</td>\n",
       "      <td>NaN</td>\n",
       "    </tr>\n",
       "    <tr>\n",
       "      <th>29</th>\n",
       "      <td>Bash/Shell/PowerShell;JavaScript;SQL</td>\n",
       "      <td>Bash/Shell/PowerShell;Clojure;JavaScript;Pytho...</td>\n",
       "      <td>1.0</td>\n",
       "      <td>1.0</td>\n",
       "      <td>1.0</td>\n",
       "      <td>0.0</td>\n",
       "      <td>NaN</td>\n",
       "      <td>0.0</td>\n",
       "      <td>0.0</td>\n",
       "      <td>NaN</td>\n",
       "      <td>NaN</td>\n",
       "      <td>0.0</td>\n",
       "      <td>1.0</td>\n",
       "      <td>0.0</td>\n",
       "      <td>0.0</td>\n",
       "    </tr>\n",
       "    <tr>\n",
       "      <th>30</th>\n",
       "      <td>NaN</td>\n",
       "      <td>NaN</td>\n",
       "      <td>NaN</td>\n",
       "      <td>NaN</td>\n",
       "      <td>NaN</td>\n",
       "      <td>NaN</td>\n",
       "      <td>NaN</td>\n",
       "      <td>NaN</td>\n",
       "      <td>NaN</td>\n",
       "      <td>NaN</td>\n",
       "      <td>NaN</td>\n",
       "      <td>NaN</td>\n",
       "      <td>NaN</td>\n",
       "      <td>NaN</td>\n",
       "      <td>NaN</td>\n",
       "    </tr>\n",
       "    <tr>\n",
       "      <th>32</th>\n",
       "      <td>Bash/Shell/PowerShell;HTML/CSS;JavaScript;PHP;...</td>\n",
       "      <td>Bash/Shell/PowerShell;HTML/CSS;JavaScript;Pyth...</td>\n",
       "      <td>1.0</td>\n",
       "      <td>1.0</td>\n",
       "      <td>1.0</td>\n",
       "      <td>0.0</td>\n",
       "      <td>NaN</td>\n",
       "      <td>1.0</td>\n",
       "      <td>1.0</td>\n",
       "      <td>1.0</td>\n",
       "      <td>0.0</td>\n",
       "      <td>NaN</td>\n",
       "      <td>0.0</td>\n",
       "      <td>0.0</td>\n",
       "      <td>NaN</td>\n",
       "    </tr>\n",
       "    <tr>\n",
       "      <th>33</th>\n",
       "      <td>C++;Python;R</td>\n",
       "      <td>R</td>\n",
       "      <td>0.0</td>\n",
       "      <td>0.0</td>\n",
       "      <td>NaN</td>\n",
       "      <td>NaN</td>\n",
       "      <td>0.0</td>\n",
       "      <td>0.0</td>\n",
       "      <td>0.0</td>\n",
       "      <td>NaN</td>\n",
       "      <td>NaN</td>\n",
       "      <td>0.0</td>\n",
       "      <td>0.0</td>\n",
       "      <td>0.0</td>\n",
       "      <td>NaN</td>\n",
       "    </tr>\n",
       "    <tr>\n",
       "      <th>35</th>\n",
       "      <td>HTML/CSS;JavaScript</td>\n",
       "      <td>NaN</td>\n",
       "      <td>1.0</td>\n",
       "      <td>NaN</td>\n",
       "      <td>NaN</td>\n",
       "      <td>1.0</td>\n",
       "      <td>NaN</td>\n",
       "      <td>1.0</td>\n",
       "      <td>NaN</td>\n",
       "      <td>NaN</td>\n",
       "      <td>1.0</td>\n",
       "      <td>NaN</td>\n",
       "      <td>0.0</td>\n",
       "      <td>NaN</td>\n",
       "      <td>NaN</td>\n",
       "    </tr>\n",
       "    <tr>\n",
       "      <th>36</th>\n",
       "      <td>Java;Kotlin;Python</td>\n",
       "      <td>Kotlin;Python</td>\n",
       "      <td>0.0</td>\n",
       "      <td>0.0</td>\n",
       "      <td>NaN</td>\n",
       "      <td>NaN</td>\n",
       "      <td>0.0</td>\n",
       "      <td>0.0</td>\n",
       "      <td>0.0</td>\n",
       "      <td>NaN</td>\n",
       "      <td>NaN</td>\n",
       "      <td>0.0</td>\n",
       "      <td>0.0</td>\n",
       "      <td>0.0</td>\n",
       "      <td>NaN</td>\n",
       "    </tr>\n",
       "    <tr>\n",
       "      <th>38</th>\n",
       "      <td>C#;HTML/CSS;JavaScript;SQL</td>\n",
       "      <td>C#;HTML/CSS;JavaScript;SQL</td>\n",
       "      <td>1.0</td>\n",
       "      <td>1.0</td>\n",
       "      <td>1.0</td>\n",
       "      <td>0.0</td>\n",
       "      <td>NaN</td>\n",
       "      <td>1.0</td>\n",
       "      <td>1.0</td>\n",
       "      <td>1.0</td>\n",
       "      <td>0.0</td>\n",
       "      <td>NaN</td>\n",
       "      <td>1.0</td>\n",
       "      <td>1.0</td>\n",
       "      <td>1.0</td>\n",
       "    </tr>\n",
       "    <tr>\n",
       "      <th>39</th>\n",
       "      <td>C#;JavaScript;SQL;TypeScript</td>\n",
       "      <td>C#;F#;SQL;TypeScript</td>\n",
       "      <td>1.0</td>\n",
       "      <td>0.0</td>\n",
       "      <td>0.0</td>\n",
       "      <td>1.0</td>\n",
       "      <td>NaN</td>\n",
       "      <td>0.0</td>\n",
       "      <td>0.0</td>\n",
       "      <td>NaN</td>\n",
       "      <td>NaN</td>\n",
       "      <td>0.0</td>\n",
       "      <td>1.0</td>\n",
       "      <td>1.0</td>\n",
       "      <td>1.0</td>\n",
       "    </tr>\n",
       "    <tr>\n",
       "      <th>41</th>\n",
       "      <td>Bash/Shell/PowerShell;C;C++;HTML/CSS;Java;Java...</td>\n",
       "      <td>Bash/Shell/PowerShell;HTML/CSS;JavaScript;SQL</td>\n",
       "      <td>1.0</td>\n",
       "      <td>1.0</td>\n",
       "      <td>1.0</td>\n",
       "      <td>0.0</td>\n",
       "      <td>NaN</td>\n",
       "      <td>1.0</td>\n",
       "      <td>1.0</td>\n",
       "      <td>1.0</td>\n",
       "      <td>0.0</td>\n",
       "      <td>NaN</td>\n",
       "      <td>1.0</td>\n",
       "      <td>1.0</td>\n",
       "      <td>1.0</td>\n",
       "    </tr>\n",
       "    <tr>\n",
       "      <th>42</th>\n",
       "      <td>HTML/CSS;JavaScript;PHP;TypeScript</td>\n",
       "      <td>JavaScript;PHP;TypeScript</td>\n",
       "      <td>1.0</td>\n",
       "      <td>1.0</td>\n",
       "      <td>1.0</td>\n",
       "      <td>0.0</td>\n",
       "      <td>NaN</td>\n",
       "      <td>1.0</td>\n",
       "      <td>0.0</td>\n",
       "      <td>0.0</td>\n",
       "      <td>1.0</td>\n",
       "      <td>NaN</td>\n",
       "      <td>0.0</td>\n",
       "      <td>0.0</td>\n",
       "      <td>NaN</td>\n",
       "    </tr>\n",
       "    <tr>\n",
       "      <th>43</th>\n",
       "      <td>C++;C#;HTML/CSS;Java;JavaScript;Objective-C;SQL</td>\n",
       "      <td>C#;HTML/CSS;Objective-C</td>\n",
       "      <td>1.0</td>\n",
       "      <td>0.0</td>\n",
       "      <td>0.0</td>\n",
       "      <td>1.0</td>\n",
       "      <td>NaN</td>\n",
       "      <td>1.0</td>\n",
       "      <td>1.0</td>\n",
       "      <td>1.0</td>\n",
       "      <td>0.0</td>\n",
       "      <td>NaN</td>\n",
       "      <td>1.0</td>\n",
       "      <td>0.0</td>\n",
       "      <td>0.0</td>\n",
       "    </tr>\n",
       "    <tr>\n",
       "      <th>44</th>\n",
       "      <td>Bash/Shell/PowerShell;C#;HTML/CSS;Java;JavaScr...</td>\n",
       "      <td>C#</td>\n",
       "      <td>1.0</td>\n",
       "      <td>0.0</td>\n",
       "      <td>0.0</td>\n",
       "      <td>1.0</td>\n",
       "      <td>NaN</td>\n",
       "      <td>1.0</td>\n",
       "      <td>0.0</td>\n",
       "      <td>0.0</td>\n",
       "      <td>1.0</td>\n",
       "      <td>NaN</td>\n",
       "      <td>1.0</td>\n",
       "      <td>0.0</td>\n",
       "      <td>0.0</td>\n",
       "    </tr>\n",
       "    <tr>\n",
       "      <th>46</th>\n",
       "      <td>Bash/Shell/PowerShell;C;C#;HTML/CSS;JavaScript...</td>\n",
       "      <td>Erlang;Go;Scala;TypeScript</td>\n",
       "      <td>1.0</td>\n",
       "      <td>0.0</td>\n",
       "      <td>0.0</td>\n",
       "      <td>1.0</td>\n",
       "      <td>NaN</td>\n",
       "      <td>1.0</td>\n",
       "      <td>0.0</td>\n",
       "      <td>0.0</td>\n",
       "      <td>1.0</td>\n",
       "      <td>NaN</td>\n",
       "      <td>1.0</td>\n",
       "      <td>0.0</td>\n",
       "      <td>0.0</td>\n",
       "    </tr>\n",
       "    <tr>\n",
       "      <th>47</th>\n",
       "      <td>Java;PHP;Ruby</td>\n",
       "      <td>NaN</td>\n",
       "      <td>0.0</td>\n",
       "      <td>NaN</td>\n",
       "      <td>NaN</td>\n",
       "      <td>NaN</td>\n",
       "      <td>NaN</td>\n",
       "      <td>0.0</td>\n",
       "      <td>NaN</td>\n",
       "      <td>NaN</td>\n",
       "      <td>NaN</td>\n",
       "      <td>NaN</td>\n",
       "      <td>0.0</td>\n",
       "      <td>NaN</td>\n",
       "      <td>NaN</td>\n",
       "    </tr>\n",
       "    <tr>\n",
       "      <th>49</th>\n",
       "      <td>Bash/Shell/PowerShell;HTML/CSS;Java;JavaScript...</td>\n",
       "      <td>Bash/Shell/PowerShell;HTML/CSS;Java;JavaScript...</td>\n",
       "      <td>1.0</td>\n",
       "      <td>1.0</td>\n",
       "      <td>1.0</td>\n",
       "      <td>0.0</td>\n",
       "      <td>NaN</td>\n",
       "      <td>1.0</td>\n",
       "      <td>1.0</td>\n",
       "      <td>1.0</td>\n",
       "      <td>0.0</td>\n",
       "      <td>NaN</td>\n",
       "      <td>1.0</td>\n",
       "      <td>1.0</td>\n",
       "      <td>1.0</td>\n",
       "    </tr>\n",
       "    <tr>\n",
       "      <th>50</th>\n",
       "      <td>Bash/Shell/PowerShell;C;C++;HTML/CSS;Java;Java...</td>\n",
       "      <td>HTML/CSS;JavaScript;Python</td>\n",
       "      <td>1.0</td>\n",
       "      <td>1.0</td>\n",
       "      <td>1.0</td>\n",
       "      <td>0.0</td>\n",
       "      <td>NaN</td>\n",
       "      <td>1.0</td>\n",
       "      <td>1.0</td>\n",
       "      <td>1.0</td>\n",
       "      <td>0.0</td>\n",
       "      <td>NaN</td>\n",
       "      <td>1.0</td>\n",
       "      <td>0.0</td>\n",
       "      <td>0.0</td>\n",
       "    </tr>\n",
       "    <tr>\n",
       "      <th>52</th>\n",
       "      <td>Bash/Shell/PowerShell;C;C++;Elixir;Erlang;Go;H...</td>\n",
       "      <td>Rust</td>\n",
       "      <td>1.0</td>\n",
       "      <td>0.0</td>\n",
       "      <td>0.0</td>\n",
       "      <td>1.0</td>\n",
       "      <td>NaN</td>\n",
       "      <td>1.0</td>\n",
       "      <td>0.0</td>\n",
       "      <td>0.0</td>\n",
       "      <td>1.0</td>\n",
       "      <td>NaN</td>\n",
       "      <td>1.0</td>\n",
       "      <td>0.0</td>\n",
       "      <td>0.0</td>\n",
       "    </tr>\n",
       "    <tr>\n",
       "      <th>54</th>\n",
       "      <td>Bash/Shell/PowerShell;HTML/CSS;JavaScript;Python</td>\n",
       "      <td>Bash/Shell/PowerShell;HTML/CSS;JavaScript;Python</td>\n",
       "      <td>1.0</td>\n",
       "      <td>1.0</td>\n",
       "      <td>1.0</td>\n",
       "      <td>0.0</td>\n",
       "      <td>NaN</td>\n",
       "      <td>1.0</td>\n",
       "      <td>1.0</td>\n",
       "      <td>1.0</td>\n",
       "      <td>0.0</td>\n",
       "      <td>NaN</td>\n",
       "      <td>0.0</td>\n",
       "      <td>0.0</td>\n",
       "      <td>NaN</td>\n",
       "    </tr>\n",
       "    <tr>\n",
       "      <th>56</th>\n",
       "      <td>Bash/Shell/PowerShell;HTML/CSS;Java;SQL</td>\n",
       "      <td>Java;JavaScript;Kotlin;Python;Scala;TypeScript</td>\n",
       "      <td>0.0</td>\n",
       "      <td>1.0</td>\n",
       "      <td>NaN</td>\n",
       "      <td>NaN</td>\n",
       "      <td>1.0</td>\n",
       "      <td>1.0</td>\n",
       "      <td>0.0</td>\n",
       "      <td>0.0</td>\n",
       "      <td>1.0</td>\n",
       "      <td>NaN</td>\n",
       "      <td>1.0</td>\n",
       "      <td>0.0</td>\n",
       "      <td>0.0</td>\n",
       "    </tr>\n",
       "  </tbody>\n",
       "</table>\n",
       "</div>"
      ],
      "text/plain": [
       "                                           LanguageWorkedWith  \\\n",
       "Respondent                                                      \n",
       "4                                         C;C++;C#;Python;SQL   \n",
       "5                 C++;HTML/CSS;Java;JavaScript;Python;SQL;VBA   \n",
       "7                                         HTML/CSS;JavaScript   \n",
       "9           Bash/Shell/PowerShell;C#;HTML/CSS;JavaScript;P...   \n",
       "10                              C#;Go;JavaScript;Python;R;SQL   \n",
       "13          Bash/Shell/PowerShell;HTML/CSS;JavaScript;PHP;...   \n",
       "14                                                        C++   \n",
       "16          Bash/Shell/PowerShell;C#;HTML/CSS;JavaScript;T...   \n",
       "17          Bash/Shell/PowerShell;HTML/CSS;JavaScript;Type...   \n",
       "19                 C#;HTML/CSS;Java;JavaScript;SQL;TypeScript   \n",
       "22          Bash/Shell/PowerShell;C++;HTML/CSS;JavaScript;...   \n",
       "23          Bash/Shell/PowerShell;HTML/CSS;JavaScript;Pyth...   \n",
       "24                         HTML/CSS;JavaScript;PHP;TypeScript   \n",
       "25                     HTML/CSS;JavaScript;PHP;SQL;TypeScript   \n",
       "26          Bash/Shell/PowerShell;C++;C#;HTML/CSS;JavaScri...   \n",
       "28                                      JavaScript;TypeScript   \n",
       "29                       Bash/Shell/PowerShell;JavaScript;SQL   \n",
       "30                                                        NaN   \n",
       "32          Bash/Shell/PowerShell;HTML/CSS;JavaScript;PHP;...   \n",
       "33                                               C++;Python;R   \n",
       "35                                        HTML/CSS;JavaScript   \n",
       "36                                         Java;Kotlin;Python   \n",
       "38                                 C#;HTML/CSS;JavaScript;SQL   \n",
       "39                               C#;JavaScript;SQL;TypeScript   \n",
       "41          Bash/Shell/PowerShell;C;C++;HTML/CSS;Java;Java...   \n",
       "42                         HTML/CSS;JavaScript;PHP;TypeScript   \n",
       "43            C++;C#;HTML/CSS;Java;JavaScript;Objective-C;SQL   \n",
       "44          Bash/Shell/PowerShell;C#;HTML/CSS;Java;JavaScr...   \n",
       "46          Bash/Shell/PowerShell;C;C#;HTML/CSS;JavaScript...   \n",
       "47                                              Java;PHP;Ruby   \n",
       "49          Bash/Shell/PowerShell;HTML/CSS;Java;JavaScript...   \n",
       "50          Bash/Shell/PowerShell;C;C++;HTML/CSS;Java;Java...   \n",
       "52          Bash/Shell/PowerShell;C;C++;Elixir;Erlang;Go;H...   \n",
       "54           Bash/Shell/PowerShell;HTML/CSS;JavaScript;Python   \n",
       "56                    Bash/Shell/PowerShell;HTML/CSS;Java;SQL   \n",
       "\n",
       "                                       LanguageDesireNextYear  \\\n",
       "Respondent                                                      \n",
       "4                                         C;C#;JavaScript;SQL   \n",
       "5                    HTML/CSS;Java;JavaScript;SQL;WebAssembly   \n",
       "7                                         HTML/CSS;JavaScript   \n",
       "9           Bash/Shell/PowerShell;C;HTML/CSS;JavaScript;Ru...   \n",
       "10                       C#;Go;JavaScript;Kotlin;Python;R;SQL   \n",
       "13          Bash/Shell/PowerShell;HTML/CSS;JavaScript;Rust...   \n",
       "14                                                        C++   \n",
       "16          C#;HTML/CSS;JavaScript;TypeScript;WebAssembly;...   \n",
       "17          Bash/Shell/PowerShell;HTML/CSS;Java;JavaScript...   \n",
       "19                                        HTML/CSS;JavaScript   \n",
       "22          Bash/Shell/PowerShell;C++;HTML/CSS;JavaScript;...   \n",
       "23          Bash/Shell/PowerShell;Go;HTML/CSS;Java;JavaScr...   \n",
       "24                                                         Go   \n",
       "25                     HTML/CSS;JavaScript;PHP;SQL;TypeScript   \n",
       "26          C#;HTML/CSS;JavaScript;Objective-C;Ruby;SQL;Sw...   \n",
       "28                                                 JavaScript   \n",
       "29          Bash/Shell/PowerShell;Clojure;JavaScript;Pytho...   \n",
       "30                                                        NaN   \n",
       "32          Bash/Shell/PowerShell;HTML/CSS;JavaScript;Pyth...   \n",
       "33                                                          R   \n",
       "35                                                        NaN   \n",
       "36                                              Kotlin;Python   \n",
       "38                                 C#;HTML/CSS;JavaScript;SQL   \n",
       "39                                       C#;F#;SQL;TypeScript   \n",
       "41              Bash/Shell/PowerShell;HTML/CSS;JavaScript;SQL   \n",
       "42                                  JavaScript;PHP;TypeScript   \n",
       "43                                    C#;HTML/CSS;Objective-C   \n",
       "44                                                         C#   \n",
       "46                                 Erlang;Go;Scala;TypeScript   \n",
       "47                                                        NaN   \n",
       "49          Bash/Shell/PowerShell;HTML/CSS;Java;JavaScript...   \n",
       "50                                 HTML/CSS;JavaScript;Python   \n",
       "52                                                       Rust   \n",
       "54           Bash/Shell/PowerShell;HTML/CSS;JavaScript;Python   \n",
       "56             Java;JavaScript;Kotlin;Python;Scala;TypeScript   \n",
       "\n",
       "            Lang_JavaScript  LangNext_JavaScript  LangLove_JavaScript  \\\n",
       "Respondent                                                              \n",
       "4                       0.0                  1.0                  NaN   \n",
       "5                       1.0                  1.0                  1.0   \n",
       "7                       1.0                  1.0                  1.0   \n",
       "9                       1.0                  1.0                  1.0   \n",
       "10                      1.0                  1.0                  1.0   \n",
       "13                      1.0                  1.0                  1.0   \n",
       "14                      0.0                  0.0                  NaN   \n",
       "16                      1.0                  1.0                  1.0   \n",
       "17                      1.0                  1.0                  1.0   \n",
       "19                      1.0                  1.0                  1.0   \n",
       "22                      1.0                  1.0                  1.0   \n",
       "23                      1.0                  1.0                  1.0   \n",
       "24                      1.0                  0.0                  0.0   \n",
       "25                      1.0                  1.0                  1.0   \n",
       "26                      1.0                  1.0                  1.0   \n",
       "28                      1.0                  1.0                  1.0   \n",
       "29                      1.0                  1.0                  1.0   \n",
       "30                      NaN                  NaN                  NaN   \n",
       "32                      1.0                  1.0                  1.0   \n",
       "33                      0.0                  0.0                  NaN   \n",
       "35                      1.0                  NaN                  NaN   \n",
       "36                      0.0                  0.0                  NaN   \n",
       "38                      1.0                  1.0                  1.0   \n",
       "39                      1.0                  0.0                  0.0   \n",
       "41                      1.0                  1.0                  1.0   \n",
       "42                      1.0                  1.0                  1.0   \n",
       "43                      1.0                  0.0                  0.0   \n",
       "44                      1.0                  0.0                  0.0   \n",
       "46                      1.0                  0.0                  0.0   \n",
       "47                      0.0                  NaN                  NaN   \n",
       "49                      1.0                  1.0                  1.0   \n",
       "50                      1.0                  1.0                  1.0   \n",
       "52                      1.0                  0.0                  0.0   \n",
       "54                      1.0                  1.0                  1.0   \n",
       "56                      0.0                  1.0                  NaN   \n",
       "\n",
       "            LangHate_JavaScript  LangDesire_JavaScript  Lang_HTML/CSS  \\\n",
       "Respondent                                                              \n",
       "4                           NaN                    1.0            0.0   \n",
       "5                           0.0                    NaN            1.0   \n",
       "7                           0.0                    NaN            1.0   \n",
       "9                           0.0                    NaN            1.0   \n",
       "10                          0.0                    NaN            0.0   \n",
       "13                          0.0                    NaN            1.0   \n",
       "14                          NaN                    0.0            0.0   \n",
       "16                          0.0                    NaN            1.0   \n",
       "17                          0.0                    NaN            1.0   \n",
       "19                          0.0                    NaN            1.0   \n",
       "22                          0.0                    NaN            1.0   \n",
       "23                          0.0                    NaN            1.0   \n",
       "24                          1.0                    NaN            1.0   \n",
       "25                          0.0                    NaN            1.0   \n",
       "26                          0.0                    NaN            1.0   \n",
       "28                          0.0                    NaN            0.0   \n",
       "29                          0.0                    NaN            0.0   \n",
       "30                          NaN                    NaN            NaN   \n",
       "32                          0.0                    NaN            1.0   \n",
       "33                          NaN                    0.0            0.0   \n",
       "35                          1.0                    NaN            1.0   \n",
       "36                          NaN                    0.0            0.0   \n",
       "38                          0.0                    NaN            1.0   \n",
       "39                          1.0                    NaN            0.0   \n",
       "41                          0.0                    NaN            1.0   \n",
       "42                          0.0                    NaN            1.0   \n",
       "43                          1.0                    NaN            1.0   \n",
       "44                          1.0                    NaN            1.0   \n",
       "46                          1.0                    NaN            1.0   \n",
       "47                          NaN                    NaN            0.0   \n",
       "49                          0.0                    NaN            1.0   \n",
       "50                          0.0                    NaN            1.0   \n",
       "52                          1.0                    NaN            1.0   \n",
       "54                          0.0                    NaN            1.0   \n",
       "56                          NaN                    1.0            1.0   \n",
       "\n",
       "            LangNext_HTML/CSS  LangLove_HTML/CSS  LangHate_HTML/CSS  \\\n",
       "Respondent                                                            \n",
       "4                         0.0                NaN                NaN   \n",
       "5                         1.0                1.0                0.0   \n",
       "7                         1.0                1.0                0.0   \n",
       "9                         1.0                1.0                0.0   \n",
       "10                        0.0                NaN                NaN   \n",
       "13                        1.0                1.0                0.0   \n",
       "14                        0.0                NaN                NaN   \n",
       "16                        1.0                1.0                0.0   \n",
       "17                        1.0                1.0                0.0   \n",
       "19                        1.0                1.0                0.0   \n",
       "22                        1.0                1.0                0.0   \n",
       "23                        1.0                1.0                0.0   \n",
       "24                        0.0                0.0                1.0   \n",
       "25                        1.0                1.0                0.0   \n",
       "26                        1.0                1.0                0.0   \n",
       "28                        0.0                NaN                NaN   \n",
       "29                        0.0                NaN                NaN   \n",
       "30                        NaN                NaN                NaN   \n",
       "32                        1.0                1.0                0.0   \n",
       "33                        0.0                NaN                NaN   \n",
       "35                        NaN                NaN                1.0   \n",
       "36                        0.0                NaN                NaN   \n",
       "38                        1.0                1.0                0.0   \n",
       "39                        0.0                NaN                NaN   \n",
       "41                        1.0                1.0                0.0   \n",
       "42                        0.0                0.0                1.0   \n",
       "43                        1.0                1.0                0.0   \n",
       "44                        0.0                0.0                1.0   \n",
       "46                        0.0                0.0                1.0   \n",
       "47                        NaN                NaN                NaN   \n",
       "49                        1.0                1.0                0.0   \n",
       "50                        1.0                1.0                0.0   \n",
       "52                        0.0                0.0                1.0   \n",
       "54                        1.0                1.0                0.0   \n",
       "56                        0.0                0.0                1.0   \n",
       "\n",
       "            LangDesire_HTML/CSS  Lang_SQL  LangNext_SQL  LangLove_SQL  \n",
       "Respondent                                                             \n",
       "4                           0.0       1.0           1.0           1.0  \n",
       "5                           NaN       1.0           1.0           1.0  \n",
       "7                           NaN       0.0           0.0           NaN  \n",
       "9                           NaN       1.0           1.0           1.0  \n",
       "10                          0.0       1.0           1.0           1.0  \n",
       "13                          NaN       1.0           1.0           1.0  \n",
       "14                          0.0       0.0           0.0           NaN  \n",
       "16                          NaN       0.0           0.0           NaN  \n",
       "17                          NaN       0.0           0.0           NaN  \n",
       "19                          NaN       1.0           0.0           0.0  \n",
       "22                          NaN       1.0           1.0           1.0  \n",
       "23                          NaN       1.0           1.0           1.0  \n",
       "24                          NaN       0.0           0.0           NaN  \n",
       "25                          NaN       1.0           1.0           1.0  \n",
       "26                          NaN       1.0           1.0           1.0  \n",
       "28                          0.0       0.0           0.0           NaN  \n",
       "29                          0.0       1.0           0.0           0.0  \n",
       "30                          NaN       NaN           NaN           NaN  \n",
       "32                          NaN       0.0           0.0           NaN  \n",
       "33                          0.0       0.0           0.0           NaN  \n",
       "35                          NaN       0.0           NaN           NaN  \n",
       "36                          0.0       0.0           0.0           NaN  \n",
       "38                          NaN       1.0           1.0           1.0  \n",
       "39                          0.0       1.0           1.0           1.0  \n",
       "41                          NaN       1.0           1.0           1.0  \n",
       "42                          NaN       0.0           0.0           NaN  \n",
       "43                          NaN       1.0           0.0           0.0  \n",
       "44                          NaN       1.0           0.0           0.0  \n",
       "46                          NaN       1.0           0.0           0.0  \n",
       "47                          NaN       0.0           NaN           NaN  \n",
       "49                          NaN       1.0           1.0           1.0  \n",
       "50                          NaN       1.0           0.0           0.0  \n",
       "52                          NaN       1.0           0.0           0.0  \n",
       "54                          NaN       0.0           0.0           NaN  \n",
       "56                          NaN       1.0           0.0           0.0  "
      ]
     },
     "execution_count": 121,
     "metadata": {},
     "output_type": "execute_result"
    }
   ],
   "source": [
    "langs_df.iloc[:, 0:15].head(35)"
   ]
  },
  {
   "cell_type": "code",
   "execution_count": 122,
   "metadata": {
    "ExecuteTime": {
     "end_time": "2019-09-12T04:23:56.375053Z",
     "start_time": "2019-09-12T04:23:55.600487Z"
    }
   },
   "outputs": [],
   "source": [
    "# We have to split the LanguageWorkedWith to get a proper picture\n",
    "#languages = survey[survey['LanguageWorkedWith'].notnull()]\n",
    "\n",
    "col = 'LanguageWorkedWith'\n",
    "col_next = 'LanguageDesireNextYear'\n",
    "prefix = 'Lang'\n",
    "\n",
    "unique_selects = {}\n",
    "# split the languages on ;\n",
    "# for language_set in survey['LanguageWorkedWith'].dropna().apply(lambda row: str(row).split(';')) :\n",
    "for select_set in df[col].apply(lambda row: str(row).split(';')):\n",
    "    for select in select_set:\n",
    "        if select not in unique_selects.keys():\n",
    "            unique_selects[select] = 1\n",
    "        else:\n",
    "            unique_selects[select] += 1\n",
    "\n",
    "\n",
    "unique_selects_next = {}\n",
    "# split the languages on ;\n",
    "# for language_set in survey['LanguageWorkedWith'].dropna().apply(lambda row: str(row).split(';')) :\n",
    "for select_set in df[col_next].apply(lambda row: str(row).split(';')):\n",
    "    for select in select_set:\n",
    "        if select not in unique_selects_next.keys():\n",
    "            unique_selects_next[select] = 1\n",
    "        else:\n",
    "            unique_selects_next[select] += 1\n",
    "\n",
    "#unique_selects.keys() == unique_selects_next.keys()\n",
    "un_sel = pd.Series(unique_selects).sort_values(ascending=False).copy()\n",
    "un_sel_next = pd.Series(unique_selects_next).sort_values(\n",
    "    ascending=False).copy()"
   ]
  },
  {
   "cell_type": "markdown",
   "metadata": {},
   "source": [
    "Incidence of language mentions for now and last year indicate that Javascript is the top dawg but losing steam (though the TypeScript and WebAssembly flavors are up and coming), and traditional HTML/CSS also seems to be on the decline.   Go and Python seem to be steadily growing in interest, with Go, Kotlin, Clojure, Rust and Dart seeming to have emerging interest.  "
   ]
  },
  {
   "cell_type": "code",
   "execution_count": 123,
   "metadata": {
    "ExecuteTime": {
     "end_time": "2019-09-12T04:23:56.932652Z",
     "start_time": "2019-09-12T04:23:56.924976Z"
    }
   },
   "outputs": [],
   "source": [
    "# #pd.DataFrame([un_sel,un_sel_next])  # columns = unique_selects)\n",
    "langs = pd.concat([un_sel, un_sel_next], axis=1, sort=False)\n",
    "# langs.sum(axis=1)\n",
    "langs.columns = [col, col_next]\n",
    "langs['NowVsNextYear'] = (langs[col_next]-langs[col])\n",
    "langs['pctInterestNext'] = (100*(langs[col_next]-langs[col])/langs[col])"
   ]
  },
  {
   "cell_type": "code",
   "execution_count": 124,
   "metadata": {
    "ExecuteTime": {
     "end_time": "2019-09-12T04:23:57.522065Z",
     "start_time": "2019-09-12T04:23:57.511339Z"
    }
   },
   "outputs": [
    {
     "data": {
      "text/html": [
       "<div>\n",
       "<style scoped>\n",
       "    .dataframe tbody tr th:only-of-type {\n",
       "        vertical-align: middle;\n",
       "    }\n",
       "\n",
       "    .dataframe tbody tr th {\n",
       "        vertical-align: top;\n",
       "    }\n",
       "\n",
       "    .dataframe thead th {\n",
       "        text-align: right;\n",
       "    }\n",
       "</style>\n",
       "<table border=\"1\" class=\"dataframe\">\n",
       "  <thead>\n",
       "    <tr style=\"text-align: right;\">\n",
       "      <th></th>\n",
       "      <th>LanguageWorkedWith</th>\n",
       "      <th>LanguageDesireNextYear</th>\n",
       "      <th>NowVsNextYear</th>\n",
       "      <th>pctInterestNext</th>\n",
       "    </tr>\n",
       "  </thead>\n",
       "  <tbody>\n",
       "    <tr>\n",
       "      <th>HTML/CSS</th>\n",
       "      <td>41911</td>\n",
       "      <td>27420</td>\n",
       "      <td>-14491</td>\n",
       "      <td>-34.575648</td>\n",
       "    </tr>\n",
       "    <tr>\n",
       "      <th>JavaScript</th>\n",
       "      <td>46945</td>\n",
       "      <td>34194</td>\n",
       "      <td>-12751</td>\n",
       "      <td>-27.161572</td>\n",
       "    </tr>\n",
       "    <tr>\n",
       "      <th>SQL</th>\n",
       "      <td>37235</td>\n",
       "      <td>25290</td>\n",
       "      <td>-11945</td>\n",
       "      <td>-32.080032</td>\n",
       "    </tr>\n",
       "    <tr>\n",
       "      <th>Java</th>\n",
       "      <td>26348</td>\n",
       "      <td>16583</td>\n",
       "      <td>-9765</td>\n",
       "      <td>-37.061637</td>\n",
       "    </tr>\n",
       "    <tr>\n",
       "      <th>Bash/Shell/PowerShell</th>\n",
       "      <td>24195</td>\n",
       "      <td>15428</td>\n",
       "      <td>-8767</td>\n",
       "      <td>-36.234759</td>\n",
       "    </tr>\n",
       "    <tr>\n",
       "      <th>PHP</th>\n",
       "      <td>17042</td>\n",
       "      <td>8636</td>\n",
       "      <td>-8406</td>\n",
       "      <td>-49.325197</td>\n",
       "    </tr>\n",
       "    <tr>\n",
       "      <th>C</th>\n",
       "      <td>11130</td>\n",
       "      <td>6694</td>\n",
       "      <td>-4436</td>\n",
       "      <td>-39.856244</td>\n",
       "    </tr>\n",
       "    <tr>\n",
       "      <th>C#</th>\n",
       "      <td>21657</td>\n",
       "      <td>17300</td>\n",
       "      <td>-4357</td>\n",
       "      <td>-20.118207</td>\n",
       "    </tr>\n",
       "    <tr>\n",
       "      <th>C++</th>\n",
       "      <td>13296</td>\n",
       "      <td>10434</td>\n",
       "      <td>-2862</td>\n",
       "      <td>-21.525271</td>\n",
       "    </tr>\n",
       "    <tr>\n",
       "      <th>VBA</th>\n",
       "      <td>2987</td>\n",
       "      <td>762</td>\n",
       "      <td>-2225</td>\n",
       "      <td>-74.489454</td>\n",
       "    </tr>\n",
       "    <tr>\n",
       "      <th>Objective-C</th>\n",
       "      <td>3615</td>\n",
       "      <td>2095</td>\n",
       "      <td>-1520</td>\n",
       "      <td>-42.047026</td>\n",
       "    </tr>\n",
       "    <tr>\n",
       "      <th>Assembly</th>\n",
       "      <td>3173</td>\n",
       "      <td>2346</td>\n",
       "      <td>-827</td>\n",
       "      <td>-26.063662</td>\n",
       "    </tr>\n",
       "    <tr>\n",
       "      <th>Ruby</th>\n",
       "      <td>5923</td>\n",
       "      <td>5272</td>\n",
       "      <td>-651</td>\n",
       "      <td>-10.991052</td>\n",
       "    </tr>\n",
       "    <tr>\n",
       "      <th>Other(s):</th>\n",
       "      <td>5596</td>\n",
       "      <td>5559</td>\n",
       "      <td>-37</td>\n",
       "      <td>-0.661187</td>\n",
       "    </tr>\n",
       "    <tr>\n",
       "      <th>Erlang</th>\n",
       "      <td>622</td>\n",
       "      <td>1650</td>\n",
       "      <td>1028</td>\n",
       "      <td>165.273312</td>\n",
       "    </tr>\n",
       "    <tr>\n",
       "      <th>Clojure</th>\n",
       "      <td>1029</td>\n",
       "      <td>2194</td>\n",
       "      <td>1165</td>\n",
       "      <td>113.216715</td>\n",
       "    </tr>\n",
       "    <tr>\n",
       "      <th>R</th>\n",
       "      <td>2731</td>\n",
       "      <td>3924</td>\n",
       "      <td>1193</td>\n",
       "      <td>43.683632</td>\n",
       "    </tr>\n",
       "    <tr>\n",
       "      <th>Scala</th>\n",
       "      <td>2805</td>\n",
       "      <td>4532</td>\n",
       "      <td>1727</td>\n",
       "      <td>61.568627</td>\n",
       "    </tr>\n",
       "    <tr>\n",
       "      <th>Swift</th>\n",
       "      <td>4652</td>\n",
       "      <td>6697</td>\n",
       "      <td>2045</td>\n",
       "      <td>43.959587</td>\n",
       "    </tr>\n",
       "    <tr>\n",
       "      <th>Elixir</th>\n",
       "      <td>1064</td>\n",
       "      <td>3149</td>\n",
       "      <td>2085</td>\n",
       "      <td>195.958647</td>\n",
       "    </tr>\n",
       "    <tr>\n",
       "      <th>Dart</th>\n",
       "      <td>1244</td>\n",
       "      <td>3341</td>\n",
       "      <td>2097</td>\n",
       "      <td>168.569132</td>\n",
       "    </tr>\n",
       "    <tr>\n",
       "      <th>F#</th>\n",
       "      <td>757</td>\n",
       "      <td>2897</td>\n",
       "      <td>2140</td>\n",
       "      <td>282.694848</td>\n",
       "    </tr>\n",
       "    <tr>\n",
       "      <th>nan</th>\n",
       "      <td>405</td>\n",
       "      <td>3091</td>\n",
       "      <td>2686</td>\n",
       "      <td>663.209877</td>\n",
       "    </tr>\n",
       "    <tr>\n",
       "      <th>Python</th>\n",
       "      <td>24285</td>\n",
       "      <td>27007</td>\n",
       "      <td>2722</td>\n",
       "      <td>11.208565</td>\n",
       "    </tr>\n",
       "    <tr>\n",
       "      <th>TypeScript</th>\n",
       "      <td>16535</td>\n",
       "      <td>20492</td>\n",
       "      <td>3957</td>\n",
       "      <td>23.931055</td>\n",
       "    </tr>\n",
       "    <tr>\n",
       "      <th>Kotlin</th>\n",
       "      <td>4590</td>\n",
       "      <td>10453</td>\n",
       "      <td>5863</td>\n",
       "      <td>127.734205</td>\n",
       "    </tr>\n",
       "    <tr>\n",
       "      <th>WebAssembly</th>\n",
       "      <td>745</td>\n",
       "      <td>6928</td>\n",
       "      <td>6183</td>\n",
       "      <td>829.932886</td>\n",
       "    </tr>\n",
       "    <tr>\n",
       "      <th>Rust</th>\n",
       "      <td>1981</td>\n",
       "      <td>8205</td>\n",
       "      <td>6224</td>\n",
       "      <td>314.184755</td>\n",
       "    </tr>\n",
       "    <tr>\n",
       "      <th>Go</th>\n",
       "      <td>5852</td>\n",
       "      <td>13566</td>\n",
       "      <td>7714</td>\n",
       "      <td>131.818182</td>\n",
       "    </tr>\n",
       "  </tbody>\n",
       "</table>\n",
       "</div>"
      ],
      "text/plain": [
       "                       LanguageWorkedWith  LanguageDesireNextYear  \\\n",
       "HTML/CSS                            41911                   27420   \n",
       "JavaScript                          46945                   34194   \n",
       "SQL                                 37235                   25290   \n",
       "Java                                26348                   16583   \n",
       "Bash/Shell/PowerShell               24195                   15428   \n",
       "PHP                                 17042                    8636   \n",
       "C                                   11130                    6694   \n",
       "C#                                  21657                   17300   \n",
       "C++                                 13296                   10434   \n",
       "VBA                                  2987                     762   \n",
       "Objective-C                          3615                    2095   \n",
       "Assembly                             3173                    2346   \n",
       "Ruby                                 5923                    5272   \n",
       "Other(s):                            5596                    5559   \n",
       "Erlang                                622                    1650   \n",
       "Clojure                              1029                    2194   \n",
       "R                                    2731                    3924   \n",
       "Scala                                2805                    4532   \n",
       "Swift                                4652                    6697   \n",
       "Elixir                               1064                    3149   \n",
       "Dart                                 1244                    3341   \n",
       "F#                                    757                    2897   \n",
       "nan                                   405                    3091   \n",
       "Python                              24285                   27007   \n",
       "TypeScript                          16535                   20492   \n",
       "Kotlin                               4590                   10453   \n",
       "WebAssembly                           745                    6928   \n",
       "Rust                                 1981                    8205   \n",
       "Go                                   5852                   13566   \n",
       "\n",
       "                       NowVsNextYear  pctInterestNext  \n",
       "HTML/CSS                      -14491       -34.575648  \n",
       "JavaScript                    -12751       -27.161572  \n",
       "SQL                           -11945       -32.080032  \n",
       "Java                           -9765       -37.061637  \n",
       "Bash/Shell/PowerShell          -8767       -36.234759  \n",
       "PHP                            -8406       -49.325197  \n",
       "C                              -4436       -39.856244  \n",
       "C#                             -4357       -20.118207  \n",
       "C++                            -2862       -21.525271  \n",
       "VBA                            -2225       -74.489454  \n",
       "Objective-C                    -1520       -42.047026  \n",
       "Assembly                        -827       -26.063662  \n",
       "Ruby                            -651       -10.991052  \n",
       "Other(s):                        -37        -0.661187  \n",
       "Erlang                          1028       165.273312  \n",
       "Clojure                         1165       113.216715  \n",
       "R                               1193        43.683632  \n",
       "Scala                           1727        61.568627  \n",
       "Swift                           2045        43.959587  \n",
       "Elixir                          2085       195.958647  \n",
       "Dart                            2097       168.569132  \n",
       "F#                              2140       282.694848  \n",
       "nan                             2686       663.209877  \n",
       "Python                          2722        11.208565  \n",
       "TypeScript                      3957        23.931055  \n",
       "Kotlin                          5863       127.734205  \n",
       "WebAssembly                     6183       829.932886  \n",
       "Rust                            6224       314.184755  \n",
       "Go                              7714       131.818182  "
      ]
     },
     "execution_count": 124,
     "metadata": {},
     "output_type": "execute_result"
    }
   ],
   "source": [
    "# raw difference in mentions\n",
    "langs.sort_values('NowVsNextYear', ascending=True)"
   ]
  },
  {
   "cell_type": "code",
   "execution_count": 125,
   "metadata": {
    "ExecuteTime": {
     "end_time": "2019-09-12T04:23:58.111915Z",
     "start_time": "2019-09-12T04:23:58.109086Z"
    }
   },
   "outputs": [],
   "source": [
    "# This is how to merge the \"splits\" back into the main DF (for regressions...)\n",
    "#df_ = df.merge(langs, how='outer', left_index=True, right_index=True)\n",
    "# df_.shape"
   ]
  },
  {
   "cell_type": "markdown",
   "metadata": {},
   "source": [
    "Now we need to look at what percentage of each language users LOVE, or HATE that language.  And what the raw percentage of non-users are interested in the language.\n",
    "\n",
    "Lets plot as some horizontal bar graphs next to the raw incidence of language use for all Professionals and then with Developers and DataScientists broken out.\n",
    "\n"
   ]
  },
  {
   "cell_type": "code",
   "execution_count": 126,
   "metadata": {
    "ExecuteTime": {
     "end_time": "2019-09-12T04:23:58.693941Z",
     "start_time": "2019-09-12T04:23:58.683086Z"
    }
   },
   "outputs": [
    {
     "ename": "NameError",
     "evalue": "name 'lang_dev' is not defined",
     "output_type": "error",
     "traceback": [
      "\u001b[0;31m---------------------------------------------------------------------------\u001b[0m",
      "\u001b[0;31mNameError\u001b[0m                                 Traceback (most recent call last)",
      "\u001b[0;32m<ipython-input-126-a94de8691c53>\u001b[0m in \u001b[0;36m<module>\u001b[0;34m\u001b[0m\n\u001b[1;32m      3\u001b[0m \u001b[0mylabel_text\u001b[0m \u001b[0;34m=\u001b[0m \u001b[0;34m'Language'\u001b[0m\u001b[0;34m\u001b[0m\u001b[0;34m\u001b[0m\u001b[0m\n\u001b[1;32m      4\u001b[0m \u001b[0;34m\u001b[0m\u001b[0m\n\u001b[0;32m----> 5\u001b[0;31m \u001b[0mplot_dev_vs_df\u001b[0m\u001b[0;34m(\u001b[0m\u001b[0mlang_dev\u001b[0m\u001b[0;34m,\u001b[0m \u001b[0mlang_ds\u001b[0m\u001b[0;34m,\u001b[0m \u001b[0mtitle_text\u001b[0m\u001b[0;34m,\u001b[0m \u001b[0mxlimit\u001b[0m\u001b[0;34m,\u001b[0m \u001b[0mylabel_text\u001b[0m\u001b[0;34m)\u001b[0m\u001b[0;34m\u001b[0m\u001b[0;34m\u001b[0m\u001b[0m\n\u001b[0m",
      "\u001b[0;31mNameError\u001b[0m: name 'lang_dev' is not defined"
     ]
    }
   ],
   "source": [
    "title_text = 'Incidence of Language used'\n",
    "xlimit = {0, 75}\n",
    "ylabel_text = 'Language'\n",
    "\n",
    "plot_dev_vs_df(lang_dev, lang_ds, title_text, xlimit, ylabel_text)"
   ]
  },
  {
   "cell_type": "code",
   "execution_count": null,
   "metadata": {
    "ExecuteTime": {
     "end_time": "2019-09-12T04:23:58.705987Z",
     "start_time": "2019-09-12T04:23:39.374Z"
    }
   },
   "outputs": [],
   "source": [
    "# DataFrame.hist(data, column=None, by=None, grid=True,\n",
    "#  xlabelsize=None, xrot=None, ylabelsize=None,\n",
    "#  yrot=None, ax=None, sharex=False, sharey=False,\n",
    "#  figsize=None, layout=None, bins=10,"
   ]
  },
  {
   "cell_type": "code",
   "execution_count": null,
   "metadata": {
    "ExecuteTime": {
     "end_time": "2019-09-12T04:23:58.714312Z",
     "start_time": "2019-09-12T04:23:39.776Z"
    }
   },
   "outputs": [],
   "source": [
    "langs = langs_df.filter(regex='Lang_')\n",
    "#langs = langs.merge(df['DSorDV'], how='outer', left_index=True, right_index=True)\n",
    "# langs.groupby('DSorDV').mean()"
   ]
  },
  {
   "cell_type": "code",
   "execution_count": null,
   "metadata": {
    "ExecuteTime": {
     "end_time": "2019-09-12T04:23:58.725764Z",
     "start_time": "2019-09-12T04:23:40.164Z"
    }
   },
   "outputs": [],
   "source": [
    "lang_dev = (100*langs[isDev].mean()).sort_values(ascending=True)\n",
    "sorted_index = lang_dev.index\n",
    "lang_ds = (100*langs[isDS].mean())\n",
    "lang_ds = lang_ds[sorted_index]\n",
    "lang_pct = (100*langs[isDev].mean()).sort_values(ascending=True)\n",
    "lang_pct = lang_pct[sorted_index]"
   ]
  },
  {
   "cell_type": "code",
   "execution_count": null,
   "metadata": {
    "ExecuteTime": {
     "end_time": "2019-09-12T04:23:58.737071Z",
     "start_time": "2019-09-12T04:23:40.568Z"
    }
   },
   "outputs": [],
   "source": [
    "filt = langs_df.filter(regex='LangLove_')\n",
    "love = filt.drop(columns='LangLove_nan')\n",
    "\n",
    "love_dev = (100*love[isDev].mean()).sort_values(ascending=True)\n",
    "love_ds = (100*love[isDS].mean()).sort_values(ascending=True)\n",
    "#love_ds = love_ds[love_dev.index]\n",
    "title_text = 'language LOVE (of current users, percent who WANT to use next year)'\n",
    "\n",
    "xlimit = {0, 95}\n",
    "ylabel_text = 'Language'\n",
    "\n",
    "plot_dev_vs_df(love_dev, love_ds, title_text, xlimit, ylabel_text)"
   ]
  },
  {
   "cell_type": "code",
   "execution_count": null,
   "metadata": {
    "ExecuteTime": {
     "end_time": "2019-09-12T04:23:58.748367Z",
     "start_time": "2019-09-12T04:23:41.053Z"
    }
   },
   "outputs": [],
   "source": [
    "filt = langs_df.filter(regex='LangHate')\n",
    "hate = filt.drop(columns='LangHate_nan')\n",
    "\n",
    "\n",
    "hate_dev = (100*hate[isDev].mean()).sort_values(ascending=True)\n",
    "hate_ds = (100*hate[isDS].mean()).sort_values(ascending=True)\n",
    "\n",
    "title_text = 'language HATE (of current users, percent who DO NOT want to use it next year)'\n",
    "\n",
    "xlimit = {0, 85}\n",
    "ylabel_text = 'Language'\n",
    "\n",
    "plot_dev_vs_df(hate_dev, hate_ds, title_text, xlimit, ylabel_text)"
   ]
  },
  {
   "cell_type": "code",
   "execution_count": null,
   "metadata": {
    "ExecuteTime": {
     "end_time": "2019-09-12T04:23:58.758124Z",
     "start_time": "2019-09-12T04:23:41.470Z"
    }
   },
   "outputs": [],
   "source": [
    "filt = langs_df.filter(regex='LangDesire')\n",
    "desire = filt.drop(columns='LangDesire_nan')\n",
    "\n",
    "des_dev = (100*desire[isDev].mean()).sort_values(ascending=True)\n",
    "des_ds = (100*desire[isDS].mean()).sort_values(ascending=True)\n",
    "\n",
    "title_text = 'language DESIRE (of non-users, percent who WANT to use it next year)'\n",
    "\n",
    "xlimit = {0, 35}\n",
    "ylabel_text = 'Language'\n",
    "\n",
    "plot_dev_vs_df(des_dev, des_ds, title_text, xlimit, ylabel_text)"
   ]
  },
  {
   "cell_type": "code",
   "execution_count": null,
   "metadata": {
    "ExecuteTime": {
     "end_time": "2019-09-12T04:23:58.768052Z",
     "start_time": "2019-09-12T04:23:41.886Z"
    }
   },
   "outputs": [],
   "source": [
    "col = 'PlatformWorkedWith'\n",
    "col_next = 'PlatformDesireNextYear'\n",
    "prefix = 'Platform'\n",
    "platform_df, Platform_cols = split_multiselect_love_hate(\n",
    "    df, col, col_next, prefix)"
   ]
  },
  {
   "cell_type": "code",
   "execution_count": null,
   "metadata": {},
   "outputs": [],
   "source": []
  },
  {
   "cell_type": "code",
   "execution_count": null,
   "metadata": {
    "ExecuteTime": {
     "end_time": "2019-09-12T04:23:58.778626Z",
     "start_time": "2019-09-12T04:23:42.785Z"
    }
   },
   "outputs": [],
   "source": [
    "plats = platform_df.filter(regex='Platform_')\n",
    "plats = plats.drop(columns='Platform_nan')\n",
    "\n",
    "plats_dev = (100*plats[isDev].mean()).sort_values(ascending=True)\n",
    "plats_ds = (100*plats[isDS].mean()).sort_values(ascending=True)\n",
    "\n",
    "title_text = 'incidence of platforms used'\n",
    "xlimit = {0, 75}\n",
    "ylabel_text = 'Platform'\n",
    "plot_dev_vs_df(plats_dev, plats_ds, title_text, xlimit, ylabel_text)"
   ]
  },
  {
   "cell_type": "code",
   "execution_count": null,
   "metadata": {
    "ExecuteTime": {
     "end_time": "2019-09-12T04:23:58.789439Z",
     "start_time": "2019-09-12T04:23:43.197Z"
    }
   },
   "outputs": [],
   "source": [
    "# plats = platform_df.filter(regex='PlatformDesire_')\n",
    "# plats = plats.drop(columns='PlatformDesire_nan')\n",
    "\n",
    "# platsd_dev = (100*plats[isDev].mean()).sort_values(ascending=True)\n",
    "# platsd_ds = (100*plats[isDS].mean()).sort_values(ascending=True)\n",
    "\n",
    "# platsd_dev.plot.barh(figsize=(10, 10))\n",
    "\n",
    "# platsd_ds.plot.barh(figsize=(10, 10))"
   ]
  },
  {
   "cell_type": "code",
   "execution_count": null,
   "metadata": {
    "ExecuteTime": {
     "end_time": "2019-09-12T04:23:58.799671Z",
     "start_time": "2019-09-12T04:23:43.650Z"
    }
   },
   "outputs": [],
   "source": [
    "col = 'DatabaseWorkedWith'\n",
    "col_next = 'DatabaseDesireNextYear'\n",
    "prefix = 'DB'\n",
    "db_df, DB_cols = split_multiselect_love_hate(df, col, col_next, prefix)"
   ]
  },
  {
   "cell_type": "code",
   "execution_count": null,
   "metadata": {
    "ExecuteTime": {
     "end_time": "2019-09-12T04:23:58.810731Z",
     "start_time": "2019-09-12T04:23:44.184Z"
    }
   },
   "outputs": [],
   "source": [
    "dbs = db_df.filter(regex='DB_')\n",
    "dbs = dbs.drop(columns='DB_nan')\n",
    "\n",
    "dbs_dev = (100*dbs[isDev].mean()).sort_values(ascending=True)\n",
    "dbs_ds = (100*dbs[isDS].mean()).sort_values(ascending=True)\n",
    "\n",
    "title_text = 'incidence of database used'\n",
    "xlimit = {0, 60}\n",
    "ylabel_text = 'Database'\n",
    "plot_dev_vs_df(dbs_dev, dbs_ds, title_text, xlimit, ylabel_text)"
   ]
  },
  {
   "cell_type": "code",
   "execution_count": null,
   "metadata": {
    "ExecuteTime": {
     "end_time": "2019-09-12T04:23:58.822340Z",
     "start_time": "2019-09-12T04:23:44.579Z"
    }
   },
   "outputs": [],
   "source": [
    "col = 'MiscTechWorkedWith'\n",
    "col_next = 'MiscTechDesireNextYear'\n",
    "prefix = 'Tech'\n",
    "tech_df, Tech_cols = split_multiselect_love_hate(df, col, col_next, prefix)"
   ]
  },
  {
   "cell_type": "code",
   "execution_count": null,
   "metadata": {
    "ExecuteTime": {
     "end_time": "2019-09-12T04:23:58.833709Z",
     "start_time": "2019-09-12T04:23:45.056Z"
    }
   },
   "outputs": [],
   "source": [
    "techs = tech_df.filter(regex='Tech_')\n",
    "techs = techs.drop(columns='Tech_nan')\n",
    "\n",
    "techs_dev = (100*techs[isDev].mean()).sort_values(ascending=True)\n",
    "techs_ds = (100*techs[isDS].mean()).sort_values(ascending=True)\n",
    "\n",
    "title_text = 'incidence of technology used'\n",
    "xlimit = {0, 60}\n",
    "ylabel_text = 'Tech'\n",
    "plot_dev_vs_df(dbs_dev, dbs_ds, title_text, xlimit, ylabel_text)"
   ]
  },
  {
   "cell_type": "markdown",
   "metadata": {},
   "source": [
    "---\n",
    "\n",
    "dont \n",
    "\n",
    "---\n",
    "\n",
    "go \n",
    "\n",
    "---\n",
    "\n",
    "below\n",
    "\n",
    "---\n",
    "\n",
    "here\n",
    "\n",
    "---"
   ]
  },
  {
   "cell_type": "markdown",
   "metadata": {},
   "source": [
    "throw out everything except a simple df"
   ]
  },
  {
   "cell_type": "code",
   "execution_count": null,
   "metadata": {},
   "outputs": [],
   "source": [
    "import sklearn\n",
    "from sklearn import svm, preprocessing\n",
    "\n",
    "# always shuffle your data to avoid any biases that may emerge b/c of some order.\n",
    "df = sklearn.utils.shuffle(df)\n",
    "\n",
    "X = df.drop(\"price\", axis=1).values\n",
    "X = preprocessing.scale(X)\n",
    "y = df[\"price\"].values\n",
    "\n",
    "test_size = 200\n",
    "\n",
    "X_train = X[:-test_size]\n",
    "y_train = y[:-test_size]\n",
    "\n",
    "X_test = X[-test_size:]\n",
    "y_test = y[-test_size:]\n",
    "\n",
    "clf = svm.SVR(kernel='linear')\n",
    "#clf = svm.SVR(kernel = 'rbf')\n",
    "\n",
    "clf.fit(X_train, y_train)\n",
    "print(clf.score(X_test, y_test))\n",
    "\n",
    "for X, y in list(zip(X_test, y_test))[:10]:\n",
    "    print(f\"model predicts {clf.predict([X])[0]}, real value: {y}\")"
   ]
  },
  {
   "cell_type": "code",
   "execution_count": null,
   "metadata": {},
   "outputs": [],
   "source": [
    "#import seaborn as sns\n",
    "import matplotlib.pyplot as plt\n",
    "sns.set(style=\"whitegrid\")\n",
    "\n",
    "# Initialize the matplotlib figure\n",
    "f, ax = plt.subplots(figsize=(6, 15))\n",
    "\n",
    "sns.set_color_codes(\"pastel\")\n",
    "p = sns.countplot(data=techs)\n",
    "\n",
    "#sns.barplot(x=\"MainBranch\", y=\"abbrev\", data=df, label=\"Count\", color=\"b\")\n",
    "\n",
    "\n",
    "# Plot the crashes where alcohol was involved\n",
    "# sns.set_color_codes(\"muted\")\n",
    "# sns.barplot(x=\"alcohol\", y=\"abbrev\", data=crashes,\n",
    "#            label=\"Alcohol-involved\", color=\"b\")\n",
    "\n",
    "# Add a legend and informative axis label\n",
    "#ax.legend(ncol=2, loc=\"lower right\", frameon=True)\n",
    "# ax.set(xlim=(0, 24), ylabel=\"\",\n",
    "#       xlabel=\"Automobile collisions per billion miles\")\n",
    "#sns.despine(left=True, bottom=True)"
   ]
  },
  {
   "cell_type": "code",
   "execution_count": null,
   "metadata": {},
   "outputs": [],
   "source": [
    "# Generate 1000 random values.\n",
    "x = np.random.normal(10, 5, 1000)\n",
    "y = np.random.normal(11, 10, 1000)\n",
    "# Plot them as a histogram.\n",
    "plt.hist(x)\n",
    "plt.show()  # Same data, this time normed, using density.\n",
    "plt.hist(x, density=True, color='blue', bins=np.arange(-10, 40), alpha=.5)\n",
    "plt.hist(y, density=True, color='red', bins=np.arange(-10, 40), alpha=.5)\n",
    "plt.title('Normed histograms')\n",
    "plt.xlabel('Random Values')\n",
    "\n",
    "plt.show()\n",
    "\n",
    "\n",
    "(data, column=None, by=None, grid=True,\n",
    "#  xlabelsize=None, xrot=None, ylabelsize=None,\n",
    "#  yrot=None, ax=None, sharex=False, sharey=False,\n",
    "#  figsize=None, layout=None, bins=10,\n",
    "\n",
    "\n",
    "print(set(df['region'].values.tolist()))\n",
    "\n",
    "region_df=df.copy()[df['region'] == region]\n",
    "\n",
    "\n",
    "graph_df=pd.DataFrame()\n",
    "\n",
    "for region in df['region'].unique():\n",
    "    region_df=df.copy()[df['region'] == region]\n",
    "    region_df.set_index('Date', inplace=True)\n",
    "    region_df.sort_index(inplace=True)\n",
    "    region_df[f\"{region}_price25ma\"]=region_df[\"AveragePrice\"].rolling(\n",
    "        25).mean()\n",
    "\n",
    "    if graph_df.empty:\n",
    "        # note the double square brackets! (so df rather than series)\n",
    "        graph_df=region_df[[f\"{region}_price25ma\"]]\n",
    "    else:\n",
    "        graph_df=graph_df.join(region_df[f\"{region}_price25ma\"])\n",
    "\n",
    "graph_df.tail()"
   ]
  },
  {
   "cell_type": "code",
   "execution_count": null,
   "metadata": {},
   "outputs": [],
   "source": [
    "# create figure and axis\n",
    "fig, ax = plt.subplots()\n",
    "# plot histogram\n",
    "\n",
    "\n",
    "ax.hist(desireDS, bins=30, alpha=0.3, density=True,\n",
    "        range={0, 1000000.}, color='r')\n",
    "# set title and labels\n",
    "ax.set_title('df')\n",
    "ax.set_xlabel('muney')\n",
    "ax.set_ylabel('Frequency')\n",
    "ax.hist(desireDev, bins=30, alpha=0.3, density=True,\n",
    "        range={0, 1000000.}, color='b')\n",
    "\n",
    "\n",
    "# Initialize the matplotlib figure\n",
    "f, ax = plt.subplots(figsize=(6, 15))\n",
    "\n",
    "sns.set_color_codes(\"pastel\")\n",
    "p = sns.countplot(data=df, x='MainBranch')\n",
    "\n",
    "p = sns.countplot(data=df,\n",
    "                  y='Category',\n",
    "                  hue='DSorDV')\n",
    "\n",
    "\n",
    "# Plot the total crashes\n",
    "# sns.barplot(x=\"MainBranch\", y=\"abbrev\", data=df, label=\"Count\", color=\"b\")\n",
    "\n",
    "# Plot the crashes where alcohol was involved\n",
    "# sns.set_color_codes(\"muted\")\n",
    "# sns.barplot(x=\"alcohol\", y=\"abbrev\", data=crashes,\n",
    "#            label=\"Alcohol-involved\", color=\"b\")\n",
    "\n",
    "# Add a legend and informative axis label\n",
    "# ax.legend(ncol=2, loc=\"lower right\", frameon=True)\n",
    "# ax.set(xlim=(0, 24), ylabel=\"\",\n",
    "#       xlabel=\"Automobile collisions per billion miles\")\n",
    "sns.despine(left=True, bottom=True)\n",
    "\n",
    "# Databases, Platforms, and Misc Tech\n",
    "\n",
    "      `DatabaseWorkedWith`, `DatabaseDesireNextYear`,\n",
    "     `MiscTechWorkedWith`,`MiscTechDesireNextYear`, \n",
    "     `PlatformWorkedWith`, `PlatformDesireNextYear`,"
   ]
  },
  {
   "cell_type": "code",
   "execution_count": null,
   "metadata": {},
   "outputs": [],
   "source": [
    "df.pivot_table(['Total day calls', 'Total eve calls', 'Total night calls'],\n",
    "               ['Area code'], aggfunc='mean')\n",
    "\n",
    "pd.crosstab(df['Churn'], df['Voice mail plan'], normalize=True)\n",
    "\n",
    "\n",
    "# Plotting a bar graph of the number of stores in each city, for the first ten cities listed\n",
    "# in the column 'City'\n",
    "city_count = df['City'].value_counts()\n",
    "city_count = city_count[:10, ]\n",
    "plt.figure(figsize=(10, 5))\n",
    "sns.barplot(city_count.index, city_count.values, alpha=0.8)\n",
    "plt.title('Starbucks in top 10 cities in the World')\n",
    "plt.ylabel('Number of Occurrences', fontsize=12)\n",
    "plt.xlabel('city', fontsize=12)\n",
    "plt.show()"
   ]
  },
  {
   "cell_type": "markdown",
   "metadata": {},
   "source": [
    "# DEPRICATED CODE \n",
    "\n",
    "Moved these munging/wrangling items to the bottom for sake of sharing"
   ]
  },
  {
   "cell_type": "markdown",
   "metadata": {},
   "source": [
    "### zero order sanity checks\n",
    "First lets see what features are in here, and see how complete it is... empty (`NaN`) entries...  complete columns... and columns with lots of missing data. "
   ]
  },
  {
   "cell_type": "code",
   "execution_count": null,
   "metadata": {},
   "outputs": [],
   "source": [
    "# what pct of of empty entries..\n",
    "(100 * df.isna().sum() / df.shape[0]).describe()"
   ]
  },
  {
   "cell_type": "code",
   "execution_count": null,
   "metadata": {},
   "outputs": [],
   "source": [
    "# check columns with no missing values\n",
    "set(df.isna().sum()[df.isna().sum() == 0].keys())"
   ]
  },
  {
   "cell_type": "code",
   "execution_count": null,
   "metadata": {},
   "outputs": [],
   "source": [
    "# check which columns have over 50% missing values\n",
    "sum(df.columns[100*df.isna().sum()/df.shape[0] > 50])"
   ]
  }
 ],
 "metadata": {
  "kernelspec": {
   "display_name": "Python 3",
   "language": "python",
   "name": "python3"
  },
  "language_info": {
   "codemirror_mode": {
    "name": "ipython",
    "version": 3
   },
   "file_extension": ".py",
   "mimetype": "text/x-python",
   "name": "python",
   "nbconvert_exporter": "python",
   "pygments_lexer": "ipython3",
   "version": "3.7.3"
  },
  "toc": {
   "base_numbering": 1,
   "nav_menu": {},
   "number_sections": true,
   "sideBar": true,
   "skip_h1_title": false,
   "title_cell": "Table of Contents",
   "title_sidebar": "Contents",
   "toc_cell": false,
   "toc_position": {
    "height": "calc(100% - 180px)",
    "left": "10px",
    "top": "150px",
    "width": "540.365px"
   },
   "toc_section_display": true,
   "toc_window_display": true
  },
  "varInspector": {
   "cols": {
    "lenName": 16,
    "lenType": 16,
    "lenVar": 40
   },
   "kernels_config": {
    "python": {
     "delete_cmd_postfix": "",
     "delete_cmd_prefix": "del ",
     "library": "var_list.py",
     "varRefreshCmd": "print(var_dic_list())"
    },
    "r": {
     "delete_cmd_postfix": ") ",
     "delete_cmd_prefix": "rm(",
     "library": "var_list.r",
     "varRefreshCmd": "cat(var_dic_list()) "
    }
   },
   "position": {
    "height": "840.984px",
    "left": "265.141px",
    "right": "20px",
    "top": "61.875px",
    "width": "800px"
   },
   "types_to_exclude": [
    "module",
    "function",
    "builtin_function_or_method",
    "instance",
    "_Feature"
   ],
   "window_display": false
  }
 },
 "nbformat": 4,
 "nbformat_minor": 2
}
