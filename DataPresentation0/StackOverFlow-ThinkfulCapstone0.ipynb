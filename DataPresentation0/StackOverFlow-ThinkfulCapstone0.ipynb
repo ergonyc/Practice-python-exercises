{
 "cells": [
  {
   "cell_type": "markdown",
   "metadata": {},
   "source": [
    "## [SIMPLIFIED] StackOverFlow Developer Survey Analysis"
   ]
  },
  {
   "cell_type": "code",
   "execution_count": 1,
   "metadata": {
    "slideshow": {
     "slide_type": "slide"
    }
   },
   "outputs": [],
   "source": [
    "import pandas as pd\n",
    "from pathlib import Path\n",
    "from datetime import datetime\n",
    "import requests\n",
    "import zipfile\n",
    "import shutil\n",
    "import os\n",
    "\n",
    "import numpy as np\n",
    "import matplotlib.pyplot as plt"
   ]
  },
  {
   "cell_type": "code",
   "execution_count": 2,
   "metadata": {},
   "outputs": [],
   "source": [
    "# filter the warning for now on\n",
    "#import warnings\n",
    "#warnings.simplefilter(\"ignore\", DeprecationWarning)\n",
    "\n",
    "# new way to create an ordered category\n",
    "from pandas.api.types import CategoricalDtype"
   ]
  },
  {
   "cell_type": "markdown",
   "metadata": {},
   "source": [
    "## OVERVIEW"
   ]
  },
  {
   "cell_type": "markdown",
   "metadata": {},
   "source": [
    "As the business world adapts to the massive disrutption of internet and the consumer epxectations driven by unleashed by the first movers and innovators in Tech, DATA SCIENTISTS have become hightly sought after.  This has made it a very attractive career building on the customs and tools pioneered by individuals in Academic Science and Computer Programming disciplines. \n",
    "\n",
    "Data Science is a hot field; however, are the people doing \"the best job in America\" really any different from other developers?  Lets use the annual Stack Overflow Developers Survey to try and find out.\n"
   ]
  },
  {
   "cell_type": "markdown",
   "metadata": {},
   "source": [
    "---\n",
    "## DATASET Description:\n",
    "\n",
    "The data set is the full, cleaned results of the 2019 Stack Overflow Developer Survey, downloaded from: <https://insights.stackoverflow.com/survey>.   The survey was fielded from January 23 to February 14, 2019. The median time spent on the survey for qualified responses was 23.3 minutes.  Unfortunately, free response submissions and personally identifying information have been removed from the pubicly available data in order to protect the privacy of respondents. \n",
    "\n",
    "Respondents were recruited primarily through channels owned by Stack Overflow. The top 5 sources of respondents were onsite messaging, blog posts, email lists, Meta posts, banner ads, and social media posts. Since respondents were recruited in this way, highly engaged users on Stack Overflow were more likely to notice the links for the survey and click to begin it. This community is _highly_ biased compared with the general population.  Heavy on white males from the US.\n"
   ]
  },
  {
   "cell_type": "markdown",
   "metadata": {},
   "source": [
    "\n",
    "### Data Files\n",
    "\n",
    "There two files of interest are a CSV table of results, and a schema table containing the questions.   For theis analysis we'll just need the survey.csv which we will download and save to a local file re-coded by the year in case we want to look at additional years of data in the future."
   ]
  },
  {
   "cell_type": "code",
   "execution_count": 3,
   "metadata": {},
   "outputs": [],
   "source": [
    "today = datetime.today()\n",
    "survey_year = 2019\n",
    "# in case we want to reuse code for other years\n",
    "in_file = Path.cwd() / 'data' / 'raw' / f'survey{survey_year}.csv'\n",
    "# this is where our cleaned up file will put put\n",
    "summary_file = Path.cwd() / 'data' / 'processed' / 'summary_{today:%b-%d-%Y}.pkl'"
   ]
  },
  {
   "cell_type": "code",
   "execution_count": 4,
   "metadata": {},
   "outputs": [],
   "source": [
    "# download the data if its not in the local directory\n",
    "if not os.path.exists(in_file):\n",
    "    # put these here in case we want to look at any other years...\n",
    "    url = 'https://drive.google.com/uc?export=download&id=1QOmVDpd8hcVYqqUXDXf68UMDWQZP0wQV'\n",
    "    survey_filename = 'survey_results_public.csv'\n",
    "    questions_filename = 'survey_results_schema.csv'\n",
    "    print('Downloading {} survey'.format(survey_year))\n",
    "\n",
    "    request = requests.get(url)\n",
    "    with open('survey.zip', 'wb') as file:\n",
    "        file.write(request.content)\n",
    "\n",
    "    print('Unzipping {} survey'.format(survey_year))\n",
    "    with zipfile.ZipFile(\"survey.zip\", \"r\") as file:\n",
    "        file.extractall(\"data/external/\")\n",
    "\n",
    "    print('Moving {} survey'.format(year))\n",
    "    shutil.copytree('data/external', 'data/raw')\n",
    "    shutil.copy('data/external/' + survey_filename,\n",
    "                'data/raw/survey{}.csv'.format(survey_year))\n",
    "    shutil.copy('data/external/' + questions_filename,\n",
    "                'data/raw/schema{}.csv'.format(survey_year))\n",
    "\n",
    "    print('cleaning up')\n",
    "    os.remove('survey.zip')"
   ]
  },
  {
   "cell_type": "markdown",
   "metadata": {},
   "source": [
    "---\n",
    "##  OUTLINE\n",
    "\n",
    "- 0: OVERVIEW\n",
    "- 1: EXPLORE & FRAME \n",
    "    - Clean and Simplify Data \n",
    "        - Convert objects to category\n",
    "        - derive some features \n",
    "    - describe & Plot\n",
    "    \n",
    "- 2: RESEARCH QUESTIONS\n",
    "    - Are Data Scientists different? \n",
    "    \n",
    "- 3: SUMMARRY AND NEXT STEPS\n",
    "    - so what?\n"
   ]
  },
  {
   "cell_type": "markdown",
   "metadata": {},
   "source": [
    "# EXPLORE \n",
    "\n",
    "## Describe the Data.\n",
    "\n",
    "Lets look at what we have and what features we want to probe Data Scientists for.\n",
    "\n",
    "\n",
    ">> Describe and explore your dataset in the initial section of your Report. What does your data contain and what is its background? Where does it come from? Why is it interesting or significant? Conduct summary statistics and produce visualizations for the particular variables from the dataset that you will use.    \n",
    "    \n",
    "    "
   ]
  },
  {
   "cell_type": "code",
   "execution_count": 5,
   "metadata": {},
   "outputs": [
    {
     "data": {
      "text/plain": [
       "Index(['MainBranch', 'Hobbyist', 'OpenSourcer', 'OpenSource', 'Employment',\n",
       "       'Country', 'Student', 'EdLevel', 'UndergradMajor', 'EduOther',\n",
       "       'OrgSize', 'DevType', 'YearsCode', 'Age1stCode', 'YearsCodePro',\n",
       "       'CareerSat', 'JobSat', 'MgrIdiot', 'MgrMoney', 'MgrWant', 'JobSeek',\n",
       "       'LastHireDate', 'LastInt', 'FizzBuzz', 'JobFactors', 'ResumeUpdate',\n",
       "       'CurrencySymbol', 'CurrencyDesc', 'CompTotal', 'CompFreq',\n",
       "       'ConvertedComp', 'WorkWeekHrs', 'WorkPlan', 'WorkChallenge',\n",
       "       'WorkRemote', 'WorkLoc', 'ImpSyn', 'CodeRev', 'CodeRevHrs', 'UnitTests',\n",
       "       'PurchaseHow', 'PurchaseWhat', 'LanguageWorkedWith',\n",
       "       'LanguageDesireNextYear', 'DatabaseWorkedWith',\n",
       "       'DatabaseDesireNextYear', 'PlatformWorkedWith',\n",
       "       'PlatformDesireNextYear', 'WebFrameWorkedWith',\n",
       "       'WebFrameDesireNextYear', 'MiscTechWorkedWith',\n",
       "       'MiscTechDesireNextYear', 'DevEnviron', 'OpSys', 'Containers',\n",
       "       'BlockchainOrg', 'BlockchainIs', 'BetterLife', 'ITperson', 'OffOn',\n",
       "       'SocialMedia', 'Extraversion', 'ScreenName', 'SOVisit1st',\n",
       "       'SOVisitFreq', 'SOVisitTo', 'SOFindAnswer', 'SOTimeSaved',\n",
       "       'SOHowMuchTime', 'SOAccount', 'SOPartFreq', 'SOJobs', 'EntTeams',\n",
       "       'SOComm', 'WelcomeChange', 'SONewContent', 'Age', 'Gender', 'Trans',\n",
       "       'Sexuality', 'Ethnicity', 'Dependents', 'SurveyLength', 'SurveyEase'],\n",
       "      dtype='object')"
      ]
     },
     "execution_count": 5,
     "metadata": {},
     "output_type": "execute_result"
    }
   ],
   "source": [
    "# beware that the Respondent ids start at 1\n",
    "df = pd.read_csv(in_file, index_col='Respondent')\n",
    "# Print column name\n",
    "df.columns\n"
   ]
  },
  {
   "cell_type": "markdown",
   "metadata": {},
   "source": [
    "The dataframe is nice and tidy:  no empty columns, mostly self-explanatory column names, etc. Only the columns resulting from multi-selections will be tricky.  These contain strings with semicolon separated values specifyng the selections.\n",
    "\n",
    "---\n",
    "First lets look at `MainBranch` which tells us \"who\" the respondents are --  Professional Developer, Student, Occational coder, Hobbiest, or retired Developer -- and then limit our scope to Professinals."
   ]
  },
  {
   "cell_type": "code",
   "execution_count": 6,
   "metadata": {
    "scrolled": false
   },
   "outputs": [
    {
     "data": {
      "text/plain": [
       "<matplotlib.axes._subplots.AxesSubplot at 0x7fcb1153f2b0>"
      ]
     },
     "execution_count": 6,
     "metadata": {},
     "output_type": "execute_result"
    },
    {
     "data": {
      "image/png": "[encoded data removed]",
      "text/plain": [
       "<Figure size 432x288 with 1 Axes>"
      ]
     },
     "metadata": {
      "needs_background": "light"
     },
     "output_type": "display_data"
    }
   ],
   "source": [
    "df['MainBranch'].value_counts().plot('barh')"
   ]
  },
  {
   "cell_type": "code",
   "execution_count": 7,
   "metadata": {},
   "outputs": [],
   "source": [
    "# filter our respondents to be Professionals\n",
    "df = df[df['MainBranch'] == 'I am a developer by profession']\n"
   ]
  },
  {
   "cell_type": "code",
   "execution_count": 8,
   "metadata": {
    "scrolled": true
   },
   "outputs": [
    {
     "name": "stdout",
     "output_type": "stream",
     "text": [
      "The dataset contains 65679 rows and 84 columns.\n"
     ]
    }
   ],
   "source": [
    "print('The dataset contains', df.shape[0], 'rows and', df.shape[1], 'columns.')\n"
   ]
  },
  {
   "cell_type": "code",
   "execution_count": 9,
   "metadata": {},
   "outputs": [],
   "source": [
    "#convert dtypes to categories for the features we want to analyze...\n",
    "convert_to_cat = ['MainBranch', 'Gender', 'Trans', 'Sexuality', 'Ethnicity', 'Dependents', 'Student', 'UndergradMajor',\n",
    "                  'Employment',  'OrgSize',\n",
    "                  'CareerSat', 'BlockchainOrg', 'OpSys', 'OpenSourcer',\n",
    "                  'MgrIdiot', 'MgrMoney', 'MgrWant', 'BlockchainIs', 'BetterLife', 'ITperson', 'OffOn', 'ScreenName', 'SocialMedia', 'Extraversion',\n",
    "                  'SurveyLength', 'SurveyEase', 'Hobbyist']\n",
    "\n",
    "for col_name in convert_to_cat:\n",
    "    if(df[col_name].dtype == 'object'):\n",
    "        df[col_name] = df[col_name].astype('category')\n",
    "        # df.loc[:,col_name] = df[col_name].cat.codes  # could do this to make everything ready for ML"
   ]
  },
  {
   "cell_type": "code",
   "execution_count": 10,
   "metadata": {},
   "outputs": [
    {
     "name": "stdout",
     "output_type": "stream",
     "text": [
      "The dataset contains 65679 rows and 84 columns.\n"
     ]
    }
   ],
   "source": [
    "# Convert these to ordered categories\n",
    "# Education\n",
    "edlevel_cat = CategoricalDtype(['I never completed any formal education',\n",
    "                                'Primary/elementary school',\n",
    "                                'Secondary school (e.g. American high school, German Realschule or Gymnasium, etc.)',\n",
    "                                'Some college/university study without earning a degree',\n",
    "                                'Associate degree',\n",
    "                                'Bachelor’s degree (BA, BS, B.Eng., etc.)',\n",
    "                                'Master’s degree (MA, MS, M.Eng., MBA, etc.)',\n",
    "                                'Professional degree (JD, MD, etc.)',\n",
    "                                'Other doctoral degree (Ph.D, Ed.D., etc.)'], ordered=True)\n",
    "\n",
    "df['EdLevel'] = df.EdLevel.astype(edlevel_cat)\n",
    "\n",
    "# OpenSource . Higher, same lower\n",
    "opensource_cat = CategoricalDtype(['OSS is, on average, of HIGHER quality than proprietary / closed source software',\n",
    "                                   'The quality of OSS and closed source software is about the same',\n",
    "                                   'OSS is, on average, of LOWER quality than proprietary / closed source software', ], ordered=True)\n",
    "df['OpenSource'] = df.OpenSource.astype(opensource_cat)\n",
    "\n",
    "# career satisfaction / job satisfaction\\\n",
    "careersat_cat = CategoricalDtype(['Very dissatisfied',\n",
    "                                  'Slightly dissatisfied',\n",
    "                                  'Neither satisfied nor dissatisfied',\n",
    "                                  'Slightly satisfied',\n",
    "                                  'Very satisfied'], ordered=True)\n",
    "df['CareerSat'] = df.CareerSat.astype(careersat_cat)\n",
    "\n",
    "jobsat_cat = CategoricalDtype(['Very dissatisfied',\n",
    "                               'Slightly dissatisfied',\n",
    "                               'Neither satisfied nor dissatisfied',\n",
    "                               'Slightly satisfied',\n",
    "                               'Very satisfied'], ordered=True)\n",
    "df['JobSat'] = df.JobSat.astype(jobsat_cat)\n",
    "\n",
    "# competence\n",
    "impsyn_cat = CategoricalDtype(['Far below average',\n",
    "                               'A little below average',\n",
    "                               'Average',\n",
    "                               'A little above average',\n",
    "                               'Far above average'], ordered=True)\n",
    "df['ImpSyn'] = df.ImpSyn.astype(impsyn_cat)\n",
    "\n",
    "print('The dataset contains', df.shape[0], 'rows and', df.shape[1], 'columns.')"
   ]
  },
  {
   "cell_type": "markdown",
   "metadata": {},
   "source": [
    "### Find our developer types\n",
    "\n",
    "(is there a better name for this ?)\n",
    "\n",
    "- KEEP PROFESSIONALS ONLY.  Dropped students and \"other\"\n",
    "- CREATE TYPES\n",
    "    - DataScientist\n",
    "    - Non-DataScientists Developers \n",
    "    - xOR and Other    \n",
    "        - Traditional Developers - not mutually exclusive from DataScientists since \n",
    "        - DataScients who are also \"traditional\" developers\n",
    "        - Other: Developers who are not \"traditional\" developers or data scientsis"
   ]
  },
  {
   "cell_type": "markdown",
   "metadata": {},
   "source": [
    "As we are interested in comparing data scientists to non-data scientists, we need to be able to differentiate between the two. This is done using the `DevType` field. As a result, we should drop any rows where this field is missing, since we can't determine which subset these rows fit into.\n"
   ]
  },
  {
   "cell_type": "code",
   "execution_count": 11,
   "metadata": {},
   "outputs": [
    {
     "name": "stdout",
     "output_type": "stream",
     "text": [
      "we have 8057 DataScientists and 61987 traditional Developers in our professional Developers database\n"
     ]
    }
   ],
   "source": [
    "# Create data scientist and non-data scientist subsets.\n",
    "# data scientists are defined as \"Data or business analyst\",Engineer, Data\",\n",
    "#       \"Data scientist or machine learning specialist\"\n",
    "# Database administrator or Scientist\n",
    "\n",
    "# developer is \"Developer, {fullstack, game or graphics, mobile, QA or test}\"\n",
    "# exclude database administrator by having space after data\n",
    "data_scientist = df['DevType'].str.contains(\n",
    "        '|'.join(['data ', 'scientist']), case=False, na=False, regex=True).copy()  # data scientists / analists / Data engineers\n",
    "\n",
    "# data = df['DevType'].str.contains('data', case=False, na=False, regex=True).copy() #data scientists / analists / Data engineers\n",
    "developer = df['DevType'].str.contains(\n",
    "        'developer', case=False, na=False, regex=True).copy()  # all types of developers\n",
    "\n",
    "\n",
    "print('we have {} DataScientists and {} traditional Developers in our professional Developers database'.format(\n",
    "          data_scientist.sum(), developer.sum()))"
   ]
  },
  {
   "cell_type": "code",
   "execution_count": 162,
   "metadata": {},
   "outputs": [
    {
     "data": {
      "text/html": [
       "<div>\n",
       "<style scoped>\n",
       "    .dataframe tbody tr th:only-of-type {\n",
       "        vertical-align: middle;\n",
       "    }\n",
       "\n",
       "    .dataframe tbody tr th {\n",
       "        vertical-align: top;\n",
       "    }\n",
       "\n",
       "    .dataframe thead th {\n",
       "        text-align: right;\n",
       "    }\n",
       "</style>\n",
       "<table border=\"1\" class=\"dataframe\">\n",
       "  <thead>\n",
       "    <tr style=\"text-align: right;\">\n",
       "      <th></th>\n",
       "      <th>isDS</th>\n",
       "      <th>notDS</th>\n",
       "      <th>isDev</th>\n",
       "      <th>DSonly</th>\n",
       "      <th>DSandDev</th>\n",
       "      <th>otherDev</th>\n",
       "      <th>DSorNOT</th>\n",
       "    </tr>\n",
       "  </thead>\n",
       "  <tbody>\n",
       "    <tr>\n",
       "      <th>mean</th>\n",
       "      <td>0.122672</td>\n",
       "      <td>0.877328</td>\n",
       "      <td>0.943787</td>\n",
       "      <td>0.019808</td>\n",
       "      <td>0.102864</td>\n",
       "      <td>0.036404</td>\n",
       "      <td>0.122672</td>\n",
       "    </tr>\n",
       "    <tr>\n",
       "      <th>sum</th>\n",
       "      <td>8057.000000</td>\n",
       "      <td>57622.000000</td>\n",
       "      <td>61987.000000</td>\n",
       "      <td>1301.000000</td>\n",
       "      <td>6756.000000</td>\n",
       "      <td>2391.000000</td>\n",
       "      <td>8057.000000</td>\n",
       "    </tr>\n",
       "  </tbody>\n",
       "</table>\n",
       "</div>"
      ],
      "text/plain": [
       "             isDS         notDS         isDev       DSonly     DSandDev  \\\n",
       "mean     0.122672      0.877328      0.943787     0.019808     0.102864   \n",
       "sum   8057.000000  57622.000000  61987.000000  1301.000000  6756.000000   \n",
       "\n",
       "         otherDev      DSorNOT  \n",
       "mean     0.036404     0.122672  \n",
       "sum   2391.000000  8057.000000  "
      ]
     },
     "execution_count": 162,
     "metadata": {},
     "output_type": "execute_result"
    }
   ],
   "source": [
    "# make some expository columns\n",
    "df.loc[:, 'isDS'] = data_scientist\n",
    "df.loc[:, 'isDev'] = developer\n",
    "df.loc[:, 'notDS'] = ~data_scientist\n",
    "df.loc[:, 'DSonly'] = data_scientist & ~developer\n",
    "df.loc[:, 'DSandDev'] = data_scientist & developer\n",
    "df.loc[:, 'otherDev'] = ~data_scientist & ~ developer\n",
    "df.loc[:, 'DSorNOT'] = np.nan\n",
    "df.loc[data_scientist,'DSorNOT'] = 1.0\n",
    "df.loc[~data_scientist,'DSorNOT'] = 0.0\n",
    "\n",
    "\n",
    "df[['isDS','notDS','isDev','DSonly','DSandDev','otherDev','DSorNOT']].agg(['mean','sum'])\n"
   ]
  },
  {
   "cell_type": "code",
   "execution_count": 20,
   "metadata": {},
   "outputs": [
    {
     "data": {
      "text/plain": [
       "Respondent\n",
       "4     0.0\n",
       "5     0.0\n",
       "7     0.0\n",
       "9     0.0\n",
       "10    1.0\n",
       "Name: DSorNOT, dtype: float64"
      ]
     },
     "execution_count": 20,
     "metadata": {},
     "output_type": "execute_result"
    }
   ],
   "source": [
    "df.DSorNOT.head()"
   ]
  },
  {
   "cell_type": "markdown",
   "metadata": {},
   "source": [
    "Nothing surprising here:  Our set of developers tend to be white dudes from the US"
   ]
  },
  {
   "cell_type": "markdown",
   "metadata": {},
   "source": [
    "### categorical variables\n",
    "# Research Questions\n",
    "\n",
    "\n",
    "In order to explore whether the cohort of Data Scientists are different from traditional Developers lets explore their DEMOGRAPHICS, their SKILLS, and some ATTITUDES/CULTURAL probes. \n",
    "\n",
    "\n",
    "\n",
    "2. Ask and answer analytic questions. Ask three analytic questions and answer each one with a combination of statistics and visualizations. These analytic questions can focus on individuals behaviors or comparisons of the population.\n",
    "\n"
   ]
  },
  {
   "cell_type": "markdown",
   "metadata": {},
   "source": [
    "We can lump the variables into a few rough categories:  _DEMOGRAPHIC_, _WORK_ , _CODING_, _ATTITUDINAL_ (personal), _STACKOVERFLOW_, and _MISC_.  We'll focus in on DEMOGRAPHICS, CODING, and ATTITUDINAL features.  Features of most interest are `tagged` below.\n",
    "\n",
    "> _DEMOGRAPHIC_ - `MainBranch`, `Age`, `Gender`, `Trans','Sexuality', 'Ethnicity', 'Dependents', 'Country', 'Student', 'EdLevel', 'UndergradMajor`, 'EduOther, \n",
    "\n",
    "> _ATTITUDINAL_ (personal/cultural) -  `ImpSyn'(personal competence), 'CareerSat', 'JobSat', 'MgrIdiot', 'MgrMoney', 'MgrWant', 'JobFactors', 'BlockchainIs', 'BetterLife', 'ITperson', 'OffOn',  'SocialMedia', 'Extraversion', 'ScreenName', 'OpenSource`  \n",
    "\n",
    "> _WORK_ related - `ConvertedComp',  'WorkWeekHrs' 'Employment', 'OrgSize`, (also:  'JobSeek', 'LastHireDate', 'LastInt',  'ResumeUpdate',   'CompTotal',    'CurrencySymbol', 'CurrencyDesc', 'CompTotal', 'CompFreq',, 'WorkPlan', 'WorkChallenge', 'WorkRemote', 'WorkLoc', 'CodeRev', 'CodeRevHrs', 'UnitTests','PurchaseHow', 'PurchaseWhat', \n",
    "       \n",
    "> _SKILLS_ related -  `YearsCode', 'Age1stCode`, `YearsCodePro`,`OpenSourcer', 'DevType',  'LanguageWorkedWith', 'LanguageDesireNextYear','DevEnviron', 'OpSys', 'Containers', 'DatabaseWorkedWith', 'DatabaseDesireNextYear', 'PlatformWorkedWith',   'PlatformDesireNextYear',  MiscTechWorkedWith', 'MiscTechDesireNextYear', 'BlockchainOrg`, ( \n",
    "       'WebFrameWorkedWith',     'WebFrameDesireNextYear', 'FizzBuzz')\n",
    "    \n",
    "> *MISC* - `Hobbyist', 'SurveyLength', 'SurveyEase`\n",
    "      \n",
    "> _STACKOVERFLOW_ specific -  Ignore all these ('SOVisit1st','SOVisitFreq', 'SOVisitTo', 'SOFindAnswer', 'SOTimeSaved',       'SOHowMuchTime', 'SOAccount', 'SOPartFreq', 'SOJobs', 'EntTeams',       'SOComm', 'WelcomeChange', 'SONewContent')\n",
    "    \n",
    "So lets keep DEMOGRAPHIC, some WORK related, CODING, and MISC for further analysis.\n",
    "\n",
    "The motivation behind this analysis is to explore how data scientists compare with non-data scientist developers (\"non-data scientists\"). Consequently, we set out to answer the following questions:\n",
    "\n",
    "1. Are there demographic differences?  Hypothesis:  higher educated and more likely from math/science than computer/tech.  Intuition also dictates that DS are younger and less experienced.\n",
    "2. Are their attitudes different? \n",
    "3. Are their skills and work situations different?\n",
    "3. Can we predict if a developer professional developer is a Data Scientist?\n",
    "       \n",
    "        "
   ]
  },
  {
   "cell_type": "code",
   "execution_count": 13,
   "metadata": {},
   "outputs": [],
   "source": [
    "# df.columns\n",
    "# Drop unnecessary columns\n",
    "demographic_cols = ['MainBranch', 'Age', 'Gender', 'Trans', 'Sexuality', 'Ethnicity',\n",
    "                    'Dependents', 'Country', 'Student', 'EdLevel', 'UndergradMajor']#, 'EduOther']\n",
    "\n",
    "attitude_cols = ['ImpSyn', 'CareerSat', 'JobSat', 'MgrIdiot', 'MgrMoney', 'MgrWant', 'JobFactors',\n",
    "                 'BlockchainIs', 'BetterLife', 'ITperson', 'OffOn',  'SocialMedia', 'Extraversion', \n",
    "                 'ScreenName', 'OpenSource']\n",
    "\n",
    "work_cols = ['ConvertedComp',  'WorkWeekHrs' 'Employment', 'OrgSize']#, \n",
    "             #'JobSeek', 'LastHireDate', 'LastInt', 'ResumeUpdate',   \n",
    "             #'CompTotal', 'CurrencySymbol','CurrencyDesc', 'CompTotal', 'CompFreq', \n",
    "             #'WorkPlan', 'WorkChallenge', 'WorkRemote', 'WorkLoc', 'CodeRev', 'CodeRevHrs', 'UnitTests', \n",
    "             #'PurchaseHow', 'PurchaseWhat']\n",
    "\n",
    "#keep all of these\n",
    "skills_cols = ['YearsCode', 'Age1stCode', 'YearsCodePro', 'OpenSourcer', 'DevType',  'LanguageWorkedWith', \n",
    "               'LanguageDesireNextYear', 'DevEnviron', 'OpSys', 'Containers','BlockchainOrg','FizzBuzz',\n",
    "               'DatabaseWorkedWith', 'DatabaseDesireNextYear', 'PlatformWorkedWith',   'PlatformDesireNextYear',  \n",
    "               'MiscTechWorkedWith', 'MiscTechDesireNextYear', 'WebFrameWorkedWith','WebFrameDesireNextYear']\n",
    "\n",
    "misc_cols = ['Hobbyist', 'SurveyLength', 'SurveyEase']\n",
    "\n",
    "# drop all of these\n",
    "stackoverflow_cols=['SOVisit1st', 'SOVisitFreq', 'SOVisitTo', 'SOFindAnswer', 'SOTimeSaved', 'SOHowMuchTime',\n",
    "                   'SOAccount', 'SOPartFreq', 'SOJobs', 'EntTeams', 'SOComm', 'WelcomeChange', 'SONewContent']\n",
    "\n",
    "# added columns\n",
    "types_cols = ['isDS','notDS','isDev','DSonly','DSandDev','otherDev']\n",
    "\n",
    "drop_cols = ['JobSeek', 'LastHireDate', 'LastInt', 'ResumeUpdate',\n",
    "             'CompTotal', 'CurrencySymbol','CurrencyDesc', 'CompTotal', 'CompFreq',\n",
    "             'WorkPlan', 'WorkChallenge', 'WorkRemote', 'WorkLoc', 'CodeRev', 'CodeRevHrs', 'UnitTests', \n",
    "             'PurchaseHow', 'PurchaseWhat',\n",
    "             'EduOther','SOVisit1st', 'SOVisitFreq', 'SOVisitTo', 'SOFindAnswer','SOTimeSaved', 'SOHowMuchTime',\n",
    "             'SOAccount', 'SOPartFreq', 'SOJobs', 'EntTeams', 'SOComm', 'WelcomeChange', 'SONewContent']\n",
    "\n",
    "df = df.drop(drop_cols,axis=1)\n",
    "\n",
    "#df = df[keep_columns]"
   ]
  },
  {
   "cell_type": "code",
   "execution_count": 14,
   "metadata": {},
   "outputs": [],
   "source": [
    "def plot_dev_vs_df(df_dev, df_ds, title_text, xlimit, ylabel_text):\n",
    "\n",
    "    fig = plt.figure(figsize=(15, 12))\n",
    "    grid_size = (10, 10)  # lets space stuff out...\n",
    "    SOURCE_TEXT = 'Source: StackOverFlow Dev survey, 2019'\n",
    "\n",
    "    #title_text = 'language LOVE (use now AND want to use it next year'\n",
    "    #xlimit = {0,95} #\n",
    "\n",
    "    xlabel_text = 'Incidence (pct)'\n",
    "\n",
    "    # Place A Title On The Figure\n",
    "    fig.text(x=0.995, y=0.02, s=SOURCE_TEXT, verticalalignment='bottom',\n",
    "             rotation='vertical', color='#524939')\n",
    "    # Overlay multiple plots onto the same axis, which spans 1 entire column of the figure\n",
    "    tall_left_ax = plt.subplot2grid(grid_size, (1, 1), colspan=3, rowspan=9)\n",
    "    tall_right_ax = plt.subplot2grid(grid_size, (1, 6), colspan=3, rowspan=9)\n",
    "\n",
    "    #ax1 = lang_pct.plot.barh(ax=tall_left_ax,legend=False, title='All Respondents',label='xxx',x='string',y='lang')\n",
    "    ax1 = df_dev.plot.barh(ax=tall_left_ax, \n",
    "                           legend=False, \n",
    "                           title='Developers').set(xlabel=xlabel_text, ylabel=ylabel_text, xlim=xlimit)\n",
    "    ax2 = df_ds.plot.barh(ax=tall_right_ax, \n",
    "                          legend=False, \n",
    "                          title='Data Scientists').set(xlabel=xlabel_text, xlim=xlimit)\n",
    "    # plt.tight_layout()\n",
    "    plt.suptitle(title_text, fontsize=22)\n",
    "    # should also move the ylabels to the right side for the second plot..."
   ]
  },
  {
   "cell_type": "code",
   "execution_count": 72,
   "metadata": {},
   "outputs": [],
   "source": [
    "def plot_2col(df_dev, df_ds, title_text, xlimit, xlabel_text, ylabel_text, ptype):\n",
    "\n",
    "    fig = plt.figure(figsize=(15, 12))\n",
    "    grid_size = (10, 10)  # lets space stuff out...\n",
    "    SOURCE_TEXT = 'Source: StackOverFlow Dev survey, 2019'\n",
    "\n",
    " \n",
    "    # Place A Title On The Figure\n",
    "    fig.text(x=0.995, y=0.02, s=SOURCE_TEXT, verticalalignment='bottom',\n",
    "             rotation='vertical', color='#524939')\n",
    "    # Overlay multiple plots onto the same axis, which spans 1 entire column of the figure\n",
    "    tall_left_ax = plt.subplot2grid(grid_size, (1, 1), colspan=3, rowspan=9)\n",
    "    tall_right_ax = plt.subplot2grid(grid_size, (1, 6), colspan=3, rowspan=9)\n",
    "\n",
    "    if ptype == 'barh':\n",
    "        #ax1 = lang_pct.plot.barh(ax=tall_left_ax,legend=False, title='All Respondents',label='xxx',x='string',y='lang')\n",
    "        ax1 = df_dev.plot.barh(ax=tall_left_ax, \n",
    "                               legend=False, title='Developers').set(xlabel=xlabel_text,\n",
    "                                                                     ylabel=ylabel_text, \n",
    "                                                                     xlim=xlimit)\n",
    "        ax2 = df_ds.plot.barh(ax=tall_right_ax, \n",
    "                              legend=False, \n",
    "                              title='Data Scientists').set(xlabel=xlabel_text, \n",
    "                                                               xlim=xlimit)\n",
    "    elif ptype == 'pie':\n",
    "        \n",
    "        #ax1 = lang_pct.plot.barh(ax=tall_left_ax,legend=False, title='All Respondents',label='xxx',x='string',y='lang')\n",
    "        ax1 = df_dev.plot.pie(ax=tall_left_ax,legend=False, title='Developers')\n",
    "        ax2 = df_ds.plot.pie(ax=tall_right_ax,legend=False, title='Data Scientists')        \n",
    "        \n",
    "    else: \n",
    "        ax1 = lang_pct.plot.bar(ax=tall_left_ax,legend=False, title='All Respondents',label='xxx',x='string',y='lang')\n",
    "        ax1 = df_dev.plot.bar(ax=tall_left_ax, \n",
    "                               legend=False, title='Developers').set(xlabel=xlabel_text,\n",
    "                                                                     ylabel=ylabel_text, \n",
    "                                                                     xlim=xlimit)\n",
    "        ax2 = df_ds.plot.bar(ax=tall_right_ax, \n",
    "                              legend=False, \n",
    "                              title='Data Scientists').set(xlabel=xlabel_text, \n",
    "                                                               xlim=xlimit)\n",
    "\n",
    "    tall_right_ax.yaxis.tick_right()\n",
    "    # plt.tight_layout()\n",
    "    plt.suptitle(title_text, fontsize=22)\n",
    "    # should also move the ylabels to the right side for the second plot...\n",
    "    "
   ]
  },
  {
   "cell_type": "code",
   "execution_count": 60,
   "metadata": {},
   "outputs": [],
   "source": [
    "def plot_2col_pie(df_dev, df_ds, title_text, xlimit, xlabel_text, ylabel_text):\n",
    "\n",
    "    fig = plt.figure(figsize=(15, 12))\n",
    "    grid_size = (10, 10)  # lets space stuff out...\n",
    "    SOURCE_TEXT = 'Source: StackOverFlow Dev survey, 2019'\n",
    "\n",
    " \n",
    "    # Place A Title On The Figure\n",
    "    fig.text(x=0.995, y=0.02, s=SOURCE_TEXT, verticalalignment='bottom',\n",
    "             rotation='vertical', color='#524939')\n",
    "    # Overlay multiple plots onto the same axis, which spans 1 entire column of the figure\n",
    "    tall_left_ax = plt.subplot2grid(grid_size, (1, 1), colspan=3, rowspan=9)\n",
    "    tall_right_ax = plt.subplot2grid(grid_size, (1, 6), colspan=3, rowspan=9)\n",
    "\n",
    "    #ax1 = lang_pct.plot.barh(ax=tall_left_ax,legend=False, title='All Respondents',label='xxx',x='string',y='lang')\n",
    "    ax1 = df_dev.plot.barh(ax=tall_left_ax, \n",
    "                           legend=False, title='Developers').set(xlabel=xlabel_text,\n",
    "                                                                 ylabel=ylabel_text, \n",
    "                                                                 xlim=xlimit)\n",
    "    ax2 = df_ds.plot.barh(ax=tall_right_ax, \n",
    "                          legend=False, \n",
    "                          title='Data Scientists').set(xlabel=xlabel_text, \n",
    "                                                       xlim=xlimit)\n",
    "   \n",
    "    tall_right_ax.yaxis.tick_right()\n",
    "    # plt.tight_layout()\n",
    "    plt.suptitle(title_text, fontsize=22)\n",
    "    # should also move the ylabels to the right side for the second plot...\n",
    "    "
   ]
  },
  {
   "cell_type": "code",
   "execution_count": 23,
   "metadata": {},
   "outputs": [],
   "source": [
    "# def plot_axis(ax, series, title):\n",
    "#     labels = [shorten(s, width=30, placeholder='...') for s in series.index]\n",
    "#     y_pos = np.arange(len(series))\n",
    "#     ax.barh(y_pos, series)\n",
    "#     ax.set_yticks(y_pos)\n",
    "#     ax.set_yticklabels(labels, minor=False)\n",
    "#     ax.set_title(title)\n",
    "#     ax.xaxis.set_major_formatter(FuncFormatter(lambda y, _: '{:.0%}'.format(y)))\n",
    "\n",
    "\n",
    "# def plot_ranking(dataframe, tech, figsize=(18, 12), min_worked_with=1000):\n",
    "#     columns = [f'{tech}_{col}' for col in ['worked_with', 'liked', 'new']]\n",
    "\n",
    "#     annotation = '''Graphs 1 & 2 show the percentage of respondents who named the {} relative to how many respondents answered the corresponding question. The 3rd graph shows how many of those who worked\n",
    "# with the {} want to continue to do so. Data: kaggle.com/stackoverflow/stack-overflow-2018-developer-survey • Author: Ramiro Gómez - ramiro.org'''.format(tech, tech, tech)\n",
    "\n",
    "#     # Only count responses with at least one answer to the questions related to this technology\n",
    "#     response_count = len(dataframe[columns].replace(to_replace=set(), value=np.nan).dropna(how='all'))\n",
    "\n",
    "#     counters = [Counter(chain.from_iterable(dataframe[col].apply(list))) for col in columns]\n",
    "#     df = pd.DataFrame(counters, index=columns).T.sort_values(f'{tech}_worked_with')\n",
    "#     # Limit to technologies worked with by at least min_worked_with respondents\n",
    "#     df = df[df[f'{tech}_worked_with'] >= min_worked_with]\n",
    "\n",
    "#     worked_with = (df[f'{tech}_worked_with'] / response_count).sort_values()\n",
    "#     liked = (df[f'{tech}_liked'] / df[f'{tech}_worked_with']).sort_values()\n",
    "#     new = (df[f'{tech}_new'] / response_count).sort_values()\n",
    "\n",
    "#     fig, axes = plt.subplots(nrows=1, ncols=3, figsize=figsize)\n",
    "#     fig.suptitle('Stack Overflow Survey 2018: {} Preferences'.format(tech.title()), y=0.94, size=25)\n",
    "#     fig.subplots_adjust(wspace=0.5)\n",
    "\n",
    "#     plot_axis(axes[0], worked_with, 'Worked with')\n",
    "#     plot_axis(axes[1], new, 'Not worked with but desired')\n",
    "#     plot_axis(axes[2], liked, 'Worked with and desired')\n",
    "\n",
    "#     plt.annotate(annotation, xy=(5, 30), xycoords='figure pixels', size=12)\n",
    "\n",
    "\n",
    "# plot_ranking(df_tech, 'language')"
   ]
  },
  {
   "cell_type": "markdown",
   "metadata": {},
   "source": [
    "----\n",
    "## QUESTION 1\n",
    "\n",
    "1. Are there demographic differences?  \n",
    "\n",
    "Hypothesis:  DS are higher educated and more likely from math/science than computer/tech.  Intuition also dictates that DS are younger and less experienced.\n",
    "\n",
    "\n",
    "demographic_cols = ['MainBranch', 'Age', 'Gender', 'Trans', 'Sexuality', 'Ethnicity',\n",
    "                    'Dependents', 'Country', 'Student', 'EdLevel', 'UndergradMajor']\n",
    "\n"
   ]
  },
  {
   "cell_type": "markdown",
   "metadata": {},
   "source": [
    "### Demographic 1 - simplified Educaton and categories\n",
    "    - Education: Advanced, College, Grade\n",
    "    - Major: Computer/Tech, Math/Science, Other\n",
    "  "
   ]
  },
  {
   "cell_type": "code",
   "execution_count": 55,
   "metadata": {},
   "outputs": [
    {
     "data": {
      "text/plain": [
       "Grade        4016\n",
       "College     42115\n",
       "Advanced    18295\n",
       "Name: Education, dtype: int64"
      ]
     },
     "execution_count": 55,
     "metadata": {},
     "output_type": "execute_result"
    }
   ],
   "source": [
    "# simple method comparing strings... could also use ordering...\n",
    "advanced = df['EdLevel'].isin(['Other doctoral degree (Ph.D, Ed.D., etc.)',\n",
    "                               'Master’s degree (MA, MS, M.Eng., MBA, etc.)',\n",
    "                               'Professional degree (JD, MD, etc.)'])\n",
    "\n",
    "college = df['EdLevel'].isin(['Associate degree',\n",
    "                              'Bachelor’s degree (BA, BS, B.Eng., etc.)',\n",
    "                              'Some college/university study without earning a degree'])\n",
    "\n",
    "grade = df['EdLevel'].isin(['Secondary school (e.g. American high school, German Realschule or Gymnasium, etc.)',\n",
    "                            'Primary/elementary school',\n",
    "                            'I never completed any formal education'])\n",
    "no_answer = df['EdLevel'].isnull()\n",
    "# create ordered category\n",
    "edlevel_simple_cat = CategoricalDtype(['Grade',\n",
    "                                       'College',  # 'N/A'\n",
    "                                       'Advanced'], ordered=True)\n",
    "df.loc[:, 'Education'] = np.nan\n",
    "df.loc[advanced, 'Education'] = 'Advanced'\n",
    "df.loc[college, 'Education'] = 'College'\n",
    "df.loc[grade, 'Education'] = 'Grade'\n",
    "# now make it an ordered category\n",
    "df.loc[:, 'Education'] = df.Education.astype(edlevel_simple_cat)\n",
    "\n",
    "df['Education'].value_counts(sort=False)\n"
   ]
  },
  {
   "cell_type": "code",
   "execution_count": 73,
   "metadata": {},
   "outputs": [
    {
     "data": {
      "image/png": "[encoded data removed]",
      "text/plain": [
       "<Figure size 1080x864 with 2 Axes>"
      ]
     },
     "metadata": {},
     "output_type": "display_data"
    }
   ],
   "source": [
    "# plot EdLevel and Education summaries for DS and non-DS\n",
    "\n",
    "title_text = 'Education Level Incidence (pct)'\n",
    "xlimit = {0,55}\n",
    "xlabel_text = 'percent'\n",
    "ylabel_text = 'educatation'\n",
    "df_plot1 = 100*df.EdLevel[df['notDS']].value_counts('mean',sort=False)\n",
    "df_plot2 = 100*df.EdLevel[df['isDS']].value_counts('mean',sort=False)\n",
    "df_plot2 = df_plot2[df_plot1.index]\n",
    "plot_2col(df_plot1, df_plot2, title_text, xlimit, xlabel_text, ylabel_text,'pie')\n",
    "#df_plot1.unstack(-1).plot.barh()\n",
    "#df_plot1"
   ]
  },
  {
   "cell_type": "code",
   "execution_count": 74,
   "metadata": {},
   "outputs": [
    {
     "data": {
      "image/png": "[encoded data removed]",
      "text/plain": [
       "<Figure size 1080x864 with 2 Axes>"
      ]
     },
     "metadata": {},
     "output_type": "display_data"
    }
   ],
   "source": [
    "# plot EdLevel and Education summaries for DS and non-DS\n",
    "\n",
    "title_text = 'Simplified Education Level Incidence (pct)'\n",
    "xlimit = {0,70}\n",
    "xlabel_text = 'percent'\n",
    "ylabel_text = 'educatation'\n",
    "df_plot1 = 100*df.Education[df['notDS']].value_counts('mean',sort=False)\n",
    "df_plot2 = 100*df.Education[df['isDS']].value_counts('mean',sort=False)\n",
    "df_plot2 = df_plot2[df_plot1.index]\n",
    "plot_2col(df_plot1, df_plot2, title_text, xlimit, xlabel_text, ylabel_text,'pie')\n",
    "#df_plot1.unstack(-1).plot.barh()\n",
    "#df_plot1"
   ]
  },
  {
   "cell_type": "code",
   "execution_count": 75,
   "metadata": {},
   "outputs": [],
   "source": [
    "# plot UndergradMajor and Major summaries for DS and non-DS"
   ]
  },
  {
   "cell_type": "code",
   "execution_count": 76,
   "metadata": {},
   "outputs": [
    {
     "data": {
      "text/plain": [
       "Computer/Tech    46509\n",
       "Math/Science      8697\n",
       "Other             4244\n",
       "Name: Major, dtype: int64"
      ]
     },
     "execution_count": 76,
     "metadata": {},
     "output_type": "execute_result"
    }
   ],
   "source": [
    "df.loc[:, 'Major'] = np.nan\n",
    "\n",
    "computer_tech = df['UndergradMajor'].isin(['Computer science, computer engineering, or software engineering',\n",
    "                                           'Web development or web design',\n",
    "                                           'Information systems, information technology, or system administration'])\n",
    "\n",
    "math_sci = df['UndergradMajor'].isin(['Mathematics or statistics',\n",
    "                                      'Another engineering discipline (ex. civil, electrical, mechanical)',\n",
    "                                      'A natural science (ex. biology, chemistry, physics)'])\n",
    "\n",
    "other = df['UndergradMajor'].isin(['A health science (ex. nursing, pharmacy, radiology)',\n",
    "                                   'A business discipline (ex. accounting, finance, marketing)',\n",
    "                                   'A humanities discipline (ex. literature, history, philosophy)',\n",
    "                                   'A social science (ex. anthropology, psychology, political science)',\n",
    "                                   'Fine arts or performing arts (ex. graphic design, music, studio art)'])\n",
    "\n",
    "\n",
    "df.loc[computer_tech, 'Major'] = 'Computer/Tech'\n",
    "df.loc[math_sci, 'Major'] = 'Math/Science'\n",
    "df.loc[other, 'Major'] = 'Other'\n",
    "#df.loc[no_answer,'EdLevel_simple'] = 'N/A'\n",
    "\n",
    "df.loc[:, 'Major'] = df.Major.astype('category')\n",
    "df['Major'].value_counts()\n",
    "# survey.UndergradMajor.cat.categories"
   ]
  },
  {
   "cell_type": "code",
   "execution_count": 77,
   "metadata": {},
   "outputs": [
    {
     "data": {
      "image/png": "[encoded data removed]",
      "text/plain": [
       "<Figure size 1080x864 with 2 Axes>"
      ]
     },
     "metadata": {},
     "output_type": "display_data"
    }
   ],
   "source": [
    "# plot Major summaries for DS and non-DS\n",
    "\n",
    "title_text = 'Simplified Major Level Incidence (pct)'\n",
    "xlimit = {0,70}\n",
    "xlabel_text = 'percent'\n",
    "ylabel_text = 'educatation'\n",
    "df_plot1 = 100*df.Major[df['notDS']].value_counts('mean',sort=False)\n",
    "df_plot2 = 100*df.Major[df['isDS']].value_counts('mean',sort=False)\n",
    "df_plot2 = df_plot2[df_plot1.index]\n",
    "plot_2col(df_plot1, df_plot2, title_text, xlimit, xlabel_text, ylabel_text,'pie')\n"
   ]
  },
  {
   "cell_type": "markdown",
   "metadata": {},
   "source": [
    "### Demographic 2 - coding experience compensation converted to values\n",
    "    - convert Years coding and age started to numerical values\n",
    "    - converted compensation to be meaningfuly numerical values\n",
    "    - (Test that `ConvertedComp` is sensible?)\n",
    "    \n",
    ">work_cols = ['ConvertedComp',  'WorkWeekHrs' 'Employment', 'OrgSize']#, \n",
    "             #'JobSeek', 'LastHireDate', 'LastInt', 'ResumeUpdate',   \n",
    "             #'CompTotal', 'CurrencySymbol','CurrencyDesc', 'CompTotal', 'CompFreq', \n",
    "             #'WorkPlan', 'WorkChallenge', 'WorkRemote', 'WorkLoc', 'CodeRev', 'CodeRevHrs', 'UnitTests', \n",
    "             #'PurchaseHow', 'PurchaseWhat']\n",
    "\n",
    "#keep all of these\n",
    "\n",
    ">skills_cols = ['YearsCode', 'Age1stCode', 'YearsCodePro', 'OpenSourcer', 'DevType',  'LanguageWorkedWith', \n",
    "                       'LanguageDesireNextYear', 'DevEnviron', 'OpSys', 'Containers','BlockchainOrg','FizzBuzz',\n",
    "                       'DatabaseWorkedWith', 'DatabaseDesireNextYear', 'PlatformWorkedWith',   'PlatformDesireNextYear',  \n",
    "\n"
   ]
  },
  {
   "cell_type": "code",
   "execution_count": 78,
   "metadata": {},
   "outputs": [],
   "source": [
    "attitude_cols = ['ImpSyn', 'CareerSat', 'JobSat', 'MgrIdiot', 'MgrMoney', 'MgrWant', 'JobFactors',\n",
    "                 'BlockchainIs', 'BetterLife', 'ITperson', 'OffOn',  'SocialMedia', 'Extraversion', \n",
    "                 'ScreenName', 'OpenSource']\n"
   ]
  },
  {
   "cell_type": "code",
   "execution_count": 135,
   "metadata": {},
   "outputs": [],
   "source": [
    "def fix_years_coding(years_):\n",
    "    # - years coding, years experience: `YearsCode` -> `nYearsCode`, change \"Less than 1 year\" to 1/10000 and \"More than 50\" to 55.\n",
    "    # - years pro:`YearsCodePro` -> `nYearsPro`    \n",
    "    # make these numeric in a sensible way\n",
    "    if years_ == 'Less than 1 year':\n",
    "        return 0.0001\n",
    "    elif years_ == 'More than 50 years':\n",
    "        return 55.\n",
    "    else:\n",
    "        return years_\n",
    "\n",
    "df.loc[:, 'nYearsCode'] = pd.to_numeric(df.YearsCode.apply(fix_years_coding))\n",
    "df.loc[:, 'nYearsPro'] = pd.to_numeric(df.YearsCodePro.apply(fix_years_coding))"
   ]
  },
  {
   "cell_type": "code",
   "execution_count": 145,
   "metadata": {},
   "outputs": [
    {
     "data": {
      "text/plain": [
       "140.0"
      ]
     },
     "execution_count": 145,
     "metadata": {},
     "output_type": "execute_result"
    }
   ],
   "source": [
    "def fix_workweekhours(hours_):\n",
    "    # - workweek: `WorkWeekHrs` to require 4 hours off per day\n",
    "    # hard ceiling on hours in a week (24*7)  lets throw out the ridiculous no sleep 24/7 scenarios\n",
    "    if hours_ > 20*7:\n",
    "        return np.NaN\n",
    "    elif hours_ < 4:  # arbitrary minimum work time\n",
    "        return np.NaN\n",
    "    else:\n",
    "        return hours_\n",
    "\n",
    "df.loc[:, 'WorkWeekH'] = df.WorkWeekHrs.copy().apply(fix_workweekhours)\n",
    "df['WorkWeekH'].max()"
   ]
  },
  {
   "cell_type": "code",
   "execution_count": null,
   "metadata": {},
   "outputs": [],
   "source": [
    "def fix_age1stcode(years_):\n",
    "    # - Age: `Age`-> `nAge`  change < 13, or > 80 to `NaN`\n",
    "    if years_ == 'Younger than 5 years':\n",
    "        return 4.5\n",
    "    elif years_ == 'Older than 85':\n",
    "        return 85.\n",
    "    else:\n",
    "        return years_\n",
    "\n",
    "df.loc[:, 'nAgeCode'] = pd.to_numeric(df.Age1stCode.apply(fix_age1stcode))"
   ]
  },
  {
   "cell_type": "code",
   "execution_count": 261,
   "metadata": {},
   "outputs": [
    {
     "name": "stdout",
     "output_type": "stream",
     "text": [
      "The dataset contains 65679 rows and 67 columns.\n"
     ]
    }
   ],
   "source": [
    "print('The dataset contains', df.shape[0], 'rows and', df.shape[1], 'columns.')"
   ]
  },
  {
   "cell_type": "markdown",
   "metadata": {},
   "source": [
    " ### Demographic 3 - cleaned Ages, derived generation coding, \n",
    "    - Fix Age to be meaningfuly numerical values\n",
    "    - Categorize according to standard \"generations\"\n",
    "        - Gen Z\n",
    "        - Millenial\n",
    "        - Gen X\n",
    "        - Boomers\n",
    "        - Silent\n",
    "\n",
    "![alt text][logo]\n",
    "\n",
    "[logo]:\n",
    "https://www.pewresearch.org/wp-content/uploads/2019/01/FT_19.01.17_generations_2019.png\n"
   ]
  },
  {
   "cell_type": "code",
   "execution_count": 29,
   "metadata": {},
   "outputs": [],
   "source": [
    "def fix_age(years_):\n",
    "    # - 1st Code: `Age1stCode` -> `nAgeCode` , change \"Younger than 5 years\" to 4.5 and \"Older than 85\" to 85.\n",
    "    # make these numeric in a sensible way  exclude pre-teens and aged >84\n",
    "    if years_ < 13:\n",
    "        return np.NaN\n",
    "    elif years_ > 84:\n",
    "        return np.NaN\n",
    "    else:\n",
    "        return years_\n",
    "\n",
    "df.loc[:, 'nAge'] = pd.to_numeric(df.Age.apply(fix_age))"
   ]
  },
  {
   "cell_type": "code",
   "execution_count": 30,
   "metadata": {},
   "outputs": [],
   "source": [
    "# Convert Age to generation with 2019 as current time reference\n",
    "def find_gen(age):\n",
    "    \"\"\"\n",
    "    \"\"\"\n",
    "    if age <= 22:\n",
    "        gen = 'GenZ'\n",
    "        return gen\n",
    "    elif age <= 38:\n",
    "        gen = 'Millenial'\n",
    "    elif age <= 54:\n",
    "        gen = 'GenX'\n",
    "    elif age <= 73:\n",
    "        gen = 'Boomer'\n",
    "    else:\n",
    "        gen = 'Silent'\n",
    "    return gen\n",
    "\n",
    "\n",
    "generation_cat = CategoricalDtype(['GenZ',\n",
    "                                   'Millenial',\n",
    "                                   'GenX',\n",
    "                                   'Boomer',\n",
    "                                   'Silent',  # 'N/A'\n",
    "                                   ], ordered=True)\n",
    "\n",
    "# Apply function to subsets\n",
    "df.loc[:, 'Gen'] = np.nan\n",
    "df.loc[:, 'Gen'] = df.Age.apply(find_gen).copy()\n",
    "df.loc[:, 'Gen'] = df.Gen.astype(generation_cat)"
   ]
  },
  {
   "cell_type": "code",
   "execution_count": 31,
   "metadata": {},
   "outputs": [],
   "source": [
    "# CREATE A FIGURE WITH HISTOGRAMS OF SALARY for each generation"
   ]
  },
  {
   "cell_type": "code",
   "execution_count": 32,
   "metadata": {
    "scrolled": true
   },
   "outputs": [
    {
     "data": {
      "text/html": [
       "<div>\n",
       "<style scoped>\n",
       "    .dataframe tbody tr th:only-of-type {\n",
       "        vertical-align: middle;\n",
       "    }\n",
       "\n",
       "    .dataframe tbody tr th {\n",
       "        vertical-align: top;\n",
       "    }\n",
       "\n",
       "    .dataframe thead th {\n",
       "        text-align: right;\n",
       "    }\n",
       "</style>\n",
       "<table border=\"1\" class=\"dataframe\">\n",
       "  <thead>\n",
       "    <tr style=\"text-align: right;\">\n",
       "      <th></th>\n",
       "      <th>count</th>\n",
       "      <th>mean</th>\n",
       "      <th>median</th>\n",
       "      <th>sem</th>\n",
       "      <th>max</th>\n",
       "      <th>min</th>\n",
       "    </tr>\n",
       "    <tr>\n",
       "      <th>Gen</th>\n",
       "      <th></th>\n",
       "      <th></th>\n",
       "      <th></th>\n",
       "      <th></th>\n",
       "      <th></th>\n",
       "      <th></th>\n",
       "    </tr>\n",
       "  </thead>\n",
       "  <tbody>\n",
       "    <tr>\n",
       "      <th>GenZ</th>\n",
       "      <td>3574</td>\n",
       "      <td>67505.028819</td>\n",
       "      <td>19236.0</td>\n",
       "      <td>3701.555070</td>\n",
       "      <td>2000000.0</td>\n",
       "      <td>0.0</td>\n",
       "    </tr>\n",
       "    <tr>\n",
       "      <th>Millenial</th>\n",
       "      <td>37425</td>\n",
       "      <td>121506.230969</td>\n",
       "      <td>53850.0</td>\n",
       "      <td>1448.691504</td>\n",
       "      <td>2000000.0</td>\n",
       "      <td>0.0</td>\n",
       "    </tr>\n",
       "    <tr>\n",
       "      <th>GenX</th>\n",
       "      <td>6654</td>\n",
       "      <td>176570.177638</td>\n",
       "      <td>93492.0</td>\n",
       "      <td>3793.224584</td>\n",
       "      <td>2000000.0</td>\n",
       "      <td>0.0</td>\n",
       "    </tr>\n",
       "    <tr>\n",
       "      <th>Boomer</th>\n",
       "      <td>796</td>\n",
       "      <td>209459.015075</td>\n",
       "      <td>110000.0</td>\n",
       "      <td>13164.119463</td>\n",
       "      <td>2000000.0</td>\n",
       "      <td>0.0</td>\n",
       "    </tr>\n",
       "    <tr>\n",
       "      <th>Silent</th>\n",
       "      <td>2053</td>\n",
       "      <td>138289.154408</td>\n",
       "      <td>60000.0</td>\n",
       "      <td>6762.615024</td>\n",
       "      <td>2000000.0</td>\n",
       "      <td>0.0</td>\n",
       "    </tr>\n",
       "  </tbody>\n",
       "</table>\n",
       "</div>"
      ],
      "text/plain": [
       "           count           mean    median           sem        max  min\n",
       "Gen                                                                    \n",
       "GenZ        3574   67505.028819   19236.0   3701.555070  2000000.0  0.0\n",
       "Millenial  37425  121506.230969   53850.0   1448.691504  2000000.0  0.0\n",
       "GenX        6654  176570.177638   93492.0   3793.224584  2000000.0  0.0\n",
       "Boomer       796  209459.015075  110000.0  13164.119463  2000000.0  0.0\n",
       "Silent      2053  138289.154408   60000.0   6762.615024  2000000.0  0.0"
      ]
     },
     "execution_count": 32,
     "metadata": {},
     "output_type": "execute_result"
    }
   ],
   "source": [
    "df.groupby('Gen').ConvertedComp.agg(\n",
    "    ['count', 'mean', 'median', 'sem', 'max', 'min'])"
   ]
  },
  {
   "cell_type": "markdown",
   "metadata": {},
   "source": [
    " ### Demographic 4 - Misc, sexuality, country of origin, gender, +compensation\n",
    "    - [note: should recategorize the multi-selects as \"other\" ]\n",
    " "
   ]
  },
  {
   "cell_type": "code",
   "execution_count": 272,
   "metadata": {},
   "outputs": [],
   "source": [
    "# def new_sex(sex_):\n",
    "#     #         ['Bisexual', 'Bisexual;Gay or Lesbian',\n",
    "#     #                   'Bisexual;Gay or Lesbian;Straight / Heterosexual',\n",
    "#     #                   'Bisexual;Straight / Heterosexual', 'Gay or Lesbian',\n",
    "#     #                   'Gay or Lesbian;Straight / Heterosexual',\n",
    "#     #                   'Straight / Heterosexual'],\n",
    "    \n",
    "#     if sex_=='Bisexual':\n",
    "#         pass\n",
    "#     if sex_=='Gay or Lesbian':\n",
    "#         pass\n",
    "#     if sex_=='Straight / Heterosexual':\n",
    "#         pass\n",
    "#     else:\n",
    "#         return 'Other'\n",
    "\n",
    "# s = df.Sexuality\n",
    "# s2 = df.Sexuality.copy()\n",
    "\n",
    "# s2.cat.set_categories(['Bisexual', \n",
    "#        'Gay or Lesbian',\n",
    "#        'Straight / Heterosexual' ])\n",
    "\n",
    "# df.loc[:, 'Sexuality2'] = s2\n",
    "# df['Sexuality'].dtypes\n",
    "# df['Sexuality2'].describe()\n",
    "\n",
    "# s = df.Sexuality\n",
    "# s2 = df.Sexuality.copy()\n",
    "\n",
    "# s2.cat.set_categories(['Bisexual', \n",
    "#        'Gay or Lesbian',\n",
    "#        'Straight / Heterosexual'])\n",
    "\n",
    "# s2.cat.remove_categories([ 'Bisexual;Gay or Lesbian',\n",
    "#        'Bisexual;Gay or Lesbian;Straight / Heterosexual',\n",
    "#        'Bisexual;Straight / Heterosexual',\n",
    "#        'Gay or Lesbian;Straight / Heterosexual'])\n",
    "# s2.cat.categories"
   ]
  },
  {
   "cell_type": "code",
   "execution_count": 285,
   "metadata": {},
   "outputs": [
    {
     "data": {
      "image/png": "[encoded data removed]",
      "text/plain": [
       "<Figure size 1080x864 with 3 Axes>"
      ]
     },
     "metadata": {
      "needs_background": "light"
     },
     "output_type": "display_data"
    }
   ],
   "source": [
    "\n",
    "fig = plt.figure(figsize=(15, 12))\n",
    "ylimit = {0,.07}\n",
    "xlabel_text = 'age'\n",
    "ylabel_text = 'density'\n",
    "df_plot1 = df.Age[df['notDS']]\n",
    "df_plot2 = df.Age[df['isDS']]\n",
    "\n",
    "# Plot them as a histogram.\n",
    "title_text = 'All Developers distribution'\n",
    "plt.subplot(2,1,1)\n",
    "plt.hist(df_plot1, density=True, color='blue', bins=np.arange(0, 100,5), alpha=.3)\n",
    "# Plot them as a histogram.\n",
    "plt.hist(df_plot2, density=True, color='red', bins=np.arange(0, 100, 5), alpha=.3)\n",
    "plt.title(title_text)\n",
    "plt.xlabel(xlabel_text)\n",
    "plt.ylabel(ylabel_text)\n",
    "\n",
    "title_text = 'non-DS distribution'\n",
    "plt.subplot(2,2,3)\n",
    "plt.hist(df_plot1, density=True, color='blue', bins=np.arange(0, 100,5), alpha=.3)\n",
    "plt.title(title_text)\n",
    "plt.xlabel(xlabel_text)\n",
    "\n",
    "title_text = 'DS distribution'\n",
    "plt.subplot(2,2,4)\n",
    "plt.hist(df_plot2, density=True, color='red', bins=np.arange(0, 100, 5), alpha=.3)\n",
    "plt.title(title_text)\n",
    "plt.xlabel(xlabel_text)\n",
    "\n",
    "\n",
    "\n",
    "\n",
    "\n",
    "plt.show()"
   ]
  },
  {
   "cell_type": "code",
   "execution_count": null,
   "metadata": {},
   "outputs": [],
   "source": [
    "perc =[.10, .25, .50, .75, .90]"
   ]
  },
  {
   "cell_type": "code",
   "execution_count": 303,
   "metadata": {},
   "outputs": [
    {
     "data": {
      "image/png": "[encoded data removed]",
      "text/plain": [
       "<Figure size 432x288 with 1 Axes>"
      ]
     },
     "metadata": {
      "needs_background": "light"
     },
     "output_type": "display_data"
    }
   ],
   "source": [
    "# percentile list \n",
    "\n",
    "plt.scatter(x=df_plot1.quantile(np.linspace(0, 1, 100, 0)), y=df_plot2.quantile(np.linspace(0, 1, 100, 0)))\n",
    "plt.plot([0,60],[0,60],color='r')\n",
    "plt.gca().set_aspect('equal', adjustable='box')\n",
    "fig.tight_layout()\n"
   ]
  },
  {
   "cell_type": "markdown",
   "metadata": {},
   "source": [
    "Data Scientists actually look to be slightly older than non-DS developers.   "
   ]
  },
  {
   "cell_type": "code",
   "execution_count": 281,
   "metadata": {},
   "outputs": [
    {
     "data": {
      "text/html": [
       "<div>\n",
       "<style scoped>\n",
       "    .dataframe tbody tr th:only-of-type {\n",
       "        vertical-align: middle;\n",
       "    }\n",
       "\n",
       "    .dataframe tbody tr th {\n",
       "        vertical-align: top;\n",
       "    }\n",
       "\n",
       "    .dataframe thead th {\n",
       "        text-align: right;\n",
       "    }\n",
       "</style>\n",
       "<table border=\"1\" class=\"dataframe\">\n",
       "  <thead>\n",
       "    <tr style=\"text-align: right;\">\n",
       "      <th></th>\n",
       "      <th>Hours_NotDS</th>\n",
       "      <th>Hours_DS</th>\n",
       "    </tr>\n",
       "  </thead>\n",
       "  <tbody>\n",
       "    <tr>\n",
       "      <th>count</th>\n",
       "      <td>50671.000000</td>\n",
       "      <td>7050.000000</td>\n",
       "    </tr>\n",
       "    <tr>\n",
       "      <th>mean</th>\n",
       "      <td>40.148769</td>\n",
       "      <td>41.384865</td>\n",
       "    </tr>\n",
       "    <tr>\n",
       "      <th>std</th>\n",
       "      <td>9.725670</td>\n",
       "      <td>11.390711</td>\n",
       "    </tr>\n",
       "    <tr>\n",
       "      <th>min</th>\n",
       "      <td>4.000000</td>\n",
       "      <td>4.000000</td>\n",
       "    </tr>\n",
       "    <tr>\n",
       "      <th>10%</th>\n",
       "      <td>35.000000</td>\n",
       "      <td>30.000000</td>\n",
       "    </tr>\n",
       "    <tr>\n",
       "      <th>25%</th>\n",
       "      <td>40.000000</td>\n",
       "      <td>40.000000</td>\n",
       "    </tr>\n",
       "    <tr>\n",
       "      <th>50%</th>\n",
       "      <td>40.000000</td>\n",
       "      <td>40.000000</td>\n",
       "    </tr>\n",
       "    <tr>\n",
       "      <th>75%</th>\n",
       "      <td>42.000000</td>\n",
       "      <td>45.000000</td>\n",
       "    </tr>\n",
       "    <tr>\n",
       "      <th>90%</th>\n",
       "      <td>50.000000</td>\n",
       "      <td>50.000000</td>\n",
       "    </tr>\n",
       "    <tr>\n",
       "      <th>max</th>\n",
       "      <td>140.000000</td>\n",
       "      <td>120.000000</td>\n",
       "    </tr>\n",
       "  </tbody>\n",
       "</table>\n",
       "</div>"
      ],
      "text/plain": [
       "        Hours_NotDS     Hours_DS\n",
       "count  50671.000000  7050.000000\n",
       "mean      40.148769    41.384865\n",
       "std        9.725670    11.390711\n",
       "min        4.000000     4.000000\n",
       "10%       35.000000    30.000000\n",
       "25%       40.000000    40.000000\n",
       "50%       40.000000    40.000000\n",
       "75%       42.000000    45.000000\n",
       "90%       50.000000    50.000000\n",
       "max      140.000000   120.000000"
      ]
     },
     "execution_count": 281,
     "metadata": {},
     "output_type": "execute_result"
    }
   ],
   "source": [
    "# Looks like the middle 50% of people mostly work 40 hours weeks, but some extreme outliers exist...\n",
    "pd.concat([df.WorkWeekH[df['notDS']].dropna().describe(percentiles=perc).rename('Hours_NotDS'), \n",
    "                    (df.WorkWeekH[df['isDS']].dropna().describe(percentiles=perc)).rename('Hours_DS')], \n",
    "                   axis =1)\n"
   ]
  },
  {
   "cell_type": "code",
   "execution_count": 282,
   "metadata": {},
   "outputs": [
    {
     "data": {
      "text/html": [
       "<div>\n",
       "<style scoped>\n",
       "    .dataframe tbody tr th:only-of-type {\n",
       "        vertical-align: middle;\n",
       "    }\n",
       "\n",
       "    .dataframe tbody tr th {\n",
       "        vertical-align: top;\n",
       "    }\n",
       "\n",
       "    .dataframe thead th {\n",
       "        text-align: right;\n",
       "    }\n",
       "</style>\n",
       "<table border=\"1\" class=\"dataframe\">\n",
       "  <thead>\n",
       "    <tr style=\"text-align: right;\">\n",
       "      <th></th>\n",
       "      <th>count</th>\n",
       "      <th>mean</th>\n",
       "      <th>median</th>\n",
       "    </tr>\n",
       "    <tr>\n",
       "      <th>Country</th>\n",
       "      <th></th>\n",
       "      <th></th>\n",
       "      <th></th>\n",
       "    </tr>\n",
       "  </thead>\n",
       "  <tbody>\n",
       "    <tr>\n",
       "      <th>United States</th>\n",
       "      <td>2380</td>\n",
       "      <td>248564.467227</td>\n",
       "      <td>110000.0</td>\n",
       "    </tr>\n",
       "    <tr>\n",
       "      <th>Switzerland</th>\n",
       "      <td>101</td>\n",
       "      <td>153918.851485</td>\n",
       "      <td>96646.0</td>\n",
       "    </tr>\n",
       "    <tr>\n",
       "      <th>Israel</th>\n",
       "      <td>51</td>\n",
       "      <td>95456.000000</td>\n",
       "      <td>95664.0</td>\n",
       "    </tr>\n",
       "    <tr>\n",
       "      <th>Denmark</th>\n",
       "      <td>57</td>\n",
       "      <td>113883.473684</td>\n",
       "      <td>87468.0</td>\n",
       "    </tr>\n",
       "    <tr>\n",
       "      <th>Norway</th>\n",
       "      <td>67</td>\n",
       "      <td>186391.835821</td>\n",
       "      <td>82946.0</td>\n",
       "    </tr>\n",
       "    <tr>\n",
       "      <th>Australia</th>\n",
       "      <td>228</td>\n",
       "      <td>191039.061404</td>\n",
       "      <td>79057.5</td>\n",
       "    </tr>\n",
       "    <tr>\n",
       "      <th>Ireland</th>\n",
       "      <td>54</td>\n",
       "      <td>215333.629630</td>\n",
       "      <td>73328.0</td>\n",
       "    </tr>\n",
       "    <tr>\n",
       "      <th>Iceland</th>\n",
       "      <td>5</td>\n",
       "      <td>71750.400000</td>\n",
       "      <td>70152.0</td>\n",
       "    </tr>\n",
       "    <tr>\n",
       "      <th>Canada</th>\n",
       "      <td>335</td>\n",
       "      <td>136660.026866</td>\n",
       "      <td>68705.0</td>\n",
       "    </tr>\n",
       "    <tr>\n",
       "      <th>United Kingdom</th>\n",
       "      <td>623</td>\n",
       "      <td>161759.475120</td>\n",
       "      <td>65424.0</td>\n",
       "    </tr>\n",
       "  </tbody>\n",
       "</table>\n",
       "</div>"
      ],
      "text/plain": [
       "                count           mean    median\n",
       "Country                                       \n",
       "United States    2380  248564.467227  110000.0\n",
       "Switzerland       101  153918.851485   96646.0\n",
       "Israel             51   95456.000000   95664.0\n",
       "Denmark            57  113883.473684   87468.0\n",
       "Norway             67  186391.835821   82946.0\n",
       "Australia         228  191039.061404   79057.5\n",
       "Ireland            54  215333.629630   73328.0\n",
       "Iceland             5   71750.400000   70152.0\n",
       "Canada            335  136660.026866   68705.0\n",
       "United Kingdom    623  161759.475120   65424.0"
      ]
     },
     "execution_count": 282,
     "metadata": {},
     "output_type": "execute_result"
    }
   ],
   "source": [
    "compStats = df.dropna().groupby('Country').ConvertedComp.agg(\n",
    "    ['count', 'mean', 'median']).sort_values('median', ascending=False)\n",
    "compStats = compStats[compStats['count'] > 4]\n",
    "compStats.head(10)\n",
    "\n",
    "# looks like the US has lots of \"outliers\" but is still the highes paid\n"
   ]
  },
  {
   "cell_type": "markdown",
   "metadata": {},
   "source": [
    "Strangely, ther rare women in our dataset seem to be slighlty better paid. 1.02 cents on the doller median wage.  However, some the mean pay is slightly higer for men. For DataScientists the median wage is slightly smaller (94.46 cents on the dollar), but the average is higher!!  On _AVERAGE_ women are paid 19% more."
   ]
  },
  {
   "cell_type": "code",
   "execution_count": 283,
   "metadata": {},
   "outputs": [
    {
     "data": {
      "text/html": [
       "<div>\n",
       "<style scoped>\n",
       "    .dataframe tbody tr th:only-of-type {\n",
       "        vertical-align: middle;\n",
       "    }\n",
       "\n",
       "    .dataframe tbody tr th {\n",
       "        vertical-align: top;\n",
       "    }\n",
       "\n",
       "    .dataframe thead th {\n",
       "        text-align: right;\n",
       "    }\n",
       "</style>\n",
       "<table border=\"1\" class=\"dataframe\">\n",
       "  <thead>\n",
       "    <tr style=\"text-align: right;\">\n",
       "      <th></th>\n",
       "      <th>count</th>\n",
       "      <th>mean</th>\n",
       "      <th>median</th>\n",
       "    </tr>\n",
       "    <tr>\n",
       "      <th>Gender</th>\n",
       "      <th></th>\n",
       "      <th></th>\n",
       "      <th></th>\n",
       "    </tr>\n",
       "  </thead>\n",
       "  <tbody>\n",
       "    <tr>\n",
       "      <th>Non-binary, genderqueer, or gender non-conforming</th>\n",
       "      <td>21</td>\n",
       "      <td>234388.857143</td>\n",
       "      <td>78207.0</td>\n",
       "    </tr>\n",
       "    <tr>\n",
       "      <th>Man;Non-binary, genderqueer, or gender non-conforming</th>\n",
       "      <td>12</td>\n",
       "      <td>79897.416667</td>\n",
       "      <td>68665.0</td>\n",
       "    </tr>\n",
       "    <tr>\n",
       "      <th>Woman</th>\n",
       "      <td>296</td>\n",
       "      <td>134814.422297</td>\n",
       "      <td>65154.0</td>\n",
       "    </tr>\n",
       "    <tr>\n",
       "      <th>Man</th>\n",
       "      <td>7205</td>\n",
       "      <td>139605.694240</td>\n",
       "      <td>64128.0</td>\n",
       "    </tr>\n",
       "    <tr>\n",
       "      <th>Woman;Non-binary, genderqueer, or gender non-conforming</th>\n",
       "      <td>9</td>\n",
       "      <td>55470.666667</td>\n",
       "      <td>32064.0</td>\n",
       "    </tr>\n",
       "    <tr>\n",
       "      <th>Woman;Man</th>\n",
       "      <td>3</td>\n",
       "      <td>12224.000000</td>\n",
       "      <td>6276.0</td>\n",
       "    </tr>\n",
       "    <tr>\n",
       "      <th>Woman;Man;Non-binary, genderqueer, or gender non-conforming</th>\n",
       "      <td>0</td>\n",
       "      <td>NaN</td>\n",
       "      <td>NaN</td>\n",
       "    </tr>\n",
       "  </tbody>\n",
       "</table>\n",
       "</div>"
      ],
      "text/plain": [
       "                                                    count           mean  \\\n",
       "Gender                                                                     \n",
       "Non-binary, genderqueer, or gender non-conforming      21  234388.857143   \n",
       "Man;Non-binary, genderqueer, or gender non-conf...     12   79897.416667   \n",
       "Woman                                                 296  134814.422297   \n",
       "Man                                                  7205  139605.694240   \n",
       "Woman;Non-binary, genderqueer, or gender non-co...      9   55470.666667   \n",
       "Woman;Man                                               3   12224.000000   \n",
       "Woman;Man;Non-binary, genderqueer, or gender no...      0            NaN   \n",
       "\n",
       "                                                     median  \n",
       "Gender                                                       \n",
       "Non-binary, genderqueer, or gender non-conforming   78207.0  \n",
       "Man;Non-binary, genderqueer, or gender non-conf...  68665.0  \n",
       "Woman                                               65154.0  \n",
       "Man                                                 64128.0  \n",
       "Woman;Non-binary, genderqueer, or gender non-co...  32064.0  \n",
       "Woman;Man                                            6276.0  \n",
       "Woman;Man;Non-binary, genderqueer, or gender no...      NaN  "
      ]
     },
     "execution_count": 283,
     "metadata": {},
     "output_type": "execute_result"
    }
   ],
   "source": [
    "df.dropna().groupby('Gender').ConvertedComp.agg(\n",
    "    ['count', 'mean', 'median']).sort_values('median', ascending=False)"
   ]
  },
  {
   "cell_type": "code",
   "execution_count": 308,
   "metadata": {},
   "outputs": [
    {
     "data": {
      "text/plain": [
       "1.1943386406015442"
      ]
     },
     "execution_count": 308,
     "metadata": {},
     "output_type": "execute_result"
    }
   ],
   "source": [
    "df[df['notDS']].dropna().groupby('Gender').ConvertedComp.agg(\n",
    "            ['count', 'mean', 'median']).sort_values('median', ascending=False)\n",
    "\n"
   ]
  },
  {
   "cell_type": "code",
   "execution_count": 270,
   "metadata": {},
   "outputs": [
    {
     "data": {
      "text/html": [
       "<div>\n",
       "<style scoped>\n",
       "    .dataframe tbody tr th:only-of-type {\n",
       "        vertical-align: middle;\n",
       "    }\n",
       "\n",
       "    .dataframe tbody tr th {\n",
       "        vertical-align: top;\n",
       "    }\n",
       "\n",
       "    .dataframe thead th {\n",
       "        text-align: right;\n",
       "    }\n",
       "</style>\n",
       "<table border=\"1\" class=\"dataframe\">\n",
       "  <thead>\n",
       "    <tr style=\"text-align: right;\">\n",
       "      <th></th>\n",
       "      <th>count</th>\n",
       "      <th>mean</th>\n",
       "      <th>median</th>\n",
       "    </tr>\n",
       "    <tr>\n",
       "      <th>Gender</th>\n",
       "      <th></th>\n",
       "      <th></th>\n",
       "      <th></th>\n",
       "    </tr>\n",
       "  </thead>\n",
       "  <tbody>\n",
       "    <tr>\n",
       "      <th>Man;Non-binary, genderqueer, or gender non-conforming</th>\n",
       "      <td>3</td>\n",
       "      <td>108081.333333</td>\n",
       "      <td>140000.0</td>\n",
       "    </tr>\n",
       "    <tr>\n",
       "      <th>Non-binary, genderqueer, or gender non-conforming</th>\n",
       "      <td>6</td>\n",
       "      <td>180030.500000</td>\n",
       "      <td>116500.0</td>\n",
       "    </tr>\n",
       "    <tr>\n",
       "      <th>Man</th>\n",
       "      <td>899</td>\n",
       "      <td>145566.511680</td>\n",
       "      <td>63514.0</td>\n",
       "    </tr>\n",
       "    <tr>\n",
       "      <th>Woman</th>\n",
       "      <td>31</td>\n",
       "      <td>173855.709677</td>\n",
       "      <td>60000.0</td>\n",
       "    </tr>\n",
       "    <tr>\n",
       "      <th>Woman;Non-binary, genderqueer, or gender non-conforming</th>\n",
       "      <td>1</td>\n",
       "      <td>32064.000000</td>\n",
       "      <td>32064.0</td>\n",
       "    </tr>\n",
       "    <tr>\n",
       "      <th>Woman;Man</th>\n",
       "      <td>1</td>\n",
       "      <td>3144.000000</td>\n",
       "      <td>3144.0</td>\n",
       "    </tr>\n",
       "    <tr>\n",
       "      <th>Woman;Man;Non-binary, genderqueer, or gender non-conforming</th>\n",
       "      <td>0</td>\n",
       "      <td>NaN</td>\n",
       "      <td>NaN</td>\n",
       "    </tr>\n",
       "  </tbody>\n",
       "</table>\n",
       "</div>"
      ],
      "text/plain": [
       "                                                    count           mean  \\\n",
       "Gender                                                                     \n",
       "Man;Non-binary, genderqueer, or gender non-conf...      3  108081.333333   \n",
       "Non-binary, genderqueer, or gender non-conforming       6  180030.500000   \n",
       "Man                                                   899  145566.511680   \n",
       "Woman                                                  31  173855.709677   \n",
       "Woman;Non-binary, genderqueer, or gender non-co...      1   32064.000000   \n",
       "Woman;Man                                               1    3144.000000   \n",
       "Woman;Man;Non-binary, genderqueer, or gender no...      0            NaN   \n",
       "\n",
       "                                                      median  \n",
       "Gender                                                        \n",
       "Man;Non-binary, genderqueer, or gender non-conf...  140000.0  \n",
       "Non-binary, genderqueer, or gender non-conforming   116500.0  \n",
       "Man                                                  63514.0  \n",
       "Woman                                                60000.0  \n",
       "Woman;Non-binary, genderqueer, or gender non-co...   32064.0  \n",
       "Woman;Man                                             3144.0  \n",
       "Woman;Man;Non-binary, genderqueer, or gender no...       NaN  "
      ]
     },
     "execution_count": 270,
     "metadata": {},
     "output_type": "execute_result"
    }
   ],
   "source": [
    "df[df['isDS']].dropna().groupby('Gender').ConvertedComp.agg(\n",
    "    ['count', 'mean', 'median']).sort_values('median', ascending=False)\n",
    "\n",
    "\n",
    "\n",
    "\n"
   ]
  },
  {
   "cell_type": "code",
   "execution_count": 392,
   "metadata": {},
   "outputs": [
    {
     "data": {
      "text/plain": [
       "2000000.0"
      ]
     },
     "execution_count": 392,
     "metadata": {},
     "output_type": "execute_result"
    }
   ],
   "source": [
    "df_plot1 = df[df['Gender']=='Man'].ConvertedComp\n",
    "df_plot2 = df[df['Gender']=='Woman'].ConvertedComp\n",
    "qs = np.linspace(0, 1, 100, 0)\n",
    "qx=df_plot1.quantile(qs)\n",
    "qy=df_plot2.quantile(qs)"
   ]
  },
  {
   "cell_type": "code",
   "execution_count": 406,
   "metadata": {},
   "outputs": [
    {
     "data": {
      "image/png": "[encoded data removed]",
      "text/plain": [
       "<Figure size 1080x864 with 4 Axes>"
      ]
     },
     "metadata": {
      "needs_background": "light"
     },
     "output_type": "display_data"
    }
   ],
   "source": [
    "\n",
    "fig = plt.figure(figsize=(15, 12))\n",
    "ylimit = {0,.07}\n",
    "xlabel_text = 'compensation'\n",
    "ylabel_text = 'density'\n",
    "# df_plot1 = df.ConvertedComp[df['Gender']=='Man']\n",
    "# df_plot2 = df.ConvertedComp[df['Gender']=='Woman']\n",
    "\n",
    "df_plot1 = df[df['Gender']=='Man'].ConvertedComp\n",
    "df_plot2 = df[df['Gender']=='Woman'].ConvertedComp\n",
    "qs = np.linspace(0, 1, 100, 0)\n",
    "qx=df_plot1.quantile(qs)\n",
    "qy=df_plot2.quantile(qs)\n",
    "\n",
    "\n",
    "\n",
    "\n",
    "plt.subplot(1,4,1)\n",
    "plt.plot(qx, qy,'b.')\n",
    "rangex = [0, qx.max()]\n",
    "plt.plot(rangex,rangex,color='r')\n",
    "plt.gca().set(xlim={rangex[0],rangex[1]},ylim={rangex[0],rangex[1]} )\n",
    "plt.gca().set_aspect('equal', adjustable='box')\n",
    "\n",
    "rangex = [0, 500000]\n",
    "plt.subplot(1,4,2)\n",
    "plt.scatter(x=df_plot1.quantile(np.linspace(0, 1, 100, 0)), y=df_plot2.quantile(np.linspace(0, 1, 100, 0)))\n",
    "plt.plot(rangex,rangex,color='r')\n",
    "plt.gca().set(xlim={rangex[0],rangex[1]},ylim={rangex[0],rangex[1]} )\n",
    "plt.gca().set_aspect('equal', adjustable='box')\n",
    "fig.tight_layout()\n",
    "\n",
    "rangex = [50000, 120000]\n",
    "xhi = 100000.\n",
    "plt.subplot(1,4,3)\n",
    "plt.scatter(x=df_plot1.quantile(np.linspace(0, 1, 100, 0)), y=df_plot2.quantile(np.linspace(0, 1, 100, 0)))\n",
    "plt.plot(rangex,rangex,color='r')\n",
    "plt.gca().set(xlim={rangex[0],rangex[1]},ylim={rangex[0],rangex[1]} )\n",
    "plt.gca().set_aspect('equal', adjustable='box')\n",
    "fig.tight_layout()\n",
    "\n",
    "rangex = [0, 80000]\n",
    "plt.subplot(1,4,4)\n",
    "plt.scatter(x=df_plot1.quantile(np.linspace(0, 1, 100, 0)), y=df_plot2.quantile(np.linspace(0, 1, 100, 0)))\n",
    "plt.plot(rangex,rangex,color='r')\n",
    "plt.gca().set(xlim={rangex[0],rangex[1]},ylim={rangex[0],rangex[1]} )\n",
    "plt.gca().set_aspect('equal', adjustable='box')\n",
    "fig.tight_layout()\n"
   ]
  },
  {
   "cell_type": "code",
   "execution_count": 410,
   "metadata": {},
   "outputs": [
    {
     "data": {
      "text/plain": [
       "(array([1.04025683e-05, 8.55024598e-06, 7.63193755e-06, 4.95553964e-06,\n",
       "        3.15772455e-06, 1.94655519e-06, 1.28322978e-06, 6.12513569e-07,\n",
       "        4.76707393e-07, 1.89389565e-07, 1.88465714e-07, 7.85273806e-08,\n",
       "        1.21948403e-07, 7.57558260e-08, 8.31466383e-08, 5.91264984e-08,\n",
       "        8.03750837e-08, 4.52687253e-08, 6.09742014e-08]),\n",
       " array([     0,  25000,  50000,  75000, 100000, 125000, 150000, 175000,\n",
       "        200000, 225000, 250000, 275000, 300000, 325000, 350000, 375000,\n",
       "        400000, 425000, 450000, 475000]),\n",
       " <a list of 19 Patch objects>)"
      ]
     },
     "execution_count": 410,
     "metadata": {},
     "output_type": "execute_result"
    },
    {
     "data": {
      "image/png": "[encoded data removed]",
      "text/plain": [
       "<Figure size 1080x864 with 1 Axes>"
      ]
     },
     "metadata": {
      "needs_background": "light"
     },
     "output_type": "display_data"
    }
   ],
   "source": [
    "\n",
    "fig = plt.figure(figsize=(15, 12))\n",
    "ylimit = {0,.07}\n",
    "xlabel_text = 'age'\n",
    "ylabel_text = 'density'\n",
    "# df_plot1 = df.ConvertedComp[df['Gender']=='Man']\n",
    "# df_plot2 = df.ConvertedComp[df['Gender']=='Woman']\n",
    "\n",
    "df_plot1 = df[df['Gender']=='Man'].ConvertedComp\n",
    "df_plot2 = df[df['Gender']=='Woman'].ConvertedComp\n",
    "qs = np.linspace(0, 1, 100, 0)\n",
    "qx=df_plot1.quantile(qs)\n",
    "qy=df_plot2.quantile(qs)\n",
    "\n",
    "# Plot them as a histogram.\n",
    "title_text = 'gender compensation'\n",
    "plt.subplot(2,1,1)\n",
    "histM=plt.hist(df_plot1, density=True, color='blue', bins=np.arange(0, 500000, 25000), alpha=.3)\n",
    "# Plot them as a histogram.\n",
    "histF=plt.hist(df_plot2, density=True, color='red', bins=np.arange(0, 500000, 25000), alpha=.3)\n",
    "plt.title(title_text)\n",
    "plt.xlabel(xlabel_text)\n",
    "plt.ylabel(ylabel_text)\n",
    "\n",
    "# title_text = 'non-DS distribution'\n",
    "# plt.subplot(2,2,3)\n",
    "# plt.hist(df_plot1, density=True, color='blue', bins=np.arange(0, 500000, 25000), alpha=.3)\n",
    "# plt.title(title_text)\n",
    "# plt.xlabel(xlabel_text)\n",
    "\n",
    "# title_text = 'DS distribution'\n",
    "# plt.subplot(2,2,4)\n",
    "# plt.hist(df_plot2, density=True, color='red', bins=np.arange(0, 500000, 25000), alpha=.3)\n",
    "# plt.title(title_text)\n",
    "# plt.xlabel(xlabel_text)\n",
    "\n",
    "\n",
    "# title_text = 'ds/nonDS'\n",
    "# plt.subplot(2,1,2)\n",
    "# plt.hist(histF/histM, density=True, color='blue', bins=np.arange(0, 500000, 25000), alpha=.3)\n",
    "# plt.title(title_text)\n",
    "# plt.xlabel(xlabel_text)\n",
    "\n",
    "\n",
    "\n",
    "# (df['a']\n",
    "#  .pipe(lambda s: pd.Series(np.histogram(s, range=(0, 100), bins=20)))\n",
    "#  .pipe(lambda s: pd.Series(s[0], index=s[1][:-1]))\n",
    "# )\n",
    "# You can then pipe on more things at the end, like:\n",
    "\n",
    "# .pipe(lambda s: s/s.sum())\n",
    "\n"
   ]
  },
  {
   "cell_type": "code",
   "execution_count": 321,
   "metadata": {},
   "outputs": [
    {
     "data": {
      "text/plain": [
       "Straight / Heterosexual                            80.993925\n",
       "Bisexual                                            3.553647\n",
       "Gay or Lesbian                                      1.959530\n",
       "Bisexual;Straight / Heterosexual                    0.516147\n",
       "Bisexual;Gay or Lesbian                             0.115714\n",
       "Bisexual;Gay or Lesbian;Straight / Heterosexual     0.089831\n",
       "Gay or Lesbian;Straight / Heterosexual              0.036541\n",
       "Name: Sexuality, dtype: float64"
      ]
     },
     "execution_count": 321,
     "metadata": {},
     "output_type": "execute_result"
    }
   ],
   "source": [
    "# seems like the incidence seems pretty gen-pop representative.. maybe higher bi than gay..\n",
    "# might want to loook deeper at respondents who chose BOTH straight and Gay / Bi\n",
    "\n",
    "100*df['Sexuality'].value_counts() / df.shape[0]"
   ]
  },
  {
   "cell_type": "code",
   "execution_count": 322,
   "metadata": {},
   "outputs": [
    {
     "data": {
      "text/plain": [
       "Straight / Heterosexual                            80.993925\n",
       "Bisexual                                            3.553647\n",
       "Gay or Lesbian                                      1.959530\n",
       "Bisexual;Straight / Heterosexual                    0.516147\n",
       "Bisexual;Gay or Lesbian                             0.115714\n",
       "Bisexual;Gay or Lesbian;Straight / Heterosexual     0.089831\n",
       "Gay or Lesbian;Straight / Heterosexual              0.036541\n",
       "Name: Sexuality2, dtype: float64"
      ]
     },
     "execution_count": 322,
     "metadata": {},
     "output_type": "execute_result"
    }
   ],
   "source": [
    "100*df['Sexuality2'].value_counts() / df.shape[0]"
   ]
  },
  {
   "cell_type": "code",
   "execution_count": 323,
   "metadata": {},
   "outputs": [
    {
     "data": {
      "text/plain": [
       "No     61714\n",
       "Yes      598\n",
       "Name: Trans, dtype: int64"
      ]
     },
     "execution_count": 323,
     "metadata": {},
     "output_type": "execute_result"
    }
   ],
   "source": [
    "# almost 1% trans...\n",
    "df['Trans'].value_counts()"
   ]
  },
  {
   "cell_type": "code",
   "execution_count": 324,
   "metadata": {},
   "outputs": [
    {
     "data": {
      "text/plain": [
       "Bisexual                                           181\n",
       "Gay or Lesbian                                     111\n",
       "Straight / Heterosexual                             75\n",
       "Bisexual;Gay or Lesbian;Straight / Heterosexual     20\n",
       "Bisexual;Gay or Lesbian                             19\n",
       "Gay or Lesbian;Straight / Heterosexual               6\n",
       "Bisexual;Straight / Heterosexual                     6\n",
       "Name: Sexuality, dtype: int64"
      ]
     },
     "execution_count": 324,
     "metadata": {},
     "output_type": "execute_result"
    }
   ],
   "source": [
    "# Looks like the middle 50% of people mostly work 40 hours weeks, but some extreme outliers exist...\n",
    "df.Sexuality[df['Trans']=='Yes'].value_counts()"
   ]
  },
  {
   "cell_type": "code",
   "execution_count": 325,
   "metadata": {},
   "outputs": [
    {
     "data": {
      "text/plain": [
       "Bisexual                                            7.754927\n",
       "Bisexual;Gay or Lesbian                            25.000000\n",
       "Bisexual;Gay or Lesbian;Straight / Heterosexual    33.898305\n",
       "Bisexual;Straight / Heterosexual                    1.769912\n",
       "Gay or Lesbian                                      8.624709\n",
       "Gay or Lesbian;Straight / Heterosexual             25.000000\n",
       "Straight / Heterosexual                             0.140988\n",
       "Name: Sexuality, dtype: float64"
      ]
     },
     "execution_count": 325,
     "metadata": {},
     "output_type": "execute_result"
    }
   ],
   "source": [
    "100*df.Sexuality[df['Trans']=='Yes'].value_counts()/df.Sexuality.value_counts()"
   ]
  },
  {
   "cell_type": "code",
   "execution_count": 326,
   "metadata": {},
   "outputs": [
    {
     "data": {
      "text/html": [
       "<div>\n",
       "<style scoped>\n",
       "    .dataframe tbody tr th:only-of-type {\n",
       "        vertical-align: middle;\n",
       "    }\n",
       "\n",
       "    .dataframe tbody tr th {\n",
       "        vertical-align: top;\n",
       "    }\n",
       "\n",
       "    .dataframe thead th {\n",
       "        text-align: right;\n",
       "    }\n",
       "</style>\n",
       "<table border=\"1\" class=\"dataframe\">\n",
       "  <thead>\n",
       "    <tr style=\"text-align: right;\">\n",
       "      <th></th>\n",
       "      <th>Trans</th>\n",
       "      <th>notTrans</th>\n",
       "      <th>pctTrans</th>\n",
       "    </tr>\n",
       "  </thead>\n",
       "  <tbody>\n",
       "    <tr>\n",
       "      <th>Straight / Heterosexual</th>\n",
       "      <td>75</td>\n",
       "      <td>52388</td>\n",
       "      <td>0.140988</td>\n",
       "    </tr>\n",
       "    <tr>\n",
       "      <th>Bisexual</th>\n",
       "      <td>181</td>\n",
       "      <td>2060</td>\n",
       "      <td>7.754927</td>\n",
       "    </tr>\n",
       "    <tr>\n",
       "      <th>Gay or Lesbian</th>\n",
       "      <td>111</td>\n",
       "      <td>1154</td>\n",
       "      <td>8.624709</td>\n",
       "    </tr>\n",
       "    <tr>\n",
       "      <th>Bisexual;Straight / Heterosexual</th>\n",
       "      <td>6</td>\n",
       "      <td>324</td>\n",
       "      <td>1.769912</td>\n",
       "    </tr>\n",
       "    <tr>\n",
       "      <th>Bisexual;Gay or Lesbian</th>\n",
       "      <td>19</td>\n",
       "      <td>54</td>\n",
       "      <td>25.000000</td>\n",
       "    </tr>\n",
       "    <tr>\n",
       "      <th>Bisexual;Gay or Lesbian;Straight / Heterosexual</th>\n",
       "      <td>20</td>\n",
       "      <td>26</td>\n",
       "      <td>33.898305</td>\n",
       "    </tr>\n",
       "    <tr>\n",
       "      <th>Gay or Lesbian;Straight / Heterosexual</th>\n",
       "      <td>6</td>\n",
       "      <td>17</td>\n",
       "      <td>25.000000</td>\n",
       "    </tr>\n",
       "  </tbody>\n",
       "</table>\n",
       "</div>"
      ],
      "text/plain": [
       "                                                 Trans  notTrans   pctTrans\n",
       "Straight / Heterosexual                             75     52388   0.140988\n",
       "Bisexual                                           181      2060   7.754927\n",
       "Gay or Lesbian                                     111      1154   8.624709\n",
       "Bisexual;Straight / Heterosexual                     6       324   1.769912\n",
       "Bisexual;Gay or Lesbian                             19        54  25.000000\n",
       "Bisexual;Gay or Lesbian;Straight / Heterosexual     20        26  33.898305\n",
       "Gay or Lesbian;Straight / Heterosexual               6        17  25.000000"
      ]
     },
     "execution_count": 326,
     "metadata": {},
     "output_type": "execute_result"
    }
   ],
   "source": [
    "# Looks like some of the multi-select sexuality identification are also \"trans\"\n",
    "pd.concat([df.Sexuality[df['Trans']=='Yes'].value_counts().rename('Trans'), \n",
    "                    df.Sexuality[df['Trans']=='No'].value_counts().rename('notTrans'),\n",
    "          (100*df.Sexuality[df['Trans']=='Yes'].value_counts()/df.Sexuality.value_counts()).rename('pctTrans')], \n",
    "                   axis =1).sort_values('notTrans',ascending=False)"
   ]
  },
  {
   "cell_type": "code",
   "execution_count": 327,
   "metadata": {
    "scrolled": true
   },
   "outputs": [
    {
     "data": {
      "text/html": [
       "<div>\n",
       "<style scoped>\n",
       "    .dataframe tbody tr th:only-of-type {\n",
       "        vertical-align: middle;\n",
       "    }\n",
       "\n",
       "    .dataframe tbody tr th {\n",
       "        vertical-align: top;\n",
       "    }\n",
       "\n",
       "    .dataframe thead th {\n",
       "        text-align: right;\n",
       "    }\n",
       "</style>\n",
       "<table border=\"1\" class=\"dataframe\">\n",
       "  <thead>\n",
       "    <tr style=\"text-align: right;\">\n",
       "      <th></th>\n",
       "      <th>all</th>\n",
       "      <th>DS</th>\n",
       "    </tr>\n",
       "  </thead>\n",
       "  <tbody>\n",
       "    <tr>\n",
       "      <th>United States</th>\n",
       "      <td>24.513163</td>\n",
       "      <td>27.119275</td>\n",
       "    </tr>\n",
       "    <tr>\n",
       "      <th>India</th>\n",
       "      <td>10.135660</td>\n",
       "      <td>8.911506</td>\n",
       "    </tr>\n",
       "    <tr>\n",
       "      <th>Germany</th>\n",
       "      <td>6.461731</td>\n",
       "      <td>6.578131</td>\n",
       "    </tr>\n",
       "    <tr>\n",
       "      <th>United Kingdom</th>\n",
       "      <td>6.784513</td>\n",
       "      <td>5.647263</td>\n",
       "    </tr>\n",
       "    <tr>\n",
       "      <th>Canada</th>\n",
       "      <td>3.812482</td>\n",
       "      <td>3.711059</td>\n",
       "    </tr>\n",
       "    <tr>\n",
       "      <th>Brazil</th>\n",
       "      <td>2.303628</td>\n",
       "      <td>2.594018</td>\n",
       "    </tr>\n",
       "    <tr>\n",
       "      <th>France</th>\n",
       "      <td>2.678177</td>\n",
       "      <td>2.432667</td>\n",
       "    </tr>\n",
       "    <tr>\n",
       "      <th>Australia</th>\n",
       "      <td>2.181824</td>\n",
       "      <td>2.345786</td>\n",
       "    </tr>\n",
       "    <tr>\n",
       "      <th>Netherlands</th>\n",
       "      <td>2.073722</td>\n",
       "      <td>2.184436</td>\n",
       "    </tr>\n",
       "    <tr>\n",
       "      <th>Poland</th>\n",
       "      <td>2.260997</td>\n",
       "      <td>1.911381</td>\n",
       "    </tr>\n",
       "    <tr>\n",
       "      <th>Spain</th>\n",
       "      <td>1.941260</td>\n",
       "      <td>1.861735</td>\n",
       "    </tr>\n",
       "    <tr>\n",
       "      <th>Russian Federation</th>\n",
       "      <td>1.983891</td>\n",
       "      <td>1.836912</td>\n",
       "    </tr>\n",
       "    <tr>\n",
       "      <th>Italy</th>\n",
       "      <td>1.656542</td>\n",
       "      <td>1.601092</td>\n",
       "    </tr>\n",
       "    <tr>\n",
       "      <th>Switzerland</th>\n",
       "      <td>1.064267</td>\n",
       "      <td>1.452153</td>\n",
       "    </tr>\n",
       "    <tr>\n",
       "      <th>Iran</th>\n",
       "      <td>0.867857</td>\n",
       "      <td>1.253568</td>\n",
       "    </tr>\n",
       "    <tr>\n",
       "      <th>Pakistan</th>\n",
       "      <td>0.951598</td>\n",
       "      <td>1.154276</td>\n",
       "    </tr>\n",
       "    <tr>\n",
       "      <th>South Africa</th>\n",
       "      <td>0.732350</td>\n",
       "      <td>1.042572</td>\n",
       "    </tr>\n",
       "    <tr>\n",
       "      <th>Turkey</th>\n",
       "      <td>1.000320</td>\n",
       "      <td>1.042572</td>\n",
       "    </tr>\n",
       "    <tr>\n",
       "      <th>Sweden</th>\n",
       "      <td>1.461654</td>\n",
       "      <td>1.005337</td>\n",
       "    </tr>\n",
       "    <tr>\n",
       "      <th>Mexico</th>\n",
       "      <td>0.752143</td>\n",
       "      <td>0.992925</td>\n",
       "    </tr>\n",
       "    <tr>\n",
       "      <th>Israel</th>\n",
       "      <td>1.172369</td>\n",
       "      <td>0.968102</td>\n",
       "    </tr>\n",
       "    <tr>\n",
       "      <th>Greece</th>\n",
       "      <td>0.546598</td>\n",
       "      <td>0.843987</td>\n",
       "    </tr>\n",
       "    <tr>\n",
       "      <th>Belgium</th>\n",
       "      <td>0.799342</td>\n",
       "      <td>0.831575</td>\n",
       "    </tr>\n",
       "    <tr>\n",
       "      <th>Denmark</th>\n",
       "      <td>0.683628</td>\n",
       "      <td>0.806752</td>\n",
       "    </tr>\n",
       "    <tr>\n",
       "      <th>Ukraine</th>\n",
       "      <td>1.045996</td>\n",
       "      <td>0.769517</td>\n",
       "    </tr>\n",
       "    <tr>\n",
       "      <th>Argentina</th>\n",
       "      <td>0.668402</td>\n",
       "      <td>0.757106</td>\n",
       "    </tr>\n",
       "    <tr>\n",
       "      <th>Austria</th>\n",
       "      <td>0.884605</td>\n",
       "      <td>0.757106</td>\n",
       "    </tr>\n",
       "    <tr>\n",
       "      <th>Czech Republic</th>\n",
       "      <td>0.832839</td>\n",
       "      <td>0.657813</td>\n",
       "    </tr>\n",
       "    <tr>\n",
       "      <th>Bangladesh</th>\n",
       "      <td>0.601410</td>\n",
       "      <td>0.632990</td>\n",
       "    </tr>\n",
       "    <tr>\n",
       "      <th>Bulgaria</th>\n",
       "      <td>0.762801</td>\n",
       "      <td>0.583344</td>\n",
       "    </tr>\n",
       "  </tbody>\n",
       "</table>\n",
       "</div>"
      ],
      "text/plain": [
       "                          all         DS\n",
       "United States       24.513163  27.119275\n",
       "India               10.135660   8.911506\n",
       "Germany              6.461731   6.578131\n",
       "United Kingdom       6.784513   5.647263\n",
       "Canada               3.812482   3.711059\n",
       "Brazil               2.303628   2.594018\n",
       "France               2.678177   2.432667\n",
       "Australia            2.181824   2.345786\n",
       "Netherlands          2.073722   2.184436\n",
       "Poland               2.260997   1.911381\n",
       "Spain                1.941260   1.861735\n",
       "Russian Federation   1.983891   1.836912\n",
       "Italy                1.656542   1.601092\n",
       "Switzerland          1.064267   1.452153\n",
       "Iran                 0.867857   1.253568\n",
       "Pakistan             0.951598   1.154276\n",
       "South Africa         0.732350   1.042572\n",
       "Turkey               1.000320   1.042572\n",
       "Sweden               1.461654   1.005337\n",
       "Mexico               0.752143   0.992925\n",
       "Israel               1.172369   0.968102\n",
       "Greece               0.546598   0.843987\n",
       "Belgium              0.799342   0.831575\n",
       "Denmark              0.683628   0.806752\n",
       "Ukraine              1.045996   0.769517\n",
       "Argentina            0.668402   0.757106\n",
       "Austria              0.884605   0.757106\n",
       "Czech Republic       0.832839   0.657813\n",
       "Bangladesh           0.601410   0.632990\n",
       "Bulgaria             0.762801   0.583344"
      ]
     },
     "execution_count": 327,
     "metadata": {},
     "output_type": "execute_result"
    }
   ],
   "source": [
    "# Looks like some of the multi-select sexuality identification are also \"trans\"\n",
    "pd.concat([( 100*df['Country'].value_counts()/df.shape[0] ).rename('all'), \n",
    "           ( 100*df.loc[data_scientist, 'Country'].value_counts()/data_scientist.sum() ).rename('DS')], \n",
    "                   axis =1,sort=True).sort_values('DS',ascending=False).head(30)"
   ]
  },
  {
   "cell_type": "markdown",
   "metadata": {},
   "source": [
    "----\n",
    "## QUESTION 2\n",
    "\n",
    "Are their attitudes different?  Here's a few to focus on that ought to be interesting.  :\n",
    "- 'ImpSyn', \n",
    "- 'MgrWant', \n",
    "- 'JobFactors',\n",
    "- 'BlockchainIs', \n",
    "- 'BetterLife', \n",
    "- 'SocialMedia', \n",
    "                 "
   ]
  },
  {
   "cell_type": "code",
   "execution_count": 357,
   "metadata": {},
   "outputs": [
    {
     "data": {
      "text/html": [
       "<div>\n",
       "<style scoped>\n",
       "    .dataframe tbody tr th:only-of-type {\n",
       "        vertical-align: middle;\n",
       "    }\n",
       "\n",
       "    .dataframe tbody tr th {\n",
       "        vertical-align: top;\n",
       "    }\n",
       "\n",
       "    .dataframe thead th {\n",
       "        text-align: right;\n",
       "    }\n",
       "</style>\n",
       "<table border=\"1\" class=\"dataframe\">\n",
       "  <thead>\n",
       "    <tr style=\"text-align: right;\">\n",
       "      <th></th>\n",
       "      <th>ImpSyn_NotDS</th>\n",
       "      <th>ImpSyn_DS</th>\n",
       "      <th>Extraversion_diff</th>\n",
       "    </tr>\n",
       "  </thead>\n",
       "  <tbody>\n",
       "    <tr>\n",
       "      <th>Far below average</th>\n",
       "      <td>1.975046</td>\n",
       "      <td>2.332873</td>\n",
       "      <td>-0.357827</td>\n",
       "    </tr>\n",
       "    <tr>\n",
       "      <th>A little below average</th>\n",
       "      <td>7.224139</td>\n",
       "      <td>5.719303</td>\n",
       "      <td>1.504837</td>\n",
       "    </tr>\n",
       "    <tr>\n",
       "      <th>Average</th>\n",
       "      <td>24.291656</td>\n",
       "      <td>19.402985</td>\n",
       "      <td>4.888671</td>\n",
       "    </tr>\n",
       "    <tr>\n",
       "      <th>A little above average</th>\n",
       "      <td>45.896823</td>\n",
       "      <td>42.430704</td>\n",
       "      <td>3.466120</td>\n",
       "    </tr>\n",
       "    <tr>\n",
       "      <th>Far above average</th>\n",
       "      <td>20.612335</td>\n",
       "      <td>30.114135</td>\n",
       "      <td>-9.501800</td>\n",
       "    </tr>\n",
       "  </tbody>\n",
       "</table>\n",
       "</div>"
      ],
      "text/plain": [
       "                        ImpSyn_NotDS  ImpSyn_DS  Extraversion_diff\n",
       "Far below average           1.975046   2.332873          -0.357827\n",
       "A little below average      7.224139   5.719303           1.504837\n",
       "Average                    24.291656  19.402985           4.888671\n",
       "A little above average     45.896823  42.430704           3.466120\n",
       "Far above average          20.612335  30.114135          -9.501800"
      ]
     },
     "execution_count": 357,
     "metadata": {},
     "output_type": "execute_result"
    },
    {
     "data": {
      "image/png": "[encoded data removed]",
      "text/plain": [
       "<Figure size 1080x864 with 2 Axes>"
      ]
     },
     "metadata": {
      "needs_background": "light"
     },
     "output_type": "display_data"
    }
   ],
   "source": [
    "# plot ImpSyn .. \n",
    "title_text = '(ImpSyn) Personal Compentency (pct)'\n",
    "xlimit = {0,55}\n",
    "xlabel_text = 'percent'\n",
    "ylabel_text = 'ImpSyn'\n",
    "df_plot1 = 100*df.ImpSyn[df['notDS']].value_counts('mean',sort=False)\n",
    "df_plot2 = 100*df.ImpSyn[df['isDS']].value_counts('mean',sort=False)\n",
    "#df_plot2 = df_plot2[df_plot1.index]\n",
    "plot_2col(df_plot1, df_plot2, title_text, xlimit, xlabel_text, ylabel_text,'barh')\n",
    "#df_plot1.unstack(-1).plot.barh()\n",
    "#df_plot1\n",
    "\n",
    "pd.concat([df_plot1.rename('ImpSyn_NotDS'), \n",
    "           df_plot2.rename('ImpSyn_DS'), \n",
    "          (df_plot1-df_plot2).rename('difference (~DS-DS)')], \n",
    "              axis =1)\n"
   ]
  },
  {
   "cell_type": "code",
   "execution_count": 373,
   "metadata": {},
   "outputs": [
    {
     "data": {
      "text/html": [
       "<div>\n",
       "<style scoped>\n",
       "    .dataframe tbody tr th:only-of-type {\n",
       "        vertical-align: middle;\n",
       "    }\n",
       "\n",
       "    .dataframe tbody tr th {\n",
       "        vertical-align: top;\n",
       "    }\n",
       "\n",
       "    .dataframe thead th {\n",
       "        text-align: right;\n",
       "    }\n",
       "</style>\n",
       "<table border=\"1\" class=\"dataframe\">\n",
       "  <thead>\n",
       "    <tr style=\"text-align: right;\">\n",
       "      <th></th>\n",
       "      <th>Extraversion_NotDS</th>\n",
       "      <th>Extraversion_DS</th>\n",
       "      <th>difference (~DS-DS)</th>\n",
       "    </tr>\n",
       "  </thead>\n",
       "  <tbody>\n",
       "    <tr>\n",
       "      <th>In real life (in person)</th>\n",
       "      <td>60.971048</td>\n",
       "      <td>63.022993</td>\n",
       "      <td>-2.051944</td>\n",
       "    </tr>\n",
       "    <tr>\n",
       "      <th>Neither</th>\n",
       "      <td>10.666714</td>\n",
       "      <td>10.566654</td>\n",
       "      <td>0.100060</td>\n",
       "    </tr>\n",
       "    <tr>\n",
       "      <th>Online</th>\n",
       "      <td>28.362238</td>\n",
       "      <td>26.410353</td>\n",
       "      <td>1.951885</td>\n",
       "    </tr>\n",
       "  </tbody>\n",
       "</table>\n",
       "</div>"
      ],
      "text/plain": [
       "                          Extraversion_NotDS  Extraversion_DS  \\\n",
       "In real life (in person)           60.971048        63.022993   \n",
       "Neither                            10.666714        10.566654   \n",
       "Online                             28.362238        26.410353   \n",
       "\n",
       "                          difference (~DS-DS)  \n",
       "In real life (in person)            -2.051944  \n",
       "Neither                              0.100060  \n",
       "Online                               1.951885  "
      ]
     },
     "execution_count": 373,
     "metadata": {},
     "output_type": "execute_result"
    }
   ],
   "source": [
    "# extraversion . better life\n",
    "title_text = '(Extraversion) ---'\n",
    "xlimit = {0,80}\n",
    "xlabel_text = 'percent'\n",
    "ylabel_text = 'Extraversion'\n",
    "df_plot1 = 100*df.Extraversion[df['notDS']].value_counts('mean',sort=False)\n",
    "df_plot2 = 100*df.Extraversion[df['isDS']].value_counts('mean',sort=False)\n",
    "#df_plot2 = df_plot2[df_plot1.index]\n",
    "#plot_2col(df_plot1, df_plot2, title_text, xlimit, xlabel_text, ylabel_text,'barh')\n",
    "#df_plot1.unstack(-1).plot.barh()\n",
    "#df_plot1\n",
    "\n",
    "pd.concat([df_plot1.rename('Extraversion_NotDS'), \n",
    "           df_plot2.rename('Extraversion_DS'), \n",
    "          (df_plot1-df_plot2).rename('difference (~DS-DS)')], \n",
    "                   axis =1)\n"
   ]
  },
  {
   "cell_type": "code",
   "execution_count": 372,
   "metadata": {},
   "outputs": [
    {
     "ename": "SyntaxError",
     "evalue": "invalid syntax (<ipython-input-372-90948ffda96b>, line 15)",
     "output_type": "error",
     "traceback": [
      "\u001b[0;36m  File \u001b[0;32m\"<ipython-input-372-90948ffda96b>\"\u001b[0;36m, line \u001b[0;32m15\u001b[0m\n\u001b[0;31m    (df_plot1-df_plot2).rename('difference (~DS-DS)'],\u001b[0m\n\u001b[0m                                                    ^\u001b[0m\n\u001b[0;31mSyntaxError\u001b[0m\u001b[0;31m:\u001b[0m invalid syntax\n"
     ]
    }
   ],
   "source": [
    "# plot \n",
    "title_text = '(MgrWant ---'\n",
    "xlimit = {0,55}\n",
    "xlabel_text = 'percent'\n",
    "ylabel_text = 'MgrWant'\n",
    "df_plot1 = 100*df.MgrWant[df['notDS']].value_counts('mean',sort=False)\n",
    "df_plot2 = 100*df.MgrWant[df['isDS']].value_counts('mean',sort=False)\n",
    "#df_plot2 = df_plot2[df_plot1.index]\n",
    "#plot_2col(df_plot1, df_plot2, title_text, xlimit, xlabel_text, ylabel_text,'barh')\n",
    "#df_plot1.unstack(-1).plot.barh()\n",
    "#df_plot1\n",
    "\n",
    "pd.concat([df_plot1.rename('MgrWant_NotDS'), \n",
    "           df_plot2.rename('MgrWant_DS'), \n",
    "          (df_plot1-df_plot2).rename('difference (~DS-DS)'], \n",
    "                 axis =1)"
   ]
  },
  {
   "cell_type": "code",
   "execution_count": 362,
   "metadata": {},
   "outputs": [
    {
     "data": {
      "text/html": [
       "<div>\n",
       "<style scoped>\n",
       "    .dataframe tbody tr th:only-of-type {\n",
       "        vertical-align: middle;\n",
       "    }\n",
       "\n",
       "    .dataframe tbody tr th {\n",
       "        vertical-align: top;\n",
       "    }\n",
       "\n",
       "    .dataframe thead th {\n",
       "        text-align: right;\n",
       "    }\n",
       "</style>\n",
       "<table border=\"1\" class=\"dataframe\">\n",
       "  <thead>\n",
       "    <tr style=\"text-align: right;\">\n",
       "      <th></th>\n",
       "      <th>BlockchainIs_NotDS</th>\n",
       "      <th>BlockchainIs_DS</th>\n",
       "      <th>nonDS minus DS</th>\n",
       "    </tr>\n",
       "  </thead>\n",
       "  <tbody>\n",
       "    <tr>\n",
       "      <th>A passing fad</th>\n",
       "      <td>17.727226</td>\n",
       "      <td>15.296880</td>\n",
       "      <td>2.430346</td>\n",
       "    </tr>\n",
       "    <tr>\n",
       "      <th>An irresponsible use of resources</th>\n",
       "      <td>16.180966</td>\n",
       "      <td>15.850386</td>\n",
       "      <td>0.330580</td>\n",
       "    </tr>\n",
       "    <tr>\n",
       "      <th>Useful across many domains and could change many aspects of our lives</th>\n",
       "      <td>27.830141</td>\n",
       "      <td>30.526669</td>\n",
       "      <td>-2.696528</td>\n",
       "    </tr>\n",
       "    <tr>\n",
       "      <th>Useful for decentralized currency (i.e., Bitcoin)</th>\n",
       "      <td>10.813634</td>\n",
       "      <td>10.130829</td>\n",
       "      <td>0.682805</td>\n",
       "    </tr>\n",
       "    <tr>\n",
       "      <th>Useful for immutable record keeping outside of currency</th>\n",
       "      <td>27.448033</td>\n",
       "      <td>28.195236</td>\n",
       "      <td>-0.747203</td>\n",
       "    </tr>\n",
       "  </tbody>\n",
       "</table>\n",
       "</div>"
      ],
      "text/plain": [
       "                                                    BlockchainIs_NotDS  \\\n",
       "A passing fad                                                17.727226   \n",
       "An irresponsible use of resources                            16.180966   \n",
       "Useful across many domains and could change man...           27.830141   \n",
       "Useful for decentralized currency (i.e., Bitcoin)            10.813634   \n",
       "Useful for immutable record keeping outside of ...           27.448033   \n",
       "\n",
       "                                                    BlockchainIs_DS  \\\n",
       "A passing fad                                             15.296880   \n",
       "An irresponsible use of resources                         15.850386   \n",
       "Useful across many domains and could change man...        30.526669   \n",
       "Useful for decentralized currency (i.e., Bitcoin)         10.130829   \n",
       "Useful for immutable record keeping outside of ...        28.195236   \n",
       "\n",
       "                                                    nonDS minus DS  \n",
       "A passing fad                                             2.430346  \n",
       "An irresponsible use of resources                         0.330580  \n",
       "Useful across many domains and could change man...       -2.696528  \n",
       "Useful for decentralized currency (i.e., Bitcoin)         0.682805  \n",
       "Useful for immutable record keeping outside of ...       -0.747203  "
      ]
     },
     "execution_count": 362,
     "metadata": {},
     "output_type": "execute_result"
    },
    {
     "data": {
      "image/png": "[encoded data removed]",
      "text/plain": [
       "<Figure size 1080x864 with 2 Axes>"
      ]
     },
     "metadata": {
      "needs_background": "light"
     },
     "output_type": "display_data"
    }
   ],
   "source": [
    "# plot blockchain versus salary or years experience..?\n",
    "#'BlockchainIs', \n",
    "   \n",
    "title_text = '(BlockchainIs) ---'\n",
    "xlimit = {0,55}\n",
    "xlabel_text = 'percent'\n",
    "ylabel_text = 'BlockchainIs'\n",
    "df_plot1 = 100*df.BlockchainIs[df['notDS']].value_counts('mean',sort=False)\n",
    "df_plot2 = 100*df.BlockchainIs[df['isDS']].value_counts('mean',sort=False)\n",
    "#df_plot2 = df_plot2[df_plot1.index]\n",
    "#plot_2col(df_plot1, df_plot2, title_text, xlimit, xlabel_text, ylabel_text,'barh')\n",
    "#df_plot1.unstack(-1).plot.barh()\n",
    "#df_plot1\n",
    "\n",
    "pd.concat([df_plot1.rename('BlockchainIs_NotDS'), \n",
    "           df_plot2.rename('BlockchainIs_DS'), \n",
    "          (df_plot1-df_plot2).rename('difference (~DS-DS)')], \n",
    "                 axis =1)"
   ]
  },
  {
   "cell_type": "code",
   "execution_count": 371,
   "metadata": {},
   "outputs": [
    {
     "data": {
      "text/html": [
       "<div>\n",
       "<style scoped>\n",
       "    .dataframe tbody tr th:only-of-type {\n",
       "        vertical-align: middle;\n",
       "    }\n",
       "\n",
       "    .dataframe tbody tr th {\n",
       "        vertical-align: top;\n",
       "    }\n",
       "\n",
       "    .dataframe thead th {\n",
       "        text-align: right;\n",
       "    }\n",
       "</style>\n",
       "<table border=\"1\" class=\"dataframe\">\n",
       "  <thead>\n",
       "    <tr style=\"text-align: right;\">\n",
       "      <th></th>\n",
       "      <th>BetterLife_NotDS</th>\n",
       "      <th>BetterLife_DS</th>\n",
       "      <th>nonDS minus DS</th>\n",
       "    </tr>\n",
       "  </thead>\n",
       "  <tbody>\n",
       "    <tr>\n",
       "      <th>No</th>\n",
       "      <td>37.268221</td>\n",
       "      <td>36.86085</td>\n",
       "      <td>0.407372</td>\n",
       "    </tr>\n",
       "    <tr>\n",
       "      <th>Yes</th>\n",
       "      <td>62.731779</td>\n",
       "      <td>63.13915</td>\n",
       "      <td>-0.407372</td>\n",
       "    </tr>\n",
       "  </tbody>\n",
       "</table>\n",
       "</div>"
      ],
      "text/plain": [
       "     BetterLife_NotDS  BetterLife_DS  nonDS minus DS\n",
       "No          37.268221       36.86085        0.407372\n",
       "Yes         62.731779       63.13915       -0.407372"
      ]
     },
     "execution_count": 371,
     "metadata": {},
     "output_type": "execute_result"
    }
   ],
   "source": [
    "#'BlockchainIs', 'BetterLife',   'ITperson', 'SocialMedia',  'ScreenName',  'OpenSource'\n",
    "   \n",
    "title_text = '(BetterLife) ---'\n",
    "xlimit = {0,55}\n",
    "xlabel_text = 'percent'\n",
    "ylabel_text = 'BetterLife'\n",
    "df_plot1 = 100*df.BetterLife[df['notDS']].value_counts('mean',sort=False)\n",
    "df_plot2 = 100*df.BetterLife[df['isDS']].value_counts('mean',sort=False)\n",
    "#df_plot2 = df_plot2[df_plot1.index]\n",
    "#plot_2col(df_plot1, df_plot2, title_text, xlimit, xlabel_text, ylabel_text,'barh')\n",
    "#df_plot1.unstack(-1).plot.barh()\n",
    "#df_plot1\n",
    "\n",
    "pd.concat([df_plot1.rename('BetterLife_NotDS'), \n",
    "           df_plot2.rename('BetterLife_DS'), \n",
    "          (df_plot1-df_plot2).rename('difference (~DS-DS)')], \n",
    "                 axis =1)"
   ]
  },
  {
   "cell_type": "code",
   "execution_count": 370,
   "metadata": {},
   "outputs": [
    {
     "data": {
      "text/html": [
       "<div>\n",
       "<style scoped>\n",
       "    .dataframe tbody tr th:only-of-type {\n",
       "        vertical-align: middle;\n",
       "    }\n",
       "\n",
       "    .dataframe tbody tr th {\n",
       "        vertical-align: top;\n",
       "    }\n",
       "\n",
       "    .dataframe thead th {\n",
       "        text-align: right;\n",
       "    }\n",
       "</style>\n",
       "<table border=\"1\" class=\"dataframe\">\n",
       "  <thead>\n",
       "    <tr style=\"text-align: right;\">\n",
       "      <th></th>\n",
       "      <th>SocialMedia_NotDS</th>\n",
       "      <th>SocialMedia_DS</th>\n",
       "      <th>nonDS minus DS</th>\n",
       "    </tr>\n",
       "  </thead>\n",
       "  <tbody>\n",
       "    <tr>\n",
       "      <th>Hello</th>\n",
       "      <td>0.012700</td>\n",
       "      <td>0.013029</td>\n",
       "      <td>-0.000329</td>\n",
       "    </tr>\n",
       "    <tr>\n",
       "      <th>Youku Tudou 优酷</th>\n",
       "      <td>0.021771</td>\n",
       "      <td>0.013029</td>\n",
       "      <td>0.008742</td>\n",
       "    </tr>\n",
       "    <tr>\n",
       "      <th>Weibo 新浪微博</th>\n",
       "      <td>0.059872</td>\n",
       "      <td>0.052117</td>\n",
       "      <td>0.007754</td>\n",
       "    </tr>\n",
       "    <tr>\n",
       "      <th>Snapchat</th>\n",
       "      <td>0.502558</td>\n",
       "      <td>0.599349</td>\n",
       "      <td>-0.096790</td>\n",
       "    </tr>\n",
       "    <tr>\n",
       "      <th>VK ВКонта́кте</th>\n",
       "      <td>0.691244</td>\n",
       "      <td>0.599349</td>\n",
       "      <td>0.091896</td>\n",
       "    </tr>\n",
       "    <tr>\n",
       "      <th>WeChat 微信</th>\n",
       "      <td>0.776516</td>\n",
       "      <td>0.521173</td>\n",
       "      <td>0.255343</td>\n",
       "    </tr>\n",
       "    <tr>\n",
       "      <th>LinkedIn</th>\n",
       "      <td>5.172539</td>\n",
       "      <td>7.843648</td>\n",
       "      <td>-2.671109</td>\n",
       "    </tr>\n",
       "    <tr>\n",
       "      <th>I don't use social media</th>\n",
       "      <td>6.248412</td>\n",
       "      <td>8.000000</td>\n",
       "      <td>-1.751588</td>\n",
       "    </tr>\n",
       "    <tr>\n",
       "      <th>Instagram</th>\n",
       "      <td>7.581915</td>\n",
       "      <td>6.384365</td>\n",
       "      <td>1.197550</td>\n",
       "    </tr>\n",
       "    <tr>\n",
       "      <th>Twitter</th>\n",
       "      <td>14.614101</td>\n",
       "      <td>13.667752</td>\n",
       "      <td>0.946348</td>\n",
       "    </tr>\n",
       "    <tr>\n",
       "      <th>YouTube</th>\n",
       "      <td>14.761058</td>\n",
       "      <td>14.162866</td>\n",
       "      <td>0.598192</td>\n",
       "    </tr>\n",
       "    <tr>\n",
       "      <th>WhatsApp</th>\n",
       "      <td>15.653688</td>\n",
       "      <td>16.690554</td>\n",
       "      <td>-1.036865</td>\n",
       "    </tr>\n",
       "    <tr>\n",
       "      <th>Facebook</th>\n",
       "      <td>16.032875</td>\n",
       "      <td>16.026059</td>\n",
       "      <td>0.006816</td>\n",
       "    </tr>\n",
       "    <tr>\n",
       "      <th>Reddit</th>\n",
       "      <td>17.870750</td>\n",
       "      <td>15.426710</td>\n",
       "      <td>2.444040</td>\n",
       "    </tr>\n",
       "  </tbody>\n",
       "</table>\n",
       "</div>"
      ],
      "text/plain": [
       "                          SocialMedia_NotDS  SocialMedia_DS  nonDS minus DS\n",
       "Hello                              0.012700        0.013029       -0.000329\n",
       "Youku Tudou 优酷                     0.021771        0.013029        0.008742\n",
       "Weibo 新浪微博                         0.059872        0.052117        0.007754\n",
       "Snapchat                           0.502558        0.599349       -0.096790\n",
       "VK ВКонта́кте                      0.691244        0.599349        0.091896\n",
       "WeChat 微信                          0.776516        0.521173        0.255343\n",
       "LinkedIn                           5.172539        7.843648       -2.671109\n",
       "I don't use social media           6.248412        8.000000       -1.751588\n",
       "Instagram                          7.581915        6.384365        1.197550\n",
       "Twitter                           14.614101       13.667752        0.946348\n",
       "YouTube                           14.761058       14.162866        0.598192\n",
       "WhatsApp                          15.653688       16.690554       -1.036865\n",
       "Facebook                          16.032875       16.026059        0.006816\n",
       "Reddit                            17.870750       15.426710        2.444040"
      ]
     },
     "execution_count": 370,
     "metadata": {},
     "output_type": "execute_result"
    },
    {
     "data": {
      "image/png": "[encoded data removed]",
      "text/plain": [
       "<Figure size 1080x864 with 2 Axes>"
      ]
     },
     "metadata": {
      "needs_background": "light"
     },
     "output_type": "display_data"
    }
   ],
   "source": [
    "#'ITperson', 'SocialMedia',  'ScreenName',  'OpenSource'\n",
    "# more likely to be on LinkedIN . correlats with \"MANAGER?\"\n",
    "  \n",
    "title_text = '(SocialMedia) ---'\n",
    "xlimit = {0,25}\n",
    "xlabel_text = 'percent'\n",
    "ylabel_text = 'SocialMedia'\n",
    "df_plot1 = 100*df.SocialMedia[df['notDS']].value_counts('mean').sort_values(ascending=True)\n",
    "df_plot2 = 100*df.SocialMedia[df['isDS']].value_counts('mean')\n",
    "df_plot2 = df_plot2[df_plot1.index]\n",
    "plot_2col(df_plot1, df_plot2, title_text, xlimit, xlabel_text, ylabel_text,'barh')\n",
    "#df_plot1.unstack(-1).plot.barh()\n",
    "#df_plot1\n",
    "\n",
    "pd.concat([df_plot1.rename('SocialMedia_NotDS'), \n",
    "           df_plot2.rename('SocialMedia_DS'), \n",
    "          (df_plot1-df_plot2).rename('difference (~DS-DS)')], \n",
    "                 axis =1)"
   ]
  },
  {
   "cell_type": "code",
   "execution_count": 355,
   "metadata": {},
   "outputs": [
    {
     "data": {
      "text/html": [
       "<div>\n",
       "<style scoped>\n",
       "    .dataframe tbody tr th:only-of-type {\n",
       "        vertical-align: middle;\n",
       "    }\n",
       "\n",
       "    .dataframe tbody tr th {\n",
       "        vertical-align: top;\n",
       "    }\n",
       "\n",
       "    .dataframe thead th {\n",
       "        text-align: right;\n",
       "    }\n",
       "</style>\n",
       "<table border=\"1\" class=\"dataframe\">\n",
       "  <thead>\n",
       "    <tr style=\"text-align: right;\">\n",
       "      <th></th>\n",
       "      <th>ScreenName_NotDS</th>\n",
       "      <th>ScreenName_DS</th>\n",
       "      <th>nonDS minus DS</th>\n",
       "    </tr>\n",
       "  </thead>\n",
       "  <tbody>\n",
       "    <tr>\n",
       "      <th>Handle</th>\n",
       "      <td>4.977341</td>\n",
       "      <td>5.121918</td>\n",
       "      <td>-0.144577</td>\n",
       "    </tr>\n",
       "    <tr>\n",
       "      <th>Login</th>\n",
       "      <td>10.834381</td>\n",
       "      <td>11.156518</td>\n",
       "      <td>-0.322138</td>\n",
       "    </tr>\n",
       "    <tr>\n",
       "      <th>Screen Name</th>\n",
       "      <td>2.422027</td>\n",
       "      <td>2.506471</td>\n",
       "      <td>-0.084444</td>\n",
       "    </tr>\n",
       "    <tr>\n",
       "      <th>UserID</th>\n",
       "      <td>7.665943</td>\n",
       "      <td>10.025882</td>\n",
       "      <td>-2.359939</td>\n",
       "    </tr>\n",
       "    <tr>\n",
       "      <th>Username</th>\n",
       "      <td>74.100308</td>\n",
       "      <td>71.189211</td>\n",
       "      <td>2.911097</td>\n",
       "    </tr>\n",
       "  </tbody>\n",
       "</table>\n",
       "</div>"
      ],
      "text/plain": [
       "             ScreenName_NotDS  ScreenName_DS  nonDS minus DS\n",
       "Handle               4.977341       5.121918       -0.144577\n",
       "Login               10.834381      11.156518       -0.322138\n",
       "Screen Name          2.422027       2.506471       -0.084444\n",
       "UserID               7.665943      10.025882       -2.359939\n",
       "Username            74.100308      71.189211        2.911097"
      ]
     },
     "execution_count": 355,
     "metadata": {},
     "output_type": "execute_result"
    }
   ],
   "source": [
    "#''ScreenName',  'OpenSource'\n",
    "  \n",
    "title_text = '(ScreenName) ---'\n",
    "xlimit = {0,55}\n",
    "xlabel_text = 'percent'\n",
    "ylabel_text = 'ScreenName'\n",
    "df_plot1 = 100*df.ScreenName[df['notDS']].value_counts('mean',sort=False)\n",
    "df_plot2 = 100*df.ScreenName[df['isDS']].value_counts('mean',sort=False)\n",
    "#df_plot2 = df_plot2[df_plot1.index]\n",
    "#plot_2col(df_plot1, df_plot2, title_text, xlimit, xlabel_text, ylabel_text,'barh')\n",
    "#df_plot1.unstack(-1).plot.barh()\n",
    "#df_plot1\n",
    "\n",
    "pd.concat([df_plot1.rename('ScreenName_NotDS'), \n",
    "           df_plot2.rename('ScreenName_DS'), \n",
    "          (df_plot1-df_plot2).rename('difference (~DS-DS)')], \n",
    "                 axis =1)"
   ]
  },
  {
   "cell_type": "code",
   "execution_count": 356,
   "metadata": {},
   "outputs": [
    {
     "data": {
      "text/html": [
       "<div>\n",
       "<style scoped>\n",
       "    .dataframe tbody tr th:only-of-type {\n",
       "        vertical-align: middle;\n",
       "    }\n",
       "\n",
       "    .dataframe tbody tr th {\n",
       "        vertical-align: top;\n",
       "    }\n",
       "\n",
       "    .dataframe thead th {\n",
       "        text-align: right;\n",
       "    }\n",
       "</style>\n",
       "<table border=\"1\" class=\"dataframe\">\n",
       "  <thead>\n",
       "    <tr style=\"text-align: right;\">\n",
       "      <th></th>\n",
       "      <th>OpenSource_NotDS</th>\n",
       "      <th>OpenSource_DS</th>\n",
       "      <th>nonDS minus DS</th>\n",
       "    </tr>\n",
       "  </thead>\n",
       "  <tbody>\n",
       "    <tr>\n",
       "      <th>OSS is, on average, of HIGHER quality than proprietary / closed source software</th>\n",
       "      <td>42.048489</td>\n",
       "      <td>43.780657</td>\n",
       "      <td>-1.732168</td>\n",
       "    </tr>\n",
       "    <tr>\n",
       "      <th>The quality of OSS and closed source software is about the same</th>\n",
       "      <td>48.517215</td>\n",
       "      <td>45.918752</td>\n",
       "      <td>2.598463</td>\n",
       "    </tr>\n",
       "    <tr>\n",
       "      <th>OSS is, on average, of LOWER quality than proprietary / closed source software</th>\n",
       "      <td>9.434296</td>\n",
       "      <td>10.300591</td>\n",
       "      <td>-0.866295</td>\n",
       "    </tr>\n",
       "  </tbody>\n",
       "</table>\n",
       "</div>"
      ],
      "text/plain": [
       "                                                    OpenSource_NotDS  \\\n",
       "OSS is, on average, of HIGHER quality than prop...         42.048489   \n",
       "The quality of OSS and closed source software i...         48.517215   \n",
       "OSS is, on average, of LOWER quality than propr...          9.434296   \n",
       "\n",
       "                                                    OpenSource_DS  \\\n",
       "OSS is, on average, of HIGHER quality than prop...      43.780657   \n",
       "The quality of OSS and closed source software i...      45.918752   \n",
       "OSS is, on average, of LOWER quality than propr...      10.300591   \n",
       "\n",
       "                                                    nonDS minus DS  \n",
       "OSS is, on average, of HIGHER quality than prop...       -1.732168  \n",
       "The quality of OSS and closed source software i...        2.598463  \n",
       "OSS is, on average, of LOWER quality than propr...       -0.866295  "
      ]
     },
     "execution_count": 356,
     "metadata": {},
     "output_type": "execute_result"
    }
   ],
   "source": [
    "#''ScreenName',  'OpenSource'\n",
    "  \n",
    "title_text = '(OpenSource) ---'\n",
    "xlimit = {0,55}\n",
    "xlabel_text = 'percent'\n",
    "ylabel_text = 'OpenSource'\n",
    "df_plot1 = 100*df.OpenSource[df['notDS']].value_counts('mean',sort=False)\n",
    "df_plot2 = 100*df.OpenSource[df['isDS']].value_counts('mean',sort=False)\n",
    "#df_plot2 = df_plot2[df_plot1.index]\n",
    "#plot_2col(df_plot1, df_plot2, title_text, xlimit, xlabel_text, ylabel_text,'barh')\n",
    "#df_plot1.unstack(-1).plot.barh()\n",
    "#df_plot1\n",
    "\n",
    "pd.concat([df_plot1.rename('OpenSource_NotDS'), \n",
    "           df_plot2.rename('OpenSource_DS'), \n",
    "          (df_plot1-df_plot2).rename('difference (~DS-DS)')], \n",
    "                 axis =1)"
   ]
  },
  {
   "cell_type": "code",
   "execution_count": null,
   "metadata": {},
   "outputs": [],
   "source": [
    "\n"
   ]
  },
  {
   "cell_type": "markdown",
   "metadata": {},
   "source": [
    "RESULTS:       \n",
    "1.0.1.\n",
    "3. How much coding experience do data scientists have compared to non-data scientists?\n",
    "HISTOGRAMS\n",
    "> - years experience\n",
    "> - age first code"
   ]
  },
  {
   "cell_type": "markdown",
   "metadata": {},
   "source": [
    "barh\n",
    "\n",
    "5. Life shit.  attitudes\n",
    "> - impsyn\n",
    "> manager competence (?)"
   ]
  },
  {
   "cell_type": "markdown",
   "metadata": {},
   "source": [
    "----\n",
    "## QUESTION 3\n",
    "\n",
    "Are their skills & work situations different?\n",
    "\n",
    "work_cols = ['ConvertedComp',  'WorkWeekHrs' 'Employment', 'OrgSize']#, \n",
    "             #'JobSeek', 'LastHireDate', 'LastInt', 'ResumeUpdate',   \n",
    "             #'CompTotal', 'CurrencySymbol','CurrencyDesc', 'CompTotal', 'CompFreq', \n",
    "             #'WorkPlan', 'WorkChallenge', 'WorkRemote', 'WorkLoc', 'CodeRev', 'CodeRevHrs', 'UnitTests', \n",
    "             #'PurchaseHow', 'PurchaseWhat']\n",
    "\n",
    "#keep all of these\n",
    "\n",
    "\n",
    "skills_cols = ['YearsCode', 'Age1stCode', 'YearsCodePro', 'OpenSourcer', 'DevType',  'LanguageWorkedWith', \n",
    "               'LanguageDesireNextYear', 'DevEnviron', 'OpSys', 'Containers','BlockchainOrg','FizzBuzz',\n",
    "               'DatabaseWorkedWith', 'DatabaseDesireNextYear', 'PlatformWorkedWith',   'PlatformDesireNextYear',  \n",
    "\n",
    "\n",
    "\n"
   ]
  },
  {
   "cell_type": "markdown",
   "metadata": {},
   "source": [
    "RESULTS:       \n",
    "1.0.1.\n",
    "\n",
    "1. How does the demographic profile of data scientists differ from that of non-data scientists?\n",
    "> - male/female ratio\n",
    "> - incident of out \"other\"/trans\n",
    "\n",
    "> - dependents\n",
    "> - US vs other\n",
    ">"
   ]
  },
  {
   "cell_type": "markdown",
   "metadata": {},
   "source": [
    "RESULTS:       \n",
    "1.0.1.\n",
    "\n",
    "2. What programming languages do data scientists favour and how do they differ from those used by non-data scientists?\n",
    "> - histograms"
   ]
  },
  {
   "cell_type": "markdown",
   "metadata": {},
   "source": [
    "RESULTS:       \n",
    "1.0.1.\n",
    "4. Are data scientists more satisfied with their jobs/careers than non-data scientists?\n",
    "> - salary\n",
    "> - feelings of managers"
   ]
  },
  {
   "cell_type": "code",
   "execution_count": null,
   "metadata": {},
   "outputs": [],
   "source": [
    "work_cols = ['ConvertedComp',  'WorkWeekHrs' 'Employment', 'OrgSize']#, \n",
    "             #'JobSeek', 'LastHireDate', 'LastInt', 'ResumeUpdate',   \n",
    "             #'CompTotal', 'CurrencySymbol','CurrencyDesc', 'CompTotal', 'CompFreq', \n",
    "             #'WorkPlan', 'WorkChallenge', 'WorkRemote', 'WorkLoc', 'CodeRev', 'CodeRevHrs', 'UnitTests', \n",
    "             #'PurchaseHow', 'PurchaseWhat']\n",
    "\n",
    "#keep all of these\n",
    "skills_cols = ['YearsCode', 'Age1stCode', 'YearsCodePro', 'OpenSourcer', 'DevType',  'LanguageWorkedWith', \n",
    "               'LanguageDesireNextYear', 'DevEnviron', 'OpSys', 'Containers','BlockchainOrg','FizzBuzz',\n",
    "               'DatabaseWorkedWith', 'DatabaseDesireNextYear', 'PlatformWorkedWith',   'PlatformDesireNextYear',  \n",
    "\n"
   ]
  },
  {
   "cell_type": "code",
   "execution_count": null,
   "metadata": {},
   "outputs": [],
   "source": []
  },
  {
   "cell_type": "markdown",
   "metadata": {},
   "source": [
    "----\n",
    "## QUESTION 4\n",
    "\n",
    "Can we predict if a developer professional developer is a Data Scientist?"
   ]
  },
  {
   "cell_type": "markdown",
   "metadata": {},
   "source": [
    "### Column Cleanup\n",
    "- Drop columns which we don't want to anlayze\n",
    "- re-order/group columns (in case we want to select with slices?)\n",
    "- Remove all leading and trailing spaces (not nescessary)\n",
    "- Rename the columns for consistency (not nescessary)"
   ]
  },
  {
   "cell_type": "code",
   "execution_count": null,
   "metadata": {},
   "outputs": [],
   "source": [
    "new_columns = ['Education', 'Major', 'nYearsCode', 'nAgeCode', 'nAge'\n",
    "               'nYearsPro', 'WorkWeekH', 'Gen',\n",
    "               'isDS','notDS','isDev','DSonly','DSandDev','otherDev']"
   ]
  },
  {
   "cell_type": "code",
   "execution_count": 36,
   "metadata": {},
   "outputs": [
    {
     "name": "stdout",
     "output_type": "stream",
     "text": [
      "The dataset now contains65679 rows and 67 columns.\n"
     ]
    }
   ],
   "source": [
    "# SKIP ALL STACKOVERFLOW PARTICULARS\n",
    "#'JobSeek','LastHireDate', 'LastInt',\n",
    "#'WorkPlan', 'WorkChallenge',\n",
    "#' WorkRemote', 'WorkLoc',\n",
    "#'CodeRev', 'CodeRevHrs', 'UnitTests',\n",
    "#'PurchaseHow', 'PurchaseWhat',\n",
    "# Skip these\n",
    "# 'WebFrameWorkedWith','WebFrameDesireNextYear',\n",
    "# Print shape of dataset\n",
    "print(f'The dataset now contains {df.shape[0]} rows and {df.shape[1]} columns.')"
   ]
  },
  {
   "cell_type": "code",
   "execution_count": null,
   "metadata": {},
   "outputs": [],
   "source": [
    "isDS = df['isDS']\n",
    "isDev = df['notDS']\n"
   ]
  },
  {
   "cell_type": "markdown",
   "metadata": {},
   "source": [
    "---\n",
    "## Split Multi-Selection Fields \n",
    "\n",
    "For the fields where multiple selections were possible (e.g.  `JobFactors`,`DevEnviron`, and `LanguageWorkedWith`), split the strings containing the multiple selections into a list of selections and then concatenate these lists into a single list (dropping any missing values in the process). \n",
    "\n",
    "We may also want to simplify these fields to reduce the length of category labels and to group similar categories into a single category apon further analysis.\n",
    "This splitting will be the basis for Language, DB, Tech \"FEELINGS\" analysis as well.\n"
   ]
  },
  {
   "cell_type": "code",
   "execution_count": null,
   "metadata": {},
   "outputs": [],
   "source": [
    "# We have to split the LanguageWorkedWith to get a proper picture\n",
    "#languages = survey[survey['LanguageWorkedWith'].notnull()]\n",
    "\n",
    "\n",
    "def split_multiselect(df, col):\n",
    "    \"\"\"Create a new dataframe that splits the values of multi-selection column col into individual selections and \n",
    "    places each selection into a boolean column. This new dataframe can be merged into the original dataframe by \n",
    "    Respondent (index)value.\n",
    "\n",
    "    Args:\n",
    "    df: dataframe. Dataframe containing the multi-selection field col.\n",
    "    col:  column name\n",
    "\n",
    "    Returns:\n",
    "    out_df: dataframe. New dataframe giving split values of col.\n",
    "        \"\"\"\n",
    "\n",
    "    unique_selects = {}\n",
    "\n",
    "    select_na = df[col].isnull()\n",
    "    # split the languages on ;\n",
    "    # for language_set in survey['LanguageWorkedWith'].dropna().apply(lambda row: str(row).split(';')) :\n",
    "    for select_set in df[col].apply(lambda row: str(row).split(';')):\n",
    "        for select in select_set:\n",
    "            if select not in unique_selects.keys():\n",
    "                unique_selects[select] = 1\n",
    "            else:\n",
    "                unique_selects[select] += 1\n",
    "\n",
    "    un_sel = pd.Series(unique_selects).sort_values(ascending=False).copy()\n",
    "    #un_sel.index == 'nan'\n",
    "    out_df = pd.DataFrame()  # columns = unique_selects)\n",
    "    new_cols = []\n",
    "    for sel in un_sel.index:\n",
    "        col_name = col[:25] + '_' + sel.replace(' ', '_')\n",
    "        new_cols.append(col_name)\n",
    "        if (sel == 'nan'):\n",
    "            out_df.loc[:, col_name] = select_na\n",
    "        else:\n",
    "            out_df.loc[:, col_name] = ~ select_na  # df[col]\n",
    "            selected = df[col].dropna().str.split(';').copy()  # .tolist()\n",
    "            # need to strip the nulls\n",
    "            out_df.loc[~select_na, col_name] = selected.apply(\n",
    "                lambda x: sel in x)\n",
    "            out_df.loc[select_na, col_name] = np.nan\n",
    "\n",
    "    return out_df, new_cols"
   ]
  },
  {
   "cell_type": "markdown",
   "metadata": {},
   "source": [
    "### JobFactor & WorkChallenges \n",
    "\n",
    "`JobFactors`,`WorkChallenge`\n"
   ]
  },
  {
   "cell_type": "code",
   "execution_count": null,
   "metadata": {},
   "outputs": [],
   "source": [
    "jobfact, jobfact_cols = split_multiselect(df, 'JobFactors')\n",
    "jobchal, jobchal_cols = split_multiselect(df, 'WorkChallenge')"
   ]
  },
  {
   "cell_type": "code",
   "execution_count": null,
   "metadata": {},
   "outputs": [],
   "source": [
    "jobf_dev = (100*jobfact[isDev].mean()).sort_values(ascending=False)\n",
    "sorted_index = jobf_dev.index\n",
    "jobf_ds = (100*jobfact[isDS].mean())\n",
    "jobf_ds = jobf_ds[sorted_index]\n",
    "jobf_ = pd.DataFrame(jobf_dev - jobf_ds)"
   ]
  },
  {
   "cell_type": "code",
   "execution_count": null,
   "metadata": {},
   "outputs": [],
   "source": [
    "jobf_['dev'] = (jobf_dev)\n",
    "jobf_['DS'] = (jobf_ds)\n",
    "jobf_"
   ]
  },
  {
   "cell_type": "code",
   "execution_count": null,
   "metadata": {},
   "outputs": [],
   "source": [
    "title_text = 'Job Factors'\n",
    "xlimit = {0, 75}\n",
    "ylabel_text = 'Language'\n",
    "pd.DataFrame(jobf_dev - jobf_ds).plot.barh()"
   ]
  },
  {
   "cell_type": "code",
   "execution_count": null,
   "metadata": {},
   "outputs": [],
   "source": [
    "plot_dev_vs_df(jobf_dev, jobf_ds, title_text, xlimit, ylabel_text)"
   ]
  },
  {
   "cell_type": "markdown",
   "metadata": {},
   "source": [
    "### Development Environment \n",
    "\n",
    "`DevEnviron`"
   ]
  },
  {
   "cell_type": "code",
   "execution_count": null,
   "metadata": {},
   "outputs": [],
   "source": [
    "devenv, devenv_cols = split_multiselect(df, 'DevEnviron')"
   ]
  },
  {
   "cell_type": "code",
   "execution_count": null,
   "metadata": {},
   "outputs": [],
   "source": [
    "# how many environs do each respondent claim :  almost 3!!!\n",
    "devenv.sum(axis=1).describe()"
   ]
  },
  {
   "cell_type": "markdown",
   "metadata": {},
   "source": [
    "### Containers\n",
    "\n",
    "`Containers`"
   ]
  },
  {
   "cell_type": "code",
   "execution_count": null,
   "metadata": {},
   "outputs": [],
   "source": [
    "containers, containers_cols = split_multiselect(df, 'Containers')"
   ]
  },
  {
   "cell_type": "markdown",
   "metadata": {},
   "source": [
    "## and convert Now+Future into _FEELINGS_\n",
    "\n",
    "- Love - use and want to continue next year\n",
    "- Hate - use and want to stop next year\n",
    "- Desire - don't use but want to next year\n",
    "\n",
    "\n",
    "For the fields where multiple selections were possible (e.g.  `JobFactors`,`DevEnviron`, and `LanguageWorkedWith`), split the strings containing the multiple selections into a list of selections and then concatenate these lists into a single list (dropping any missing values in the process). \n",
    "\n",
    "We may also want to simplify these fields to reduce the length of category labels and to group similar categories into a single category apon further analysis.\n",
    "\n",
    "Full list of the multi-select variables we will be addressing:\n",
    " `JobFactors`,`DevEnviron`,`Containers`,`WorkChallenge`, as well as the current/future pairs:\n",
    "     `LanguageWorkedWith`, `LanguageDesireNextYear`, \n",
    "     `DatabaseWorkedWith`,`DatabaseDesireNextYear`, \n",
    "     `MiscTechWorkedWith`,`MiscTechDesireNextYear`, \n",
    "     `PlatformWorkedWith`, `PlatformDesireNextYear`,\n"
   ]
  },
  {
   "cell_type": "code",
   "execution_count": null,
   "metadata": {},
   "outputs": [],
   "source": [
    "def split_multiselect_love_hate(df, col, col_next, prefix):\n",
    "    \"\"\"Create a new dataframe that splits the values of multi-selection column col into individual selections and\n",
    "    places each selection into a boolean column. This new dataframe can be merged into the original dataframe by\n",
    "    Respondent (index)value.\n",
    "\n",
    "    Args:\n",
    "    df: dataframe. Dataframe containing the multi-selection field col.\n",
    "    col:  column name\n",
    "    col_next:  column name for \"next year\" multi-select\n",
    "    prefix: how to name the new columns e.g. 'Lang' (&'LangNext') for 'LanguageWorkedWith'&'LanguageDesiredNextYear'\n",
    "\n",
    "    Returns:\n",
    "    out_df: dataframe. New dataframe giving split values of col.\n",
    "        \"\"\"\n",
    "\n",
    "    unique_selects = {}\n",
    "    # split the languages on ;\n",
    "    # for language_set in survey['LanguageWorkedWith'].dropna().apply(lambda row: str(row).split(';')) :\n",
    "    for select_set in df[col].apply(lambda row: str(row).split(';')):\n",
    "        for select in select_set:\n",
    "            if select not in unique_selects.keys():\n",
    "                unique_selects[select] = 1\n",
    "            else:\n",
    "                unique_selects[select] += 1\n",
    "\n",
    "    #     unique_selects_next = {}\n",
    "    #     # split the languages on ;\n",
    "    #     # for language_set in survey['LanguageWorkedWith'].dropna().apply(lambda row: str(row).split(';')) :\n",
    "    #     for select_set in df[col_next].apply(lambda row: str(row).split(';')):\n",
    "    #         for select in select_set:\n",
    "    #             if select not in unique_selects_next.keys():\n",
    "    #                 unique_selects_next[select] = 1\n",
    "    #             else:\n",
    "    #                 unique_selects_next[select] += 1\n",
    "\n",
    "    # unique_selects.keys() == unique_selects_next.keys()\n",
    "    un_sel = pd.Series(unique_selects).sort_values(ascending=False).copy()\n",
    "    #un_sel_next = pd.Series(unique_selects_next).sort_values(ascending=False).copy()\n",
    "\n",
    "    # out_df = pd.DataFrame()  # columns = unique_selects)\n",
    "    out_df = df.loc[:, [col, col_next]]  # columns = unique_selects)\n",
    "\n",
    "    select_na = df[col].isnull()\n",
    "    select_na_next = df[col_next].isnull()\n",
    "\n",
    "    new_cols = []\n",
    "    # new_cols_next = []\n",
    "\n",
    "    for sel in un_sel.index:\n",
    "        # first lets\n",
    "        # col_name = col[:25] + '_' + sel.replace(' ', '_')\n",
    "        col_name = prefix + '_' + sel.replace(' ', '_')\n",
    "        col_name_next = prefix + 'Next_' + sel.replace(' ', '_')\n",
    "        col_name_love = prefix + 'Love_' + sel.replace(' ', '_')\n",
    "        col_name_hate = prefix + 'Hate_' + sel.replace(' ', '_')\n",
    "        col_name_desire = prefix + 'Desire_' + sel.replace(' ', '_')\n",
    "\n",
    "        new_cols.append(col_name)\n",
    "        new_cols.append(col_name_next)\n",
    "        new_cols.append(col_name_love)\n",
    "        new_cols.append(col_name_hate)\n",
    "        new_cols.append(col_name_desire)\n",
    "\n",
    "        if (sel == 'nan'):\n",
    "            # this is a holding tally for how many non-selctions we have...\n",
    "            # so should be true for respondents who have nans in other entries\n",
    "            new_col = select_na\n",
    "            new_col_next = select_na_next\n",
    "            # these are pretty non-sensicle for nan\n",
    "            # this is defensive... not nescessary?\n",
    "            love = (~select_na)\n",
    "            # this is defensive... not nescessary?\n",
    "            hate = (~select_na)\n",
    "            # any non-nan entries are \"desired\" but dangerous\n",
    "            desire = (~select_na_next)\n",
    "\n",
    "        else:\n",
    "            new_col = ~select_na  # this is defensive... not nescessary?\n",
    "            love = ~select_na  # this is defensive... not nescessary?\n",
    "            hate = ~select_na  # this is defensive... not nescessary?\n",
    "\n",
    "            selected = df[col].dropna().str.split(';').copy()\n",
    "            # need to strip the nulls\n",
    "            new_col[~select_na] = selected.apply(lambda x: sel in x)\n",
    "\n",
    "            new_col_next = ~select_na_next  # this is defensive... not nescessary?\n",
    "            desire = ~select_na_next\n",
    "            selected_next = df[col_next].dropna().str.split(';').copy()\n",
    "            # need to strip the nulls\n",
    "            new_col_next[~select_na_next] = selected_next.apply(\n",
    "                lambda x: sel in x)\n",
    "\n",
    "            love = ((new_col == True) & (new_col_next == True))\n",
    "            hate = ((new_col == True) & (new_col_next == False))\n",
    "            desire = ((new_col == False) & (new_col_next == True))\n",
    "\n",
    "            # can only \"love/hate\" it if you alread do it..\n",
    "            love[(new_col == False)] = np.nan\n",
    "            hate[(new_col == False)] = np.nan\n",
    "            # can only \"desire\" it if you don't alread do it..\n",
    "            desire[(new_col == True)] = np.nan\n",
    "\n",
    "            # put the nonentries back in place\n",
    "            new_col[select_na] = np.nan\n",
    "            new_col_next[select_na_next] = np.nan\n",
    "\n",
    "            love[select_na] = np.nan\n",
    "            love[select_na_next] = np.nan\n",
    "            hate[select_na] = np.nan\n",
    "            desire[select_na_next] = np.nan\n",
    "\n",
    "        out_df.loc[:, col_name] = new_col.astype('float64')\n",
    "        out_df.loc[:, col_name_next] = new_col_next.astype('float64')\n",
    "\n",
    "        out_df.loc[:, col_name_love] = love.astype('float64')\n",
    "        out_df.loc[:, col_name_hate] = hate.astype('float64')\n",
    "        out_df.loc[:, col_name_desire] = desire.astype('float64')\n",
    "\n",
    "    return out_df, new_cols"
   ]
  },
  {
   "cell_type": "markdown",
   "metadata": {},
   "source": [
    "### Languages \n",
    "\n",
    "`LanguageWorkedWith`, `LanguageDesireNextYear`, \n"
   ]
  },
  {
   "cell_type": "code",
   "execution_count": null,
   "metadata": {},
   "outputs": [],
   "source": [
    "col = 'LanguageWorkedWith'\n",
    "col_next = 'LanguageDesireNextYear'\n",
    "prefix = 'Lang'\n",
    "langs_df, Lang_cols = split_multiselect_love_hate(df, col, col_next, prefix)"
   ]
  },
  {
   "cell_type": "code",
   "execution_count": null,
   "metadata": {},
   "outputs": [],
   "source": [
    "langs_df.iloc[:, 0:15].head(35)"
   ]
  },
  {
   "cell_type": "code",
   "execution_count": null,
   "metadata": {},
   "outputs": [],
   "source": [
    "# We have to split the LanguageWorkedWith to get a proper picture\n",
    "#languages = survey[survey['LanguageWorkedWith'].notnull()]\n",
    "\n",
    "col = 'LanguageWorkedWith'\n",
    "col_next = 'LanguageDesireNextYear'\n",
    "prefix = 'Lang'\n",
    "\n",
    "unique_selects = {}\n",
    "# split the languages on ;\n",
    "# for language_set in survey['LanguageWorkedWith'].dropna().apply(lambda row: str(row).split(';')) :\n",
    "for select_set in df[col].apply(lambda row: str(row).split(';')):\n",
    "    for select in select_set:\n",
    "        if select not in unique_selects.keys():\n",
    "            unique_selects[select] = 1\n",
    "        else:\n",
    "            unique_selects[select] += 1\n",
    "\n",
    "\n",
    "unique_selects_next = {}\n",
    "# split the languages on ;\n",
    "# for language_set in survey['LanguageWorkedWith'].dropna().apply(lambda row: str(row).split(';')) :\n",
    "for select_set in df[col_next].apply(lambda row: str(row).split(';')):\n",
    "    for select in select_set:\n",
    "        if select not in unique_selects_next.keys():\n",
    "            unique_selects_next[select] = 1\n",
    "        else:\n",
    "            unique_selects_next[select] += 1\n",
    "\n",
    "#unique_selects.keys() == unique_selects_next.keys()\n",
    "un_sel = pd.Series(unique_selects).sort_values(ascending=False).copy()\n",
    "un_sel_next = pd.Series(unique_selects_next).sort_values(\n",
    "    ascending=False).copy()"
   ]
  },
  {
   "cell_type": "markdown",
   "metadata": {},
   "source": [
    "Incidence of language mentions for now and last year indicate that Javascript is the top dawg but losing steam (though the TypeScript and WebAssembly flavors are up and coming), and traditional HTML/CSS also seems to be on the decline.   Go and Python seem to be steadily growing in interest, with Go, Kotlin, Clojure, Rust and Dart seeming to have emerging interest.  "
   ]
  },
  {
   "cell_type": "code",
   "execution_count": null,
   "metadata": {},
   "outputs": [],
   "source": [
    "# #pd.DataFrame([un_sel,un_sel_next])  # columns = unique_selects)\n",
    "langs = pd.concat([un_sel, un_sel_next], axis=1, sort=False)\n",
    "# langs.sum(axis=1)\n",
    "langs.columns = [col, col_next]\n",
    "langs['NowVsNextYear'] = (langs[col_next]-langs[col])\n",
    "langs['pctInterestNext'] = (100*(langs[col_next]-langs[col])/langs[col])"
   ]
  },
  {
   "cell_type": "code",
   "execution_count": null,
   "metadata": {},
   "outputs": [],
   "source": [
    "# raw difference in mentions\n",
    "langs.sort_values('NowVsNextYear', ascending=True)"
   ]
  },
  {
   "cell_type": "code",
   "execution_count": null,
   "metadata": {},
   "outputs": [],
   "source": [
    "# This is how to merge the \"splits\" back into the main DF (for regressions...)\n",
    "#df_ = df.merge(langs, how='outer', left_index=True, right_index=True)\n",
    "# df_.shape"
   ]
  },
  {
   "cell_type": "markdown",
   "metadata": {},
   "source": [
    "Now we need to look at what percentage of each language users LOVE, or HATE that language.  And what the raw percentage of non-users are interested in the language.\n",
    "\n",
    "Lets plot as some horizontal bar graphs next to the raw incidence of language use for all Professionals and then with Developers and DataScientists broken out.\n",
    "\n"
   ]
  },
  {
   "cell_type": "code",
   "execution_count": null,
   "metadata": {},
   "outputs": [],
   "source": [
    "title_text = 'Incidence of Language used'\n",
    "xlimit = {0, 75}\n",
    "ylabel_text = 'Language'\n",
    "\n",
    "plot_dev_vs_df(lang_dev, lang_ds, title_text, xlimit, ylabel_text)"
   ]
  },
  {
   "cell_type": "code",
   "execution_count": null,
   "metadata": {},
   "outputs": [],
   "source": [
    "# DataFrame.hist(data, column=None, by=None, grid=True,\n",
    "#  xlabelsize=None, xrot=None, ylabelsize=None,\n",
    "#  yrot=None, ax=None, sharex=False, sharey=False,\n",
    "#  figsize=None, layout=None, bins=10,"
   ]
  },
  {
   "cell_type": "code",
   "execution_count": null,
   "metadata": {},
   "outputs": [],
   "source": [
    "langs = langs_df.filter(regex='Lang_')\n",
    "#langs = langs.merge(df['DSorDV'], how='outer', left_index=True, right_index=True)\n",
    "# langs.groupby('DSorDV').mean()"
   ]
  },
  {
   "cell_type": "code",
   "execution_count": null,
   "metadata": {},
   "outputs": [],
   "source": [
    "lang_dev = (100*langs[isDev].mean()).sort_values(ascending=True)\n",
    "sorted_index = lang_dev.index\n",
    "lang_ds = (100*langs[isDS].mean())\n",
    "lang_ds = lang_ds[sorted_index]\n",
    "lang_pct = (100*langs[isDev].mean()).sort_values(ascending=True)\n",
    "lang_pct = lang_pct[sorted_index]"
   ]
  },
  {
   "cell_type": "code",
   "execution_count": null,
   "metadata": {},
   "outputs": [],
   "source": [
    "filt = langs_df.filter(regex='LangLove_')\n",
    "love = filt.drop(columns='LangLove_nan')\n",
    "\n",
    "love_dev = (100*love[isDev].mean()).sort_values(ascending=True)\n",
    "love_ds = (100*love[isDS].mean()).sort_values(ascending=True)\n",
    "#love_ds = love_ds[love_dev.index]\n",
    "title_text = 'language LOVE (of current users, percent who WANT to use next year)'\n",
    "\n",
    "xlimit = {0, 95}\n",
    "ylabel_text = 'Language'\n",
    "\n",
    "plot_dev_vs_df(love_dev, love_ds, title_text, xlimit, ylabel_text)"
   ]
  },
  {
   "cell_type": "code",
   "execution_count": null,
   "metadata": {},
   "outputs": [],
   "source": [
    "filt = langs_df.filter(regex='LangHate')\n",
    "hate = filt.drop(columns='LangHate_nan')\n",
    "\n",
    "\n",
    "hate_dev = (100*hate[isDev].mean()).sort_values(ascending=True)\n",
    "hate_ds = (100*hate[isDS].mean()).sort_values(ascending=True)\n",
    "\n",
    "title_text = 'language HATE (of current users, percent who DO NOT want to use it next year)'\n",
    "\n",
    "xlimit = {0, 85}\n",
    "ylabel_text = 'Language'\n",
    "\n",
    "plot_dev_vs_df(hate_dev, hate_ds, title_text, xlimit, ylabel_text)"
   ]
  },
  {
   "cell_type": "code",
   "execution_count": null,
   "metadata": {},
   "outputs": [],
   "source": [
    "filt = langs_df.filter(regex='LangDesire')\n",
    "desire = filt.drop(columns='LangDesire_nan')\n",
    "\n",
    "des_dev = (100*desire[isDev].mean()).sort_values(ascending=True)\n",
    "des_ds = (100*desire[isDS].mean()).sort_values(ascending=True)\n",
    "\n",
    "title_text = 'language DESIRE (of non-users, percent who WANT to use it next year)'\n",
    "\n",
    "xlimit = {0, 35}\n",
    "ylabel_text = 'Language'\n",
    "\n",
    "plot_dev_vs_df(des_dev, des_ds, title_text, xlimit, ylabel_text)"
   ]
  },
  {
   "cell_type": "code",
   "execution_count": null,
   "metadata": {},
   "outputs": [],
   "source": [
    "col = 'PlatformWorkedWith'\n",
    "col_next = 'PlatformDesireNextYear'\n",
    "prefix = 'Platform'\n",
    "platform_df, Platform_cols = split_multiselect_love_hate(\n",
    "    df, col, col_next, prefix)"
   ]
  },
  {
   "cell_type": "code",
   "execution_count": null,
   "metadata": {},
   "outputs": [],
   "source": []
  },
  {
   "cell_type": "code",
   "execution_count": null,
   "metadata": {},
   "outputs": [],
   "source": [
    "plats = platform_df.filter(regex='Platform_')\n",
    "plats = plats.drop(columns='Platform_nan')\n",
    "\n",
    "plats_dev = (100*plats[isDev].mean()).sort_values(ascending=True)\n",
    "plats_ds = (100*plats[isDS].mean()).sort_values(ascending=True)\n",
    "\n",
    "title_text = 'incidence of platforms used'\n",
    "xlimit = {0, 75}\n",
    "ylabel_text = 'Platform'\n",
    "plot_dev_vs_df(plats_dev, plats_ds, title_text, xlimit, ylabel_text)"
   ]
  },
  {
   "cell_type": "code",
   "execution_count": null,
   "metadata": {},
   "outputs": [],
   "source": [
    "# plats = platform_df.filter(regex='PlatformDesire_')\n",
    "# plats = plats.drop(columns='PlatformDesire_nan')\n",
    "\n",
    "# platsd_dev = (100*plats[isDev].mean()).sort_values(ascending=True)\n",
    "# platsd_ds = (100*plats[isDS].mean()).sort_values(ascending=True)\n",
    "\n",
    "# platsd_dev.plot.barh(figsize=(10, 10))\n",
    "\n",
    "# platsd_ds.plot.barh(figsize=(10, 10))"
   ]
  },
  {
   "cell_type": "code",
   "execution_count": null,
   "metadata": {},
   "outputs": [],
   "source": [
    "col = 'DatabaseWorkedWith'\n",
    "col_next = 'DatabaseDesireNextYear'\n",
    "prefix = 'DB'\n",
    "db_df, DB_cols = split_multiselect_love_hate(df, col, col_next, prefix)"
   ]
  },
  {
   "cell_type": "code",
   "execution_count": null,
   "metadata": {},
   "outputs": [],
   "source": [
    "dbs = db_df.filter(regex='DB_')\n",
    "dbs = dbs.drop(columns='DB_nan')\n",
    "\n",
    "dbs_dev = (100*dbs[isDev].mean()).sort_values(ascending=True)\n",
    "dbs_ds = (100*dbs[isDS].mean()).sort_values(ascending=True)\n",
    "\n",
    "title_text = 'incidence of database used'\n",
    "xlimit = {0, 60}\n",
    "ylabel_text = 'Database'\n",
    "plot_dev_vs_df(dbs_dev, dbs_ds, title_text, xlimit, ylabel_text)"
   ]
  },
  {
   "cell_type": "code",
   "execution_count": null,
   "metadata": {},
   "outputs": [],
   "source": [
    "col = 'MiscTechWorkedWith'\n",
    "col_next = 'MiscTechDesireNextYear'\n",
    "prefix = 'Tech'\n",
    "tech_df, Tech_cols = split_multiselect_love_hate(df, col, col_next, prefix)"
   ]
  },
  {
   "cell_type": "code",
   "execution_count": null,
   "metadata": {},
   "outputs": [],
   "source": [
    "techs = tech_df.filter(regex='Tech_')\n",
    "techs = techs.drop(columns='Tech_nan')\n",
    "\n",
    "techs_dev = (100*techs[isDev].mean()).sort_values(ascending=True)\n",
    "techs_ds = (100*techs[isDS].mean()).sort_values(ascending=True)\n",
    "\n",
    "title_text = 'incidence of technology used'\n",
    "xlimit = {0, 60}\n",
    "ylabel_text = 'Tech'\n",
    "plot_dev_vs_df(dbs_dev, dbs_ds, title_text, xlimit, ylabel_text)"
   ]
  },
  {
   "cell_type": "markdown",
   "metadata": {},
   "source": [
    "---\n",
    "\n",
    "dont \n",
    "\n",
    "---\n",
    "\n",
    "go \n",
    "\n",
    "---\n",
    "\n",
    "below\n",
    "\n",
    "---\n",
    "\n",
    "here\n",
    "\n",
    "---"
   ]
  },
  {
   "cell_type": "markdown",
   "metadata": {},
   "source": [
    "throw out everything except a simple df"
   ]
  },
  {
   "cell_type": "code",
   "execution_count": null,
   "metadata": {},
   "outputs": [],
   "source": [
    "import sklearn\n",
    "from sklearn import svm, preprocessing\n",
    "\n",
    "# always shuffle your data to avoid any biases that may emerge b/c of some order.\n",
    "df = sklearn.utils.shuffle(df)\n",
    "\n",
    "X = df.drop(\"price\", axis=1).values\n",
    "X = preprocessing.scale(X)\n",
    "y = df[\"price\"].values\n",
    "\n",
    "test_size = 200\n",
    "\n",
    "X_train = X[:-test_size]\n",
    "y_train = y[:-test_size]\n",
    "\n",
    "X_test = X[-test_size:]\n",
    "y_test = y[-test_size:]\n",
    "\n",
    "clf = svm.SVR(kernel='linear')\n",
    "#clf = svm.SVR(kernel = 'rbf')\n",
    "\n",
    "clf.fit(X_train, y_train)\n",
    "print(clf.score(X_test, y_test))\n",
    "\n",
    "for X, y in list(zip(X_test, y_test))[:10]:\n",
    "    print(f\"model predicts {clf.predict([X])[0]}, real value: {y}\")"
   ]
  },
  {
   "cell_type": "code",
   "execution_count": null,
   "metadata": {},
   "outputs": [],
   "source": [
    "#import seaborn as sns\n",
    "import matplotlib.pyplot as plt\n",
    "sns.set(style=\"whitegrid\")\n",
    "\n",
    "# Initialize the matplotlib figure\n",
    "f, ax = plt.subplots(figsize=(6, 15))\n",
    "\n",
    "sns.set_color_codes(\"pastel\")\n",
    "p = sns.countplot(data=techs)\n",
    "\n",
    "#sns.barplot(x=\"MainBranch\", y=\"abbrev\", data=df, label=\"Count\", color=\"b\")\n",
    "\n",
    "\n",
    "# Plot the crashes where alcohol was involved\n",
    "# sns.set_color_codes(\"muted\")\n",
    "# sns.barplot(x=\"alcohol\", y=\"abbrev\", data=crashes,\n",
    "#            label=\"Alcohol-involved\", color=\"b\")\n",
    "\n",
    "# Add a legend and informative axis label\n",
    "#ax.legend(ncol=2, loc=\"lower right\", frameon=True)\n",
    "# ax.set(xlim=(0, 24), ylabel=\"\",\n",
    "#       xlabel=\"Automobile collisions per billion miles\")\n",
    "#sns.despine(left=True, bottom=True)"
   ]
  },
  {
   "cell_type": "code",
   "execution_count": null,
   "metadata": {},
   "outputs": [],
   "source": [
    "# Generate 1000 random values.\n",
    "x = np.random.normal(10, 5, 1000)\n",
    "y = np.random.normal(11, 10, 1000)\n",
    "# Plot them as a histogram.\n",
    "plt.hist(x)\n",
    "plt.show()  # Same data, this time normed, using density.\n",
    "plt.hist(x, density=True, color='blue', bins=np.arange(-10, 40), alpha=.5)\n",
    "plt.hist(y, density=True, color='red', bins=np.arange(-10, 40), alpha=.5)\n",
    "plt.title('Normed histograms')\n",
    "plt.xlabel('Random Values')\n",
    "\n",
    "plt.show()\n",
    "\n",
    "\n",
    "(data, column=None, by=None, grid=True,\n",
    "#  xlabelsize=None, xrot=None, ylabelsize=None,\n",
    "#  yrot=None, ax=None, sharex=False, sharey=False,\n",
    "#  figsize=None, layout=None, bins=10,\n",
    " \n",
    "\n",
    "print(set(df['region'].values.tolist()))\n",
    "\n",
    "region_df = df.copy()[df['region'] == region]\n",
    "\n",
    "\n",
    "graph_df = pd.DataFrame()\n",
    "\n",
    "for region in df['region'].unique():\n",
    "    region_df = df.copy()[df['region'] == region]\n",
    "    region_df.set_index('Date', inplace=True)\n",
    "    region_df.sort_index(inplace=True)\n",
    "    region_df[f\"{region}_price25ma\"] = region_df[\"AveragePrice\"].rolling(\n",
    "        25).mean()\n",
    "\n",
    "    if graph_df.empty:\n",
    "        # note the double square brackets! (so df rather than series)\n",
    "        graph_df = region_df[[f\"{region}_price25ma\"]]\n",
    "    else:\n",
    "        graph_df = graph_df.join(region_df[f\"{region}_price25ma\"])\n",
    "\n",
    "graph_df.tail()"
   ]
  },
  {
   "cell_type": "code",
   "execution_count": null,
   "metadata": {},
   "outputs": [],
   "source": [
    "# create figure and axis\n",
    "fig, ax = plt.subplots()\n",
    "# plot histogram\n",
    "\n",
    "\n",
    "ax.hist(desireDS, bins=30, alpha=0.3, density=True,\n",
    "        range={0, 1000000.}, color='r')\n",
    "# set title and labels\n",
    "ax.set_title('df')\n",
    "ax.set_xlabel('muney')\n",
    "ax.set_ylabel('Frequency')\n",
    "ax.hist(desireDev, bins=30, alpha=0.3, density=True,\n",
    "        range={0, 1000000.}, color='b')\n",
    "\n",
    "\n",
    "# Initialize the matplotlib figure\n",
    "f, ax = plt.subplots(figsize=(6, 15))\n",
    "\n",
    "sns.set_color_codes(\"pastel\")\n",
    "p = sns.countplot(data=df, x='MainBranch')\n",
    "\n",
    "p = sns.countplot(data=df,\n",
    "                  y='Category',\n",
    "                  hue='DSorDV')\n",
    "\n",
    "\n",
    "# Plot the total crashes\n",
    "# sns.barplot(x=\"MainBranch\", y=\"abbrev\", data=df, label=\"Count\", color=\"b\")\n",
    "\n",
    "# Plot the crashes where alcohol was involved\n",
    "# sns.set_color_codes(\"muted\")\n",
    "# sns.barplot(x=\"alcohol\", y=\"abbrev\", data=crashes,\n",
    "#            label=\"Alcohol-involved\", color=\"b\")\n",
    "\n",
    "# Add a legend and informative axis label\n",
    "# ax.legend(ncol=2, loc=\"lower right\", frameon=True)\n",
    "# ax.set(xlim=(0, 24), ylabel=\"\",\n",
    "#       xlabel=\"Automobile collisions per billion miles\")\n",
    "sns.despine(left=True, bottom=True)\n",
    "\n",
    "# Databases, Platforms, and Misc Tech\n",
    "\n",
    "      `DatabaseWorkedWith`, `DatabaseDesireNextYear`,\n",
    "     `MiscTechWorkedWith`,`MiscTechDesireNextYear`, \n",
    "     `PlatformWorkedWith`, `PlatformDesireNextYear`,"
   ]
  },
  {
   "cell_type": "code",
   "execution_count": null,
   "metadata": {},
   "outputs": [],
   "source": [
    "df.pivot_table(['Total day calls', 'Total eve calls', 'Total night calls'],\n",
    "               ['Area code'], aggfunc='mean')\n",
    "\n",
    "pd.crosstab(df['Churn'], df['Voice mail plan'], normalize=True)\n",
    "\n",
    "\n",
    "# Plotting a bar graph of the number of stores in each city, for the first ten cities listed\n",
    "# in the column 'City'\n",
    "city_count = df['City'].value_counts()\n",
    "city_count = city_count[:10, ]\n",
    "plt.figure(figsize=(10, 5))\n",
    "sns.barplot(city_count.index, city_count.values, alpha=0.8)\n",
    "plt.title('Starbucks in top 10 cities in the World')\n",
    "plt.ylabel('Number of Occurrences', fontsize=12)\n",
    "plt.xlabel('city', fontsize=12)\n",
    "plt.show()"
   ]
  },
  {
   "cell_type": "markdown",
   "metadata": {},
   "source": [
    "# DEPRICATED CODE \n",
    "\n",
    "Moved these munging/wrangling items to the bottom for sake of sharing"
   ]
  },
  {
   "cell_type": "markdown",
   "metadata": {},
   "source": [
    "### zero order sanity checks\n",
    "First lets see what features are in here, and see how complete it is... empty (`NaN`) entries...  complete columns... and columns with lots of missing data. "
   ]
  },
  {
   "cell_type": "code",
   "execution_count": null,
   "metadata": {},
   "outputs": [],
   "source": [
    "# what pct of of empty entries..\n",
    "(100 * df.isna().sum() / df.shape[0]).describe()"
   ]
  },
  {
   "cell_type": "code",
   "execution_count": null,
   "metadata": {},
   "outputs": [],
   "source": [
    "# check columns with no missing values\n",
    "set(df.isna().sum()[df.isna().sum() == 0].keys())"
   ]
  },
  {
   "cell_type": "code",
   "execution_count": null,
   "metadata": {},
   "outputs": [],
   "source": [
    "# check which columns have over 50% missing values\n",
    "sum(df.columns[100*df.isna().sum()/df.shape[0] > 50])"
   ]
  }
 ],
 "metadata": {
  "kernelspec": {
   "display_name": "Python 3",
   "language": "python",
   "name": "python3"
  },
  "language_info": {
   "codemirror_mode": {
    "name": "ipython",
    "version": 3
   },
   "file_extension": ".py",
   "mimetype": "text/x-python",
   "name": "python",
   "nbconvert_exporter": "python",
   "pygments_lexer": "ipython3",
   "version": "3.7.3"
  },
  "toc": {
   "base_numbering": 1,
   "nav_menu": {},
   "number_sections": true,
   "sideBar": true,
   "skip_h1_title": false,
   "title_cell": "Table of Contents",
   "title_sidebar": "Contents",
   "toc_cell": false,
   "toc_position": {
    "height": "calc(100% - 180px)",
    "left": "10px",
    "top": "150px",
    "width": "279.08px"
   },
   "toc_section_display": true,
   "toc_window_display": true
  },
  "varInspector": {
   "cols": {
    "lenName": 16,
    "lenType": 16,
    "lenVar": 40
   },
   "kernels_config": {
    "python": {
     "delete_cmd_postfix": "",
     "delete_cmd_prefix": "del ",
     "library": "var_list.py",
     "varRefreshCmd": "print(var_dic_list())"
    },
    "r": {
     "delete_cmd_postfix": ") ",
     "delete_cmd_prefix": "rm(",
     "library": "var_list.r",
     "varRefreshCmd": "cat(var_dic_list()) "
    }
   },
   "position": {
    "height": "840.984px",
    "left": "265.141px",
    "right": "20px",
    "top": "61.875px",
    "width": "800px"
   },
   "types_to_exclude": [
    "module",
    "function",
    "builtin_function_or_method",
    "instance",
    "_Feature"
   ],
   "window_display": false
  }
 },
 "nbformat": 4,
 "nbformat_minor": 2
}
