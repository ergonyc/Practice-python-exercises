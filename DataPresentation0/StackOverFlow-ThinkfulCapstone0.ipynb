{
 "cells": [
  {
   "cell_type": "markdown",
   "metadata": {},
   "source": [
    "## [SIMPLIFIED] StackOverFlow Developer Survey Analysis"
   ]
  },
  {
   "cell_type": "code",
   "execution_count": 1,
   "metadata": {
    "slideshow": {
     "slide_type": "slide"
    }
   },
   "outputs": [],
   "source": [
    "import pandas as pd\n",
    "from pathlib import Path\n",
    "from datetime import datetime\n",
    "import requests\n",
    "import zipfile\n",
    "import shutil\n",
    "import os\n",
    "\n",
    "import numpy as np\n",
    "import matplotlib.pyplot as plt"
   ]
  },
  {
   "cell_type": "code",
   "execution_count": 2,
   "metadata": {},
   "outputs": [],
   "source": [
    "# filter the warning for now on\n",
    "#import warnings\n",
    "#warnings.simplefilter(\"ignore\", DeprecationWarning)\n",
    "\n",
    "# new way to create an ordered category\n",
    "from pandas.api.types import CategoricalDtype"
   ]
  },
  {
   "cell_type": "markdown",
   "metadata": {},
   "source": [
    "## OVERVIEW"
   ]
  },
  {
   "cell_type": "markdown",
   "metadata": {},
   "source": [
    "As the business world adapts to the massive disrutption of internet and the consumer epxectations driven by unleashed by the first movers and innovators in Tech, DATA SCIENTISTS have become hightly sought after.  This has made it a very attractive career building on the customs and tools pioneered by individuals in Academic Science and Computer Programming disciplines. \n",
    "\n",
    "Data Science is a hot field; however, are the people doing \"the best job in America\" really any different from other developers?  Lets use the annual Stack Overflow Developers Survey to try and find out.\n"
   ]
  },
  {
   "cell_type": "markdown",
   "metadata": {},
   "source": [
    "---\n",
    "## DATASET Description:\n",
    "\n",
    "The data set is the full, cleaned results of the 2019 Stack Overflow Developer Survey, downloaded from: <https://insights.stackoverflow.com/survey>.   The survey was fielded from January 23 to February 14, 2019. The median time spent on the survey for qualified responses was 23.3 minutes.  Unfortunately, free response submissions and personally identifying information have been removed from the pubicly available data in order to protect the privacy of respondents. \n",
    "\n",
    "Respondents were recruited primarily through channels owned by Stack Overflow. The top 5 sources of respondents were onsite messaging, blog posts, email lists, Meta posts, banner ads, and social media posts. Since respondents were recruited in this way, highly engaged users on Stack Overflow were more likely to notice the links for the survey and click to begin it. This community is _highly_ biased compared with the general population.  Heavy on white males from the US.\n"
   ]
  },
  {
   "cell_type": "markdown",
   "metadata": {},
   "source": [
    "\n",
    "### Data Files\n",
    "\n",
    "There two files of interest are a CSV table of results, and a schema table containing the questions.   For theis analysis we'll just need the survey.csv which we will download and save to a local file re-coded by the year in case we want to look at additional years of data in the future."
   ]
  },
  {
   "cell_type": "code",
   "execution_count": 3,
   "metadata": {},
   "outputs": [],
   "source": [
    "today = datetime.today()\n",
    "survey_year = 2019\n",
    "# in case we want to reuse code for other years\n",
    "in_file = Path.cwd() / 'data' / 'raw' / f'survey{survey_year}.csv'\n",
    "# this is where our cleaned up file will put put\n",
    "summary_file = Path.cwd() / 'data' / 'processed' / 'summary_{today:%b-%d-%Y}.pkl'"
   ]
  },
  {
   "cell_type": "code",
   "execution_count": 4,
   "metadata": {},
   "outputs": [],
   "source": [
    "# download the data if its not in the local directory\n",
    "if not os.path.exists(in_file):\n",
    "    # put these here in case we want to look at any other years...\n",
    "    url = 'https://drive.google.com/uc?export=download&id=1QOmVDpd8hcVYqqUXDXf68UMDWQZP0wQV'\n",
    "    survey_filename = 'survey_results_public.csv'\n",
    "    questions_filename = 'survey_results_schema.csv'\n",
    "    print('Downloading {} survey'.format(survey_year))\n",
    "\n",
    "    request = requests.get(url)\n",
    "    with open('survey.zip', 'wb') as file:\n",
    "        file.write(request.content)\n",
    "\n",
    "    print('Unzipping {} survey'.format(survey_year))\n",
    "    with zipfile.ZipFile(\"survey.zip\", \"r\") as file:\n",
    "        file.extractall(\"data/external/\")\n",
    "\n",
    "    print('Moving {} survey'.format(year))\n",
    "    shutil.copytree('data/external', 'data/raw')\n",
    "    shutil.copy('data/external/' + survey_filename,\n",
    "                'data/raw/survey{}.csv'.format(survey_year))\n",
    "    shutil.copy('data/external/' + questions_filename,\n",
    "                'data/raw/schema{}.csv'.format(survey_year))\n",
    "\n",
    "    print('cleaning up')\n",
    "    os.remove('survey.zip')"
   ]
  },
  {
   "cell_type": "markdown",
   "metadata": {},
   "source": [
    "---\n",
    "##  OUTLINE\n",
    "\n",
    "- 0: ABSTRACT\n",
    "- 1: EXPLORE & FRAME \n",
    "    - Clean and Simplify Data \n",
    "        - Convert objects to category\n",
    "        - derive some features \n",
    "    - describe & Plot\n",
    "    \n",
    "- 2: RESEARCH QUESTIONS\n",
    "    - Are Data Scientists different? \n",
    "    \n",
    "- 3: SUMMARRY AND NEXT STEPS\n",
    "    - so what?\n"
   ]
  },
  {
   "cell_type": "markdown",
   "metadata": {},
   "source": [
    "# EXPLORE \n",
    "\n",
    "## Describe the Data.\n",
    "\n",
    "Lets look at what we have and what features we want to probe Data Scientists for.\n",
    "\n",
    "\n",
    ">> Describe and explore your dataset in the initial section of your Report. What does your data contain and what is its background? Where does it come from? Why is it interesting or significant? Conduct summary statistics and produce visualizations for the particular variables from the dataset that you will use.    \n",
    "    \n",
    "    "
   ]
  },
  {
   "cell_type": "code",
   "execution_count": 5,
   "metadata": {},
   "outputs": [
    {
     "data": {
      "text/plain": [
       "Index(['MainBranch', 'Hobbyist', 'OpenSourcer', 'OpenSource', 'Employment',\n",
       "       'Country', 'Student', 'EdLevel', 'UndergradMajor', 'EduOther',\n",
       "       'OrgSize', 'DevType', 'YearsCode', 'Age1stCode', 'YearsCodePro',\n",
       "       'CareerSat', 'JobSat', 'MgrIdiot', 'MgrMoney', 'MgrWant', 'JobSeek',\n",
       "       'LastHireDate', 'LastInt', 'FizzBuzz', 'JobFactors', 'ResumeUpdate',\n",
       "       'CurrencySymbol', 'CurrencyDesc', 'CompTotal', 'CompFreq',\n",
       "       'ConvertedComp', 'WorkWeekHrs', 'WorkPlan', 'WorkChallenge',\n",
       "       'WorkRemote', 'WorkLoc', 'ImpSyn', 'CodeRev', 'CodeRevHrs', 'UnitTests',\n",
       "       'PurchaseHow', 'PurchaseWhat', 'LanguageWorkedWith',\n",
       "       'LanguageDesireNextYear', 'DatabaseWorkedWith',\n",
       "       'DatabaseDesireNextYear', 'PlatformWorkedWith',\n",
       "       'PlatformDesireNextYear', 'WebFrameWorkedWith',\n",
       "       'WebFrameDesireNextYear', 'MiscTechWorkedWith',\n",
       "       'MiscTechDesireNextYear', 'DevEnviron', 'OpSys', 'Containers',\n",
       "       'BlockchainOrg', 'BlockchainIs', 'BetterLife', 'ITperson', 'OffOn',\n",
       "       'SocialMedia', 'Extraversion', 'ScreenName', 'SOVisit1st',\n",
       "       'SOVisitFreq', 'SOVisitTo', 'SOFindAnswer', 'SOTimeSaved',\n",
       "       'SOHowMuchTime', 'SOAccount', 'SOPartFreq', 'SOJobs', 'EntTeams',\n",
       "       'SOComm', 'WelcomeChange', 'SONewContent', 'Age', 'Gender', 'Trans',\n",
       "       'Sexuality', 'Ethnicity', 'Dependents', 'SurveyLength', 'SurveyEase'],\n",
       "      dtype='object')"
      ]
     },
     "execution_count": 5,
     "metadata": {},
     "output_type": "execute_result"
    }
   ],
   "source": [
    "# beware that the Respondent ids start at 1\n",
    "df = pd.read_csv(in_file, index_col='Respondent')\n",
    "# Print column name\n",
    "df.columns\n"
   ]
  },
  {
   "cell_type": "markdown",
   "metadata": {},
   "source": [
    "The dataframe is nice and tidy:  no empty columns, mostly self-explanatory column names, etc. Only the columns resulting from multi-selections will be tricky.  These contain strings with semicolon separated values specifyng the selections.\n",
    "\n",
    "---\n",
    "First lets look at `MainBranch` which tells us \"who\" the respondents are --  Professional Developer, Student, Occational coder, Hobbiest, or retired Developer -- and then limit our scope to Professinals."
   ]
  },
  {
   "cell_type": "code",
   "execution_count": 6,
   "metadata": {
    "scrolled": false
   },
   "outputs": [
    {
     "data": {
      "text/plain": [
       "<matplotlib.axes._subplots.AxesSubplot at 0x7fcbf1562240>"
      ]
     },
     "execution_count": 6,
     "metadata": {},
     "output_type": "execute_result"
    },
    {
     "data": {
      "image/png": "[encoded data removed]",
      "text/plain": [
       "<Figure size 432x288 with 1 Axes>"
      ]
     },
     "metadata": {
      "needs_background": "light"
     },
     "output_type": "display_data"
    }
   ],
   "source": [
    "df['MainBranch'].value_counts().plot('barh')"
   ]
  },
  {
   "cell_type": "code",
   "execution_count": 7,
   "metadata": {},
   "outputs": [],
   "source": [
    "# filter our respondents to be Professionals\n",
    "df = df[df['MainBranch'] == 'I am a developer by profession']\n"
   ]
  },
  {
   "cell_type": "code",
   "execution_count": 8,
   "metadata": {
    "scrolled": true
   },
   "outputs": [
    {
     "name": "stdout",
     "output_type": "stream",
     "text": [
      "The dataset contains 65679 rows and 84 columns.\n"
     ]
    }
   ],
   "source": [
    "print('The dataset contains', df.shape[0], 'rows and', df.shape[1], 'columns.')\n"
   ]
  },
  {
   "cell_type": "code",
   "execution_count": 9,
   "metadata": {},
   "outputs": [],
   "source": [
    "#convert dtypes to categories for the features we want to analyze...\n",
    "convert_to_cat = ['MainBranch', 'Gender', 'Trans', 'Sexuality', 'Ethnicity', 'Dependents', 'Student', 'UndergradMajor',\n",
    "                  'Employment',  'OrgSize',\n",
    "                  'CareerSat', 'BlockchainOrg', 'OpSys', 'OpenSourcer',\n",
    "                  'MgrIdiot', 'MgrMoney', 'MgrWant', 'BlockchainIs', 'BetterLife', 'ITperson', 'OffOn', 'ScreenName', 'SocialMedia', 'Extraversion',\n",
    "                  'SurveyLength', 'SurveyEase', 'Hobbyist']\n",
    "\n",
    "for col_name in convert_to_cat:\n",
    "    if(df[col_name].dtype == 'object'):\n",
    "        df[col_name] = df[col_name].astype('category')\n",
    "        # df.loc[:,col_name] = df[col_name].cat.codes  # could do this to make everything ready for ML"
   ]
  },
  {
   "cell_type": "code",
   "execution_count": 10,
   "metadata": {},
   "outputs": [
    {
     "name": "stdout",
     "output_type": "stream",
     "text": [
      "The dataset contains 65679 rows and 84 columns.\n"
     ]
    }
   ],
   "source": [
    "# Convert these to ordered categories\n",
    "# Education\n",
    "edlevel_cat = CategoricalDtype(['I never completed any formal education',\n",
    "                                'Primary/elementary school',\n",
    "                                'Secondary school (e.g. American high school, German Realschule or Gymnasium, etc.)',\n",
    "                                'Some college/university study without earning a degree',\n",
    "                                'Associate degree',\n",
    "                                'Bachelor’s degree (BA, BS, B.Eng., etc.)',\n",
    "                                'Master’s degree (MA, MS, M.Eng., MBA, etc.)',\n",
    "                                'Professional degree (JD, MD, etc.)',\n",
    "                                'Other doctoral degree (Ph.D, Ed.D., etc.)'], ordered=True)\n",
    "\n",
    "df['EdLevel'] = df.EdLevel.astype(edlevel_cat)\n",
    "\n",
    "# OpenSource . Higher, same lower\n",
    "opensource_cat = CategoricalDtype(['OSS is, on average, of HIGHER quality than proprietary / closed source software',\n",
    "                                   'The quality of OSS and closed source software is about the same',\n",
    "                                   'OSS is, on average, of LOWER quality than proprietary / closed source software', ], ordered=True)\n",
    "df['OpenSource'] = df.OpenSource.astype(opensource_cat)\n",
    "\n",
    "# career satisfaction / job satisfaction\\\n",
    "careersat_cat = CategoricalDtype(['Very dissatisfied',\n",
    "                                  'Slightly dissatisfied',\n",
    "                                  'Neither satisfied nor dissatisfied',\n",
    "                                  'Slightly satisfied',\n",
    "                                  'Very satisfied'], ordered=True)\n",
    "df['CareerSat'] = df.CareerSat.astype(careersat_cat)\n",
    "\n",
    "jobsat_cat = CategoricalDtype(['Very dissatisfied',\n",
    "                               'Slightly dissatisfied',\n",
    "                               'Neither satisfied nor dissatisfied',\n",
    "                               'Slightly satisfied',\n",
    "                               'Very satisfied'], ordered=True)\n",
    "df['JobSat'] = df.JobSat.astype(jobsat_cat)\n",
    "\n",
    "# competence\n",
    "impsyn_cat = CategoricalDtype(['Far below average',\n",
    "                               'A little below average',\n",
    "                               'Average',\n",
    "                               'A little above average',\n",
    "                               'Far above average'], ordered=True)\n",
    "df['ImpSyn'] = df.ImpSyn.astype(impsyn_cat)\n",
    "\n",
    "print('The dataset contains', df.shape[0], 'rows and', df.shape[1], 'columns.')"
   ]
  },
  {
   "cell_type": "markdown",
   "metadata": {},
   "source": [
    "### Find our developer types\n",
    "\n",
    "(is there a better name for this ?)\n",
    "\n",
    "- KEEP PROFESSIONALS ONLY.  Dropped students and \"other\"\n",
    "- CREATE TYPES\n",
    "    - DataScientist\n",
    "    - Non-DataScientists Developers \n",
    "    - xOR and Other    \n",
    "        - Traditional Developers - not mutually exclusive from DataScientists since \n",
    "        - DataScients who are also \"traditional\" developers\n",
    "        - Other: Developers who are not \"traditional\" developers or data scientsis"
   ]
  },
  {
   "cell_type": "markdown",
   "metadata": {},
   "source": [
    "As we are interested in comparing data scientists to non-data scientists, we need to be able to differentiate between the two. This is done using the `DevType` field. As a result, we should drop any rows where this field is missing, since we can't determine which subset these rows fit into.\n"
   ]
  },
  {
   "cell_type": "code",
   "execution_count": 11,
   "metadata": {},
   "outputs": [
    {
     "name": "stdout",
     "output_type": "stream",
     "text": [
      "we have 8057 DataScientists and 61987 traditional Developers in our professional Developers database\n"
     ]
    }
   ],
   "source": [
    "# Create data scientist and non-data scientist subsets.\n",
    "# data scientists are defined as \"Data or business analyst\",Engineer, Data\",\n",
    "#       \"Data scientist or machine learning specialist\"\n",
    "# Database administrator or Scientist\n",
    "\n",
    "# developer is \"Developer, {fullstack, game or graphics, mobile, QA or test}\"\n",
    "# exclude database administrator by having space after data\n",
    "data_scientist = df['DevType'].str.contains(\n",
    "        '|'.join(['data ', 'scientist']), case=False, na=False, regex=True).copy()  # data scientists / analists / Data engineers\n",
    "\n",
    "# data = df['DevType'].str.contains('data', case=False, na=False, regex=True).copy() #data scientists / analists / Data engineers\n",
    "developer = df['DevType'].str.contains(\n",
    "        'developer', case=False, na=False, regex=True).copy()  # all types of developers\n",
    "\n",
    "\n",
    "print('we have {} DataScientists and {} traditional Developers in our professional Developers database'.format(\n",
    "          data_scientist.sum(), developer.sum()))"
   ]
  },
  {
   "cell_type": "code",
   "execution_count": 12,
   "metadata": {},
   "outputs": [
    {
     "data": {
      "text/html": [
       "<div>\n",
       "<style scoped>\n",
       "    .dataframe tbody tr th:only-of-type {\n",
       "        vertical-align: middle;\n",
       "    }\n",
       "\n",
       "    .dataframe tbody tr th {\n",
       "        vertical-align: top;\n",
       "    }\n",
       "\n",
       "    .dataframe thead th {\n",
       "        text-align: right;\n",
       "    }\n",
       "</style>\n",
       "<table border=\"1\" class=\"dataframe\">\n",
       "  <thead>\n",
       "    <tr style=\"text-align: right;\">\n",
       "      <th></th>\n",
       "      <th>isDS</th>\n",
       "      <th>notDS</th>\n",
       "      <th>isDev</th>\n",
       "      <th>DSonly</th>\n",
       "      <th>DSandDev</th>\n",
       "      <th>otherDev</th>\n",
       "    </tr>\n",
       "  </thead>\n",
       "  <tbody>\n",
       "    <tr>\n",
       "      <th>mean</th>\n",
       "      <td>0.122672</td>\n",
       "      <td>0.877328</td>\n",
       "      <td>0.943787</td>\n",
       "      <td>0.019808</td>\n",
       "      <td>0.102864</td>\n",
       "      <td>0.036404</td>\n",
       "    </tr>\n",
       "    <tr>\n",
       "      <th>sum</th>\n",
       "      <td>8057.000000</td>\n",
       "      <td>57622.000000</td>\n",
       "      <td>61987.000000</td>\n",
       "      <td>1301.000000</td>\n",
       "      <td>6756.000000</td>\n",
       "      <td>2391.000000</td>\n",
       "    </tr>\n",
       "  </tbody>\n",
       "</table>\n",
       "</div>"
      ],
      "text/plain": [
       "             isDS         notDS         isDev       DSonly     DSandDev  \\\n",
       "mean     0.122672      0.877328      0.943787     0.019808     0.102864   \n",
       "sum   8057.000000  57622.000000  61987.000000  1301.000000  6756.000000   \n",
       "\n",
       "         otherDev  \n",
       "mean     0.036404  \n",
       "sum   2391.000000  "
      ]
     },
     "execution_count": 12,
     "metadata": {},
     "output_type": "execute_result"
    }
   ],
   "source": [
    "# make some expository columns\n",
    "df.loc[:, 'isDS'] = data_scientist\n",
    "df.loc[:, 'isDev'] = developer\n",
    "df.loc[:, 'notDS'] = ~data_scientist\n",
    "df.loc[:, 'DSonly'] = data_scientist & ~developer\n",
    "df.loc[:, 'DSandDev'] = data_scientist & developer\n",
    "df.loc[:, 'otherDev'] = ~data_scientist & ~ developer\n",
    "\n",
    "df[['isDS','notDS','isDev','DSonly','DSandDev','otherDev']].agg(['mean','sum'])\n"
   ]
  },
  {
   "cell_type": "markdown",
   "metadata": {},
   "source": [
    "Nothing surprising here:  Our set of developers tend to be white dudes from the US"
   ]
  },
  {
   "cell_type": "markdown",
   "metadata": {},
   "source": [
    "### categorical variables\n",
    "# Research Questions\n",
    "\n",
    "\n",
    "In order to explore whether the cohort of Data Scientists are different from traditional Developers lets explore their DEMOGRAPHICS, their SKILLS, and some ATTITUDES/CULTURAL probes. \n",
    "\n",
    "\n",
    "\n",
    "2. Ask and answer analytic questions. Ask three analytic questions and answer each one with a combination of statistics and visualizations. These analytic questions can focus on individuals behaviors or comparisons of the population.\n",
    "\n"
   ]
  },
  {
   "cell_type": "markdown",
   "metadata": {},
   "source": [
    "We can lump the variables into a few rough categories:  _DEMOGRAPHIC_, _WORK_ , _CODING_, _ATTITUDINAL_ (personal), _STACKOVERFLOW_, and _MISC_.  We'll focus in on DEMOGRAPHICS, CODING, and ATTITUDINAL features.  Features of most interest are `tagged` below.\n",
    "\n",
    "> _DEMOGRAPHIC_ - `MainBranch`, `Age`, `Gender`, `Trans','Sexuality', 'Ethnicity', 'Dependents', 'Country', 'Student', 'EdLevel', 'UndergradMajor`, 'EduOther, \n",
    "\n",
    "> _ATTITUDINAL_ (personal/cultural) -  `ImpSyn'(personal competence), 'CareerSat', 'JobSat', 'MgrIdiot', 'MgrMoney', 'MgrWant', 'JobFactors', 'BlockchainIs', 'BetterLife', 'ITperson', 'OffOn',  'SocialMedia', 'Extraversion', 'ScreenName', 'OpenSource`  \n",
    "\n",
    "> _WORK_ related - `ConvertedComp',  'WorkWeekHrs' 'Employment', 'OrgSize`, (also:  'JobSeek', 'LastHireDate', 'LastInt',  'ResumeUpdate',   'CompTotal',    'CurrencySymbol', 'CurrencyDesc', 'CompTotal', 'CompFreq',, 'WorkPlan', 'WorkChallenge', 'WorkRemote', 'WorkLoc', 'CodeRev', 'CodeRevHrs', 'UnitTests','PurchaseHow', 'PurchaseWhat', \n",
    "       \n",
    "> _SKILLS_ related -  `YearsCode', 'Age1stCode`, `YearsCodePro`,`OpenSourcer', 'DevType',  'LanguageWorkedWith', 'LanguageDesireNextYear','DevEnviron', 'OpSys', 'Containers', 'DatabaseWorkedWith', 'DatabaseDesireNextYear', 'PlatformWorkedWith',   'PlatformDesireNextYear',  MiscTechWorkedWith', 'MiscTechDesireNextYear', 'BlockchainOrg`, ( \n",
    "       'WebFrameWorkedWith',     'WebFrameDesireNextYear', ', , 'FizzBuzz', )\n",
    "    \n",
    "> *MISC* - `Hobbyist', 'SurveyLength', 'SurveyEase`\n",
    "      \n",
    "> _STACKOVERFLOW_ specific -  Ignore all these ('SOVisit1st','SOVisitFreq', 'SOVisitTo', 'SOFindAnswer', 'SOTimeSaved',       'SOHowMuchTime', 'SOAccount', 'SOPartFreq', 'SOJobs', 'EntTeams',       'SOComm', 'WelcomeChange', 'SONewContent')\n",
    "    \n",
    "So lets keep DEMOGRAPHIC, some WORK related, CODING, and MISC for further analysis.\n",
    "\n",
    "The motivation behind this analysis is to explore how data scientists compare with non-data scientist developers (\"non-data scientists\"). Consequently, we set out to answer the following questions:\n",
    "\n",
    "1. Are there demographic differences?  Hypothesis:  higher educated and more likely from math/science than computer/tech.  Intuition also dictates that DS are younger and less experienced.\n",
    "2. Are their attitudes different? \n",
    "3. Are their skills and work situations different?\n",
    "3. Can we predict if a developer professional developer is a Data Scientist?\n",
    "       \n",
    "        "
   ]
  },
  {
   "cell_type": "code",
   "execution_count": 13,
   "metadata": {},
   "outputs": [],
   "source": [
    "# df.columns\n",
    "# Drop unnecessary columns\n",
    "demographic_cols = ['MainBranch', 'Age', 'Gender', 'Trans', 'Sexuality', 'Ethnicity',\n",
    "                    'Dependents', 'Country', 'Student', 'EdLevel', 'UndergradMajor']#, 'EduOther']\n",
    "\n",
    "attitude_cols = ['ImpSyn', 'CareerSat', 'JobSat', 'MgrIdiot', 'MgrMoney', 'MgrWant', 'JobFactors',\n",
    "                 'BlockchainIs', 'BetterLife', 'ITperson', 'OffOn',  'SocialMedia', 'Extraversion', \n",
    "                 'ScreenName', 'OpenSource']\n",
    "\n",
    "work_cols = ['ConvertedComp',  'WorkWeekHrs' 'Employment', 'OrgSize']#, \n",
    "             #'JobSeek', 'LastHireDate', 'LastInt', 'ResumeUpdate',   \n",
    "             #'CompTotal', 'CurrencySymbol','CurrencyDesc', 'CompTotal', 'CompFreq', \n",
    "             #'WorkPlan', 'WorkChallenge', 'WorkRemote', 'WorkLoc', 'CodeRev', 'CodeRevHrs', 'UnitTests', \n",
    "             #'PurchaseHow', 'PurchaseWhat']\n",
    "\n",
    "#keep all of these\n",
    "skills_cols = ['YearsCode', 'Age1stCode', 'YearsCodePro', 'OpenSourcer', 'DevType',  'LanguageWorkedWith', \n",
    "               'LanguageDesireNextYear', 'DevEnviron', 'OpSys', 'Containers','BlockchainOrg','FizzBuzz',\n",
    "               'DatabaseWorkedWith', 'DatabaseDesireNextYear', 'PlatformWorkedWith',   'PlatformDesireNextYear',  \n",
    "               'MiscTechWorkedWith', 'MiscTechDesireNextYear', 'WebFrameWorkedWith','WebFrameDesireNextYear']\n",
    "\n",
    "misc_cols = ['Hobbyist', 'SurveyLength', 'SurveyEase']\n",
    "\n",
    "# drop all of these\n",
    "stackoverflow_cols=['SOVisit1st', 'SOVisitFreq', 'SOVisitTo', 'SOFindAnswer', 'SOTimeSaved', 'SOHowMuchTime',\n",
    "                   'SOAccount', 'SOPartFreq', 'SOJobs', 'EntTeams', 'SOComm', 'WelcomeChange', 'SONewContent']\n",
    "\n",
    "# added columns\n",
    "types_cols = ['isDS','notDS','isDev','DSonly','DSandDev','otherDev']\n",
    "\n",
    "drop_cols = ['JobSeek', 'LastHireDate', 'LastInt', 'ResumeUpdate',\n",
    "             'CompTotal', 'CurrencySymbol','CurrencyDesc', 'CompTotal', 'CompFreq',\n",
    "             'WorkPlan', 'WorkChallenge', 'WorkRemote', 'WorkLoc', 'CodeRev', 'CodeRevHrs', 'UnitTests', \n",
    "             'PurchaseHow', 'PurchaseWhat',\n",
    "             'EduOther','SOVisit1st', 'SOVisitFreq', 'SOVisitTo', 'SOFindAnswer','SOTimeSaved', 'SOHowMuchTime',\n",
    "             'SOAccount', 'SOPartFreq', 'SOJobs', 'EntTeams', 'SOComm', 'WelcomeChange', 'SONewContent']\n",
    "\n",
    "df = df.drop(drop_cols,axis=1)\n",
    "\n",
    "#df = df[keep_columns]"
   ]
  },
  {
   "cell_type": "code",
   "execution_count": 22,
   "metadata": {},
   "outputs": [],
   "source": [
    "def plot_dev_vs_df(df_dev, df_ds, title_text, xlimit, ylabel_text):\n",
    "\n",
    "    fig = plt.figure(figsize=(15, 12))\n",
    "    grid_size = (10, 10)  # lets space stuff out...\n",
    "    SOURCE_TEXT = 'Source: StackOverFlow Dev survey, 2019'\n",
    "\n",
    "    #title_text = 'language LOVE (use now AND want to use it next year'\n",
    "    #xlimit = {0,95} #\n",
    "\n",
    "    xlabel_text = 'Incidence (pct)'\n",
    "\n",
    "    # Place A Title On The Figure\n",
    "    fig.text(x=0.995, y=0.02, s=SOURCE_TEXT, verticalalignment='bottom',\n",
    "             rotation='vertical', color='#524939')\n",
    "    # Overlay multiple plots onto the same axis, which spans 1 entire column of the figure\n",
    "    tall_left_ax = plt.subplot2grid(grid_size, (1, 1), colspan=3, rowspan=9)\n",
    "    tall_right_ax = plt.subplot2grid(grid_size, (1, 6), colspan=3, rowspan=9)\n",
    "\n",
    "    #ax1 = lang_pct.plot.barh(ax=tall_left_ax,legend=False, title='All Respondents',label='xxx',x='string',y='lang')\n",
    "    ax1 = df_dev.plot.barh(ax=tall_left_ax, \n",
    "                           legend=False, \n",
    "                           title='Developers').set(xlabel=xlabel_text, ylabel=ylabel_text, xlim=xlimit)\n",
    "    ax2 = df_ds.plot.barh(ax=tall_right_ax, \n",
    "                          legend=False, \n",
    "                          title='Data Scientists').set(xlabel=xlabel_text, xlim=xlimit)\n",
    "    # plt.tight_layout()\n",
    "    plt.suptitle(title_text, fontsize=22)\n",
    "    # should also move the ylabels to the right side for the second plot..."
   ]
  },
  {
   "cell_type": "code",
   "execution_count": 23,
   "metadata": {},
   "outputs": [],
   "source": [
    "def plot_2col(df_dev, df_ds, title_text, xlimit, xlabel_text, ylabel_text):\n",
    "\n",
    "    fig = plt.figure(figsize=(15, 12))\n",
    "    grid_size = (10, 10)  # lets space stuff out...\n",
    "    SOURCE_TEXT = 'Source: StackOverFlow Dev survey, 2019'\n",
    "\n",
    "    #title_text = 'language LOVE (use now AND want to use it next year'\n",
    "    #xlimit = {0,95} #\n",
    "\n",
    "    #xlabel_text = 'Incidence (pct)'\n",
    "\n",
    "    # Place A Title On The Figure\n",
    "    fig.text(x=0.995, y=0.02, s=SOURCE_TEXT, verticalalignment='bottom',\n",
    "             rotation='vertical', color='#524939')\n",
    "    # Overlay multiple plots onto the same axis, which spans 1 entire column of the figure\n",
    "    tall_left_ax = plt.subplot2grid(grid_size, (1, 1), colspan=3, rowspan=9)\n",
    "    tall_right_ax = plt.subplot2grid(grid_size, (1, 6), colspan=3, rowspan=9)\n",
    "\n",
    "    #ax1 = lang_pct.plot.barh(ax=tall_left_ax,legend=False, title='All Respondents',label='xxx',x='string',y='lang')\n",
    "    ax1 = df_dev.plot.barh(ax=tall_left_ax, \n",
    "                           legend=False, title='Developers').set(xlabel=xlabel_text,\n",
    "                                                                 ylabel=ylabel_text, \n",
    "                                                                 xlim=xlimit)\n",
    "    ax2 = df_ds.plot.barh(ax=tall_right_ax, \n",
    "                          legend=False, \n",
    "                          title='Data Scientists').set(xlabel=xlabel_text, \n",
    "                                                       xlim=xlimit)\n",
    "    # plt.tight_layout()\n",
    "    plt.suptitle(title_text, fontsize=22)\n",
    "    # should also move the ylabels to the right side for the second plot..."
   ]
  },
  {
   "cell_type": "markdown",
   "metadata": {},
   "source": [
    "----\n",
    "## QUESTION 1\n",
    "\n",
    "1. Are there demographic differences?  \n",
    "\n",
    "Hypothesis:  DS are higher educated and more likely from math/science than computer/tech.  Intuition also dictates that DS are younger and less experienced.\n",
    "\n",
    "\n",
    "demographic_cols = ['MainBranch', 'Age', 'Gender', 'Trans', 'Sexuality', 'Ethnicity',\n",
    "                    'Dependents', 'Country', 'Student', 'EdLevel', 'UndergradMajor']\n",
    "\n"
   ]
  },
  {
   "cell_type": "markdown",
   "metadata": {},
   "source": [
    "### Demographic 1 - simplified Educaton and categories\n",
    "    - Education: Advanced, College, Grade\n",
    "    - Major: Computer/Tech, Math/Science, Other\n",
    "  "
   ]
  },
  {
   "cell_type": "code",
   "execution_count": 14,
   "metadata": {},
   "outputs": [
    {
     "data": {
      "text/plain": [
       "College     42115\n",
       "Advanced    18295\n",
       "Grade        4016\n",
       "Name: Education, dtype: int64"
      ]
     },
     "execution_count": 14,
     "metadata": {},
     "output_type": "execute_result"
    }
   ],
   "source": [
    "# simple method comparing strings... could also use ordering...\n",
    "advanced = df['EdLevel'].isin(['Other doctoral degree (Ph.D, Ed.D., etc.)',\n",
    "                               'Master’s degree (MA, MS, M.Eng., MBA, etc.)',\n",
    "                               'Professional degree (JD, MD, etc.)'])\n",
    "\n",
    "college = df['EdLevel'].isin(['Associate degree',\n",
    "                              'Bachelor’s degree (BA, BS, B.Eng., etc.)',\n",
    "                              'Some college/university study without earning a degree'])\n",
    "\n",
    "grade = df['EdLevel'].isin(['Secondary school (e.g. American high school, German Realschule or Gymnasium, etc.)',\n",
    "                            'Primary/elementary school',\n",
    "                            'I never completed any formal education'])\n",
    "no_answer = df['EdLevel'].isnull()\n",
    "# create ordered category\n",
    "edlevel_simple_cat = CategoricalDtype(['Grade',\n",
    "                                       'College',  # 'N/A'\n",
    "                                       'Advanced'], ordered=True)\n",
    "df.loc[:, 'Education'] = np.nan\n",
    "df.loc[advanced, 'Education'] = 'Advanced'\n",
    "df.loc[college, 'Education'] = 'College'\n",
    "df.loc[grade, 'Education'] = 'Grade'\n",
    "# now make it an ordered category\n",
    "df.loc[:, 'Education'] = df.Education.astype(edlevel_simple_cat)\n",
    "\n",
    "df['Education'].value_counts()"
   ]
  },
  {
   "cell_type": "code",
   "execution_count": 37,
   "metadata": {},
   "outputs": [
    {
     "data": {
      "image/png": "[encoded data removed]",
      "text/plain": [
       "<Figure size 1080x864 with 2 Axes>"
      ]
     },
     "metadata": {
      "needs_background": "light"
     },
     "output_type": "display_data"
    }
   ],
   "source": [
    "# plot EdLevel and Education summaries for DS and non-DS\n",
    "\n",
    "title_text = 'eductaion'\n",
    "xlimit = {0,4500}\n",
    "xlabel_text = 'count'\n",
    "ylabel_text = 'eductaion'\n",
    "df_plot1 = df.EdLevel.value_counts()\n",
    "df_plot2 = df.EdLevel[df['isDS']].value_counts()\n",
    "plot_2col(df_plot1, df_plot2, title_text, xlimit, xlabel_text, ylabel_text)\n"
   ]
  },
  {
   "cell_type": "code",
   "execution_count": 16,
   "metadata": {},
   "outputs": [],
   "source": [
    "# plot UndergradMajor and Major summaries for DS and non-DS"
   ]
  },
  {
   "cell_type": "code",
   "execution_count": 17,
   "metadata": {},
   "outputs": [
    {
     "data": {
      "text/plain": [
       "Computer/Tech    46509\n",
       "Math/Science      8697\n",
       "Other             4244\n",
       "Name: Major, dtype: int64"
      ]
     },
     "execution_count": 17,
     "metadata": {},
     "output_type": "execute_result"
    }
   ],
   "source": [
    "df.loc[:, 'Major'] = np.nan\n",
    "\n",
    "computer_tech = df['UndergradMajor'].isin(['Computer science, computer engineering, or software engineering',\n",
    "                                           'Web development or web design',\n",
    "                                           'Information systems, information technology, or system administration'])\n",
    "\n",
    "math_sci = df['UndergradMajor'].isin(['Mathematics or statistics',\n",
    "                                      'Another engineering discipline (ex. civil, electrical, mechanical)',\n",
    "                                      'A natural science (ex. biology, chemistry, physics)'])\n",
    "\n",
    "other = df['UndergradMajor'].isin(['A health science (ex. nursing, pharmacy, radiology)',\n",
    "                                   'A business discipline (ex. accounting, finance, marketing)',\n",
    "                                   'A humanities discipline (ex. literature, history, philosophy)',\n",
    "                                   'A social science (ex. anthropology, psychology, political science)',\n",
    "                                   'Fine arts or performing arts (ex. graphic design, music, studio art)'])\n",
    "\n",
    "\n",
    "df.loc[computer_tech, 'Major'] = 'Computer/Tech'\n",
    "df.loc[math_sci, 'Major'] = 'Math/Science'\n",
    "df.loc[other, 'Major'] = 'Other'\n",
    "#df.loc[no_answer,'EdLevel_simple'] = 'N/A'\n",
    "\n",
    "df.loc[:, 'Major'] = df.Major.astype('category')\n",
    "df['Major'].value_counts()\n",
    "# survey.UndergradMajor.cat.categories"
   ]
  },
  {
   "cell_type": "markdown",
   "metadata": {},
   "source": [
    "### Demographic 2 - coding experience compensation converted to values\n",
    "    - convert Years coding and age started to numerical values\n",
    "    - converted compensation to be meaningfuly numerical values\n",
    "    - (Test that `ConvertedComp` is sensible?)\n",
    "    \n",
    ">work_cols = ['ConvertedComp',  'WorkWeekHrs' 'Employment', 'OrgSize']#, \n",
    "             #'JobSeek', 'LastHireDate', 'LastInt', 'ResumeUpdate',   \n",
    "             #'CompTotal', 'CurrencySymbol','CurrencyDesc', 'CompTotal', 'CompFreq', \n",
    "             #'WorkPlan', 'WorkChallenge', 'WorkRemote', 'WorkLoc', 'CodeRev', 'CodeRevHrs', 'UnitTests', \n",
    "             #'PurchaseHow', 'PurchaseWhat']\n",
    "\n",
    "#keep all of these\n",
    "\n",
    ">skills_cols = ['YearsCode', 'Age1stCode', 'YearsCodePro', 'OpenSourcer', 'DevType',  'LanguageWorkedWith', \n",
    "                       'LanguageDesireNextYear', 'DevEnviron', 'OpSys', 'Containers','BlockchainOrg','FizzBuzz',\n",
    "                       'DatabaseWorkedWith', 'DatabaseDesireNextYear', 'PlatformWorkedWith',   'PlatformDesireNextYear',  \n",
    "\n"
   ]
  },
  {
   "cell_type": "code",
   "execution_count": 18,
   "metadata": {},
   "outputs": [],
   "source": [
    "attitude_cols = ['ImpSyn', 'CareerSat', 'JobSat', 'MgrIdiot', 'MgrMoney', 'MgrWant', 'JobFactors',\n",
    "                 'BlockchainIs', 'BetterLife', 'ITperson', 'OffOn',  'SocialMedia', 'Extraversion', \n",
    "                 'ScreenName', 'OpenSource']\n"
   ]
  },
  {
   "cell_type": "code",
   "execution_count": 19,
   "metadata": {},
   "outputs": [],
   "source": [
    "def fix_years_coding(years_):\n",
    "    # - years coding, years experience: `YearsCode` -> `nYearsCode`, change \"Less than 1 year\" to 1/10000 and \"More than 50\" to 55.\n",
    "    # - years pro:`YearsCodePro` -> `nYearsPro`    \n",
    "    # make these numeric in a sensible way\n",
    "    if years_ == 'Less than 1 year':\n",
    "        return 0.0001\n",
    "    elif years_ == 'More than 50 years':\n",
    "        return 55.\n",
    "    else:\n",
    "        return years_\n",
    "\n",
    "df.loc[:, 'nYearsCode'] = pd.to_numeric(df.YearsCode.apply(fix_years_coding))\n",
    "df.loc[:, 'nYearsPro'] = pd.to_numeric(df.YearsCodePro.apply(fix_years_coding))"
   ]
  },
  {
   "cell_type": "code",
   "execution_count": 20,
   "metadata": {},
   "outputs": [],
   "source": [
    "def fix_workweekhours(hours_):\n",
    "    # - workweek: `WorkWeekHrs` to require 4 hours off per day\n",
    "    # hard ceiling on hours in a week (24*7)  lets throw out the ridiculous no sleep 24/7 scenarios\n",
    "    if hours_ > 20*7:\n",
    "        return np.NaN\n",
    "    elif hours_ < 4:  # arbitrary minimum work time\n",
    "        return np.NaN\n",
    "    else:\n",
    "        return hours_\n",
    "\n",
    "df.loc[:, 'WorkWeekH'] = df.WorkWeekHrs.apply(fix_workweekhours)"
   ]
  },
  {
   "cell_type": "code",
   "execution_count": 21,
   "metadata": {},
   "outputs": [],
   "source": [
    "def fix_age1stcode(years_):\n",
    "    # - Age: `Age`-> `nAge`  change < 13, or > 80 to `NaN`\n",
    "    if years_ == 'Younger than 5 years':\n",
    "        return 4.5\n",
    "    elif years_ == 'Older than 85':\n",
    "        return 85.\n",
    "    else:\n",
    "        return years_\n",
    "\n",
    "df.loc[:, 'nAgeCode'] = pd.to_numeric(df.Age1stCode.apply(fix_age1stcode))"
   ]
  },
  {
   "cell_type": "code",
   "execution_count": 24,
   "metadata": {},
   "outputs": [
    {
     "data": {
      "text/plain": [
       "<matplotlib.axes._subplots.AxesSubplot at 0x7fcc01b95198>"
      ]
     },
     "execution_count": 24,
     "metadata": {},
     "output_type": "execute_result"
    },
    {
     "data": {
      "image/png": "[encoded data removed]",
      "text/plain": [
       "<Figure size 432x288 with 1 Axes>"
      ]
     },
     "metadata": {
      "needs_background": "light"
     },
     "output_type": "display_data"
    }
   ],
   "source": [
    "df.Age.plot.hist()"
   ]
  },
  {
   "cell_type": "code",
   "execution_count": 25,
   "metadata": {},
   "outputs": [
    {
     "data": {
      "text/plain": [
       "count    57721.000000\n",
       "mean        40.299745\n",
       "std          9.952120\n",
       "min          4.000000\n",
       "25%         40.000000\n",
       "50%         40.000000\n",
       "75%         43.000000\n",
       "max        140.000000\n",
       "Name: WorkWeekH, dtype: float64"
      ]
     },
     "execution_count": 25,
     "metadata": {},
     "output_type": "execute_result"
    }
   ],
   "source": [
    "df['WorkWeekH'].dropna().describe()\n",
    "# looks good"
   ]
  },
  {
   "cell_type": "code",
   "execution_count": 26,
   "metadata": {},
   "outputs": [
    {
     "data": {
      "text/html": [
       "<div>\n",
       "<style scoped>\n",
       "    .dataframe tbody tr th:only-of-type {\n",
       "        vertical-align: middle;\n",
       "    }\n",
       "\n",
       "    .dataframe tbody tr th {\n",
       "        vertical-align: top;\n",
       "    }\n",
       "\n",
       "    .dataframe thead th {\n",
       "        text-align: right;\n",
       "    }\n",
       "</style>\n",
       "<table border=\"1\" class=\"dataframe\">\n",
       "  <thead>\n",
       "    <tr style=\"text-align: right;\">\n",
       "      <th></th>\n",
       "      <th>count</th>\n",
       "      <th>mean</th>\n",
       "      <th>median</th>\n",
       "    </tr>\n",
       "    <tr>\n",
       "      <th>Country</th>\n",
       "      <th></th>\n",
       "      <th></th>\n",
       "      <th></th>\n",
       "    </tr>\n",
       "  </thead>\n",
       "  <tbody>\n",
       "    <tr>\n",
       "      <th>United States</th>\n",
       "      <td>2380</td>\n",
       "      <td>248564.467227</td>\n",
       "      <td>110000.0</td>\n",
       "    </tr>\n",
       "    <tr>\n",
       "      <th>Switzerland</th>\n",
       "      <td>101</td>\n",
       "      <td>153918.851485</td>\n",
       "      <td>96646.0</td>\n",
       "    </tr>\n",
       "    <tr>\n",
       "      <th>Israel</th>\n",
       "      <td>51</td>\n",
       "      <td>95456.000000</td>\n",
       "      <td>95664.0</td>\n",
       "    </tr>\n",
       "    <tr>\n",
       "      <th>Denmark</th>\n",
       "      <td>57</td>\n",
       "      <td>113883.473684</td>\n",
       "      <td>87468.0</td>\n",
       "    </tr>\n",
       "    <tr>\n",
       "      <th>Norway</th>\n",
       "      <td>67</td>\n",
       "      <td>186391.835821</td>\n",
       "      <td>82946.0</td>\n",
       "    </tr>\n",
       "    <tr>\n",
       "      <th>Australia</th>\n",
       "      <td>228</td>\n",
       "      <td>191039.061404</td>\n",
       "      <td>79057.5</td>\n",
       "    </tr>\n",
       "    <tr>\n",
       "      <th>Ireland</th>\n",
       "      <td>54</td>\n",
       "      <td>215333.629630</td>\n",
       "      <td>73328.0</td>\n",
       "    </tr>\n",
       "    <tr>\n",
       "      <th>Iceland</th>\n",
       "      <td>5</td>\n",
       "      <td>71750.400000</td>\n",
       "      <td>70152.0</td>\n",
       "    </tr>\n",
       "    <tr>\n",
       "      <th>Canada</th>\n",
       "      <td>335</td>\n",
       "      <td>136660.026866</td>\n",
       "      <td>68705.0</td>\n",
       "    </tr>\n",
       "    <tr>\n",
       "      <th>United Kingdom</th>\n",
       "      <td>623</td>\n",
       "      <td>161759.475120</td>\n",
       "      <td>65424.0</td>\n",
       "    </tr>\n",
       "  </tbody>\n",
       "</table>\n",
       "</div>"
      ],
      "text/plain": [
       "                count           mean    median\n",
       "Country                                       \n",
       "United States    2380  248564.467227  110000.0\n",
       "Switzerland       101  153918.851485   96646.0\n",
       "Israel             51   95456.000000   95664.0\n",
       "Denmark            57  113883.473684   87468.0\n",
       "Norway             67  186391.835821   82946.0\n",
       "Australia         228  191039.061404   79057.5\n",
       "Ireland            54  215333.629630   73328.0\n",
       "Iceland             5   71750.400000   70152.0\n",
       "Canada            335  136660.026866   68705.0\n",
       "United Kingdom    623  161759.475120   65424.0"
      ]
     },
     "execution_count": 26,
     "metadata": {},
     "output_type": "execute_result"
    }
   ],
   "source": [
    "compStats = df.dropna().groupby('Country').ConvertedComp.agg(\n",
    "    ['count', 'mean', 'median']).sort_values('median', ascending=False)\n",
    "compStats = compStats[compStats['count'] > 3]\n",
    "compStats.head(10)\n",
    "\n",
    "# looks like the US has lots of \"outliers\" but is still the highes paid\n",
    "# note that ConvertedComp seems to have some errors (e.g. Uganada and Korean pay is too high)"
   ]
  },
  {
   "cell_type": "code",
   "execution_count": 27,
   "metadata": {},
   "outputs": [
    {
     "name": "stdout",
     "output_type": "stream",
     "text": [
      "The dataset contains 65679 rows and 65 columns.\n"
     ]
    }
   ],
   "source": [
    "# seems like the incidence seems pretty gen-pop representative.. maybe higher bi than gay..\n",
    "# might want to loook deeper at respondents who chose BOTH straight and Gay / Bi\n",
    "\n",
    "100*df['Sexuality'].value_counts() / df.shape[0]\n",
    "df.Sexuality.dtypes\n",
    "\n",
    "# pretty decent ammount of diversity\n",
    "(100*df['Country'].value_counts()/df.shape[0]).head(10)\n",
    "\n",
    "# where are resespondents from?\n",
    "(100*df.loc[data_scientist, 'Country'].value_counts() /\n",
    " data_scientist.sum()).head(10)\n",
    "\n",
    "print('The dataset contains', df.shape[0], 'rows and', df.shape[1], 'columns.')"
   ]
  },
  {
   "cell_type": "code",
   "execution_count": 28,
   "metadata": {},
   "outputs": [
    {
     "data": {
      "text/html": [
       "<div>\n",
       "<style scoped>\n",
       "    .dataframe tbody tr th:only-of-type {\n",
       "        vertical-align: middle;\n",
       "    }\n",
       "\n",
       "    .dataframe tbody tr th {\n",
       "        vertical-align: top;\n",
       "    }\n",
       "\n",
       "    .dataframe thead th {\n",
       "        text-align: right;\n",
       "    }\n",
       "</style>\n",
       "<table border=\"1\" class=\"dataframe\">\n",
       "  <thead>\n",
       "    <tr style=\"text-align: right;\">\n",
       "      <th></th>\n",
       "      <th>count</th>\n",
       "      <th>mean</th>\n",
       "      <th>median</th>\n",
       "    </tr>\n",
       "    <tr>\n",
       "      <th>Country</th>\n",
       "      <th></th>\n",
       "      <th></th>\n",
       "      <th></th>\n",
       "    </tr>\n",
       "  </thead>\n",
       "  <tbody>\n",
       "    <tr>\n",
       "      <th>Albania</th>\n",
       "      <td>6</td>\n",
       "      <td>23402.333333</td>\n",
       "      <td>9162.0</td>\n",
       "    </tr>\n",
       "    <tr>\n",
       "      <th>Ghana</th>\n",
       "      <td>7</td>\n",
       "      <td>12664.285714</td>\n",
       "      <td>9018.0</td>\n",
       "    </tr>\n",
       "    <tr>\n",
       "      <th>Sri Lanka</th>\n",
       "      <td>21</td>\n",
       "      <td>28826.285714</td>\n",
       "      <td>8148.0</td>\n",
       "    </tr>\n",
       "    <tr>\n",
       "      <th>Philippines</th>\n",
       "      <td>31</td>\n",
       "      <td>11874.677419</td>\n",
       "      <td>7800.0</td>\n",
       "    </tr>\n",
       "    <tr>\n",
       "      <th>Indonesia</th>\n",
       "      <td>21</td>\n",
       "      <td>12018.190476</td>\n",
       "      <td>7740.0</td>\n",
       "    </tr>\n",
       "    <tr>\n",
       "      <th>Nigeria</th>\n",
       "      <td>25</td>\n",
       "      <td>28223.160000</td>\n",
       "      <td>7644.0</td>\n",
       "    </tr>\n",
       "    <tr>\n",
       "      <th>Bangladesh</th>\n",
       "      <td>22</td>\n",
       "      <td>10859.045455</td>\n",
       "      <td>7524.0</td>\n",
       "    </tr>\n",
       "    <tr>\n",
       "      <th>Pakistan</th>\n",
       "      <td>48</td>\n",
       "      <td>9768.812500</td>\n",
       "      <td>7368.0</td>\n",
       "    </tr>\n",
       "    <tr>\n",
       "      <th>Nepal</th>\n",
       "      <td>9</td>\n",
       "      <td>6709.333333</td>\n",
       "      <td>5268.0</td>\n",
       "    </tr>\n",
       "    <tr>\n",
       "      <th>Venezuela, Bolivarian Republic of...</th>\n",
       "      <td>8</td>\n",
       "      <td>7151.750000</td>\n",
       "      <td>4992.0</td>\n",
       "    </tr>\n",
       "  </tbody>\n",
       "</table>\n",
       "</div>"
      ],
      "text/plain": [
       "                                      count          mean  median\n",
       "Country                                                          \n",
       "Albania                                   6  23402.333333  9162.0\n",
       "Ghana                                     7  12664.285714  9018.0\n",
       "Sri Lanka                                21  28826.285714  8148.0\n",
       "Philippines                              31  11874.677419  7800.0\n",
       "Indonesia                                21  12018.190476  7740.0\n",
       "Nigeria                                  25  28223.160000  7644.0\n",
       "Bangladesh                               22  10859.045455  7524.0\n",
       "Pakistan                                 48   9768.812500  7368.0\n",
       "Nepal                                     9   6709.333333  5268.0\n",
       "Venezuela, Bolivarian Republic of...      8   7151.750000  4992.0"
      ]
     },
     "execution_count": 28,
     "metadata": {},
     "output_type": "execute_result"
    }
   ],
   "source": [
    "compStats.tail(10)"
   ]
  },
  {
   "cell_type": "markdown",
   "metadata": {},
   "source": [
    " ### Demographic 3 - cleaned Ages, derived generation coding\n",
    "    - Fix Age to be meaningfuly numerical values\n",
    "    - Categorize according to standard \"generations\"\n",
    "        - Gen Z\n",
    "        - Millenial\n",
    "        - Gen X\n",
    "        - Boomers\n",
    "        - Silent\n",
    "\n",
    "![alt text][logo]\n",
    "\n",
    "[logo]:\n",
    "https://www.pewresearch.org/wp-content/uploads/2019/01/FT_19.01.17_generations_2019.png\n"
   ]
  },
  {
   "cell_type": "code",
   "execution_count": 29,
   "metadata": {},
   "outputs": [],
   "source": [
    "def fix_age(years_):\n",
    "    # - 1st Code: `Age1stCode` -> `nAgeCode` , change \"Younger than 5 years\" to 4.5 and \"Older than 85\" to 85.\n",
    "    # make these numeric in a sensible way  exclude pre-teens and aged >84\n",
    "    if years_ < 13:\n",
    "        return np.NaN\n",
    "    elif years_ > 84:\n",
    "        return np.NaN\n",
    "    else:\n",
    "        return years_\n",
    "\n",
    "df.loc[:, 'nAge'] = pd.to_numeric(df.Age.apply(fix_age))"
   ]
  },
  {
   "cell_type": "code",
   "execution_count": 30,
   "metadata": {},
   "outputs": [],
   "source": [
    "# Convert Age to generation with 2019 as current time reference\n",
    "def find_gen(age):\n",
    "    \"\"\"\n",
    "    \"\"\"\n",
    "    if age <= 22:\n",
    "        gen = 'GenZ'\n",
    "        return gen\n",
    "    elif age <= 38:\n",
    "        gen = 'Millenial'\n",
    "    elif age <= 54:\n",
    "        gen = 'GenX'\n",
    "    elif age <= 73:\n",
    "        gen = 'Boomer'\n",
    "    else:\n",
    "        gen = 'Silent'\n",
    "    return gen\n",
    "\n",
    "\n",
    "generation_cat = CategoricalDtype(['GenZ',\n",
    "                                   'Millenial',\n",
    "                                   'GenX',\n",
    "                                   'Boomer',\n",
    "                                   'Silent',  # 'N/A'\n",
    "                                   ], ordered=True)\n",
    "\n",
    "# Apply function to subsets\n",
    "df.loc[:, 'Gen'] = np.nan\n",
    "df.loc[:, 'Gen'] = df.Age.apply(find_gen).copy()\n",
    "df.loc[:, 'Gen'] = df.Gen.astype(generation_cat)"
   ]
  },
  {
   "cell_type": "code",
   "execution_count": 31,
   "metadata": {},
   "outputs": [],
   "source": [
    "# CREATE A FIGURE WITH HISTOGRAMS OF SALARY for each generation"
   ]
  },
  {
   "cell_type": "code",
   "execution_count": 32,
   "metadata": {},
   "outputs": [
    {
     "data": {
      "text/html": [
       "<div>\n",
       "<style scoped>\n",
       "    .dataframe tbody tr th:only-of-type {\n",
       "        vertical-align: middle;\n",
       "    }\n",
       "\n",
       "    .dataframe tbody tr th {\n",
       "        vertical-align: top;\n",
       "    }\n",
       "\n",
       "    .dataframe thead th {\n",
       "        text-align: right;\n",
       "    }\n",
       "</style>\n",
       "<table border=\"1\" class=\"dataframe\">\n",
       "  <thead>\n",
       "    <tr style=\"text-align: right;\">\n",
       "      <th></th>\n",
       "      <th>count</th>\n",
       "      <th>mean</th>\n",
       "      <th>median</th>\n",
       "      <th>sem</th>\n",
       "      <th>max</th>\n",
       "      <th>min</th>\n",
       "    </tr>\n",
       "    <tr>\n",
       "      <th>Gen</th>\n",
       "      <th></th>\n",
       "      <th></th>\n",
       "      <th></th>\n",
       "      <th></th>\n",
       "      <th></th>\n",
       "      <th></th>\n",
       "    </tr>\n",
       "  </thead>\n",
       "  <tbody>\n",
       "    <tr>\n",
       "      <th>GenZ</th>\n",
       "      <td>3574</td>\n",
       "      <td>67505.028819</td>\n",
       "      <td>19236.0</td>\n",
       "      <td>3701.555070</td>\n",
       "      <td>2000000.0</td>\n",
       "      <td>0.0</td>\n",
       "    </tr>\n",
       "    <tr>\n",
       "      <th>Millenial</th>\n",
       "      <td>37425</td>\n",
       "      <td>121506.230969</td>\n",
       "      <td>53850.0</td>\n",
       "      <td>1448.691504</td>\n",
       "      <td>2000000.0</td>\n",
       "      <td>0.0</td>\n",
       "    </tr>\n",
       "    <tr>\n",
       "      <th>GenX</th>\n",
       "      <td>6654</td>\n",
       "      <td>176570.177638</td>\n",
       "      <td>93492.0</td>\n",
       "      <td>3793.224584</td>\n",
       "      <td>2000000.0</td>\n",
       "      <td>0.0</td>\n",
       "    </tr>\n",
       "    <tr>\n",
       "      <th>Boomer</th>\n",
       "      <td>796</td>\n",
       "      <td>209459.015075</td>\n",
       "      <td>110000.0</td>\n",
       "      <td>13164.119463</td>\n",
       "      <td>2000000.0</td>\n",
       "      <td>0.0</td>\n",
       "    </tr>\n",
       "    <tr>\n",
       "      <th>Silent</th>\n",
       "      <td>2053</td>\n",
       "      <td>138289.154408</td>\n",
       "      <td>60000.0</td>\n",
       "      <td>6762.615024</td>\n",
       "      <td>2000000.0</td>\n",
       "      <td>0.0</td>\n",
       "    </tr>\n",
       "  </tbody>\n",
       "</table>\n",
       "</div>"
      ],
      "text/plain": [
       "           count           mean    median           sem        max  min\n",
       "Gen                                                                    \n",
       "GenZ        3574   67505.028819   19236.0   3701.555070  2000000.0  0.0\n",
       "Millenial  37425  121506.230969   53850.0   1448.691504  2000000.0  0.0\n",
       "GenX        6654  176570.177638   93492.0   3793.224584  2000000.0  0.0\n",
       "Boomer       796  209459.015075  110000.0  13164.119463  2000000.0  0.0\n",
       "Silent      2053  138289.154408   60000.0   6762.615024  2000000.0  0.0"
      ]
     },
     "execution_count": 32,
     "metadata": {},
     "output_type": "execute_result"
    }
   ],
   "source": [
    "df.groupby('Gen').ConvertedComp.agg(\n",
    "    ['count', 'mean', 'median', 'sem', 'max', 'min'])"
   ]
  },
  {
   "cell_type": "markdown",
   "metadata": {},
   "source": [
    "----\n",
    "## QUESTION 2\n",
    "\n",
    "Are their attitudes different?\n",
    "\n",
    "attitude_cols = ['ImpSyn', 'CareerSat', 'JobSat', 'MgrIdiot', 'MgrMoney', 'MgrWant', 'JobFactors',\n",
    "                 'BlockchainIs', 'BetterLife', 'ITperson', 'OffOn',  'SocialMedia', 'Extraversion', \n",
    "                 'ScreenName', 'OpenSource']\n",
    "                 "
   ]
  },
  {
   "cell_type": "code",
   "execution_count": 33,
   "metadata": {},
   "outputs": [],
   "source": [
    "# plot ImpSyn . MgrIdiot.  extraversion . better life"
   ]
  },
  {
   "cell_type": "code",
   "execution_count": 34,
   "metadata": {},
   "outputs": [],
   "source": [
    "# plot career and job satisfaction\n",
    "\n",
    "#Plot jobfactors"
   ]
  },
  {
   "cell_type": "code",
   "execution_count": 35,
   "metadata": {},
   "outputs": [
    {
     "ename": "NameError",
     "evalue": "name 'plot' is not defined",
     "output_type": "error",
     "traceback": [
      "\u001b[0;31m---------------------------------------------------------------------------\u001b[0m",
      "\u001b[0;31mNameError\u001b[0m                                 Traceback (most recent call last)",
      "\u001b[0;32m<ipython-input-35-12fa3785a24e>\u001b[0m in \u001b[0;36m<module>\u001b[0;34m\u001b[0m\n\u001b[1;32m      2\u001b[0m \u001b[0;31m#plot social media\u001b[0m\u001b[0;34m\u001b[0m\u001b[0;34m\u001b[0m\u001b[0;34m\u001b[0m\u001b[0m\n\u001b[1;32m      3\u001b[0m \u001b[0;34m\u001b[0m\u001b[0m\n\u001b[0;32m----> 4\u001b[0;31m \u001b[0mplot\u001b[0m\u001b[0;34m\u001b[0m\u001b[0;34m\u001b[0m\u001b[0m\n\u001b[0m",
      "\u001b[0;31mNameError\u001b[0m: name 'plot' is not defined"
     ]
    }
   ],
   "source": [
    "# plot screen name opensource, blockchain\n",
    "#plot social media\n",
    "\n",
    "plot "
   ]
  },
  {
   "cell_type": "code",
   "execution_count": null,
   "metadata": {},
   "outputs": [],
   "source": [
    "attitude_cols = ['ImpSyn', 'CareerSat', 'JobSat', 'MgrIdiot', 'MgrMoney', 'MgrWant', 'JobFactors',\n",
    "                 'BlockchainIs', 'BetterLife', 'ITperson', 'OffOn',  'SocialMedia', 'Extraversion', \n",
    "                 'ScreenName', 'OpenSource']\n"
   ]
  },
  {
   "cell_type": "markdown",
   "metadata": {},
   "source": [
    "RESULTS:       \n",
    "1.0.1.\n",
    "3. How much coding experience do data scientists have compared to non-data scientists?\n",
    "HISTOGRAMS\n",
    "> - years experience\n",
    "> - age first code"
   ]
  },
  {
   "cell_type": "markdown",
   "metadata": {},
   "source": [
    "barh\n",
    "\n",
    "5. Life shit.  attitudes\n",
    "> - impsyn\n",
    "> manager competence (?)"
   ]
  },
  {
   "cell_type": "markdown",
   "metadata": {},
   "source": [
    "----\n",
    "## QUESTION 3\n",
    "\n",
    "Are their skills & work situations different?\n",
    "\n",
    "work_cols = ['ConvertedComp',  'WorkWeekHrs' 'Employment', 'OrgSize']#, \n",
    "             #'JobSeek', 'LastHireDate', 'LastInt', 'ResumeUpdate',   \n",
    "             #'CompTotal', 'CurrencySymbol','CurrencyDesc', 'CompTotal', 'CompFreq', \n",
    "             #'WorkPlan', 'WorkChallenge', 'WorkRemote', 'WorkLoc', 'CodeRev', 'CodeRevHrs', 'UnitTests', \n",
    "             #'PurchaseHow', 'PurchaseWhat']\n",
    "\n",
    "#keep all of these\n",
    "\n",
    "\n",
    "skills_cols = ['YearsCode', 'Age1stCode', 'YearsCodePro', 'OpenSourcer', 'DevType',  'LanguageWorkedWith', \n",
    "               'LanguageDesireNextYear', 'DevEnviron', 'OpSys', 'Containers','BlockchainOrg','FizzBuzz',\n",
    "               'DatabaseWorkedWith', 'DatabaseDesireNextYear', 'PlatformWorkedWith',   'PlatformDesireNextYear',  \n",
    "\n",
    "\n",
    "\n"
   ]
  },
  {
   "cell_type": "markdown",
   "metadata": {},
   "source": [
    "RESULTS:       \n",
    "1.0.1.\n",
    "\n",
    "1. How does the demographic profile of data scientists differ from that of non-data scientists?\n",
    "> - male/female ratio\n",
    "> - incident of out \"other\"/trans\n",
    "\n",
    "> - dependents\n",
    "> - US vs other\n",
    ">"
   ]
  },
  {
   "cell_type": "markdown",
   "metadata": {},
   "source": [
    "RESULTS:       \n",
    "1.0.1.\n",
    "\n",
    "2. What programming languages do data scientists favour and how do they differ from those used by non-data scientists?\n",
    "> - histograms"
   ]
  },
  {
   "cell_type": "markdown",
   "metadata": {},
   "source": [
    "RESULTS:       \n",
    "1.0.1.\n",
    "4. Are data scientists more satisfied with their jobs/careers than non-data scientists?\n",
    "> - salary\n",
    "> - feelings of managers"
   ]
  },
  {
   "cell_type": "code",
   "execution_count": null,
   "metadata": {},
   "outputs": [],
   "source": [
    "work_cols = ['ConvertedComp',  'WorkWeekHrs' 'Employment', 'OrgSize']#, \n",
    "             #'JobSeek', 'LastHireDate', 'LastInt', 'ResumeUpdate',   \n",
    "             #'CompTotal', 'CurrencySymbol','CurrencyDesc', 'CompTotal', 'CompFreq', \n",
    "             #'WorkPlan', 'WorkChallenge', 'WorkRemote', 'WorkLoc', 'CodeRev', 'CodeRevHrs', 'UnitTests', \n",
    "             #'PurchaseHow', 'PurchaseWhat']\n",
    "\n",
    "#keep all of these\n",
    "skills_cols = ['YearsCode', 'Age1stCode', 'YearsCodePro', 'OpenSourcer', 'DevType',  'LanguageWorkedWith', \n",
    "               'LanguageDesireNextYear', 'DevEnviron', 'OpSys', 'Containers','BlockchainOrg','FizzBuzz',\n",
    "               'DatabaseWorkedWith', 'DatabaseDesireNextYear', 'PlatformWorkedWith',   'PlatformDesireNextYear',  \n",
    "\n"
   ]
  },
  {
   "cell_type": "code",
   "execution_count": null,
   "metadata": {},
   "outputs": [],
   "source": []
  },
  {
   "cell_type": "markdown",
   "metadata": {},
   "source": [
    "----\n",
    "## QUESTION 4\n",
    "\n",
    "Can we predict if a developer professional developer is a Data Scientist?"
   ]
  },
  {
   "cell_type": "markdown",
   "metadata": {},
   "source": [
    "### Column Cleanup\n",
    "- Drop columns which we don't want to anlayze\n",
    "- re-order/group columns (in case we want to select with slices?)\n",
    "- Remove all leading and trailing spaces (not nescessary)\n",
    "- Rename the columns for consistency (not nescessary)"
   ]
  },
  {
   "cell_type": "code",
   "execution_count": null,
   "metadata": {},
   "outputs": [],
   "source": [
    "new_columns = ['Education', 'Major', 'nYearsCode', 'nAgeCode', 'nAge'\n",
    "               'nYearsPro', 'WorkWeekH', 'Gen',\n",
    "               'isDS','notDS','isDev','DSonly','DSandDev','otherDev']"
   ]
  },
  {
   "cell_type": "code",
   "execution_count": 36,
   "metadata": {},
   "outputs": [
    {
     "name": "stdout",
     "output_type": "stream",
     "text": [
      "The dataset now contains65679 rows and 67 columns.\n"
     ]
    }
   ],
   "source": [
    "# SKIP ALL STACKOVERFLOW PARTICULARS\n",
    "#'JobSeek','LastHireDate', 'LastInt',\n",
    "#'WorkPlan', 'WorkChallenge',\n",
    "#' WorkRemote', 'WorkLoc',\n",
    "#'CodeRev', 'CodeRevHrs', 'UnitTests',\n",
    "#'PurchaseHow', 'PurchaseWhat',\n",
    "# Skip these\n",
    "# 'WebFrameWorkedWith','WebFrameDesireNextYear',\n",
    "# Print shape of dataset\n",
    "print(f'The dataset now contains {df.shape[0]} rows and {df.shape[1]} columns.')"
   ]
  },
  {
   "cell_type": "code",
   "execution_count": null,
   "metadata": {},
   "outputs": [],
   "source": [
    "isDS = df['isDS']\n",
    "isDev = df['notDS']\n"
   ]
  },
  {
   "cell_type": "markdown",
   "metadata": {},
   "source": [
    "---\n",
    "## Split Multi-Selection Fields \n",
    "\n",
    "For the fields where multiple selections were possible (e.g.  `JobFactors`,`DevEnviron`, and `LanguageWorkedWith`), split the strings containing the multiple selections into a list of selections and then concatenate these lists into a single list (dropping any missing values in the process). \n",
    "\n",
    "We may also want to simplify these fields to reduce the length of category labels and to group similar categories into a single category apon further analysis.\n",
    "This splitting will be the basis for Language, DB, Tech \"FEELINGS\" analysis as well.\n"
   ]
  },
  {
   "cell_type": "code",
   "execution_count": null,
   "metadata": {},
   "outputs": [],
   "source": [
    "# We have to split the LanguageWorkedWith to get a proper picture\n",
    "#languages = survey[survey['LanguageWorkedWith'].notnull()]\n",
    "\n",
    "\n",
    "def split_multiselect(df, col):\n",
    "    \"\"\"Create a new dataframe that splits the values of multi-selection column col into individual selections and \n",
    "    places each selection into a boolean column. This new dataframe can be merged into the original dataframe by \n",
    "    Respondent (index)value.\n",
    "\n",
    "    Args:\n",
    "    df: dataframe. Dataframe containing the multi-selection field col.\n",
    "    col:  column name\n",
    "\n",
    "    Returns:\n",
    "    out_df: dataframe. New dataframe giving split values of col.\n",
    "        \"\"\"\n",
    "\n",
    "    unique_selects = {}\n",
    "\n",
    "    select_na = df[col].isnull()\n",
    "    # split the languages on ;\n",
    "    # for language_set in survey['LanguageWorkedWith'].dropna().apply(lambda row: str(row).split(';')) :\n",
    "    for select_set in df[col].apply(lambda row: str(row).split(';')):\n",
    "        for select in select_set:\n",
    "            if select not in unique_selects.keys():\n",
    "                unique_selects[select] = 1\n",
    "            else:\n",
    "                unique_selects[select] += 1\n",
    "\n",
    "    un_sel = pd.Series(unique_selects).sort_values(ascending=False).copy()\n",
    "    #un_sel.index == 'nan'\n",
    "    out_df = pd.DataFrame()  # columns = unique_selects)\n",
    "    new_cols = []\n",
    "    for sel in un_sel.index:\n",
    "        col_name = col[:25] + '_' + sel.replace(' ', '_')\n",
    "        new_cols.append(col_name)\n",
    "        if (sel == 'nan'):\n",
    "            out_df.loc[:, col_name] = select_na\n",
    "        else:\n",
    "            out_df.loc[:, col_name] = ~ select_na  # df[col]\n",
    "            selected = df[col].dropna().str.split(';').copy()  # .tolist()\n",
    "            # need to strip the nulls\n",
    "            out_df.loc[~select_na, col_name] = selected.apply(\n",
    "                lambda x: sel in x)\n",
    "            out_df.loc[select_na, col_name] = np.nan\n",
    "\n",
    "    return out_df, new_cols"
   ]
  },
  {
   "cell_type": "markdown",
   "metadata": {},
   "source": [
    "### JobFactor & WorkChallenges \n",
    "\n",
    "`JobFactors`,`WorkChallenge`\n"
   ]
  },
  {
   "cell_type": "code",
   "execution_count": null,
   "metadata": {},
   "outputs": [],
   "source": [
    "jobfact, jobfact_cols = split_multiselect(df, 'JobFactors')\n",
    "jobchal, jobchal_cols = split_multiselect(df, 'WorkChallenge')"
   ]
  },
  {
   "cell_type": "code",
   "execution_count": null,
   "metadata": {},
   "outputs": [],
   "source": [
    "jobf_dev = (100*jobfact[isDev].mean()).sort_values(ascending=False)\n",
    "sorted_index = jobf_dev.index\n",
    "jobf_ds = (100*jobfact[isDS].mean())\n",
    "jobf_ds = jobf_ds[sorted_index]\n",
    "jobf_ = pd.DataFrame(jobf_dev - jobf_ds)"
   ]
  },
  {
   "cell_type": "code",
   "execution_count": null,
   "metadata": {},
   "outputs": [],
   "source": [
    "jobf_['dev'] = (jobf_dev)\n",
    "jobf_['DS'] = (jobf_ds)\n",
    "jobf_"
   ]
  },
  {
   "cell_type": "code",
   "execution_count": null,
   "metadata": {},
   "outputs": [],
   "source": [
    "title_text = 'Job Factors'\n",
    "xlimit = {0, 75}\n",
    "ylabel_text = 'Language'\n",
    "pd.DataFrame(jobf_dev - jobf_ds).plot.barh()"
   ]
  },
  {
   "cell_type": "code",
   "execution_count": null,
   "metadata": {},
   "outputs": [],
   "source": [
    "plot_dev_vs_df(jobf_dev, jobf_ds, title_text, xlimit, ylabel_text)"
   ]
  },
  {
   "cell_type": "markdown",
   "metadata": {},
   "source": [
    "### Development Environment \n",
    "\n",
    "`DevEnviron`"
   ]
  },
  {
   "cell_type": "code",
   "execution_count": null,
   "metadata": {},
   "outputs": [],
   "source": [
    "devenv, devenv_cols = split_multiselect(df, 'DevEnviron')"
   ]
  },
  {
   "cell_type": "code",
   "execution_count": null,
   "metadata": {},
   "outputs": [],
   "source": [
    "# how many environs do each respondent claim :  almost 3!!!\n",
    "devenv.sum(axis=1).describe()"
   ]
  },
  {
   "cell_type": "markdown",
   "metadata": {},
   "source": [
    "### Containers\n",
    "\n",
    "`Containers`"
   ]
  },
  {
   "cell_type": "code",
   "execution_count": null,
   "metadata": {},
   "outputs": [],
   "source": [
    "containers, containers_cols = split_multiselect(df, 'Containers')"
   ]
  },
  {
   "cell_type": "markdown",
   "metadata": {},
   "source": [
    "## and convert Now+Future into _FEELINGS_\n",
    "\n",
    "- Love - use and want to continue next year\n",
    "- Hate - use and want to stop next year\n",
    "- Desire - don't use but want to next year\n",
    "\n",
    "\n",
    "For the fields where multiple selections were possible (e.g.  `JobFactors`,`DevEnviron`, and `LanguageWorkedWith`), split the strings containing the multiple selections into a list of selections and then concatenate these lists into a single list (dropping any missing values in the process). \n",
    "\n",
    "We may also want to simplify these fields to reduce the length of category labels and to group similar categories into a single category apon further analysis.\n",
    "\n",
    "Full list of the multi-select variables we will be addressing:\n",
    " `JobFactors`,`DevEnviron`,`Containers`,`WorkChallenge`, as well as the current/future pairs:\n",
    "     `LanguageWorkedWith`, `LanguageDesireNextYear`, \n",
    "     `DatabaseWorkedWith`,`DatabaseDesireNextYear`, \n",
    "     `MiscTechWorkedWith`,`MiscTechDesireNextYear`, \n",
    "     `PlatformWorkedWith`, `PlatformDesireNextYear`,\n"
   ]
  },
  {
   "cell_type": "code",
   "execution_count": null,
   "metadata": {},
   "outputs": [],
   "source": [
    "def split_multiselect_love_hate(df, col, col_next, prefix):\n",
    "    \"\"\"Create a new dataframe that splits the values of multi-selection column col into individual selections and\n",
    "    places each selection into a boolean column. This new dataframe can be merged into the original dataframe by\n",
    "    Respondent (index)value.\n",
    "\n",
    "    Args:\n",
    "    df: dataframe. Dataframe containing the multi-selection field col.\n",
    "    col:  column name\n",
    "    col_next:  column name for \"next year\" multi-select\n",
    "    prefix: how to name the new columns e.g. 'Lang' (&'LangNext') for 'LanguageWorkedWith'&'LanguageDesiredNextYear'\n",
    "\n",
    "    Returns:\n",
    "    out_df: dataframe. New dataframe giving split values of col.\n",
    "        \"\"\"\n",
    "\n",
    "    unique_selects = {}\n",
    "    # split the languages on ;\n",
    "    # for language_set in survey['LanguageWorkedWith'].dropna().apply(lambda row: str(row).split(';')) :\n",
    "    for select_set in df[col].apply(lambda row: str(row).split(';')):\n",
    "        for select in select_set:\n",
    "            if select not in unique_selects.keys():\n",
    "                unique_selects[select] = 1\n",
    "            else:\n",
    "                unique_selects[select] += 1\n",
    "\n",
    "    #     unique_selects_next = {}\n",
    "    #     # split the languages on ;\n",
    "    #     # for language_set in survey['LanguageWorkedWith'].dropna().apply(lambda row: str(row).split(';')) :\n",
    "    #     for select_set in df[col_next].apply(lambda row: str(row).split(';')):\n",
    "    #         for select in select_set:\n",
    "    #             if select not in unique_selects_next.keys():\n",
    "    #                 unique_selects_next[select] = 1\n",
    "    #             else:\n",
    "    #                 unique_selects_next[select] += 1\n",
    "\n",
    "    # unique_selects.keys() == unique_selects_next.keys()\n",
    "    un_sel = pd.Series(unique_selects).sort_values(ascending=False).copy()\n",
    "    #un_sel_next = pd.Series(unique_selects_next).sort_values(ascending=False).copy()\n",
    "\n",
    "    # out_df = pd.DataFrame()  # columns = unique_selects)\n",
    "    out_df = df.loc[:, [col, col_next]]  # columns = unique_selects)\n",
    "\n",
    "    select_na = df[col].isnull()\n",
    "    select_na_next = df[col_next].isnull()\n",
    "\n",
    "    new_cols = []\n",
    "    # new_cols_next = []\n",
    "\n",
    "    for sel in un_sel.index:\n",
    "        # first lets\n",
    "        # col_name = col[:25] + '_' + sel.replace(' ', '_')\n",
    "        col_name = prefix + '_' + sel.replace(' ', '_')\n",
    "        col_name_next = prefix + 'Next_' + sel.replace(' ', '_')\n",
    "        col_name_love = prefix + 'Love_' + sel.replace(' ', '_')\n",
    "        col_name_hate = prefix + 'Hate_' + sel.replace(' ', '_')\n",
    "        col_name_desire = prefix + 'Desire_' + sel.replace(' ', '_')\n",
    "\n",
    "        new_cols.append(col_name)\n",
    "        new_cols.append(col_name_next)\n",
    "        new_cols.append(col_name_love)\n",
    "        new_cols.append(col_name_hate)\n",
    "        new_cols.append(col_name_desire)\n",
    "\n",
    "        if (sel == 'nan'):\n",
    "            # this is a holding tally for how many non-selctions we have...\n",
    "            # so should be true for respondents who have nans in other entries\n",
    "            new_col = select_na\n",
    "            new_col_next = select_na_next\n",
    "            # these are pretty non-sensicle for nan\n",
    "            # this is defensive... not nescessary?\n",
    "            love = (~select_na)\n",
    "            # this is defensive... not nescessary?\n",
    "            hate = (~select_na)\n",
    "            # any non-nan entries are \"desired\" but dangerous\n",
    "            desire = (~select_na_next)\n",
    "\n",
    "        else:\n",
    "            new_col = ~select_na  # this is defensive... not nescessary?\n",
    "            love = ~select_na  # this is defensive... not nescessary?\n",
    "            hate = ~select_na  # this is defensive... not nescessary?\n",
    "\n",
    "            selected = df[col].dropna().str.split(';').copy()\n",
    "            # need to strip the nulls\n",
    "            new_col[~select_na] = selected.apply(lambda x: sel in x)\n",
    "\n",
    "            new_col_next = ~select_na_next  # this is defensive... not nescessary?\n",
    "            desire = ~select_na_next\n",
    "            selected_next = df[col_next].dropna().str.split(';').copy()\n",
    "            # need to strip the nulls\n",
    "            new_col_next[~select_na_next] = selected_next.apply(\n",
    "                lambda x: sel in x)\n",
    "\n",
    "            love = ((new_col == True) & (new_col_next == True))\n",
    "            hate = ((new_col == True) & (new_col_next == False))\n",
    "            desire = ((new_col == False) & (new_col_next == True))\n",
    "\n",
    "            # can only \"love/hate\" it if you alread do it..\n",
    "            love[(new_col == False)] = np.nan\n",
    "            hate[(new_col == False)] = np.nan\n",
    "            # can only \"desire\" it if you don't alread do it..\n",
    "            desire[(new_col == True)] = np.nan\n",
    "\n",
    "            # put the nonentries back in place\n",
    "            new_col[select_na] = np.nan\n",
    "            new_col_next[select_na_next] = np.nan\n",
    "\n",
    "            love[select_na] = np.nan\n",
    "            love[select_na_next] = np.nan\n",
    "            hate[select_na] = np.nan\n",
    "            desire[select_na_next] = np.nan\n",
    "\n",
    "        out_df.loc[:, col_name] = new_col.astype('float64')\n",
    "        out_df.loc[:, col_name_next] = new_col_next.astype('float64')\n",
    "\n",
    "        out_df.loc[:, col_name_love] = love.astype('float64')\n",
    "        out_df.loc[:, col_name_hate] = hate.astype('float64')\n",
    "        out_df.loc[:, col_name_desire] = desire.astype('float64')\n",
    "\n",
    "    return out_df, new_cols"
   ]
  },
  {
   "cell_type": "markdown",
   "metadata": {},
   "source": [
    "### Languages \n",
    "\n",
    "`LanguageWorkedWith`, `LanguageDesireNextYear`, \n"
   ]
  },
  {
   "cell_type": "code",
   "execution_count": null,
   "metadata": {},
   "outputs": [],
   "source": [
    "col = 'LanguageWorkedWith'\n",
    "col_next = 'LanguageDesireNextYear'\n",
    "prefix = 'Lang'\n",
    "langs_df, Lang_cols = split_multiselect_love_hate(df, col, col_next, prefix)"
   ]
  },
  {
   "cell_type": "code",
   "execution_count": null,
   "metadata": {},
   "outputs": [],
   "source": [
    "langs_df.iloc[:, 0:15].head(35)"
   ]
  },
  {
   "cell_type": "code",
   "execution_count": null,
   "metadata": {},
   "outputs": [],
   "source": [
    "# We have to split the LanguageWorkedWith to get a proper picture\n",
    "#languages = survey[survey['LanguageWorkedWith'].notnull()]\n",
    "\n",
    "col = 'LanguageWorkedWith'\n",
    "col_next = 'LanguageDesireNextYear'\n",
    "prefix = 'Lang'\n",
    "\n",
    "unique_selects = {}\n",
    "# split the languages on ;\n",
    "# for language_set in survey['LanguageWorkedWith'].dropna().apply(lambda row: str(row).split(';')) :\n",
    "for select_set in df[col].apply(lambda row: str(row).split(';')):\n",
    "    for select in select_set:\n",
    "        if select not in unique_selects.keys():\n",
    "            unique_selects[select] = 1\n",
    "        else:\n",
    "            unique_selects[select] += 1\n",
    "\n",
    "\n",
    "unique_selects_next = {}\n",
    "# split the languages on ;\n",
    "# for language_set in survey['LanguageWorkedWith'].dropna().apply(lambda row: str(row).split(';')) :\n",
    "for select_set in df[col_next].apply(lambda row: str(row).split(';')):\n",
    "    for select in select_set:\n",
    "        if select not in unique_selects_next.keys():\n",
    "            unique_selects_next[select] = 1\n",
    "        else:\n",
    "            unique_selects_next[select] += 1\n",
    "\n",
    "#unique_selects.keys() == unique_selects_next.keys()\n",
    "un_sel = pd.Series(unique_selects).sort_values(ascending=False).copy()\n",
    "un_sel_next = pd.Series(unique_selects_next).sort_values(\n",
    "    ascending=False).copy()"
   ]
  },
  {
   "cell_type": "markdown",
   "metadata": {},
   "source": [
    "Incidence of language mentions for now and last year indicate that Javascript is the top dawg but losing steam (though the TypeScript and WebAssembly flavors are up and coming), and traditional HTML/CSS also seems to be on the decline.   Go and Python seem to be steadily growing in interest, with Go, Kotlin, Clojure, Rust and Dart seeming to have emerging interest.  "
   ]
  },
  {
   "cell_type": "code",
   "execution_count": null,
   "metadata": {},
   "outputs": [],
   "source": [
    "# #pd.DataFrame([un_sel,un_sel_next])  # columns = unique_selects)\n",
    "langs = pd.concat([un_sel, un_sel_next], axis=1, sort=False)\n",
    "# langs.sum(axis=1)\n",
    "langs.columns = [col, col_next]\n",
    "langs['NowVsNextYear'] = (langs[col_next]-langs[col])\n",
    "langs['pctInterestNext'] = (100*(langs[col_next]-langs[col])/langs[col])"
   ]
  },
  {
   "cell_type": "code",
   "execution_count": null,
   "metadata": {},
   "outputs": [],
   "source": [
    "# raw difference in mentions\n",
    "langs.sort_values('NowVsNextYear', ascending=True)"
   ]
  },
  {
   "cell_type": "code",
   "execution_count": null,
   "metadata": {},
   "outputs": [],
   "source": [
    "# This is how to merge the \"splits\" back into the main DF (for regressions...)\n",
    "#df_ = df.merge(langs, how='outer', left_index=True, right_index=True)\n",
    "# df_.shape"
   ]
  },
  {
   "cell_type": "markdown",
   "metadata": {},
   "source": [
    "Now we need to look at what percentage of each language users LOVE, or HATE that language.  And what the raw percentage of non-users are interested in the language.\n",
    "\n",
    "Lets plot as some horizontal bar graphs next to the raw incidence of language use for all Professionals and then with Developers and DataScientists broken out.\n",
    "\n"
   ]
  },
  {
   "cell_type": "code",
   "execution_count": null,
   "metadata": {},
   "outputs": [],
   "source": [
    "title_text = 'Incidence of Language used'\n",
    "xlimit = {0, 75}\n",
    "ylabel_text = 'Language'\n",
    "\n",
    "plot_dev_vs_df(lang_dev, lang_ds, title_text, xlimit, ylabel_text)"
   ]
  },
  {
   "cell_type": "code",
   "execution_count": null,
   "metadata": {},
   "outputs": [],
   "source": [
    "# DataFrame.hist(data, column=None, by=None, grid=True,\n",
    "#  xlabelsize=None, xrot=None, ylabelsize=None,\n",
    "#  yrot=None, ax=None, sharex=False, sharey=False,\n",
    "#  figsize=None, layout=None, bins=10,"
   ]
  },
  {
   "cell_type": "code",
   "execution_count": null,
   "metadata": {},
   "outputs": [],
   "source": [
    "langs = langs_df.filter(regex='Lang_')\n",
    "#langs = langs.merge(df['DSorDV'], how='outer', left_index=True, right_index=True)\n",
    "# langs.groupby('DSorDV').mean()"
   ]
  },
  {
   "cell_type": "code",
   "execution_count": null,
   "metadata": {},
   "outputs": [],
   "source": [
    "lang_dev = (100*langs[isDev].mean()).sort_values(ascending=True)\n",
    "sorted_index = lang_dev.index\n",
    "lang_ds = (100*langs[isDS].mean())\n",
    "lang_ds = lang_ds[sorted_index]\n",
    "lang_pct = (100*langs[isDev].mean()).sort_values(ascending=True)\n",
    "lang_pct = lang_pct[sorted_index]"
   ]
  },
  {
   "cell_type": "code",
   "execution_count": null,
   "metadata": {},
   "outputs": [],
   "source": [
    "filt = langs_df.filter(regex='LangLove_')\n",
    "love = filt.drop(columns='LangLove_nan')\n",
    "\n",
    "love_dev = (100*love[isDev].mean()).sort_values(ascending=True)\n",
    "love_ds = (100*love[isDS].mean()).sort_values(ascending=True)\n",
    "#love_ds = love_ds[love_dev.index]\n",
    "title_text = 'language LOVE (of current users, percent who WANT to use next year)'\n",
    "\n",
    "xlimit = {0, 95}\n",
    "ylabel_text = 'Language'\n",
    "\n",
    "plot_dev_vs_df(love_dev, love_ds, title_text, xlimit, ylabel_text)"
   ]
  },
  {
   "cell_type": "code",
   "execution_count": null,
   "metadata": {},
   "outputs": [],
   "source": [
    "filt = langs_df.filter(regex='LangHate')\n",
    "hate = filt.drop(columns='LangHate_nan')\n",
    "\n",
    "\n",
    "hate_dev = (100*hate[isDev].mean()).sort_values(ascending=True)\n",
    "hate_ds = (100*hate[isDS].mean()).sort_values(ascending=True)\n",
    "\n",
    "title_text = 'language HATE (of current users, percent who DO NOT want to use it next year)'\n",
    "\n",
    "xlimit = {0, 85}\n",
    "ylabel_text = 'Language'\n",
    "\n",
    "plot_dev_vs_df(hate_dev, hate_ds, title_text, xlimit, ylabel_text)"
   ]
  },
  {
   "cell_type": "code",
   "execution_count": null,
   "metadata": {},
   "outputs": [],
   "source": [
    "filt = langs_df.filter(regex='LangDesire')\n",
    "desire = filt.drop(columns='LangDesire_nan')\n",
    "\n",
    "des_dev = (100*desire[isDev].mean()).sort_values(ascending=True)\n",
    "des_ds = (100*desire[isDS].mean()).sort_values(ascending=True)\n",
    "\n",
    "title_text = 'language DESIRE (of non-users, percent who WANT to use it next year)'\n",
    "\n",
    "xlimit = {0, 35}\n",
    "ylabel_text = 'Language'\n",
    "\n",
    "plot_dev_vs_df(des_dev, des_ds, title_text, xlimit, ylabel_text)"
   ]
  },
  {
   "cell_type": "code",
   "execution_count": null,
   "metadata": {},
   "outputs": [],
   "source": [
    "col = 'PlatformWorkedWith'\n",
    "col_next = 'PlatformDesireNextYear'\n",
    "prefix = 'Platform'\n",
    "platform_df, Platform_cols = split_multiselect_love_hate(\n",
    "    df, col, col_next, prefix)"
   ]
  },
  {
   "cell_type": "code",
   "execution_count": null,
   "metadata": {},
   "outputs": [],
   "source": []
  },
  {
   "cell_type": "code",
   "execution_count": null,
   "metadata": {},
   "outputs": [],
   "source": [
    "plats = platform_df.filter(regex='Platform_')\n",
    "plats = plats.drop(columns='Platform_nan')\n",
    "\n",
    "plats_dev = (100*plats[isDev].mean()).sort_values(ascending=True)\n",
    "plats_ds = (100*plats[isDS].mean()).sort_values(ascending=True)\n",
    "\n",
    "title_text = 'incidence of platforms used'\n",
    "xlimit = {0, 75}\n",
    "ylabel_text = 'Platform'\n",
    "plot_dev_vs_df(plats_dev, plats_ds, title_text, xlimit, ylabel_text)"
   ]
  },
  {
   "cell_type": "code",
   "execution_count": null,
   "metadata": {},
   "outputs": [],
   "source": [
    "# plats = platform_df.filter(regex='PlatformDesire_')\n",
    "# plats = plats.drop(columns='PlatformDesire_nan')\n",
    "\n",
    "# platsd_dev = (100*plats[isDev].mean()).sort_values(ascending=True)\n",
    "# platsd_ds = (100*plats[isDS].mean()).sort_values(ascending=True)\n",
    "\n",
    "# platsd_dev.plot.barh(figsize=(10, 10))\n",
    "\n",
    "# platsd_ds.plot.barh(figsize=(10, 10))"
   ]
  },
  {
   "cell_type": "code",
   "execution_count": null,
   "metadata": {},
   "outputs": [],
   "source": [
    "col = 'DatabaseWorkedWith'\n",
    "col_next = 'DatabaseDesireNextYear'\n",
    "prefix = 'DB'\n",
    "db_df, DB_cols = split_multiselect_love_hate(df, col, col_next, prefix)"
   ]
  },
  {
   "cell_type": "code",
   "execution_count": null,
   "metadata": {},
   "outputs": [],
   "source": [
    "dbs = db_df.filter(regex='DB_')\n",
    "dbs = dbs.drop(columns='DB_nan')\n",
    "\n",
    "dbs_dev = (100*dbs[isDev].mean()).sort_values(ascending=True)\n",
    "dbs_ds = (100*dbs[isDS].mean()).sort_values(ascending=True)\n",
    "\n",
    "title_text = 'incidence of database used'\n",
    "xlimit = {0, 60}\n",
    "ylabel_text = 'Database'\n",
    "plot_dev_vs_df(dbs_dev, dbs_ds, title_text, xlimit, ylabel_text)"
   ]
  },
  {
   "cell_type": "code",
   "execution_count": null,
   "metadata": {},
   "outputs": [],
   "source": [
    "col = 'MiscTechWorkedWith'\n",
    "col_next = 'MiscTechDesireNextYear'\n",
    "prefix = 'Tech'\n",
    "tech_df, Tech_cols = split_multiselect_love_hate(df, col, col_next, prefix)"
   ]
  },
  {
   "cell_type": "code",
   "execution_count": null,
   "metadata": {},
   "outputs": [],
   "source": [
    "techs = tech_df.filter(regex='Tech_')\n",
    "techs = techs.drop(columns='Tech_nan')\n",
    "\n",
    "techs_dev = (100*techs[isDev].mean()).sort_values(ascending=True)\n",
    "techs_ds = (100*techs[isDS].mean()).sort_values(ascending=True)\n",
    "\n",
    "title_text = 'incidence of technology used'\n",
    "xlimit = {0, 60}\n",
    "ylabel_text = 'Tech'\n",
    "plot_dev_vs_df(dbs_dev, dbs_ds, title_text, xlimit, ylabel_text)"
   ]
  },
  {
   "cell_type": "markdown",
   "metadata": {},
   "source": [
    "---\n",
    "\n",
    "dont \n",
    "\n",
    "---\n",
    "\n",
    "go \n",
    "\n",
    "---\n",
    "\n",
    "below\n",
    "\n",
    "---\n",
    "\n",
    "here\n",
    "\n",
    "---"
   ]
  },
  {
   "cell_type": "markdown",
   "metadata": {},
   "source": [
    "throw out everything except a simple df"
   ]
  },
  {
   "cell_type": "code",
   "execution_count": null,
   "metadata": {},
   "outputs": [],
   "source": [
    "import sklearn\n",
    "from sklearn import svm, preprocessing\n",
    "\n",
    "# always shuffle your data to avoid any biases that may emerge b/c of some order.\n",
    "df = sklearn.utils.shuffle(df)\n",
    "\n",
    "X = df.drop(\"price\", axis=1).values\n",
    "X = preprocessing.scale(X)\n",
    "y = df[\"price\"].values\n",
    "\n",
    "test_size = 200\n",
    "\n",
    "X_train = X[:-test_size]\n",
    "y_train = y[:-test_size]\n",
    "\n",
    "X_test = X[-test_size:]\n",
    "y_test = y[-test_size:]\n",
    "\n",
    "clf = svm.SVR(kernel='linear')\n",
    "#clf = svm.SVR(kernel = 'rbf')\n",
    "\n",
    "clf.fit(X_train, y_train)\n",
    "print(clf.score(X_test, y_test))\n",
    "\n",
    "for X, y in list(zip(X_test, y_test))[:10]:\n",
    "    print(f\"model predicts {clf.predict([X])[0]}, real value: {y}\")"
   ]
  },
  {
   "cell_type": "code",
   "execution_count": null,
   "metadata": {},
   "outputs": [],
   "source": [
    "#import seaborn as sns\n",
    "import matplotlib.pyplot as plt\n",
    "sns.set(style=\"whitegrid\")\n",
    "\n",
    "# Initialize the matplotlib figure\n",
    "f, ax = plt.subplots(figsize=(6, 15))\n",
    "\n",
    "sns.set_color_codes(\"pastel\")\n",
    "p = sns.countplot(data=techs)\n",
    "\n",
    "#sns.barplot(x=\"MainBranch\", y=\"abbrev\", data=df, label=\"Count\", color=\"b\")\n",
    "\n",
    "\n",
    "# Plot the crashes where alcohol was involved\n",
    "# sns.set_color_codes(\"muted\")\n",
    "# sns.barplot(x=\"alcohol\", y=\"abbrev\", data=crashes,\n",
    "#            label=\"Alcohol-involved\", color=\"b\")\n",
    "\n",
    "# Add a legend and informative axis label\n",
    "#ax.legend(ncol=2, loc=\"lower right\", frameon=True)\n",
    "# ax.set(xlim=(0, 24), ylabel=\"\",\n",
    "#       xlabel=\"Automobile collisions per billion miles\")\n",
    "#sns.despine(left=True, bottom=True)"
   ]
  },
  {
   "cell_type": "code",
   "execution_count": null,
   "metadata": {},
   "outputs": [],
   "source": [
    "# Generate 1000 random values.\n",
    "x = np.random.normal(10, 5, 1000)\n",
    "y = np.random.normal(11, 10, 1000)\n",
    "# Plot them as a histogram.\n",
    "plt.hist(x)\n",
    "plt.show()  # Same data, this time normed, using density.\n",
    "plt.hist(x, density=True, color='blue', bins=np.arange(-10, 40), alpha=.5)\n",
    "plt.hist(y, density=True, color='red', bins=np.arange(-10, 40), alpha=.5)\n",
    "plt.title('Normed histograms')\n",
    "plt.xlabel('Random Values')\n",
    "\n",
    "plt.show()\n",
    "\n",
    "\n",
    "print(set(df['region'].values.tolist()))\n",
    "\n",
    "region_df = df.copy()[df['region'] == region]\n",
    "\n",
    "\n",
    "graph_df = pd.DataFrame()\n",
    "\n",
    "for region in df['region'].unique():\n",
    "    region_df = df.copy()[df['region'] == region]\n",
    "    region_df.set_index('Date', inplace=True)\n",
    "    region_df.sort_index(inplace=True)\n",
    "    region_df[f\"{region}_price25ma\"] = region_df[\"AveragePrice\"].rolling(\n",
    "        25).mean()\n",
    "\n",
    "    if graph_df.empty:\n",
    "        # note the double square brackets! (so df rather than series)\n",
    "        graph_df = region_df[[f\"{region}_price25ma\"]]\n",
    "    else:\n",
    "        graph_df = graph_df.join(region_df[f\"{region}_price25ma\"])\n",
    "\n",
    "graph_df.tail()"
   ]
  },
  {
   "cell_type": "code",
   "execution_count": null,
   "metadata": {},
   "outputs": [],
   "source": [
    "# create figure and axis\n",
    "fig, ax = plt.subplots()\n",
    "# plot histogram\n",
    "\n",
    "\n",
    "ax.hist(desireDS, bins=30, alpha=0.3, density=True,\n",
    "        range={0, 1000000.}, color='r')\n",
    "# set title and labels\n",
    "ax.set_title('df')\n",
    "ax.set_xlabel('muney')\n",
    "ax.set_ylabel('Frequency')\n",
    "ax.hist(desireDev, bins=30, alpha=0.3, density=True,\n",
    "        range={0, 1000000.}, color='b')\n",
    "\n",
    "\n",
    "# Initialize the matplotlib figure\n",
    "f, ax = plt.subplots(figsize=(6, 15))\n",
    "\n",
    "sns.set_color_codes(\"pastel\")\n",
    "p = sns.countplot(data=df, x='MainBranch')\n",
    "\n",
    "p = sns.countplot(data=df,\n",
    "                  y='Category',\n",
    "                  hue='DSorDV')\n",
    "\n",
    "\n",
    "# Plot the total crashes\n",
    "# sns.barplot(x=\"MainBranch\", y=\"abbrev\", data=df, label=\"Count\", color=\"b\")\n",
    "\n",
    "# Plot the crashes where alcohol was involved\n",
    "# sns.set_color_codes(\"muted\")\n",
    "# sns.barplot(x=\"alcohol\", y=\"abbrev\", data=crashes,\n",
    "#            label=\"Alcohol-involved\", color=\"b\")\n",
    "\n",
    "# Add a legend and informative axis label\n",
    "# ax.legend(ncol=2, loc=\"lower right\", frameon=True)\n",
    "# ax.set(xlim=(0, 24), ylabel=\"\",\n",
    "#       xlabel=\"Automobile collisions per billion miles\")\n",
    "sns.despine(left=True, bottom=True)\n",
    "\n",
    "# Databases, Platforms, and Misc Tech\n",
    "\n",
    "      `DatabaseWorkedWith`, `DatabaseDesireNextYear`,\n",
    "     `MiscTechWorkedWith`,`MiscTechDesireNextYear`, \n",
    "     `PlatformWorkedWith`, `PlatformDesireNextYear`,"
   ]
  },
  {
   "cell_type": "code",
   "execution_count": null,
   "metadata": {},
   "outputs": [],
   "source": [
    "df.pivot_table(['Total day calls', 'Total eve calls', 'Total night calls'],\n",
    "               ['Area code'], aggfunc='mean')\n",
    "\n",
    "pd.crosstab(df['Churn'], df['Voice mail plan'], normalize=True)\n",
    "\n",
    "\n",
    "# Plotting a bar graph of the number of stores in each city, for the first ten cities listed\n",
    "# in the column 'City'\n",
    "city_count = df['City'].value_counts()\n",
    "city_count = city_count[:10, ]\n",
    "plt.figure(figsize=(10, 5))\n",
    "sns.barplot(city_count.index, city_count.values, alpha=0.8)\n",
    "plt.title('Starbucks in top 10 cities in the World')\n",
    "plt.ylabel('Number of Occurrences', fontsize=12)\n",
    "plt.xlabel('city', fontsize=12)\n",
    "plt.show()"
   ]
  },
  {
   "cell_type": "markdown",
   "metadata": {},
   "source": [
    "# DEPRICATED CODE \n",
    "\n",
    "Moved these munging/wrangling items to the bottom for sake of sharing"
   ]
  },
  {
   "cell_type": "markdown",
   "metadata": {},
   "source": [
    "### zero order sanity checks\n",
    "First lets see what features are in here, and see how complete it is... empty (`NaN`) entries...  complete columns... and columns with lots of missing data. "
   ]
  },
  {
   "cell_type": "code",
   "execution_count": null,
   "metadata": {},
   "outputs": [],
   "source": [
    "# what pct of of empty entries..\n",
    "(100 * df.isna().sum() / df.shape[0]).describe()"
   ]
  },
  {
   "cell_type": "code",
   "execution_count": null,
   "metadata": {},
   "outputs": [],
   "source": [
    "# check columns with no missing values\n",
    "set(df.isna().sum()[df.isna().sum() == 0].keys())"
   ]
  },
  {
   "cell_type": "code",
   "execution_count": null,
   "metadata": {},
   "outputs": [],
   "source": [
    "# check which columns have over 50% missing values\n",
    "sum(df.columns[100*df.isna().sum()/df.shape[0] > 50])"
   ]
  }
 ],
 "metadata": {
  "kernelspec": {
   "display_name": "Python 3",
   "language": "python",
   "name": "python3"
  },
  "language_info": {
   "codemirror_mode": {
    "name": "ipython",
    "version": 3
   },
   "file_extension": ".py",
   "mimetype": "text/x-python",
   "name": "python",
   "nbconvert_exporter": "python",
   "pygments_lexer": "ipython3",
   "version": "3.7.3"
  },
  "toc": {
   "base_numbering": 1,
   "nav_menu": {},
   "number_sections": true,
   "sideBar": true,
   "skip_h1_title": false,
   "title_cell": "Table of Contents",
   "title_sidebar": "Contents",
   "toc_cell": false,
   "toc_position": {
    "height": "calc(100% - 180px)",
    "left": "10px",
    "top": "150px",
    "width": "279.097px"
   },
   "toc_section_display": true,
   "toc_window_display": true
  },
  "varInspector": {
   "cols": {
    "lenName": 16,
    "lenType": 16,
    "lenVar": 40
   },
   "kernels_config": {
    "python": {
     "delete_cmd_postfix": "",
     "delete_cmd_prefix": "del ",
     "library": "var_list.py",
     "varRefreshCmd": "print(var_dic_list())"
    },
    "r": {
     "delete_cmd_postfix": ") ",
     "delete_cmd_prefix": "rm(",
     "library": "var_list.r",
     "varRefreshCmd": "cat(var_dic_list()) "
    }
   },
   "position": {
    "height": "840.984px",
    "left": "265.141px",
    "right": "20px",
    "top": "61.875px",
    "width": "800px"
   },
   "types_to_exclude": [
    "module",
    "function",
    "builtin_function_or_method",
    "instance",
    "_Feature"
   ],
   "window_display": false
  }
 },
 "nbformat": 4,
 "nbformat_minor": 2
}
