{
 "cells": [
  {
   "cell_type": "markdown",
   "metadata": {},
   "source": [
    "# Keystone 0: Data Presentation - StackOverflow Dev Survey \n",
    "\n",
    "Initial data presentation for Thinkful DS program. SOF survey analysis of DS attitudes\n",
    "\n",
    "This notebook contains basic statistical analysis and visualization of the data.\n",
    "\n",
    "## Data Sources\n",
    "- summary : Processed file from notebook 1-Data_Prep\n",
    "\n",
    "## Changes\n",
    "- 08-06-2019 : Started project"
   ]
  },
  {
   "cell_type": "code",
   "execution_count": null,
   "metadata": {},
   "outputs": [],
   "source": []
  },
  {
   "cell_type": "code",
   "execution_count": null,
   "metadata": {},
   "outputs": [],
   "source": [
    "import pandas as pd\n",
    "from pathlib import Path\n",
    "from datetime import datetime\n",
    "\n",
    "import numpy as np\n",
    "import matplotlib.pyplot as plt"
   ]
  },
  {
   "cell_type": "code",
   "execution_count": null,
   "metadata": {},
   "outputs": [],
   "source": [
    "%matplotlib inline"
   ]
  },
  {
   "cell_type": "markdown",
   "metadata": {},
   "source": [
    "### File Locations"
   ]
  },
  {
   "cell_type": "code",
   "execution_count": null,
   "metadata": {},
   "outputs": [],
   "source": [
    "today = datetime.today()\n",
    "in_file = Path.cwd() / \"data\" / \"processed\" / f\"summary_{today:%b-%d-%Y}.pkl\"\n",
    "report_dir = Path.cwd() / \"reports\"\n",
    "report_file = report_dir / \"Excel_Analysis_{today:%b-%d-%Y}.xlsx\""
   ]
  },
  {
   "cell_type": "code",
   "execution_count": null,
   "metadata": {},
   "outputs": [],
   "source": [
    "df = pd.read_pickle(in_file)"
   ]
  },
  {
   "cell_type": "markdown",
   "metadata": {},
   "source": [
    "### Perform Data Analysis"
   ]
  },
  {
   "cell_type": "markdown",
   "metadata": {},
   "source": [
    "## OVERVIEW"
   ]
  },
  {
   "cell_type": "markdown",
   "metadata": {},
   "source": [
    "[commentary]As the business world adapts to the massive disrutption of internet and clout based services and the consumer expectations unleashed by the first movers and innovators, DATA SCIENTISTS have become hightly sought after.  This has made it a very attractive career building on the customs and tools pioneered by Academic Science expats and computer programmers.  \n",
    "\n",
    "Data Science is a hot field, however, is \"the best job in America\" really much different from other developer roles?  Are the people doing it different?  That is, are their attitudes and aproaches of Data Scientists different from other coders and tech geeks?\n",
    "\n",
    "Some related questions: Has the sudden popularity of this profession made any impact of the types of people entering it? Lets explore these questions by analysing data collected by Stack Overflow as part of their annual developer survey.\n"
   ]
  },
  {
   "cell_type": "markdown",
   "metadata": {},
   "source": [
    "## Research Questions\n",
    "\n",
    "The motivation behind this analysis is to explore how data scientists compare with non-data scientist developers (\"non-data scientists\"). Consequently, we set out to answer the following questions:\n",
    "\n",
    "1. How does the demographic profile of data scientists differ from that of non-data scientists?\n",
    "2. What programming languages do data scientists favour and how do they differ from those used by non-data scientists?\n",
    "3. How much coding experience do data scientists have compared to non-data scientists?\n",
    "4. Are data scientists more satisfied with their jobs/careers than non-data scientists?\n",
    "\n",
    "## The Data\n",
    "\n",
    "In order to answer these questions, we make use of data collected by Stack Overflow in response to their 2018 Annual Developer Survey. This data can be downloaded from: <https://insights.stackoverflow.com/survey>. To get a feel for this data, we read in the data set and conduct some exploratory analysis:\n",
    "\n",
    "## Data Prep\n",
    "\n",
    "## Data Analysis\n",
    " \n",
    "\n",
    "### Question 1\n",
    "\n",
    "### Question 2"
   ]
  },
  {
   "cell_type": "markdown",
   "metadata": {},
   "source": [
    "### Save Report file into reports directory?\n",
    "\n",
    "Could save an Excel or make a report generator function..."
   ]
  },
  {
   "cell_type": "code",
   "execution_count": null,
   "metadata": {},
   "outputs": [],
   "source": [
    "#writer = pd.ExcelWriter(report_file, engine='xlsxwriter')\n"
   ]
  },
  {
   "cell_type": "code",
   "execution_count": null,
   "metadata": {},
   "outputs": [],
   "source": [
    "#df.to_excel(writer, sheet_name='Report')"
   ]
  },
  {
   "cell_type": "code",
   "execution_count": null,
   "metadata": {},
   "outputs": [],
   "source": [
    "#writer.save()"
   ]
  }
 ],
 "metadata": {
  "kernelspec": {
   "display_name": "Python 3",
   "language": "python",
   "name": "python3"
  },
  "language_info": {
   "codemirror_mode": {
    "name": "ipython",
    "version": 3
   },
   "file_extension": ".py",
   "mimetype": "text/x-python",
   "name": "python",
   "nbconvert_exporter": "python",
   "pygments_lexer": "ipython3",
   "version": "3.7.3"
  },
  "toc-autonumbering": false
 },
 "nbformat": 4,
 "nbformat_minor": 2
}
