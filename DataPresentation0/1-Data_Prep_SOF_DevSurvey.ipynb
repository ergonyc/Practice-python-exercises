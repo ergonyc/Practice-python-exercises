{
 "cells": [
  {
   "cell_type": "code",
   "execution_count": 1,
   "metadata": {
    "slideshow": {
     "slide_type": "slide"
    }
   },
   "outputs": [],
   "source": [
    "import pandas as pd\n",
    "from pathlib import Path\n",
    "from datetime import datetime\n",
    "import requests\n",
    "import zipfile\n",
    "import shutil\n",
    "import os\n",
    "\n",
    "import numpy as np\n",
    "import matplotlib.pyplot as plt"
   ]
  },
  {
   "cell_type": "code",
   "execution_count": 2,
   "metadata": {},
   "outputs": [],
   "source": [
    "## filter the warning for now on\n",
    "#import warnings\n",
    "#warnings.simplefilter(\"ignore\", DeprecationWarning)\n",
    "\n",
    "# new way to create an ordered category\n",
    "from pandas.api.types import CategoricalDtype"
   ]
  },
  {
   "cell_type": "markdown",
   "metadata": {},
   "source": [
    "## Description:\n",
    "\n",
    "The data set is the full, cleaned results of the 2019 Stack Overflow Developer Survey are in the external subdirectory. Free response submissions and personally identifying information have been removed from the results to protect the privacy of respondents. There are three files:\n",
    "\n",
    "1. survey_results_public.csv - CSV file with main survey results, one respondent per row and one column per answer\n",
    "2. survey_results_schema.csv - CSV file with survey schema, i.e., the questions that correspond to each column name\n",
    "3. so_survey_2019.pdf - PDF file of survey instrument\n",
    "\n",
    "The survey was fielded from January 23 to February 14, 2019. The median time spent on the survey for qualified responses was 23.3 minutes.\n",
    "\n",
    "Respondents were recruited primarily through channels owned by Stack Overflow. The top 5 sources of respondents were onsite messaging, blog posts, email lists, Meta posts, banner ads, and social media posts. Since respondents were recruited in this way, highly engaged users on Stack Overflow were more likely to notice the links for the survey and click to begin it.\n",
    "\n",
    "A local copy of survey_results_public.csv renamed survey2019.csv for further use.\n"
   ]
  },
  {
   "cell_type": "markdown",
   "metadata": {},
   "source": [
    "## File Locations"
   ]
  },
  {
   "cell_type": "code",
   "execution_count": 17,
   "metadata": {},
   "outputs": [],
   "source": [
    "today = datetime.today()\n",
    "in_file = Path.cwd() / \"data\" / \"raw\" / \"survey2019.csv\"\n",
    "# this is where our cleaned up file will put put\n",
    "summary_file = Path.cwd() / \"data\" / \"processed\" / f\"summary_{today:%b-%d-%Y}.pkl\""
   ]
  },
  {
   "cell_type": "code",
   "execution_count": 19,
   "metadata": {},
   "outputs": [
    {
     "name": "stdout",
     "output_type": "stream",
     "text": [
      "Downloading 2019 survey\n",
      "Unzipping 2019 survey\n",
      "Moving 2019 survey\n",
      "cleaning up\n"
     ]
    }
   ],
   "source": [
    "# download the data if its not in the local directory\n",
    "\n",
    "if not os.path.exists(in_file):\n",
    "    # put these here in case we want to look at any other years...\n",
    "    url =  'https://drive.google.com/uc?export=download&id=1QOmVDpd8hcVYqqUXDXf68UMDWQZP0wQV'\n",
    "    survey_filename = 'survey_results_public.csv'\n",
    "    questions_filename = 'survey_results_schema.csv'\n",
    "    year = 2019\n",
    "    print('Downloading {} survey'.format(year))\n",
    "\n",
    "    request = requests.get(url)\n",
    "    with open('survey.zip', 'wb') as file:\n",
    "        file.write(request.content) \n",
    "\n",
    "    print('Unzipping {} survey'.format(year))\n",
    "    with zipfile.ZipFile(\"survey.zip\", \"r\") as file:\n",
    "        file.extractall(\"data/external/\")\n",
    "\n",
    "    print('Moving {} survey'.format(year))\n",
    "    shutil.copytree('data/external', 'data/raw')\n",
    "    shutil.copy('data/external/' + survey_filename, 'data/raw/survey{}.csv'.format(year))\n",
    "    shutil.copy('data/external/' + questions_filename, 'data/raw/schema{}.csv'.format(year))\n",
    "    \n",
    "    print('cleaning up')\n",
    "    os.remove('survey.zip')"
   ]
  },
  {
   "cell_type": "code",
   "execution_count": 20,
   "metadata": {},
   "outputs": [],
   "source": [
    "#beware that the Respondent ids start at 1\n",
    "df = pd.read_csv(in_file, index_col='Respondent')"
   ]
  },
  {
   "cell_type": "markdown",
   "metadata": {},
   "source": [
    "## Prepare the data\n",
    "\n",
    "- Remove all leading and trailing spaces (not nescessary)\n",
    "- Rename the columns for consistency (not nescessary)\n",
    "- Convert objects to category"
   ]
  },
  {
   "cell_type": "markdown",
   "metadata": {},
   "source": [
    "### zero order sanity checks\n",
    "\n",
    "- column names\n",
    "- coplete columns (no `nan`s)\n",
    "- look for highly unpopulated columns (nan > 50%)\n"
   ]
  },
  {
   "cell_type": "code",
   "execution_count": 21,
   "metadata": {},
   "outputs": [
    {
     "data": {
      "text/plain": [
       "Index(['MainBranch', 'Hobbyist', 'OpenSourcer', 'OpenSource', 'Employment',\n",
       "       'Country', 'Student', 'EdLevel', 'UndergradMajor', 'EduOther',\n",
       "       'OrgSize', 'DevType', 'YearsCode', 'Age1stCode', 'YearsCodePro',\n",
       "       'CareerSat', 'JobSat', 'MgrIdiot', 'MgrMoney', 'MgrWant', 'JobSeek',\n",
       "       'LastHireDate', 'LastInt', 'FizzBuzz', 'JobFactors', 'ResumeUpdate',\n",
       "       'CurrencySymbol', 'CurrencyDesc', 'CompTotal', 'CompFreq',\n",
       "       'ConvertedComp', 'WorkWeekHrs', 'WorkPlan', 'WorkChallenge',\n",
       "       'WorkRemote', 'WorkLoc', 'ImpSyn', 'CodeRev', 'CodeRevHrs', 'UnitTests',\n",
       "       'PurchaseHow', 'PurchaseWhat', 'LanguageWorkedWith',\n",
       "       'LanguageDesireNextYear', 'DatabaseWorkedWith',\n",
       "       'DatabaseDesireNextYear', 'PlatformWorkedWith',\n",
       "       'PlatformDesireNextYear', 'WebFrameWorkedWith',\n",
       "       'WebFrameDesireNextYear', 'MiscTechWorkedWith',\n",
       "       'MiscTechDesireNextYear', 'DevEnviron', 'OpSys', 'Containers',\n",
       "       'BlockchainOrg', 'BlockchainIs', 'BetterLife', 'ITperson', 'OffOn',\n",
       "       'SocialMedia', 'Extraversion', 'ScreenName', 'SOVisit1st',\n",
       "       'SOVisitFreq', 'SOVisitTo', 'SOFindAnswer', 'SOTimeSaved',\n",
       "       'SOHowMuchTime', 'SOAccount', 'SOPartFreq', 'SOJobs', 'EntTeams',\n",
       "       'SOComm', 'WelcomeChange', 'SONewContent', 'Age', 'Gender', 'Trans',\n",
       "       'Sexuality', 'Ethnicity', 'Dependents', 'SurveyLength', 'SurveyEase'],\n",
       "      dtype='object')"
      ]
     },
     "execution_count": 21,
     "metadata": {},
     "output_type": "execute_result"
    }
   ],
   "source": [
    "# Print column name\n",
    "df.columns "
   ]
  },
  {
   "cell_type": "code",
   "execution_count": 68,
   "metadata": {},
   "outputs": [
    {
     "data": {
      "text/plain": [
       "count    84.000000\n",
       "mean     13.780154\n",
       "std      12.171536\n",
       "min       0.000000\n",
       "25%       2.128078\n",
       "50%      10.792277\n",
       "75%      22.270007\n",
       "max      45.799534\n",
       "dtype: float64"
      ]
     },
     "execution_count": 68,
     "metadata": {},
     "output_type": "execute_result"
    }
   ],
   "source": [
    "# what pct of of empty entries..\n",
    "(100 * df.isna().sum() / df.shape[0]).describe()"
   ]
  },
  {
   "cell_type": "code",
   "execution_count": 69,
   "metadata": {},
   "outputs": [
    {
     "data": {
      "text/plain": [
       "{'Hobbyist', 'OpenSourcer'}"
      ]
     },
     "execution_count": 69,
     "metadata": {},
     "output_type": "execute_result"
    }
   ],
   "source": [
    "# check columns with no missing values\n",
    "set(df.isna().sum()[df.isna().sum()==0].keys())"
   ]
  },
  {
   "cell_type": "code",
   "execution_count": 70,
   "metadata": {},
   "outputs": [
    {
     "data": {
      "text/plain": [
       "0"
      ]
     },
     "execution_count": 70,
     "metadata": {},
     "output_type": "execute_result"
    }
   ],
   "source": [
    "# check which columns have over 50% missing values\n",
    "sum(df.columns[100*df.isna().sum()/df.shape[0] > 50])"
   ]
  },
  {
   "cell_type": "markdown",
   "metadata": {},
   "source": [
    "## Create derived data columns\n",
    "\n",
    "- simplifications\n",
    "- summaries\n",
    "- multi-select splits\n",
    "- dummy variables (boolean encoding)"
   ]
  },
  {
   "cell_type": "code",
   "execution_count": 71,
   "metadata": {},
   "outputs": [],
   "source": [
    "# only convert categories we want to convert... \n",
    "convert_to_cat = ['MainBranch', 'Hobbyist', 'OpenSourcer',  'Employment',\n",
    "       'Country', 'Student', 'UndergradMajor',\n",
    "       'OrgSize', 'DevType',\n",
    "       'CareerSat',  'MgrIdiot', 'MgrMoney', 'MgrWant', 'FizzBuzz',\n",
    "       'CurrencySymbol', 'CurrencyDesc', 'CompTotal', 'CompFreq', 'WorkWeekHrs', 'WorkPlan',\n",
    "       'WorkRemote', 'WorkLoc',  'CodeRev', 'CodeRevHrs', 'UnitTests',\n",
    "       'OpSys', 'BlockchainOrg', 'BlockchainIs', 'BetterLife', 'ITperson', 'OffOn',\n",
    "       'SocialMedia', 'Extraversion','Age', 'Gender', 'Trans',\n",
    "       'Sexuality', 'Ethnicity', 'Dependents', 'SurveyLength', 'SurveyEase']\n",
    "\n",
    "# convert to categories\n",
    "for col_name in convert_to_cat:\n",
    "    if(df[col_name].dtype == 'object'):\n",
    "        df[col_name] = df[col_name].astype('category')\n",
    "        #df[col_name] = df[col_name].cat.codes\n",
    "        \n",
    "# convert to ordered categories below\n",
    "#     'EdLevel','OpenSource','JobSat','ImpSyn',"
   ]
  },
  {
   "cell_type": "code",
   "execution_count": 72,
   "metadata": {},
   "outputs": [],
   "source": [
    "# these will need to be \"split\" later\n",
    "treat_as_lists = ['JobFactors','DevEnviron',\n",
    "                 'Containers','WorkChallenge',\n",
    "                 'LanguageWorkedWith', 'LanguageDesireNextYear', \n",
    "                 'DatabaseWorkedWith','DatabaseDesireNextYear', \n",
    "                 'MiscTechWorkedWith','MiscTechDesireNextYear', \n",
    "                 'EduOther']"
   ]
  },
  {
   "cell_type": "markdown",
   "metadata": {},
   "source": [
    "### convert columns to categorical\n",
    "\n",
    "- eductaion level\n",
    "- openSource, career/job satisfaction\n",
    "- personal competence (ImpSyn)"
   ]
  },
  {
   "cell_type": "code",
   "execution_count": 73,
   "metadata": {},
   "outputs": [],
   "source": [
    "# ordered categories \n",
    "# Education\n",
    "edlevel_cat = CategoricalDtype( ['I never completed any formal education',\n",
    "                                 'Primary/elementary school',\n",
    "                                 'Secondary school (e.g. American high school, German Realschule or Gymnasium, etc.)',\n",
    "                                 'Some college/university study without earning a degree',\n",
    "                                 'Associate degree',\n",
    "                                 'Bachelor’s degree (BA, BS, B.Eng., etc.)',\n",
    "                                 'Master’s degree (MA, MS, M.Eng., MBA, etc.)',\n",
    "                                 'Professional degree (JD, MD, etc.)',\n",
    "                                 'Other doctoral degree (Ph.D, Ed.D., etc.)'],ordered=True)\n",
    "\n",
    "df['EdLevel'] = df.EdLevel.astype(edlevel_cat)"
   ]
  },
  {
   "cell_type": "code",
   "execution_count": 74,
   "metadata": {},
   "outputs": [],
   "source": [
    "#OpenSource . Higher, same lower\n",
    "opensource_cat = CategoricalDtype( ['OSS is, on average, of HIGHER quality than proprietary / closed source software',\n",
    "                                    'The quality of OSS and closed source software is about the same',\n",
    "                                    'OSS is, on average, of LOWER quality than proprietary / closed source software',], ordered=True)\n",
    "df['OpenSource'] = df.OpenSource.astype(opensource_cat)\n",
    " \n",
    "# career satisfaction / job satisfaction\\\n",
    "careersat_cat = CategoricalDtype(['Very dissatisfied',\n",
    "                                     'Slightly dissatisfied',\n",
    "                                     'Neither satisfied nor dissatisfied',\n",
    "                                     'Slightly satisfied',\n",
    "                                     'Very satisfied'], ordered=True)\n",
    "df['CareerSat'] = df.CareerSat.astype(careersat_cat)\n",
    "\n",
    "jobsat_cat = CategoricalDtype(['Very dissatisfied',\n",
    "                                     'Slightly dissatisfied',\n",
    "                                     'Neither satisfied nor dissatisfied',\n",
    "                                     'Slightly satisfied',\n",
    "                                     'Very satisfied'], ordered=True)\n",
    "df['JobSat'] = df.JobSat.astype(jobsat_cat)\n",
    "\n",
    "#competence\n",
    "impsyn_cat = CategoricalDtype( ['Far below average',\n",
    "                                 'A little below average',\n",
    "                                 'Average',\n",
    "                                 'A little above average',\n",
    "                                 'Far above average'], ordered=True)\n",
    "df['ImpSyn']  = df.ImpSyn.astype(impsyn_cat)\n"
   ]
  },
  {
   "cell_type": "code",
   "execution_count": 75,
   "metadata": {},
   "outputs": [
    {
     "name": "stdout",
     "output_type": "stream",
     "text": [
      "The dataset contains 88883 rows and 84 columns.\n"
     ]
    }
   ],
   "source": [
    "print('The dataset contains', df.shape[0], 'rows and', df.shape[1], 'columns.')"
   ]
  },
  {
   "cell_type": "code",
   "execution_count": 76,
   "metadata": {},
   "outputs": [
    {
     "data": {
      "text/plain": [
       "Respondent\n",
       "1                            Primary/elementary school\n",
       "2    Secondary school (e.g. American high school, G...\n",
       "3             Bachelor’s degree (BA, BS, B.Eng., etc.)\n",
       "4             Bachelor’s degree (BA, BS, B.Eng., etc.)\n",
       "Name: EdLevel, dtype: category\n",
       "Categories (9, object): [I never completed any formal education < Primary/elementary school < Secondary school (e.g. American high school, G... < Some college/university study without earning ... ... Bachelor’s degree (BA, BS, B.Eng., etc.) < Master’s degree (MA, MS, M.Eng., MBA, etc.) < Professional degree (JD, MD, etc.) < Other doctoral degree (Ph.D, Ed.D., etc.)]"
      ]
     },
     "execution_count": 76,
     "metadata": {},
     "output_type": "execute_result"
    }
   ],
   "source": [
    "df['EdLevel'].head(4)"
   ]
  },
  {
   "cell_type": "markdown",
   "metadata": {},
   "source": [
    "### Create derived data columns\n",
    "\n",
    "- eductaion level\n",
    "- major type\n",
    "- generation (from Age)\n",
    "- Simplify (categorize)\n",
    "    - Education: Advanced, College, Grade\n",
    "    - Age->Gen: GenZ,Milennial,GenX,Boomer,Silent\n",
    "    - (Languages: procedural vs. Object?  classic vs. new? high vs. low level?)\n",
    "        Need to parse each string into a list for each respondent. \"object\"  or maybe a bitmask...  categorical list...\n",
    "        \n",
    "        \n",
    "        "
   ]
  },
  {
   "cell_type": "code",
   "execution_count": 77,
   "metadata": {},
   "outputs": [
    {
     "name": "stdout",
     "output_type": "stream",
     "text": [
      "The dataset contains 88883 rows and 84 columns.\n"
     ]
    }
   ],
   "source": [
    "# Print shape of dataset\n",
    "#print('The dataset contains', np.shape(df)[0], 'rows and', np.shape(df)[1], 'columns.')\n",
    "print('The dataset contains', df.shape[0], 'rows and', df.shape[1], 'columns.')\n"
   ]
  },
  {
   "cell_type": "code",
   "execution_count": 78,
   "metadata": {},
   "outputs": [
    {
     "data": {
      "text/plain": [
       "Index(['I never completed any formal education', 'Primary/elementary school',\n",
       "       'Secondary school (e.g. American high school, German Realschule or Gymnasium, etc.)',\n",
       "       'Some college/university study without earning a degree',\n",
       "       'Associate degree', 'Bachelor’s degree (BA, BS, B.Eng., etc.)',\n",
       "       'Master’s degree (MA, MS, M.Eng., MBA, etc.)',\n",
       "       'Professional degree (JD, MD, etc.)',\n",
       "       'Other doctoral degree (Ph.D, Ed.D., etc.)'],\n",
       "      dtype='object')"
      ]
     },
     "execution_count": 78,
     "metadata": {},
     "output_type": "execute_result"
    }
   ],
   "source": [
    "df['EdLevel'].cat.categories"
   ]
  },
  {
   "cell_type": "code",
   "execution_count": 79,
   "metadata": {},
   "outputs": [
    {
     "name": "stdout",
     "output_type": "stream",
     "text": [
      "The dataset contains 23199 respondents with advanced degrees, (n= 52574 college; n= 10617 grade)  88883 og~ 88883 null-> 2493\n"
     ]
    }
   ],
   "source": [
    "# old method comparing strings\n",
    "\n",
    "advanced = df['EdLevel'].isin(['Other doctoral degree (Ph.D, Ed.D., etc.)',\n",
    "                               'Master’s degree (MA, MS, M.Eng., MBA, etc.)',\n",
    "                               'Professional degree (JD, MD, etc.)'])\n",
    "\n",
    "college = df['EdLevel'].isin(['Associate degree',\n",
    "                              'Bachelor’s degree (BA, BS, B.Eng., etc.)',\n",
    "                              'Some college/university study without earning a degree'])\n",
    "\n",
    "grade = df['EdLevel'].isin(['Secondary school (e.g. American high school, German Realschule or Gymnasium, etc.)',\n",
    "                            'Primary/elementary school',\n",
    "                            'I never completed any formal education'])\n",
    "no_answer = df['EdLevel'].isnull()\n",
    "\n",
    "print('The dataset contains',  advanced.sum(),\n",
    "      'respondents with advanced degrees, (n=', college.sum(),\n",
    "      'college; n=', grade.sum(), 'grade) ', (advanced.sum() +\n",
    "                                              college.sum()+grade.sum()+no_answer.sum()),\n",
    "      'og~', df.shape[0],\n",
    "      'null->', no_answer.sum())"
   ]
  },
  {
   "cell_type": "code",
   "execution_count": 80,
   "metadata": {},
   "outputs": [],
   "source": [
    "# create ordered category\n",
    "edlevel_simple_cat = CategoricalDtype(  ['Grade',\n",
    "                                 'College', #'N/A'\n",
    "                                 'Advanced'], ordered=True)\n",
    "df.loc[:,'Education'] = np.nan\n",
    "\n",
    "df.loc[advanced,'Education'] = 'Advanced'\n",
    "df.loc[college,'Education'] = 'College'\n",
    "df.loc[grade,'Education'] = 'Grade'\n",
    "#df.loc[no_answer,'Education'] = 'N/A'\n",
    "#df.loc[:,'Education'] = np.nan\n",
    "# now make it an ordered category\n",
    "df.loc[:,'Education']  = df.Education.astype(edlevel_simple_cat)\n",
    "\n"
   ]
  },
  {
   "cell_type": "code",
   "execution_count": 81,
   "metadata": {},
   "outputs": [],
   "source": [
    "# # new method using ordered category (is awkward because of nan)\n",
    "# if False:\n",
    "#     advanced = (survey['EdLevel'].dropna() >= survey.EdLevel.cat.categories[6])\n",
    "\n",
    "#     college = ((survey['EdLevel'].dropna() < survey.EdLevel.cat.categories[6]) & (survey['EdLevel'].dropna() >= survey.EdLevel.cat.categories[3])) \n",
    "  \n",
    "#     grade = (survey['EdLevel'].dropna() < survey.EdLevel.cat.categories[3])\n",
    "#     no_answer = survey['EdLevel'].isnull()\n",
    "\n",
    "    \n",
    "#     print('The dataset contains',  advanced.sum(),  \n",
    "#           'respondents with advanced degrees, (n=', college.sum(), \n",
    "#           'college; n=', grade.sum(), 'grade) ', (advanced.sum()+college.sum()+grade.sum()+no_answer.sum() ),\n",
    "#          'og~',survey.shape[0], \n",
    "#          'null->', no_answer.sum())\n"
   ]
  },
  {
   "cell_type": "code",
   "execution_count": 82,
   "metadata": {},
   "outputs": [
    {
     "data": {
      "text/plain": [
       "Respondent\n",
       "1      Grade\n",
       "2      Grade\n",
       "3    College\n",
       "Name: Education, dtype: category\n",
       "Categories (3, object): [Grade < College < Advanced]"
      ]
     },
     "execution_count": 82,
     "metadata": {},
     "output_type": "execute_result"
    }
   ],
   "source": [
    "df['Education'].head(3)"
   ]
  },
  {
   "cell_type": "code",
   "execution_count": 83,
   "metadata": {},
   "outputs": [],
   "source": [
    "df.loc[:,'Major'] = np.nan   \n",
    "\n",
    "computer_tech = df['UndergradMajor'].isin(['Computer science, computer engineering, or software engineering',\n",
    "                                        'Web development or web design',\n",
    "                                        'Information systems, information technology, or system administration'])\n",
    "   \n",
    "\n",
    "math_sci = df['UndergradMajor'].isin(['Mathematics or statistics',\n",
    "                                          'Another engineering discipline (ex. civil, electrical, mechanical)',\n",
    "                                          'A natural science (ex. biology, chemistry, physics)'])\n",
    "       \n",
    "other = df['UndergradMajor'].isin(['A health science (ex. nursing, pharmacy, radiology)',\n",
    "                                       'A business discipline (ex. accounting, finance, marketing)',\n",
    "                                       'A humanities discipline (ex. literature, history, philosophy)',\n",
    "                                       'A social science (ex. anthropology, psychology, political science)',\n",
    "                                       'Fine arts or performing arts (ex. graphic design, music, studio art)'])\n",
    " \n",
    "\n",
    "df.loc[computer_tech,'Major'] = 'Computer/Tech'\n",
    "df.loc[math_sci,'Major'] = 'Math/Science'\n",
    "df.loc[other,'Major'] = 'Other'\n",
    "#df.loc[no_answer,'EdLevel_simple'] = 'N/A'\n",
    "\n",
    "df.loc[:,'Major']  = df.Major.astype('category')"
   ]
  },
  {
   "cell_type": "code",
   "execution_count": 84,
   "metadata": {},
   "outputs": [
    {
     "data": {
      "text/plain": [
       "Respondent\n",
       "1              NaN\n",
       "2              NaN\n",
       "3    Computer/Tech\n",
       "4    Computer/Tech\n",
       "5    Computer/Tech\n",
       "Name: Major, dtype: category\n",
       "Categories (3, object): [Computer/Tech, Math/Science, Other]"
      ]
     },
     "execution_count": 84,
     "metadata": {},
     "output_type": "execute_result"
    }
   ],
   "source": [
    "df['Major'].head()\n",
    "#survey.UndergradMajor.cat.categories"
   ]
  },
  {
   "cell_type": "markdown",
   "metadata": {},
   "source": [
    "### fix some nonsensical numbers\n",
    "\n",
    "- Age: `Age`-> `nAge`  change <13, or >80 to `NaN`\n",
    "- 1st Code: `Age1stCode` -> `nAgeCode` , change \"Younger than 5 years\" to 4.5 and \"Older than 85\" to 85.\n",
    "- years coding, years experience: `YearsCode` -> `nYearsCode`, change \"Less than 1 year\" to 1/10000 and \"More than 50\" to 55.\n",
    "- years pro:`YearsCodePro` -> `nYearsPro`\n",
    "- workweek: `WorkWeekHrs` to require 4 hours off per day\n",
    "- is `ConvertedComp` sensible?\n"
   ]
  },
  {
   "cell_type": "code",
   "execution_count": 88,
   "metadata": {},
   "outputs": [
    {
     "ename": "AttributeError",
     "evalue": "'Series' object has no attribute 'boxplot'",
     "output_type": "error",
     "traceback": [
      "\u001b[0;31m---------------------------------------------------------------------------\u001b[0m",
      "\u001b[0;31mAttributeError\u001b[0m                            Traceback (most recent call last)",
      "\u001b[0;32m<ipython-input-88-8256a3b109a4>\u001b[0m in \u001b[0;36m<module>\u001b[0;34m\u001b[0m\n\u001b[0;32m----> 1\u001b[0;31m \u001b[0mdf\u001b[0m\u001b[0;34m.\u001b[0m\u001b[0mConvertedComp\u001b[0m\u001b[0;34m.\u001b[0m\u001b[0mboxplot\u001b[0m\u001b[0;34m(\u001b[0m\u001b[0;34m)\u001b[0m\u001b[0;34m\u001b[0m\u001b[0;34m\u001b[0m\u001b[0m\n\u001b[0m",
      "\u001b[0;32m~/anaconda3/lib/python3.7/site-packages/pandas/core/generic.py\u001b[0m in \u001b[0;36m__getattr__\u001b[0;34m(self, name)\u001b[0m\n\u001b[1;32m   5065\u001b[0m             \u001b[0;32mif\u001b[0m \u001b[0mself\u001b[0m\u001b[0;34m.\u001b[0m\u001b[0m_info_axis\u001b[0m\u001b[0;34m.\u001b[0m\u001b[0m_can_hold_identifiers_and_holds_name\u001b[0m\u001b[0;34m(\u001b[0m\u001b[0mname\u001b[0m\u001b[0;34m)\u001b[0m\u001b[0;34m:\u001b[0m\u001b[0;34m\u001b[0m\u001b[0;34m\u001b[0m\u001b[0m\n\u001b[1;32m   5066\u001b[0m                 \u001b[0;32mreturn\u001b[0m \u001b[0mself\u001b[0m\u001b[0;34m[\u001b[0m\u001b[0mname\u001b[0m\u001b[0;34m]\u001b[0m\u001b[0;34m\u001b[0m\u001b[0;34m\u001b[0m\u001b[0m\n\u001b[0;32m-> 5067\u001b[0;31m             \u001b[0;32mreturn\u001b[0m \u001b[0mobject\u001b[0m\u001b[0;34m.\u001b[0m\u001b[0m__getattribute__\u001b[0m\u001b[0;34m(\u001b[0m\u001b[0mself\u001b[0m\u001b[0;34m,\u001b[0m \u001b[0mname\u001b[0m\u001b[0;34m)\u001b[0m\u001b[0;34m\u001b[0m\u001b[0;34m\u001b[0m\u001b[0m\n\u001b[0m\u001b[1;32m   5068\u001b[0m \u001b[0;34m\u001b[0m\u001b[0m\n\u001b[1;32m   5069\u001b[0m     \u001b[0;32mdef\u001b[0m \u001b[0m__setattr__\u001b[0m\u001b[0;34m(\u001b[0m\u001b[0mself\u001b[0m\u001b[0;34m,\u001b[0m \u001b[0mname\u001b[0m\u001b[0;34m,\u001b[0m \u001b[0mvalue\u001b[0m\u001b[0;34m)\u001b[0m\u001b[0;34m:\u001b[0m\u001b[0;34m\u001b[0m\u001b[0;34m\u001b[0m\u001b[0m\n",
      "\u001b[0;31mAttributeError\u001b[0m: 'Series' object has no attribute 'boxplot'"
     ]
    }
   ],
   "source": []
  },
  {
   "cell_type": "code",
   "execution_count": 24,
   "metadata": {},
   "outputs": [],
   "source": [
    "def fix_years_coding(years_):\n",
    "    # make these numeric in a sensible way\n",
    "    if years_ == 'Less than 1 year':\n",
    "        return 0.0001\n",
    "    elif years_ == 'More than 50 years':\n",
    "        return 55.\n",
    "    else:\n",
    "        return years_\n",
    "\n",
    "    \n",
    "def fix_age(years_):\n",
    "    # make these numeric in a sensible way  exclude pre-teens and aged >84\n",
    "    if years_ < 13:\n",
    "        return np.NaN\n",
    "    elif years_ > 84:\n",
    "        return np.NaN\n",
    "    else:\n",
    "        return years_ \n",
    "    \n",
    "def fix_age1stcode(years_):\n",
    "    if years_ == 'Younger than 5 years':\n",
    "        return 4.5\n",
    "    elif years_ == 'Older than 85':\n",
    "        return 85.\n",
    "    else:\n",
    "        return years_\n",
    "\n",
    "\n",
    "def fix_workweekhours(hours_):\n",
    "    #if hours_ == np.NaN:\n",
    "    #    return hours_\n",
    "    if hours_ > 20*7:  # hard ceiling on hours in a week (24*7)  lets throw out the ridiculous no sleep 24/7 scenarios\n",
    "        return np.NaN\n",
    "    elif hours_ < 4: # arbitrary minimum work time\n",
    "        return np.NaN\n",
    "    else:\n",
    "        return hours_\n",
    "    \n",
    "def check_salary\n",
    "\n",
    "\n",
    "    "
   ]
  },
  {
   "cell_type": "code",
   "execution_count": 25,
   "metadata": {},
   "outputs": [],
   "source": [
    "df.loc[:,'nYearsCode'] =  pd.to_numeric(df.YearsCode.apply(fix_years_coding))\n",
    "df.loc[:,'nYearsPro'] = pd.to_numeric(df.YearsCodePro.apply(fix_years_coding))\n",
    "df.loc[:,'WorkWeekH'] = df.WorkWeekHrs.apply(fix_workweekhours)\n",
    "df.loc[:,'nAge'] =  pd.to_numeric(df.Age.apply(fix_age))\n",
    "df.loc[:,'nAgeCode'] =  pd.to_numeric(df.Age1stCode.apply(fix_age1stcode))\n"
   ]
  },
  {
   "cell_type": "code",
   "execution_count": 26,
   "metadata": {},
   "outputs": [
    {
     "data": {
      "text/plain": [
       "count    79210.000000\n",
       "mean        30.336699\n",
       "std          9.178390\n",
       "min          1.000000\n",
       "25%         24.000000\n",
       "50%         29.000000\n",
       "75%         35.000000\n",
       "max         99.000000\n",
       "Name: Age, dtype: float64"
      ]
     },
     "execution_count": 26,
     "metadata": {},
     "output_type": "execute_result"
    }
   ],
   "source": [
    "df.Age.describe()"
   ]
  },
  {
   "cell_type": "code",
   "execution_count": 27,
   "metadata": {},
   "outputs": [
    {
     "data": {
      "text/plain": [
       "count    64017.000000\n",
       "mean        40.376339\n",
       "std         10.092518\n",
       "min          4.000000\n",
       "25%         40.000000\n",
       "50%         40.000000\n",
       "75%         44.000000\n",
       "max        140.000000\n",
       "Name: WorkWeekH, dtype: float64"
      ]
     },
     "execution_count": 27,
     "metadata": {},
     "output_type": "execute_result"
    }
   ],
   "source": [
    "df['WorkWeekH'].dropna().describe()\n",
    "# looks good"
   ]
  },
  {
   "cell_type": "code",
   "execution_count": 89,
   "metadata": {},
   "outputs": [
    {
     "data": {
      "text/html": [
       "<div>\n",
       "<style scoped>\n",
       "    .dataframe tbody tr th:only-of-type {\n",
       "        vertical-align: middle;\n",
       "    }\n",
       "\n",
       "    .dataframe tbody tr th {\n",
       "        vertical-align: top;\n",
       "    }\n",
       "\n",
       "    .dataframe thead th {\n",
       "        text-align: right;\n",
       "    }\n",
       "</style>\n",
       "<table border=\"1\" class=\"dataframe\">\n",
       "  <thead>\n",
       "    <tr style=\"text-align: right;\">\n",
       "      <th></th>\n",
       "      <th>count</th>\n",
       "      <th>mean</th>\n",
       "      <th>median</th>\n",
       "    </tr>\n",
       "    <tr>\n",
       "      <th>Dependents</th>\n",
       "      <th></th>\n",
       "      <th></th>\n",
       "      <th></th>\n",
       "    </tr>\n",
       "  </thead>\n",
       "  <tbody>\n",
       "    <tr>\n",
       "      <th>Yes</th>\n",
       "      <td>21803</td>\n",
       "      <td>127388.806816</td>\n",
       "      <td>61872.0</td>\n",
       "    </tr>\n",
       "    <tr>\n",
       "      <th>No</th>\n",
       "      <td>32559</td>\n",
       "      <td>127992.870788</td>\n",
       "      <td>54996.0</td>\n",
       "    </tr>\n",
       "  </tbody>\n",
       "</table>\n",
       "</div>"
      ],
      "text/plain": [
       "            count           mean   median\n",
       "Dependents                               \n",
       "Yes         21803  127388.806816  61872.0\n",
       "No          32559  127992.870788  54996.0"
      ]
     },
     "execution_count": 89,
     "metadata": {},
     "output_type": "execute_result"
    }
   ],
   "source": [
    "df.groupby('Dependents').ConvertedComp.agg(['count','mean','median']).sort_values('mean')\n"
   ]
  },
  {
   "cell_type": "markdown",
   "metadata": {},
   "source": [
    "###  Categorize according to standard \"generations\"\n",
    "\n",
    "- Gen Z\n",
    "- Millenial\n",
    "- Gen X\n",
    "- Boomers\n",
    "- Silent\n",
    "\n",
    "![alt text][logo]\n",
    "\n",
    "[logo]:\n",
    "https://www.pewresearch.org/wp-content/uploads/2019/01/FT_19.01.17_generations_2019.png\n"
   ]
  },
  {
   "cell_type": "code",
   "execution_count": 36,
   "metadata": {},
   "outputs": [],
   "source": [
    "# Convert Age to generation with 2019 as current time reference\n",
    "def find_gen(age):\n",
    "    \"\"\"\n",
    "    \"\"\"\n",
    "    if age <= 22:\n",
    "        gen = 'GenZ'\n",
    "        return gen\n",
    "    elif age <= 38:\n",
    "        gen = 'Millenial'\n",
    "    elif age <= 54:\n",
    "        gen = 'GenX'\n",
    "    elif age <= 73:\n",
    "        gen = 'Boomer'\n",
    "    else:\n",
    "        gen = 'Silent'      \n",
    "    return gen\n"
   ]
  },
  {
   "cell_type": "code",
   "execution_count": 90,
   "metadata": {},
   "outputs": [
    {
     "data": {
      "text/html": [
       "<div>\n",
       "<style scoped>\n",
       "    .dataframe tbody tr th:only-of-type {\n",
       "        vertical-align: middle;\n",
       "    }\n",
       "\n",
       "    .dataframe tbody tr th {\n",
       "        vertical-align: top;\n",
       "    }\n",
       "\n",
       "    .dataframe thead th {\n",
       "        text-align: right;\n",
       "    }\n",
       "</style>\n",
       "<table border=\"1\" class=\"dataframe\">\n",
       "  <thead>\n",
       "    <tr style=\"text-align: right;\">\n",
       "      <th></th>\n",
       "      <th>count</th>\n",
       "      <th>mean</th>\n",
       "      <th>median</th>\n",
       "    </tr>\n",
       "    <tr>\n",
       "      <th>Gen</th>\n",
       "      <th></th>\n",
       "      <th></th>\n",
       "      <th></th>\n",
       "    </tr>\n",
       "  </thead>\n",
       "  <tbody>\n",
       "    <tr>\n",
       "      <th>GenZ</th>\n",
       "      <td>3874</td>\n",
       "      <td>67796.219411</td>\n",
       "      <td>19266.0</td>\n",
       "    </tr>\n",
       "    <tr>\n",
       "      <th>Millenial</th>\n",
       "      <td>40895</td>\n",
       "      <td>121602.788654</td>\n",
       "      <td>53500.0</td>\n",
       "    </tr>\n",
       "    <tr>\n",
       "      <th>Silent</th>\n",
       "      <td>2324</td>\n",
       "      <td>138549.665232</td>\n",
       "      <td>60000.0</td>\n",
       "    </tr>\n",
       "    <tr>\n",
       "      <th>GenX</th>\n",
       "      <td>7756</td>\n",
       "      <td>172946.333935</td>\n",
       "      <td>91660.0</td>\n",
       "    </tr>\n",
       "    <tr>\n",
       "      <th>Boomer</th>\n",
       "      <td>974</td>\n",
       "      <td>202005.099589</td>\n",
       "      <td>110000.0</td>\n",
       "    </tr>\n",
       "  </tbody>\n",
       "</table>\n",
       "</div>"
      ],
      "text/plain": [
       "           count           mean    median\n",
       "Gen                                      \n",
       "GenZ        3874   67796.219411   19266.0\n",
       "Millenial  40895  121602.788654   53500.0\n",
       "Silent      2324  138549.665232   60000.0\n",
       "GenX        7756  172946.333935   91660.0\n",
       "Boomer       974  202005.099589  110000.0"
      ]
     },
     "execution_count": 90,
     "metadata": {},
     "output_type": "execute_result"
    }
   ],
   "source": [
    "# Apply function to subsets\n",
    "df.loc[:,'Gen'] = np.nan\n",
    "df.loc[:,'Gen'] = df.Age.apply(find_gen).copy()\n",
    "df.groupby('Gen').ConvertedComp.agg(['count','mean','median']).sort_values('mean')\n"
   ]
  },
  {
   "cell_type": "markdown",
   "metadata": {},
   "source": [
    "## Clean Data\n",
    "\n",
    "- Column Cleanup\n",
    "- Respondent Cleanup \n",
    "\n",
    "    "
   ]
  },
  {
   "cell_type": "markdown",
   "metadata": {},
   "source": [
    "### Respondent Cleanup\n",
    "\n",
    "- KEEP PROFESSIONALS ONLY.  Dropped students and \"other\"\n",
    "- Create our categories of respondents (aux columns)\n",
    "    - DataScientist\n",
    "    - Non-DataScientists (everybody else, including un-engaged, jokers, and students)\n",
    "    - Developers (other \"professionals\")\n"
   ]
  },
  {
   "cell_type": "markdown",
   "metadata": {},
   "source": [
    "As we are interested in comparing data scientists to non-data scientists, we need to be able to differentiate between the two. This is done using the `DevType` field. As a result, we should drop any rows where this field is missing, since we can't determine which subset these rows fit into.\n"
   ]
  },
  {
   "cell_type": "code",
   "execution_count": 38,
   "metadata": {
    "scrolled": false
   },
   "outputs": [
    {
     "data": {
      "text/plain": [
       "[I am a developer by profession]\n",
       "Categories (1, object): [I am a developer by profession]"
      ]
     },
     "execution_count": 38,
     "metadata": {},
     "output_type": "execute_result"
    }
   ],
   "source": [
    "#print('The dataset contains', cat_df.shape[0], 'rows and', cat_df.shape[1], 'columns.')\n",
    "df['MainBranch'].unique()"
   ]
  },
  {
   "cell_type": "code",
   "execution_count": 39,
   "metadata": {},
   "outputs": [],
   "source": [
    "#make some of the categories ordered\n",
    "developers = df['MainBranch'] == 'I am a developer by profession' # df['MainBranch'].cat.categories[0]\n",
    "# limit our scope to professional developers\n",
    "df = df[developers]"
   ]
  },
  {
   "cell_type": "code",
   "execution_count": 40,
   "metadata": {},
   "outputs": [
    {
     "name": "stdout",
     "output_type": "stream",
     "text": [
      "The dataset contains 65679 rows and 92 columns.\n"
     ]
    }
   ],
   "source": [
    "print('The dataset contains', df.shape[0], 'rows and', df.shape[1], 'columns.')"
   ]
  },
  {
   "cell_type": "code",
   "execution_count": 41,
   "metadata": {},
   "outputs": [],
   "source": [
    "# Create data scientist and non-data scientist subsets.\n",
    "data_scientist = df['DevType'].str.contains('data', case=False, na=False, regex=True).copy() #data scientists / analists / Data engineers\n",
    "developer = df['DevType'].str.contains('developer', case=False, na=False,regex=True).copy() #all types of developers"
   ]
  },
  {
   "cell_type": "code",
   "execution_count": 42,
   "metadata": {},
   "outputs": [
    {
     "data": {
      "text/plain": [
       "[Developer, full-stack, Academic researcher;Developer, desktop or ente..., Designer;Developer, front-end, Database administrator;Developer, back-end;Dev..., Data or business analyst;Data scientist or mac..., ..., Developer, front-end;Developer, mobile;Develop..., Data scientist or machine learning specialist;..., Data scientist or machine learning specialist;..., Data scientist or machine learning specialist;..., Academic researcher;Database administrator;Dev...]\n",
       "Length: 10193\n",
       "Categories (10192, object): [Developer, full-stack, Academic researcher;Developer, desktop or ente..., Designer;Developer, front-end, Database administrator;Developer, back-end;Dev..., ..., Data scientist or machine learning specialist;..., Data scientist or machine learning specialist;..., Data scientist or machine learning specialist;..., Academic researcher;Database administrator;Dev...]"
      ]
     },
     "execution_count": 42,
     "metadata": {},
     "output_type": "execute_result"
    }
   ],
   "source": [
    "df.DevType.unique()"
   ]
  },
  {
   "cell_type": "code",
   "execution_count": 43,
   "metadata": {},
   "outputs": [
    {
     "data": {
      "text/plain": [
       "14361"
      ]
     },
     "execution_count": 43,
     "metadata": {},
     "output_type": "execute_result"
    }
   ],
   "source": [
    "data_scientist.sum()"
   ]
  },
  {
   "cell_type": "code",
   "execution_count": 44,
   "metadata": {},
   "outputs": [],
   "source": [
    "# make some expository columns\n",
    "df.loc[:,'DSorDV'] = np.nan"
   ]
  },
  {
   "cell_type": "code",
   "execution_count": 45,
   "metadata": {},
   "outputs": [],
   "source": [
    "df.loc[data_scientist,'DSorDV'] = 'Data Scientist'\n",
    "df.loc[developer,'DSorDV'] = 'Developer'"
   ]
  },
  {
   "cell_type": "code",
   "execution_count": 46,
   "metadata": {},
   "outputs": [],
   "source": [
    "df.loc[:,'isDS'] = data_scientist\n",
    "df.loc[:,'isDev'] = developer\n",
    "df.loc[:,'notDS'] = ~data_scientist"
   ]
  },
  {
   "cell_type": "markdown",
   "metadata": {},
   "source": [
    "### Column Cleanup\n",
    "- Drop columns which we don't want to anlayze\n",
    "- re-order/group columns (in case we want to select with slices?)\n",
    "- Remove all leading and trailing spaces (not nescessary)\n",
    "- Rename the columns for consistency (not nescessary)"
   ]
  },
  {
   "cell_type": "code",
   "execution_count": 47,
   "metadata": {},
   "outputs": [
    {
     "data": {
      "text/plain": [
       "Index(['MainBranch', 'Hobbyist', 'OpenSourcer', 'OpenSource', 'Employment',\n",
       "       'Country', 'Student', 'EdLevel', 'UndergradMajor', 'EduOther',\n",
       "       'OrgSize', 'DevType', 'YearsCode', 'Age1stCode', 'YearsCodePro',\n",
       "       'CareerSat', 'JobSat', 'MgrIdiot', 'MgrMoney', 'MgrWant', 'JobSeek',\n",
       "       'LastHireDate', 'LastInt', 'FizzBuzz', 'JobFactors', 'ResumeUpdate',\n",
       "       'CurrencySymbol', 'CurrencyDesc', 'CompTotal', 'CompFreq',\n",
       "       'ConvertedComp', 'WorkWeekHrs', 'WorkPlan', 'WorkChallenge',\n",
       "       'WorkRemote', 'WorkLoc', 'ImpSyn', 'CodeRev', 'CodeRevHrs', 'UnitTests',\n",
       "       'PurchaseHow', 'PurchaseWhat', 'LanguageWorkedWith',\n",
       "       'LanguageDesireNextYear', 'DatabaseWorkedWith',\n",
       "       'DatabaseDesireNextYear', 'PlatformWorkedWith',\n",
       "       'PlatformDesireNextYear', 'WebFrameWorkedWith',\n",
       "       'WebFrameDesireNextYear', 'MiscTechWorkedWith',\n",
       "       'MiscTechDesireNextYear', 'DevEnviron', 'OpSys', 'Containers',\n",
       "       'BlockchainOrg', 'BlockchainIs', 'BetterLife', 'ITperson', 'OffOn',\n",
       "       'SocialMedia', 'Extraversion', 'ScreenName', 'SOVisit1st',\n",
       "       'SOVisitFreq', 'SOVisitTo', 'SOFindAnswer', 'SOTimeSaved',\n",
       "       'SOHowMuchTime', 'SOAccount', 'SOPartFreq', 'SOJobs', 'EntTeams',\n",
       "       'SOComm', 'WelcomeChange', 'SONewContent', 'Age', 'Gender', 'Trans',\n",
       "       'Sexuality', 'Ethnicity', 'Dependents', 'SurveyLength', 'SurveyEase',\n",
       "       'Education', 'Major', 'nYearsCode', 'nYearsPro', 'WorkWeekH', 'nAge',\n",
       "       'nAgeCode', 'Gen', 'DSorDV', 'isDS', 'isDev', 'notDS'],\n",
       "      dtype='object')"
      ]
     },
     "execution_count": 47,
     "metadata": {},
     "output_type": "execute_result"
    }
   ],
   "source": [
    "df.columns"
   ]
  },
  {
   "cell_type": "code",
   "execution_count": 48,
   "metadata": {},
   "outputs": [],
   "source": [
    "new_columns = ['Education', 'Major', 'nYearsCode','nAgeCode','nAge'\n",
    "               'nYearsPro', 'WorkWeekH', 'Gen', 'isDS', 'isDev', 'notDS']"
   ]
  },
  {
   "cell_type": "code",
   "execution_count": 50,
   "metadata": {},
   "outputs": [],
   "source": [
    "# Drop unnecessary columns\n",
    "df = df[\n",
    "    ['MainBranch',  # should be only Developers so could drop\n",
    "        #\n",
    "        'Employment',\n",
    "        'Country',\n",
    "        'Student',\n",
    "        #\n",
    "        'EdLevel',\n",
    "        'UndergradMajor',\n",
    "        'Major',\n",
    "        'Education',\n",
    "        #\n",
    "        'OrgSize',\n",
    "        'DevType',\n",
    "        'isDS', 'isDev', 'notDS','DSorDV',\n",
    "        # Years  -treat as numbers\n",
    "        'nYearsCode',  # 'YearsCode',\n",
    "        'nYearsPro',  # 'YearsCodePro',\n",
    "        'nAgeCode',  # 'Age1stCide'\n",
    "        'WorkWeekH',  # 'WorkWeekHrs'\n",
    "        #\n",
    "        'ImpSyn',  # PRIMARY  # Self - competence !!!\n",
    "        'CareerSat',\n",
    "        'JobSat',\n",
    "        'MgrIdiot',  # MGR competence\n",
    "        'MgrMoney',  # do you need to be a manager to make $$\n",
    "        'MgrWant',  # do you want to be a manager\n",
    "        # 'JobFactors', # what drives values - grouped with other list types below\n",
    "        'ConvertedComp',  # PRIMARY\n",
    "        #\n",
    "        'OpenSourcer',\n",
    "        'OpenSource',\n",
    "        #\n",
    "        'OpSys',\n",
    "        'BlockchainOrg', 'BlockchainIs',\n",
    "        # personality\n",
    "        'BetterLife',\n",
    "        'ITperson', 'OffOn',\n",
    "        #  social / demographic\n",
    "        'SocialMedia',\n",
    "        'Extraversion',\n",
    "        'ScreenName',\n",
    "        'nAge', 'Gen',\n",
    "        'Gender', 'Trans',\n",
    "        'Sexuality', 'Ethnicity', 'Dependents',\n",
    "        # do these pairs  helps is understand how they see the future? (maybe drop)\n",
    "        'JobFactors', 'DevEnviron',\n",
    "        'Containers', 'WorkChallenge',\n",
    "        'LanguageWorkedWith', 'LanguageDesireNextYear',\n",
    "        'DatabaseWorkedWith', 'DatabaseDesireNextYear',\n",
    "        'MiscTechWorkedWith', 'MiscTechDesireNextYear',\n",
    "        'PlatformWorkedWith', 'PlatformDesireNextYear',\n",
    "        'EduOther',\n",
    "        # might want to look at these later.\n",
    "        'Hobbyist',\n",
    "        'FizzBuzz',\n",
    "        'ResumeUpdate',\n",
    "        'CurrencySymbol', 'CurrencyDesc',\n",
    "        'CompTotal', 'CompFreq',\n",
    "        'SurveyLength', 'SurveyEase']\n",
    "]"
   ]
  },
  {
   "cell_type": "code",
   "execution_count": 51,
   "metadata": {},
   "outputs": [
    {
     "name": "stdout",
     "output_type": "stream",
     "text": [
      "The dataset now contains 65679 rows and 65 columns.\n"
     ]
    }
   ],
   "source": [
    "# SKIP ALL STACKOVERFLOW PARTICULARS\n",
    "#'JobSeek','LastHireDate', 'LastInt',\n",
    "#'WorkPlan', 'WorkChallenge',\n",
    "#' WorkRemote', 'WorkLoc',\n",
    "#'CodeRev', 'CodeRevHrs', 'UnitTests',\n",
    "#'PurchaseHow', 'PurchaseWhat',\n",
    "# Skip these\n",
    "# 'WebFrameWorkedWith','WebFrameDesireNextYear',\n",
    "# Print shape of dataset\n",
    "print('The dataset now contains',\n",
    "      df.shape[0], 'rows and', df.shape[1], 'columns.')"
   ]
  },
  {
   "cell_type": "markdown",
   "metadata": {},
   "source": [
    "## Finalized Cleaning"
   ]
  },
  {
   "cell_type": "code",
   "execution_count": 52,
   "metadata": {},
   "outputs": [],
   "source": [
    "#cols_to_rename = {'col1': 'New_Name'}\n",
    "#df.rename(columns=cols_to_rename, inplace=True)"
   ]
  },
  {
   "cell_type": "markdown",
   "metadata": {},
   "source": [
    "### Clean Up Data Types"
   ]
  },
  {
   "cell_type": "markdown",
   "metadata": {},
   "source": [
    "### Create some categories if nescessary"
   ]
  },
  {
   "cell_type": "code",
   "execution_count": 53,
   "metadata": {},
   "outputs": [
    {
     "data": {
      "text/plain": [
       "MainBranch                category\n",
       "Employment                category\n",
       "Country                   category\n",
       "Student                   category\n",
       "EdLevel                   category\n",
       "UndergradMajor            category\n",
       "Major                     category\n",
       "Education                 category\n",
       "OrgSize                   category\n",
       "DevType                   category\n",
       "isDS                          bool\n",
       "isDev                         bool\n",
       "notDS                         bool\n",
       "DSorDV                      object\n",
       "nYearsCode                 float64\n",
       "nYearsPro                  float64\n",
       "nAgeCode                   float64\n",
       "WorkWeekH                  float64\n",
       "ImpSyn                    category\n",
       "CareerSat                 category\n",
       "JobSat                    category\n",
       "MgrIdiot                  category\n",
       "MgrMoney                  category\n",
       "MgrWant                   category\n",
       "ConvertedComp              float64\n",
       "OpenSourcer               category\n",
       "OpenSource                category\n",
       "OpSys                     category\n",
       "BlockchainOrg             category\n",
       "BlockchainIs              category\n",
       "                            ...   \n",
       "ScreenName                  object\n",
       "nAge                       float64\n",
       "Gen                         object\n",
       "Gender                    category\n",
       "Trans                     category\n",
       "Sexuality                 category\n",
       "Ethnicity                 category\n",
       "Dependents                category\n",
       "JobFactors                  object\n",
       "DevEnviron                  object\n",
       "Containers                  object\n",
       "WorkChallenge               object\n",
       "LanguageWorkedWith          object\n",
       "LanguageDesireNextYear      object\n",
       "DatabaseWorkedWith          object\n",
       "DatabaseDesireNextYear      object\n",
       "MiscTechWorkedWith          object\n",
       "MiscTechDesireNextYear      object\n",
       "PlatformWorkedWith          object\n",
       "PlatformDesireNextYear      object\n",
       "EduOther                    object\n",
       "Hobbyist                  category\n",
       "FizzBuzz                  category\n",
       "ResumeUpdate                object\n",
       "CurrencySymbol            category\n",
       "CurrencyDesc              category\n",
       "CompTotal                  float64\n",
       "CompFreq                  category\n",
       "SurveyLength              category\n",
       "SurveyEase                category\n",
       "Length: 65, dtype: object"
      ]
     },
     "execution_count": 53,
     "metadata": {},
     "output_type": "execute_result"
    }
   ],
   "source": [
    "df.dtypes"
   ]
  },
  {
   "cell_type": "code",
   "execution_count": 54,
   "metadata": {},
   "outputs": [],
   "source": [
    "df?"
   ]
  },
  {
   "cell_type": "markdown",
   "metadata": {},
   "source": [
    "## Save Preprocessed Data"
   ]
  },
  {
   "cell_type": "markdown",
   "metadata": {},
   "source": [
    "### Save output file into processed directory\n",
    "\n",
    "Save a file in the processed directory that is cleaned properly. It will be read in and used later for further analysis.\n",
    "\n",
    "Other options besides pickle include:\n",
    "- feather\n",
    "- msgpack\n",
    "- parquet"
   ]
  },
  {
   "cell_type": "code",
   "execution_count": 55,
   "metadata": {},
   "outputs": [],
   "source": [
    "df.to_pickle(summary_file)\n",
    "\n"
   ]
  },
  {
   "cell_type": "code",
   "execution_count": 56,
   "metadata": {},
   "outputs": [
    {
     "data": {
      "text/plain": [
       "PosixPath('/Users/ergonyc/Projects/Insight/Modules/DataPresentation0/data/processed/summary_Sep-02-2019.pkl')"
      ]
     },
     "execution_count": 56,
     "metadata": {},
     "output_type": "execute_result"
    }
   ],
   "source": [
    "summary_file"
   ]
  },
  {
   "cell_type": "markdown",
   "metadata": {},
   "source": [
    "### Create categories of respondents t\n",
    "\n"
   ]
  },
  {
   "cell_type": "code",
   "execution_count": null,
   "metadata": {},
   "outputs": [],
   "source": []
  },
  {
   "cell_type": "code",
   "execution_count": null,
   "metadata": {},
   "outputs": [],
   "source": []
  },
  {
   "cell_type": "markdown",
   "metadata": {},
   "source": [
    "## CODE SNIPPITS for further analysis\n"
   ]
  },
  {
   "cell_type": "markdown",
   "metadata": {},
   "source": [
    "### advice from Matt"
   ]
  },
  {
   "cell_type": "code",
   "execution_count": 71,
   "metadata": {},
   "outputs": [],
   "source": [
    "if False:\n",
    "    # these are some notes from matt on now to figure some things out...\n",
    "\n",
    "    df.loc[df['column'].isin(['value_1', 'value_2']), 'other_column']\n",
    "\n",
    "    if (value == value):  # Won't return true for nans (edited) \n",
    "        x = np.nan\n"
   ]
  },
  {
   "cell_type": "code",
   "execution_count": 68,
   "metadata": {},
   "outputs": [],
   "source": [
    "# Look at descriptive statistics for data (ignore Respondent since this is just an ID field)\n",
    "#survey.drop(['Respondent'], axis = 1).describe()"
   ]
  },
  {
   "cell_type": "markdown",
   "metadata": {},
   "source": [
    "### Dummies"
   ]
  },
  {
   "cell_type": "code",
   "execution_count": null,
   "metadata": {},
   "outputs": [],
   "source": [
    "#METHOD 1\n",
    "# create the 'Sex_male' dummy variable using the 'map' method\n",
    "train['Sex_male'] = train.Sex.map({'female':0, 'male':1})\n",
    "train.head()\n",
    "\n",
    "# alternative: use 'get_dummies' to create one column for every possible value\n",
    "pd.get_dummies(train.Sex).head()\n",
    "\n",
    "# METHOD 2\n",
    "# drop the first dummy variable ('female') using the 'iloc' method\n",
    "pd.get_dummies(train.Sex).iloc[:, 1:].head()\n",
    "\n",
    "# drop the first dummy variable ('female') using the 'iloc' method\n",
    "pd.get_dummies(train.Sex).iloc[:, 1:].head()\n",
    "\n",
    "# add a prefix to identify the source of the dummy variables\n",
    "pd.get_dummies(train.Sex, prefix='Sex').iloc[:, 1:].head()"
   ]
  },
  {
   "cell_type": "code",
   "execution_count": null,
   "metadata": {},
   "outputs": [],
   "source": [
    "# use 'get_dummies' with a feature that has 3 possible values\n",
    "pd.get_dummies(train.Embarked, prefix='Embarked').head(10)\n",
    "\n",
    "\n",
    "# drop the first dummy variable ('C')\n",
    "pd.get_dummies(train.Embarked, prefix='Embarked').iloc[:, 1:].head(10)\n",
    "\n",
    "# save the DataFrame of dummy variables and concatenate them to the original DataFrame\n",
    "embarked_dummies = pd.get_dummies(train.Embarked, prefix='Embarked').iloc[:, 1:]\n",
    "train = pd.concat([train, embarked_dummies], axis=1)\n",
    "train.head()\n",
    "\n",
    "# reset the DataFrame\n",
    "train = pd.read_csv('http://bit.ly/kaggletrain')\n",
    "train.head()\n",
    "\n",
    "\n",
    "# pass the DataFrame to 'get_dummies' and specify which columns to dummy (it drops the original columns)\n",
    "pd.get_dummies(train, columns=['Sex', 'Embarked']).head()\n",
    "                                            \n",
    "                                            \n",
    "pd.get_dummies(train,columns=['Sex','Embarked'],drop_first=True)"
   ]
  },
  {
   "cell_type": "code",
   "execution_count": null,
   "metadata": {},
   "outputs": [],
   "source": []
  },
  {
   "cell_type": "markdown",
   "metadata": {},
   "source": [
    "### split_list code"
   ]
  },
  {
   "cell_type": "code",
   "execution_count": 127,
   "metadata": {},
   "outputs": [],
   "source": [
    "### Create dataframe containing split string values by respondent number\n",
    "# more efficient than expanding along bool columns for each language\n",
    "def split_list(df, col):\n",
    "    \"\"\"Create a new dataframe that splits the values of multi-selection column col into individual selections and \n",
    "    places each selection value on a separate row. This new dataframe can be linked back to the original dataframe by \n",
    "    Respondent value.\n",
    "    \n",
    "    Args:\n",
    "    df: dataframe. Dataframe containing the multi-selection field col.\n",
    "       \n",
    "    Returns:\n",
    "    out_df: dataframe. New dataframe giving split values of col.\n",
    "    \"\"\"\n",
    "    \n",
    "    in_res = list(df.index)\n",
    "    in_list = list(df[col])\n",
    "    \n",
    "    out_res = []\n",
    "    out_list = []\n",
    "    \n",
    "    for i in range(len(in_list)):\n",
    "        if pd.isnull(in_list[i]) == False:\n",
    "            vals = in_list[i].split(';')\n",
    "            res = [in_res[i]]*len(vals)\n",
    "            \n",
    "            out_list.append(vals)\n",
    "            out_res.append(res)\n",
    "    \n",
    "    out_df = pd.DataFrame({'Respondent': list(np.concatenate(out_res)), col: list(np.concatenate(out_list))})\n",
    "    \n",
    "    return out_df"
   ]
  },
  {
   "cell_type": "code",
   "execution_count": 60,
   "metadata": {},
   "outputs": [
    {
     "data": {
      "text/html": [
       "<div>\n",
       "<style scoped>\n",
       "    .dataframe tbody tr th:only-of-type {\n",
       "        vertical-align: middle;\n",
       "    }\n",
       "\n",
       "    .dataframe tbody tr th {\n",
       "        vertical-align: top;\n",
       "    }\n",
       "\n",
       "    .dataframe thead th {\n",
       "        text-align: right;\n",
       "    }\n",
       "</style>\n",
       "<table border=\"1\" class=\"dataframe\">\n",
       "  <thead>\n",
       "    <tr style=\"text-align: right;\">\n",
       "      <th></th>\n",
       "      <th>Respondent</th>\n",
       "      <th>LanguageWorkedWith</th>\n",
       "    </tr>\n",
       "  </thead>\n",
       "  <tbody>\n",
       "    <tr>\n",
       "      <th>0</th>\n",
       "      <td>4</td>\n",
       "      <td>C</td>\n",
       "    </tr>\n",
       "    <tr>\n",
       "      <th>1</th>\n",
       "      <td>4</td>\n",
       "      <td>C++</td>\n",
       "    </tr>\n",
       "    <tr>\n",
       "      <th>2</th>\n",
       "      <td>4</td>\n",
       "      <td>C#</td>\n",
       "    </tr>\n",
       "    <tr>\n",
       "      <th>3</th>\n",
       "      <td>4</td>\n",
       "      <td>Python</td>\n",
       "    </tr>\n",
       "    <tr>\n",
       "      <th>4</th>\n",
       "      <td>4</td>\n",
       "      <td>SQL</td>\n",
       "    </tr>\n",
       "    <tr>\n",
       "      <th>5</th>\n",
       "      <td>5</td>\n",
       "      <td>C++</td>\n",
       "    </tr>\n",
       "    <tr>\n",
       "      <th>6</th>\n",
       "      <td>5</td>\n",
       "      <td>HTML/CSS</td>\n",
       "    </tr>\n",
       "    <tr>\n",
       "      <th>7</th>\n",
       "      <td>5</td>\n",
       "      <td>Java</td>\n",
       "    </tr>\n",
       "    <tr>\n",
       "      <th>8</th>\n",
       "      <td>5</td>\n",
       "      <td>JavaScript</td>\n",
       "    </tr>\n",
       "    <tr>\n",
       "      <th>9</th>\n",
       "      <td>5</td>\n",
       "      <td>Python</td>\n",
       "    </tr>\n",
       "    <tr>\n",
       "      <th>10</th>\n",
       "      <td>5</td>\n",
       "      <td>SQL</td>\n",
       "    </tr>\n",
       "    <tr>\n",
       "      <th>11</th>\n",
       "      <td>5</td>\n",
       "      <td>VBA</td>\n",
       "    </tr>\n",
       "    <tr>\n",
       "      <th>12</th>\n",
       "      <td>7</td>\n",
       "      <td>HTML/CSS</td>\n",
       "    </tr>\n",
       "    <tr>\n",
       "      <th>13</th>\n",
       "      <td>7</td>\n",
       "      <td>JavaScript</td>\n",
       "    </tr>\n",
       "    <tr>\n",
       "      <th>14</th>\n",
       "      <td>9</td>\n",
       "      <td>Bash/Shell/PowerShell</td>\n",
       "    </tr>\n",
       "    <tr>\n",
       "      <th>15</th>\n",
       "      <td>9</td>\n",
       "      <td>C#</td>\n",
       "    </tr>\n",
       "    <tr>\n",
       "      <th>16</th>\n",
       "      <td>9</td>\n",
       "      <td>HTML/CSS</td>\n",
       "    </tr>\n",
       "    <tr>\n",
       "      <th>17</th>\n",
       "      <td>9</td>\n",
       "      <td>JavaScript</td>\n",
       "    </tr>\n",
       "    <tr>\n",
       "      <th>18</th>\n",
       "      <td>9</td>\n",
       "      <td>Python</td>\n",
       "    </tr>\n",
       "    <tr>\n",
       "      <th>19</th>\n",
       "      <td>9</td>\n",
       "      <td>Ruby</td>\n",
       "    </tr>\n",
       "    <tr>\n",
       "      <th>20</th>\n",
       "      <td>9</td>\n",
       "      <td>Rust</td>\n",
       "    </tr>\n",
       "    <tr>\n",
       "      <th>21</th>\n",
       "      <td>9</td>\n",
       "      <td>SQL</td>\n",
       "    </tr>\n",
       "    <tr>\n",
       "      <th>22</th>\n",
       "      <td>9</td>\n",
       "      <td>TypeScript</td>\n",
       "    </tr>\n",
       "    <tr>\n",
       "      <th>23</th>\n",
       "      <td>9</td>\n",
       "      <td>WebAssembly</td>\n",
       "    </tr>\n",
       "    <tr>\n",
       "      <th>24</th>\n",
       "      <td>9</td>\n",
       "      <td>Other(s):</td>\n",
       "    </tr>\n",
       "    <tr>\n",
       "      <th>25</th>\n",
       "      <td>10</td>\n",
       "      <td>C#</td>\n",
       "    </tr>\n",
       "    <tr>\n",
       "      <th>26</th>\n",
       "      <td>10</td>\n",
       "      <td>Go</td>\n",
       "    </tr>\n",
       "    <tr>\n",
       "      <th>27</th>\n",
       "      <td>10</td>\n",
       "      <td>JavaScript</td>\n",
       "    </tr>\n",
       "    <tr>\n",
       "      <th>28</th>\n",
       "      <td>10</td>\n",
       "      <td>Python</td>\n",
       "    </tr>\n",
       "    <tr>\n",
       "      <th>29</th>\n",
       "      <td>10</td>\n",
       "      <td>R</td>\n",
       "    </tr>\n",
       "    <tr>\n",
       "      <th>...</th>\n",
       "      <td>...</td>\n",
       "      <td>...</td>\n",
       "    </tr>\n",
       "    <tr>\n",
       "      <th>329915</th>\n",
       "      <td>88877</td>\n",
       "      <td>Clojure</td>\n",
       "    </tr>\n",
       "    <tr>\n",
       "      <th>329916</th>\n",
       "      <td>88877</td>\n",
       "      <td>HTML/CSS</td>\n",
       "    </tr>\n",
       "    <tr>\n",
       "      <th>329917</th>\n",
       "      <td>88877</td>\n",
       "      <td>Java</td>\n",
       "    </tr>\n",
       "    <tr>\n",
       "      <th>329918</th>\n",
       "      <td>88877</td>\n",
       "      <td>Scala</td>\n",
       "    </tr>\n",
       "    <tr>\n",
       "      <th>329919</th>\n",
       "      <td>88877</td>\n",
       "      <td>Swift</td>\n",
       "    </tr>\n",
       "    <tr>\n",
       "      <th>329920</th>\n",
       "      <td>88877</td>\n",
       "      <td>Other(s):</td>\n",
       "    </tr>\n",
       "    <tr>\n",
       "      <th>329921</th>\n",
       "      <td>88878</td>\n",
       "      <td>HTML/CSS</td>\n",
       "    </tr>\n",
       "    <tr>\n",
       "      <th>329922</th>\n",
       "      <td>88878</td>\n",
       "      <td>JavaScript</td>\n",
       "    </tr>\n",
       "    <tr>\n",
       "      <th>329923</th>\n",
       "      <td>88878</td>\n",
       "      <td>Scala</td>\n",
       "    </tr>\n",
       "    <tr>\n",
       "      <th>329924</th>\n",
       "      <td>88878</td>\n",
       "      <td>TypeScript</td>\n",
       "    </tr>\n",
       "    <tr>\n",
       "      <th>329925</th>\n",
       "      <td>88879</td>\n",
       "      <td>Bash/Shell/PowerShell</td>\n",
       "    </tr>\n",
       "    <tr>\n",
       "      <th>329926</th>\n",
       "      <td>88879</td>\n",
       "      <td>C++</td>\n",
       "    </tr>\n",
       "    <tr>\n",
       "      <th>329927</th>\n",
       "      <td>88879</td>\n",
       "      <td>Python</td>\n",
       "    </tr>\n",
       "    <tr>\n",
       "      <th>329928</th>\n",
       "      <td>88881</td>\n",
       "      <td>Bash/Shell/PowerShell</td>\n",
       "    </tr>\n",
       "    <tr>\n",
       "      <th>329929</th>\n",
       "      <td>88881</td>\n",
       "      <td>Go</td>\n",
       "    </tr>\n",
       "    <tr>\n",
       "      <th>329930</th>\n",
       "      <td>88881</td>\n",
       "      <td>HTML/CSS</td>\n",
       "    </tr>\n",
       "    <tr>\n",
       "      <th>329931</th>\n",
       "      <td>88881</td>\n",
       "      <td>Java</td>\n",
       "    </tr>\n",
       "    <tr>\n",
       "      <th>329932</th>\n",
       "      <td>88881</td>\n",
       "      <td>JavaScript</td>\n",
       "    </tr>\n",
       "    <tr>\n",
       "      <th>329933</th>\n",
       "      <td>88881</td>\n",
       "      <td>Python</td>\n",
       "    </tr>\n",
       "    <tr>\n",
       "      <th>329934</th>\n",
       "      <td>88882</td>\n",
       "      <td>C#</td>\n",
       "    </tr>\n",
       "    <tr>\n",
       "      <th>329935</th>\n",
       "      <td>88882</td>\n",
       "      <td>HTML/CSS</td>\n",
       "    </tr>\n",
       "    <tr>\n",
       "      <th>329936</th>\n",
       "      <td>88882</td>\n",
       "      <td>Java</td>\n",
       "    </tr>\n",
       "    <tr>\n",
       "      <th>329937</th>\n",
       "      <td>88882</td>\n",
       "      <td>JavaScript</td>\n",
       "    </tr>\n",
       "    <tr>\n",
       "      <th>329938</th>\n",
       "      <td>88882</td>\n",
       "      <td>PHP</td>\n",
       "    </tr>\n",
       "    <tr>\n",
       "      <th>329939</th>\n",
       "      <td>88882</td>\n",
       "      <td>Python</td>\n",
       "    </tr>\n",
       "    <tr>\n",
       "      <th>329940</th>\n",
       "      <td>88883</td>\n",
       "      <td>Go</td>\n",
       "    </tr>\n",
       "    <tr>\n",
       "      <th>329941</th>\n",
       "      <td>88883</td>\n",
       "      <td>HTML/CSS</td>\n",
       "    </tr>\n",
       "    <tr>\n",
       "      <th>329942</th>\n",
       "      <td>88883</td>\n",
       "      <td>Java</td>\n",
       "    </tr>\n",
       "    <tr>\n",
       "      <th>329943</th>\n",
       "      <td>88883</td>\n",
       "      <td>JavaScript</td>\n",
       "    </tr>\n",
       "    <tr>\n",
       "      <th>329944</th>\n",
       "      <td>88883</td>\n",
       "      <td>Other(s):</td>\n",
       "    </tr>\n",
       "  </tbody>\n",
       "</table>\n",
       "<p>329945 rows × 2 columns</p>\n",
       "</div>"
      ],
      "text/plain": [
       "        Respondent     LanguageWorkedWith\n",
       "0                4                      C\n",
       "1                4                    C++\n",
       "2                4                     C#\n",
       "3                4                 Python\n",
       "4                4                    SQL\n",
       "5                5                    C++\n",
       "6                5               HTML/CSS\n",
       "7                5                   Java\n",
       "8                5             JavaScript\n",
       "9                5                 Python\n",
       "10               5                    SQL\n",
       "11               5                    VBA\n",
       "12               7               HTML/CSS\n",
       "13               7             JavaScript\n",
       "14               9  Bash/Shell/PowerShell\n",
       "15               9                     C#\n",
       "16               9               HTML/CSS\n",
       "17               9             JavaScript\n",
       "18               9                 Python\n",
       "19               9                   Ruby\n",
       "20               9                   Rust\n",
       "21               9                    SQL\n",
       "22               9             TypeScript\n",
       "23               9            WebAssembly\n",
       "24               9              Other(s):\n",
       "25              10                     C#\n",
       "26              10                     Go\n",
       "27              10             JavaScript\n",
       "28              10                 Python\n",
       "29              10                      R\n",
       "...            ...                    ...\n",
       "329915       88877                Clojure\n",
       "329916       88877               HTML/CSS\n",
       "329917       88877                   Java\n",
       "329918       88877                  Scala\n",
       "329919       88877                  Swift\n",
       "329920       88877              Other(s):\n",
       "329921       88878               HTML/CSS\n",
       "329922       88878             JavaScript\n",
       "329923       88878                  Scala\n",
       "329924       88878             TypeScript\n",
       "329925       88879  Bash/Shell/PowerShell\n",
       "329926       88879                    C++\n",
       "329927       88879                 Python\n",
       "329928       88881  Bash/Shell/PowerShell\n",
       "329929       88881                     Go\n",
       "329930       88881               HTML/CSS\n",
       "329931       88881                   Java\n",
       "329932       88881             JavaScript\n",
       "329933       88881                 Python\n",
       "329934       88882                     C#\n",
       "329935       88882               HTML/CSS\n",
       "329936       88882                   Java\n",
       "329937       88882             JavaScript\n",
       "329938       88882                    PHP\n",
       "329939       88882                 Python\n",
       "329940       88883                     Go\n",
       "329941       88883               HTML/CSS\n",
       "329942       88883                   Java\n",
       "329943       88883             JavaScript\n",
       "329944       88883              Other(s):\n",
       "\n",
       "[329945 rows x 2 columns]"
      ]
     },
     "execution_count": 60,
     "metadata": {},
     "output_type": "execute_result"
    }
   ],
   "source": [
    "split_list(survey,'LanguageWorkedWith')\n",
    "#survey.index"
   ]
  }
 ],
 "metadata": {
  "kernelspec": {
   "display_name": "Python [conda env:root] *",
   "language": "python",
   "name": "conda-root-py"
  },
  "language_info": {
   "codemirror_mode": {
    "name": "ipython",
    "version": 3
   },
   "file_extension": ".py",
   "mimetype": "text/x-python",
   "name": "python",
   "nbconvert_exporter": "python",
   "pygments_lexer": "ipython3",
   "version": "3.7.3"
  },
  "toc": {
   "base_numbering": 1,
   "nav_menu": {},
   "number_sections": true,
   "sideBar": false,
   "skip_h1_title": false,
   "title_cell": "Table of Contents",
   "title_sidebar": "Contents",
   "toc_cell": false,
   "toc_position": {
    "height": "695.556px",
    "left": "59.9861px",
    "top": "109.722px",
    "width": "317.535px"
   },
   "toc_section_display": true,
   "toc_window_display": true
  },
  "toc-autonumbering": true,
  "varInspector": {
   "cols": {
    "lenName": 16,
    "lenType": 16,
    "lenVar": 40
   },
   "kernels_config": {
    "python": {
     "delete_cmd_postfix": "",
     "delete_cmd_prefix": "del ",
     "library": "var_list.py",
     "varRefreshCmd": "print(var_dic_list())"
    },
    "r": {
     "delete_cmd_postfix": ") ",
     "delete_cmd_prefix": "rm(",
     "library": "var_list.r",
     "varRefreshCmd": "cat(var_dic_list()) "
    }
   },
   "position": {
    "height": "621.997px",
    "left": "1120px",
    "right": "20px",
    "top": "119px",
    "width": "680.764px"
   },
   "types_to_exclude": [
    "module",
    "function",
    "builtin_function_or_method",
    "instance",
    "_Feature"
   ],
   "window_display": false
  }
 },
 "nbformat": 4,
 "nbformat_minor": 2
}
