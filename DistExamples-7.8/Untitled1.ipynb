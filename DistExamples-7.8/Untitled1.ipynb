{
 "cells": [
  {
   "cell_type": "markdown",
   "metadata": {},
   "source": [
    "## ASSIGNMENT\n",
    "\n",
    "Choose 6 distributions from the list of random distributions available in NumPy, called “Distributions”\n",
    "\n",
    "For each distribution:\n",
    "\n",
    "1. Generate a random variable with 100 datapoints using the code distributionvar = np.random.distributionname([arguments], 100), replacing distributionvar with an appropriate variable name and distributionname with the name of the distribution you’ve chosen, and filling in the empty space in the parentheses with your chosen values for the appropriate parameters. If you feel uncertain about how to do this, go back to the “Other Distributions” assignment for examples of code to use as a starting point.\n",
    "2. Graph the variable using a histogram.\n",
    "3. Compute the mean and standard deviation and plot them as vertical lines on the histogram.\n",
    "4. Evaluate whether the descriptive statistics provided useful information about the variable. Can you identify any common characteristics of the distributions that could be usefully described using the mean and/or standard deviation, versus the ones that could not?\n",
    "\n",
    "\n",
    "Additionally:\n",
    "\n",
    "1. Generate two normally-distributed variables, one with a mean of 5 and standard deviation of 0.5, and the other with a mean of 10 and standard deviation of \n",
    "2. Add them together to create a third variable.\n",
    "3. Graph the third variable using a histogram.\n",
    "4. Compute the mean and standard deviation and plot them as vertical lines on the histogram.\n",
    "5. Evaluate the descriptive statistics against the data.\n",
    "\n"
   ]
  },
  {
   "cell_type": "markdown",
   "metadata": {},
   "source": [
    "1. Weibull (good psychometric curve)\n",
    "\n",
    "\\begin{equation}\n",
    "p(x) = \\frac{a}\n",
    "{\\lambda}(\\frac{x}{\\lambda})^{a-1}e^{-(x/\\lambda)^a},\n",
    "\\end{equation}\n",
    "\n",
    "for a = 1, this collapses ot an exponential.\n",
    "\n",
    "2. Exponential\n",
    "\n",
    "\\begin{equation}\n",
    "f(x; \\frac{1}{\\beta}) = \\frac{1}{\\beta} \\exp(-\\frac{x}{\\beta}),\n",
    "\\end{equation}\n",
    "\n",
    "3. Poisson\n",
    "\n",
    "\\begin{equation}\n",
    "f(k; \\lambda)=\\frac{\\lambda^k e^{-\\lambda}}{k!}\n",
    "\\end{equation}\n",
    "\n",
    "4. Gamma\n",
    "The probability density for the Gamma distribution is\n",
    "where k is the shape and $\\theta$ the scale, and $\\Gamma$ is the Gamma function.\n",
    "\\begin{equation}\n",
    "p(x) = x^{k-1}\\frac{e^{-x/\\theta}}{\\theta^k\\Gamma(k)},\n",
    "\\end{equation}\n",
    "\n",
    "5. Chisquare\n",
    "\\begin{equation}\n",
    "Q = \\sum_{i=0}^{\\mathtt{df}} X^2_i\n",
    "is chi-square distributed, denoted\n",
    "\\end{equation}\n",
    "\n",
    "\\begin{equation}\n",
    "Q \\sim \\chi^2_k.\n",
    "\\end{equation}\n",
    "\n",
    "The probability density function of the chi-squared distribution is\n",
    "\n",
    "\\begin{equation}\n",
    "p(x) = \\frac{(1/2)^{k/2}}{\\Gamma(k/2)}\n",
    "x^{k/2 - 1} e^{-x/2},\n",
    "\\end{equation}\n",
    "\n",
    "where $\\Gamma$ is the gamma function,\n",
    "\n",
    "\\begin{equation}\n",
    "\\Gamma(x) = \\int_0^{-\\infty} t^{x - 1} e^{-t} dt.\n",
    "\\end{equation}\n",
    "\n",
    "\n",
    "6. Beta\n",
    "\\begin{equation}\n",
    "f(x; a,b) = \\frac{1}{B(\\alpha, \\beta)} x^{\\alpha - 1}\n",
    "(1 - x)^{\\beta - 1},\n",
    "\\end{equation}\n",
    "where the normalisation, B, is the beta function,\n",
    "\n",
    "\\begin{equation}\n",
    "B(\\alpha, \\beta) = \\int_0^1 t^{\\alpha - 1}\n",
    "(1 - t)^{\\beta - 1} dt.\n",
    "\\end{equation}\n",
    "\n"
   ]
  },
  {
   "cell_type": "markdown",
   "metadata": {},
   "source": [
    "## 1. Weibull (good psychometric curve)\n",
    "\n",
    "\\begin{equation}\n",
    "p(x) = \\frac{a}\n",
    "{\\lambda}(\\frac{x}{\\lambda})^{a-1}e^{-(x/\\lambda)^a},\n",
    "\\end{equation}\n",
    "\n",
    "for a = 1, this collapses ot an exponential.\n",
    "\n",
    "\n"
   ]
  },
  {
   "cell_type": "code",
   "execution_count": null,
   "metadata": {},
   "outputs": [],
   "source": []
  },
  {
   "cell_type": "markdown",
   "metadata": {},
   "source": [
    "2. Exponential\n",
    "\n",
    "\\begin{equation}\n",
    "f(x; \\frac{1}{\\beta}) = \\frac{1}{\\beta} \\exp(-\\frac{x}{\\beta}),\n",
    "\\end{equation}"
   ]
  },
  {
   "cell_type": "markdown",
   "metadata": {},
   "source": [
    "3. Poisson\n",
    "\n",
    "\\begin{equation}\n",
    "f(k; \\lambda)=\\frac{\\lambda^k e^{-\\lambda}}{k!}\n",
    "\\end{equation}\n"
   ]
  },
  {
   "cell_type": "markdown",
   "metadata": {},
   "source": [
    "4. Gamma\n",
    "The probability density for the Gamma distribution is\n",
    "where k is the shape and $\\theta$ the scale, and $\\Gamma$ is the Gamma function.\n",
    "\\begin{equation}\n",
    "p(x) = x^{k-1}\\frac{e^{-x/\\theta}}{\\theta^k\\Gamma(k)},\n",
    "\\end{equation}"
   ]
  },
  {
   "cell_type": "code",
   "execution_count": 3,
   "metadata": {},
   "outputs": [],
   "source": [
    "import numpy as np\n",
    "import pandas as pd\n",
    "import matplotlib.pyplot as plt\n",
    "%matplotlib inline"
   ]
  },
  {
   "cell_type": "markdown",
   "metadata": {},
   "source": [
    "5. Chisquare\n",
    "\\begin{equation}\n",
    "Q = \\sum_{i=0}^{\\mathtt{df}} X^2_i\n",
    "is chi-square distributed, denoted\n",
    "\\end{equation}\n",
    "\n",
    "\\begin{equation}\n",
    "Q \\sim \\chi^2_k.\n",
    "\\end{equation}\n",
    "\n",
    "The probability density function of the chi-squared distribution is\n",
    "\n",
    "\\begin{equation}\n",
    "p(x) = \\frac{(1/2)^{k/2}}{\\Gamma(k/2)}\n",
    "x^{k/2 - 1} e^{-x/2},\n",
    "\\end{equation}\n",
    "\n",
    "where $\\Gamma$ is the gamma function,\n",
    "\n",
    "\\begin{equation}\n",
    "\\Gamma(x) = \\int_0^{-\\infty} t^{x - 1} e^{-t} dt.\n",
    "\\end{equation}"
   ]
  },
  {
   "cell_type": "markdown",
   "metadata": {},
   "source": [
    "6. Beta\n",
    "\\begin{equation}\n",
    "f(x; a,b) = \\frac{1}{B(\\alpha, \\beta)} x^{\\alpha - 1}\n",
    "(1 - x)^{\\beta - 1},\n",
    "\\end{equation}\n",
    "where the normalisation, B, is the beta function,\n",
    "\n",
    "\\begin{equation}\n",
    "B(\\alpha, \\beta) = \\int_0^1 t^{\\alpha - 1}\n",
    "(1 - t)^{\\beta - 1} dt.\n",
    "\\end{equation}"
   ]
  },
  {
   "cell_type": "code",
   "execution_count": 7,
   "metadata": {},
   "outputs": [],
   "source": [
    "def plot_distributions(rand1):\n",
    "    #Plot a histogram for rand1.\n",
    "    plt.hist(rand1, bins=20, color='c')\n",
    "    # Add a vertical line at the mean.\n",
    "    plt.axvline(rand1.mean(), color='b', linestyle='solid', linewidth=2)\n",
    "    # Add a vertical line at one standard deviation above the mean.\n",
    "    plt.axvline(rand1.mean() + rand1.std(), color='b', linestyle='dashed', linewidth=2)\n",
    "    # Add a vertical line at one standard deviation below the mean.\n",
    "    plt.axvline(rand1.mean()-rand1.std(), color='b', linestyle='dashed', linewidth=2) \n",
    "    # Print the histogram.\n",
    "    plt.show()"
   ]
  },
  {
   "cell_type": "code",
   "execution_count": 8,
   "metadata": {},
   "outputs": [
    {
     "data": {
      "image/png": "[encoded data removed]",
      "text/plain": [
       "<Figure size 432x288 with 1 Axes>"
      ]
     },
     "metadata": {
      "needs_background": "light"
     },
     "output_type": "display_data"
    },
    {
     "data": {
      "image/png": "[encoded data removed]",
      "text/plain": [
       "<Figure size 432x288 with 1 Axes>"
      ]
     },
     "metadata": {
      "needs_background": "light"
     },
     "output_type": "display_data"
    }
   ],
   "source": [
    "#weibull\n",
    "npoints = 100\n",
    "a = 5. # shape\n",
    "s = np.random.weibull(a, npoints)\n",
    "\n",
    "plot_distributions(s)\n",
    "\n",
    "import matplotlib.pyplot as plt\n",
    "x = np.arange(1,100.)/50.\n",
    "def weib(x,n,a):\n",
    "     return (a / n) * (x / n)**(a - 1) * np.exp(-(x / n)**a)\n",
    "count, bins, ignored = plt.hist(np.random.weibull(5.,npoints))\n",
    "x = np.arange(1,100.)/50.\n",
    "scale = count.max()/weib(x, 1., 5.).max()\n",
    "plt.plot(x, weib(x, 1., 5.)*scale)\n",
    "plt.show()\n",
    "\n"
   ]
  },
  {
   "cell_type": "code",
   "execution_count": 10,
   "metadata": {},
   "outputs": [
    {
     "data": {
      "image/png": "[encoded data removed]",
      "text/plain": [
       "<Figure size 432x288 with 1 Axes>"
      ]
     },
     "metadata": {
      "needs_background": "light"
     },
     "output_type": "display_data"
    },
    {
     "data": {
      "image/png": "[encoded data removed]",
      "text/plain": [
       "<Figure size 432x288 with 1 Axes>"
      ]
     },
     "metadata": {
      "needs_background": "light"
     },
     "output_type": "display_data"
    },
    {
     "data": {
      "image/png": "[encoded data removed]",
      "text/plain": [
       "<Figure size 432x288 with 1 Axes>"
      ]
     },
     "metadata": {
      "needs_background": "light"
     },
     "output_type": "display_data"
    }
   ],
   "source": [
    "\n",
    "\n",
    "#poisson\n",
    "#s = np.random.poisson(lam=(100., 500.), size=(100, 2))\n",
    "#plot_distributions(s)\n",
    "    \n",
    "    \n",
    "    \n",
    "#gamma\n",
    "shape, scale = 2., 2.  # mean=4, std=2*sqrt(2)\n",
    "s = np.random.gamma(shape, scale, npoints)\n",
    "plot_distributions(s)\n",
    "\n",
    "#chisq\n",
    "s=np.random.chisquare(2,npoints)\n",
    "plot_distributions(s)\n"
   ]
  },
  {
   "cell_type": "code",
   "execution_count": null,
   "metadata": {},
   "outputs": [],
   "source": [
    "def summarystats(ages):\n",
    "    print(\"mean: \",np.mean(ages))\n",
    "    print(\"median: \",np.median(ages))\n",
    "    print(\"variance: \",np.var(ages))\n",
    "    print(\"std. deviation :\",np.std(ages))\n",
    "    print(\"standard error :\",np.std(ages)/np.sqrt(len(ages)-1))\n",
    "  "
   ]
  }
 ],
 "metadata": {
  "kernelspec": {
   "display_name": "Python [conda env:root] *",
   "language": "python",
   "name": "conda-root-py"
  },
  "language_info": {
   "codemirror_mode": {
    "name": "ipython",
    "version": 3
   },
   "file_extension": ".py",
   "mimetype": "text/x-python",
   "name": "python",
   "nbconvert_exporter": "python",
   "pygments_lexer": "ipython3",
   "version": "3.7.3"
  }
 },
 "nbformat": 4,
 "nbformat_minor": 2
}
