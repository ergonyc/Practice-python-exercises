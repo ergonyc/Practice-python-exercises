{
 "cells": [
  {
   "cell_type": "markdown",
   "metadata": {},
   "source": [
    "## Assignments\n",
    "\n",
    " 1. Greg was 14, Marcia was 12, Peter was 11, Jan was 10, Bobby was 8, and Cindy was 6 when they started playing the Brady kids on The Brady Bunch.  Cousin Oliver was 8 years old when he joined the show. What are the mean, median, and mode of the kids' ages when they first appeared on the show? What are the variance, standard deviation, and standard error?\n",
    " 2. Using these estimates, if you had to choose only one estimate of central tendency and one estimate of variance to describe the data, which would you pick and why?\n",
    " 3. Next, Cindy has a birthday. Update your estimates- what changed, and what didn't?\n",
    " 4. Nobody likes Cousin Oliver. Maybe the network should have used an even younger actor. Replace Cousin Oliver with 1-year-old Jessica, then recalculate again.  Does this change your choice of central tendency or variance estimation methods?\n",
    " 5. On the 50th anniversary of The Brady Bunch, four different magazines asked their readers whether they were fans of the show.  The answers were:\n",
    "    TV Guide            20% fans\n",
    "    Entertainment Weekly    23% fans\n",
    "    Pop Culture Today       17% fans\n",
    "    SciPhi Phanatic     5% fans\n",
    "\n",
    "Based on these numbers, what percentage of adult Americans would you estimate were Brady Bunch fans on the 50th anniversary of the show?"
   ]
  },
  {
   "cell_type": "code",
   "execution_count": 2,
   "metadata": {},
   "outputs": [],
   "source": [
    "import pandas as pd\n",
    "import matplotlib.pyplot as plt\n",
    "import numpy as np\n",
    "\n",
    "pd.set_option(\"display.max_rows\", 10)\n",
    "\n",
    "# Make a blank data frame.\n",
    "df = pd.DataFrame()\n",
    "# Populate it with data.\n",
    "df['age'] = [14,12,11,10,8,6,8]\n",
    "df['name'] = ['Greg', 'Marcia', 'Peter', 'Jan', 'Bobby','Cindy','Oliver'] "
   ]
  },
  {
   "cell_type": "markdown",
   "metadata": {},
   "source": [
    "## Answer: Q1"
   ]
  },
  {
   "cell_type": "code",
   "execution_count": 23,
   "metadata": {},
   "outputs": [
    {
     "name": "stdout",
     "output_type": "stream",
     "text": [
      "total Kids (count)  7\n",
      "mean: 9.857142857142858\n",
      "median:  10.0\n",
      "mode:  8\n",
      "variance:  7.48\n",
      "standard deviation: 2.73\n",
      "standard error: 1.03\n"
     ]
    }
   ],
   "source": [
    "print(\"total Kids (count) \", df.age.count())\n",
    "\n",
    "print(\"mean: {}\".format( df.age.mean()))\n",
    "print(\"median: \",df.age.median())\n",
    "print(\"mode: \",df.age.mode()[0])\n",
    "\n",
    "print(\"variance:  {:.2f}\".format(df.age.var()) )\n",
    "print(\"standard deviation: {:.2f}\".format(df.age.std()) )\n",
    "print(\"standard error: {:.2f}\".format(df.age.sem()) )\n"
   ]
  },
  {
   "cell_type": "markdown",
   "metadata": {},
   "source": [
    "## Answer: Q2\n",
    "\n",
    "I would use median and standard deviation as the most useful central tendency and variance to describe the data.  Median because ages are intuitive as whole numbers, and standard devation because it gives a good sense of the distribution of ages under a Normal hypothesis."
   ]
  },
  {
   "cell_type": "code",
   "execution_count": 24,
   "metadata": {},
   "outputs": [
    {
     "name": "stdout",
     "output_type": "stream",
     "text": [
      "mean:  10.0\n",
      "median:  10.0\n",
      "mode:  8\n",
      "variance:  6.33\n",
      "standard deviation: 2.52\n",
      "standard error: 0.95\n"
     ]
    }
   ],
   "source": [
    "df['new_age'] = [14,12,11,10,8,7,8]\n",
    "\n",
    "print(\"mean: \",df.new_age.mean())\n",
    "print(\"median: \",df.new_age.median())\n",
    "print(\"mode: \",df.new_age.mode()[0])\n",
    "\n",
    "print(\"variance:  {:.2f}\".format(df.new_age.var()) )\n",
    "print(\"standard deviation: {:.2f}\".format(df.new_age.std()) )\n",
    "print(\"standard error: {:.2f}\".format(df.new_age.sem()) )"
   ]
  },
  {
   "cell_type": "raw",
   "metadata": {},
   "source": [
    "## Answer: Q3"
   ]
  },
  {
   "cell_type": "markdown",
   "metadata": {},
   "source": [
    "## Answer: Q3\n",
    "   I still like to use the median as the central tendancy and standard deviation as the measure of spread, despite the changes."
   ]
  },
  {
   "cell_type": "code",
   "execution_count": 25,
   "metadata": {},
   "outputs": [
    {
     "name": "stdout",
     "output_type": "stream",
     "text": [
      "mean:  9.0\n",
      "median:  10.0\n",
      "mode:  1\n",
      "variance:  18.00\n",
      "standard deviation: 4.24\n",
      "standard error: 1.60\n"
     ]
    }
   ],
   "source": [
    "df['new_age2'] = [14,12,11,10,8,7,1]\n",
    "df['name'] = ['Greg', 'Marcia', 'Peter', 'Jan', 'Bobby','Cindy','Jessica'] \n",
    "\n",
    "print(\"mean: \",df.new_age2.mean())\n",
    "print(\"median: \",df.new_age2.median())\n",
    "print(\"mode: \",df.new_age2.mode()[0])\n",
    "\n",
    "print(\"variance:  {:.2f}\".format(df.new_age2.var()) )\n",
    "print(\"standard deviation: {:.2f}\".format(df.new_age2.std()) )\n",
    "print(\"standard error: {:.2f}\".format(df.new_age2.sem()) )"
   ]
  },
  {
   "cell_type": "markdown",
   "metadata": {},
   "source": [
    "## Answer: Q4\n",
    "   I still like to use the median as the central tendancy and standard deviation as the measure of spread, despite the changes."
   ]
  },
  {
   "cell_type": "markdown",
   "metadata": {},
   "source": [
    "## Answer: Q5\n",
    "   Assuming that the magazines reader demographics are ALL reasonable aproximations for US adults, the average of the proportion of fans across the surveys will provide a reasonable estimate of adult American Brady Bunch fans. \n",
    "    "
   ]
  },
  {
   "cell_type": "code",
   "execution_count": 26,
   "metadata": {},
   "outputs": [
    {
     "name": "stdout",
     "output_type": "stream",
     "text": [
      "Percent of American adults who are Brady Bunch Fans: 16.25%\n"
     ]
    }
   ],
   "source": [
    "pct_fans = np.array([20, 23, 17, 5])\n",
    "print(\"Percent of American adults who are Brady Bunch Fans: {}%\".format(pct_fans.mean()))"
   ]
  },
  {
   "cell_type": "code",
   "execution_count": null,
   "metadata": {},
   "outputs": [],
   "source": []
  },
  {
   "cell_type": "code",
   "execution_count": null,
   "metadata": {},
   "outputs": [],
   "source": []
  }
 ],
 "metadata": {
  "kernelspec": {
   "display_name": "Python 3",
   "language": "python",
   "name": "python3"
  },
  "language_info": {
   "codemirror_mode": {
    "name": "ipython",
    "version": 3
   },
   "file_extension": ".py",
   "mimetype": "text/x-python",
   "name": "python",
   "nbconvert_exporter": "python",
   "pygments_lexer": "ipython3",
   "version": "3.7.3"
  }
 },
 "nbformat": 4,
 "nbformat_minor": 2
}
